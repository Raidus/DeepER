{
 "cells": [
  {
   "cell_type": "code",
   "execution_count": 1,
   "metadata": {
    "ExecuteTime": {
     "end_time": "2020-03-30T17:25:18.271285Z",
     "start_time": "2020-03-30T17:25:16.210455Z"
    }
   },
   "outputs": [
    {
     "name": "stderr",
     "output_type": "stream",
     "text": [
      "Using TensorFlow backend.\n"
     ]
    }
   ],
   "source": [
    "from explanation.mojito2 import getMixedTriangles,createPerturbationsFromTriangle\n",
    "from deeper.deeper_utils import dataset_tolist"
   ]
  },
  {
   "cell_type": "code",
   "execution_count": 2,
   "metadata": {
    "ExecuteTime": {
     "end_time": "2020-03-30T17:25:19.044309Z",
     "start_time": "2020-03-30T17:25:18.272987Z"
    }
   },
   "outputs": [],
   "source": [
    "import pandas as pd\n",
    "data = pd.read_csv('datasets/itunes_amazon/augmented_test.csv')\n",
    "itunes = pd.read_csv('datasets/itunes_amazon/itunes.csv',dtype=str)\n",
    "amazon = pd.read_csv('datasets/itunes_amazon/amazon.csv',dtype=str)\n",
    "allTriangles = getMixedTriangles(data,[itunes,amazon])"
   ]
  },
  {
   "cell_type": "code",
   "execution_count": 6,
   "metadata": {
    "ExecuteTime": {
     "end_time": "2020-03-29T18:51:47.556947Z",
     "start_time": "2020-03-29T18:51:47.540258Z"
    }
   },
   "outputs": [
    {
     "data": {
      "text/plain": [
       "82"
      ]
     },
     "execution_count": 6,
     "metadata": {},
     "output_type": "execute_result"
    }
   ],
   "source": [
    "len(allTriangles)"
   ]
  },
  {
   "cell_type": "code",
   "execution_count": 7,
   "metadata": {
    "ExecuteTime": {
     "end_time": "2020-03-29T18:52:15.315009Z",
     "start_time": "2020-03-29T18:52:15.310001Z"
    }
   },
   "outputs": [],
   "source": [
    "attributes = [col for col in itunes.columns if col not in ['id']]"
   ]
  },
  {
   "cell_type": "code",
   "execution_count": 19,
   "metadata": {
    "ExecuteTime": {
     "end_time": "2020-03-29T18:59:45.144623Z",
     "start_time": "2020-03-29T18:59:45.121252Z"
    }
   },
   "outputs": [],
   "source": [
    "perturbations,pertattr = createPerturbationsFromTriangle(allTriangles[1],attributes,1,1)\n",
    "perturbations['changedAttribute'] = pertattr"
   ]
  },
  {
   "cell_type": "code",
   "execution_count": 20,
   "metadata": {
    "ExecuteTime": {
     "end_time": "2020-03-29T18:59:45.871768Z",
     "start_time": "2020-03-29T18:59:45.793070Z"
    }
   },
   "outputs": [
    {
     "data": {
      "text/html": [
       "<div>\n",
       "<style scoped>\n",
       "    .dataframe tbody tr th:only-of-type {\n",
       "        vertical-align: middle;\n",
       "    }\n",
       "\n",
       "    .dataframe tbody tr th {\n",
       "        vertical-align: top;\n",
       "    }\n",
       "\n",
       "    .dataframe thead th {\n",
       "        text-align: right;\n",
       "    }\n",
       "</style>\n",
       "<table border=\"1\" class=\"dataframe\">\n",
       "  <thead>\n",
       "    <tr style=\"text-align: right;\">\n",
       "      <th></th>\n",
       "      <th>ltable_Song_Name</th>\n",
       "      <th>ltable_Artist_Name</th>\n",
       "      <th>ltable_Album_Name</th>\n",
       "      <th>ltable_Genre</th>\n",
       "      <th>ltable_Price</th>\n",
       "      <th>ltable_CopyRight</th>\n",
       "      <th>ltable_Time</th>\n",
       "      <th>ltable_Released</th>\n",
       "      <th>rtable_Song_Name</th>\n",
       "      <th>rtable_Artist_Name</th>\n",
       "      <th>rtable_Album_Name</th>\n",
       "      <th>rtable_Genre</th>\n",
       "      <th>rtable_Price</th>\n",
       "      <th>rtable_CopyRight</th>\n",
       "      <th>rtable_Time</th>\n",
       "      <th>rtable_Released</th>\n",
       "      <th>changedAttribute</th>\n",
       "    </tr>\n",
       "  </thead>\n",
       "  <tbody>\n",
       "    <tr>\n",
       "      <th>0</th>\n",
       "      <td>Speakers</td>\n",
       "      <td>Sam Hunt</td>\n",
       "      <td>Montevallo</td>\n",
       "      <td>Country</td>\n",
       "      <td>$ 1.29</td>\n",
       "      <td>( C ) 2014 MCA Nashville , a Division of UMG R...</td>\n",
       "      <td>3:48</td>\n",
       "      <td>October 27 , 2014</td>\n",
       "      <td>Where Did It All Go Wrong ?</td>\n",
       "      <td>Sam Hunt</td>\n",
       "      <td>Montevallo</td>\n",
       "      <td>Country , Music , Pop , Pop/Rock , Honky Tonk ...</td>\n",
       "      <td>$ 1.29</td>\n",
       "      <td>2014 MCA Nashville , a Division of UMG Recordi...</td>\n",
       "      <td>3:46</td>\n",
       "      <td>27-Oct-14</td>\n",
       "      <td>(Song_Name,)</td>\n",
       "    </tr>\n",
       "    <tr>\n",
       "      <th>1</th>\n",
       "      <td>Speakers</td>\n",
       "      <td>Sam Hunt</td>\n",
       "      <td>Montevallo</td>\n",
       "      <td>Country</td>\n",
       "      <td>$ 1.29</td>\n",
       "      <td>( C ) 2014 MCA Nashville , a Division of UMG R...</td>\n",
       "      <td>3:48</td>\n",
       "      <td>October 27 , 2014</td>\n",
       "      <td>Speakers</td>\n",
       "      <td>U2</td>\n",
       "      <td>Montevallo</td>\n",
       "      <td>Country , Music , Pop , Pop/Rock , Honky Tonk ...</td>\n",
       "      <td>$ 1.29</td>\n",
       "      <td>2014 MCA Nashville , a Division of UMG Recordi...</td>\n",
       "      <td>3:46</td>\n",
       "      <td>27-Oct-14</td>\n",
       "      <td>(Artist_Name,)</td>\n",
       "    </tr>\n",
       "    <tr>\n",
       "      <th>2</th>\n",
       "      <td>Speakers</td>\n",
       "      <td>Sam Hunt</td>\n",
       "      <td>Montevallo</td>\n",
       "      <td>Country</td>\n",
       "      <td>$ 1.29</td>\n",
       "      <td>( C ) 2014 MCA Nashville , a Division of UMG R...</td>\n",
       "      <td>3:48</td>\n",
       "      <td>October 27 , 2014</td>\n",
       "      <td>Speakers</td>\n",
       "      <td>Sam Hunt</td>\n",
       "      <td>Achtung Baby ( Deluxe Edition )</td>\n",
       "      <td>Country , Music , Pop , Pop/Rock , Honky Tonk ...</td>\n",
       "      <td>$ 1.29</td>\n",
       "      <td>2014 MCA Nashville , a Division of UMG Recordi...</td>\n",
       "      <td>3:46</td>\n",
       "      <td>27-Oct-14</td>\n",
       "      <td>(Album_Name,)</td>\n",
       "    </tr>\n",
       "    <tr>\n",
       "      <th>3</th>\n",
       "      <td>Speakers</td>\n",
       "      <td>Sam Hunt</td>\n",
       "      <td>Montevallo</td>\n",
       "      <td>Country</td>\n",
       "      <td>$ 1.29</td>\n",
       "      <td>( C ) 2014 MCA Nashville , a Division of UMG R...</td>\n",
       "      <td>3:48</td>\n",
       "      <td>October 27 , 2014</td>\n",
       "      <td>Speakers</td>\n",
       "      <td>Sam Hunt</td>\n",
       "      <td>Montevallo</td>\n",
       "      <td>Rock</td>\n",
       "      <td>$ 1.29</td>\n",
       "      <td>2014 MCA Nashville , a Division of UMG Recordi...</td>\n",
       "      <td>3:46</td>\n",
       "      <td>27-Oct-14</td>\n",
       "      <td>(Genre,)</td>\n",
       "    </tr>\n",
       "    <tr>\n",
       "      <th>4</th>\n",
       "      <td>Speakers</td>\n",
       "      <td>Sam Hunt</td>\n",
       "      <td>Montevallo</td>\n",
       "      <td>Country</td>\n",
       "      <td>$ 1.29</td>\n",
       "      <td>( C ) 2014 MCA Nashville , a Division of UMG R...</td>\n",
       "      <td>3:48</td>\n",
       "      <td>October 27 , 2014</td>\n",
       "      <td>Speakers</td>\n",
       "      <td>Sam Hunt</td>\n",
       "      <td>Montevallo</td>\n",
       "      <td>Country , Music , Pop , Pop/Rock , Honky Tonk ...</td>\n",
       "      <td>$ 1.29</td>\n",
       "      <td>2014 MCA Nashville , a Division of UMG Recordi...</td>\n",
       "      <td>3:46</td>\n",
       "      <td>27-Oct-14</td>\n",
       "      <td>(Price,)</td>\n",
       "    </tr>\n",
       "    <tr>\n",
       "      <th>5</th>\n",
       "      <td>Speakers</td>\n",
       "      <td>Sam Hunt</td>\n",
       "      <td>Montevallo</td>\n",
       "      <td>Country</td>\n",
       "      <td>$ 1.29</td>\n",
       "      <td>( C ) 2014 MCA Nashville , a Division of UMG R...</td>\n",
       "      <td>3:48</td>\n",
       "      <td>October 27 , 2014</td>\n",
       "      <td>Speakers</td>\n",
       "      <td>Sam Hunt</td>\n",
       "      <td>Montevallo</td>\n",
       "      <td>Country , Music , Pop , Pop/Rock , Honky Tonk ...</td>\n",
       "      <td>$ 1.29</td>\n",
       "      <td>( C ) 2011 Universal-Island Records Limited un...</td>\n",
       "      <td>3:46</td>\n",
       "      <td>27-Oct-14</td>\n",
       "      <td>(CopyRight,)</td>\n",
       "    </tr>\n",
       "    <tr>\n",
       "      <th>6</th>\n",
       "      <td>Speakers</td>\n",
       "      <td>Sam Hunt</td>\n",
       "      <td>Montevallo</td>\n",
       "      <td>Country</td>\n",
       "      <td>$ 1.29</td>\n",
       "      <td>( C ) 2014 MCA Nashville , a Division of UMG R...</td>\n",
       "      <td>3:48</td>\n",
       "      <td>October 27 , 2014</td>\n",
       "      <td>Speakers</td>\n",
       "      <td>Sam Hunt</td>\n",
       "      <td>Montevallo</td>\n",
       "      <td>Country , Music , Pop , Pop/Rock , Honky Tonk ...</td>\n",
       "      <td>$ 1.29</td>\n",
       "      <td>2014 MCA Nashville , a Division of UMG Recordi...</td>\n",
       "      <td>3:56</td>\n",
       "      <td>27-Oct-14</td>\n",
       "      <td>(Time,)</td>\n",
       "    </tr>\n",
       "    <tr>\n",
       "      <th>7</th>\n",
       "      <td>Speakers</td>\n",
       "      <td>Sam Hunt</td>\n",
       "      <td>Montevallo</td>\n",
       "      <td>Country</td>\n",
       "      <td>$ 1.29</td>\n",
       "      <td>( C ) 2014 MCA Nashville , a Division of UMG R...</td>\n",
       "      <td>3:48</td>\n",
       "      <td>October 27 , 2014</td>\n",
       "      <td>Speakers</td>\n",
       "      <td>Sam Hunt</td>\n",
       "      <td>Montevallo</td>\n",
       "      <td>Country , Music , Pop , Pop/Rock , Honky Tonk ...</td>\n",
       "      <td>$ 1.29</td>\n",
       "      <td>2014 MCA Nashville , a Division of UMG Recordi...</td>\n",
       "      <td>3:46</td>\n",
       "      <td>October 31 , 2011</td>\n",
       "      <td>(Released,)</td>\n",
       "    </tr>\n",
       "  </tbody>\n",
       "</table>\n",
       "</div>"
      ],
      "text/plain": [
       "  ltable_Song_Name ltable_Artist_Name  ...    rtable_Released changedAttribute\n",
       "0         Speakers           Sam Hunt  ...          27-Oct-14     (Song_Name,)\n",
       "1         Speakers           Sam Hunt  ...          27-Oct-14   (Artist_Name,)\n",
       "2         Speakers           Sam Hunt  ...          27-Oct-14    (Album_Name,)\n",
       "3         Speakers           Sam Hunt  ...          27-Oct-14         (Genre,)\n",
       "4         Speakers           Sam Hunt  ...          27-Oct-14         (Price,)\n",
       "5         Speakers           Sam Hunt  ...          27-Oct-14     (CopyRight,)\n",
       "6         Speakers           Sam Hunt  ...          27-Oct-14          (Time,)\n",
       "7         Speakers           Sam Hunt  ...  October 31 , 2011      (Released,)\n",
       "\n",
       "[8 rows x 17 columns]"
      ]
     },
     "execution_count": 20,
     "metadata": {},
     "output_type": "execute_result"
    }
   ],
   "source": [
    "perturbations.head(8)"
   ]
  },
  {
   "cell_type": "code",
   "execution_count": 16,
   "metadata": {
    "ExecuteTime": {
     "end_time": "2020-03-29T18:55:51.126664Z",
     "start_time": "2020-03-29T18:55:51.102467Z"
    }
   },
   "outputs": [],
   "source": [
    "datalist = dataset_tolist(perturbations,'ltable_','rtable_',ignore_columns=['changedAttribute'])"
   ]
  },
  {
   "cell_type": "code",
   "execution_count": 18,
   "metadata": {
    "ExecuteTime": {
     "end_time": "2020-03-29T18:56:31.264763Z",
     "start_time": "2020-03-29T18:56:31.255590Z"
    }
   },
   "outputs": [
    {
     "data": {
      "text/plain": [
       "(['Speakers',\n",
       "  'Sam',\n",
       "  'Hunt',\n",
       "  'Montevallo',\n",
       "  'Country',\n",
       "  '$',\n",
       "  '1.29',\n",
       "  '(',\n",
       "  'C',\n",
       "  ')',\n",
       "  '2014',\n",
       "  'MCA',\n",
       "  'Nashville',\n",
       "  ',',\n",
       "  'a',\n",
       "  'Division',\n",
       "  'of',\n",
       "  'UMG',\n",
       "  'Recordings',\n",
       "  ',',\n",
       "  'Inc.',\n",
       "  '3:48',\n",
       "  'October',\n",
       "  '27',\n",
       "  ',',\n",
       "  '2014'],\n",
       " ['Speakers',\n",
       "  'U2',\n",
       "  'Achtung',\n",
       "  'Baby',\n",
       "  '(',\n",
       "  'Deluxe',\n",
       "  'Edition',\n",
       "  ')',\n",
       "  'Rock',\n",
       "  '$',\n",
       "  '1.29',\n",
       "  '(',\n",
       "  'C',\n",
       "  ')',\n",
       "  '2011',\n",
       "  'Universal-Island',\n",
       "  'Records',\n",
       "  'Limited',\n",
       "  'under',\n",
       "  'exclusive',\n",
       "  'licence',\n",
       "  'to',\n",
       "  'Mercury',\n",
       "  'Records',\n",
       "  'Limited',\n",
       "  'in',\n",
       "  'the',\n",
       "  'UK',\n",
       "  ',',\n",
       "  'Interscope',\n",
       "  'Records',\n",
       "  'in',\n",
       "  'the',\n",
       "  'US',\n",
       "  'and',\n",
       "  'Universal',\n",
       "  'Music',\n",
       "  'Group',\n",
       "  'for',\n",
       "  'the',\n",
       "  'rest',\n",
       "  'of',\n",
       "  'the',\n",
       "  'world',\n",
       "  '3:56',\n",
       "  'October',\n",
       "  '31',\n",
       "  ',',\n",
       "  '2011'])"
      ]
     },
     "execution_count": 18,
     "metadata": {},
     "output_type": "execute_result"
    }
   ],
   "source": [
    "datalist[0]"
   ]
  },
  {
   "cell_type": "code",
   "execution_count": 3,
   "metadata": {
    "ExecuteTime": {
     "end_time": "2020-03-30T17:27:18.412195Z",
     "start_time": "2020-03-30T17:27:18.363667Z"
    }
   },
   "outputs": [],
   "source": [
    "augmented_test = pd.read_csv('datasets/DBLP-Scholar/augmented_test.csv')\n",
    "test = pd.read_csv('datasets/DBLP-Scholar/test.csv')"
   ]
  },
  {
   "cell_type": "code",
   "execution_count": 5,
   "metadata": {
    "ExecuteTime": {
     "end_time": "2020-03-30T17:28:13.372821Z",
     "start_time": "2020-03-30T17:28:13.331473Z"
    }
   },
   "outputs": [
    {
     "data": {
      "text/html": [
       "<div>\n",
       "<style scoped>\n",
       "    .dataframe tbody tr th:only-of-type {\n",
       "        vertical-align: middle;\n",
       "    }\n",
       "\n",
       "    .dataframe tbody tr th {\n",
       "        vertical-align: top;\n",
       "    }\n",
       "\n",
       "    .dataframe thead th {\n",
       "        text-align: right;\n",
       "    }\n",
       "</style>\n",
       "<table border=\"1\" class=\"dataframe\">\n",
       "  <thead>\n",
       "    <tr style=\"text-align: right;\">\n",
       "      <th></th>\n",
       "      <th>label</th>\n",
       "      <th>ltable_title</th>\n",
       "      <th>ltable_authors</th>\n",
       "      <th>ltable_venue</th>\n",
       "      <th>ltable_year</th>\n",
       "      <th>rtable_title</th>\n",
       "      <th>rtable_authors</th>\n",
       "      <th>rtable_venue</th>\n",
       "      <th>rtable_year</th>\n",
       "      <th>id</th>\n",
       "    </tr>\n",
       "  </thead>\n",
       "  <tbody>\n",
       "    <tr>\n",
       "      <th>2150</th>\n",
       "      <td>0</td>\n",
       "      <td>Transactional Client-Server Cache Consistency:...</td>\n",
       "      <td>M Franklin, M Carey, M Livny</td>\n",
       "      <td>ACM Trans. Database Syst.</td>\n",
       "      <td>1997</td>\n",
       "      <td>ACDN: a content delivery network for applicati...</td>\n",
       "      <td>P Karbhari, M Rabinovich, Z Xiao, F Douglis</td>\n",
       "      <td>Proceedings of ACM SIGMOD,</td>\n",
       "      <td>NaN</td>\n",
       "      <td>journals/tods/FranklinCL97#Mw3xLuyR3qQJ</td>\n",
       "    </tr>\n",
       "    <tr>\n",
       "      <th>2151</th>\n",
       "      <td>0</td>\n",
       "      <td>APEX: an adaptive path index for XML data</td>\n",
       "      <td>C Chung, J Min, K Shim</td>\n",
       "      <td>SIGMOD Conference</td>\n",
       "      <td>2002</td>\n",
       "      <td>Programming and control of kinematically redun...</td>\n",
       "      <td>J Baillieul, JM Hollerbach, RW Brockett</td>\n",
       "      <td>Proceedings of the 23rd IEEE conference on dec...</td>\n",
       "      <td>NaN</td>\n",
       "      <td>conf/sigmod/ChungMS02#aIbNhvHkBP8J</td>\n",
       "    </tr>\n",
       "    <tr>\n",
       "      <th>2152</th>\n",
       "      <td>0</td>\n",
       "      <td>APEX: an adaptive path index for XML data</td>\n",
       "      <td>C Chung, J Min, K Shim</td>\n",
       "      <td>SIGMOD Conference</td>\n",
       "      <td>2002</td>\n",
       "      <td>Implementing Data Cubes Efficiently</td>\n",
       "      <td>VHA Rajaraman, JD Ullman</td>\n",
       "      <td>Proc. ACM SIGMOD,</td>\n",
       "      <td>1996.0</td>\n",
       "      <td>conf/sigmod/ChungMS02#-RzBfKSBxpgJ</td>\n",
       "    </tr>\n",
       "    <tr>\n",
       "      <th>2153</th>\n",
       "      <td>0</td>\n",
       "      <td>APEX: an adaptive path index for XML data</td>\n",
       "      <td>C Chung, J Min, K Shim</td>\n",
       "      <td>SIGMOD Conference</td>\n",
       "      <td>2002</td>\n",
       "      <td>Improving Logging and Recovery Performance in ...</td>\n",
       "      <td>R Barga, S Chen, D Lomet</td>\n",
       "      <td>Data Engineering, 2004. Proceedings. 20th Inte...</td>\n",
       "      <td>NaN</td>\n",
       "      <td>conf/sigmod/ChungMS02#UjcuBBQi2FcJ</td>\n",
       "    </tr>\n",
       "    <tr>\n",
       "      <th>2154</th>\n",
       "      <td>0</td>\n",
       "      <td>Monitoring Business Processes through Event Co...</td>\n",
       "      <td>A Adi, D Botzer, O Etzion, T Yatzkar-Haham</td>\n",
       "      <td>SIGMOD Conference</td>\n",
       "      <td>2001</td>\n",
       "      <td>Regulation of UCP1 and UCP2 gene expression by...</td>\n",
       "      <td>CP Portocarrero, DE Bauman, DM Barbano, JR Zie...</td>\n",
       "      <td>San Diego,</td>\n",
       "      <td>NaN</td>\n",
       "      <td>conf/sigmod/AdiBEY01#XOzaLnX6k84J</td>\n",
       "    </tr>\n",
       "  </tbody>\n",
       "</table>\n",
       "</div>"
      ],
      "text/plain": [
       "      label                                       ltable_title  \\\n",
       "2150      0  Transactional Client-Server Cache Consistency:...   \n",
       "2151      0          APEX: an adaptive path index for XML data   \n",
       "2152      0          APEX: an adaptive path index for XML data   \n",
       "2153      0          APEX: an adaptive path index for XML data   \n",
       "2154      0  Monitoring Business Processes through Event Co...   \n",
       "\n",
       "                                  ltable_authors               ltable_venue  \\\n",
       "2150                M Franklin, M Carey, M Livny  ACM Trans. Database Syst.   \n",
       "2151                      C Chung, J Min, K Shim          SIGMOD Conference   \n",
       "2152                      C Chung, J Min, K Shim          SIGMOD Conference   \n",
       "2153                      C Chung, J Min, K Shim          SIGMOD Conference   \n",
       "2154  A Adi, D Botzer, O Etzion, T Yatzkar-Haham          SIGMOD Conference   \n",
       "\n",
       "      ltable_year                                       rtable_title  \\\n",
       "2150         1997  ACDN: a content delivery network for applicati...   \n",
       "2151         2002  Programming and control of kinematically redun...   \n",
       "2152         2002                Implementing Data Cubes Efficiently   \n",
       "2153         2002  Improving Logging and Recovery Performance in ...   \n",
       "2154         2001  Regulation of UCP1 and UCP2 gene expression by...   \n",
       "\n",
       "                                         rtable_authors  \\\n",
       "2150        P Karbhari, M Rabinovich, Z Xiao, F Douglis   \n",
       "2151            J Baillieul, JM Hollerbach, RW Brockett   \n",
       "2152                           VHA Rajaraman, JD Ullman   \n",
       "2153                           R Barga, S Chen, D Lomet   \n",
       "2154  CP Portocarrero, DE Bauman, DM Barbano, JR Zie...   \n",
       "\n",
       "                                           rtable_venue  rtable_year  \\\n",
       "2150                         Proceedings of ACM SIGMOD,          NaN   \n",
       "2151  Proceedings of the 23rd IEEE conference on dec...          NaN   \n",
       "2152                                  Proc. ACM SIGMOD,       1996.0   \n",
       "2153  Data Engineering, 2004. Proceedings. 20th Inte...          NaN   \n",
       "2154                                         San Diego,          NaN   \n",
       "\n",
       "                                           id  \n",
       "2150  journals/tods/FranklinCL97#Mw3xLuyR3qQJ  \n",
       "2151       conf/sigmod/ChungMS02#aIbNhvHkBP8J  \n",
       "2152       conf/sigmod/ChungMS02#-RzBfKSBxpgJ  \n",
       "2153       conf/sigmod/ChungMS02#UjcuBBQi2FcJ  \n",
       "2154        conf/sigmod/AdiBEY01#XOzaLnX6k84J  "
      ]
     },
     "execution_count": 5,
     "metadata": {},
     "output_type": "execute_result"
    }
   ],
   "source": [
    "newsamples = augmented_test.loc[2150:2880]\n",
    "newsamples.head()"
   ]
  },
  {
   "cell_type": "code",
   "execution_count": 6,
   "metadata": {
    "ExecuteTime": {
     "end_time": "2020-03-30T17:29:35.086846Z",
     "start_time": "2020-03-30T17:29:35.077794Z"
    }
   },
   "outputs": [],
   "source": [
    "newsamples_frac = newsamples.sample(frac=0.3)"
   ]
  },
  {
   "cell_type": "code",
   "execution_count": 7,
   "metadata": {
    "ExecuteTime": {
     "end_time": "2020-03-30T17:30:09.507255Z",
     "start_time": "2020-03-30T17:30:09.420605Z"
    }
   },
   "outputs": [
    {
     "data": {
      "text/plain": [
       "2358"
      ]
     },
     "execution_count": 7,
     "metadata": {},
     "output_type": "execute_result"
    }
   ],
   "source": [
    "augmented_test2 = pd.concat([test,newsamples_frac],ignore_index=True)\n",
    "augmented_test2.to_csv('datasets/DBLP-Scholar/augmented_test2.csv',index=False)\n",
    "len(augmented_test2)"
   ]
  },
  {
   "cell_type": "markdown",
   "metadata": {},
   "source": [
    "## Test deepmatcher on itunes amazon"
   ]
  },
  {
   "cell_type": "code",
   "execution_count": 1,
   "metadata": {
    "ExecuteTime": {
     "end_time": "2020-03-31T10:29:29.826723Z",
     "start_time": "2020-03-31T10:29:28.568010Z"
    }
   },
   "outputs": [],
   "source": [
    "import deepmatcher as dm\n",
    "import pandas as pd\n",
    "from explanation.deepmatcher_utils import wrapDm"
   ]
  },
  {
   "cell_type": "code",
   "execution_count": 3,
   "metadata": {
    "ExecuteTime": {
     "end_time": "2020-03-31T10:05:46.693463Z",
     "start_time": "2020-03-31T10:05:41.872768Z"
    }
   },
   "outputs": [],
   "source": [
    "model = dm.MatchingModel(attr_summarizer='hybrid')\n",
    "model.load_state('models/itunes_amazon_hybrid.pth')"
   ]
  },
  {
   "cell_type": "code",
   "execution_count": 5,
   "metadata": {
    "ExecuteTime": {
     "end_time": "2020-03-31T10:08:53.526402Z",
     "start_time": "2020-03-31T10:08:53.490648Z"
    }
   },
   "outputs": [
    {
     "data": {
      "text/plain": [
       "91"
      ]
     },
     "execution_count": 5,
     "metadata": {},
     "output_type": "execute_result"
    }
   ],
   "source": [
    "test = pd.read_csv('datasets/itunes_amazon/augmented_test.csv')\n",
    "testneg = test[test.label==0]\n",
    "len(testneg)"
   ]
  },
  {
   "cell_type": "code",
   "execution_count": 6,
   "metadata": {
    "ExecuteTime": {
     "end_time": "2020-03-31T10:11:36.341370Z",
     "start_time": "2020-03-31T10:11:24.980081Z"
    }
   },
   "outputs": [
    {
     "data": {
      "text/plain": [
       "90"
      ]
     },
     "execution_count": 6,
     "metadata": {},
     "output_type": "execute_result"
    }
   ],
   "source": [
    "import numpy as np\n",
    "prediction = wrapDm(testneg,model)\n",
    "np.count_nonzero(np.argmax(prediction,axis=1)==0)"
   ]
  },
  {
   "cell_type": "code",
   "execution_count": 7,
   "metadata": {
    "ExecuteTime": {
     "end_time": "2020-03-31T10:13:10.768557Z",
     "start_time": "2020-03-31T10:13:09.428491Z"
    }
   },
   "outputs": [
    {
     "data": {
      "text/plain": [
       "85"
      ]
     },
     "execution_count": 7,
     "metadata": {},
     "output_type": "execute_result"
    }
   ],
   "source": [
    "testneg_c = testneg.copy()\n",
    "testneg_c['ltable_Time'] = testneg_c['rtable_Time']\n",
    "np.count_nonzero(np.argmax(wrapDm(testneg_c,model),axis=1)==0)"
   ]
  },
  {
   "cell_type": "code",
   "execution_count": 8,
   "metadata": {
    "ExecuteTime": {
     "end_time": "2020-03-31T10:14:26.746977Z",
     "start_time": "2020-03-31T10:14:26.452776Z"
    }
   },
   "outputs": [],
   "source": [
    "rnn_model = dm.MatchingModel(attr_summarizer='rnn')\n",
    "rnn_model.load_state('models/itunes_amazon_rnn.pth')"
   ]
  },
  {
   "cell_type": "code",
   "execution_count": 11,
   "metadata": {
    "ExecuteTime": {
     "end_time": "2020-03-31T10:15:58.795579Z",
     "start_time": "2020-03-31T10:15:57.809919Z"
    }
   },
   "outputs": [
    {
     "data": {
      "text/plain": [
       "64"
      ]
     },
     "execution_count": 11,
     "metadata": {},
     "output_type": "execute_result"
    }
   ],
   "source": [
    "testneg_c = testneg.copy()\n",
    "testneg_c['ltable_Time'] = testneg_c['rtable_Time']\n",
    "np.count_nonzero(np.argmax(wrapDm(testneg_c,rnn_model),axis=1)==0)"
   ]
  },
  {
   "cell_type": "code",
   "execution_count": null,
   "metadata": {},
   "outputs": [],
   "source": []
  }
 ],
 "metadata": {
  "kernelspec": {
   "display_name": "Python 3",
   "language": "python",
   "name": "python3"
  },
  "language_info": {
   "codemirror_mode": {
    "name": "ipython",
    "version": 3
   },
   "file_extension": ".py",
   "mimetype": "text/x-python",
   "name": "python",
   "nbconvert_exporter": "python",
   "pygments_lexer": "ipython3",
   "version": "3.8.1"
  },
  "toc": {
   "base_numbering": 1,
   "nav_menu": {},
   "number_sections": true,
   "sideBar": true,
   "skip_h1_title": false,
   "title_cell": "Table of Contents",
   "title_sidebar": "Contents",
   "toc_cell": false,
   "toc_position": {},
   "toc_section_display": true,
   "toc_window_display": true
  }
 },
 "nbformat": 4,
 "nbformat_minor": 4
}
