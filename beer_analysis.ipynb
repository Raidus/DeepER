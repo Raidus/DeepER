{
 "cells": [
  {
   "cell_type": "code",
   "execution_count": 1,
   "metadata": {
    "ExecuteTime": {
     "end_time": "2020-03-30T13:28:19.611860Z",
     "start_time": "2020-03-30T13:28:17.396605Z"
    }
   },
   "outputs": [
    {
     "name": "stderr",
     "output_type": "stream",
     "text": [
      "Using TensorFlow backend.\n"
     ]
    }
   ],
   "source": [
    "from deeper.deeper_utils import wrap_deeper\n",
    "from explanation.deepmatcher_utils import wrapDm\n",
    "from explanation.mojito2 import explainSamples\n",
    "import pandas as pd\n",
    "import deepmatcher as dm\n",
    "from keras.models import load_model\n",
    "from deeper.DeepER import init_embeddings_index,init_embeddings_model"
   ]
  },
  {
   "cell_type": "code",
   "execution_count": 3,
   "metadata": {
    "ExecuteTime": {
     "end_time": "2020-03-30T13:31:01.030141Z",
     "start_time": "2020-03-30T13:31:01.023874Z"
    }
   },
   "outputs": [],
   "source": [
    "predict_fn_deepmatcher = lambda data,model,ignore: wrapDm(data,model,ignore_columns=ignore)"
   ]
  },
  {
   "cell_type": "code",
   "execution_count": 4,
   "metadata": {
    "ExecuteTime": {
     "end_time": "2020-03-30T13:32:14.473179Z",
     "start_time": "2020-03-30T13:32:11.596289Z"
    }
   },
   "outputs": [],
   "source": [
    "model = dm.MatchingModel(attr_summarizer='hybrid')\n",
    "model.load_state('models/beeradvo_ratebeer_hybrid.pth')"
   ]
  },
  {
   "cell_type": "code",
   "execution_count": 5,
   "metadata": {
    "ExecuteTime": {
     "end_time": "2020-03-30T13:32:25.343165Z",
     "start_time": "2020-03-30T13:32:25.293692Z"
    }
   },
   "outputs": [],
   "source": [
    "augmented_test = pd.read_csv('datasets/beeradvo_ratebeer/augmented_test.csv')\n",
    "beeradvo = pd.read_csv('datasets/beeradvo_ratebeer/Beeradvo.csv',dtype=str)\n",
    "ratebeer = pd.read_csv('datasets/beeradvo_ratebeer/Ratebeer.csv',dtype=str)"
   ]
  },
  {
   "cell_type": "code",
   "execution_count": 11,
   "metadata": {
    "ExecuteTime": {
     "end_time": "2020-03-30T13:35:51.213103Z",
     "start_time": "2020-03-30T13:35:43.728233Z"
    }
   },
   "outputs": [
    {
     "name": "stderr",
     "output_type": "stream",
     "text": [
      "100%|██████████| 38/38 [00:06<00:00,  5.67it/s]\n"
     ]
    }
   ],
   "source": [
    "posrank_deepmatcher,flippedPos_deepmatcher = explainSamples(augmented_test,[beeradvo,ratebeer],model,\n",
    "                                                           predict_fn_deepmatcher,1,1)"
   ]
  },
  {
   "cell_type": "code",
   "execution_count": 12,
   "metadata": {
    "ExecuteTime": {
     "end_time": "2020-03-30T13:35:51.334402Z",
     "start_time": "2020-03-30T13:35:51.215544Z"
    }
   },
   "outputs": [
    {
     "data": {
      "text/plain": [
       "<matplotlib.axes._subplots.AxesSubplot at 0x7f777871f220>"
      ]
     },
     "execution_count": 12,
     "metadata": {},
     "output_type": "execute_result"
    },
    {
     "data": {
      "image/png": "[encoded data removed]",
      "text/plain": [
       "<Figure size 432x288 with 1 Axes>"
      ]
     },
     "metadata": {
      "needs_background": "light"
     },
     "output_type": "display_data"
    }
   ],
   "source": [
    "posrank_deepmatcher.plot.bar(color='green',ylim=(0,1),grid=True)"
   ]
  },
  {
   "cell_type": "code",
   "execution_count": 14,
   "metadata": {
    "ExecuteTime": {
     "end_time": "2020-03-30T13:36:26.989835Z",
     "start_time": "2020-03-30T13:36:19.592270Z"
    }
   },
   "outputs": [
    {
     "name": "stderr",
     "output_type": "stream",
     "text": [
      "100%|██████████| 38/38 [00:06<00:00,  5.74it/s]\n"
     ]
    }
   ],
   "source": [
    "negrank_deepmatcher,flippedNeg_deepmatcher = explainSamples(augmented_test,[beeradvo,ratebeer],model,\n",
    "                                                           predict_fn_deepmatcher,0,1)"
   ]
  },
  {
   "cell_type": "code",
   "execution_count": 15,
   "metadata": {
    "ExecuteTime": {
     "end_time": "2020-03-30T13:36:39.202989Z",
     "start_time": "2020-03-30T13:36:38.992325Z"
    }
   },
   "outputs": [
    {
     "data": {
      "text/plain": [
       "<matplotlib.axes._subplots.AxesSubplot at 0x7f7720452b20>"
      ]
     },
     "execution_count": 15,
     "metadata": {},
     "output_type": "execute_result"
    },
    {
     "data": {
      "image/png": "[encoded data removed]",
      "text/plain": [
       "<Figure size 432x288 with 1 Axes>"
      ]
     },
     "metadata": {
      "needs_background": "light"
     },
     "output_type": "display_data"
    }
   ],
   "source": [
    "negrank_deepmatcher.plot.bar(color='red',ylim=(0,1),grid=True)"
   ]
  },
  {
   "cell_type": "code",
   "execution_count": 17,
   "metadata": {
    "ExecuteTime": {
     "end_time": "2020-03-30T13:39:39.269620Z",
     "start_time": "2020-03-30T13:39:39.260361Z"
    }
   },
   "outputs": [],
   "source": [
    "flippedpos_onname = flippedPos_deepmatcher[flippedPos_deepmatcher.alteredAttributes==('Beer_Name',)]"
   ]
  },
  {
   "cell_type": "code",
   "execution_count": 22,
   "metadata": {
    "ExecuteTime": {
     "end_time": "2020-03-30T13:46:37.597013Z",
     "start_time": "2020-03-30T13:46:37.589410Z"
    }
   },
   "outputs": [],
   "source": [
    "from collections import defaultdict\n",
    "def countTokens(str_l):\n",
    "    tokens_occ = defaultdict(int)\n",
    "    for beername in str_l:\n",
    "        tokens = beername.split()\n",
    "        for token in tokens:\n",
    "            tokens_occ[token.lower()] +=1\n",
    "    filtered_tokens_occ = {k:v for (k,v) in tokens_occ.items() if v>=5}\n",
    "    return filtered_tokens_occ"
   ]
  },
  {
   "cell_type": "code",
   "execution_count": 23,
   "metadata": {
    "ExecuteTime": {
     "end_time": "2020-03-30T13:46:46.341403Z",
     "start_time": "2020-03-30T13:46:46.334867Z"
    }
   },
   "outputs": [
    {
     "data": {
      "text/plain": [
       "{'red': 16, 'ale': 27, 'amber': 14, 'waves': 5}"
      ]
     },
     "execution_count": 23,
     "metadata": {},
     "output_type": "execute_result"
    }
   ],
   "source": [
    "countTokens(flippedpos_onname.ltable_Beer_Name)"
   ]
  },
  {
   "cell_type": "code",
   "execution_count": 24,
   "metadata": {
    "ExecuteTime": {
     "end_time": "2020-03-30T13:46:55.883813Z",
     "start_time": "2020-03-30T13:46:55.877172Z"
    }
   },
   "outputs": [
    {
     "data": {
      "text/plain": [
       "{'red': 16, 'ale': 27, 'amber': 14, 'waves': 5}"
      ]
     },
     "execution_count": 24,
     "metadata": {},
     "output_type": "execute_result"
    }
   ],
   "source": [
    "countTokens(flippedpos_onname.rtable_Beer_Name)"
   ]
  },
  {
   "cell_type": "markdown",
   "metadata": {
    "ExecuteTime": {
     "end_time": "2020-03-30T13:47:40.309107Z",
     "start_time": "2020-03-30T13:47:40.253321Z"
    }
   },
   "source": [
    "## Test possible biases"
   ]
  },
  {
   "cell_type": "code",
   "execution_count": 27,
   "metadata": {
    "ExecuteTime": {
     "end_time": "2020-03-30T13:55:55.473792Z",
     "start_time": "2020-03-30T13:55:55.442672Z"
    }
   },
   "outputs": [
    {
     "data": {
      "text/plain": [
       "68"
      ]
     },
     "execution_count": 27,
     "metadata": {},
     "output_type": "execute_result"
    }
   ],
   "source": [
    "train = pd.read_csv('datasets/beeradvo_ratebeer/train.csv')\n",
    "test = pd.read_csv('datasets/beeradvo_ratebeer/test.csv')\n",
    "validation = pd.read_csv('datasets/beeradvo_ratebeer/validation.csv')\n",
    "allsamples = pd.concat([train,test,validation],ignore_index=True)\n",
    "positives = allsamples[allsamples.label==1]\n",
    "len(positives)"
   ]
  },
  {
   "cell_type": "code",
   "execution_count": 32,
   "metadata": {
    "ExecuteTime": {
     "end_time": "2020-03-30T13:57:58.758485Z",
     "start_time": "2020-03-30T13:57:58.091591Z"
    }
   },
   "outputs": [
    {
     "data": {
      "text/plain": [
       "68"
      ]
     },
     "execution_count": 32,
     "metadata": {},
     "output_type": "execute_result"
    }
   ],
   "source": [
    "import numpy as np\n",
    "predictions = predict_fn_deepmatcher(positives,model,['id','label'])\n",
    "predicted_pos = np.count_nonzero(np.argmax(predictions,axis=1)==1)\n",
    "predicted_pos"
   ]
  },
  {
   "cell_type": "code",
   "execution_count": 33,
   "metadata": {
    "ExecuteTime": {
     "end_time": "2020-03-30T14:01:56.201161Z",
     "start_time": "2020-03-30T14:01:56.191507Z"
    }
   },
   "outputs": [],
   "source": [
    "positives_c = positives.copy()\n",
    "positives_c['ltable_Beer_Name'] = positives.ltable_Beer_Name+\" amber ale\"\n",
    "positives_c['rtable_Beer_Name'] = positives.rtable_Beer_Name+\" amber ale\""
   ]
  },
  {
   "cell_type": "code",
   "execution_count": null,
   "metadata": {},
   "outputs": [],
   "source": [
    "predictions_c = predict_fn_deepmatcher(positives_c,model,['id','label'])\n",
    "predicted_pos = np.count_nonzero(np)"
   ]
  }
 ],
 "metadata": {
  "kernelspec": {
   "display_name": "Python 3",
   "language": "python",
   "name": "python3"
  },
  "language_info": {
   "codemirror_mode": {
    "name": "ipython",
    "version": 3
   },
   "file_extension": ".py",
   "mimetype": "text/x-python",
   "name": "python",
   "nbconvert_exporter": "python",
   "pygments_lexer": "ipython3",
   "version": "3.8.1"
  },
  "toc": {
   "base_numbering": 1,
   "nav_menu": {},
   "number_sections": true,
   "sideBar": true,
   "skip_h1_title": false,
   "title_cell": "Table of Contents",
   "title_sidebar": "Contents",
   "toc_cell": false,
   "toc_position": {},
   "toc_section_display": true,
   "toc_window_display": false
  }
 },
 "nbformat": 4,
 "nbformat_minor": 4
}
