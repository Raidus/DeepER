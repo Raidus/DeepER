{
 "cells": [
  {
   "cell_type": "code",
   "execution_count": 1,
   "metadata": {
    "ExecuteTime": {
     "end_time": "2020-06-09T08:50:08.778886Z",
     "start_time": "2020-06-09T08:50:08.759468Z"
    }
   },
   "outputs": [],
   "source": [
    "%load_ext autoreload\n",
    "%autoreload 2"
   ]
  },
  {
   "cell_type": "code",
   "execution_count": 2,
   "metadata": {
    "ExecuteTime": {
     "end_time": "2020-06-09T08:50:11.012914Z",
     "start_time": "2020-06-09T08:50:09.110901Z"
    }
   },
   "outputs": [
    {
     "name": "stderr",
     "output_type": "stream",
     "text": [
      "Using TensorFlow backend.\n"
     ]
    }
   ],
   "source": [
    "from deeper.DeepER import init_embeddings_model, init_DeepER_model, train_model_ER, model_statistics\n",
    "from deeper.data import process_data_aligned\n",
    "from deeper.Dataset import Dataset\n",
    "from keras.models import load_model"
   ]
  },
  {
   "cell_type": "code",
   "execution_count": 21,
   "metadata": {
    "ExecuteTime": {
     "end_time": "2020-06-09T08:52:14.366491Z",
     "start_time": "2020-06-09T08:52:14.320989Z"
    }
   },
   "outputs": [],
   "source": [
    "import pandas as pd\n",
    "import os\n",
    "import numpy as np\n",
    "from sklearn.metrics import f1_score"
   ]
  },
  {
   "cell_type": "code",
   "execution_count": 14,
   "metadata": {
    "ExecuteTime": {
     "end_time": "2020-06-09T08:51:25.532867Z",
     "start_time": "2020-06-09T08:51:25.483902Z"
    }
   },
   "outputs": [],
   "source": [
    "def convert_deepmatcher_data_todeeper(data_path,train,validation,test,lprefix='ltable_',\n",
    "                                      rprefix='rtable_'):\n",
    "    train = pd.read_csv(os.path.join(data_path,train),dtype=str).fillna(\"\")\n",
    "    validation = pd.read_csv(os.path.join(data_path,validation),dtype=str).fillna(\"\")\n",
    "    attributes_col = [col for col in train.columns if col not in ['id','label']]\n",
    "    train_valid = pd.concat([train,validation],ignore_index=True)\n",
    "    train_deeper = []\n",
    "    for _,row in train_valid.iterrows():\n",
    "        current_ltokens,current_rtokens = [],[]\n",
    "        for col in attributes_col:\n",
    "            if col.startswith(lprefix):\n",
    "                current_ltokens += row[col].split(\" \")\n",
    "            else:\n",
    "                current_rtokens += row[col].split(\" \")\n",
    "        train_deeper.append((current_ltokens,current_rtokens,int(row['label']),row['id']))\n",
    "        \n",
    "    test = pd.read_csv(os.path.join(data_path,test),dtype=str).fillna(\"\")\n",
    "    test_deeper = []\n",
    "    for _,row in test.iterrows():\n",
    "        current_ltokens,current_rtokens = [],[]\n",
    "        for col in attributes_col:\n",
    "            if col.startswith(lprefix):\n",
    "                current_ltokens += row[col].split(\" \")\n",
    "            else:\n",
    "                current_rtokens += row[col].split(\" \")\n",
    "        test_deeper.append((current_ltokens,current_rtokens,int(row['label']),row['id']))\n",
    "    return train_deeper,test_deeper"
   ]
  },
  {
   "cell_type": "code",
   "execution_count": 15,
   "metadata": {
    "ExecuteTime": {
     "end_time": "2020-06-09T08:51:26.166170Z",
     "start_time": "2020-06-09T08:51:26.137710Z"
    }
   },
   "outputs": [],
   "source": [
    "def getF1Score(test,model,average):\n",
    "    labels = np.argmax(test.data['labels'],axis=1)\n",
    "    predictions = model.predict([test.data['left_embeddings'],test.data['right_embeddings']])\n",
    "    return f1_score(labels,np.argmax(predictions,axis=1),average=average)"
   ]
  },
  {
   "cell_type": "code",
   "execution_count": 9,
   "metadata": {
    "ExecuteTime": {
     "end_time": "2020-06-09T08:51:14.526338Z",
     "start_time": "2020-06-09T08:50:47.343924Z"
    }
   },
   "outputs": [
    {
     "name": "stdout",
     "output_type": "stream",
     "text": [
      "* Inizializzo il tokenizzatore.....Fatto: 1131709 parole totali.\n",
      "* Preparazione della matrice di embedding.....Fatto. Dimensioni matrice embeddings: (1131710, 300)\n",
      "\n",
      "°°° EMBEDDING MODEL °°°\n",
      "Model: \"model_1\"\n",
      "__________________________________________________________________________________________________\n",
      "Layer (type)                    Output Shape         Param #     Connected to                     \n",
      "==================================================================================================\n",
      "Tupla_A (InputLayer)            (None, None)         0                                            \n",
      "__________________________________________________________________________________________________\n",
      "Tupla_B (InputLayer)            (None, None)         0                                            \n",
      "__________________________________________________________________________________________________\n",
      "Embedding_lookup (Embedding)    (None, None, 300)    339513000   Tupla_A[0][0]                    \n",
      "                                                                 Tupla_B[0][0]                    \n",
      "==================================================================================================\n",
      "Total params: 339,513,000\n",
      "Trainable params: 0\n",
      "Non-trainable params: 339,513,000\n",
      "__________________________________________________________________________________________________\n"
     ]
    }
   ],
   "source": [
    "# Caricamento strutture dati e modelli ausiliari.\n",
    "EMBEDDING_FILEPATH ='embeddings/glove.840B.300d'\n",
    "embeddings_model, tokenizer = init_embeddings_model(EMBEDDING_FILEPATH)"
   ]
  },
  {
   "cell_type": "code",
   "execution_count": 10,
   "metadata": {
    "ExecuteTime": {
     "end_time": "2020-06-09T08:51:14.553815Z",
     "start_time": "2020-06-09T08:51:14.528290Z"
    }
   },
   "outputs": [],
   "source": [
    "emb_dim = 300"
   ]
  },
  {
   "cell_type": "markdown",
   "metadata": {},
   "source": [
    "## Itunes-Amazon"
   ]
  },
  {
   "cell_type": "code",
   "execution_count": 70,
   "metadata": {
    "ExecuteTime": {
     "end_time": "2020-06-08T18:08:33.903523Z",
     "start_time": "2020-06-08T18:08:33.613293Z"
    }
   },
   "outputs": [],
   "source": [
    "train,test = convert_deepmatcher_data_todeeper('../deepmatcher-experiments/datasets/Structured/itunes-amazon/',\n",
    "                                         'merged_train.csv','merged_valid.csv','merged_test.csv')"
   ]
  },
  {
   "cell_type": "code",
   "execution_count": 71,
   "metadata": {
    "ExecuteTime": {
     "end_time": "2020-06-08T18:08:34.546285Z",
     "start_time": "2020-06-08T18:08:34.346850Z"
    }
   },
   "outputs": [],
   "source": [
    "itunes_train = Dataset(tokenizer,embeddings_model,train)\n",
    "itunes_test = Dataset(tokenizer,embeddings_model,test)"
   ]
  },
  {
   "cell_type": "code",
   "execution_count": 15,
   "metadata": {
    "ExecuteTime": {
     "end_time": "2020-06-08T17:38:42.453893Z",
     "start_time": "2020-06-08T17:38:05.691137Z"
    }
   },
   "outputs": [
    {
     "name": "stdout",
     "output_type": "stream",
     "text": [
      "\n",
      "°°° DeepER Model °°°\n",
      "Batch size: 7\n",
      "Train on 344 samples, validate on 86 samples\n",
      "Epoch 1/64\n",
      "344/344 [==============================] - 4s 12ms/step - loss: 0.5024 - accuracy: 0.7733 - val_loss: 0.4259 - val_accuracy: 0.8256\n",
      "\n",
      "Epoch 00001: val_accuracy improved from -inf to 0.82558, saving model to models/itunes-amazon_best_model_itunes-amazon.h5\n",
      "Epoch 2/64\n",
      "344/344 [==============================] - 3s 8ms/step - loss: 0.3040 - accuracy: 0.8837 - val_loss: 0.2993 - val_accuracy: 0.8837\n",
      "\n",
      "Epoch 00002: val_accuracy improved from 0.82558 to 0.88372, saving model to models/itunes-amazon_best_model_itunes-amazon.h5\n",
      "Epoch 3/64\n",
      "344/344 [==============================] - 3s 8ms/step - loss: 0.1860 - accuracy: 0.9186 - val_loss: 0.3191 - val_accuracy: 0.8488\n",
      "\n",
      "Epoch 00003: val_accuracy did not improve from 0.88372\n",
      "Epoch 4/64\n",
      "344/344 [==============================] - 3s 8ms/step - loss: 0.1482 - accuracy: 0.9448 - val_loss: 0.2960 - val_accuracy: 0.9186\n",
      "\n",
      "Epoch 00004: val_accuracy improved from 0.88372 to 0.91860, saving model to models/itunes-amazon_best_model_itunes-amazon.h5\n",
      "Epoch 5/64\n",
      "344/344 [==============================] - 3s 8ms/step - loss: 0.0331 - accuracy: 0.9884 - val_loss: 0.4102 - val_accuracy: 0.8953\n",
      "\n",
      "Epoch 00005: val_accuracy did not improve from 0.91860\n",
      "Epoch 6/64\n",
      "344/344 [==============================] - 3s 8ms/step - loss: 0.0185 - accuracy: 0.9913 - val_loss: 0.4731 - val_accuracy: 0.8488\n",
      "\n",
      "Epoch 00006: val_accuracy did not improve from 0.91860\n",
      "Epoch 7/64\n",
      "344/344 [==============================] - 3s 8ms/step - loss: 0.0164 - accuracy: 0.9913 - val_loss: 0.4490 - val_accuracy: 0.9070\n",
      "\n",
      "Epoch 00007: val_accuracy did not improve from 0.91860\n",
      "Epoch 8/64\n",
      "344/344 [==============================] - 3s 8ms/step - loss: 0.0163 - accuracy: 0.9942 - val_loss: 0.4317 - val_accuracy: 0.8953\n",
      "\n",
      "Epoch 00008: val_accuracy did not improve from 0.91860\n",
      "Epoch 9/64\n",
      "344/344 [==============================] - 3s 8ms/step - loss: 0.0059 - accuracy: 0.9942 - val_loss: 0.4707 - val_accuracy: 0.8953\n",
      "\n",
      "Epoch 00009: val_accuracy did not improve from 0.91860\n",
      "Epoch 10/64\n",
      "344/344 [==============================] - 3s 8ms/step - loss: 0.0037 - accuracy: 1.0000 - val_loss: 0.4942 - val_accuracy: 0.8953\n",
      "\n",
      "Epoch 00010: val_accuracy did not improve from 0.91860\n",
      "Epoch 11/64\n",
      "344/344 [==============================] - 3s 8ms/step - loss: 0.0023 - accuracy: 1.0000 - val_loss: 0.5100 - val_accuracy: 0.8953\n",
      "\n",
      "Epoch 00011: val_accuracy did not improve from 0.91860\n",
      "Epoch 00011: early stopping\n"
     ]
    }
   ],
   "source": [
    "itunes_model = init_DeepER_model(emb_dim)\n",
    "dataset_name = 'itunes-amazon'\n",
    "itunes_model = train_model_ER(itunes_train,dataset_name,itunes_model,\n",
    "                                      pretraining=False,\n",
    "                                      metric='val_accuracy',\n",
    "                                      end=f'_{dataset_name}')"
   ]
  },
  {
   "cell_type": "code",
   "execution_count": 72,
   "metadata": {
    "ExecuteTime": {
     "end_time": "2020-06-08T18:08:51.655498Z",
     "start_time": "2020-06-08T18:08:51.492242Z"
    }
   },
   "outputs": [
    {
     "data": {
      "text/plain": [
       "0.8807339449541285"
      ]
     },
     "execution_count": 72,
     "metadata": {},
     "output_type": "execute_result"
    }
   ],
   "source": [
    "getF1Score(itunes_test,itunes_model)"
   ]
  },
  {
   "cell_type": "markdown",
   "metadata": {},
   "source": [
    "## Walmart-Amazon"
   ]
  },
  {
   "cell_type": "code",
   "execution_count": 16,
   "metadata": {
    "ExecuteTime": {
     "end_time": "2020-06-09T08:51:31.850985Z",
     "start_time": "2020-06-09T08:51:29.336755Z"
    }
   },
   "outputs": [],
   "source": [
    "train,test = convert_deepmatcher_data_todeeper('../deepmatcher-experiments/datasets/Structured/Walmart-Amazon/',\n",
    "                                         'merged_train.csv','merged_valid.csv','merged_test.csv')"
   ]
  },
  {
   "cell_type": "code",
   "execution_count": 17,
   "metadata": {
    "ExecuteTime": {
     "end_time": "2020-06-09T08:51:33.209394Z",
     "start_time": "2020-06-09T08:51:31.852822Z"
    }
   },
   "outputs": [],
   "source": [
    "walmart_train = Dataset(tokenizer,embeddings_model,train)\n",
    "walmart_test = Dataset(tokenizer,embeddings_model,test)"
   ]
  },
  {
   "cell_type": "code",
   "execution_count": 35,
   "metadata": {
    "ExecuteTime": {
     "end_time": "2020-06-08T17:53:43.306370Z",
     "start_time": "2020-06-08T17:52:49.987341Z"
    }
   },
   "outputs": [
    {
     "name": "stdout",
     "output_type": "stream",
     "text": [
      "\n",
      "°°° DeepER Model °°°\n",
      "Batch size: 124\n",
      "Train on 6554 samples, validate on 1639 samples\n",
      "Epoch 1/64\n",
      "6554/6554 [==============================] - 7s 1ms/step - loss: 0.3153 - accuracy: 0.8979 - val_loss: 0.3192 - val_accuracy: 0.8926\n",
      "\n",
      "Epoch 00001: val_accuracy improved from -inf to 0.89262, saving model to models/walmart-amazon_best_model_walmart-amazon.h5\n",
      "Epoch 2/64\n",
      "6554/6554 [==============================] - 6s 916us/step - loss: 0.2656 - accuracy: 0.9095 - val_loss: 0.3109 - val_accuracy: 0.8926\n",
      "\n",
      "Epoch 00002: val_accuracy did not improve from 0.89262\n",
      "Epoch 3/64\n",
      "6554/6554 [==============================] - 6s 909us/step - loss: 0.2499 - accuracy: 0.9095 - val_loss: 0.3085 - val_accuracy: 0.8926\n",
      "\n",
      "Epoch 00003: val_accuracy did not improve from 0.89262\n",
      "Epoch 4/64\n",
      "6554/6554 [==============================] - 6s 920us/step - loss: 0.2329 - accuracy: 0.9095 - val_loss: 0.3250 - val_accuracy: 0.8926\n",
      "\n",
      "Epoch 00004: val_accuracy did not improve from 0.89262\n",
      "Epoch 5/64\n",
      "6554/6554 [==============================] - 6s 926us/step - loss: 0.2187 - accuracy: 0.9103 - val_loss: 0.3188 - val_accuracy: 0.8890\n",
      "\n",
      "Epoch 00005: val_accuracy did not improve from 0.89262\n",
      "Epoch 6/64\n",
      "6554/6554 [==============================] - 6s 928us/step - loss: 0.1995 - accuracy: 0.9217 - val_loss: 0.3132 - val_accuracy: 0.8786\n",
      "\n",
      "Epoch 00006: val_accuracy did not improve from 0.89262\n",
      "Epoch 7/64\n",
      "6554/6554 [==============================] - 6s 928us/step - loss: 0.1806 - accuracy: 0.9281 - val_loss: 0.3444 - val_accuracy: 0.8713\n",
      "\n",
      "Epoch 00007: val_accuracy did not improve from 0.89262\n",
      "Epoch 8/64\n",
      "6554/6554 [==============================] - 6s 924us/step - loss: 0.1643 - accuracy: 0.9376 - val_loss: 0.3567 - val_accuracy: 0.8792\n",
      "\n",
      "Epoch 00008: val_accuracy did not improve from 0.89262\n",
      "Epoch 00008: early stopping\n"
     ]
    }
   ],
   "source": [
    "walmart_model = init_DeepER_model(emb_dim)\n",
    "dataset_name = 'walmart-amazon'\n",
    "walmart_model = train_model_ER(walmart_train,dataset_name,walmart_model,\n",
    "                                      pretraining=False,\n",
    "                                      metric='val_accuracy',\n",
    "                                      end=f'_{dataset_name}')"
   ]
  },
  {
   "cell_type": "code",
   "execution_count": 3,
   "metadata": {
    "ExecuteTime": {
     "end_time": "2020-06-09T08:50:19.405698Z",
     "start_time": "2020-06-09T08:50:16.747257Z"
    }
   },
   "outputs": [],
   "source": [
    "walmart_model = load_model('models/walmart-amazon_best_model_walmart-amazon.h5')"
   ]
  },
  {
   "cell_type": "code",
   "execution_count": 22,
   "metadata": {
    "ExecuteTime": {
     "end_time": "2020-06-09T08:52:20.543913Z",
     "start_time": "2020-06-09T08:52:19.594828Z"
    }
   },
   "outputs": [
    {
     "data": {
      "text/plain": [
       "0.9058077110785749"
      ]
     },
     "execution_count": 22,
     "metadata": {},
     "output_type": "execute_result"
    }
   ],
   "source": [
    "getF1Score(walmart_test,walmart_model,average='micro')"
   ]
  },
  {
   "cell_type": "code",
   "execution_count": 62,
   "metadata": {
    "ExecuteTime": {
     "end_time": "2020-06-08T18:06:35.927917Z",
     "start_time": "2020-06-08T18:06:35.882627Z"
    }
   },
   "outputs": [
    {
     "data": {
      "text/plain": [
       "193"
      ]
     },
     "execution_count": 62,
     "metadata": {},
     "output_type": "execute_result"
    }
   ],
   "source": [
    "wrong  = 0 \n",
    "for label,pred in zip(labels,predictions):\n",
    "    if label!=pred:\n",
    "        wrong+=1\n",
    "wrong"
   ]
  },
  {
   "cell_type": "markdown",
   "metadata": {},
   "source": [
    "## Amazon-Google"
   ]
  },
  {
   "cell_type": "code",
   "execution_count": 73,
   "metadata": {
    "ExecuteTime": {
     "end_time": "2020-06-08T18:09:43.416200Z",
     "start_time": "2020-06-08T18:09:41.348645Z"
    }
   },
   "outputs": [],
   "source": [
    "train,test = convert_deepmatcher_data_todeeper('../deepmatcher-experiments/datasets/Structured/Amazon-Google/',\n",
    "                                         'merged_train.csv','merged_valid.csv','merged_test.csv')"
   ]
  },
  {
   "cell_type": "code",
   "execution_count": 74,
   "metadata": {
    "ExecuteTime": {
     "end_time": "2020-06-08T18:09:58.366081Z",
     "start_time": "2020-06-08T18:09:56.954169Z"
    }
   },
   "outputs": [],
   "source": [
    "google_train = Dataset(tokenizer,embeddings_model,train)\n",
    "google_test = Dataset(tokenizer,embeddings_model,test)"
   ]
  },
  {
   "cell_type": "code",
   "execution_count": 76,
   "metadata": {
    "ExecuteTime": {
     "end_time": "2020-06-08T18:11:37.869699Z",
     "start_time": "2020-06-08T18:10:36.916611Z"
    }
   },
   "outputs": [
    {
     "name": "stdout",
     "output_type": "stream",
     "text": [
      "\n",
      "°°° DeepER Model °°°\n",
      "Batch size: 139\n",
      "Train on 7333 samples, validate on 1834 samples\n",
      "Epoch 1/64\n",
      "7333/7333 [==============================] - 7s 915us/step - loss: 0.3339 - accuracy: 0.8988 - val_loss: 0.3265 - val_accuracy: 0.8844\n",
      "\n",
      "Epoch 00001: val_accuracy improved from -inf to 0.88441, saving model to models/amazon-google_best_model_amazon-google.h5\n",
      "Epoch 2/64\n",
      "7333/7333 [==============================] - 6s 757us/step - loss: 0.2727 - accuracy: 0.9017 - val_loss: 0.3125 - val_accuracy: 0.8844\n",
      "\n",
      "Epoch 00002: val_accuracy did not improve from 0.88441\n",
      "Epoch 3/64\n",
      "7333/7333 [==============================] - 6s 769us/step - loss: 0.2518 - accuracy: 0.9020 - val_loss: 0.2884 - val_accuracy: 0.8882\n",
      "\n",
      "Epoch 00003: val_accuracy improved from 0.88441 to 0.88822, saving model to models/amazon-google_best_model_amazon-google.h5\n",
      "Epoch 4/64\n",
      "7333/7333 [==============================] - 6s 754us/step - loss: 0.2271 - accuracy: 0.9107 - val_loss: 0.2744 - val_accuracy: 0.8882\n",
      "\n",
      "Epoch 00004: val_accuracy did not improve from 0.88822\n",
      "Epoch 5/64\n",
      "7333/7333 [==============================] - 6s 754us/step - loss: 0.1998 - accuracy: 0.9195 - val_loss: 0.2875 - val_accuracy: 0.8866\n",
      "\n",
      "Epoch 00005: val_accuracy did not improve from 0.88822\n",
      "Epoch 6/64\n",
      "7333/7333 [==============================] - 6s 753us/step - loss: 0.1782 - accuracy: 0.9299 - val_loss: 0.2962 - val_accuracy: 0.8751\n",
      "\n",
      "Epoch 00006: val_accuracy did not improve from 0.88822\n",
      "Epoch 7/64\n",
      "7333/7333 [==============================] - 5s 743us/step - loss: 0.1593 - accuracy: 0.9356 - val_loss: 0.3074 - val_accuracy: 0.8730\n",
      "\n",
      "Epoch 00007: val_accuracy did not improve from 0.88822\n",
      "Epoch 8/64\n",
      "7333/7333 [==============================] - 5s 750us/step - loss: 0.1420 - accuracy: 0.9405 - val_loss: 0.2986 - val_accuracy: 0.8833\n",
      "\n",
      "Epoch 00008: val_accuracy did not improve from 0.88822\n",
      "Epoch 9/64\n",
      "7333/7333 [==============================] - 6s 754us/step - loss: 0.1230 - accuracy: 0.9489 - val_loss: 0.3137 - val_accuracy: 0.8768\n",
      "\n",
      "Epoch 00009: val_accuracy did not improve from 0.88822\n",
      "Epoch 10/64\n",
      "7333/7333 [==============================] - 6s 754us/step - loss: 0.1046 - accuracy: 0.9549 - val_loss: 0.3737 - val_accuracy: 0.8811\n",
      "\n",
      "Epoch 00010: val_accuracy did not improve from 0.88822\n",
      "Epoch 00010: early stopping\n"
     ]
    }
   ],
   "source": [
    "google_model = init_DeepER_model(emb_dim)\n",
    "dataset_name = 'amazon-google'\n",
    "google_model = train_model_ER(google_train,dataset_name,google_model,\n",
    "                                      pretraining=False,\n",
    "                                      metric='val_accuracy',\n",
    "                                      end=f'_{dataset_name}')"
   ]
  },
  {
   "cell_type": "code",
   "execution_count": 81,
   "metadata": {
    "ExecuteTime": {
     "end_time": "2020-06-08T18:13:39.139514Z",
     "start_time": "2020-06-08T18:13:38.186833Z"
    }
   },
   "outputs": [
    {
     "data": {
      "text/plain": [
       "0.8602218997010532"
      ]
     },
     "execution_count": 81,
     "metadata": {},
     "output_type": "execute_result"
    }
   ],
   "source": [
    "getF1Score(google_test,google_model,average='weighted')"
   ]
  },
  {
   "cell_type": "markdown",
   "metadata": {},
   "source": [
    "## Beer"
   ]
  },
  {
   "cell_type": "code",
   "execution_count": null,
   "metadata": {},
   "outputs": [],
   "source": []
  }
 ],
 "metadata": {
  "kernelspec": {
   "display_name": "Python 3",
   "language": "python",
   "name": "python3"
  },
  "language_info": {
   "codemirror_mode": {
    "name": "ipython",
    "version": 3
   },
   "file_extension": ".py",
   "mimetype": "text/x-python",
   "name": "python",
   "nbconvert_exporter": "python",
   "pygments_lexer": "ipython3",
   "version": "3.8.1"
  },
  "toc": {
   "base_numbering": 1,
   "nav_menu": {},
   "number_sections": true,
   "sideBar": true,
   "skip_h1_title": false,
   "title_cell": "Table of Contents",
   "title_sidebar": "Contents",
   "toc_cell": false,
   "toc_position": {
    "height": "calc(100% - 180px)",
    "left": "10px",
    "top": "150px",
    "width": "384px"
   },
   "toc_section_display": true,
   "toc_window_display": true
  }
 },
 "nbformat": 4,
 "nbformat_minor": 2
}
