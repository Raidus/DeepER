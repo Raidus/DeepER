{
 "cells": [
  {
   "cell_type": "code",
   "execution_count": 1,
   "metadata": {},
   "outputs": [],
   "source": [
    "%load_ext autoreload\n",
    "%autoreload 2"
   ]
  },
  {
   "cell_type": "code",
   "execution_count": 2,
   "metadata": {},
   "outputs": [
    {
     "name": "stderr",
     "output_type": "stream",
     "text": [
      "Using TensorFlow backend.\n"
     ]
    }
   ],
   "source": [
    "from deeper.DeepER import init_embeddings_index,init_embeddings_model\n",
    "from explanation.mojito2 import explainSamples\n",
    "import pandas as pd\n",
    "from deeper.deeper_utils import wrap_deeper\n",
    "from keras.models import load_model"
   ]
  },
  {
   "cell_type": "code",
   "execution_count": 3,
   "metadata": {},
   "outputs": [
    {
     "name": "stdout",
     "output_type": "stream",
     "text": [
      "* Costruzione indice degli embeddings.....Fatto. 400000 embeddings totali.\n",
      "* Creazione del modello per il calcolo degli embeddings....\n",
      "* Inizializzo il tokenizzatore.....Fatto: 400000 parole totali.\n",
      "* Preparazione della matrice di embedding.....Fatto. Dimensioni matrice embeddings: (400001, 300)\n",
      "\n",
      "°°° EMBEDDING MODEL °°°\n",
      "Model: \"model_1\"\n",
      "__________________________________________________________________________________________________\n",
      "Layer (type)                    Output Shape         Param #     Connected to                     \n",
      "==================================================================================================\n",
      "Tupla_A (InputLayer)            (None, None)         0                                            \n",
      "__________________________________________________________________________________________________\n",
      "Tupla_B (InputLayer)            (None, None)         0                                            \n",
      "__________________________________________________________________________________________________\n",
      "Embedding_lookup (Embedding)    (None, None, 300)    120000300   Tupla_A[0][0]                    \n",
      "                                                                 Tupla_B[0][0]                    \n",
      "==================================================================================================\n",
      "Total params: 120,000,300\n",
      "Trainable params: 0\n",
      "Non-trainable params: 120,000,300\n",
      "__________________________________________________________________________________________________\n"
     ]
    }
   ],
   "source": [
    "# Caricamento strutture dati e modelli ausiliari.\n",
    "EMBEDDING_FILEPATH ='embeddings/glove.6B/glove.6B.300d.txt'\n",
    "embeddings_index = init_embeddings_index(EMBEDDING_FILEPATH)\n",
    "emb_dim = len(embeddings_index['cat']) # :3\n",
    "embeddings_model, tokenizer = init_embeddings_model(embeddings_index)"
   ]
  },
  {
   "cell_type": "code",
   "execution_count": 4,
   "metadata": {},
   "outputs": [],
   "source": [
    "predict_fn_deeper = lambda data,model,ignore: wrap_deeper(data,'ltable_','rtable_',model,tokenizer,embeddings_model,\n",
    "                                                  ignore_columns=ignore)"
   ]
  },
  {
   "cell_type": "code",
   "execution_count": 12,
   "metadata": {},
   "outputs": [],
   "source": [
    "augmented_test = pd.read_csv('datasets/walmart_amazon/augmented_test.csv')\n",
    "walmart = pd.read_csv('datasets/walmart_amazon/walmart.csv',dtype=str)\n",
    "amazon = pd.read_csv('datasets/walmart_amazon/amazon.csv',dtype=str)"
   ]
  },
  {
   "cell_type": "code",
   "execution_count": 14,
   "metadata": {},
   "outputs": [],
   "source": [
    "model = load_model('models/DeepER_best_model_100_walmart-amazon.h5')"
   ]
  },
  {
   "cell_type": "code",
   "execution_count": 49,
   "metadata": {},
   "outputs": [
    {
     "name": "stderr",
     "output_type": "stream",
     "text": [
      "100%|████████████████████████████████████████████████████████████████████████████████| 543/543 [00:12<00:00, 43.99it/s]\n"
     ]
    }
   ],
   "source": [
    "negrank,neg_flipped = explainSamples(augmented_test,[walmart,amazon],\n",
    "                                     model,predict_fn_deeper,0,1)"
   ]
  },
  {
   "cell_type": "code",
   "execution_count": 50,
   "metadata": {},
   "outputs": [
    {
     "data": {
      "text/plain": [
       "<matplotlib.axes._subplots.AxesSubplot at 0x24c435ff630>"
      ]
     },
     "execution_count": 50,
     "metadata": {},
     "output_type": "execute_result"
    },
    {
     "data": {
      "image/png": "[encoded data removed]",
      "text/plain": [
       "<Figure size 432x288 with 1 Axes>"
      ]
     },
     "metadata": {
      "needs_background": "light"
     },
     "output_type": "display_data"
    }
   ],
   "source": [
    "negrank.plot.bar(color='red')"
   ]
  },
  {
   "cell_type": "code",
   "execution_count": 51,
   "metadata": {},
   "outputs": [
    {
     "name": "stderr",
     "output_type": "stream",
     "text": [
      "100%|████████████████████████████████████████████████████████████████████████████████| 543/543 [00:12<00:00, 43.47it/s]\n"
     ]
    }
   ],
   "source": [
    "posrank,posrank_flipped = explainSamples(correctPred,[walmart,amazon],\n",
    "                                     model,predict_fn_deeper,1,1)"
   ]
  },
  {
   "cell_type": "code",
   "execution_count": 52,
   "metadata": {},
   "outputs": [
    {
     "data": {
      "text/plain": [
       "<matplotlib.axes._subplots.AxesSubplot at 0x24c42f0a9b0>"
      ]
     },
     "execution_count": 52,
     "metadata": {},
     "output_type": "execute_result"
    },
    {
     "data": {
      "image/png": "[encoded data removed]",
      "text/plain": [
       "<Figure size 432x288 with 1 Axes>"
      ]
     },
     "metadata": {
      "needs_background": "light"
     },
     "output_type": "display_data"
    }
   ],
   "source": [
    "posrank.plot.bar(color='green')"
   ]
  },
  {
   "cell_type": "code",
   "execution_count": 5,
   "metadata": {},
   "outputs": [],
   "source": [
    "augmented_test = pd.read_csv('datasets/DBLP-ACM/augmented_test.csv')\n",
    "dblp = pd.read_csv('datasets/DBLP-ACM/DBLP2.csv',dtype=str)\n",
    "acm = pd.read_csv('datasets/DBLP-ACM/ACM.csv',dtype=str)\n",
    "model = load_model('models/DeepER_best_model_100_dblp-acm.h5')"
   ]
  },
  {
   "cell_type": "code",
   "execution_count": 6,
   "metadata": {},
   "outputs": [
    {
     "name": "stderr",
     "output_type": "stream",
     "text": [
      "100%|████████████████████████████████████████████████████████████████████████████████| 609/609 [00:11<00:00, 51.73it/s]\n"
     ]
    }
   ],
   "source": [
    "negrank,neg_flipped = explainSamples(augmented_test,[dblp,acm],\n",
    "                                     model,predict_fn_deeper,0,1)"
   ]
  },
  {
   "cell_type": "code",
   "execution_count": null,
   "metadata": {},
   "outputs": [],
   "source": []
  },
  {
   "cell_type": "markdown",
   "metadata": {},
   "source": [
    "## Test"
   ]
  },
  {
   "cell_type": "code",
   "execution_count": 3,
   "metadata": {},
   "outputs": [],
   "source": [
    "from keras.models import load_model\n",
    "fodors_model = load_model('models/DeepER_best_model_100_fodors_zagats.h5')"
   ]
  },
  {
   "cell_type": "code",
   "execution_count": 24,
   "metadata": {},
   "outputs": [
    {
     "name": "stdout",
     "output_type": "stream",
     "text": [
      "New negatives per sample are 2\n"
     ]
    }
   ],
   "source": [
    "from explanation.sampleBuilder import prepareDataset\n",
    "\n",
    "augmented_test = prepareDataset('datasets/fodors_zagats/','test.csv','fodors.csv','zagats.csv',\n",
    "                               30)"
   ]
  },
  {
   "cell_type": "code",
   "execution_count": 20,
   "metadata": {},
   "outputs": [],
   "source": [
    "augmented_test.to_csv('datasets/fodors_zagats/augmented_test3.csv',index=False)"
   ]
  },
  {
   "cell_type": "code",
   "execution_count": 16,
   "metadata": {},
   "outputs": [],
   "source": [
    "from deeper.deeper_utils import wrap_deeper\n",
    "import numpy as np\n",
    "import pandas as pd\n",
    "test = pd.read_csv('datasets/fodors_zagats/augmented_test.csv')\n",
    "predictions = wrap_deeper(test,'ltable_','rtable_',fodors_model,tokenizer,embeddings_model)"
   ]
  },
  {
   "cell_type": "code",
   "execution_count": 17,
   "metadata": {},
   "outputs": [
    {
     "data": {
      "text/plain": [
       "0.5625000000000001"
      ]
     },
     "execution_count": 17,
     "metadata": {},
     "output_type": "execute_result"
    }
   ],
   "source": [
    "from sklearn.metrics import f1_score\n",
    "predicted_label = np.argmax(predictions,axis=1)\n",
    "f1_score(test.label.values,predicted_label)"
   ]
  },
  {
   "cell_type": "code",
   "execution_count": 21,
   "metadata": {},
   "outputs": [
    {
     "data": {
      "text/plain": [
       "0.3829787234042553"
      ]
     },
     "execution_count": 21,
     "metadata": {},
     "output_type": "execute_result"
    }
   ],
   "source": [
    "test = pd.read_csv('datasets/fodors_zagats/augmented_test2.csv')\n",
    "predictions = wrap_deeper(test,'ltable_','rtable_',fodors_model,tokenizer,embeddings_model)\n",
    "predicted_labels = np.argmax(predictions,axis=1)\n",
    "f1_score(test.label.values,predicted_labels)"
   ]
  },
  {
   "cell_type": "code",
   "execution_count": 23,
   "metadata": {},
   "outputs": [
    {
     "data": {
      "text/html": [
       "<div>\n",
       "<style scoped>\n",
       "    .dataframe tbody tr th:only-of-type {\n",
       "        vertical-align: middle;\n",
       "    }\n",
       "\n",
       "    .dataframe tbody tr th {\n",
       "        vertical-align: top;\n",
       "    }\n",
       "\n",
       "    .dataframe thead th {\n",
       "        text-align: right;\n",
       "    }\n",
       "</style>\n",
       "<table border=\"1\" class=\"dataframe\">\n",
       "  <thead>\n",
       "    <tr style=\"text-align: right;\">\n",
       "      <th></th>\n",
       "      <th>label</th>\n",
       "      <th>ltable_name</th>\n",
       "      <th>ltable_addr</th>\n",
       "      <th>ltable_city</th>\n",
       "      <th>ltable_phone</th>\n",
       "      <th>ltable_restype</th>\n",
       "      <th>ltable_class</th>\n",
       "      <th>rtable_name</th>\n",
       "      <th>rtable_addr</th>\n",
       "      <th>rtable_city</th>\n",
       "      <th>rtable_phone</th>\n",
       "      <th>rtable_restype</th>\n",
       "      <th>rtable_class</th>\n",
       "      <th>id</th>\n",
       "    </tr>\n",
       "  </thead>\n",
       "  <tbody>\n",
       "    <tr>\n",
       "      <th>78</th>\n",
       "      <td>0</td>\n",
       "      <td>ciboulette</td>\n",
       "      <td>'1529 piedmont ave.'</td>\n",
       "      <td>atlanta</td>\n",
       "      <td>404/874-7600</td>\n",
       "      <td>french</td>\n",
       "      <td>79</td>\n",
       "      <td>'kelly\\'s on trinity'</td>\n",
       "      <td>'333 bush st.'</td>\n",
       "      <td>'san francisco'</td>\n",
       "      <td>415-362-4454</td>\n",
       "      <td>californian</td>\n",
       "      <td>733</td>\n",
       "      <td>613#199</td>\n",
       "    </tr>\n",
       "    <tr>\n",
       "      <th>79</th>\n",
       "      <td>0</td>\n",
       "      <td>'brasserie le coze'</td>\n",
       "      <td>'3393 peachtree rd.  lenox square mall  near n...</td>\n",
       "      <td>atlanta</td>\n",
       "      <td>404/266-1440</td>\n",
       "      <td>french</td>\n",
       "      <td>77</td>\n",
       "      <td>'kelly\\'s on trinity'</td>\n",
       "      <td>'333 bush st.'</td>\n",
       "      <td>'san francisco'</td>\n",
       "      <td>415-362-4454</td>\n",
       "      <td>californian</td>\n",
       "      <td>733</td>\n",
       "      <td>611#199</td>\n",
       "    </tr>\n",
       "    <tr>\n",
       "      <th>80</th>\n",
       "      <td>0</td>\n",
       "      <td>aureole</td>\n",
       "      <td>'34 e. 61st st.'</td>\n",
       "      <td>'new york'</td>\n",
       "      <td>'212/ 319-1660'</td>\n",
       "      <td>american</td>\n",
       "      <td>25</td>\n",
       "      <td>'kelly\\'s on trinity'</td>\n",
       "      <td>'333 bush st.'</td>\n",
       "      <td>'san francisco'</td>\n",
       "      <td>415-362-4454</td>\n",
       "      <td>californian</td>\n",
       "      <td>733</td>\n",
       "      <td>559#199</td>\n",
       "    </tr>\n",
       "    <tr>\n",
       "      <th>81</th>\n",
       "      <td>0</td>\n",
       "      <td>'georgia grille'</td>\n",
       "      <td>'2290 peachtree rd.  peachtree square shopping...</td>\n",
       "      <td>atlanta</td>\n",
       "      <td>404/352-3517</td>\n",
       "      <td>american</td>\n",
       "      <td>81</td>\n",
       "      <td>'kelly\\'s on trinity'</td>\n",
       "      <td>'333 bush st.'</td>\n",
       "      <td>'san francisco'</td>\n",
       "      <td>415-362-4454</td>\n",
       "      <td>californian</td>\n",
       "      <td>733</td>\n",
       "      <td>615#199</td>\n",
       "    </tr>\n",
       "    <tr>\n",
       "      <th>82</th>\n",
       "      <td>0</td>\n",
       "      <td>'gramercy tavern'</td>\n",
       "      <td>'42 e. 20th st.  between park ave. s and broad...</td>\n",
       "      <td>'new york'</td>\n",
       "      <td>212/477-0777</td>\n",
       "      <td>american</td>\n",
       "      <td>36</td>\n",
       "      <td>'kelly\\'s on trinity'</td>\n",
       "      <td>'333 bush st.'</td>\n",
       "      <td>'san francisco'</td>\n",
       "      <td>415-362-4454</td>\n",
       "      <td>californian</td>\n",
       "      <td>733</td>\n",
       "      <td>570#199</td>\n",
       "    </tr>\n",
       "    <tr>\n",
       "      <th>83</th>\n",
       "      <td>0</td>\n",
       "      <td>valentino</td>\n",
       "      <td>'3115 pico blvd.'</td>\n",
       "      <td>'santa monica'</td>\n",
       "      <td>310/829-4313</td>\n",
       "      <td>italian</td>\n",
       "      <td>21</td>\n",
       "      <td>'kelly\\'s on trinity'</td>\n",
       "      <td>'333 bush st.'</td>\n",
       "      <td>'san francisco'</td>\n",
       "      <td>415-362-4454</td>\n",
       "      <td>californian</td>\n",
       "      <td>733</td>\n",
       "      <td>555#199</td>\n",
       "    </tr>\n",
       "    <tr>\n",
       "      <th>84</th>\n",
       "      <td>0</td>\n",
       "      <td>'grill on the alley'</td>\n",
       "      <td>'9560 dayton way'</td>\n",
       "      <td>'los angeles'</td>\n",
       "      <td>310/276-0615</td>\n",
       "      <td>american</td>\n",
       "      <td>9</td>\n",
       "      <td>'kelly\\'s on trinity'</td>\n",
       "      <td>'333 bush st.'</td>\n",
       "      <td>'san francisco'</td>\n",
       "      <td>415-362-4454</td>\n",
       "      <td>californian</td>\n",
       "      <td>733</td>\n",
       "      <td>543#199</td>\n",
       "    </tr>\n",
       "    <tr>\n",
       "      <th>85</th>\n",
       "      <td>0</td>\n",
       "      <td>'khan toke thai house'</td>\n",
       "      <td>'5937 geary blvd.'</td>\n",
       "      <td>'san francisco'</td>\n",
       "      <td>415/668-6654</td>\n",
       "      <td>asian</td>\n",
       "      <td>103</td>\n",
       "      <td>'kelly\\'s on trinity'</td>\n",
       "      <td>'333 bush st.'</td>\n",
       "      <td>'san francisco'</td>\n",
       "      <td>415-362-4454</td>\n",
       "      <td>californian</td>\n",
       "      <td>733</td>\n",
       "      <td>637#199</td>\n",
       "    </tr>\n",
       "    <tr>\n",
       "      <th>86</th>\n",
       "      <td>0</td>\n",
       "      <td>dawat</td>\n",
       "      <td>'210 e. 58th st.'</td>\n",
       "      <td>'new york'</td>\n",
       "      <td>212/355-7555</td>\n",
       "      <td>asian</td>\n",
       "      <td>32</td>\n",
       "      <td>'vicolo pizzeria'</td>\n",
       "      <td>'201 ivy st.'</td>\n",
       "      <td>'san francisco'</td>\n",
       "      <td>415-863-2382</td>\n",
       "      <td>pizza</td>\n",
       "      <td>751</td>\n",
       "      <td>566#217</td>\n",
       "    </tr>\n",
       "    <tr>\n",
       "      <th>87</th>\n",
       "      <td>0</td>\n",
       "      <td>'carnegie deli'</td>\n",
       "      <td>'854 7th ave.  between 54th and 55th sts.'</td>\n",
       "      <td>'new york'</td>\n",
       "      <td>212/757-2245</td>\n",
       "      <td>delicatessen</td>\n",
       "      <td>29</td>\n",
       "      <td>'vicolo pizzeria'</td>\n",
       "      <td>'201 ivy st.'</td>\n",
       "      <td>'san francisco'</td>\n",
       "      <td>415-863-2382</td>\n",
       "      <td>pizza</td>\n",
       "      <td>751</td>\n",
       "      <td>563#217</td>\n",
       "    </tr>\n",
       "    <tr>\n",
       "      <th>88</th>\n",
       "      <td>0</td>\n",
       "      <td>'chez michel'</td>\n",
       "      <td>'804 northpoint'</td>\n",
       "      <td>'san francisco'</td>\n",
       "      <td>415/775-7036</td>\n",
       "      <td>french</td>\n",
       "      <td>99</td>\n",
       "      <td>'vicolo pizzeria'</td>\n",
       "      <td>'201 ivy st.'</td>\n",
       "      <td>'san francisco'</td>\n",
       "      <td>415-863-2382</td>\n",
       "      <td>pizza</td>\n",
       "      <td>751</td>\n",
       "      <td>633#217</td>\n",
       "    </tr>\n",
       "    <tr>\n",
       "      <th>89</th>\n",
       "      <td>0</td>\n",
       "      <td>'hedgerose heights inn'</td>\n",
       "      <td>'490 e. paces ferry rd.'</td>\n",
       "      <td>atlanta</td>\n",
       "      <td>404/233-7673</td>\n",
       "      <td>international</td>\n",
       "      <td>82</td>\n",
       "      <td>'vicolo pizzeria'</td>\n",
       "      <td>'201 ivy st.'</td>\n",
       "      <td>'san francisco'</td>\n",
       "      <td>415-863-2382</td>\n",
       "      <td>pizza</td>\n",
       "      <td>751</td>\n",
       "      <td>616#217</td>\n",
       "    </tr>\n",
       "    <tr>\n",
       "      <th>90</th>\n",
       "      <td>0</td>\n",
       "      <td>ciboulette</td>\n",
       "      <td>'1529 piedmont ave.'</td>\n",
       "      <td>atlanta</td>\n",
       "      <td>404/874-7600</td>\n",
       "      <td>french</td>\n",
       "      <td>79</td>\n",
       "      <td>'vicolo pizzeria'</td>\n",
       "      <td>'201 ivy st.'</td>\n",
       "      <td>'san francisco'</td>\n",
       "      <td>415-863-2382</td>\n",
       "      <td>pizza</td>\n",
       "      <td>751</td>\n",
       "      <td>613#217</td>\n",
       "    </tr>\n",
       "    <tr>\n",
       "      <th>91</th>\n",
       "      <td>0</td>\n",
       "      <td>'brasserie le coze'</td>\n",
       "      <td>'3393 peachtree rd.  lenox square mall  near n...</td>\n",
       "      <td>atlanta</td>\n",
       "      <td>404/266-1440</td>\n",
       "      <td>french</td>\n",
       "      <td>77</td>\n",
       "      <td>'vicolo pizzeria'</td>\n",
       "      <td>'201 ivy st.'</td>\n",
       "      <td>'san francisco'</td>\n",
       "      <td>415-863-2382</td>\n",
       "      <td>pizza</td>\n",
       "      <td>751</td>\n",
       "      <td>611#217</td>\n",
       "    </tr>\n",
       "    <tr>\n",
       "      <th>92</th>\n",
       "      <td>0</td>\n",
       "      <td>aureole</td>\n",
       "      <td>'34 e. 61st st.'</td>\n",
       "      <td>'new york'</td>\n",
       "      <td>'212/ 319-1660'</td>\n",
       "      <td>american</td>\n",
       "      <td>25</td>\n",
       "      <td>'vicolo pizzeria'</td>\n",
       "      <td>'201 ivy st.'</td>\n",
       "      <td>'san francisco'</td>\n",
       "      <td>415-863-2382</td>\n",
       "      <td>pizza</td>\n",
       "      <td>751</td>\n",
       "      <td>559#217</td>\n",
       "    </tr>\n",
       "    <tr>\n",
       "      <th>93</th>\n",
       "      <td>0</td>\n",
       "      <td>'georgia grille'</td>\n",
       "      <td>'2290 peachtree rd.  peachtree square shopping...</td>\n",
       "      <td>atlanta</td>\n",
       "      <td>404/352-3517</td>\n",
       "      <td>american</td>\n",
       "      <td>81</td>\n",
       "      <td>'vicolo pizzeria'</td>\n",
       "      <td>'201 ivy st.'</td>\n",
       "      <td>'san francisco'</td>\n",
       "      <td>415-863-2382</td>\n",
       "      <td>pizza</td>\n",
       "      <td>751</td>\n",
       "      <td>615#217</td>\n",
       "    </tr>\n",
       "    <tr>\n",
       "      <th>94</th>\n",
       "      <td>0</td>\n",
       "      <td>'gramercy tavern'</td>\n",
       "      <td>'42 e. 20th st.  between park ave. s and broad...</td>\n",
       "      <td>'new york'</td>\n",
       "      <td>212/477-0777</td>\n",
       "      <td>american</td>\n",
       "      <td>36</td>\n",
       "      <td>'vicolo pizzeria'</td>\n",
       "      <td>'201 ivy st.'</td>\n",
       "      <td>'san francisco'</td>\n",
       "      <td>415-863-2382</td>\n",
       "      <td>pizza</td>\n",
       "      <td>751</td>\n",
       "      <td>570#217</td>\n",
       "    </tr>\n",
       "    <tr>\n",
       "      <th>95</th>\n",
       "      <td>0</td>\n",
       "      <td>valentino</td>\n",
       "      <td>'3115 pico blvd.'</td>\n",
       "      <td>'santa monica'</td>\n",
       "      <td>310/829-4313</td>\n",
       "      <td>italian</td>\n",
       "      <td>21</td>\n",
       "      <td>'vicolo pizzeria'</td>\n",
       "      <td>'201 ivy st.'</td>\n",
       "      <td>'san francisco'</td>\n",
       "      <td>415-863-2382</td>\n",
       "      <td>pizza</td>\n",
       "      <td>751</td>\n",
       "      <td>555#217</td>\n",
       "    </tr>\n",
       "    <tr>\n",
       "      <th>96</th>\n",
       "      <td>0</td>\n",
       "      <td>'grill on the alley'</td>\n",
       "      <td>'9560 dayton way'</td>\n",
       "      <td>'los angeles'</td>\n",
       "      <td>310/276-0615</td>\n",
       "      <td>american</td>\n",
       "      <td>9</td>\n",
       "      <td>'vicolo pizzeria'</td>\n",
       "      <td>'201 ivy st.'</td>\n",
       "      <td>'san francisco'</td>\n",
       "      <td>415-863-2382</td>\n",
       "      <td>pizza</td>\n",
       "      <td>751</td>\n",
       "      <td>543#217</td>\n",
       "    </tr>\n",
       "    <tr>\n",
       "      <th>97</th>\n",
       "      <td>0</td>\n",
       "      <td>'khan toke thai house'</td>\n",
       "      <td>'5937 geary blvd.'</td>\n",
       "      <td>'san francisco'</td>\n",
       "      <td>415/668-6654</td>\n",
       "      <td>asian</td>\n",
       "      <td>103</td>\n",
       "      <td>'vicolo pizzeria'</td>\n",
       "      <td>'201 ivy st.'</td>\n",
       "      <td>'san francisco'</td>\n",
       "      <td>415-863-2382</td>\n",
       "      <td>pizza</td>\n",
       "      <td>751</td>\n",
       "      <td>637#217</td>\n",
       "    </tr>\n",
       "  </tbody>\n",
       "</table>\n",
       "</div>"
      ],
      "text/plain": [
       "    label              ltable_name  ... rtable_class       id\n",
       "78      0               ciboulette  ...          733  613#199\n",
       "79      0      'brasserie le coze'  ...          733  611#199\n",
       "80      0                  aureole  ...          733  559#199\n",
       "81      0         'georgia grille'  ...          733  615#199\n",
       "82      0        'gramercy tavern'  ...          733  570#199\n",
       "83      0                valentino  ...          733  555#199\n",
       "84      0     'grill on the alley'  ...          733  543#199\n",
       "85      0   'khan toke thai house'  ...          733  637#199\n",
       "86      0                    dawat  ...          751  566#217\n",
       "87      0          'carnegie deli'  ...          751  563#217\n",
       "88      0            'chez michel'  ...          751  633#217\n",
       "89      0  'hedgerose heights inn'  ...          751  616#217\n",
       "90      0               ciboulette  ...          751  613#217\n",
       "91      0      'brasserie le coze'  ...          751  611#217\n",
       "92      0                  aureole  ...          751  559#217\n",
       "93      0         'georgia grille'  ...          751  615#217\n",
       "94      0        'gramercy tavern'  ...          751  570#217\n",
       "95      0                valentino  ...          751  555#217\n",
       "96      0     'grill on the alley'  ...          751  543#217\n",
       "97      0   'khan toke thai house'  ...          751  637#217\n",
       "\n",
       "[20 rows x 14 columns]"
      ]
     },
     "execution_count": 23,
     "metadata": {},
     "output_type": "execute_result"
    }
   ],
   "source": [
    "test.tail(20)"
   ]
  },
  {
   "cell_type": "code",
   "execution_count": null,
   "metadata": {},
   "outputs": [],
   "source": []
  }
 ],
 "metadata": {
  "kernelspec": {
   "display_name": "Python 3",
   "language": "python",
   "name": "python3"
  },
  "language_info": {
   "codemirror_mode": {
    "name": "ipython",
    "version": 3
   },
   "file_extension": ".py",
   "mimetype": "text/x-python",
   "name": "python",
   "nbconvert_exporter": "python",
   "pygments_lexer": "ipython3",
   "version": "3.6.9"
  }
 },
 "nbformat": 4,
 "nbformat_minor": 2
}
