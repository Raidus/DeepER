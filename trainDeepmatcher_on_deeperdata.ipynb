{
 "cells": [
  {
   "cell_type": "code",
   "execution_count": 1,
   "metadata": {
    "ExecuteTime": {
     "end_time": "2020-06-06T10:52:01.204564Z",
     "start_time": "2020-06-06T10:51:59.821655Z"
    }
   },
   "outputs": [],
   "source": [
    "import deepmatcher as dm"
   ]
  },
  {
   "cell_type": "markdown",
   "metadata": {},
   "source": [
    "## Beer"
   ]
  },
  {
   "cell_type": "code",
   "execution_count": 2,
   "metadata": {
    "ExecuteTime": {
     "end_time": "2020-05-25T10:23:28.114493Z",
     "start_time": "2020-05-25T10:23:27.923469Z"
    }
   },
   "outputs": [],
   "source": [
    "train,valid,test = dm.data.process('datasets/beeradvo_ratebeer/','train.csv','validation.csv',\n",
    "                                  'test.csv',left_prefix='ltable_',right_prefix='rtable_')"
   ]
  },
  {
   "cell_type": "code",
   "execution_count": 4,
   "metadata": {
    "ExecuteTime": {
     "end_time": "2020-05-25T10:24:53.236775Z",
     "start_time": "2020-05-25T10:24:24.263503Z"
    }
   },
   "outputs": [
    {
     "name": "stdout",
     "output_type": "stream",
     "text": [
      "* Number of trainable parameters: 2169602\n",
      "===>  TRAIN Epoch 1\n"
     ]
    },
    {
     "name": "stderr",
     "output_type": "stream",
     "text": [
      "0% [█] 100% | ETA: 00:00:00\n",
      "Total time elapsed: 00:00:00\n"
     ]
    },
    {
     "name": "stdout",
     "output_type": "stream",
     "text": [
      "Finished Epoch 1 || Run Time:    0.8 | Load Time:    0.3 || F1:  55.78 | Prec:  40.20 | Rec:  91.11 || Ex/s: 118.43\n",
      "\n",
      "===>  EVAL Epoch 1\n",
      "Finished Epoch 1 || Run Time:    0.1 | Load Time:    0.1 || F1:  57.14 | Prec:  66.67 | Rec:  50.00 || Ex/s: 227.68\n",
      "\n",
      "* Best F1: tensor(57.1429, device='cuda:0')\n",
      "Saving best model...\n",
      "Done.\n",
      "---------------------\n",
      "\n",
      "===>  TRAIN Epoch 2\n"
     ]
    },
    {
     "name": "stderr",
     "output_type": "stream",
     "text": [
      "0% [█] 100% | ETA: 00:00:00\n",
      "Total time elapsed: 00:00:00\n"
     ]
    },
    {
     "name": "stdout",
     "output_type": "stream",
     "text": [
      "Finished Epoch 2 || Run Time:    0.8 | Load Time:    0.3 || F1:  88.42 | Prec:  84.00 | Rec:  93.33 || Ex/s: 113.50\n",
      "\n",
      "===>  EVAL Epoch 2\n",
      "Finished Epoch 2 || Run Time:    0.1 | Load Time:    0.1 || F1:  73.33 | Prec:  61.11 | Rec:  91.67 || Ex/s: 205.59\n",
      "\n",
      "* Best F1: tensor(73.3333, device='cuda:0')\n",
      "Saving best model...\n",
      "Done.\n",
      "---------------------\n",
      "\n",
      "===>  TRAIN Epoch 3\n"
     ]
    },
    {
     "name": "stderr",
     "output_type": "stream",
     "text": [
      "0% [█] 100% | ETA: 00:00:00\n",
      "Total time elapsed: 00:00:00\n"
     ]
    },
    {
     "name": "stdout",
     "output_type": "stream",
     "text": [
      "Finished Epoch 3 || Run Time:    0.7 | Load Time:    0.3 || F1:  79.25 | Prec:  68.85 | Rec:  93.33 || Ex/s: 126.35\n",
      "\n",
      "===>  EVAL Epoch 3\n",
      "Finished Epoch 3 || Run Time:    0.1 | Load Time:    0.1 || F1:  68.75 | Prec:  55.00 | Rec:  91.67 || Ex/s: 145.28\n",
      "\n",
      "---------------------\n",
      "\n",
      "===>  TRAIN Epoch 4\n"
     ]
    },
    {
     "name": "stderr",
     "output_type": "stream",
     "text": [
      "0% [█] 100% | ETA: 00:00:00\n",
      "Total time elapsed: 00:00:00\n"
     ]
    },
    {
     "name": "stdout",
     "output_type": "stream",
     "text": [
      "Finished Epoch 4 || Run Time:    0.9 | Load Time:    0.4 || F1:  79.25 | Prec:  68.85 | Rec:  93.33 || Ex/s:  95.33\n",
      "\n",
      "===>  EVAL Epoch 4\n",
      "Finished Epoch 4 || Run Time:    0.1 | Load Time:    0.1 || F1:  70.97 | Prec:  57.89 | Rec:  91.67 || Ex/s: 168.11\n",
      "\n",
      "---------------------\n",
      "\n",
      "===>  TRAIN Epoch 5\n"
     ]
    },
    {
     "name": "stderr",
     "output_type": "stream",
     "text": [
      "0% [█] 100% | ETA: 00:00:00\n",
      "Total time elapsed: 00:00:00\n"
     ]
    },
    {
     "name": "stdout",
     "output_type": "stream",
     "text": [
      "Finished Epoch 5 || Run Time:    0.9 | Load Time:    0.4 || F1:  88.66 | Prec:  82.69 | Rec:  95.56 || Ex/s:  98.67\n",
      "\n",
      "===>  EVAL Epoch 5\n",
      "Finished Epoch 5 || Run Time:    0.1 | Load Time:    0.1 || F1:  78.57 | Prec:  68.75 | Rec:  91.67 || Ex/s: 171.22\n",
      "\n",
      "* Best F1: tensor(78.5714, device='cuda:0')\n",
      "Saving best model...\n",
      "Done.\n",
      "---------------------\n",
      "\n",
      "===>  TRAIN Epoch 6\n"
     ]
    },
    {
     "name": "stderr",
     "output_type": "stream",
     "text": [
      "0% [█] 100% | ETA: 00:00:00\n",
      "Total time elapsed: 00:00:00\n"
     ]
    },
    {
     "name": "stdout",
     "output_type": "stream",
     "text": [
      "Finished Epoch 6 || Run Time:    0.9 | Load Time:    0.4 || F1:  95.74 | Prec:  91.84 | Rec: 100.00 || Ex/s:  97.92\n",
      "\n",
      "===>  EVAL Epoch 6\n",
      "Finished Epoch 6 || Run Time:    0.1 | Load Time:    0.1 || F1:  88.89 | Prec:  80.00 | Rec: 100.00 || Ex/s: 167.81\n",
      "\n",
      "* Best F1: tensor(88.8889, device='cuda:0')\n",
      "Saving best model...\n",
      "Done.\n",
      "---------------------\n",
      "\n",
      "===>  TRAIN Epoch 7\n"
     ]
    },
    {
     "name": "stderr",
     "output_type": "stream",
     "text": [
      "0% [█] 100% | ETA: 00:00:00\n",
      "Total time elapsed: 00:00:00\n"
     ]
    },
    {
     "name": "stdout",
     "output_type": "stream",
     "text": [
      "Finished Epoch 7 || Run Time:    0.9 | Load Time:    0.4 || F1:  98.90 | Prec:  97.83 | Rec: 100.00 || Ex/s: 105.65\n",
      "\n",
      "===>  EVAL Epoch 7\n",
      "Finished Epoch 7 || Run Time:    0.1 | Load Time:    0.1 || F1:  85.71 | Prec:  75.00 | Rec: 100.00 || Ex/s: 195.06\n",
      "\n",
      "---------------------\n",
      "\n",
      "===>  TRAIN Epoch 8\n"
     ]
    },
    {
     "name": "stderr",
     "output_type": "stream",
     "text": [
      "0% [█] 100% | ETA: 00:00:00\n",
      "Total time elapsed: 00:00:00\n"
     ]
    },
    {
     "name": "stdout",
     "output_type": "stream",
     "text": [
      "Finished Epoch 8 || Run Time:    0.9 | Load Time:    0.4 || F1: 100.00 | Prec: 100.00 | Rec: 100.00 || Ex/s:  98.19\n",
      "\n",
      "===>  EVAL Epoch 8\n",
      "Finished Epoch 8 || Run Time:    0.1 | Load Time:    0.1 || F1:  85.71 | Prec:  75.00 | Rec: 100.00 || Ex/s: 165.85\n",
      "\n",
      "---------------------\n",
      "\n",
      "===>  TRAIN Epoch 9\n"
     ]
    },
    {
     "name": "stderr",
     "output_type": "stream",
     "text": [
      "0% [█] 100% | ETA: 00:00:00\n",
      "Total time elapsed: 00:00:00\n"
     ]
    },
    {
     "name": "stdout",
     "output_type": "stream",
     "text": [
      "Finished Epoch 9 || Run Time:    0.9 | Load Time:    0.4 || F1: 100.00 | Prec: 100.00 | Rec: 100.00 || Ex/s:  98.08\n",
      "\n",
      "===>  EVAL Epoch 9\n",
      "Finished Epoch 9 || Run Time:    0.1 | Load Time:    0.1 || F1:  85.71 | Prec:  75.00 | Rec: 100.00 || Ex/s: 185.03\n",
      "\n",
      "---------------------\n",
      "\n",
      "===>  TRAIN Epoch 10\n"
     ]
    },
    {
     "name": "stderr",
     "output_type": "stream",
     "text": [
      "0% [█] 100% | ETA: 00:00:00\n",
      "Total time elapsed: 00:00:00\n"
     ]
    },
    {
     "name": "stdout",
     "output_type": "stream",
     "text": [
      "Finished Epoch 10 || Run Time:    0.9 | Load Time:    0.4 || F1: 100.00 | Prec: 100.00 | Rec: 100.00 || Ex/s: 102.61\n",
      "\n",
      "===>  EVAL Epoch 10\n",
      "Finished Epoch 10 || Run Time:    0.1 | Load Time:    0.1 || F1:  82.76 | Prec:  70.59 | Rec: 100.00 || Ex/s: 171.42\n",
      "\n",
      "---------------------\n",
      "\n",
      "===>  TRAIN Epoch 11\n"
     ]
    },
    {
     "name": "stderr",
     "output_type": "stream",
     "text": [
      "0% [█] 100% | ETA: 00:00:00\n",
      "Total time elapsed: 00:00:00\n"
     ]
    },
    {
     "name": "stdout",
     "output_type": "stream",
     "text": [
      "Finished Epoch 11 || Run Time:    0.9 | Load Time:    0.4 || F1: 100.00 | Prec: 100.00 | Rec: 100.00 || Ex/s: 101.26\n",
      "\n",
      "===>  EVAL Epoch 11\n",
      "Finished Epoch 11 || Run Time:    0.1 | Load Time:    0.1 || F1:  82.76 | Prec:  70.59 | Rec: 100.00 || Ex/s: 187.46\n",
      "\n",
      "---------------------\n",
      "\n",
      "===>  TRAIN Epoch 12\n"
     ]
    },
    {
     "name": "stderr",
     "output_type": "stream",
     "text": [
      "0% [█] 100% | ETA: 00:00:00\n",
      "Total time elapsed: 00:00:00\n"
     ]
    },
    {
     "name": "stdout",
     "output_type": "stream",
     "text": [
      "Finished Epoch 12 || Run Time:    0.9 | Load Time:    0.4 || F1: 100.00 | Prec: 100.00 | Rec: 100.00 || Ex/s: 105.00\n",
      "\n",
      "===>  EVAL Epoch 12\n",
      "Finished Epoch 12 || Run Time:    0.1 | Load Time:    0.1 || F1:  82.76 | Prec:  70.59 | Rec: 100.00 || Ex/s: 162.23\n",
      "\n",
      "---------------------\n",
      "\n",
      "===>  TRAIN Epoch 13\n"
     ]
    },
    {
     "name": "stderr",
     "output_type": "stream",
     "text": [
      "0% [█] 100% | ETA: 00:00:00\n",
      "Total time elapsed: 00:00:00\n"
     ]
    },
    {
     "name": "stdout",
     "output_type": "stream",
     "text": [
      "Finished Epoch 13 || Run Time:    0.9 | Load Time:    0.4 || F1: 100.00 | Prec: 100.00 | Rec: 100.00 || Ex/s: 104.00\n",
      "\n",
      "===>  EVAL Epoch 13\n",
      "Finished Epoch 13 || Run Time:    0.1 | Load Time:    0.1 || F1:  80.00 | Prec:  66.67 | Rec: 100.00 || Ex/s: 185.91\n",
      "\n",
      "---------------------\n",
      "\n",
      "===>  TRAIN Epoch 14\n"
     ]
    },
    {
     "name": "stderr",
     "output_type": "stream",
     "text": [
      "0% [█] 100% | ETA: 00:00:00\n",
      "Total time elapsed: 00:00:00\n"
     ]
    },
    {
     "name": "stdout",
     "output_type": "stream",
     "text": [
      "Finished Epoch 14 || Run Time:    0.8 | Load Time:    0.4 || F1: 100.00 | Prec: 100.00 | Rec: 100.00 || Ex/s: 106.60\n",
      "\n",
      "===>  EVAL Epoch 14\n",
      "Finished Epoch 14 || Run Time:    0.1 | Load Time:    0.1 || F1:  80.00 | Prec:  66.67 | Rec: 100.00 || Ex/s: 173.01\n",
      "\n",
      "---------------------\n",
      "\n",
      "===>  TRAIN Epoch 15\n"
     ]
    },
    {
     "name": "stderr",
     "output_type": "stream",
     "text": [
      "0% [█] 100% | ETA: 00:00:00\n",
      "Total time elapsed: 00:00:00\n"
     ]
    },
    {
     "name": "stdout",
     "output_type": "stream",
     "text": [
      "Finished Epoch 15 || Run Time:    0.8 | Load Time:    0.4 || F1: 100.00 | Prec: 100.00 | Rec: 100.00 || Ex/s: 106.08\n",
      "\n",
      "===>  EVAL Epoch 15\n",
      "Finished Epoch 15 || Run Time:    0.1 | Load Time:    0.1 || F1:  80.00 | Prec:  66.67 | Rec: 100.00 || Ex/s: 189.39\n",
      "\n",
      "---------------------\n",
      "\n",
      "===>  TRAIN Epoch 16\n"
     ]
    },
    {
     "name": "stderr",
     "output_type": "stream",
     "text": [
      "0% [█] 100% | ETA: 00:00:00\n",
      "Total time elapsed: 00:00:00\n"
     ]
    },
    {
     "name": "stdout",
     "output_type": "stream",
     "text": [
      "Finished Epoch 16 || Run Time:    0.8 | Load Time:    0.3 || F1: 100.00 | Prec: 100.00 | Rec: 100.00 || Ex/s: 114.33\n",
      "\n",
      "===>  EVAL Epoch 16\n",
      "Finished Epoch 16 || Run Time:    0.1 | Load Time:    0.1 || F1:  80.00 | Prec:  66.67 | Rec: 100.00 || Ex/s: 228.76\n",
      "\n",
      "---------------------\n",
      "\n",
      "===>  TRAIN Epoch 17\n"
     ]
    },
    {
     "name": "stderr",
     "output_type": "stream",
     "text": [
      "0% [█] 100% | ETA: 00:00:00\n",
      "Total time elapsed: 00:00:00\n"
     ]
    },
    {
     "name": "stdout",
     "output_type": "stream",
     "text": [
      "Finished Epoch 17 || Run Time:    0.8 | Load Time:    0.3 || F1: 100.00 | Prec: 100.00 | Rec: 100.00 || Ex/s: 114.89\n",
      "\n",
      "===>  EVAL Epoch 17\n",
      "Finished Epoch 17 || Run Time:    0.1 | Load Time:    0.1 || F1:  80.00 | Prec:  66.67 | Rec: 100.00 || Ex/s: 213.32\n",
      "\n",
      "---------------------\n",
      "\n",
      "===>  TRAIN Epoch 18\n"
     ]
    },
    {
     "name": "stderr",
     "output_type": "stream",
     "text": [
      "0% [█] 100% | ETA: 00:00:00\n",
      "Total time elapsed: 00:00:00\n"
     ]
    },
    {
     "name": "stdout",
     "output_type": "stream",
     "text": [
      "Finished Epoch 18 || Run Time:    0.8 | Load Time:    0.3 || F1: 100.00 | Prec: 100.00 | Rec: 100.00 || Ex/s: 119.82\n",
      "\n",
      "===>  EVAL Epoch 18\n",
      "Finished Epoch 18 || Run Time:    0.1 | Load Time:    0.1 || F1:  80.00 | Prec:  66.67 | Rec: 100.00 || Ex/s: 209.52\n",
      "\n",
      "---------------------\n",
      "\n",
      "===>  TRAIN Epoch 19\n"
     ]
    },
    {
     "name": "stderr",
     "output_type": "stream",
     "text": [
      "0% [█] 100% | ETA: 00:00:00\n",
      "Total time elapsed: 00:00:00\n"
     ]
    },
    {
     "name": "stdout",
     "output_type": "stream",
     "text": [
      "Finished Epoch 19 || Run Time:    0.8 | Load Time:    0.3 || F1: 100.00 | Prec: 100.00 | Rec: 100.00 || Ex/s: 113.48\n",
      "\n",
      "===>  EVAL Epoch 19\n",
      "Finished Epoch 19 || Run Time:    0.1 | Load Time:    0.1 || F1:  80.00 | Prec:  66.67 | Rec: 100.00 || Ex/s: 227.91\n",
      "\n",
      "---------------------\n",
      "\n",
      "===>  TRAIN Epoch 20\n"
     ]
    },
    {
     "name": "stderr",
     "output_type": "stream",
     "text": [
      "0% [█] 100% | ETA: 00:00:00\n",
      "Total time elapsed: 00:00:00\n"
     ]
    },
    {
     "name": "stdout",
     "output_type": "stream",
     "text": [
      "Finished Epoch 20 || Run Time:    0.8 | Load Time:    0.3 || F1: 100.00 | Prec: 100.00 | Rec: 100.00 || Ex/s: 113.75\n",
      "\n",
      "===>  EVAL Epoch 20\n",
      "Finished Epoch 20 || Run Time:    0.1 | Load Time:    0.1 || F1:  80.00 | Prec:  66.67 | Rec: 100.00 || Ex/s: 228.84\n",
      "\n",
      "---------------------\n",
      "\n",
      "Loading best model...\n",
      "Training done.\n"
     ]
    },
    {
     "data": {
      "text/plain": [
       "tensor(88.8889, device='cuda:0')"
      ]
     },
     "execution_count": 4,
     "metadata": {},
     "output_type": "execute_result"
    }
   ],
   "source": [
    "rnn = dm.MatchingModel(attr_summarizer='rnn')\n",
    "rnn.run_train(train,valid,best_save_path='models/beeradvo_ratebeer_rnn.pth',epochs=20,batch_size=16,\n",
    "               pos_neg_ratio=2)hybrid"
   ]
  },
  {
   "cell_type": "code",
   "execution_count": 5,
   "metadata": {
    "ExecuteTime": {
     "end_time": "2020-05-25T10:25:31.986620Z",
     "start_time": "2020-05-25T10:25:31.789633Z"
    }
   },
   "outputs": [
    {
     "name": "stdout",
     "output_type": "stream",
     "text": [
      "===>  EVAL Epoch 6\n",
      "Finished Epoch 6 || Run Time:    0.1 | Load Time:    0.1 || F1:  74.07 | Prec:  62.50 | Rec:  90.91 || Ex/s: 235.83\n",
      "\n"
     ]
    },
    {
     "data": {
      "text/plain": [
       "tensor(74.0741, device='cuda:0')"
      ]
     },
     "execution_count": 5,
     "metadata": {},
     "output_type": "execute_result"
    }
   ],
   "source": [
    "rnn.run_eval(test)"
   ]
  },
  {
   "cell_type": "code",
   "execution_count": null,
   "metadata": {
    "ExecuteTime": {
     "start_time": "2020-05-25T10:14:53.690Z"
    }
   },
   "outputs": [
    {
     "name": "stdout",
     "output_type": "stream",
     "text": [
      "* Number of trainable parameters: 9210006\n",
      "===>  TRAIN Epoch 1\n"
     ]
    },
    {
     "name": "stderr",
     "output_type": "stream",
     "text": [
      "/home/nvidia/anaconda3/envs/testenv/lib/python3.8/site-packages/torch/nn/functional.py:1958: UserWarning: reduction: 'mean' divides the total loss by both the batch size and the support size.'batchmean' divides only by the batch size, and aligns with the KL div math definition.'mean' will be changed to behave the same as 'batchmean' in the next major release.\n",
      "  warnings.warn(\"reduction: 'mean' divides the total loss by both the batch size and the support size.\"\n",
      "0% [█] 100% | ETA: 00:00:00\n",
      "Total time elapsed: 00:00:01\n"
     ]
    },
    {
     "name": "stdout",
     "output_type": "stream",
     "text": [
      "Finished Epoch 1 || Run Time:    1.3 | Load Time:    0.2 || F1:  50.34 | Prec:  36.27 | Rec:  82.22 || Ex/s:  87.29\n",
      "\n",
      "===>  EVAL Epoch 1\n",
      "Finished Epoch 1 || Run Time:    0.1 | Load Time:    0.0 || F1:   0.00 | Prec:   0.00 | Rec:   0.00 || Ex/s: 178.95\n",
      "\n",
      "* Best F1: tensor(0., device='cuda:0')\n",
      "Saving best model...\n",
      "Done.\n",
      "---------------------\n",
      "\n",
      "===>  TRAIN Epoch 2\n"
     ]
    },
    {
     "name": "stderr",
     "output_type": "stream",
     "text": [
      "0% [█] 100% | ETA: 00:00:00\n",
      "Total time elapsed: 00:00:01\n"
     ]
    },
    {
     "name": "stdout",
     "output_type": "stream",
     "text": [
      "Finished Epoch 2 || Run Time:    1.3 | Load Time:    0.2 || F1:   0.00 | Prec:   0.00 | Rec:   0.00 || Ex/s:  86.74\n",
      "\n",
      "===>  EVAL Epoch 2\n",
      "Finished Epoch 2 || Run Time:    0.2 | Load Time:    0.1 || F1:  15.38 | Prec: 100.00 | Rec:   8.33 || Ex/s: 122.87\n",
      "\n",
      "* Best F1: tensor(15.3846, device='cuda:0')\n",
      "Saving best model...\n",
      "Done.\n",
      "---------------------\n",
      "\n",
      "===>  TRAIN Epoch 3\n"
     ]
    },
    {
     "name": "stderr",
     "output_type": "stream",
     "text": [
      "0% [█] 100% | ETA: 00:00:00\n",
      "Total time elapsed: 00:00:01\n"
     ]
    },
    {
     "name": "stdout",
     "output_type": "stream",
     "text": [
      "Finished Epoch 3 || Run Time:    1.5 | Load Time:    0.3 || F1:  30.19 | Prec: 100.00 | Rec:  17.78 || Ex/s:  72.37\n",
      "\n",
      "===>  EVAL Epoch 3\n",
      "Finished Epoch 3 || Run Time:    0.2 | Load Time:    0.1 || F1:  66.67 | Prec: 100.00 | Rec:  50.00 || Ex/s: 122.48\n",
      "\n",
      "* Best F1: tensor(66.6667, device='cuda:0')\n",
      "Saving best model...\n",
      "Done.\n",
      "---------------------\n",
      "\n",
      "===>  TRAIN Epoch 4\n"
     ]
    },
    {
     "name": "stderr",
     "output_type": "stream",
     "text": [
      "0% [█] 100% | ETA: 00:00:00\n",
      "Total time elapsed: 00:00:01\n"
     ]
    },
    {
     "name": "stdout",
     "output_type": "stream",
     "text": [
      "Finished Epoch 4 || Run Time:    1.5 | Load Time:    0.3 || F1:  89.16 | Prec:  97.37 | Rec:  82.22 || Ex/s:  72.76\n",
      "\n",
      "===>  EVAL Epoch 4\n",
      "Finished Epoch 4 || Run Time:    0.2 | Load Time:    0.1 || F1:  80.00 | Prec: 100.00 | Rec:  66.67 || Ex/s: 122.70\n",
      "\n",
      "* Best F1: tensor(80., device='cuda:0')\n",
      "Saving best model...\n",
      "Done.\n",
      "---------------------\n",
      "\n",
      "===>  TRAIN Epoch 5\n"
     ]
    },
    {
     "name": "stderr",
     "output_type": "stream",
     "text": [
      "0% [█] 100% | ETA: 00:00:00\n",
      "Total time elapsed: 00:00:01\n"
     ]
    },
    {
     "name": "stdout",
     "output_type": "stream",
     "text": [
      "Finished Epoch 5 || Run Time:    1.5 | Load Time:    0.3 || F1:  97.73 | Prec: 100.00 | Rec:  95.56 || Ex/s:  72.45\n",
      "\n",
      "===>  EVAL Epoch 5\n",
      "Finished Epoch 5 || Run Time:    0.2 | Load Time:    0.1 || F1:  80.00 | Prec: 100.00 | Rec:  66.67 || Ex/s: 122.47\n",
      "\n",
      "---------------------\n",
      "\n",
      "===>  TRAIN Epoch 6\n"
     ]
    },
    {
     "name": "stderr",
     "output_type": "stream",
     "text": [
      "0% [█] 100% | ETA: 00:00:00\n",
      "Total time elapsed: 00:00:01\n"
     ]
    },
    {
     "name": "stdout",
     "output_type": "stream",
     "text": [
      "Finished Epoch 6 || Run Time:    1.6 | Load Time:    0.3 || F1: 100.00 | Prec: 100.00 | Rec: 100.00 || Ex/s:  70.55\n",
      "\n",
      "===>  EVAL Epoch 6\n",
      "Finished Epoch 6 || Run Time:    0.2 | Load Time:    0.1 || F1:  91.67 | Prec:  91.67 | Rec:  91.67 || Ex/s: 122.67\n",
      "\n",
      "* Best F1: tensor(91.6667, device='cuda:0')\n",
      "Saving best model...\n",
      "Done.\n",
      "---------------------\n",
      "\n",
      "===>  TRAIN Epoch 7\n"
     ]
    },
    {
     "name": "stderr",
     "output_type": "stream",
     "text": [
      "0% [█] 100% | ETA: 00:00:00\n",
      "Total time elapsed: 00:00:01\n"
     ]
    },
    {
     "name": "stdout",
     "output_type": "stream",
     "text": [
      "Finished Epoch 7 || Run Time:    1.5 | Load Time:    0.3 || F1:  95.74 | Prec:  91.84 | Rec: 100.00 || Ex/s:  72.95\n",
      "\n",
      "===>  EVAL Epoch 7\n",
      "Finished Epoch 7 || Run Time:    0.2 | Load Time:    0.1 || F1:  95.65 | Prec: 100.00 | Rec:  91.67 || Ex/s: 122.65\n",
      "\n",
      "* Best F1: tensor(95.6522, device='cuda:0')\n",
      "Saving best model...\n",
      "Done.\n",
      "---------------------\n",
      "\n",
      "===>  TRAIN Epoch 8\n"
     ]
    },
    {
     "name": "stderr",
     "output_type": "stream",
     "text": [
      "0% [█] 100% | ETA: 00:00:00\n",
      "Total time elapsed: 00:00:01\n"
     ]
    },
    {
     "name": "stdout",
     "output_type": "stream",
     "text": [
      "Finished Epoch 8 || Run Time:    1.6 | Load Time:    0.3 || F1: 100.00 | Prec: 100.00 | Rec: 100.00 || Ex/s:  69.01\n",
      "\n",
      "===>  EVAL Epoch 8\n",
      "Finished Epoch 8 || Run Time:    0.2 | Load Time:    0.1 || F1: 100.00 | Prec: 100.00 | Rec: 100.00 || Ex/s: 117.81\n",
      "\n",
      "* Best F1: tensor(100., device='cuda:0')\n",
      "Saving best model...\n",
      "Done.\n",
      "---------------------\n",
      "\n",
      "===>  TRAIN Epoch 9\n"
     ]
    },
    {
     "name": "stderr",
     "output_type": "stream",
     "text": [
      "0% [█] 100% | ETA: 00:00:00\n",
      "Total time elapsed: 00:00:01\n"
     ]
    },
    {
     "name": "stdout",
     "output_type": "stream",
     "text": [
      "Finished Epoch 9 || Run Time:    1.5 | Load Time:    0.3 || F1: 100.00 | Prec: 100.00 | Rec: 100.00 || Ex/s:  72.09\n",
      "\n",
      "===>  EVAL Epoch 9\n",
      "Finished Epoch 9 || Run Time:    0.2 | Load Time:    0.1 || F1:  96.00 | Prec:  92.31 | Rec: 100.00 || Ex/s: 112.91\n",
      "\n",
      "---------------------\n",
      "\n",
      "===>  TRAIN Epoch 10\n"
     ]
    },
    {
     "name": "stderr",
     "output_type": "stream",
     "text": [
      "0% [█] 100% | ETA: 00:00:00\n",
      "Total time elapsed: 00:00:01\n"
     ]
    },
    {
     "name": "stdout",
     "output_type": "stream",
     "text": [
      "Finished Epoch 10 || Run Time:    1.5 | Load Time:    0.3 || F1: 100.00 | Prec: 100.00 | Rec: 100.00 || Ex/s:  74.22\n",
      "\n",
      "===>  EVAL Epoch 10\n",
      "Finished Epoch 10 || Run Time:    0.2 | Load Time:    0.1 || F1:  96.00 | Prec:  92.31 | Rec: 100.00 || Ex/s: 122.05\n",
      "\n",
      "---------------------\n",
      "\n",
      "===>  TRAIN Epoch 11\n"
     ]
    },
    {
     "name": "stderr",
     "output_type": "stream",
     "text": [
      "0% [█] 100% | ETA: 00:00:00\n",
      "Total time elapsed: 00:00:01\n"
     ]
    },
    {
     "name": "stdout",
     "output_type": "stream",
     "text": [
      "Finished Epoch 11 || Run Time:    1.5 | Load Time:    0.3 || F1: 100.00 | Prec: 100.00 | Rec: 100.00 || Ex/s:  73.03\n",
      "\n",
      "===>  EVAL Epoch 11\n",
      "Finished Epoch 11 || Run Time:    0.2 | Load Time:    0.1 || F1:  96.00 | Prec:  92.31 | Rec: 100.00 || Ex/s: 120.33\n",
      "\n",
      "---------------------\n",
      "\n",
      "===>  TRAIN Epoch 12\n"
     ]
    },
    {
     "name": "stderr",
     "output_type": "stream",
     "text": [
      "0% [█] 100% | ETA: 00:00:00\n",
      "Total time elapsed: 00:00:01\n"
     ]
    },
    {
     "name": "stdout",
     "output_type": "stream",
     "text": [
      "Finished Epoch 12 || Run Time:    1.5 | Load Time:    0.3 || F1: 100.00 | Prec: 100.00 | Rec: 100.00 || Ex/s:  73.40\n",
      "\n",
      "===>  EVAL Epoch 12\n",
      "Finished Epoch 12 || Run Time:    0.2 | Load Time:    0.1 || F1: 100.00 | Prec: 100.00 | Rec: 100.00 || Ex/s: 121.86\n",
      "\n",
      "---------------------\n",
      "\n",
      "===>  TRAIN Epoch 13\n"
     ]
    },
    {
     "name": "stderr",
     "output_type": "stream",
     "text": [
      "0% [█] 100% | ETA: 00:00:00\n",
      "Total time elapsed: 00:00:01\n"
     ]
    },
    {
     "name": "stdout",
     "output_type": "stream",
     "text": [
      "Finished Epoch 13 || Run Time:    1.5 | Load Time:    0.3 || F1: 100.00 | Prec: 100.00 | Rec: 100.00 || Ex/s:  73.82\n",
      "\n",
      "===>  EVAL Epoch 13\n",
      "Finished Epoch 13 || Run Time:    0.2 | Load Time:    0.1 || F1: 100.00 | Prec: 100.00 | Rec: 100.00 || Ex/s: 121.75\n",
      "\n",
      "---------------------\n",
      "\n",
      "===>  TRAIN Epoch 14\n"
     ]
    },
    {
     "name": "stderr",
     "output_type": "stream",
     "text": [
      "0% [█] 100% | ETA: 00:00:00\n",
      "Total time elapsed: 00:00:01\n"
     ]
    },
    {
     "name": "stdout",
     "output_type": "stream",
     "text": [
      "Finished Epoch 14 || Run Time:    1.5 | Load Time:    0.3 || F1: 100.00 | Prec: 100.00 | Rec: 100.00 || Ex/s:  72.88\n",
      "\n",
      "===>  EVAL Epoch 14\n",
      "Finished Epoch 14 || Run Time:    0.2 | Load Time:    0.1 || F1: 100.00 | Prec: 100.00 | Rec: 100.00 || Ex/s: 119.68\n",
      "\n",
      "---------------------\n",
      "\n",
      "===>  TRAIN Epoch 15\n"
     ]
    },
    {
     "name": "stderr",
     "output_type": "stream",
     "text": [
      "0% [█] 100% | ETA: 00:00:00\n",
      "Total time elapsed: 00:00:01\n"
     ]
    },
    {
     "name": "stdout",
     "output_type": "stream",
     "text": [
      "Finished Epoch 15 || Run Time:    1.5 | Load Time:    0.3 || F1: 100.00 | Prec: 100.00 | Rec: 100.00 || Ex/s:  74.35\n",
      "\n",
      "===>  EVAL Epoch 15\n",
      "Finished Epoch 15 || Run Time:    0.2 | Load Time:    0.1 || F1: 100.00 | Prec: 100.00 | Rec: 100.00 || Ex/s: 122.06\n",
      "\n",
      "---------------------\n",
      "\n",
      "===>  TRAIN Epoch 16\n"
     ]
    },
    {
     "name": "stderr",
     "output_type": "stream",
     "text": [
      "0% [█] 100% | ETA: 00:00:00\n",
      "Total time elapsed: 00:00:01\n"
     ]
    },
    {
     "name": "stdout",
     "output_type": "stream",
     "text": [
      "Finished Epoch 16 || Run Time:    1.5 | Load Time:    0.3 || F1: 100.00 | Prec: 100.00 | Rec: 100.00 || Ex/s:  74.07\n",
      "\n",
      "===>  EVAL Epoch 16\n",
      "Finished Epoch 16 || Run Time:    0.2 | Load Time:    0.1 || F1: 100.00 | Prec: 100.00 | Rec: 100.00 || Ex/s: 121.78\n",
      "\n",
      "---------------------\n",
      "\n",
      "===>  TRAIN Epoch 17\n"
     ]
    },
    {
     "name": "stderr",
     "output_type": "stream",
     "text": [
      "0% [█] 100% | ETA: 00:00:00\n",
      "Total time elapsed: 00:00:01\n"
     ]
    },
    {
     "name": "stdout",
     "output_type": "stream",
     "text": [
      "Finished Epoch 17 || Run Time:    1.5 | Load Time:    0.3 || F1: 100.00 | Prec: 100.00 | Rec: 100.00 || Ex/s:  73.44\n",
      "\n",
      "===>  EVAL Epoch 17\n",
      "Finished Epoch 17 || Run Time:    0.2 | Load Time:    0.1 || F1: 100.00 | Prec: 100.00 | Rec: 100.00 || Ex/s: 121.95\n",
      "\n",
      "---------------------\n",
      "\n",
      "===>  TRAIN Epoch 18\n"
     ]
    },
    {
     "name": "stderr",
     "output_type": "stream",
     "text": [
      "0% [█] 100% | ETA: 00:00:00\n",
      "Total time elapsed: 00:00:01\n"
     ]
    },
    {
     "name": "stdout",
     "output_type": "stream",
     "text": [
      "Finished Epoch 18 || Run Time:    1.5 | Load Time:    0.3 || F1: 100.00 | Prec: 100.00 | Rec: 100.00 || Ex/s:  72.93\n",
      "\n",
      "===>  EVAL Epoch 18\n",
      "Finished Epoch 18 || Run Time:    0.2 | Load Time:    0.1 || F1: 100.00 | Prec: 100.00 | Rec: 100.00 || Ex/s: 121.21\n",
      "\n",
      "---------------------\n",
      "\n",
      "===>  TRAIN Epoch 19\n"
     ]
    }
   ],
   "source": [
    "hybrid = dm.MatchingModel(attr_summarizer='hybrid')\n",
    "hybrid.run_train(train,valid,best_save_path='models/beeradvo_ratebeer_hybrid.pth',epochs=20,batch_size=32,\n",
    "               pos_neg_ratio=2)"
   ]
  },
  {
   "cell_type": "code",
   "execution_count": null,
   "metadata": {},
   "outputs": [],
   "source": [
    "model.run_eval(test)"
   ]
  },
  {
   "cell_type": "code",
   "execution_count": 3,
   "metadata": {
    "ExecuteTime": {
     "end_time": "2020-03-30T10:37:35.300326Z",
     "start_time": "2020-03-30T10:36:22.914515Z"
    }
   },
   "outputs": [
    {
     "name": "stdout",
     "output_type": "stream",
     "text": [
      "* Number of trainable parameters: 9210006\n",
      "===>  TRAIN Epoch 1\n"
     ]
    },
    {
     "name": "stderr",
     "output_type": "stream",
     "text": [
      "/home/nvidia/anaconda3/envs/testenv/lib/python3.8/site-packages/torch/nn/functional.py:1958: UserWarning: reduction: 'mean' divides the total loss by both the batch size and the support size.'batchmean' divides only by the batch size, and aligns with the KL div math definition.'mean' will be changed to behave the same as 'batchmean' in the next major release.\n",
      "  warnings.warn(\"reduction: 'mean' divides the total loss by both the batch size and the support size.\"\n",
      "0% [█] 100% | ETA: 00:00:00\n",
      "Total time elapsed: 00:00:01\n"
     ]
    },
    {
     "name": "stdout",
     "output_type": "stream",
     "text": [
      "Finished Epoch 1 || Run Time:    2.5 | Load Time:    0.3 || F1:  40.00 | Prec:  30.59 | Rec:  57.78 || Ex/s:  47.04\n",
      "\n",
      "===>  EVAL Epoch 1\n",
      "Finished Epoch 1 || Run Time:    0.4 | Load Time:    0.1 || F1:  60.00 | Prec:  75.00 | Rec:  50.00 || Ex/s:  69.05\n",
      "\n",
      "* Best F1: tensor(60., device='cuda:0')\n",
      "Saving best model...\n",
      "Done.\n",
      "---------------------\n",
      "\n",
      "===>  TRAIN Epoch 2\n"
     ]
    },
    {
     "name": "stderr",
     "output_type": "stream",
     "text": [
      "0% [█] 100% | ETA: 00:00:00\n",
      "Total time elapsed: 00:00:01\n"
     ]
    },
    {
     "name": "stdout",
     "output_type": "stream",
     "text": [
      "Finished Epoch 2 || Run Time:    3.0 | Load Time:    0.3 || F1:  57.14 | Prec: 100.00 | Rec:  40.00 || Ex/s:  39.45\n",
      "\n",
      "===>  EVAL Epoch 2\n",
      "Finished Epoch 2 || Run Time:    0.4 | Load Time:    0.1 || F1:  66.67 | Prec: 100.00 | Rec:  50.00 || Ex/s:  75.26\n",
      "\n",
      "* Best F1: tensor(66.6667, device='cuda:0')\n",
      "Saving best model...\n",
      "Done.\n",
      "---------------------\n",
      "\n",
      "===>  TRAIN Epoch 3\n"
     ]
    },
    {
     "name": "stderr",
     "output_type": "stream",
     "text": [
      "0% [█] 100% | ETA: 00:00:00\n",
      "Total time elapsed: 00:00:01\n"
     ]
    },
    {
     "name": "stdout",
     "output_type": "stream",
     "text": [
      "Finished Epoch 3 || Run Time:    2.5 | Load Time:    0.3 || F1:  84.62 | Prec: 100.00 | Rec:  73.33 || Ex/s:  46.60\n",
      "\n",
      "===>  EVAL Epoch 3\n",
      "Finished Epoch 3 || Run Time:    0.4 | Load Time:    0.1 || F1:  80.00 | Prec: 100.00 | Rec:  66.67 || Ex/s:  72.23\n",
      "\n",
      "* Best F1: tensor(80., device='cuda:0')\n",
      "Saving best model...\n",
      "Done.\n",
      "---------------------\n",
      "\n",
      "===>  TRAIN Epoch 4\n"
     ]
    },
    {
     "name": "stderr",
     "output_type": "stream",
     "text": [
      "0% [█] 100% | ETA: 00:00:00\n",
      "Total time elapsed: 00:00:01\n"
     ]
    },
    {
     "name": "stdout",
     "output_type": "stream",
     "text": [
      "Finished Epoch 4 || Run Time:    2.8 | Load Time:    0.3 || F1:  97.83 | Prec:  95.74 | Rec: 100.00 || Ex/s:  41.04\n",
      "\n",
      "===>  EVAL Epoch 4\n",
      "Finished Epoch 4 || Run Time:    0.4 | Load Time:    0.1 || F1:  91.67 | Prec:  91.67 | Rec:  91.67 || Ex/s:  75.07\n",
      "\n",
      "* Best F1: tensor(91.6667, device='cuda:0')\n",
      "Saving best model...\n",
      "Done.\n",
      "---------------------\n",
      "\n",
      "===>  TRAIN Epoch 5\n"
     ]
    },
    {
     "name": "stderr",
     "output_type": "stream",
     "text": [
      "0% [█] 100% | ETA: 00:00:00\n",
      "Total time elapsed: 00:00:01\n"
     ]
    },
    {
     "name": "stdout",
     "output_type": "stream",
     "text": [
      "Finished Epoch 5 || Run Time:    3.0 | Load Time:    0.3 || F1:  96.77 | Prec:  93.75 | Rec: 100.00 || Ex/s:  39.05\n",
      "\n",
      "===>  EVAL Epoch 5\n",
      "Finished Epoch 5 || Run Time:    0.3 | Load Time:    0.1 || F1: 100.00 | Prec: 100.00 | Rec: 100.00 || Ex/s:  83.45\n",
      "\n",
      "* Best F1: tensor(100., device='cuda:0')\n",
      "Saving best model...\n",
      "Done.\n",
      "---------------------\n",
      "\n",
      "===>  TRAIN Epoch 6\n"
     ]
    },
    {
     "name": "stderr",
     "output_type": "stream",
     "text": [
      "0% [█] 100% | ETA: 00:00:00\n",
      "Total time elapsed: 00:00:01\n"
     ]
    },
    {
     "name": "stdout",
     "output_type": "stream",
     "text": [
      "Finished Epoch 6 || Run Time:    2.2 | Load Time:    0.2 || F1:  98.90 | Prec:  97.83 | Rec: 100.00 || Ex/s:  53.01\n",
      "\n",
      "===>  EVAL Epoch 6\n",
      "Finished Epoch 6 || Run Time:    0.3 | Load Time:    0.1 || F1: 100.00 | Prec: 100.00 | Rec: 100.00 || Ex/s:  89.50\n",
      "\n",
      "---------------------\n",
      "\n",
      "===>  TRAIN Epoch 7\n"
     ]
    },
    {
     "name": "stderr",
     "output_type": "stream",
     "text": [
      "0% [█] 100% | ETA: 00:00:00\n",
      "Total time elapsed: 00:00:01\n"
     ]
    },
    {
     "name": "stdout",
     "output_type": "stream",
     "text": [
      "Finished Epoch 7 || Run Time:    2.7 | Load Time:    0.3 || F1: 100.00 | Prec: 100.00 | Rec: 100.00 || Ex/s:  43.76\n",
      "\n",
      "===>  EVAL Epoch 7\n",
      "Finished Epoch 7 || Run Time:    0.3 | Load Time:    0.1 || F1: 100.00 | Prec: 100.00 | Rec: 100.00 || Ex/s:  89.43\n",
      "\n",
      "---------------------\n",
      "\n",
      "===>  TRAIN Epoch 8\n"
     ]
    },
    {
     "name": "stderr",
     "output_type": "stream",
     "text": [
      "0% [█] 100% | ETA: 00:00:00\n",
      "Total time elapsed: 00:00:01\n"
     ]
    },
    {
     "name": "stdout",
     "output_type": "stream",
     "text": [
      "Finished Epoch 8 || Run Time:    2.6 | Load Time:    0.3 || F1: 100.00 | Prec: 100.00 | Rec: 100.00 || Ex/s:  44.93\n",
      "\n",
      "===>  EVAL Epoch 8\n",
      "Finished Epoch 8 || Run Time:    0.3 | Load Time:    0.1 || F1: 100.00 | Prec: 100.00 | Rec: 100.00 || Ex/s:  89.77\n",
      "\n",
      "---------------------\n",
      "\n",
      "===>  TRAIN Epoch 9\n"
     ]
    },
    {
     "name": "stderr",
     "output_type": "stream",
     "text": [
      "0% [█] 100% | ETA: 00:00:00\n",
      "Total time elapsed: 00:00:01\n"
     ]
    },
    {
     "name": "stdout",
     "output_type": "stream",
     "text": [
      "Finished Epoch 9 || Run Time:    2.6 | Load Time:    0.3 || F1: 100.00 | Prec: 100.00 | Rec: 100.00 || Ex/s:  45.11\n",
      "\n",
      "===>  EVAL Epoch 9\n",
      "Finished Epoch 9 || Run Time:    0.3 | Load Time:    0.1 || F1: 100.00 | Prec: 100.00 | Rec: 100.00 || Ex/s:  89.72\n",
      "\n",
      "---------------------\n",
      "\n",
      "===>  TRAIN Epoch 10\n"
     ]
    },
    {
     "name": "stderr",
     "output_type": "stream",
     "text": [
      "0% [█] 100% | ETA: 00:00:00\n",
      "Total time elapsed: 00:00:01\n"
     ]
    },
    {
     "name": "stdout",
     "output_type": "stream",
     "text": [
      "Finished Epoch 10 || Run Time:    2.6 | Load Time:    0.3 || F1: 100.00 | Prec: 100.00 | Rec: 100.00 || Ex/s:  45.13\n",
      "\n",
      "===>  EVAL Epoch 10\n",
      "Finished Epoch 10 || Run Time:    0.3 | Load Time:    0.1 || F1: 100.00 | Prec: 100.00 | Rec: 100.00 || Ex/s:  89.55\n",
      "\n",
      "---------------------\n",
      "\n",
      "===>  TRAIN Epoch 11\n"
     ]
    },
    {
     "name": "stderr",
     "output_type": "stream",
     "text": [
      "0% [█] 100% | ETA: 00:00:00\n",
      "Total time elapsed: 00:00:01\n"
     ]
    },
    {
     "name": "stdout",
     "output_type": "stream",
     "text": [
      "Finished Epoch 11 || Run Time:    2.6 | Load Time:    0.3 || F1: 100.00 | Prec: 100.00 | Rec: 100.00 || Ex/s:  45.19\n",
      "\n",
      "===>  EVAL Epoch 11\n",
      "Finished Epoch 11 || Run Time:    0.3 | Load Time:    0.1 || F1: 100.00 | Prec: 100.00 | Rec: 100.00 || Ex/s:  89.95\n",
      "\n",
      "---------------------\n",
      "\n",
      "===>  TRAIN Epoch 12\n"
     ]
    },
    {
     "name": "stderr",
     "output_type": "stream",
     "text": [
      "0% [█] 100% | ETA: 00:00:00\n",
      "Total time elapsed: 00:00:01\n"
     ]
    },
    {
     "name": "stdout",
     "output_type": "stream",
     "text": [
      "Finished Epoch 12 || Run Time:    2.6 | Load Time:    0.3 || F1: 100.00 | Prec: 100.00 | Rec: 100.00 || Ex/s:  45.01\n",
      "\n",
      "===>  EVAL Epoch 12\n",
      "Finished Epoch 12 || Run Time:    0.3 | Load Time:    0.1 || F1: 100.00 | Prec: 100.00 | Rec: 100.00 || Ex/s:  89.66\n",
      "\n",
      "---------------------\n",
      "\n",
      "===>  TRAIN Epoch 13\n"
     ]
    },
    {
     "name": "stderr",
     "output_type": "stream",
     "text": [
      "0% [█] 100% | ETA: 00:00:00\n",
      "Total time elapsed: 00:00:01\n"
     ]
    },
    {
     "name": "stdout",
     "output_type": "stream",
     "text": [
      "Finished Epoch 13 || Run Time:    2.6 | Load Time:    0.3 || F1: 100.00 | Prec: 100.00 | Rec: 100.00 || Ex/s:  45.19\n",
      "\n",
      "===>  EVAL Epoch 13\n",
      "Finished Epoch 13 || Run Time:    0.3 | Load Time:    0.1 || F1: 100.00 | Prec: 100.00 | Rec: 100.00 || Ex/s:  89.56\n",
      "\n",
      "---------------------\n",
      "\n",
      "===>  TRAIN Epoch 14\n"
     ]
    },
    {
     "name": "stderr",
     "output_type": "stream",
     "text": [
      "0% [█] 100% | ETA: 00:00:00\n",
      "Total time elapsed: 00:00:01\n"
     ]
    },
    {
     "name": "stdout",
     "output_type": "stream",
     "text": [
      "Finished Epoch 14 || Run Time:    2.6 | Load Time:    0.3 || F1: 100.00 | Prec: 100.00 | Rec: 100.00 || Ex/s:  45.19\n",
      "\n",
      "===>  EVAL Epoch 14\n",
      "Finished Epoch 14 || Run Time:    0.3 | Load Time:    0.1 || F1: 100.00 | Prec: 100.00 | Rec: 100.00 || Ex/s:  89.62\n",
      "\n",
      "---------------------\n",
      "\n",
      "===>  TRAIN Epoch 15\n"
     ]
    },
    {
     "name": "stderr",
     "output_type": "stream",
     "text": [
      "0% [█] 100% | ETA: 00:00:00\n",
      "Total time elapsed: 00:00:01\n"
     ]
    },
    {
     "name": "stdout",
     "output_type": "stream",
     "text": [
      "Finished Epoch 15 || Run Time:    2.6 | Load Time:    0.3 || F1: 100.00 | Prec: 100.00 | Rec: 100.00 || Ex/s:  45.13\n",
      "\n",
      "===>  EVAL Epoch 15\n",
      "Finished Epoch 15 || Run Time:    0.3 | Load Time:    0.1 || F1: 100.00 | Prec: 100.00 | Rec: 100.00 || Ex/s:  89.76\n",
      "\n",
      "---------------------\n",
      "\n",
      "===>  TRAIN Epoch 16\n"
     ]
    },
    {
     "name": "stderr",
     "output_type": "stream",
     "text": [
      "0% [█] 100% | ETA: 00:00:00\n",
      "Total time elapsed: 00:00:01\n"
     ]
    },
    {
     "name": "stdout",
     "output_type": "stream",
     "text": [
      "Finished Epoch 16 || Run Time:    2.6 | Load Time:    0.3 || F1: 100.00 | Prec: 100.00 | Rec: 100.00 || Ex/s:  45.06\n",
      "\n",
      "===>  EVAL Epoch 16\n",
      "Finished Epoch 16 || Run Time:    0.3 | Load Time:    0.1 || F1: 100.00 | Prec: 100.00 | Rec: 100.00 || Ex/s:  89.98\n",
      "\n",
      "---------------------\n",
      "\n",
      "===>  TRAIN Epoch 17\n"
     ]
    },
    {
     "name": "stderr",
     "output_type": "stream",
     "text": [
      "0% [█] 100% | ETA: 00:00:00\n",
      "Total time elapsed: 00:00:01\n"
     ]
    },
    {
     "name": "stdout",
     "output_type": "stream",
     "text": [
      "Finished Epoch 17 || Run Time:    2.6 | Load Time:    0.3 || F1: 100.00 | Prec: 100.00 | Rec: 100.00 || Ex/s:  45.15\n",
      "\n",
      "===>  EVAL Epoch 17\n",
      "Finished Epoch 17 || Run Time:    0.3 | Load Time:    0.1 || F1: 100.00 | Prec: 100.00 | Rec: 100.00 || Ex/s:  89.87\n",
      "\n",
      "---------------------\n",
      "\n",
      "===>  TRAIN Epoch 18\n"
     ]
    },
    {
     "name": "stderr",
     "output_type": "stream",
     "text": [
      "0% [█] 100% | ETA: 00:00:00\n",
      "Total time elapsed: 00:00:01\n"
     ]
    },
    {
     "name": "stdout",
     "output_type": "stream",
     "text": [
      "Finished Epoch 18 || Run Time:    2.6 | Load Time:    0.3 || F1: 100.00 | Prec: 100.00 | Rec: 100.00 || Ex/s:  45.11\n",
      "\n",
      "===>  EVAL Epoch 18\n",
      "Finished Epoch 18 || Run Time:    0.3 | Load Time:    0.1 || F1: 100.00 | Prec: 100.00 | Rec: 100.00 || Ex/s:  89.96\n",
      "\n",
      "---------------------\n",
      "\n",
      "===>  TRAIN Epoch 19\n"
     ]
    },
    {
     "name": "stderr",
     "output_type": "stream",
     "text": [
      "0% [█] 100% | ETA: 00:00:00\n",
      "Total time elapsed: 00:00:01\n"
     ]
    },
    {
     "name": "stdout",
     "output_type": "stream",
     "text": [
      "Finished Epoch 19 || Run Time:    2.6 | Load Time:    0.3 || F1: 100.00 | Prec: 100.00 | Rec: 100.00 || Ex/s:  45.14\n",
      "\n",
      "===>  EVAL Epoch 19\n",
      "Finished Epoch 19 || Run Time:    0.3 | Load Time:    0.1 || F1: 100.00 | Prec: 100.00 | Rec: 100.00 || Ex/s:  89.65\n",
      "\n",
      "---------------------\n",
      "\n",
      "===>  TRAIN Epoch 20\n"
     ]
    },
    {
     "name": "stderr",
     "output_type": "stream",
     "text": [
      "0% [█] 100% | ETA: 00:00:00\n",
      "Total time elapsed: 00:00:01\n"
     ]
    },
    {
     "name": "stdout",
     "output_type": "stream",
     "text": [
      "Finished Epoch 20 || Run Time:    2.6 | Load Time:    0.3 || F1: 100.00 | Prec: 100.00 | Rec: 100.00 || Ex/s:  45.20\n",
      "\n",
      "===>  EVAL Epoch 20\n",
      "Finished Epoch 20 || Run Time:    0.3 | Load Time:    0.1 || F1: 100.00 | Prec: 100.00 | Rec: 100.00 || Ex/s:  90.01\n",
      "\n",
      "---------------------\n",
      "\n",
      "Loading best model...\n",
      "Training done.\n"
     ]
    },
    {
     "data": {
      "text/plain": [
       "tensor(100., device='cuda:0')"
      ]
     },
     "execution_count": 3,
     "metadata": {},
     "output_type": "execute_result"
    }
   ],
   "source": [
    "hybrid_model = dm.MatchingModel(attr_summarizer='hybrid')\n",
    "hybrid_model.run_train(train,valid,best_save_path='models/beeradvo_ratebeer_hybrid.pth',epochs=20,batch_size=16,\n",
    "               pos_neg_ratio=2)"
   ]
  },
  {
   "cell_type": "code",
   "execution_count": 4,
   "metadata": {
    "ExecuteTime": {
     "end_time": "2020-03-30T10:39:44.644927Z",
     "start_time": "2020-03-30T10:39:44.291239Z"
    }
   },
   "outputs": [
    {
     "name": "stdout",
     "output_type": "stream",
     "text": [
      "===>  EVAL Epoch 5\n",
      "Finished Epoch 5 || Run Time:    0.2 | Load Time:    0.1 || F1:  81.48 | Prec:  68.75 | Rec: 100.00 || Ex/s: 126.17\n",
      "\n"
     ]
    },
    {
     "data": {
      "text/plain": [
       "tensor(81.4815, device='cuda:0')"
      ]
     },
     "execution_count": 4,
     "metadata": {},
     "output_type": "execute_result"
    }
   ],
   "source": [
    "hybrid_model.run_eval(test)"
   ]
  },
  {
   "cell_type": "code",
   "execution_count": 5,
   "metadata": {
    "ExecuteTime": {
     "end_time": "2020-03-30T09:37:09.981690Z",
     "start_time": "2020-03-30T09:37:09.772228Z"
    }
   },
   "outputs": [
    {
     "name": "stdout",
     "output_type": "stream",
     "text": [
      "===>  EVAL Epoch 11\n",
      "Finished Epoch 11 || Run Time:    0.1 | Load Time:    0.1 || F1:  66.67 | Prec:  52.63 | Rec:  90.91 || Ex/s: 217.48\n",
      "\n"
     ]
    },
    {
     "data": {
      "text/plain": [
       "tensor(66.6667, device='cuda:0')"
      ]
     },
     "execution_count": 5,
     "metadata": {},
     "output_type": "execute_result"
    }
   ],
   "source": [
    "model.run_eval(test)"
   ]
  },
  {
   "cell_type": "markdown",
   "metadata": {},
   "source": [
    "## Walmart-Amazon"
   ]
  },
  {
   "cell_type": "code",
   "execution_count": 2,
   "metadata": {
    "ExecuteTime": {
     "end_time": "2020-05-25T18:03:28.406365Z",
     "start_time": "2020-05-25T18:03:28.058083Z"
    }
   },
   "outputs": [],
   "source": [
    "train,valid,test = dm.data.process('datasets/walmart_amazon/',train='train.csv',validation='validation.csv',\n",
    "                                   test='test.csv',left_prefix='ltable_',right_prefix='rtable_')"
   ]
  },
  {
   "cell_type": "code",
   "execution_count": 3,
   "metadata": {
    "ExecuteTime": {
     "end_time": "2020-05-25T18:08:24.233707Z",
     "start_time": "2020-05-25T18:03:30.270235Z"
    }
   },
   "outputs": [
    {
     "name": "stdout",
     "output_type": "stream",
     "text": [
      "* Number of trainable parameters: 3450102\n",
      "===>  TRAIN Epoch 1\n"
     ]
    },
    {
     "name": "stderr",
     "output_type": "stream",
     "text": [
      "/home/nvidia/anaconda3/envs/testenv/lib/python3.8/site-packages/torch/nn/functional.py:1958: UserWarning: reduction: 'mean' divides the total loss by both the batch size and the support size.'batchmean' divides only by the batch size, and aligns with the KL div math definition.'mean' will be changed to behave the same as 'batchmean' in the next major release.\n",
      "  warnings.warn(\"reduction: 'mean' divides the total loss by both the batch size and the support size.\"\n",
      "0% [█████████] 100% | ETA: 00:00:00\n",
      "Total time elapsed: 00:00:13\n"
     ]
    },
    {
     "name": "stdout",
     "output_type": "stream",
     "text": [
      "Finished Epoch 1 || Run Time:    7.7 | Load Time:    6.9 || F1:  78.65 | Prec:  88.20 | Rec:  70.98 || Ex/s: 100.95\n",
      "\n",
      "===>  EVAL Epoch 1\n"
     ]
    },
    {
     "name": "stderr",
     "output_type": "stream",
     "text": [
      "0% [██] 100% | ETA: 00:00:00\n",
      "Total time elapsed: 00:00:01\n"
     ]
    },
    {
     "name": "stdout",
     "output_type": "stream",
     "text": [
      "Finished Epoch 1 || Run Time:    0.5 | Load Time:    1.4 || F1:  89.94 | Prec:  98.70 | Rec:  82.61 || Ex/s: 190.28\n",
      "\n",
      "* Best F1: tensor(89.9408, device='cuda:0')\n",
      "Saving best model...\n",
      "Done.\n",
      "---------------------\n",
      "\n",
      "===>  TRAIN Epoch 2\n"
     ]
    },
    {
     "name": "stderr",
     "output_type": "stream",
     "text": [
      "0% [█████████] 100% | ETA: 00:00:00\n",
      "Total time elapsed: 00:00:12\n"
     ]
    },
    {
     "name": "stdout",
     "output_type": "stream",
     "text": [
      "Finished Epoch 2 || Run Time:    7.0 | Load Time:    6.1 || F1:  96.48 | Prec:  97.06 | Rec:  95.91 || Ex/s: 112.37\n",
      "\n",
      "===>  EVAL Epoch 2\n"
     ]
    },
    {
     "name": "stderr",
     "output_type": "stream",
     "text": [
      "0% [██] 100% | ETA: 00:00:00\n",
      "Total time elapsed: 00:00:01\n"
     ]
    },
    {
     "name": "stdout",
     "output_type": "stream",
     "text": [
      "Finished Epoch 2 || Run Time:    0.4 | Load Time:    1.1 || F1:  97.05 | Prec:  95.77 | Rec:  98.37 || Ex/s: 237.89\n",
      "\n",
      "* Best F1: tensor(97.0509, device='cuda:0')\n",
      "Saving best model...\n",
      "Done.\n",
      "---------------------\n",
      "\n",
      "===>  TRAIN Epoch 3\n"
     ]
    },
    {
     "name": "stderr",
     "output_type": "stream",
     "text": [
      "0% [█████████] 100% | ETA: 00:00:00\n",
      "Total time elapsed: 00:00:13\n"
     ]
    },
    {
     "name": "stdout",
     "output_type": "stream",
     "text": [
      "Finished Epoch 3 || Run Time:    7.5 | Load Time:    6.6 || F1:  99.34 | Prec:  99.60 | Rec:  99.08 || Ex/s: 104.92\n",
      "\n",
      "===>  EVAL Epoch 3\n"
     ]
    },
    {
     "name": "stderr",
     "output_type": "stream",
     "text": [
      "0% [██] 100% | ETA: 00:00:00\n",
      "Total time elapsed: 00:00:01\n"
     ]
    },
    {
     "name": "stdout",
     "output_type": "stream",
     "text": [
      "Finished Epoch 3 || Run Time:    0.5 | Load Time:    1.4 || F1:  97.57 | Prec:  96.79 | Rec:  98.37 || Ex/s: 194.25\n",
      "\n",
      "* Best F1: tensor(97.5741, device='cuda:0')\n",
      "Saving best model...\n",
      "Done.\n",
      "---------------------\n",
      "\n",
      "===>  TRAIN Epoch 4\n"
     ]
    },
    {
     "name": "stderr",
     "output_type": "stream",
     "text": [
      "0% [█████████] 100% | ETA: 00:00:00\n",
      "Total time elapsed: 00:00:13\n"
     ]
    },
    {
     "name": "stdout",
     "output_type": "stream",
     "text": [
      "Finished Epoch 4 || Run Time:    7.4 | Load Time:    6.6 || F1:  99.87 | Prec:  99.87 | Rec:  99.87 || Ex/s: 105.37\n",
      "\n",
      "===>  EVAL Epoch 4\n"
     ]
    },
    {
     "name": "stderr",
     "output_type": "stream",
     "text": [
      "0% [██] 100% | ETA: 00:00:00\n",
      "Total time elapsed: 00:00:01\n"
     ]
    },
    {
     "name": "stdout",
     "output_type": "stream",
     "text": [
      "Finished Epoch 4 || Run Time:    0.5 | Load Time:    1.4 || F1:  97.07 | Prec:  95.29 | Rec:  98.91 || Ex/s: 201.84\n",
      "\n",
      "---------------------\n",
      "\n",
      "===>  TRAIN Epoch 5\n"
     ]
    },
    {
     "name": "stderr",
     "output_type": "stream",
     "text": [
      "0% [█████████] 100% | ETA: 00:00:00\n",
      "Total time elapsed: 00:00:13\n"
     ]
    },
    {
     "name": "stdout",
     "output_type": "stream",
     "text": [
      "Finished Epoch 5 || Run Time:    7.4 | Load Time:    6.5 || F1: 100.00 | Prec: 100.00 | Rec: 100.00 || Ex/s: 106.61\n",
      "\n",
      "===>  EVAL Epoch 5\n"
     ]
    },
    {
     "name": "stderr",
     "output_type": "stream",
     "text": [
      "0% [██] 100% | ETA: 00:00:00\n",
      "Total time elapsed: 00:00:01\n"
     ]
    },
    {
     "name": "stdout",
     "output_type": "stream",
     "text": [
      "Finished Epoch 5 || Run Time:    0.4 | Load Time:    1.1 || F1:  97.33 | Prec:  95.79 | Rec:  98.91 || Ex/s: 239.52\n",
      "\n",
      "---------------------\n",
      "\n",
      "===>  TRAIN Epoch 6\n"
     ]
    },
    {
     "name": "stderr",
     "output_type": "stream",
     "text": [
      "0% [█████████] 100% | ETA: 00:00:00\n",
      "Total time elapsed: 00:00:11\n"
     ]
    },
    {
     "name": "stdout",
     "output_type": "stream",
     "text": [
      "Finished Epoch 6 || Run Time:    7.0 | Load Time:    5.5 || F1: 100.00 | Prec: 100.00 | Rec: 100.00 || Ex/s: 117.82\n",
      "\n",
      "===>  EVAL Epoch 6\n"
     ]
    },
    {
     "name": "stderr",
     "output_type": "stream",
     "text": [
      "0% [██] 100% | ETA: 00:00:00\n",
      "Total time elapsed: 00:00:01\n"
     ]
    },
    {
     "name": "stdout",
     "output_type": "stream",
     "text": [
      "Finished Epoch 6 || Run Time:    0.4 | Load Time:    1.1 || F1:  97.59 | Prec:  96.30 | Rec:  98.91 || Ex/s: 238.70\n",
      "\n",
      "* Best F1: tensor(97.5871, device='cuda:0')\n",
      "Saving best model...\n",
      "Done.\n",
      "---------------------\n",
      "\n",
      "===>  TRAIN Epoch 7\n"
     ]
    },
    {
     "name": "stderr",
     "output_type": "stream",
     "text": [
      "0% [█████████] 100% | ETA: 00:00:00\n",
      "Total time elapsed: 00:00:11\n"
     ]
    },
    {
     "name": "stdout",
     "output_type": "stream",
     "text": [
      "Finished Epoch 7 || Run Time:    6.9 | Load Time:    5.2 || F1: 100.00 | Prec: 100.00 | Rec: 100.00 || Ex/s: 122.02\n",
      "\n",
      "===>  EVAL Epoch 7\n"
     ]
    },
    {
     "name": "stderr",
     "output_type": "stream",
     "text": [
      "0% [██] 100% | ETA: 00:00:00\n",
      "Total time elapsed: 00:00:01\n"
     ]
    },
    {
     "name": "stdout",
     "output_type": "stream",
     "text": [
      "Finished Epoch 7 || Run Time:    0.4 | Load Time:    1.1 || F1:  97.59 | Prec:  96.30 | Rec:  98.91 || Ex/s: 238.40\n",
      "\n",
      "---------------------\n",
      "\n",
      "===>  TRAIN Epoch 8\n"
     ]
    },
    {
     "name": "stderr",
     "output_type": "stream",
     "text": [
      "0% [█████████] 100% | ETA: 00:00:00\n",
      "Total time elapsed: 00:00:11\n"
     ]
    },
    {
     "name": "stdout",
     "output_type": "stream",
     "text": [
      "Finished Epoch 8 || Run Time:    7.1 | Load Time:    5.6 || F1: 100.00 | Prec: 100.00 | Rec: 100.00 || Ex/s: 116.51\n",
      "\n",
      "===>  EVAL Epoch 8\n"
     ]
    },
    {
     "name": "stderr",
     "output_type": "stream",
     "text": [
      "0% [██] 100% | ETA: 00:00:00\n",
      "Total time elapsed: 00:00:01\n"
     ]
    },
    {
     "name": "stdout",
     "output_type": "stream",
     "text": [
      "Finished Epoch 8 || Run Time:    0.4 | Load Time:    1.1 || F1:  97.59 | Prec:  96.30 | Rec:  98.91 || Ex/s: 239.19\n",
      "\n",
      "---------------------\n",
      "\n",
      "===>  TRAIN Epoch 9\n"
     ]
    },
    {
     "name": "stderr",
     "output_type": "stream",
     "text": [
      "0% [█████████] 100% | ETA: 00:00:00\n",
      "Total time elapsed: 00:00:11\n"
     ]
    },
    {
     "name": "stdout",
     "output_type": "stream",
     "text": [
      "Finished Epoch 9 || Run Time:    7.0 | Load Time:    5.4 || F1: 100.00 | Prec: 100.00 | Rec: 100.00 || Ex/s: 118.28\n",
      "\n",
      "===>  EVAL Epoch 9\n"
     ]
    },
    {
     "name": "stderr",
     "output_type": "stream",
     "text": [
      "0% [██] 100% | ETA: 00:00:00\n",
      "Total time elapsed: 00:00:01\n"
     ]
    },
    {
     "name": "stdout",
     "output_type": "stream",
     "text": [
      "Finished Epoch 9 || Run Time:    0.4 | Load Time:    1.1 || F1:  97.59 | Prec:  96.30 | Rec:  98.91 || Ex/s: 239.68\n",
      "\n",
      "---------------------\n",
      "\n",
      "===>  TRAIN Epoch 10\n"
     ]
    },
    {
     "name": "stderr",
     "output_type": "stream",
     "text": [
      "0% [█████████] 100% | ETA: 00:00:00\n",
      "Total time elapsed: 00:00:11\n"
     ]
    },
    {
     "name": "stdout",
     "output_type": "stream",
     "text": [
      "Finished Epoch 10 || Run Time:    7.0 | Load Time:    5.5 || F1: 100.00 | Prec: 100.00 | Rec: 100.00 || Ex/s: 118.08\n",
      "\n",
      "===>  EVAL Epoch 10\n"
     ]
    },
    {
     "name": "stderr",
     "output_type": "stream",
     "text": [
      "0% [██] 100% | ETA: 00:00:00\n",
      "Total time elapsed: 00:00:01\n"
     ]
    },
    {
     "name": "stdout",
     "output_type": "stream",
     "text": [
      "Finished Epoch 10 || Run Time:    0.4 | Load Time:    1.1 || F1:  97.59 | Prec:  96.30 | Rec:  98.91 || Ex/s: 238.44\n",
      "\n",
      "---------------------\n",
      "\n",
      "===>  TRAIN Epoch 11\n"
     ]
    },
    {
     "name": "stderr",
     "output_type": "stream",
     "text": [
      "0% [█████████] 100% | ETA: 00:00:00\n",
      "Total time elapsed: 00:00:11\n"
     ]
    },
    {
     "name": "stdout",
     "output_type": "stream",
     "text": [
      "Finished Epoch 11 || Run Time:    6.8 | Load Time:    5.6 || F1: 100.00 | Prec: 100.00 | Rec: 100.00 || Ex/s: 119.04\n",
      "\n",
      "===>  EVAL Epoch 11\n"
     ]
    },
    {
     "name": "stderr",
     "output_type": "stream",
     "text": [
      "0% [██] 100% | ETA: 00:00:00\n",
      "Total time elapsed: 00:00:01\n"
     ]
    },
    {
     "name": "stdout",
     "output_type": "stream",
     "text": [
      "Finished Epoch 11 || Run Time:    0.4 | Load Time:    1.1 || F1:  97.59 | Prec:  96.30 | Rec:  98.91 || Ex/s: 239.93\n",
      "\n",
      "---------------------\n",
      "\n",
      "===>  TRAIN Epoch 12\n"
     ]
    },
    {
     "name": "stderr",
     "output_type": "stream",
     "text": [
      "0% [█████████] 100% | ETA: 00:00:00\n",
      "Total time elapsed: 00:00:11\n"
     ]
    },
    {
     "name": "stdout",
     "output_type": "stream",
     "text": [
      "Finished Epoch 12 || Run Time:    6.7 | Load Time:    5.3 || F1: 100.00 | Prec: 100.00 | Rec: 100.00 || Ex/s: 122.31\n",
      "\n",
      "===>  EVAL Epoch 12\n"
     ]
    },
    {
     "name": "stderr",
     "output_type": "stream",
     "text": [
      "0% [██] 100% | ETA: 00:00:00\n",
      "Total time elapsed: 00:00:01\n"
     ]
    },
    {
     "name": "stdout",
     "output_type": "stream",
     "text": [
      "Finished Epoch 12 || Run Time:    0.4 | Load Time:    1.1 || F1:  97.59 | Prec:  96.30 | Rec:  98.91 || Ex/s: 240.00\n",
      "\n",
      "---------------------\n",
      "\n",
      "===>  TRAIN Epoch 13\n"
     ]
    },
    {
     "name": "stderr",
     "output_type": "stream",
     "text": [
      "0% [█████████] 100% | ETA: 00:00:00\n",
      "Total time elapsed: 00:00:11\n"
     ]
    },
    {
     "name": "stdout",
     "output_type": "stream",
     "text": [
      "Finished Epoch 13 || Run Time:    6.8 | Load Time:    5.5 || F1: 100.00 | Prec: 100.00 | Rec: 100.00 || Ex/s: 119.48\n",
      "\n",
      "===>  EVAL Epoch 13\n"
     ]
    },
    {
     "name": "stderr",
     "output_type": "stream",
     "text": [
      "0% [██] 100% | ETA: 00:00:00\n",
      "Total time elapsed: 00:00:01\n"
     ]
    },
    {
     "name": "stdout",
     "output_type": "stream",
     "text": [
      "Finished Epoch 13 || Run Time:    0.4 | Load Time:    1.1 || F1:  97.59 | Prec:  96.30 | Rec:  98.91 || Ex/s: 240.06\n",
      "\n",
      "---------------------\n",
      "\n",
      "===>  TRAIN Epoch 14\n"
     ]
    },
    {
     "name": "stderr",
     "output_type": "stream",
     "text": [
      "0% [█████████] 100% | ETA: 00:00:00\n",
      "Total time elapsed: 00:00:11\n"
     ]
    },
    {
     "name": "stdout",
     "output_type": "stream",
     "text": [
      "Finished Epoch 14 || Run Time:    6.9 | Load Time:    5.4 || F1: 100.00 | Prec: 100.00 | Rec: 100.00 || Ex/s: 120.33\n",
      "\n",
      "===>  EVAL Epoch 14\n"
     ]
    },
    {
     "name": "stderr",
     "output_type": "stream",
     "text": [
      "0% [██] 100% | ETA: 00:00:00\n",
      "Total time elapsed: 00:00:01\n"
     ]
    },
    {
     "name": "stdout",
     "output_type": "stream",
     "text": [
      "Finished Epoch 14 || Run Time:    0.4 | Load Time:    1.1 || F1:  97.59 | Prec:  96.30 | Rec:  98.91 || Ex/s: 239.34\n",
      "\n",
      "---------------------\n",
      "\n",
      "===>  TRAIN Epoch 15\n"
     ]
    },
    {
     "name": "stderr",
     "output_type": "stream",
     "text": [
      "0% [█████████] 100% | ETA: 00:00:00\n",
      "Total time elapsed: 00:00:12\n"
     ]
    },
    {
     "name": "stdout",
     "output_type": "stream",
     "text": [
      "Finished Epoch 15 || Run Time:    7.2 | Load Time:    5.6 || F1: 100.00 | Prec: 100.00 | Rec: 100.00 || Ex/s: 115.52\n",
      "\n",
      "===>  EVAL Epoch 15\n"
     ]
    },
    {
     "name": "stderr",
     "output_type": "stream",
     "text": [
      "0% [██] 100% | ETA: 00:00:00\n",
      "Total time elapsed: 00:00:01\n"
     ]
    },
    {
     "name": "stdout",
     "output_type": "stream",
     "text": [
      "Finished Epoch 15 || Run Time:    0.4 | Load Time:    1.1 || F1:  97.59 | Prec:  96.30 | Rec:  98.91 || Ex/s: 240.18\n",
      "\n",
      "---------------------\n",
      "\n",
      "===>  TRAIN Epoch 16\n"
     ]
    },
    {
     "name": "stderr",
     "output_type": "stream",
     "text": [
      "0% [█████████] 100% | ETA: 00:00:00\n",
      "Total time elapsed: 00:00:11\n"
     ]
    },
    {
     "name": "stdout",
     "output_type": "stream",
     "text": [
      "Finished Epoch 16 || Run Time:    7.0 | Load Time:    5.5 || F1: 100.00 | Prec: 100.00 | Rec: 100.00 || Ex/s: 118.08\n",
      "\n",
      "===>  EVAL Epoch 16\n"
     ]
    },
    {
     "name": "stderr",
     "output_type": "stream",
     "text": [
      "0% [██] 100% | ETA: 00:00:00\n",
      "Total time elapsed: 00:00:01\n"
     ]
    },
    {
     "name": "stdout",
     "output_type": "stream",
     "text": [
      "Finished Epoch 16 || Run Time:    0.4 | Load Time:    1.1 || F1:  97.59 | Prec:  96.30 | Rec:  98.91 || Ex/s: 238.89\n",
      "\n",
      "---------------------\n",
      "\n",
      "===>  TRAIN Epoch 17\n"
     ]
    },
    {
     "name": "stderr",
     "output_type": "stream",
     "text": [
      "0% [█████████] 100% | ETA: 00:00:00\n",
      "Total time elapsed: 00:00:11\n"
     ]
    },
    {
     "name": "stdout",
     "output_type": "stream",
     "text": [
      "Finished Epoch 17 || Run Time:    7.0 | Load Time:    5.5 || F1: 100.00 | Prec: 100.00 | Rec: 100.00 || Ex/s: 117.71\n",
      "\n",
      "===>  EVAL Epoch 17\n"
     ]
    },
    {
     "name": "stderr",
     "output_type": "stream",
     "text": [
      "0% [██] 100% | ETA: 00:00:00\n",
      "Total time elapsed: 00:00:01\n"
     ]
    },
    {
     "name": "stdout",
     "output_type": "stream",
     "text": [
      "Finished Epoch 17 || Run Time:    0.4 | Load Time:    1.1 || F1:  97.59 | Prec:  96.30 | Rec:  98.91 || Ex/s: 238.78\n",
      "\n",
      "---------------------\n",
      "\n",
      "===>  TRAIN Epoch 18\n"
     ]
    },
    {
     "name": "stderr",
     "output_type": "stream",
     "text": [
      "0% [█████████] 100% | ETA: 00:00:00\n",
      "Total time elapsed: 00:00:11\n"
     ]
    },
    {
     "name": "stdout",
     "output_type": "stream",
     "text": [
      "Finished Epoch 18 || Run Time:    6.9 | Load Time:    5.4 || F1: 100.00 | Prec: 100.00 | Rec: 100.00 || Ex/s: 119.72\n",
      "\n",
      "===>  EVAL Epoch 18\n"
     ]
    },
    {
     "name": "stderr",
     "output_type": "stream",
     "text": [
      "0% [██] 100% | ETA: 00:00:00\n",
      "Total time elapsed: 00:00:01\n"
     ]
    },
    {
     "name": "stdout",
     "output_type": "stream",
     "text": [
      "Finished Epoch 18 || Run Time:    0.4 | Load Time:    1.1 || F1:  97.59 | Prec:  96.30 | Rec:  98.91 || Ex/s: 238.32\n",
      "\n",
      "---------------------\n",
      "\n",
      "===>  TRAIN Epoch 19\n"
     ]
    },
    {
     "name": "stderr",
     "output_type": "stream",
     "text": [
      "0% [█████████] 100% | ETA: 00:00:00\n",
      "Total time elapsed: 00:00:12\n"
     ]
    },
    {
     "name": "stdout",
     "output_type": "stream",
     "text": [
      "Finished Epoch 19 || Run Time:    7.1 | Load Time:    5.6 || F1: 100.00 | Prec: 100.00 | Rec: 100.00 || Ex/s: 115.97\n",
      "\n",
      "===>  EVAL Epoch 19\n"
     ]
    },
    {
     "name": "stderr",
     "output_type": "stream",
     "text": [
      "0% [██] 100% | ETA: 00:00:00\n",
      "Total time elapsed: 00:00:01\n"
     ]
    },
    {
     "name": "stdout",
     "output_type": "stream",
     "text": [
      "Finished Epoch 19 || Run Time:    0.4 | Load Time:    1.1 || F1:  97.59 | Prec:  96.30 | Rec:  98.91 || Ex/s: 240.55\n",
      "\n",
      "---------------------\n",
      "\n",
      "===>  TRAIN Epoch 20\n"
     ]
    },
    {
     "name": "stderr",
     "output_type": "stream",
     "text": [
      "0% [█████████] 100% | ETA: 00:00:00\n",
      "Total time elapsed: 00:00:11\n"
     ]
    },
    {
     "name": "stdout",
     "output_type": "stream",
     "text": [
      "Finished Epoch 20 || Run Time:    7.1 | Load Time:    5.6 || F1: 100.00 | Prec: 100.00 | Rec: 100.00 || Ex/s: 116.96\n",
      "\n",
      "===>  EVAL Epoch 20\n"
     ]
    },
    {
     "name": "stderr",
     "output_type": "stream",
     "text": [
      "0% [██] 100% | ETA: 00:00:00\n",
      "Total time elapsed: 00:00:01\n"
     ]
    },
    {
     "name": "stdout",
     "output_type": "stream",
     "text": [
      "Finished Epoch 20 || Run Time:    0.4 | Load Time:    1.1 || F1:  97.59 | Prec:  96.30 | Rec:  98.91 || Ex/s: 238.98\n",
      "\n",
      "---------------------\n",
      "\n",
      "Loading best model...\n",
      "Training done.\n"
     ]
    },
    {
     "data": {
      "text/plain": [
       "tensor(97.5871, device='cuda:0')"
      ]
     },
     "execution_count": 3,
     "metadata": {},
     "output_type": "execute_result"
    }
   ],
   "source": [
    "model = dm.MatchingModel(attr_summarizer='rnn')\n",
    "model.run_train(train,valid,best_save_path='models/walmart_amazon_rnn.pth',epochs=20,batch_size=32)"
   ]
  },
  {
   "cell_type": "code",
   "execution_count": 4,
   "metadata": {
    "ExecuteTime": {
     "end_time": "2020-05-25T18:08:25.879696Z",
     "start_time": "2020-05-25T18:08:24.235602Z"
    }
   },
   "outputs": [
    {
     "name": "stdout",
     "output_type": "stream",
     "text": [
      "===>  EVAL Epoch 6\n"
     ]
    },
    {
     "name": "stderr",
     "output_type": "stream",
     "text": [
      "0% [███] 100% | ETA: 00:00:00\n",
      "Total time elapsed: 00:00:01\n"
     ]
    },
    {
     "name": "stdout",
     "output_type": "stream",
     "text": [
      "Finished Epoch 6 || Run Time:    0.4 | Load Time:    1.2 || F1:  98.82 | Prec:  98.59 | Rec:  99.06 || Ex/s: 282.97\n",
      "\n"
     ]
    },
    {
     "data": {
      "text/plain": [
       "tensor(98.8235, device='cuda:0')"
      ]
     },
     "execution_count": 4,
     "metadata": {},
     "output_type": "execute_result"
    }
   ],
   "source": [
    "model.run_eval(test)"
   ]
  },
  {
   "cell_type": "code",
   "execution_count": 6,
   "metadata": {
    "ExecuteTime": {
     "end_time": "2020-03-30T10:49:24.799440Z",
     "start_time": "2020-03-30T10:40:22.164955Z"
    }
   },
   "outputs": [
    {
     "name": "stdout",
     "output_type": "stream",
     "text": [
      "* Number of trainable parameters: 15560809\n",
      "===>  TRAIN Epoch 1\n"
     ]
    },
    {
     "name": "stderr",
     "output_type": "stream",
     "text": [
      "/home/nvidia/anaconda3/envs/testenv/lib/python3.8/site-packages/torch/nn/functional.py:1958: UserWarning: reduction: 'mean' divides the total loss by both the batch size and the support size.'batchmean' divides only by the batch size, and aligns with the KL div math definition.'mean' will be changed to behave the same as 'batchmean' in the next major release.\n",
      "  warnings.warn(\"reduction: 'mean' divides the total loss by both the batch size and the support size.\"\n",
      "0% [█████████] 100% | ETA: 00:00:00\n",
      "Total time elapsed: 00:00:25\n"
     ]
    },
    {
     "name": "stdout",
     "output_type": "stream",
     "text": [
      "Finished Epoch 1 || Run Time:   22.4 | Load Time:    5.0 || F1:  76.17 | Prec:  74.22 | Rec:  78.23 || Ex/s:  53.82\n",
      "\n",
      "===>  EVAL Epoch 1\n"
     ]
    },
    {
     "name": "stderr",
     "output_type": "stream",
     "text": [
      "0% [██] 100% | ETA: 00:00:00\n",
      "Total time elapsed: 00:00:02\n"
     ]
    },
    {
     "name": "stdout",
     "output_type": "stream",
     "text": [
      "Finished Epoch 1 || Run Time:    1.6 | Load Time:    1.0 || F1:  95.96 | Prec:  95.19 | Rec:  96.74 || Ex/s: 142.96\n",
      "\n",
      "* Best F1: tensor(95.9569, device='cuda:0')\n",
      "Saving best model...\n",
      "Done.\n",
      "---------------------\n",
      "\n",
      "===>  TRAIN Epoch 2\n"
     ]
    },
    {
     "name": "stderr",
     "output_type": "stream",
     "text": [
      "0% [█████████] 100% | ETA: 00:00:00\n",
      "Total time elapsed: 00:00:22\n"
     ]
    },
    {
     "name": "stdout",
     "output_type": "stream",
     "text": [
      "Finished Epoch 2 || Run Time:   20.2 | Load Time:    4.1 || F1:  98.28 | Prec:  98.41 | Rec:  98.15 || Ex/s:  60.74\n",
      "\n",
      "===>  EVAL Epoch 2\n"
     ]
    },
    {
     "name": "stderr",
     "output_type": "stream",
     "text": [
      "0% [██] 100% | ETA: 00:00:00\n",
      "Total time elapsed: 00:00:02\n"
     ]
    },
    {
     "name": "stdout",
     "output_type": "stream",
     "text": [
      "Finished Epoch 2 || Run Time:    1.6 | Load Time:    1.0 || F1:  99.19 | Prec:  98.40 | Rec: 100.00 || Ex/s: 144.78\n",
      "\n",
      "* Best F1: tensor(99.1914, device='cuda:0')\n",
      "Saving best model...\n",
      "Done.\n",
      "---------------------\n",
      "\n",
      "===>  TRAIN Epoch 3\n"
     ]
    },
    {
     "name": "stderr",
     "output_type": "stream",
     "text": [
      "0% [█████████] 100% | ETA: 00:00:00\n",
      "Total time elapsed: 00:00:25\n"
     ]
    },
    {
     "name": "stdout",
     "output_type": "stream",
     "text": [
      "Finished Epoch 3 || Run Time:   22.2 | Load Time:    4.9 || F1:  99.47 | Prec:  99.47 | Rec:  99.47 || Ex/s:  54.36\n",
      "\n",
      "===>  EVAL Epoch 3\n"
     ]
    },
    {
     "name": "stderr",
     "output_type": "stream",
     "text": [
      "0% [██] 100% | ETA: 00:00:00\n",
      "Total time elapsed: 00:00:02\n"
     ]
    },
    {
     "name": "stdout",
     "output_type": "stream",
     "text": [
      "Finished Epoch 3 || Run Time:    1.6 | Load Time:    1.0 || F1:  99.19 | Prec:  98.40 | Rec: 100.00 || Ex/s: 143.81\n",
      "\n",
      "---------------------\n",
      "\n",
      "===>  TRAIN Epoch 4\n"
     ]
    },
    {
     "name": "stderr",
     "output_type": "stream",
     "text": [
      "0% [█████████] 100% | ETA: 00:00:00\n",
      "Total time elapsed: 00:00:22\n"
     ]
    },
    {
     "name": "stdout",
     "output_type": "stream",
     "text": [
      "Finished Epoch 4 || Run Time:   20.1 | Load Time:    4.2 || F1:  99.74 | Prec:  99.48 | Rec: 100.00 || Ex/s:  60.70\n",
      "\n",
      "===>  EVAL Epoch 4\n"
     ]
    },
    {
     "name": "stderr",
     "output_type": "stream",
     "text": [
      "0% [██] 100% | ETA: 00:00:00\n",
      "Total time elapsed: 00:00:02\n"
     ]
    },
    {
     "name": "stdout",
     "output_type": "stream",
     "text": [
      "Finished Epoch 4 || Run Time:    1.6 | Load Time:    1.0 || F1:  98.92 | Prec:  98.39 | Rec:  99.46 || Ex/s: 144.39\n",
      "\n",
      "---------------------\n",
      "\n",
      "===>  TRAIN Epoch 5\n"
     ]
    },
    {
     "name": "stderr",
     "output_type": "stream",
     "text": [
      "0% [█████████] 100% | ETA: 00:00:00\n",
      "Total time elapsed: 00:00:20\n"
     ]
    },
    {
     "name": "stdout",
     "output_type": "stream",
     "text": [
      "Finished Epoch 5 || Run Time:   18.4 | Load Time:    3.6 || F1:  99.87 | Prec:  99.87 | Rec:  99.87 || Ex/s:  66.93\n",
      "\n",
      "===>  EVAL Epoch 5\n"
     ]
    },
    {
     "name": "stderr",
     "output_type": "stream",
     "text": [
      "0% [██] 100% | ETA: 00:00:00\n",
      "Total time elapsed: 00:00:02\n"
     ]
    },
    {
     "name": "stdout",
     "output_type": "stream",
     "text": [
      "Finished Epoch 5 || Run Time:    1.6 | Load Time:    1.0 || F1:  99.19 | Prec:  98.40 | Rec: 100.00 || Ex/s: 143.58\n",
      "\n",
      "---------------------\n",
      "\n",
      "===>  TRAIN Epoch 6\n"
     ]
    },
    {
     "name": "stderr",
     "output_type": "stream",
     "text": [
      "0% [█████████] 100% | ETA: 00:00:00\n",
      "Total time elapsed: 00:00:25\n"
     ]
    },
    {
     "name": "stdout",
     "output_type": "stream",
     "text": [
      "Finished Epoch 6 || Run Time:   22.2 | Load Time:    4.8 || F1: 100.00 | Prec: 100.00 | Rec: 100.00 || Ex/s:  54.66\n",
      "\n",
      "===>  EVAL Epoch 6\n"
     ]
    },
    {
     "name": "stderr",
     "output_type": "stream",
     "text": [
      "0% [██] 100% | ETA: 00:00:00\n",
      "Total time elapsed: 00:00:02\n"
     ]
    },
    {
     "name": "stdout",
     "output_type": "stream",
     "text": [
      "Finished Epoch 6 || Run Time:    1.6 | Load Time:    1.0 || F1:  99.19 | Prec:  98.40 | Rec: 100.00 || Ex/s: 143.88\n",
      "\n",
      "---------------------\n",
      "\n",
      "===>  TRAIN Epoch 7\n"
     ]
    },
    {
     "name": "stderr",
     "output_type": "stream",
     "text": [
      "0% [█████████] 100% | ETA: 00:00:00\n",
      "Total time elapsed: 00:00:24\n"
     ]
    },
    {
     "name": "stdout",
     "output_type": "stream",
     "text": [
      "Finished Epoch 7 || Run Time:   21.7 | Load Time:    4.7 || F1: 100.00 | Prec: 100.00 | Rec: 100.00 || Ex/s:  55.83\n",
      "\n",
      "===>  EVAL Epoch 7\n"
     ]
    },
    {
     "name": "stderr",
     "output_type": "stream",
     "text": [
      "0% [██] 100% | ETA: 00:00:00\n",
      "Total time elapsed: 00:00:02\n"
     ]
    },
    {
     "name": "stdout",
     "output_type": "stream",
     "text": [
      "Finished Epoch 7 || Run Time:    1.6 | Load Time:    1.0 || F1:  99.19 | Prec:  98.40 | Rec: 100.00 || Ex/s: 144.57\n",
      "\n",
      "---------------------\n",
      "\n",
      "===>  TRAIN Epoch 8\n"
     ]
    },
    {
     "name": "stderr",
     "output_type": "stream",
     "text": [
      "0% [█████████] 100% | ETA: 00:00:00\n",
      "Total time elapsed: 00:00:23\n"
     ]
    },
    {
     "name": "stdout",
     "output_type": "stream",
     "text": [
      "Finished Epoch 8 || Run Time:   20.9 | Load Time:    4.4 || F1: 100.00 | Prec: 100.00 | Rec: 100.00 || Ex/s:  58.20\n",
      "\n",
      "===>  EVAL Epoch 8\n"
     ]
    },
    {
     "name": "stderr",
     "output_type": "stream",
     "text": [
      "0% [██] 100% | ETA: 00:00:00\n",
      "Total time elapsed: 00:00:02\n"
     ]
    },
    {
     "name": "stdout",
     "output_type": "stream",
     "text": [
      "Finished Epoch 8 || Run Time:    1.6 | Load Time:    1.0 || F1:  99.19 | Prec:  98.40 | Rec: 100.00 || Ex/s: 144.77\n",
      "\n",
      "---------------------\n",
      "\n",
      "===>  TRAIN Epoch 9\n"
     ]
    },
    {
     "name": "stderr",
     "output_type": "stream",
     "text": [
      "0% [█████████] 100% | ETA: 00:00:00\n",
      "Total time elapsed: 00:00:23\n"
     ]
    },
    {
     "name": "stdout",
     "output_type": "stream",
     "text": [
      "Finished Epoch 9 || Run Time:   20.9 | Load Time:    4.4 || F1: 100.00 | Prec: 100.00 | Rec: 100.00 || Ex/s:  58.23\n",
      "\n",
      "===>  EVAL Epoch 9\n"
     ]
    },
    {
     "name": "stderr",
     "output_type": "stream",
     "text": [
      "0% [██] 100% | ETA: 00:00:00\n",
      "Total time elapsed: 00:00:02\n"
     ]
    },
    {
     "name": "stdout",
     "output_type": "stream",
     "text": [
      "Finished Epoch 9 || Run Time:    1.6 | Load Time:    1.0 || F1:  99.19 | Prec:  98.40 | Rec: 100.00 || Ex/s: 144.64\n",
      "\n",
      "---------------------\n",
      "\n",
      "===>  TRAIN Epoch 10\n"
     ]
    },
    {
     "name": "stderr",
     "output_type": "stream",
     "text": [
      "0% [█████████] 100% | ETA: 00:00:00\n",
      "Total time elapsed: 00:00:22\n"
     ]
    },
    {
     "name": "stdout",
     "output_type": "stream",
     "text": [
      "Finished Epoch 10 || Run Time:   20.0 | Load Time:    4.2 || F1: 100.00 | Prec: 100.00 | Rec: 100.00 || Ex/s:  60.93\n",
      "\n",
      "===>  EVAL Epoch 10\n"
     ]
    },
    {
     "name": "stderr",
     "output_type": "stream",
     "text": [
      "0% [██] 100% | ETA: 00:00:00\n",
      "Total time elapsed: 00:00:02\n"
     ]
    },
    {
     "name": "stdout",
     "output_type": "stream",
     "text": [
      "Finished Epoch 10 || Run Time:    1.7 | Load Time:    1.0 || F1:  99.19 | Prec:  98.40 | Rec: 100.00 || Ex/s: 141.21\n",
      "\n",
      "---------------------\n",
      "\n",
      "===>  TRAIN Epoch 11\n"
     ]
    },
    {
     "name": "stderr",
     "output_type": "stream",
     "text": [
      "0% [█████████] 100% | ETA: 00:00:00\n",
      "Total time elapsed: 00:00:20\n"
     ]
    },
    {
     "name": "stdout",
     "output_type": "stream",
     "text": [
      "Finished Epoch 11 || Run Time:   18.1 | Load Time:    3.5 || F1: 100.00 | Prec: 100.00 | Rec: 100.00 || Ex/s:  68.18\n",
      "\n",
      "===>  EVAL Epoch 11\n"
     ]
    },
    {
     "name": "stderr",
     "output_type": "stream",
     "text": [
      "0% [██] 100% | ETA: 00:00:00\n",
      "Total time elapsed: 00:00:02\n"
     ]
    },
    {
     "name": "stdout",
     "output_type": "stream",
     "text": [
      "Finished Epoch 11 || Run Time:    1.6 | Load Time:    1.0 || F1:  99.19 | Prec:  98.40 | Rec: 100.00 || Ex/s: 144.32\n",
      "\n",
      "---------------------\n",
      "\n",
      "===>  TRAIN Epoch 12\n"
     ]
    },
    {
     "name": "stderr",
     "output_type": "stream",
     "text": [
      "0% [█████████] 100% | ETA: 00:00:00\n",
      "Total time elapsed: 00:00:22\n"
     ]
    },
    {
     "name": "stdout",
     "output_type": "stream",
     "text": [
      "Finished Epoch 12 || Run Time:   19.9 | Load Time:    4.1 || F1: 100.00 | Prec: 100.00 | Rec: 100.00 || Ex/s:  61.37\n",
      "\n",
      "===>  EVAL Epoch 12\n"
     ]
    },
    {
     "name": "stderr",
     "output_type": "stream",
     "text": [
      "0% [██] 100% | ETA: 00:00:00\n",
      "Total time elapsed: 00:00:02\n"
     ]
    },
    {
     "name": "stdout",
     "output_type": "stream",
     "text": [
      "Finished Epoch 12 || Run Time:    1.6 | Load Time:    1.0 || F1:  99.19 | Prec:  98.40 | Rec: 100.00 || Ex/s: 144.36\n",
      "\n",
      "---------------------\n",
      "\n",
      "===>  TRAIN Epoch 13\n"
     ]
    },
    {
     "name": "stderr",
     "output_type": "stream",
     "text": [
      "0% [█████████] 100% | ETA: 00:00:00\n",
      "Total time elapsed: 00:00:25\n"
     ]
    },
    {
     "name": "stdout",
     "output_type": "stream",
     "text": [
      "Finished Epoch 13 || Run Time:   21.8 | Load Time:    4.7 || F1: 100.00 | Prec: 100.00 | Rec: 100.00 || Ex/s:  55.63\n",
      "\n",
      "===>  EVAL Epoch 13\n"
     ]
    },
    {
     "name": "stderr",
     "output_type": "stream",
     "text": [
      "0% [██] 100% | ETA: 00:00:00\n",
      "Total time elapsed: 00:00:02\n"
     ]
    },
    {
     "name": "stdout",
     "output_type": "stream",
     "text": [
      "Finished Epoch 13 || Run Time:    1.6 | Load Time:    1.0 || F1:  99.19 | Prec:  98.40 | Rec: 100.00 || Ex/s: 144.50\n",
      "\n",
      "---------------------\n",
      "\n",
      "===>  TRAIN Epoch 14\n"
     ]
    },
    {
     "name": "stderr",
     "output_type": "stream",
     "text": [
      "0% [█████████] 100% | ETA: 00:00:00\n",
      "Total time elapsed: 00:00:20\n"
     ]
    },
    {
     "name": "stdout",
     "output_type": "stream",
     "text": [
      "Finished Epoch 14 || Run Time:   18.4 | Load Time:    3.7 || F1: 100.00 | Prec: 100.00 | Rec: 100.00 || Ex/s:  66.65\n",
      "\n",
      "===>  EVAL Epoch 14\n"
     ]
    },
    {
     "name": "stderr",
     "output_type": "stream",
     "text": [
      "0% [██] 100% | ETA: 00:00:00\n",
      "Total time elapsed: 00:00:02\n"
     ]
    },
    {
     "name": "stdout",
     "output_type": "stream",
     "text": [
      "Finished Epoch 14 || Run Time:    1.6 | Load Time:    1.0 || F1:  99.19 | Prec:  98.40 | Rec: 100.00 || Ex/s: 145.06\n",
      "\n",
      "---------------------\n",
      "\n",
      "===>  TRAIN Epoch 15\n"
     ]
    },
    {
     "name": "stderr",
     "output_type": "stream",
     "text": [
      "0% [█████████] 100% | ETA: 00:00:00\n",
      "Total time elapsed: 00:00:23\n"
     ]
    },
    {
     "name": "stdout",
     "output_type": "stream",
     "text": [
      "Finished Epoch 15 || Run Time:   20.8 | Load Time:    4.4 || F1: 100.00 | Prec: 100.00 | Rec: 100.00 || Ex/s:  58.75\n",
      "\n",
      "===>  EVAL Epoch 15\n"
     ]
    },
    {
     "name": "stderr",
     "output_type": "stream",
     "text": [
      "0% [██] 100% | ETA: 00:00:00\n",
      "Total time elapsed: 00:00:02\n"
     ]
    },
    {
     "name": "stdout",
     "output_type": "stream",
     "text": [
      "Finished Epoch 15 || Run Time:    1.6 | Load Time:    1.0 || F1:  99.19 | Prec:  98.40 | Rec: 100.00 || Ex/s: 144.71\n",
      "\n",
      "---------------------\n",
      "\n",
      "===>  TRAIN Epoch 16\n"
     ]
    },
    {
     "name": "stderr",
     "output_type": "stream",
     "text": [
      "0% [█████████] 100% | ETA: 00:00:00\n",
      "Total time elapsed: 00:00:24\n"
     ]
    },
    {
     "name": "stdout",
     "output_type": "stream",
     "text": [
      "Finished Epoch 16 || Run Time:   21.4 | Load Time:    4.6 || F1: 100.00 | Prec: 100.00 | Rec: 100.00 || Ex/s:  56.88\n",
      "\n",
      "===>  EVAL Epoch 16\n"
     ]
    },
    {
     "name": "stderr",
     "output_type": "stream",
     "text": [
      "0% [██] 100% | ETA: 00:00:00\n",
      "Total time elapsed: 00:00:02\n"
     ]
    },
    {
     "name": "stdout",
     "output_type": "stream",
     "text": [
      "Finished Epoch 16 || Run Time:    1.6 | Load Time:    1.0 || F1:  99.19 | Prec:  98.40 | Rec: 100.00 || Ex/s: 144.86\n",
      "\n",
      "---------------------\n",
      "\n",
      "===>  TRAIN Epoch 17\n"
     ]
    },
    {
     "name": "stderr",
     "output_type": "stream",
     "text": [
      "0% [█████████] 100% | ETA: 00:00:00\n",
      "Total time elapsed: 00:00:21\n"
     ]
    },
    {
     "name": "stdout",
     "output_type": "stream",
     "text": [
      "Finished Epoch 17 || Run Time:   19.1 | Load Time:    3.9 || F1: 100.00 | Prec: 100.00 | Rec: 100.00 || Ex/s:  64.21\n",
      "\n",
      "===>  EVAL Epoch 17\n"
     ]
    },
    {
     "name": "stderr",
     "output_type": "stream",
     "text": [
      "0% [██] 100% | ETA: 00:00:00\n",
      "Total time elapsed: 00:00:02\n"
     ]
    },
    {
     "name": "stdout",
     "output_type": "stream",
     "text": [
      "Finished Epoch 17 || Run Time:    1.6 | Load Time:    1.0 || F1:  99.19 | Prec:  98.40 | Rec: 100.00 || Ex/s: 145.11\n",
      "\n",
      "---------------------\n",
      "\n",
      "===>  TRAIN Epoch 18\n"
     ]
    },
    {
     "name": "stderr",
     "output_type": "stream",
     "text": [
      "0% [█████████] 100% | ETA: 00:00:00\n",
      "Total time elapsed: 00:00:20\n"
     ]
    },
    {
     "name": "stdout",
     "output_type": "stream",
     "text": [
      "Finished Epoch 18 || Run Time:   18.1 | Load Time:    3.5 || F1: 100.00 | Prec: 100.00 | Rec: 100.00 || Ex/s:  68.27\n",
      "\n",
      "===>  EVAL Epoch 18\n"
     ]
    },
    {
     "name": "stderr",
     "output_type": "stream",
     "text": [
      "0% [██] 100% | ETA: 00:00:00\n",
      "Total time elapsed: 00:00:02\n"
     ]
    },
    {
     "name": "stdout",
     "output_type": "stream",
     "text": [
      "Finished Epoch 18 || Run Time:    1.5 | Load Time:    0.9 || F1:  99.19 | Prec:  98.40 | Rec: 100.00 || Ex/s: 155.37\n",
      "\n",
      "---------------------\n",
      "\n",
      "===>  TRAIN Epoch 19\n"
     ]
    },
    {
     "name": "stderr",
     "output_type": "stream",
     "text": [
      "0% [█████████] 100% | ETA: 00:00:00\n",
      "Total time elapsed: 00:00:21\n"
     ]
    },
    {
     "name": "stdout",
     "output_type": "stream",
     "text": [
      "Finished Epoch 19 || Run Time:   19.5 | Load Time:    4.0 || F1: 100.00 | Prec: 100.00 | Rec: 100.00 || Ex/s:  62.92\n",
      "\n",
      "===>  EVAL Epoch 19\n"
     ]
    },
    {
     "name": "stderr",
     "output_type": "stream",
     "text": [
      "0% [██] 100% | ETA: 00:00:00\n",
      "Total time elapsed: 00:00:02\n"
     ]
    },
    {
     "name": "stdout",
     "output_type": "stream",
     "text": [
      "Finished Epoch 19 || Run Time:    1.6 | Load Time:    1.0 || F1:  99.19 | Prec:  98.40 | Rec: 100.00 || Ex/s: 144.44\n",
      "\n",
      "---------------------\n",
      "\n",
      "===>  TRAIN Epoch 20\n"
     ]
    },
    {
     "name": "stderr",
     "output_type": "stream",
     "text": [
      "0% [█████████] 100% | ETA: 00:00:00\n",
      "Total time elapsed: 00:00:20\n"
     ]
    },
    {
     "name": "stdout",
     "output_type": "stream",
     "text": [
      "Finished Epoch 20 || Run Time:   18.2 | Load Time:    3.6 || F1: 100.00 | Prec: 100.00 | Rec: 100.00 || Ex/s:  67.85\n",
      "\n",
      "===>  EVAL Epoch 20\n"
     ]
    },
    {
     "name": "stderr",
     "output_type": "stream",
     "text": [
      "0% [██] 100% | ETA: 00:00:00\n",
      "Total time elapsed: 00:00:02\n"
     ]
    },
    {
     "name": "stdout",
     "output_type": "stream",
     "text": [
      "Finished Epoch 20 || Run Time:    1.6 | Load Time:    1.0 || F1:  99.19 | Prec:  98.40 | Rec: 100.00 || Ex/s: 144.10\n",
      "\n",
      "---------------------\n",
      "\n",
      "Loading best model...\n",
      "Training done.\n"
     ]
    },
    {
     "data": {
      "text/plain": [
       "tensor(99.1914, device='cuda:0')"
      ]
     },
     "execution_count": 6,
     "metadata": {},
     "output_type": "execute_result"
    }
   ],
   "source": [
    "hybrid_model = dm.MatchingModel(attr_summarizer='hybrid')\n",
    "hybrid_model.run_train(train,valid,best_save_path='models/walmart_amazon_hybrid.pth',epochs=20,batch_size=32)"
   ]
  },
  {
   "cell_type": "code",
   "execution_count": 7,
   "metadata": {
    "ExecuteTime": {
     "end_time": "2020-03-30T10:49:27.794606Z",
     "start_time": "2020-03-30T10:49:24.801404Z"
    }
   },
   "outputs": [
    {
     "name": "stdout",
     "output_type": "stream",
     "text": [
      "===>  EVAL Epoch 2\n"
     ]
    },
    {
     "name": "stderr",
     "output_type": "stream",
     "text": [
      "0% [███] 100% | ETA: 00:00:00\n",
      "Total time elapsed: 00:00:02\n"
     ]
    },
    {
     "name": "stdout",
     "output_type": "stream",
     "text": [
      "Finished Epoch 2 || Run Time:    1.9 | Load Time:    1.1 || F1: 100.00 | Prec: 100.00 | Rec: 100.00 || Ex/s: 155.34\n",
      "\n"
     ]
    },
    {
     "data": {
      "text/plain": [
       "tensor(100., device='cuda:0')"
      ]
     },
     "execution_count": 7,
     "metadata": {},
     "output_type": "execute_result"
    }
   ],
   "source": [
    "hybrid_model.run_eval(test)"
   ]
  },
  {
   "cell_type": "code",
   "execution_count": 6,
   "metadata": {
    "ExecuteTime": {
     "end_time": "2020-03-27T11:06:49.386535Z",
     "start_time": "2020-03-27T11:06:47.532861Z"
    }
   },
   "outputs": [
    {
     "name": "stdout",
     "output_type": "stream",
     "text": [
      "===>  EVAL Epoch 2\n"
     ]
    },
    {
     "name": "stderr",
     "output_type": "stream",
     "text": [
      "0% [███] 100% | ETA: 00:00:00\n",
      "Total time elapsed: 00:00:01\n"
     ]
    },
    {
     "name": "stdout",
     "output_type": "stream",
     "text": [
      "Finished Epoch 2 || Run Time:    0.5 | Load Time:    1.3 || F1:  97.01 | Prec:  94.62 | Rec:  99.53 || Ex/s: 251.93\n",
      "\n"
     ]
    },
    {
     "data": {
      "text/plain": [
       "tensor(97.0115, device='cuda:0')"
      ]
     },
     "execution_count": 6,
     "metadata": {},
     "output_type": "execute_result"
    }
   ],
   "source": [
    "model.run_eval(test)"
   ]
  },
  {
   "cell_type": "markdown",
   "metadata": {},
   "source": [
    "## Itunes-Amazon"
   ]
  },
  {
   "cell_type": "code",
   "execution_count": 2,
   "metadata": {
    "ExecuteTime": {
     "end_time": "2020-06-06T09:29:26.456516Z",
     "start_time": "2020-06-06T09:29:26.231531Z"
    }
   },
   "outputs": [],
   "source": [
    "train,valid,test = dm.data.process('datasets/itunes_amazon/',train='train.csv',validation='validation.csv',\n",
    "                                   test='test.csv',left_prefix='ltable_',right_prefix='rtable_')"
   ]
  },
  {
   "cell_type": "code",
   "execution_count": null,
   "metadata": {
    "ExecuteTime": {
     "start_time": "2020-06-06T09:29:36.920Z"
    }
   },
   "outputs": [
    {
     "name": "stdout",
     "output_type": "stream",
     "text": [
      "* Number of trainable parameters: 3917002\n",
      "===>  TRAIN Epoch 1\n"
     ]
    },
    {
     "name": "stderr",
     "output_type": "stream",
     "text": [
      "/home/nvidia/anaconda3/envs/testenv/lib/python3.8/site-packages/torch/nn/functional.py:1958: UserWarning: reduction: 'mean' divides the total loss by both the batch size and the support size.'batchmean' divides only by the batch size, and aligns with the KL div math definition.'mean' will be changed to behave the same as 'batchmean' in the next major release.\n",
      "  warnings.warn(\"reduction: 'mean' divides the total loss by both the batch size and the support size.\"\n",
      "0% [████] 100% | ETA: 00:00:00\n",
      "Total time elapsed: 00:00:04\n"
     ]
    },
    {
     "name": "stdout",
     "output_type": "stream",
     "text": [
      "Finished Epoch 1 || Run Time:    3.4 | Load Time:    1.1 || F1:  80.83 | Prec:  74.29 | Rec:  88.64 || Ex/s:  37.56\n",
      "\n",
      "===>  EVAL Epoch 1\n"
     ]
    },
    {
     "name": "stderr",
     "output_type": "stream",
     "text": [
      "0% [█] 100% | ETA: 00:00:00\n",
      "Total time elapsed: 00:00:00\n"
     ]
    },
    {
     "name": "stdout",
     "output_type": "stream",
     "text": [
      "Finished Epoch 1 || Run Time:    0.3 | Load Time:    0.2 || F1:  85.71 | Prec:  90.00 | Rec:  81.82 || Ex/s:  80.57\n",
      "\n",
      "* Best F1: tensor(85.7143, device='cuda:0')\n",
      "Saving best model...\n",
      "Done.\n",
      "---------------------\n",
      "\n",
      "===>  TRAIN Epoch 2\n"
     ]
    },
    {
     "name": "stderr",
     "output_type": "stream",
     "text": [
      "0% [████] 100% | ETA: 00:00:00\n",
      "Total time elapsed: 00:00:04\n"
     ]
    },
    {
     "name": "stdout",
     "output_type": "stream",
     "text": [
      "Finished Epoch 2 || Run Time:    3.4 | Load Time:    1.1 || F1:  94.80 | Prec:  96.47 | Rec:  93.18 || Ex/s:  37.23\n",
      "\n",
      "===>  EVAL Epoch 2\n"
     ]
    },
    {
     "name": "stderr",
     "output_type": "stream",
     "text": [
      "0% [█] 100% | ETA: 00:00:00\n",
      "Total time elapsed: 00:00:00\n"
     ]
    },
    {
     "name": "stdout",
     "output_type": "stream",
     "text": [
      "Finished Epoch 2 || Run Time:    0.3 | Load Time:    0.2 || F1:  87.80 | Prec:  94.74 | Rec:  81.82 || Ex/s:  80.98\n",
      "\n",
      "* Best F1: tensor(87.8049, device='cuda:0')\n",
      "Saving best model...\n",
      "Done.\n",
      "---------------------\n",
      "\n",
      "===>  TRAIN Epoch 3\n"
     ]
    },
    {
     "name": "stderr",
     "output_type": "stream",
     "text": [
      "0% [████] 100% | ETA: 00:00:00\n",
      "Total time elapsed: 00:00:04\n"
     ]
    },
    {
     "name": "stdout",
     "output_type": "stream",
     "text": [
      "Finished Epoch 3 || Run Time:    3.4 | Load Time:    1.1 || F1:  97.70 | Prec:  98.84 | Rec:  96.59 || Ex/s:  37.36\n",
      "\n",
      "===>  EVAL Epoch 3\n"
     ]
    },
    {
     "name": "stderr",
     "output_type": "stream",
     "text": [
      "0% [█] 100% | ETA: 00:00:00\n",
      "Total time elapsed: 00:00:00\n"
     ]
    },
    {
     "name": "stdout",
     "output_type": "stream",
     "text": [
      "Finished Epoch 3 || Run Time:    0.3 | Load Time:    0.2 || F1:  95.45 | Prec:  95.45 | Rec:  95.45 || Ex/s:  80.89\n",
      "\n",
      "* Best F1: tensor(95.4545, device='cuda:0')\n",
      "Saving best model...\n",
      "Done.\n",
      "---------------------\n",
      "\n",
      "===>  TRAIN Epoch 4\n"
     ]
    },
    {
     "name": "stderr",
     "output_type": "stream",
     "text": [
      "0% [████] 100% | ETA: 00:00:00\n",
      "Total time elapsed: 00:00:04\n"
     ]
    },
    {
     "name": "stdout",
     "output_type": "stream",
     "text": [
      "Finished Epoch 4 || Run Time:    3.4 | Load Time:    1.1 || F1: 100.00 | Prec: 100.00 | Rec: 100.00 || Ex/s:  37.23\n",
      "\n",
      "===>  EVAL Epoch 4\n"
     ]
    },
    {
     "name": "stderr",
     "output_type": "stream",
     "text": [
      "0% [█] 100% | ETA: 00:00:00\n",
      "Total time elapsed: 00:00:00\n"
     ]
    },
    {
     "name": "stdout",
     "output_type": "stream",
     "text": [
      "Finished Epoch 4 || Run Time:    0.3 | Load Time:    0.2 || F1:  93.62 | Prec:  88.00 | Rec: 100.00 || Ex/s:  81.08\n",
      "\n",
      "---------------------\n",
      "\n",
      "===>  TRAIN Epoch 5\n"
     ]
    },
    {
     "name": "stderr",
     "output_type": "stream",
     "text": [
      "0% [████] 100% | ETA: 00:00:00\n",
      "Total time elapsed: 00:00:04\n"
     ]
    },
    {
     "name": "stdout",
     "output_type": "stream",
     "text": [
      "Finished Epoch 5 || Run Time:    3.4 | Load Time:    1.1 || F1: 100.00 | Prec: 100.00 | Rec: 100.00 || Ex/s:  37.29\n",
      "\n",
      "===>  EVAL Epoch 5\n"
     ]
    },
    {
     "name": "stderr",
     "output_type": "stream",
     "text": [
      "0% [█] 100% | ETA: 00:00:00\n",
      "Total time elapsed: 00:00:00\n"
     ]
    },
    {
     "name": "stdout",
     "output_type": "stream",
     "text": [
      "Finished Epoch 5 || Run Time:    0.3 | Load Time:    0.2 || F1:  97.78 | Prec:  95.65 | Rec: 100.00 || Ex/s:  80.95\n",
      "\n",
      "* Best F1: tensor(97.7778, device='cuda:0')\n",
      "Saving best model...\n",
      "Done.\n",
      "---------------------\n",
      "\n",
      "===>  TRAIN Epoch 6\n"
     ]
    },
    {
     "name": "stderr",
     "output_type": "stream",
     "text": [
      "0% [████] 100% | ETA: 00:00:00\n",
      "Total time elapsed: 00:00:04\n"
     ]
    },
    {
     "name": "stdout",
     "output_type": "stream",
     "text": [
      "Finished Epoch 6 || Run Time:    3.4 | Load Time:    1.1 || F1: 100.00 | Prec: 100.00 | Rec: 100.00 || Ex/s:  37.43\n",
      "\n",
      "===>  EVAL Epoch 6\n"
     ]
    },
    {
     "name": "stderr",
     "output_type": "stream",
     "text": [
      "0% [█] 100% | ETA: 00:00:00\n",
      "Total time elapsed: 00:00:00\n"
     ]
    },
    {
     "name": "stdout",
     "output_type": "stream",
     "text": [
      "Finished Epoch 6 || Run Time:    0.3 | Load Time:    0.2 || F1:  95.65 | Prec:  91.67 | Rec: 100.00 || Ex/s:  81.09\n",
      "\n",
      "---------------------\n",
      "\n",
      "===>  TRAIN Epoch 7\n"
     ]
    },
    {
     "name": "stderr",
     "output_type": "stream",
     "text": [
      "0% [████] 100% | ETA: 00:00:00\n",
      "Total time elapsed: 00:00:04\n"
     ]
    },
    {
     "name": "stdout",
     "output_type": "stream",
     "text": [
      "Finished Epoch 7 || Run Time:    3.4 | Load Time:    1.1 || F1: 100.00 | Prec: 100.00 | Rec: 100.00 || Ex/s:  37.32\n",
      "\n",
      "===>  EVAL Epoch 7\n"
     ]
    },
    {
     "name": "stderr",
     "output_type": "stream",
     "text": [
      "0% [█] 100% | ETA: 00:00:00\n",
      "Total time elapsed: 00:00:00\n"
     ]
    },
    {
     "name": "stdout",
     "output_type": "stream",
     "text": [
      "Finished Epoch 7 || Run Time:    0.3 | Load Time:    0.2 || F1:  97.78 | Prec:  95.65 | Rec: 100.00 || Ex/s:  80.97\n",
      "\n",
      "---------------------\n",
      "\n",
      "===>  TRAIN Epoch 8\n"
     ]
    },
    {
     "name": "stderr",
     "output_type": "stream",
     "text": [
      "0% [████] 100% | ETA: 00:00:00\n",
      "Total time elapsed: 00:00:04\n"
     ]
    },
    {
     "name": "stdout",
     "output_type": "stream",
     "text": [
      "Finished Epoch 8 || Run Time:    3.4 | Load Time:    1.1 || F1: 100.00 | Prec: 100.00 | Rec: 100.00 || Ex/s:  37.35\n",
      "\n",
      "===>  EVAL Epoch 8\n"
     ]
    },
    {
     "name": "stderr",
     "output_type": "stream",
     "text": [
      "0% [█] 100% | ETA: 00:00:00\n",
      "Total time elapsed: 00:00:00\n"
     ]
    },
    {
     "name": "stdout",
     "output_type": "stream",
     "text": [
      "Finished Epoch 8 || Run Time:    0.3 | Load Time:    0.2 || F1:  95.65 | Prec:  91.67 | Rec: 100.00 || Ex/s:  80.83\n",
      "\n",
      "---------------------\n",
      "\n",
      "===>  TRAIN Epoch 9\n"
     ]
    },
    {
     "name": "stderr",
     "output_type": "stream",
     "text": [
      "0% [████] 100% | ETA: 00:00:00\n",
      "Total time elapsed: 00:00:04\n"
     ]
    },
    {
     "name": "stdout",
     "output_type": "stream",
     "text": [
      "Finished Epoch 9 || Run Time:    3.4 | Load Time:    1.1 || F1: 100.00 | Prec: 100.00 | Rec: 100.00 || Ex/s:  37.37\n",
      "\n",
      "===>  EVAL Epoch 9\n"
     ]
    },
    {
     "name": "stderr",
     "output_type": "stream",
     "text": [
      "0% [█] 100% | ETA: 00:00:00\n",
      "Total time elapsed: 00:00:00\n"
     ]
    },
    {
     "name": "stdout",
     "output_type": "stream",
     "text": [
      "Finished Epoch 9 || Run Time:    0.3 | Load Time:    0.2 || F1:  95.65 | Prec:  91.67 | Rec: 100.00 || Ex/s:  81.05\n",
      "\n",
      "---------------------\n",
      "\n",
      "===>  TRAIN Epoch 10\n"
     ]
    },
    {
     "name": "stderr",
     "output_type": "stream",
     "text": [
      "0% [████] 100% | ETA: 00:00:00\n",
      "Total time elapsed: 00:00:04\n"
     ]
    },
    {
     "name": "stdout",
     "output_type": "stream",
     "text": [
      "Finished Epoch 10 || Run Time:    3.4 | Load Time:    1.1 || F1: 100.00 | Prec: 100.00 | Rec: 100.00 || Ex/s:  37.13\n",
      "\n",
      "===>  EVAL Epoch 10\n"
     ]
    },
    {
     "name": "stderr",
     "output_type": "stream",
     "text": [
      "0% [█] 100% | ETA: 00:00:00\n",
      "Total time elapsed: 00:00:00\n"
     ]
    },
    {
     "name": "stdout",
     "output_type": "stream",
     "text": [
      "Finished Epoch 10 || Run Time:    0.3 | Load Time:    0.2 || F1:  95.65 | Prec:  91.67 | Rec: 100.00 || Ex/s:  80.90\n",
      "\n",
      "---------------------\n",
      "\n",
      "===>  TRAIN Epoch 11\n"
     ]
    },
    {
     "name": "stderr",
     "output_type": "stream",
     "text": [
      "0% [████] 100% | ETA: 00:00:00\n",
      "Total time elapsed: 00:00:04\n"
     ]
    },
    {
     "name": "stdout",
     "output_type": "stream",
     "text": [
      "Finished Epoch 11 || Run Time:    3.4 | Load Time:    1.1 || F1: 100.00 | Prec: 100.00 | Rec: 100.00 || Ex/s:  37.51\n",
      "\n",
      "===>  EVAL Epoch 11\n"
     ]
    },
    {
     "name": "stderr",
     "output_type": "stream",
     "text": [
      "0% [█] 100% | ETA: 00:00:00\n",
      "Total time elapsed: 00:00:00\n"
     ]
    },
    {
     "name": "stdout",
     "output_type": "stream",
     "text": [
      "Finished Epoch 11 || Run Time:    0.3 | Load Time:    0.2 || F1:  95.65 | Prec:  91.67 | Rec: 100.00 || Ex/s:  79.43\n",
      "\n",
      "---------------------\n",
      "\n",
      "===>  TRAIN Epoch 12\n"
     ]
    },
    {
     "name": "stderr",
     "output_type": "stream",
     "text": [
      "0% [████] 100% | ETA: 00:00:00\n",
      "Total time elapsed: 00:00:03\n"
     ]
    },
    {
     "name": "stdout",
     "output_type": "stream",
     "text": [
      "Finished Epoch 12 || Run Time:    3.2 | Load Time:    1.0 || F1: 100.00 | Prec: 100.00 | Rec: 100.00 || Ex/s:  39.98\n",
      "\n",
      "===>  EVAL Epoch 12\n"
     ]
    },
    {
     "name": "stderr",
     "output_type": "stream",
     "text": [
      "0% [█] 100% | ETA: 00:00:00\n",
      "Total time elapsed: 00:00:00\n"
     ]
    },
    {
     "name": "stdout",
     "output_type": "stream",
     "text": [
      "Finished Epoch 12 || Run Time:    0.3 | Load Time:    0.2 || F1:  95.65 | Prec:  91.67 | Rec: 100.00 || Ex/s:  78.96\n",
      "\n",
      "---------------------\n",
      "\n",
      "===>  TRAIN Epoch 13\n"
     ]
    },
    {
     "name": "stderr",
     "output_type": "stream",
     "text": [
      "0% [████] 100% | ETA: 00:00:00\n",
      "Total time elapsed: 00:00:04\n"
     ]
    },
    {
     "name": "stdout",
     "output_type": "stream",
     "text": [
      "Finished Epoch 13 || Run Time:    3.5 | Load Time:    1.1 || F1: 100.00 | Prec: 100.00 | Rec: 100.00 || Ex/s:  36.90\n",
      "\n",
      "===>  EVAL Epoch 13\n"
     ]
    },
    {
     "name": "stderr",
     "output_type": "stream",
     "text": [
      "0% [█] 100% | ETA: 00:00:00\n",
      "Total time elapsed: 00:00:00\n"
     ]
    },
    {
     "name": "stdout",
     "output_type": "stream",
     "text": [
      "Finished Epoch 13 || Run Time:    0.3 | Load Time:    0.2 || F1:  95.65 | Prec:  91.67 | Rec: 100.00 || Ex/s:  79.40\n",
      "\n",
      "---------------------\n",
      "\n",
      "===>  TRAIN Epoch 14\n"
     ]
    },
    {
     "name": "stderr",
     "output_type": "stream",
     "text": [
      "0% [████] 100% | ETA: 00:00:00\n",
      "Total time elapsed: 00:00:04\n"
     ]
    },
    {
     "name": "stdout",
     "output_type": "stream",
     "text": [
      "Finished Epoch 14 || Run Time:    3.3 | Load Time:    1.1 || F1: 100.00 | Prec: 100.00 | Rec: 100.00 || Ex/s:  37.96\n",
      "\n",
      "===>  EVAL Epoch 14\n"
     ]
    },
    {
     "name": "stderr",
     "output_type": "stream",
     "text": [
      "0% [█] 100% | ETA: 00:00:00\n",
      "Total time elapsed: 00:00:00\n"
     ]
    },
    {
     "name": "stdout",
     "output_type": "stream",
     "text": [
      "Finished Epoch 14 || Run Time:    0.3 | Load Time:    0.2 || F1:  95.65 | Prec:  91.67 | Rec: 100.00 || Ex/s:  79.14\n",
      "\n",
      "---------------------\n",
      "\n",
      "===>  TRAIN Epoch 15\n"
     ]
    },
    {
     "name": "stderr",
     "output_type": "stream",
     "text": [
      "0% [████] 100% | ETA: 00:00:00\n",
      "Total time elapsed: 00:00:04\n"
     ]
    },
    {
     "name": "stdout",
     "output_type": "stream",
     "text": [
      "Finished Epoch 15 || Run Time:    3.3 | Load Time:    1.1 || F1: 100.00 | Prec: 100.00 | Rec: 100.00 || Ex/s:  38.13\n",
      "\n",
      "===>  EVAL Epoch 15\n"
     ]
    },
    {
     "name": "stderr",
     "output_type": "stream",
     "text": [
      "0% [█] 100% | ETA: 00:00:00\n",
      "Total time elapsed: 00:00:00\n"
     ]
    },
    {
     "name": "stdout",
     "output_type": "stream",
     "text": [
      "Finished Epoch 15 || Run Time:    0.3 | Load Time:    0.2 || F1:  95.65 | Prec:  91.67 | Rec: 100.00 || Ex/s:  79.66\n",
      "\n",
      "---------------------\n",
      "\n",
      "===>  TRAIN Epoch 16\n"
     ]
    },
    {
     "name": "stderr",
     "output_type": "stream",
     "text": [
      "0% [████] 100% | ETA: 00:00:00\n",
      "Total time elapsed: 00:00:04\n"
     ]
    },
    {
     "name": "stdout",
     "output_type": "stream",
     "text": [
      "Finished Epoch 16 || Run Time:    3.3 | Load Time:    1.1 || F1: 100.00 | Prec: 100.00 | Rec: 100.00 || Ex/s:  38.14\n",
      "\n",
      "===>  EVAL Epoch 16\n"
     ]
    },
    {
     "name": "stderr",
     "output_type": "stream",
     "text": [
      "0% [█] 100% | ETA: 00:00:00\n",
      "Total time elapsed: 00:00:00\n"
     ]
    },
    {
     "name": "stdout",
     "output_type": "stream",
     "text": [
      "Finished Epoch 16 || Run Time:    0.3 | Load Time:    0.2 || F1:  95.65 | Prec:  91.67 | Rec: 100.00 || Ex/s:  79.20\n",
      "\n",
      "---------------------\n",
      "\n",
      "===>  TRAIN Epoch 17\n"
     ]
    },
    {
     "name": "stderr",
     "output_type": "stream",
     "text": [
      "0% [████] 100% | ETA: 00:00:00\n",
      "Total time elapsed: 00:00:04\n"
     ]
    },
    {
     "name": "stdout",
     "output_type": "stream",
     "text": [
      "Finished Epoch 17 || Run Time:    3.4 | Load Time:    1.1 || F1: 100.00 | Prec: 100.00 | Rec: 100.00 || Ex/s:  36.94\n",
      "\n",
      "===>  EVAL Epoch 17\n"
     ]
    },
    {
     "name": "stderr",
     "output_type": "stream",
     "text": [
      "0% [█] 100% | ETA: 00:00:00\n",
      "Total time elapsed: 00:00:00\n"
     ]
    },
    {
     "name": "stdout",
     "output_type": "stream",
     "text": [
      "Finished Epoch 17 || Run Time:    0.3 | Load Time:    0.2 || F1:  95.65 | Prec:  91.67 | Rec: 100.00 || Ex/s:  79.05\n",
      "\n",
      "---------------------\n",
      "\n",
      "===>  TRAIN Epoch 18\n"
     ]
    },
    {
     "name": "stderr",
     "output_type": "stream",
     "text": [
      "0% [████] 100% | ETA: 00:00:00\n",
      "Total time elapsed: 00:00:04\n"
     ]
    },
    {
     "name": "stdout",
     "output_type": "stream",
     "text": [
      "Finished Epoch 18 || Run Time:    3.4 | Load Time:    1.1 || F1: 100.00 | Prec: 100.00 | Rec: 100.00 || Ex/s:  36.96\n",
      "\n",
      "===>  EVAL Epoch 18\n"
     ]
    },
    {
     "name": "stderr",
     "output_type": "stream",
     "text": [
      "0% [█] 100% | ETA: 00:00:00\n",
      "Total time elapsed: 00:00:00\n"
     ]
    },
    {
     "name": "stdout",
     "output_type": "stream",
     "text": [
      "Finished Epoch 18 || Run Time:    0.3 | Load Time:    0.2 || F1:  95.65 | Prec:  91.67 | Rec: 100.00 || Ex/s:  79.24\n",
      "\n",
      "---------------------\n",
      "\n",
      "===>  TRAIN Epoch 19\n"
     ]
    }
   ],
   "source": [
    "model = dm.MatchingModel(attr_summarizer='rnn')\n",
    "model.run_train(train,valid,best_save_path='models/itunes_amazon_rnn.pth',epochs=20,batch_size=8)"
   ]
  },
  {
   "cell_type": "code",
   "execution_count": null,
   "metadata": {
    "ExecuteTime": {
     "start_time": "2020-05-25T18:10:43.295Z"
    }
   },
   "outputs": [],
   "source": [
    "model.run_eval(test)"
   ]
  },
  {
   "cell_type": "code",
   "execution_count": 3,
   "metadata": {
    "ExecuteTime": {
     "end_time": "2020-03-30T11:02:57.817814Z",
     "start_time": "2020-03-30T10:58:41.974702Z"
    }
   },
   "outputs": [
    {
     "name": "stdout",
     "output_type": "stream",
     "text": [
      "* Number of trainable parameters: 17757810\n",
      "===>  TRAIN Epoch 1\n"
     ]
    },
    {
     "name": "stderr",
     "output_type": "stream",
     "text": [
      "/home/nvidia/anaconda3/envs/testenv/lib/python3.8/site-packages/torch/nn/functional.py:1958: UserWarning: reduction: 'mean' divides the total loss by both the batch size and the support size.'batchmean' divides only by the batch size, and aligns with the KL div math definition.'mean' will be changed to behave the same as 'batchmean' in the next major release.\n",
      "  warnings.warn(\"reduction: 'mean' divides the total loss by both the batch size and the support size.\"\n",
      "0% [████] 100% | ETA: 00:00:00\n",
      "Total time elapsed: 00:00:10\n"
     ]
    },
    {
     "name": "stdout",
     "output_type": "stream",
     "text": [
      "Finished Epoch 1 || Run Time:   10.3 | Load Time:    0.9 || F1:  61.54 | Prec:  53.33 | Rec:  72.73 || Ex/s:  14.90\n",
      "\n",
      "===>  EVAL Epoch 1\n"
     ]
    },
    {
     "name": "stderr",
     "output_type": "stream",
     "text": [
      "0% [█] 100% | ETA: 00:00:00\n",
      "Total time elapsed: 00:00:00\n"
     ]
    },
    {
     "name": "stdout",
     "output_type": "stream",
     "text": [
      "Finished Epoch 1 || Run Time:    0.8 | Load Time:    0.2 || F1:  42.86 | Prec: 100.00 | Rec:  27.27 || Ex/s:  41.30\n",
      "\n",
      "* Best F1: tensor(42.8571, device='cuda:0')\n",
      "Saving best model...\n",
      "Done.\n",
      "---------------------\n",
      "\n",
      "===>  TRAIN Epoch 2\n"
     ]
    },
    {
     "name": "stderr",
     "output_type": "stream",
     "text": [
      "0% [████] 100% | ETA: 00:00:00\n",
      "Total time elapsed: 00:00:09\n"
     ]
    },
    {
     "name": "stdout",
     "output_type": "stream",
     "text": [
      "Finished Epoch 2 || Run Time:    9.2 | Load Time:    0.7 || F1:  78.79 | Prec:  84.42 | Rec:  73.86 || Ex/s:  16.81\n",
      "\n",
      "===>  EVAL Epoch 2\n"
     ]
    },
    {
     "name": "stderr",
     "output_type": "stream",
     "text": [
      "0% [█] 100% | ETA: 00:00:00\n",
      "Total time elapsed: 00:00:00\n"
     ]
    },
    {
     "name": "stdout",
     "output_type": "stream",
     "text": [
      "Finished Epoch 2 || Run Time:    0.8 | Load Time:    0.2 || F1:  90.00 | Prec: 100.00 | Rec:  81.82 || Ex/s:  43.45\n",
      "\n",
      "* Best F1: tensor(90.0000, device='cuda:0')\n",
      "Saving best model...\n",
      "Done.\n",
      "---------------------\n",
      "\n",
      "===>  TRAIN Epoch 3\n"
     ]
    },
    {
     "name": "stderr",
     "output_type": "stream",
     "text": [
      "0% [████] 100% | ETA: 00:00:00\n",
      "Total time elapsed: 00:00:09\n"
     ]
    },
    {
     "name": "stdout",
     "output_type": "stream",
     "text": [
      "Finished Epoch 3 || Run Time:    9.5 | Load Time:    0.7 || F1:  96.63 | Prec:  95.56 | Rec:  97.73 || Ex/s:  16.42\n",
      "\n",
      "===>  EVAL Epoch 3\n"
     ]
    },
    {
     "name": "stderr",
     "output_type": "stream",
     "text": [
      "0% [█] 100% | ETA: 00:00:00\n",
      "Total time elapsed: 00:00:00\n"
     ]
    },
    {
     "name": "stdout",
     "output_type": "stream",
     "text": [
      "Finished Epoch 3 || Run Time:    0.8 | Load Time:    0.2 || F1:  97.78 | Prec:  95.65 | Rec: 100.00 || Ex/s:  43.95\n",
      "\n",
      "* Best F1: tensor(97.7778, device='cuda:0')\n",
      "Saving best model...\n",
      "Done.\n",
      "---------------------\n",
      "\n",
      "===>  TRAIN Epoch 4\n"
     ]
    },
    {
     "name": "stderr",
     "output_type": "stream",
     "text": [
      "0% [████] 100% | ETA: 00:00:00\n",
      "Total time elapsed: 00:00:09\n"
     ]
    },
    {
     "name": "stdout",
     "output_type": "stream",
     "text": [
      "Finished Epoch 4 || Run Time:    9.3 | Load Time:    0.7 || F1: 100.00 | Prec: 100.00 | Rec: 100.00 || Ex/s:  16.71\n",
      "\n",
      "===>  EVAL Epoch 4\n"
     ]
    },
    {
     "name": "stderr",
     "output_type": "stream",
     "text": [
      "0% [█] 100% | ETA: 00:00:00\n",
      "Total time elapsed: 00:00:00\n"
     ]
    },
    {
     "name": "stdout",
     "output_type": "stream",
     "text": [
      "Finished Epoch 4 || Run Time:    0.9 | Load Time:    0.2 || F1:  97.67 | Prec: 100.00 | Rec:  95.45 || Ex/s:  37.83\n",
      "\n",
      "---------------------\n",
      "\n",
      "===>  TRAIN Epoch 5\n"
     ]
    },
    {
     "name": "stderr",
     "output_type": "stream",
     "text": [
      "0% [████] 100% | ETA: 00:00:00\n",
      "Total time elapsed: 00:00:09\n"
     ]
    },
    {
     "name": "stdout",
     "output_type": "stream",
     "text": [
      "Finished Epoch 5 || Run Time:    9.5 | Load Time:    0.7 || F1: 100.00 | Prec: 100.00 | Rec: 100.00 || Ex/s:  16.45\n",
      "\n",
      "===>  EVAL Epoch 5\n"
     ]
    },
    {
     "name": "stderr",
     "output_type": "stream",
     "text": [
      "0% [█] 100% | ETA: 00:00:00\n",
      "Total time elapsed: 00:00:00\n"
     ]
    },
    {
     "name": "stdout",
     "output_type": "stream",
     "text": [
      "Finished Epoch 5 || Run Time:    0.8 | Load Time:    0.2 || F1:  97.78 | Prec:  95.65 | Rec: 100.00 || Ex/s:  43.85\n",
      "\n",
      "---------------------\n",
      "\n",
      "===>  TRAIN Epoch 6\n"
     ]
    },
    {
     "name": "stderr",
     "output_type": "stream",
     "text": [
      "0% [████] 100% | ETA: 00:00:00\n",
      "Total time elapsed: 00:00:09\n"
     ]
    },
    {
     "name": "stdout",
     "output_type": "stream",
     "text": [
      "Finished Epoch 6 || Run Time:    9.9 | Load Time:    0.8 || F1: 100.00 | Prec: 100.00 | Rec: 100.00 || Ex/s:  15.65\n",
      "\n",
      "===>  EVAL Epoch 6\n"
     ]
    },
    {
     "name": "stderr",
     "output_type": "stream",
     "text": [
      "0% [█] 100% | ETA: 00:00:00\n",
      "Total time elapsed: 00:00:00\n"
     ]
    },
    {
     "name": "stdout",
     "output_type": "stream",
     "text": [
      "Finished Epoch 6 || Run Time:    0.8 | Load Time:    0.2 || F1:  97.78 | Prec:  95.65 | Rec: 100.00 || Ex/s:  43.35\n",
      "\n",
      "---------------------\n",
      "\n",
      "===>  TRAIN Epoch 7\n"
     ]
    },
    {
     "name": "stderr",
     "output_type": "stream",
     "text": [
      "0% [████] 100% | ETA: 00:00:00\n",
      "Total time elapsed: 00:00:09\n"
     ]
    },
    {
     "name": "stdout",
     "output_type": "stream",
     "text": [
      "Finished Epoch 7 || Run Time:   10.0 | Load Time:    0.8 || F1: 100.00 | Prec: 100.00 | Rec: 100.00 || Ex/s:  15.52\n",
      "\n",
      "===>  EVAL Epoch 7\n"
     ]
    },
    {
     "name": "stderr",
     "output_type": "stream",
     "text": [
      "0% [█] 100% | ETA: 00:00:00\n",
      "Total time elapsed: 00:00:00\n"
     ]
    },
    {
     "name": "stdout",
     "output_type": "stream",
     "text": [
      "Finished Epoch 7 || Run Time:    0.8 | Load Time:    0.2 || F1: 100.00 | Prec: 100.00 | Rec: 100.00 || Ex/s:  43.83\n",
      "\n",
      "* Best F1: tensor(100., device='cuda:0')\n",
      "Saving best model...\n",
      "Done.\n",
      "---------------------\n",
      "\n",
      "===>  TRAIN Epoch 8\n"
     ]
    },
    {
     "name": "stderr",
     "output_type": "stream",
     "text": [
      "0% [████] 100% | ETA: 00:00:00\n",
      "Total time elapsed: 00:00:09\n"
     ]
    },
    {
     "name": "stdout",
     "output_type": "stream",
     "text": [
      "Finished Epoch 8 || Run Time:    9.3 | Load Time:    0.7 || F1: 100.00 | Prec: 100.00 | Rec: 100.00 || Ex/s:  16.76\n",
      "\n",
      "===>  EVAL Epoch 8\n"
     ]
    },
    {
     "name": "stderr",
     "output_type": "stream",
     "text": [
      "0% [█] 100% | ETA: 00:00:00\n",
      "Total time elapsed: 00:00:00\n"
     ]
    },
    {
     "name": "stdout",
     "output_type": "stream",
     "text": [
      "Finished Epoch 8 || Run Time:    0.8 | Load Time:    0.2 || F1: 100.00 | Prec: 100.00 | Rec: 100.00 || Ex/s:  43.50\n",
      "\n",
      "---------------------\n",
      "\n",
      "===>  TRAIN Epoch 9\n"
     ]
    },
    {
     "name": "stderr",
     "output_type": "stream",
     "text": [
      "0% [████] 100% | ETA: 00:00:00\n",
      "Total time elapsed: 00:00:10\n"
     ]
    },
    {
     "name": "stdout",
     "output_type": "stream",
     "text": [
      "Finished Epoch 9 || Run Time:   10.8 | Load Time:    0.9 || F1: 100.00 | Prec: 100.00 | Rec: 100.00 || Ex/s:  14.37\n",
      "\n",
      "===>  EVAL Epoch 9\n"
     ]
    },
    {
     "name": "stderr",
     "output_type": "stream",
     "text": [
      "0% [█] 100% | ETA: 00:00:00\n",
      "Total time elapsed: 00:00:01\n"
     ]
    },
    {
     "name": "stdout",
     "output_type": "stream",
     "text": [
      "Finished Epoch 9 || Run Time:    0.9 | Load Time:    0.2 || F1: 100.00 | Prec: 100.00 | Rec: 100.00 || Ex/s:  37.09\n",
      "\n",
      "---------------------\n",
      "\n",
      "===>  TRAIN Epoch 10\n"
     ]
    },
    {
     "name": "stderr",
     "output_type": "stream",
     "text": [
      "0% [████] 100% | ETA: 00:00:00\n",
      "Total time elapsed: 00:00:11\n"
     ]
    },
    {
     "name": "stdout",
     "output_type": "stream",
     "text": [
      "Finished Epoch 10 || Run Time:   11.2 | Load Time:    0.9 || F1: 100.00 | Prec: 100.00 | Rec: 100.00 || Ex/s:  13.79\n",
      "\n",
      "===>  EVAL Epoch 10\n"
     ]
    },
    {
     "name": "stderr",
     "output_type": "stream",
     "text": [
      "0% [█] 100% | ETA: 00:00:00\n",
      "Total time elapsed: 00:00:01\n"
     ]
    },
    {
     "name": "stdout",
     "output_type": "stream",
     "text": [
      "Finished Epoch 10 || Run Time:    0.9 | Load Time:    0.2 || F1: 100.00 | Prec: 100.00 | Rec: 100.00 || Ex/s:  37.15\n",
      "\n",
      "---------------------\n",
      "\n",
      "===>  TRAIN Epoch 11\n"
     ]
    },
    {
     "name": "stderr",
     "output_type": "stream",
     "text": [
      "0% [████] 100% | ETA: 00:00:00\n",
      "Total time elapsed: 00:00:11\n"
     ]
    },
    {
     "name": "stdout",
     "output_type": "stream",
     "text": [
      "Finished Epoch 11 || Run Time:   11.1 | Load Time:    0.9 || F1: 100.00 | Prec: 100.00 | Rec: 100.00 || Ex/s:  13.98\n",
      "\n",
      "===>  EVAL Epoch 11\n"
     ]
    },
    {
     "name": "stderr",
     "output_type": "stream",
     "text": [
      "0% [█] 100% | ETA: 00:00:00\n",
      "Total time elapsed: 00:00:01\n"
     ]
    },
    {
     "name": "stdout",
     "output_type": "stream",
     "text": [
      "Finished Epoch 11 || Run Time:    0.9 | Load Time:    0.2 || F1: 100.00 | Prec: 100.00 | Rec: 100.00 || Ex/s:  37.20\n",
      "\n",
      "---------------------\n",
      "\n",
      "===>  TRAIN Epoch 12\n"
     ]
    },
    {
     "name": "stderr",
     "output_type": "stream",
     "text": [
      "0% [████] 100% | ETA: 00:00:00\n",
      "Total time elapsed: 00:00:10\n"
     ]
    },
    {
     "name": "stdout",
     "output_type": "stream",
     "text": [
      "Finished Epoch 12 || Run Time:   10.7 | Load Time:    0.9 || F1: 100.00 | Prec: 100.00 | Rec: 100.00 || Ex/s:  14.54\n",
      "\n",
      "===>  EVAL Epoch 12\n"
     ]
    },
    {
     "name": "stderr",
     "output_type": "stream",
     "text": [
      "0% [█] 100% | ETA: 00:00:00\n",
      "Total time elapsed: 00:00:01\n"
     ]
    },
    {
     "name": "stdout",
     "output_type": "stream",
     "text": [
      "Finished Epoch 12 || Run Time:    0.9 | Load Time:    0.2 || F1: 100.00 | Prec: 100.00 | Rec: 100.00 || Ex/s:  37.05\n",
      "\n",
      "---------------------\n",
      "\n",
      "===>  TRAIN Epoch 13\n"
     ]
    },
    {
     "name": "stderr",
     "output_type": "stream",
     "text": [
      "0% [████] 100% | ETA: 00:00:00\n",
      "Total time elapsed: 00:00:10\n"
     ]
    },
    {
     "name": "stdout",
     "output_type": "stream",
     "text": [
      "Finished Epoch 13 || Run Time:   10.6 | Load Time:    0.9 || F1: 100.00 | Prec: 100.00 | Rec: 100.00 || Ex/s:  14.59\n",
      "\n",
      "===>  EVAL Epoch 13\n"
     ]
    },
    {
     "name": "stderr",
     "output_type": "stream",
     "text": [
      "0% [█] 100% | ETA: 00:00:00\n",
      "Total time elapsed: 00:00:01\n"
     ]
    },
    {
     "name": "stdout",
     "output_type": "stream",
     "text": [
      "Finished Epoch 13 || Run Time:    0.9 | Load Time:    0.2 || F1: 100.00 | Prec: 100.00 | Rec: 100.00 || Ex/s:  37.01\n",
      "\n",
      "---------------------\n",
      "\n",
      "===>  TRAIN Epoch 14\n"
     ]
    },
    {
     "name": "stderr",
     "output_type": "stream",
     "text": [
      "0% [████] 100% | ETA: 00:00:00\n",
      "Total time elapsed: 00:00:10\n"
     ]
    },
    {
     "name": "stdout",
     "output_type": "stream",
     "text": [
      "Finished Epoch 14 || Run Time:   10.3 | Load Time:    0.9 || F1: 100.00 | Prec: 100.00 | Rec: 100.00 || Ex/s:  15.02\n",
      "\n",
      "===>  EVAL Epoch 14\n"
     ]
    },
    {
     "name": "stderr",
     "output_type": "stream",
     "text": [
      "0% [█] 100% | ETA: 00:00:00\n",
      "Total time elapsed: 00:00:01\n"
     ]
    },
    {
     "name": "stdout",
     "output_type": "stream",
     "text": [
      "Finished Epoch 14 || Run Time:    0.9 | Load Time:    0.2 || F1: 100.00 | Prec: 100.00 | Rec: 100.00 || Ex/s:  37.41\n",
      "\n",
      "---------------------\n",
      "\n",
      "===>  TRAIN Epoch 15\n"
     ]
    },
    {
     "name": "stderr",
     "output_type": "stream",
     "text": [
      "0% [████] 100% | ETA: 00:00:00\n",
      "Total time elapsed: 00:00:10\n"
     ]
    },
    {
     "name": "stdout",
     "output_type": "stream",
     "text": [
      "Finished Epoch 15 || Run Time:   10.8 | Load Time:    0.9 || F1: 100.00 | Prec: 100.00 | Rec: 100.00 || Ex/s:  14.32\n",
      "\n",
      "===>  EVAL Epoch 15\n"
     ]
    },
    {
     "name": "stderr",
     "output_type": "stream",
     "text": [
      "0% [█] 100% | ETA: 00:00:00\n",
      "Total time elapsed: 00:00:01\n"
     ]
    },
    {
     "name": "stdout",
     "output_type": "stream",
     "text": [
      "Finished Epoch 15 || Run Time:    0.9 | Load Time:    0.2 || F1: 100.00 | Prec: 100.00 | Rec: 100.00 || Ex/s:  37.15\n",
      "\n",
      "---------------------\n",
      "\n",
      "===>  TRAIN Epoch 16\n"
     ]
    },
    {
     "name": "stderr",
     "output_type": "stream",
     "text": [
      "0% [████] 100% | ETA: 00:00:00\n",
      "Total time elapsed: 00:00:11\n"
     ]
    },
    {
     "name": "stdout",
     "output_type": "stream",
     "text": [
      "Finished Epoch 16 || Run Time:   11.1 | Load Time:    0.9 || F1: 100.00 | Prec: 100.00 | Rec: 100.00 || Ex/s:  13.91\n",
      "\n",
      "===>  EVAL Epoch 16\n"
     ]
    },
    {
     "name": "stderr",
     "output_type": "stream",
     "text": [
      "0% [█] 100% | ETA: 00:00:00\n",
      "Total time elapsed: 00:00:01\n"
     ]
    },
    {
     "name": "stdout",
     "output_type": "stream",
     "text": [
      "Finished Epoch 16 || Run Time:    0.9 | Load Time:    0.2 || F1: 100.00 | Prec: 100.00 | Rec: 100.00 || Ex/s:  37.27\n",
      "\n",
      "---------------------\n",
      "\n",
      "===>  TRAIN Epoch 17\n"
     ]
    },
    {
     "name": "stderr",
     "output_type": "stream",
     "text": [
      "0% [████] 100% | ETA: 00:00:00\n",
      "Total time elapsed: 00:00:11\n"
     ]
    },
    {
     "name": "stdout",
     "output_type": "stream",
     "text": [
      "Finished Epoch 17 || Run Time:   11.2 | Load Time:    0.9 || F1: 100.00 | Prec: 100.00 | Rec: 100.00 || Ex/s:  13.87\n",
      "\n",
      "===>  EVAL Epoch 17\n"
     ]
    },
    {
     "name": "stderr",
     "output_type": "stream",
     "text": [
      "0% [█] 100% | ETA: 00:00:00\n",
      "Total time elapsed: 00:00:01\n"
     ]
    },
    {
     "name": "stdout",
     "output_type": "stream",
     "text": [
      "Finished Epoch 17 || Run Time:    0.9 | Load Time:    0.2 || F1: 100.00 | Prec: 100.00 | Rec: 100.00 || Ex/s:  37.09\n",
      "\n",
      "---------------------\n",
      "\n",
      "===>  TRAIN Epoch 18\n"
     ]
    },
    {
     "name": "stderr",
     "output_type": "stream",
     "text": [
      "0% [████] 100% | ETA: 00:00:00\n",
      "Total time elapsed: 00:00:11\n"
     ]
    },
    {
     "name": "stdout",
     "output_type": "stream",
     "text": [
      "Finished Epoch 18 || Run Time:   11.2 | Load Time:    0.9 || F1: 100.00 | Prec: 100.00 | Rec: 100.00 || Ex/s:  13.85\n",
      "\n",
      "===>  EVAL Epoch 18\n"
     ]
    },
    {
     "name": "stderr",
     "output_type": "stream",
     "text": [
      "0% [█] 100% | ETA: 00:00:00\n",
      "Total time elapsed: 00:00:01\n"
     ]
    },
    {
     "name": "stdout",
     "output_type": "stream",
     "text": [
      "Finished Epoch 18 || Run Time:    0.9 | Load Time:    0.2 || F1: 100.00 | Prec: 100.00 | Rec: 100.00 || Ex/s:  37.16\n",
      "\n",
      "---------------------\n",
      "\n",
      "===>  TRAIN Epoch 19\n"
     ]
    },
    {
     "name": "stderr",
     "output_type": "stream",
     "text": [
      "0% [████] 100% | ETA: 00:00:00\n",
      "Total time elapsed: 00:00:11\n"
     ]
    },
    {
     "name": "stdout",
     "output_type": "stream",
     "text": [
      "Finished Epoch 19 || Run Time:   11.6 | Load Time:    1.0 || F1: 100.00 | Prec: 100.00 | Rec: 100.00 || Ex/s:  13.39\n",
      "\n",
      "===>  EVAL Epoch 19\n"
     ]
    },
    {
     "name": "stderr",
     "output_type": "stream",
     "text": [
      "0% [█] 100% | ETA: 00:00:00\n",
      "Total time elapsed: 00:00:01\n"
     ]
    },
    {
     "name": "stdout",
     "output_type": "stream",
     "text": [
      "Finished Epoch 19 || Run Time:    0.9 | Load Time:    0.2 || F1: 100.00 | Prec: 100.00 | Rec: 100.00 || Ex/s:  37.20\n",
      "\n",
      "---------------------\n",
      "\n",
      "===>  TRAIN Epoch 20\n"
     ]
    },
    {
     "name": "stderr",
     "output_type": "stream",
     "text": [
      "0% [████] 100% | ETA: 00:00:00\n",
      "Total time elapsed: 00:00:11\n"
     ]
    },
    {
     "name": "stdout",
     "output_type": "stream",
     "text": [
      "Finished Epoch 20 || Run Time:   11.6 | Load Time:    1.0 || F1: 100.00 | Prec: 100.00 | Rec: 100.00 || Ex/s:  13.35\n",
      "\n",
      "===>  EVAL Epoch 20\n"
     ]
    },
    {
     "name": "stderr",
     "output_type": "stream",
     "text": [
      "0% [█] 100% | ETA: 00:00:00\n",
      "Total time elapsed: 00:00:01\n"
     ]
    },
    {
     "name": "stdout",
     "output_type": "stream",
     "text": [
      "Finished Epoch 20 || Run Time:    0.9 | Load Time:    0.2 || F1: 100.00 | Prec: 100.00 | Rec: 100.00 || Ex/s:  37.13\n",
      "\n",
      "---------------------\n",
      "\n",
      "Loading best model...\n",
      "Training done.\n"
     ]
    },
    {
     "data": {
      "text/plain": [
       "tensor(100., device='cuda:0')"
      ]
     },
     "execution_count": 3,
     "metadata": {},
     "output_type": "execute_result"
    }
   ],
   "source": [
    "hybrid_model = dm.MatchingModel(attr_summarizer='hybrid')\n",
    "hybrid_model.run_train(train,valid,best_save_path='models/itunes_amazon_hybrid.pth',epochs=20,batch_size=8)"
   ]
  },
  {
   "cell_type": "code",
   "execution_count": 4,
   "metadata": {
    "ExecuteTime": {
     "end_time": "2020-03-30T11:02:58.382955Z",
     "start_time": "2020-03-30T11:02:57.819916Z"
    }
   },
   "outputs": [
    {
     "name": "stdout",
     "output_type": "stream",
     "text": [
      "===>  EVAL Epoch 7\n",
      "Finished Epoch 7 || Run Time:    0.3 | Load Time:    0.2 || F1:  97.78 | Prec:  95.65 | Rec: 100.00 || Ex/s:  97.71\n",
      "\n"
     ]
    },
    {
     "data": {
      "text/plain": [
       "tensor(97.7778, device='cuda:0')"
      ]
     },
     "execution_count": 4,
     "metadata": {},
     "output_type": "execute_result"
    }
   ],
   "source": [
    "hybrid_model.run_eval(test)"
   ]
  },
  {
   "cell_type": "code",
   "execution_count": 9,
   "metadata": {
    "ExecuteTime": {
     "end_time": "2020-03-27T11:13:50.528632Z",
     "start_time": "2020-03-27T11:13:50.056225Z"
    }
   },
   "outputs": [
    {
     "name": "stdout",
     "output_type": "stream",
     "text": [
      "===>  EVAL Epoch 5\n",
      "Finished Epoch 5 || Run Time:    0.1 | Load Time:    0.3 || F1:  88.00 | Prec:  78.57 | Rec: 100.00 || Ex/s: 117.90\n",
      "\n"
     ]
    },
    {
     "data": {
      "text/plain": [
       "tensor(88., device='cuda:0')"
      ]
     },
     "execution_count": 9,
     "metadata": {},
     "output_type": "execute_result"
    }
   ],
   "source": [
    "model.run_eval(test)"
   ]
  },
  {
   "cell_type": "markdown",
   "metadata": {},
   "source": [
    "## Amazon-Google"
   ]
  },
  {
   "cell_type": "code",
   "execution_count": 13,
   "metadata": {
    "ExecuteTime": {
     "end_time": "2020-03-30T11:19:43.870306Z",
     "start_time": "2020-03-30T11:19:43.579761Z"
    }
   },
   "outputs": [],
   "source": [
    "train,valid,test = dm.data.process('datasets/Amazon-GoogleProducts/',train='train.csv',validation='validation.csv',\n",
    "                                   test='test.csv',left_prefix='ltable_',right_prefix='rtable_')"
   ]
  },
  {
   "cell_type": "code",
   "execution_count": 7,
   "metadata": {
    "ExecuteTime": {
     "end_time": "2020-03-27T12:07:31.295732Z",
     "start_time": "2020-03-27T11:30:11.197182Z"
    }
   },
   "outputs": [
    {
     "name": "stdout",
     "output_type": "stream",
     "text": [
      "* Number of trainable parameters: 2169602\n",
      "===>  TRAIN Epoch 1\n"
     ]
    },
    {
     "name": "stderr",
     "output_type": "stream",
     "text": [
      "/home/nvidia/anaconda3/envs/testenv/lib/python3.8/site-packages/torch/nn/functional.py:1958: UserWarning: reduction: 'mean' divides the total loss by both the batch size and the support size.'batchmean' divides only by the batch size, and aligns with the KL div math definition.'mean' will be changed to behave the same as 'batchmean' in the next major release.\n",
      "  warnings.warn(\"reduction: 'mean' divides the total loss by both the batch size and the support size.\"\n",
      "0% [██████████] 100% | ETA: 00:00:00\n",
      "Total time elapsed: 00:01:23\n"
     ]
    },
    {
     "name": "stdout",
     "output_type": "stream",
     "text": [
      "Finished Epoch 1 || Run Time:   14.5 | Load Time:   73.3 || F1:  60.25 | Prec:  66.86 | Rec:  54.83 || Ex/s:  18.95\n",
      "\n",
      "===>  EVAL Epoch 1\n"
     ]
    },
    {
     "name": "stderr",
     "output_type": "stream",
     "text": [
      "0% [██] 100% | ETA: 00:00:00\n",
      "Total time elapsed: 00:00:16\n"
     ]
    },
    {
     "name": "stdout",
     "output_type": "stream",
     "text": [
      "Finished Epoch 1 || Run Time:    1.3 | Load Time:   18.8 || F1:  82.43 | Prec:  74.51 | Rec:  92.23 || Ex/s:  20.71\n",
      "\n",
      "* Best F1: tensor(82.4295, device='cuda:0')\n",
      "Saving best model...\n",
      "Done.\n",
      "---------------------\n",
      "\n",
      "===>  TRAIN Epoch 2\n"
     ]
    },
    {
     "name": "stderr",
     "output_type": "stream",
     "text": [
      "0% [██████████] 100% | ETA: 00:00:00\n",
      "Total time elapsed: 00:01:21\n"
     ]
    },
    {
     "name": "stdout",
     "output_type": "stream",
     "text": [
      "Finished Epoch 2 || Run Time:   14.6 | Load Time:   71.7 || F1:  88.00 | Prec:  85.25 | Rec:  90.94 || Ex/s:  19.27\n",
      "\n",
      "===>  EVAL Epoch 2\n"
     ]
    },
    {
     "name": "stderr",
     "output_type": "stream",
     "text": [
      "0% [██] 100% | ETA: 00:00:00\n",
      "Total time elapsed: 00:00:15\n"
     ]
    },
    {
     "name": "stdout",
     "output_type": "stream",
     "text": [
      "Finished Epoch 2 || Run Time:    1.2 | Load Time:   18.4 || F1:  87.44 | Prec:  83.93 | Rec:  91.26 || Ex/s:  21.23\n",
      "\n",
      "* Best F1: tensor(87.4419, device='cuda:0')\n",
      "Saving best model...\n",
      "Done.\n",
      "---------------------\n",
      "\n",
      "===>  TRAIN Epoch 3\n"
     ]
    },
    {
     "name": "stderr",
     "output_type": "stream",
     "text": [
      "0% [██████████] 100% | ETA: 00:00:00\n",
      "Total time elapsed: 00:01:21\n"
     ]
    },
    {
     "name": "stdout",
     "output_type": "stream",
     "text": [
      "Finished Epoch 3 || Run Time:   14.5 | Load Time:   71.8 || F1:  97.09 | Prec:  96.80 | Rec:  97.38 || Ex/s:  19.27\n",
      "\n",
      "===>  EVAL Epoch 3\n"
     ]
    },
    {
     "name": "stderr",
     "output_type": "stream",
     "text": [
      "0% [██] 100% | ETA: 00:00:00\n",
      "Total time elapsed: 00:00:15\n"
     ]
    },
    {
     "name": "stdout",
     "output_type": "stream",
     "text": [
      "Finished Epoch 3 || Run Time:    1.2 | Load Time:   18.4 || F1:  88.39 | Prec:  81.82 | Rec:  96.12 || Ex/s:  21.21\n",
      "\n",
      "* Best F1: tensor(88.3929, device='cuda:0')\n",
      "Saving best model...\n",
      "Done.\n",
      "---------------------\n",
      "\n",
      "===>  TRAIN Epoch 4\n"
     ]
    },
    {
     "name": "stderr",
     "output_type": "stream",
     "text": [
      "0% [██████████] 100% | ETA: 00:00:00\n",
      "Total time elapsed: 00:01:21\n"
     ]
    },
    {
     "name": "stdout",
     "output_type": "stream",
     "text": [
      "Finished Epoch 4 || Run Time:   14.5 | Load Time:   71.6 || F1:  99.64 | Prec: 100.00 | Rec:  99.28 || Ex/s:  19.32\n",
      "\n",
      "===>  EVAL Epoch 4\n"
     ]
    },
    {
     "name": "stderr",
     "output_type": "stream",
     "text": [
      "0% [██] 100% | ETA: 00:00:00\n",
      "Total time elapsed: 00:00:15\n"
     ]
    },
    {
     "name": "stdout",
     "output_type": "stream",
     "text": [
      "Finished Epoch 4 || Run Time:    1.3 | Load Time:   18.4 || F1:  89.04 | Prec:  85.65 | Rec:  92.72 || Ex/s:  21.19\n",
      "\n",
      "* Best F1: tensor(89.0443, device='cuda:0')\n",
      "Saving best model...\n",
      "Done.\n",
      "---------------------\n",
      "\n",
      "===>  TRAIN Epoch 5\n"
     ]
    },
    {
     "name": "stderr",
     "output_type": "stream",
     "text": [
      "0% [██████████] 100% | ETA: 00:00:00\n",
      "Total time elapsed: 00:01:21\n"
     ]
    },
    {
     "name": "stdout",
     "output_type": "stream",
     "text": [
      "Finished Epoch 5 || Run Time:   14.5 | Load Time:   71.7 || F1:  99.88 | Prec:  99.88 | Rec:  99.88 || Ex/s:  19.31\n",
      "\n",
      "===>  EVAL Epoch 5\n"
     ]
    },
    {
     "name": "stderr",
     "output_type": "stream",
     "text": [
      "0% [██] 100% | ETA: 00:00:00\n",
      "Total time elapsed: 00:00:15\n"
     ]
    },
    {
     "name": "stdout",
     "output_type": "stream",
     "text": [
      "Finished Epoch 5 || Run Time:    1.2 | Load Time:   18.4 || F1:  88.29 | Prec:  82.35 | Rec:  95.15 || Ex/s:  21.15\n",
      "\n",
      "---------------------\n",
      "\n",
      "===>  TRAIN Epoch 6\n"
     ]
    },
    {
     "name": "stderr",
     "output_type": "stream",
     "text": [
      "0% [██████████] 100% | ETA: 00:00:00\n",
      "Total time elapsed: 00:01:21\n"
     ]
    },
    {
     "name": "stdout",
     "output_type": "stream",
     "text": [
      "Finished Epoch 6 || Run Time:   14.5 | Load Time:   71.6 || F1: 100.00 | Prec: 100.00 | Rec: 100.00 || Ex/s:  19.33\n",
      "\n",
      "===>  EVAL Epoch 6\n"
     ]
    },
    {
     "name": "stderr",
     "output_type": "stream",
     "text": [
      "0% [██] 100% | ETA: 00:00:00\n",
      "Total time elapsed: 00:00:15\n"
     ]
    },
    {
     "name": "stdout",
     "output_type": "stream",
     "text": [
      "Finished Epoch 6 || Run Time:    1.2 | Load Time:   18.3 || F1:  89.88 | Prec:  87.21 | Rec:  92.72 || Ex/s:  21.28\n",
      "\n",
      "* Best F1: tensor(89.8824, device='cuda:0')\n",
      "Saving best model...\n",
      "Done.\n",
      "---------------------\n",
      "\n",
      "===>  TRAIN Epoch 7\n"
     ]
    },
    {
     "name": "stderr",
     "output_type": "stream",
     "text": [
      "0% [██████████] 100% | ETA: 00:00:00\n",
      "Total time elapsed: 00:01:21\n"
     ]
    },
    {
     "name": "stdout",
     "output_type": "stream",
     "text": [
      "Finished Epoch 7 || Run Time:   14.6 | Load Time:   71.5 || F1: 100.00 | Prec: 100.00 | Rec: 100.00 || Ex/s:  19.33\n",
      "\n",
      "===>  EVAL Epoch 7\n"
     ]
    },
    {
     "name": "stderr",
     "output_type": "stream",
     "text": [
      "0% [██] 100% | ETA: 00:00:00\n",
      "Total time elapsed: 00:00:15\n"
     ]
    },
    {
     "name": "stdout",
     "output_type": "stream",
     "text": [
      "Finished Epoch 7 || Run Time:    1.2 | Load Time:   18.4 || F1:  90.57 | Prec:  88.07 | Rec:  93.20 || Ex/s:  21.19\n",
      "\n",
      "* Best F1: tensor(90.5660, device='cuda:0')\n",
      "Saving best model...\n",
      "Done.\n",
      "---------------------\n",
      "\n",
      "===>  TRAIN Epoch 8\n"
     ]
    },
    {
     "name": "stderr",
     "output_type": "stream",
     "text": [
      "0% [██████████] 100% | ETA: 00:00:00\n",
      "Total time elapsed: 00:01:21\n"
     ]
    },
    {
     "name": "stdout",
     "output_type": "stream",
     "text": [
      "Finished Epoch 8 || Run Time:   14.5 | Load Time:   71.7 || F1: 100.00 | Prec: 100.00 | Rec: 100.00 || Ex/s:  19.30\n",
      "\n",
      "===>  EVAL Epoch 8\n"
     ]
    },
    {
     "name": "stderr",
     "output_type": "stream",
     "text": [
      "0% [██] 100% | ETA: 00:00:00\n",
      "Total time elapsed: 00:00:15\n"
     ]
    },
    {
     "name": "stdout",
     "output_type": "stream",
     "text": [
      "Finished Epoch 8 || Run Time:    1.2 | Load Time:   18.5 || F1:  90.14 | Prec:  87.27 | Rec:  93.20 || Ex/s:  21.03\n",
      "\n",
      "---------------------\n",
      "\n",
      "===>  TRAIN Epoch 9\n"
     ]
    },
    {
     "name": "stderr",
     "output_type": "stream",
     "text": [
      "0% [██████████] 100% | ETA: 00:00:00\n",
      "Total time elapsed: 00:01:21\n"
     ]
    },
    {
     "name": "stdout",
     "output_type": "stream",
     "text": [
      "Finished Epoch 9 || Run Time:   14.5 | Load Time:   71.7 || F1: 100.00 | Prec: 100.00 | Rec: 100.00 || Ex/s:  19.29\n",
      "\n",
      "===>  EVAL Epoch 9\n"
     ]
    },
    {
     "name": "stderr",
     "output_type": "stream",
     "text": [
      "0% [██] 100% | ETA: 00:00:00\n",
      "Total time elapsed: 00:00:15\n"
     ]
    },
    {
     "name": "stdout",
     "output_type": "stream",
     "text": [
      "Finished Epoch 9 || Run Time:    1.2 | Load Time:   18.3 || F1:  90.35 | Prec:  87.67 | Rec:  93.20 || Ex/s:  21.35\n",
      "\n",
      "---------------------\n",
      "\n",
      "===>  TRAIN Epoch 10\n"
     ]
    },
    {
     "name": "stderr",
     "output_type": "stream",
     "text": [
      "0% [██████████] 100% | ETA: 00:00:00\n",
      "Total time elapsed: 00:01:21\n"
     ]
    },
    {
     "name": "stdout",
     "output_type": "stream",
     "text": [
      "Finished Epoch 10 || Run Time:   14.5 | Load Time:   71.7 || F1: 100.00 | Prec: 100.00 | Rec: 100.00 || Ex/s:  19.29\n",
      "\n",
      "===>  EVAL Epoch 10\n"
     ]
    },
    {
     "name": "stderr",
     "output_type": "stream",
     "text": [
      "0% [██] 100% | ETA: 00:00:00\n",
      "Total time elapsed: 00:00:15\n"
     ]
    },
    {
     "name": "stdout",
     "output_type": "stream",
     "text": [
      "Finished Epoch 10 || Run Time:    1.2 | Load Time:   18.4 || F1:  90.35 | Prec:  87.67 | Rec:  93.20 || Ex/s:  21.22\n",
      "\n",
      "---------------------\n",
      "\n",
      "===>  TRAIN Epoch 11\n"
     ]
    },
    {
     "name": "stderr",
     "output_type": "stream",
     "text": [
      "0% [██████████] 100% | ETA: 00:00:00\n",
      "Total time elapsed: 00:01:21\n"
     ]
    },
    {
     "name": "stdout",
     "output_type": "stream",
     "text": [
      "Finished Epoch 11 || Run Time:   14.5 | Load Time:   71.5 || F1: 100.00 | Prec: 100.00 | Rec: 100.00 || Ex/s:  19.34\n",
      "\n",
      "===>  EVAL Epoch 11\n"
     ]
    },
    {
     "name": "stderr",
     "output_type": "stream",
     "text": [
      "0% [██] 100% | ETA: 00:00:00\n",
      "Total time elapsed: 00:00:15\n"
     ]
    },
    {
     "name": "stdout",
     "output_type": "stream",
     "text": [
      "Finished Epoch 11 || Run Time:    1.2 | Load Time:   18.4 || F1:  90.57 | Prec:  88.07 | Rec:  93.20 || Ex/s:  21.16\n",
      "\n",
      "---------------------\n",
      "\n",
      "===>  TRAIN Epoch 12\n"
     ]
    },
    {
     "name": "stderr",
     "output_type": "stream",
     "text": [
      "0% [██████████] 100% | ETA: 00:00:00\n",
      "Total time elapsed: 00:01:21\n"
     ]
    },
    {
     "name": "stdout",
     "output_type": "stream",
     "text": [
      "Finished Epoch 12 || Run Time:   14.5 | Load Time:   71.6 || F1: 100.00 | Prec: 100.00 | Rec: 100.00 || Ex/s:  19.32\n",
      "\n",
      "===>  EVAL Epoch 12\n"
     ]
    },
    {
     "name": "stderr",
     "output_type": "stream",
     "text": [
      "0% [██] 100% | ETA: 00:00:00\n",
      "Total time elapsed: 00:00:15\n"
     ]
    },
    {
     "name": "stdout",
     "output_type": "stream",
     "text": [
      "Finished Epoch 12 || Run Time:    1.2 | Load Time:   18.5 || F1:  90.26 | Prec:  88.37 | Rec:  92.23 || Ex/s:  21.09\n",
      "\n",
      "---------------------\n",
      "\n",
      "===>  TRAIN Epoch 13\n"
     ]
    },
    {
     "name": "stderr",
     "output_type": "stream",
     "text": [
      "0% [██████████] 100% | ETA: 00:00:00\n",
      "Total time elapsed: 00:01:22\n"
     ]
    },
    {
     "name": "stdout",
     "output_type": "stream",
     "text": [
      "Finished Epoch 13 || Run Time:   14.6 | Load Time:   71.8 || F1: 100.00 | Prec: 100.00 | Rec: 100.00 || Ex/s:  19.26\n",
      "\n",
      "===>  EVAL Epoch 13\n"
     ]
    },
    {
     "name": "stderr",
     "output_type": "stream",
     "text": [
      "0% [██] 100% | ETA: 00:00:00\n",
      "Total time elapsed: 00:00:15\n"
     ]
    },
    {
     "name": "stdout",
     "output_type": "stream",
     "text": [
      "Finished Epoch 13 || Run Time:    1.2 | Load Time:   18.3 || F1:  90.00 | Prec:  88.32 | Rec:  91.75 || Ex/s:  21.30\n",
      "\n",
      "---------------------\n",
      "\n",
      "===>  TRAIN Epoch 14\n"
     ]
    },
    {
     "name": "stderr",
     "output_type": "stream",
     "text": [
      "0% [██████████] 100% | ETA: 00:00:00\n",
      "Total time elapsed: 00:01:29\n"
     ]
    },
    {
     "name": "stdout",
     "output_type": "stream",
     "text": [
      "Finished Epoch 14 || Run Time:   14.7 | Load Time:   80.6 || F1: 100.00 | Prec: 100.00 | Rec: 100.00 || Ex/s:  17.47\n",
      "\n",
      "===>  EVAL Epoch 14\n"
     ]
    },
    {
     "name": "stderr",
     "output_type": "stream",
     "text": [
      "0% [██] 100% | ETA: 00:00:00\n",
      "Total time elapsed: 00:00:19\n"
     ]
    },
    {
     "name": "stdout",
     "output_type": "stream",
     "text": [
      "Finished Epoch 14 || Run Time:    1.5 | Load Time:   23.4 || F1:  90.00 | Prec:  88.32 | Rec:  91.75 || Ex/s:  16.68\n",
      "\n",
      "---------------------\n",
      "\n",
      "===>  TRAIN Epoch 15\n"
     ]
    },
    {
     "name": "stderr",
     "output_type": "stream",
     "text": [
      "0% [██████████] 100% | ETA: 00:00:00\n",
      "Total time elapsed: 00:01:40\n"
     ]
    },
    {
     "name": "stdout",
     "output_type": "stream",
     "text": [
      "Finished Epoch 15 || Run Time:   14.7 | Load Time:   91.3 || F1: 100.00 | Prec: 100.00 | Rec: 100.00 || Ex/s:  15.70\n",
      "\n",
      "===>  EVAL Epoch 15\n"
     ]
    },
    {
     "name": "stderr",
     "output_type": "stream",
     "text": [
      "0% [██] 100% | ETA: 00:00:00\n",
      "Total time elapsed: 00:00:19\n"
     ]
    },
    {
     "name": "stdout",
     "output_type": "stream",
     "text": [
      "Finished Epoch 15 || Run Time:    1.5 | Load Time:   23.3 || F1:  90.00 | Prec:  88.32 | Rec:  91.75 || Ex/s:  16.81\n",
      "\n",
      "---------------------\n",
      "\n",
      "===>  TRAIN Epoch 16\n"
     ]
    },
    {
     "name": "stderr",
     "output_type": "stream",
     "text": [
      "0% [██████████] 100% | ETA: 00:00:00\n",
      "Total time elapsed: 00:01:42\n"
     ]
    },
    {
     "name": "stdout",
     "output_type": "stream",
     "text": [
      "Finished Epoch 16 || Run Time:   14.8 | Load Time:   93.1 || F1: 100.00 | Prec: 100.00 | Rec: 100.00 || Ex/s:  15.42\n",
      "\n",
      "===>  EVAL Epoch 16\n"
     ]
    },
    {
     "name": "stderr",
     "output_type": "stream",
     "text": [
      "0% [██] 100% | ETA: 00:00:00\n",
      "Total time elapsed: 00:00:20\n"
     ]
    },
    {
     "name": "stdout",
     "output_type": "stream",
     "text": [
      "Finished Epoch 16 || Run Time:    1.5 | Load Time:   23.6 || F1:  90.00 | Prec:  88.32 | Rec:  91.75 || Ex/s:  16.56\n",
      "\n",
      "---------------------\n",
      "\n",
      "===>  TRAIN Epoch 17\n"
     ]
    },
    {
     "name": "stderr",
     "output_type": "stream",
     "text": [
      "0% [██████████] 100% | ETA: 00:00:00\n",
      "Total time elapsed: 00:01:39\n"
     ]
    },
    {
     "name": "stdout",
     "output_type": "stream",
     "text": [
      "Finished Epoch 17 || Run Time:   14.5 | Load Time:   89.9 || F1: 100.00 | Prec: 100.00 | Rec: 100.00 || Ex/s:  15.93\n",
      "\n",
      "===>  EVAL Epoch 17\n"
     ]
    },
    {
     "name": "stderr",
     "output_type": "stream",
     "text": [
      "0% [██] 100% | ETA: 00:00:00\n",
      "Total time elapsed: 00:00:16\n"
     ]
    },
    {
     "name": "stdout",
     "output_type": "stream",
     "text": [
      "Finished Epoch 17 || Run Time:    1.3 | Load Time:   19.2 || F1:  90.00 | Prec:  88.32 | Rec:  91.75 || Ex/s:  20.35\n",
      "\n",
      "---------------------\n",
      "\n",
      "===>  TRAIN Epoch 18\n"
     ]
    },
    {
     "name": "stderr",
     "output_type": "stream",
     "text": [
      "0% [██████████] 100% | ETA: 00:00:00\n",
      "Total time elapsed: 00:01:33\n"
     ]
    },
    {
     "name": "stdout",
     "output_type": "stream",
     "text": [
      "Finished Epoch 18 || Run Time:   14.7 | Load Time:   83.6 || F1: 100.00 | Prec: 100.00 | Rec: 100.00 || Ex/s:  16.94\n",
      "\n",
      "===>  EVAL Epoch 18\n"
     ]
    },
    {
     "name": "stderr",
     "output_type": "stream",
     "text": [
      "0% [██] 100% | ETA: 00:00:00\n",
      "Total time elapsed: 00:00:16\n"
     ]
    },
    {
     "name": "stdout",
     "output_type": "stream",
     "text": [
      "Finished Epoch 18 || Run Time:    1.3 | Load Time:   19.6 || F1:  90.00 | Prec:  88.32 | Rec:  91.75 || Ex/s:  19.88\n",
      "\n",
      "---------------------\n",
      "\n",
      "===>  TRAIN Epoch 19\n"
     ]
    },
    {
     "name": "stderr",
     "output_type": "stream",
     "text": [
      "0% [██████████] 100% | ETA: 00:00:00\n",
      "Total time elapsed: 00:01:31\n"
     ]
    },
    {
     "name": "stdout",
     "output_type": "stream",
     "text": [
      "Finished Epoch 19 || Run Time:   14.6 | Load Time:   81.5 || F1: 100.00 | Prec: 100.00 | Rec: 100.00 || Ex/s:  17.32\n",
      "\n",
      "===>  EVAL Epoch 19\n"
     ]
    },
    {
     "name": "stderr",
     "output_type": "stream",
     "text": [
      "0% [██] 100% | ETA: 00:00:00\n",
      "Total time elapsed: 00:00:16\n"
     ]
    },
    {
     "name": "stdout",
     "output_type": "stream",
     "text": [
      "Finished Epoch 19 || Run Time:    1.2 | Load Time:   18.8 || F1:  90.26 | Prec:  88.37 | Rec:  92.23 || Ex/s:  20.77\n",
      "\n",
      "---------------------\n",
      "\n",
      "===>  TRAIN Epoch 20\n"
     ]
    },
    {
     "name": "stderr",
     "output_type": "stream",
     "text": [
      "0% [██████████] 100% | ETA: 00:00:00\n",
      "Total time elapsed: 00:01:30\n"
     ]
    },
    {
     "name": "stdout",
     "output_type": "stream",
     "text": [
      "Finished Epoch 20 || Run Time:   14.4 | Load Time:   81.1 || F1: 100.00 | Prec: 100.00 | Rec: 100.00 || Ex/s:  17.43\n",
      "\n",
      "===>  EVAL Epoch 20\n"
     ]
    },
    {
     "name": "stderr",
     "output_type": "stream",
     "text": [
      "0% [██] 100% | ETA: 00:00:00\n",
      "Total time elapsed: 00:00:15\n"
     ]
    },
    {
     "name": "stdout",
     "output_type": "stream",
     "text": [
      "Finished Epoch 20 || Run Time:    1.3 | Load Time:   18.6 || F1:  90.26 | Prec:  88.37 | Rec:  92.23 || Ex/s:  20.99\n",
      "\n",
      "---------------------\n",
      "\n",
      "Loading best model...\n",
      "Training done.\n"
     ]
    },
    {
     "data": {
      "text/plain": [
       "tensor(90.5660, device='cuda:0')"
      ]
     },
     "execution_count": 7,
     "metadata": {},
     "output_type": "execute_result"
    }
   ],
   "source": [
    "model = dm.MatchingModel(attr_summarizer='rnn')\n",
    "model.run_train(train,valid,best_save_path='models/amazon_google_rnn.pth',epochs=20,batch_size=32)"
   ]
  },
  {
   "cell_type": "code",
   "execution_count": 14,
   "metadata": {
    "ExecuteTime": {
     "end_time": "2020-03-30T12:09:55.770958Z",
     "start_time": "2020-03-30T11:19:47.584543Z"
    }
   },
   "outputs": [
    {
     "name": "stdout",
     "output_type": "stream",
     "text": [
      "* Number of trainable parameters: 9210006\n",
      "===>  TRAIN Epoch 1\n"
     ]
    },
    {
     "name": "stderr",
     "output_type": "stream",
     "text": [
      "0% [██████████] 100% | ETA: 00:00:00\n",
      "Total time elapsed: 00:02:02\n"
     ]
    },
    {
     "name": "stdout",
     "output_type": "stream",
     "text": [
      "Finished Epoch 1 || Run Time:   39.4 | Load Time:   86.6 || F1:  68.59 | Prec:  65.41 | Rec:  72.11 || Ex/s:  13.21\n",
      "\n",
      "===>  EVAL Epoch 1\n"
     ]
    },
    {
     "name": "stderr",
     "output_type": "stream",
     "text": [
      "0% [██] 100% | ETA: 00:00:00\n",
      "Total time elapsed: 00:00:21\n"
     ]
    },
    {
     "name": "stdout",
     "output_type": "stream",
     "text": [
      "Finished Epoch 1 || Run Time:    3.8 | Load Time:   22.7 || F1:  94.29 | Prec:  92.52 | Rec:  96.12 || Ex/s:  15.68\n",
      "\n",
      "* Best F1: tensor(94.2857, device='cuda:0')\n",
      "Saving best model...\n",
      "Done.\n",
      "---------------------\n",
      "\n",
      "===>  TRAIN Epoch 2\n"
     ]
    },
    {
     "name": "stderr",
     "output_type": "stream",
     "text": [
      "0% [██████████] 100% | ETA: 00:00:00\n",
      "Total time elapsed: 00:02:01\n"
     ]
    },
    {
     "name": "stdout",
     "output_type": "stream",
     "text": [
      "Finished Epoch 2 || Run Time:   39.3 | Load Time:   86.4 || F1:  96.63 | Prec:  95.89 | Rec:  97.38 || Ex/s:  13.24\n",
      "\n",
      "===>  EVAL Epoch 2\n"
     ]
    },
    {
     "name": "stderr",
     "output_type": "stream",
     "text": [
      "0% [██] 100% | ETA: 00:00:00\n",
      "Total time elapsed: 00:00:21\n"
     ]
    },
    {
     "name": "stdout",
     "output_type": "stream",
     "text": [
      "Finished Epoch 2 || Run Time:    4.0 | Load Time:   22.7 || F1:  95.33 | Prec:  91.89 | Rec:  99.03 || Ex/s:  15.59\n",
      "\n",
      "* Best F1: tensor(95.3271, device='cuda:0')\n",
      "Saving best model...\n",
      "Done.\n",
      "---------------------\n",
      "\n",
      "===>  TRAIN Epoch 3\n"
     ]
    },
    {
     "name": "stderr",
     "output_type": "stream",
     "text": [
      "0% [██████████] 100% | ETA: 00:00:00\n",
      "Total time elapsed: 00:02:01\n"
     ]
    },
    {
     "name": "stdout",
     "output_type": "stream",
     "text": [
      "Finished Epoch 3 || Run Time:   39.3 | Load Time:   86.3 || F1:  97.86 | Prec:  97.51 | Rec:  98.21 || Ex/s:  13.25\n",
      "\n",
      "===>  EVAL Epoch 3\n"
     ]
    },
    {
     "name": "stderr",
     "output_type": "stream",
     "text": [
      "0% [██] 100% | ETA: 00:00:00\n",
      "Total time elapsed: 00:00:20\n"
     ]
    },
    {
     "name": "stdout",
     "output_type": "stream",
     "text": [
      "Finished Epoch 3 || Run Time:    3.8 | Load Time:   22.7 || F1:  98.32 | Prec:  97.16 | Rec:  99.51 || Ex/s:  15.73\n",
      "\n",
      "* Best F1: tensor(98.3213, device='cuda:0')\n",
      "Saving best model...\n",
      "Done.\n",
      "---------------------\n",
      "\n",
      "===>  TRAIN Epoch 4\n"
     ]
    },
    {
     "name": "stderr",
     "output_type": "stream",
     "text": [
      "0% [██████████] 100% | ETA: 00:00:00\n",
      "Total time elapsed: 00:02:01\n"
     ]
    },
    {
     "name": "stdout",
     "output_type": "stream",
     "text": [
      "Finished Epoch 4 || Run Time:   39.3 | Load Time:   86.4 || F1:  98.93 | Prec:  98.93 | Rec:  98.93 || Ex/s:  13.23\n",
      "\n",
      "===>  EVAL Epoch 4\n"
     ]
    },
    {
     "name": "stderr",
     "output_type": "stream",
     "text": [
      "0% [██] 100% | ETA: 00:00:00\n",
      "Total time elapsed: 00:00:20\n"
     ]
    },
    {
     "name": "stdout",
     "output_type": "stream",
     "text": [
      "Finished Epoch 4 || Run Time:    3.8 | Load Time:   22.6 || F1:  98.80 | Prec:  98.09 | Rec:  99.51 || Ex/s:  15.74\n",
      "\n",
      "* Best F1: tensor(98.7952, device='cuda:0')\n",
      "Saving best model...\n",
      "Done.\n",
      "---------------------\n",
      "\n",
      "===>  TRAIN Epoch 5\n"
     ]
    },
    {
     "name": "stderr",
     "output_type": "stream",
     "text": [
      "0% [██████████] 100% | ETA: 00:00:00\n",
      "Total time elapsed: 00:02:01\n"
     ]
    },
    {
     "name": "stdout",
     "output_type": "stream",
     "text": [
      "Finished Epoch 5 || Run Time:   39.2 | Load Time:   86.5 || F1:  99.34 | Prec:  99.29 | Rec:  99.40 || Ex/s:  13.24\n",
      "\n",
      "===>  EVAL Epoch 5\n"
     ]
    },
    {
     "name": "stderr",
     "output_type": "stream",
     "text": [
      "0% [██] 100% | ETA: 00:00:00\n",
      "Total time elapsed: 00:00:20\n"
     ]
    },
    {
     "name": "stdout",
     "output_type": "stream",
     "text": [
      "Finished Epoch 5 || Run Time:    3.8 | Load Time:   22.7 || F1:  99.03 | Prec:  99.03 | Rec:  99.03 || Ex/s:  15.73\n",
      "\n",
      "* Best F1: tensor(99.0291, device='cuda:0')\n",
      "Saving best model...\n",
      "Done.\n",
      "---------------------\n",
      "\n",
      "===>  TRAIN Epoch 6\n"
     ]
    },
    {
     "name": "stderr",
     "output_type": "stream",
     "text": [
      "0% [██████████] 100% | ETA: 00:00:00\n",
      "Total time elapsed: 00:02:01\n"
     ]
    },
    {
     "name": "stdout",
     "output_type": "stream",
     "text": [
      "Finished Epoch 6 || Run Time:   39.3 | Load Time:   86.4 || F1:  99.64 | Prec:  99.64 | Rec:  99.64 || Ex/s:  13.24\n",
      "\n",
      "===>  EVAL Epoch 6\n"
     ]
    },
    {
     "name": "stderr",
     "output_type": "stream",
     "text": [
      "0% [██] 100% | ETA: 00:00:00\n",
      "Total time elapsed: 00:00:20\n"
     ]
    },
    {
     "name": "stdout",
     "output_type": "stream",
     "text": [
      "Finished Epoch 6 || Run Time:    3.8 | Load Time:   22.7 || F1:  98.79 | Prec:  98.55 | Rec:  99.03 || Ex/s:  15.70\n",
      "\n",
      "---------------------\n",
      "\n",
      "===>  TRAIN Epoch 7\n"
     ]
    },
    {
     "name": "stderr",
     "output_type": "stream",
     "text": [
      "0% [██████████] 100% | ETA: 00:00:00\n",
      "Total time elapsed: 00:02:02\n"
     ]
    },
    {
     "name": "stdout",
     "output_type": "stream",
     "text": [
      "Finished Epoch 7 || Run Time:   39.3 | Load Time:   86.8 || F1:  99.64 | Prec:  99.64 | Rec:  99.64 || Ex/s:  13.20\n",
      "\n",
      "===>  EVAL Epoch 7\n"
     ]
    },
    {
     "name": "stderr",
     "output_type": "stream",
     "text": [
      "0% [██] 100% | ETA: 00:00:00\n",
      "Total time elapsed: 00:00:21\n"
     ]
    },
    {
     "name": "stdout",
     "output_type": "stream",
     "text": [
      "Finished Epoch 7 || Run Time:    3.8 | Load Time:   22.7 || F1:  98.31 | Prec:  98.07 | Rec:  98.54 || Ex/s:  15.69\n",
      "\n",
      "---------------------\n",
      "\n",
      "===>  TRAIN Epoch 8\n"
     ]
    },
    {
     "name": "stderr",
     "output_type": "stream",
     "text": [
      "0% [██████████] 100% | ETA: 00:00:00\n",
      "Total time elapsed: 00:02:02\n"
     ]
    },
    {
     "name": "stdout",
     "output_type": "stream",
     "text": [
      "Finished Epoch 8 || Run Time:   39.3 | Load Time:   86.7 || F1:  99.76 | Prec:  99.64 | Rec:  99.88 || Ex/s:  13.20\n",
      "\n",
      "===>  EVAL Epoch 8\n"
     ]
    },
    {
     "name": "stderr",
     "output_type": "stream",
     "text": [
      "0% [██] 100% | ETA: 00:00:00\n",
      "Total time elapsed: 00:00:20\n"
     ]
    },
    {
     "name": "stdout",
     "output_type": "stream",
     "text": [
      "Finished Epoch 8 || Run Time:    3.8 | Load Time:   22.7 || F1:  98.31 | Prec:  97.61 | Rec:  99.03 || Ex/s:  15.72\n",
      "\n",
      "---------------------\n",
      "\n",
      "===>  TRAIN Epoch 9\n"
     ]
    },
    {
     "name": "stderr",
     "output_type": "stream",
     "text": [
      "0% [██████████] 100% | ETA: 00:00:00\n",
      "Total time elapsed: 00:02:02\n"
     ]
    },
    {
     "name": "stdout",
     "output_type": "stream",
     "text": [
      "Finished Epoch 9 || Run Time:   39.3 | Load Time:   86.6 || F1:  99.82 | Prec:  99.76 | Rec:  99.88 || Ex/s:  13.21\n",
      "\n",
      "===>  EVAL Epoch 9\n"
     ]
    },
    {
     "name": "stderr",
     "output_type": "stream",
     "text": [
      "0% [██] 100% | ETA: 00:00:00\n",
      "Total time elapsed: 00:00:21\n"
     ]
    },
    {
     "name": "stdout",
     "output_type": "stream",
     "text": [
      "Finished Epoch 9 || Run Time:    3.8 | Load Time:   22.7 || F1:  98.56 | Prec:  97.62 | Rec:  99.51 || Ex/s:  15.69\n",
      "\n",
      "---------------------\n",
      "\n",
      "===>  TRAIN Epoch 10\n"
     ]
    },
    {
     "name": "stderr",
     "output_type": "stream",
     "text": [
      "0% [██████████] 100% | ETA: 00:00:00\n",
      "Total time elapsed: 00:02:02\n"
     ]
    },
    {
     "name": "stdout",
     "output_type": "stream",
     "text": [
      "Finished Epoch 10 || Run Time:   39.3 | Load Time:   86.6 || F1:  99.82 | Prec:  99.76 | Rec:  99.88 || Ex/s:  13.22\n",
      "\n",
      "===>  EVAL Epoch 10\n"
     ]
    },
    {
     "name": "stderr",
     "output_type": "stream",
     "text": [
      "0% [██] 100% | ETA: 00:00:00\n",
      "Total time elapsed: 00:00:20\n"
     ]
    },
    {
     "name": "stdout",
     "output_type": "stream",
     "text": [
      "Finished Epoch 10 || Run Time:    3.8 | Load Time:   22.7 || F1:  98.56 | Prec:  97.62 | Rec:  99.51 || Ex/s:  15.70\n",
      "\n",
      "---------------------\n",
      "\n",
      "===>  TRAIN Epoch 11\n"
     ]
    },
    {
     "name": "stderr",
     "output_type": "stream",
     "text": [
      "0% [██████████] 100% | ETA: 00:00:00\n",
      "Total time elapsed: 00:02:02\n"
     ]
    },
    {
     "name": "stdout",
     "output_type": "stream",
     "text": [
      "Finished Epoch 11 || Run Time:   39.3 | Load Time:   86.6 || F1:  99.88 | Prec:  99.88 | Rec:  99.88 || Ex/s:  13.22\n",
      "\n",
      "===>  EVAL Epoch 11\n"
     ]
    },
    {
     "name": "stderr",
     "output_type": "stream",
     "text": [
      "0% [██] 100% | ETA: 00:00:00\n",
      "Total time elapsed: 00:00:20\n"
     ]
    },
    {
     "name": "stdout",
     "output_type": "stream",
     "text": [
      "Finished Epoch 11 || Run Time:    3.8 | Load Time:   22.7 || F1:  98.56 | Prec:  97.62 | Rec:  99.51 || Ex/s:  15.68\n",
      "\n",
      "---------------------\n",
      "\n",
      "===>  TRAIN Epoch 12\n"
     ]
    },
    {
     "name": "stderr",
     "output_type": "stream",
     "text": [
      "0% [██████████] 100% | ETA: 00:00:00\n",
      "Total time elapsed: 00:02:02\n"
     ]
    },
    {
     "name": "stdout",
     "output_type": "stream",
     "text": [
      "Finished Epoch 12 || Run Time:   39.3 | Load Time:   86.7 || F1:  99.88 | Prec:  99.88 | Rec:  99.88 || Ex/s:  13.20\n",
      "\n",
      "===>  EVAL Epoch 12\n"
     ]
    },
    {
     "name": "stderr",
     "output_type": "stream",
     "text": [
      "0% [██] 100% | ETA: 00:00:00\n",
      "Total time elapsed: 00:00:21\n"
     ]
    },
    {
     "name": "stdout",
     "output_type": "stream",
     "text": [
      "Finished Epoch 12 || Run Time:    3.9 | Load Time:   22.7 || F1:  98.56 | Prec:  97.62 | Rec:  99.51 || Ex/s:  15.60\n",
      "\n",
      "---------------------\n",
      "\n",
      "===>  TRAIN Epoch 13\n"
     ]
    },
    {
     "name": "stderr",
     "output_type": "stream",
     "text": [
      "0% [██████████] 100% | ETA: 00:00:00\n",
      "Total time elapsed: 00:02:02\n"
     ]
    },
    {
     "name": "stdout",
     "output_type": "stream",
     "text": [
      "Finished Epoch 13 || Run Time:   39.4 | Load Time:   87.0 || F1:  99.88 | Prec:  99.88 | Rec:  99.88 || Ex/s:  13.17\n",
      "\n",
      "===>  EVAL Epoch 13\n"
     ]
    },
    {
     "name": "stderr",
     "output_type": "stream",
     "text": [
      "0% [██] 100% | ETA: 00:00:00\n",
      "Total time elapsed: 00:00:20\n"
     ]
    },
    {
     "name": "stdout",
     "output_type": "stream",
     "text": [
      "Finished Epoch 13 || Run Time:    3.8 | Load Time:   22.7 || F1:  98.56 | Prec:  97.62 | Rec:  99.51 || Ex/s:  15.71\n",
      "\n",
      "---------------------\n",
      "\n",
      "===>  TRAIN Epoch 14\n"
     ]
    },
    {
     "name": "stderr",
     "output_type": "stream",
     "text": [
      "0% [██████████] 100% | ETA: 00:00:00\n",
      "Total time elapsed: 00:02:02\n"
     ]
    },
    {
     "name": "stdout",
     "output_type": "stream",
     "text": [
      "Finished Epoch 14 || Run Time:   39.3 | Load Time:   86.5 || F1:  99.88 | Prec:  99.88 | Rec:  99.88 || Ex/s:  13.23\n",
      "\n",
      "===>  EVAL Epoch 14\n"
     ]
    },
    {
     "name": "stderr",
     "output_type": "stream",
     "text": [
      "0% [██] 100% | ETA: 00:00:00\n",
      "Total time elapsed: 00:00:20\n"
     ]
    },
    {
     "name": "stdout",
     "output_type": "stream",
     "text": [
      "Finished Epoch 14 || Run Time:    3.8 | Load Time:   22.7 || F1:  98.56 | Prec:  97.62 | Rec:  99.51 || Ex/s:  15.71\n",
      "\n",
      "---------------------\n",
      "\n",
      "===>  TRAIN Epoch 15\n"
     ]
    },
    {
     "name": "stderr",
     "output_type": "stream",
     "text": [
      "0% [██████████] 100% | ETA: 00:00:00\n",
      "Total time elapsed: 00:02:02\n"
     ]
    },
    {
     "name": "stdout",
     "output_type": "stream",
     "text": [
      "Finished Epoch 15 || Run Time:   39.3 | Load Time:   86.4 || F1:  99.88 | Prec:  99.88 | Rec:  99.88 || Ex/s:  13.23\n",
      "\n",
      "===>  EVAL Epoch 15\n"
     ]
    },
    {
     "name": "stderr",
     "output_type": "stream",
     "text": [
      "0% [██] 100% | ETA: 00:00:00\n",
      "Total time elapsed: 00:00:20\n"
     ]
    },
    {
     "name": "stdout",
     "output_type": "stream",
     "text": [
      "Finished Epoch 15 || Run Time:    3.8 | Load Time:   22.7 || F1:  98.56 | Prec:  97.62 | Rec:  99.51 || Ex/s:  15.71\n",
      "\n",
      "---------------------\n",
      "\n",
      "===>  TRAIN Epoch 16\n"
     ]
    },
    {
     "name": "stderr",
     "output_type": "stream",
     "text": [
      "0% [██████████] 100% | ETA: 00:00:00\n",
      "Total time elapsed: 00:02:02\n"
     ]
    },
    {
     "name": "stdout",
     "output_type": "stream",
     "text": [
      "Finished Epoch 16 || Run Time:   39.3 | Load Time:   86.6 || F1:  99.88 | Prec:  99.88 | Rec:  99.88 || Ex/s:  13.22\n",
      "\n",
      "===>  EVAL Epoch 16\n"
     ]
    },
    {
     "name": "stderr",
     "output_type": "stream",
     "text": [
      "0% [██] 100% | ETA: 00:00:00\n",
      "Total time elapsed: 00:00:20\n"
     ]
    },
    {
     "name": "stdout",
     "output_type": "stream",
     "text": [
      "Finished Epoch 16 || Run Time:    3.8 | Load Time:   22.7 || F1:  98.56 | Prec:  97.62 | Rec:  99.51 || Ex/s:  15.72\n",
      "\n",
      "---------------------\n",
      "\n",
      "===>  TRAIN Epoch 17\n"
     ]
    },
    {
     "name": "stderr",
     "output_type": "stream",
     "text": [
      "0% [██████████] 100% | ETA: 00:00:00\n",
      "Total time elapsed: 00:02:01\n"
     ]
    },
    {
     "name": "stdout",
     "output_type": "stream",
     "text": [
      "Finished Epoch 17 || Run Time:   39.3 | Load Time:   86.4 || F1:  99.88 | Prec:  99.88 | Rec:  99.88 || Ex/s:  13.23\n",
      "\n",
      "===>  EVAL Epoch 17\n"
     ]
    },
    {
     "name": "stderr",
     "output_type": "stream",
     "text": [
      "0% [██] 100% | ETA: 00:00:00\n",
      "Total time elapsed: 00:00:20\n"
     ]
    },
    {
     "name": "stdout",
     "output_type": "stream",
     "text": [
      "Finished Epoch 17 || Run Time:    3.8 | Load Time:   22.7 || F1:  98.56 | Prec:  97.62 | Rec:  99.51 || Ex/s:  15.71\n",
      "\n",
      "---------------------\n",
      "\n",
      "===>  TRAIN Epoch 18\n"
     ]
    },
    {
     "name": "stderr",
     "output_type": "stream",
     "text": [
      "0% [██████████] 100% | ETA: 00:00:00\n",
      "Total time elapsed: 00:02:02\n"
     ]
    },
    {
     "name": "stdout",
     "output_type": "stream",
     "text": [
      "Finished Epoch 18 || Run Time:   39.3 | Load Time:   86.5 || F1:  99.88 | Prec:  99.88 | Rec:  99.88 || Ex/s:  13.23\n",
      "\n",
      "===>  EVAL Epoch 18\n"
     ]
    },
    {
     "name": "stderr",
     "output_type": "stream",
     "text": [
      "0% [██] 100% | ETA: 00:00:00\n",
      "Total time elapsed: 00:00:21\n"
     ]
    },
    {
     "name": "stdout",
     "output_type": "stream",
     "text": [
      "Finished Epoch 18 || Run Time:    3.7 | Load Time:   21.9 || F1:  98.56 | Prec:  97.62 | Rec:  99.51 || Ex/s:  16.24\n",
      "\n",
      "---------------------\n",
      "\n",
      "===>  TRAIN Epoch 19\n"
     ]
    },
    {
     "name": "stderr",
     "output_type": "stream",
     "text": [
      "0% [██████████] 100% | ETA: 00:00:00\n",
      "Total time elapsed: 00:01:47\n"
     ]
    },
    {
     "name": "stdout",
     "output_type": "stream",
     "text": [
      "Finished Epoch 19 || Run Time:   41.8 | Load Time:   68.7 || F1:  99.88 | Prec:  99.88 | Rec:  99.88 || Ex/s:  15.06\n",
      "\n",
      "===>  EVAL Epoch 19\n"
     ]
    },
    {
     "name": "stderr",
     "output_type": "stream",
     "text": [
      "0% [██] 100% | ETA: 00:00:00\n",
      "Total time elapsed: 00:00:16\n"
     ]
    },
    {
     "name": "stdout",
     "output_type": "stream",
     "text": [
      "Finished Epoch 19 || Run Time:    3.6 | Load Time:   17.5 || F1:  98.56 | Prec:  97.62 | Rec:  99.51 || Ex/s:  19.73\n",
      "\n",
      "---------------------\n",
      "\n",
      "===>  TRAIN Epoch 20\n"
     ]
    },
    {
     "name": "stderr",
     "output_type": "stream",
     "text": [
      "0% [██████████] 100% | ETA: 00:00:00\n",
      "Total time elapsed: 00:01:46\n"
     ]
    },
    {
     "name": "stdout",
     "output_type": "stream",
     "text": [
      "Finished Epoch 20 || Run Time:   41.8 | Load Time:   68.4 || F1:  99.88 | Prec:  99.88 | Rec:  99.88 || Ex/s:  15.10\n",
      "\n",
      "===>  EVAL Epoch 20\n"
     ]
    },
    {
     "name": "stderr",
     "output_type": "stream",
     "text": [
      "0% [██] 100% | ETA: 00:00:00\n",
      "Total time elapsed: 00:00:16\n"
     ]
    },
    {
     "name": "stdout",
     "output_type": "stream",
     "text": [
      "Finished Epoch 20 || Run Time:    3.6 | Load Time:   17.5 || F1:  98.56 | Prec:  97.62 | Rec:  99.51 || Ex/s:  19.72\n",
      "\n",
      "---------------------\n",
      "\n",
      "Loading best model...\n",
      "Training done.\n"
     ]
    },
    {
     "data": {
      "text/plain": [
       "tensor(99.0291, device='cuda:0')"
      ]
     },
     "execution_count": 14,
     "metadata": {},
     "output_type": "execute_result"
    }
   ],
   "source": [
    "hybrid_model = dm.MatchingModel(attr_summarizer='hybrid')\n",
    "hybrid_model.run_train(train,valid,best_save_path='models/amazon_google_hybrid.pth',epochs=20,batch_size=32)"
   ]
  },
  {
   "cell_type": "code",
   "execution_count": 16,
   "metadata": {
    "ExecuteTime": {
     "end_time": "2020-03-30T12:16:14.432393Z",
     "start_time": "2020-03-30T12:15:49.611580Z"
    }
   },
   "outputs": [
    {
     "name": "stdout",
     "output_type": "stream",
     "text": [
      "===>  EVAL Epoch 5\n"
     ]
    },
    {
     "name": "stderr",
     "output_type": "stream",
     "text": [
      "0% [███] 100% | ETA: 00:00:00\n",
      "Total time elapsed: 00:00:22\n"
     ]
    },
    {
     "name": "stdout",
     "output_type": "stream",
     "text": [
      "Finished Epoch 5 || Run Time:    4.3 | Load Time:   20.5 || F1:  98.44 | Prec:  97.68 | Rec:  99.22 || Ex/s:  20.97\n",
      "\n"
     ]
    },
    {
     "data": {
      "text/plain": [
       "tensor(98.4436, device='cuda:0')"
      ]
     },
     "execution_count": 16,
     "metadata": {},
     "output_type": "execute_result"
    }
   ],
   "source": [
    "hybrid_model.run_eval(test)"
   ]
  },
  {
   "cell_type": "code",
   "execution_count": 9,
   "metadata": {
    "ExecuteTime": {
     "end_time": "2020-03-27T12:08:15.958045Z",
     "start_time": "2020-03-27T12:07:52.813598Z"
    }
   },
   "outputs": [
    {
     "name": "stdout",
     "output_type": "stream",
     "text": [
      "===>  EVAL Epoch 7\n"
     ]
    },
    {
     "name": "stderr",
     "output_type": "stream",
     "text": [
      "0% [███] 100% | ETA: 00:00:00\n",
      "Total time elapsed: 00:00:21\n"
     ]
    },
    {
     "name": "stdout",
     "output_type": "stream",
     "text": [
      "Finished Epoch 7 || Run Time:    1.5 | Load Time:   21.7 || F1:  90.81 | Prec:  87.05 | Rec:  94.90 || Ex/s:  22.48\n",
      "\n"
     ]
    },
    {
     "data": {
      "text/plain": [
       "tensor(90.8067, device='cuda:0')"
      ]
     },
     "execution_count": 9,
     "metadata": {},
     "output_type": "execute_result"
    }
   ],
   "source": [
    "model.run_eval(test)"
   ]
  },
  {
   "cell_type": "markdown",
   "metadata": {},
   "source": [
    "## DBLP-ACM"
   ]
  },
  {
   "cell_type": "code",
   "execution_count": 2,
   "metadata": {
    "ExecuteTime": {
     "end_time": "2020-05-25T10:56:37.159979Z",
     "start_time": "2020-05-25T10:56:36.834810Z"
    }
   },
   "outputs": [],
   "source": [
    "train,valid,test = dm.data.process('datasets/DBLP-ACM/',train='train.csv',validation='validation.csv',\n",
    "                                   test='test.csv',left_prefix='ltable_',right_prefix='rtable_')"
   ]
  },
  {
   "cell_type": "code",
   "execution_count": 3,
   "metadata": {
    "ExecuteTime": {
     "end_time": "2020-05-25T11:04:20.360054Z",
     "start_time": "2020-05-25T10:56:42.572281Z"
    }
   },
   "outputs": [
    {
     "name": "stdout",
     "output_type": "stream",
     "text": [
      "* Number of trainable parameters: 2169602\n",
      "===>  TRAIN Epoch 1\n"
     ]
    },
    {
     "name": "stderr",
     "output_type": "stream",
     "text": [
      "/home/nvidia/anaconda3/envs/testenv/lib/python3.8/site-packages/torch/nn/functional.py:1958: UserWarning: reduction: 'mean' divides the total loss by both the batch size and the support size.'batchmean' divides only by the batch size, and aligns with the KL div math definition.'mean' will be changed to behave the same as 'batchmean' in the next major release.\n",
      "  warnings.warn(\"reduction: 'mean' divides the total loss by both the batch size and the support size.\"\n",
      "0% [█████████████████] 100% | ETA: 00:00:00\n",
      "Total time elapsed: 00:00:20\n"
     ]
    },
    {
     "name": "stdout",
     "output_type": "stream",
     "text": [
      "Finished Epoch 1 || Run Time:    8.4 | Load Time:   13.2 || F1:  93.19 | Prec:  97.45 | Rec:  89.29 || Ex/s: 131.87\n",
      "\n",
      "===>  EVAL Epoch 1\n"
     ]
    },
    {
     "name": "stderr",
     "output_type": "stream",
     "text": [
      "0% [████] 100% | ETA: 00:00:00\n",
      "Total time elapsed: 00:00:03\n"
     ]
    },
    {
     "name": "stdout",
     "output_type": "stream",
     "text": [
      "Finished Epoch 1 || Run Time:    0.6 | Load Time:    2.9 || F1:  98.11 | Prec:  96.85 | Rec:  99.41 || Ex/s: 202.96\n",
      "\n",
      "* Best F1: tensor(98.1132, device='cuda:0')\n",
      "Saving best model...\n",
      "Done.\n",
      "---------------------\n",
      "\n",
      "===>  TRAIN Epoch 2\n"
     ]
    },
    {
     "name": "stderr",
     "output_type": "stream",
     "text": [
      "0% [█████████████████] 100% | ETA: 00:00:00\n",
      "Total time elapsed: 00:00:18\n"
     ]
    },
    {
     "name": "stdout",
     "output_type": "stream",
     "text": [
      "Finished Epoch 2 || Run Time:    7.5 | Load Time:   12.0 || F1:  99.66 | Prec:  99.86 | Rec:  99.45 || Ex/s: 145.64\n",
      "\n",
      "===>  EVAL Epoch 2\n"
     ]
    },
    {
     "name": "stderr",
     "output_type": "stream",
     "text": [
      "0% [████] 100% | ETA: 00:00:00\n",
      "Total time elapsed: 00:00:02\n"
     ]
    },
    {
     "name": "stdout",
     "output_type": "stream",
     "text": [
      "Finished Epoch 2 || Run Time:    0.5 | Load Time:    2.3 || F1:  98.69 | Prec:  97.69 | Rec:  99.71 || Ex/s: 255.09\n",
      "\n",
      "* Best F1: tensor(98.6900, device='cuda:0')\n",
      "Saving best model...\n",
      "Done.\n",
      "---------------------\n",
      "\n",
      "===>  TRAIN Epoch 3\n"
     ]
    },
    {
     "name": "stderr",
     "output_type": "stream",
     "text": [
      "0% [█████████████████] 100% | ETA: 00:00:00\n",
      "Total time elapsed: 00:00:16\n"
     ]
    },
    {
     "name": "stdout",
     "output_type": "stream",
     "text": [
      "Finished Epoch 3 || Run Time:    7.1 | Load Time:   10.4 || F1:  99.93 | Prec:  99.93 | Rec:  99.93 || Ex/s: 162.11\n",
      "\n",
      "===>  EVAL Epoch 3\n"
     ]
    },
    {
     "name": "stderr",
     "output_type": "stream",
     "text": [
      "0% [████] 100% | ETA: 00:00:00\n",
      "Total time elapsed: 00:00:02\n"
     ]
    },
    {
     "name": "stdout",
     "output_type": "stream",
     "text": [
      "Finished Epoch 3 || Run Time:    0.5 | Load Time:    2.7 || F1:  98.55 | Prec:  97.41 | Rec:  99.71 || Ex/s: 218.52\n",
      "\n",
      "---------------------\n",
      "\n",
      "===>  TRAIN Epoch 4\n"
     ]
    },
    {
     "name": "stderr",
     "output_type": "stream",
     "text": [
      "0% [█████████████████] 100% | ETA: 00:00:00\n",
      "Total time elapsed: 00:00:17\n"
     ]
    },
    {
     "name": "stdout",
     "output_type": "stream",
     "text": [
      "Finished Epoch 4 || Run Time:    7.3 | Load Time:   11.0 || F1:  99.97 | Prec:  99.93 | Rec: 100.00 || Ex/s: 155.25\n",
      "\n",
      "===>  EVAL Epoch 4\n"
     ]
    },
    {
     "name": "stderr",
     "output_type": "stream",
     "text": [
      "0% [████] 100% | ETA: 00:00:00\n",
      "Total time elapsed: 00:00:02\n"
     ]
    },
    {
     "name": "stdout",
     "output_type": "stream",
     "text": [
      "Finished Epoch 4 || Run Time:    0.5 | Load Time:    2.7 || F1:  98.83 | Prec:  97.98 | Rec:  99.71 || Ex/s: 219.69\n",
      "\n",
      "* Best F1: tensor(98.8338, device='cuda:0')\n",
      "Saving best model...\n",
      "Done.\n",
      "---------------------\n",
      "\n",
      "===>  TRAIN Epoch 5\n"
     ]
    },
    {
     "name": "stderr",
     "output_type": "stream",
     "text": [
      "0% [█████████████████] 100% | ETA: 00:00:00\n",
      "Total time elapsed: 00:00:17\n"
     ]
    },
    {
     "name": "stdout",
     "output_type": "stream",
     "text": [
      "Finished Epoch 5 || Run Time:    7.3 | Load Time:   11.0 || F1:  99.97 | Prec:  99.93 | Rec: 100.00 || Ex/s: 155.29\n",
      "\n",
      "===>  EVAL Epoch 5\n"
     ]
    },
    {
     "name": "stderr",
     "output_type": "stream",
     "text": [
      "0% [████] 100% | ETA: 00:00:00\n",
      "Total time elapsed: 00:00:02\n"
     ]
    },
    {
     "name": "stdout",
     "output_type": "stream",
     "text": [
      "Finished Epoch 5 || Run Time:    0.5 | Load Time:    2.7 || F1:  98.69 | Prec:  97.69 | Rec:  99.71 || Ex/s: 220.26\n",
      "\n",
      "---------------------\n",
      "\n",
      "===>  TRAIN Epoch 6\n"
     ]
    },
    {
     "name": "stderr",
     "output_type": "stream",
     "text": [
      "0% [█████████████████] 100% | ETA: 00:00:00\n",
      "Total time elapsed: 00:00:21\n"
     ]
    },
    {
     "name": "stdout",
     "output_type": "stream",
     "text": [
      "Finished Epoch 6 || Run Time:    8.6 | Load Time:   13.8 || F1:  99.97 | Prec:  99.93 | Rec: 100.00 || Ex/s: 127.09\n",
      "\n",
      "===>  EVAL Epoch 6\n"
     ]
    },
    {
     "name": "stderr",
     "output_type": "stream",
     "text": [
      "0% [████] 100% | ETA: 00:00:00\n",
      "Total time elapsed: 00:00:03\n"
     ]
    },
    {
     "name": "stdout",
     "output_type": "stream",
     "text": [
      "Finished Epoch 6 || Run Time:    0.6 | Load Time:    2.9 || F1:  98.69 | Prec:  97.69 | Rec:  99.71 || Ex/s: 205.10\n",
      "\n",
      "---------------------\n",
      "\n",
      "===>  TRAIN Epoch 7\n"
     ]
    },
    {
     "name": "stderr",
     "output_type": "stream",
     "text": [
      "0% [█████████████████] 100% | ETA: 00:00:00\n",
      "Total time elapsed: 00:00:20\n"
     ]
    },
    {
     "name": "stdout",
     "output_type": "stream",
     "text": [
      "Finished Epoch 7 || Run Time:    8.5 | Load Time:   13.5 || F1:  99.97 | Prec:  99.93 | Rec: 100.00 || Ex/s: 129.35\n",
      "\n",
      "===>  EVAL Epoch 7\n"
     ]
    },
    {
     "name": "stderr",
     "output_type": "stream",
     "text": [
      "0% [████] 100% | ETA: 00:00:00\n",
      "Total time elapsed: 00:00:03\n"
     ]
    },
    {
     "name": "stdout",
     "output_type": "stream",
     "text": [
      "Finished Epoch 7 || Run Time:    0.6 | Load Time:    2.9 || F1:  98.69 | Prec:  97.69 | Rec:  99.71 || Ex/s: 203.19\n",
      "\n",
      "---------------------\n",
      "\n",
      "===>  TRAIN Epoch 8\n"
     ]
    },
    {
     "name": "stderr",
     "output_type": "stream",
     "text": [
      "0% [█████████████████] 100% | ETA: 00:00:00\n",
      "Total time elapsed: 00:00:17\n"
     ]
    },
    {
     "name": "stdout",
     "output_type": "stream",
     "text": [
      "Finished Epoch 8 || Run Time:    7.2 | Load Time:   11.0 || F1:  99.97 | Prec:  99.93 | Rec: 100.00 || Ex/s: 156.35\n",
      "\n",
      "===>  EVAL Epoch 8\n"
     ]
    },
    {
     "name": "stderr",
     "output_type": "stream",
     "text": [
      "0% [████] 100% | ETA: 00:00:00\n",
      "Total time elapsed: 00:00:02\n"
     ]
    },
    {
     "name": "stdout",
     "output_type": "stream",
     "text": [
      "Finished Epoch 8 || Run Time:    0.5 | Load Time:    2.7 || F1:  98.69 | Prec:  97.69 | Rec:  99.71 || Ex/s: 220.61\n",
      "\n",
      "---------------------\n",
      "\n",
      "===>  TRAIN Epoch 9\n"
     ]
    },
    {
     "name": "stderr",
     "output_type": "stream",
     "text": [
      "0% [█████████████████] 100% | ETA: 00:00:00\n",
      "Total time elapsed: 00:00:20\n"
     ]
    },
    {
     "name": "stdout",
     "output_type": "stream",
     "text": [
      "Finished Epoch 9 || Run Time:    8.4 | Load Time:   13.6 || F1:  99.97 | Prec:  99.93 | Rec: 100.00 || Ex/s: 129.75\n",
      "\n",
      "===>  EVAL Epoch 9\n"
     ]
    },
    {
     "name": "stderr",
     "output_type": "stream",
     "text": [
      "0% [████] 100% | ETA: 00:00:00\n",
      "Total time elapsed: 00:00:03\n"
     ]
    },
    {
     "name": "stdout",
     "output_type": "stream",
     "text": [
      "Finished Epoch 9 || Run Time:    0.6 | Load Time:    2.9 || F1:  98.69 | Prec:  97.69 | Rec:  99.71 || Ex/s: 201.25\n",
      "\n",
      "---------------------\n",
      "\n",
      "===>  TRAIN Epoch 10\n"
     ]
    },
    {
     "name": "stderr",
     "output_type": "stream",
     "text": [
      "0% [█████████████████] 100% | ETA: 00:00:00\n",
      "Total time elapsed: 00:00:17\n"
     ]
    },
    {
     "name": "stdout",
     "output_type": "stream",
     "text": [
      "Finished Epoch 10 || Run Time:    7.1 | Load Time:   10.9 || F1:  99.97 | Prec:  99.93 | Rec: 100.00 || Ex/s: 158.02\n",
      "\n",
      "===>  EVAL Epoch 10\n"
     ]
    },
    {
     "name": "stderr",
     "output_type": "stream",
     "text": [
      "0% [████] 100% | ETA: 00:00:00\n",
      "Total time elapsed: 00:00:02\n"
     ]
    },
    {
     "name": "stdout",
     "output_type": "stream",
     "text": [
      "Finished Epoch 10 || Run Time:    0.5 | Load Time:    2.7 || F1:  98.69 | Prec:  97.69 | Rec:  99.71 || Ex/s: 220.20\n",
      "\n",
      "---------------------\n",
      "\n",
      "===>  TRAIN Epoch 11\n"
     ]
    },
    {
     "name": "stderr",
     "output_type": "stream",
     "text": [
      "0% [█████████████████] 100% | ETA: 00:00:00\n",
      "Total time elapsed: 00:00:19\n"
     ]
    },
    {
     "name": "stdout",
     "output_type": "stream",
     "text": [
      "Finished Epoch 11 || Run Time:    8.0 | Load Time:   12.9 || F1:  99.97 | Prec:  99.93 | Rec: 100.00 || Ex/s: 136.06\n",
      "\n",
      "===>  EVAL Epoch 11\n"
     ]
    },
    {
     "name": "stderr",
     "output_type": "stream",
     "text": [
      "0% [████] 100% | ETA: 00:00:00\n",
      "Total time elapsed: 00:00:03\n"
     ]
    },
    {
     "name": "stdout",
     "output_type": "stream",
     "text": [
      "Finished Epoch 11 || Run Time:    0.6 | Load Time:    2.8 || F1:  98.69 | Prec:  97.69 | Rec:  99.71 || Ex/s: 208.99\n",
      "\n",
      "---------------------\n",
      "\n",
      "===>  TRAIN Epoch 12\n"
     ]
    },
    {
     "name": "stderr",
     "output_type": "stream",
     "text": [
      "0% [█████████████████] 100% | ETA: 00:00:00\n",
      "Total time elapsed: 00:00:17\n"
     ]
    },
    {
     "name": "stdout",
     "output_type": "stream",
     "text": [
      "Finished Epoch 12 || Run Time:    7.2 | Load Time:   11.0 || F1:  99.97 | Prec:  99.93 | Rec: 100.00 || Ex/s: 156.06\n",
      "\n",
      "===>  EVAL Epoch 12\n"
     ]
    },
    {
     "name": "stderr",
     "output_type": "stream",
     "text": [
      "0% [████] 100% | ETA: 00:00:00\n",
      "Total time elapsed: 00:00:02\n"
     ]
    },
    {
     "name": "stdout",
     "output_type": "stream",
     "text": [
      "Finished Epoch 12 || Run Time:    0.5 | Load Time:    2.7 || F1:  98.69 | Prec:  97.69 | Rec:  99.71 || Ex/s: 221.84\n",
      "\n",
      "---------------------\n",
      "\n",
      "===>  TRAIN Epoch 13\n"
     ]
    },
    {
     "name": "stderr",
     "output_type": "stream",
     "text": [
      "0% [█████████████████] 100% | ETA: 00:00:00\n",
      "Total time elapsed: 00:00:17\n"
     ]
    },
    {
     "name": "stdout",
     "output_type": "stream",
     "text": [
      "Finished Epoch 13 || Run Time:    7.4 | Load Time:   11.2 || F1:  99.97 | Prec:  99.93 | Rec: 100.00 || Ex/s: 152.96\n",
      "\n",
      "===>  EVAL Epoch 13\n"
     ]
    },
    {
     "name": "stderr",
     "output_type": "stream",
     "text": [
      "0% [████] 100% | ETA: 00:00:00\n",
      "Total time elapsed: 00:00:02\n"
     ]
    },
    {
     "name": "stdout",
     "output_type": "stream",
     "text": [
      "Finished Epoch 13 || Run Time:    0.5 | Load Time:    2.5 || F1:  98.69 | Prec:  97.69 | Rec:  99.71 || Ex/s: 233.93\n",
      "\n",
      "---------------------\n",
      "\n",
      "===>  TRAIN Epoch 14\n"
     ]
    },
    {
     "name": "stderr",
     "output_type": "stream",
     "text": [
      "0% [█████████████████] 100% | ETA: 00:00:00\n",
      "Total time elapsed: 00:00:22\n"
     ]
    },
    {
     "name": "stdout",
     "output_type": "stream",
     "text": [
      "Finished Epoch 14 || Run Time:    9.1 | Load Time:   14.9 || F1:  99.97 | Prec:  99.93 | Rec: 100.00 || Ex/s: 118.53\n",
      "\n",
      "===>  EVAL Epoch 14\n"
     ]
    },
    {
     "name": "stderr",
     "output_type": "stream",
     "text": [
      "0% [████] 100% | ETA: 00:00:00\n",
      "Total time elapsed: 00:00:03\n"
     ]
    },
    {
     "name": "stdout",
     "output_type": "stream",
     "text": [
      "Finished Epoch 14 || Run Time:    0.6 | Load Time:    2.9 || F1:  98.69 | Prec:  97.69 | Rec:  99.71 || Ex/s: 205.37\n",
      "\n",
      "---------------------\n",
      "\n",
      "===>  TRAIN Epoch 15\n"
     ]
    },
    {
     "name": "stderr",
     "output_type": "stream",
     "text": [
      "0% [█████████████████] 100% | ETA: 00:00:00\n",
      "Total time elapsed: 00:00:17\n"
     ]
    },
    {
     "name": "stdout",
     "output_type": "stream",
     "text": [
      "Finished Epoch 15 || Run Time:    7.3 | Load Time:   10.8 || F1:  99.97 | Prec:  99.93 | Rec: 100.00 || Ex/s: 157.55\n",
      "\n",
      "===>  EVAL Epoch 15\n"
     ]
    },
    {
     "name": "stderr",
     "output_type": "stream",
     "text": [
      "0% [████] 100% | ETA: 00:00:00\n",
      "Total time elapsed: 00:00:02\n"
     ]
    },
    {
     "name": "stdout",
     "output_type": "stream",
     "text": [
      "Finished Epoch 15 || Run Time:    0.5 | Load Time:    2.7 || F1:  98.69 | Prec:  97.69 | Rec:  99.71 || Ex/s: 221.63\n",
      "\n",
      "---------------------\n",
      "\n",
      "===>  TRAIN Epoch 16\n"
     ]
    },
    {
     "name": "stderr",
     "output_type": "stream",
     "text": [
      "0% [█████████████████] 100% | ETA: 00:00:00\n",
      "Total time elapsed: 00:00:17\n"
     ]
    },
    {
     "name": "stdout",
     "output_type": "stream",
     "text": [
      "Finished Epoch 16 || Run Time:    7.3 | Load Time:   10.8 || F1:  99.97 | Prec:  99.93 | Rec: 100.00 || Ex/s: 157.05\n",
      "\n",
      "===>  EVAL Epoch 16\n"
     ]
    },
    {
     "name": "stderr",
     "output_type": "stream",
     "text": [
      "0% [████] 100% | ETA: 00:00:00\n",
      "Total time elapsed: 00:00:02\n"
     ]
    },
    {
     "name": "stdout",
     "output_type": "stream",
     "text": [
      "Finished Epoch 16 || Run Time:    0.5 | Load Time:    2.7 || F1:  98.69 | Prec:  97.69 | Rec:  99.71 || Ex/s: 221.14\n",
      "\n",
      "---------------------\n",
      "\n",
      "===>  TRAIN Epoch 17\n"
     ]
    },
    {
     "name": "stderr",
     "output_type": "stream",
     "text": [
      "0% [█████████████████] 100% | ETA: 00:00:00\n",
      "Total time elapsed: 00:00:17\n"
     ]
    },
    {
     "name": "stdout",
     "output_type": "stream",
     "text": [
      "Finished Epoch 17 || Run Time:    7.3 | Load Time:   10.9 || F1:  99.97 | Prec:  99.93 | Rec: 100.00 || Ex/s: 156.28\n",
      "\n",
      "===>  EVAL Epoch 17\n"
     ]
    },
    {
     "name": "stderr",
     "output_type": "stream",
     "text": [
      "0% [████] 100% | ETA: 00:00:00\n",
      "Total time elapsed: 00:00:02\n"
     ]
    },
    {
     "name": "stdout",
     "output_type": "stream",
     "text": [
      "Finished Epoch 17 || Run Time:    0.5 | Load Time:    2.7 || F1:  98.69 | Prec:  97.69 | Rec:  99.71 || Ex/s: 219.56\n",
      "\n",
      "---------------------\n",
      "\n",
      "===>  TRAIN Epoch 18\n"
     ]
    },
    {
     "name": "stderr",
     "output_type": "stream",
     "text": [
      "0% [█████████████████] 100% | ETA: 00:00:00\n",
      "Total time elapsed: 00:00:17\n"
     ]
    },
    {
     "name": "stdout",
     "output_type": "stream",
     "text": [
      "Finished Epoch 18 || Run Time:    7.3 | Load Time:   10.9 || F1:  99.97 | Prec:  99.93 | Rec: 100.00 || Ex/s: 156.33\n",
      "\n",
      "===>  EVAL Epoch 18\n"
     ]
    },
    {
     "name": "stderr",
     "output_type": "stream",
     "text": [
      "0% [████] 100% | ETA: 00:00:00\n",
      "Total time elapsed: 00:00:02\n"
     ]
    },
    {
     "name": "stdout",
     "output_type": "stream",
     "text": [
      "Finished Epoch 18 || Run Time:    0.5 | Load Time:    2.7 || F1:  98.69 | Prec:  97.69 | Rec:  99.71 || Ex/s: 221.34\n",
      "\n",
      "---------------------\n",
      "\n",
      "===>  TRAIN Epoch 19\n"
     ]
    },
    {
     "name": "stderr",
     "output_type": "stream",
     "text": [
      "0% [█████████████████] 100% | ETA: 00:00:00\n",
      "Total time elapsed: 00:00:17\n"
     ]
    },
    {
     "name": "stdout",
     "output_type": "stream",
     "text": [
      "Finished Epoch 19 || Run Time:    7.4 | Load Time:   11.0 || F1:  99.97 | Prec:  99.93 | Rec: 100.00 || Ex/s: 154.85\n",
      "\n",
      "===>  EVAL Epoch 19\n"
     ]
    },
    {
     "name": "stderr",
     "output_type": "stream",
     "text": [
      "0% [████] 100% | ETA: 00:00:00\n",
      "Total time elapsed: 00:00:02\n"
     ]
    },
    {
     "name": "stdout",
     "output_type": "stream",
     "text": [
      "Finished Epoch 19 || Run Time:    0.5 | Load Time:    2.7 || F1:  98.69 | Prec:  97.69 | Rec:  99.71 || Ex/s: 223.21\n",
      "\n",
      "---------------------\n",
      "\n",
      "===>  TRAIN Epoch 20\n"
     ]
    },
    {
     "name": "stderr",
     "output_type": "stream",
     "text": [
      "0% [█████████████████] 100% | ETA: 00:00:00\n",
      "Total time elapsed: 00:00:17\n"
     ]
    },
    {
     "name": "stdout",
     "output_type": "stream",
     "text": [
      "Finished Epoch 20 || Run Time:    7.3 | Load Time:   10.9 || F1:  99.97 | Prec:  99.93 | Rec: 100.00 || Ex/s: 156.61\n",
      "\n",
      "===>  EVAL Epoch 20\n"
     ]
    },
    {
     "name": "stderr",
     "output_type": "stream",
     "text": [
      "0% [████] 100% | ETA: 00:00:00\n",
      "Total time elapsed: 00:00:02\n"
     ]
    },
    {
     "name": "stdout",
     "output_type": "stream",
     "text": [
      "Finished Epoch 20 || Run Time:    0.5 | Load Time:    2.7 || F1:  98.69 | Prec:  97.69 | Rec:  99.71 || Ex/s: 222.39\n",
      "\n",
      "---------------------\n",
      "\n",
      "Loading best model...\n",
      "Training done.\n"
     ]
    },
    {
     "data": {
      "text/plain": [
       "tensor(98.8338, device='cuda:0')"
      ]
     },
     "execution_count": 3,
     "metadata": {},
     "output_type": "execute_result"
    }
   ],
   "source": [
    "model = dm.MatchingModel(attr_summarizer='rnn')\n",
    "model.run_train(train,valid,best_save_path='models/dblp_acm_rnn.pth',epochs=20,batch_size=32)"
   ]
  },
  {
   "cell_type": "code",
   "execution_count": null,
   "metadata": {
    "ExecuteTime": {
     "start_time": "2020-05-25T11:04:06.476Z"
    }
   },
   "outputs": [
    {
     "name": "stdout",
     "output_type": "stream",
     "text": [
      "===>  EVAL Epoch 4\n"
     ]
    },
    {
     "name": "stderr",
     "output_type": "stream",
     "text": [
      "0% [█████] 100% | ETA: 00:00:00\n",
      "Total time elapsed: 00:00:03\n"
     ]
    }
   ],
   "source": [
    "model.run_eval(test)"
   ]
  },
  {
   "cell_type": "code",
   "execution_count": 7,
   "metadata": {
    "ExecuteTime": {
     "end_time": "2020-03-30T11:17:56.997890Z",
     "start_time": "2020-03-30T11:03:28.560898Z"
    }
   },
   "outputs": [
    {
     "name": "stdout",
     "output_type": "stream",
     "text": [
      "* Number of trainable parameters: 9210006\n",
      "===>  TRAIN Epoch 1\n"
     ]
    },
    {
     "name": "stderr",
     "output_type": "stream",
     "text": [
      "/home/nvidia/anaconda3/envs/testenv/lib/python3.8/site-packages/torch/nn/functional.py:1958: UserWarning: reduction: 'mean' divides the total loss by both the batch size and the support size.'batchmean' divides only by the batch size, and aligns with the KL div math definition.'mean' will be changed to behave the same as 'batchmean' in the next major release.\n",
      "  warnings.warn(\"reduction: 'mean' divides the total loss by both the batch size and the support size.\"\n",
      "0% [█████████████████] 100% | ETA: 00:00:00\n",
      "Total time elapsed: 00:00:37\n"
     ]
    },
    {
     "name": "stdout",
     "output_type": "stream",
     "text": [
      "Finished Epoch 1 || Run Time:   28.4 | Load Time:   11.3 || F1:  94.59 | Prec:  95.52 | Rec:  93.69 || Ex/s:  71.74\n",
      "\n",
      "===>  EVAL Epoch 1\n"
     ]
    },
    {
     "name": "stderr",
     "output_type": "stream",
     "text": [
      "0% [████] 100% | ETA: 00:00:00\n",
      "Total time elapsed: 00:00:03\n"
     ]
    },
    {
     "name": "stdout",
     "output_type": "stream",
     "text": [
      "Finished Epoch 1 || Run Time:    1.8 | Load Time:    2.1 || F1:  99.85 | Prec:  99.71 | Rec: 100.00 || Ex/s: 180.26\n",
      "\n",
      "* Best F1: tensor(99.8531, device='cuda:0')\n",
      "Saving best model...\n",
      "Done.\n",
      "---------------------\n",
      "\n",
      "===>  TRAIN Epoch 2\n"
     ]
    },
    {
     "name": "stderr",
     "output_type": "stream",
     "text": [
      "0% [█████████████████] 100% | ETA: 00:00:00\n",
      "Total time elapsed: 00:00:37\n"
     ]
    },
    {
     "name": "stdout",
     "output_type": "stream",
     "text": [
      "Finished Epoch 2 || Run Time:   28.5 | Load Time:   11.3 || F1:  99.86 | Prec:  99.79 | Rec:  99.93 || Ex/s:  71.57\n",
      "\n",
      "===>  EVAL Epoch 2\n"
     ]
    },
    {
     "name": "stderr",
     "output_type": "stream",
     "text": [
      "0% [████] 100% | ETA: 00:00:00\n",
      "Total time elapsed: 00:00:03\n"
     ]
    },
    {
     "name": "stdout",
     "output_type": "stream",
     "text": [
      "Finished Epoch 2 || Run Time:    1.8 | Load Time:    2.1 || F1: 100.00 | Prec: 100.00 | Rec: 100.00 || Ex/s: 181.83\n",
      "\n",
      "* Best F1: tensor(100., device='cuda:0')\n",
      "Saving best model...\n",
      "Done.\n",
      "---------------------\n",
      "\n",
      "===>  TRAIN Epoch 3\n"
     ]
    },
    {
     "name": "stderr",
     "output_type": "stream",
     "text": [
      "0% [█████████████████] 100% | ETA: 00:00:00\n",
      "Total time elapsed: 00:00:37\n"
     ]
    },
    {
     "name": "stdout",
     "output_type": "stream",
     "text": [
      "Finished Epoch 3 || Run Time:   28.4 | Load Time:   11.3 || F1:  99.93 | Prec:  99.86 | Rec: 100.00 || Ex/s:  71.66\n",
      "\n",
      "===>  EVAL Epoch 3\n"
     ]
    },
    {
     "name": "stderr",
     "output_type": "stream",
     "text": [
      "0% [████] 100% | ETA: 00:00:00\n",
      "Total time elapsed: 00:00:03\n"
     ]
    },
    {
     "name": "stdout",
     "output_type": "stream",
     "text": [
      "Finished Epoch 3 || Run Time:    1.8 | Load Time:    2.1 || F1:  99.71 | Prec:  99.42 | Rec: 100.00 || Ex/s: 181.78\n",
      "\n",
      "---------------------\n",
      "\n",
      "===>  TRAIN Epoch 4\n"
     ]
    },
    {
     "name": "stderr",
     "output_type": "stream",
     "text": [
      "0% [█████████████████] 100% | ETA: 00:00:00\n",
      "Total time elapsed: 00:00:36\n"
     ]
    },
    {
     "name": "stdout",
     "output_type": "stream",
     "text": [
      "Finished Epoch 4 || Run Time:   28.0 | Load Time:   10.9 || F1:  99.97 | Prec:  99.93 | Rec: 100.00 || Ex/s:  73.14\n",
      "\n",
      "===>  EVAL Epoch 4\n"
     ]
    },
    {
     "name": "stderr",
     "output_type": "stream",
     "text": [
      "0% [████] 100% | ETA: 00:00:00\n",
      "Total time elapsed: 00:00:03\n"
     ]
    },
    {
     "name": "stdout",
     "output_type": "stream",
     "text": [
      "Finished Epoch 4 || Run Time:    1.8 | Load Time:    2.2 || F1:  99.85 | Prec:  99.71 | Rec: 100.00 || Ex/s: 181.05\n",
      "\n",
      "---------------------\n",
      "\n",
      "===>  TRAIN Epoch 5\n"
     ]
    },
    {
     "name": "stderr",
     "output_type": "stream",
     "text": [
      "0% [█████████████████] 100% | ETA: 00:00:00\n",
      "Total time elapsed: 00:00:36\n"
     ]
    },
    {
     "name": "stdout",
     "output_type": "stream",
     "text": [
      "Finished Epoch 5 || Run Time:   27.6 | Load Time:   10.7 || F1:  99.97 | Prec:  99.93 | Rec: 100.00 || Ex/s:  74.43\n",
      "\n",
      "===>  EVAL Epoch 5\n"
     ]
    },
    {
     "name": "stderr",
     "output_type": "stream",
     "text": [
      "0% [████] 100% | ETA: 00:00:00\n",
      "Total time elapsed: 00:00:03\n"
     ]
    },
    {
     "name": "stdout",
     "output_type": "stream",
     "text": [
      "Finished Epoch 5 || Run Time:    1.8 | Load Time:    2.1 || F1:  99.85 | Prec:  99.71 | Rec: 100.00 || Ex/s: 181.71\n",
      "\n",
      "---------------------\n",
      "\n",
      "===>  TRAIN Epoch 6\n"
     ]
    },
    {
     "name": "stderr",
     "output_type": "stream",
     "text": [
      "0% [█████████████████] 100% | ETA: 00:00:00\n",
      "Total time elapsed: 00:00:37\n"
     ]
    },
    {
     "name": "stdout",
     "output_type": "stream",
     "text": [
      "Finished Epoch 6 || Run Time:   28.4 | Load Time:   11.2 || F1:  99.97 | Prec:  99.93 | Rec: 100.00 || Ex/s:  71.83\n",
      "\n",
      "===>  EVAL Epoch 6\n"
     ]
    },
    {
     "name": "stderr",
     "output_type": "stream",
     "text": [
      "0% [████] 100% | ETA: 00:00:00\n",
      "Total time elapsed: 00:00:03\n"
     ]
    },
    {
     "name": "stdout",
     "output_type": "stream",
     "text": [
      "Finished Epoch 6 || Run Time:    1.8 | Load Time:    2.2 || F1:  99.85 | Prec:  99.71 | Rec: 100.00 || Ex/s: 180.57\n",
      "\n",
      "---------------------\n",
      "\n",
      "===>  TRAIN Epoch 7\n"
     ]
    },
    {
     "name": "stderr",
     "output_type": "stream",
     "text": [
      "0% [█████████████████] 100% | ETA: 00:00:00\n",
      "Total time elapsed: 00:00:37\n"
     ]
    },
    {
     "name": "stdout",
     "output_type": "stream",
     "text": [
      "Finished Epoch 7 || Run Time:   28.2 | Load Time:   11.1 || F1:  99.97 | Prec:  99.93 | Rec: 100.00 || Ex/s:  72.41\n",
      "\n",
      "===>  EVAL Epoch 7\n"
     ]
    },
    {
     "name": "stderr",
     "output_type": "stream",
     "text": [
      "0% [████] 100% | ETA: 00:00:00\n",
      "Total time elapsed: 00:00:03\n"
     ]
    },
    {
     "name": "stdout",
     "output_type": "stream",
     "text": [
      "Finished Epoch 7 || Run Time:    1.8 | Load Time:    2.1 || F1:  99.85 | Prec:  99.71 | Rec: 100.00 || Ex/s: 181.69\n",
      "\n",
      "---------------------\n",
      "\n",
      "===>  TRAIN Epoch 8\n"
     ]
    },
    {
     "name": "stderr",
     "output_type": "stream",
     "text": [
      "0% [█████████████████] 100% | ETA: 00:00:00\n",
      "Total time elapsed: 00:00:37\n"
     ]
    },
    {
     "name": "stdout",
     "output_type": "stream",
     "text": [
      "Finished Epoch 8 || Run Time:   28.4 | Load Time:   11.3 || F1:  99.97 | Prec:  99.93 | Rec: 100.00 || Ex/s:  71.65\n",
      "\n",
      "===>  EVAL Epoch 8\n"
     ]
    },
    {
     "name": "stderr",
     "output_type": "stream",
     "text": [
      "0% [████] 100% | ETA: 00:00:00\n",
      "Total time elapsed: 00:00:03\n"
     ]
    },
    {
     "name": "stdout",
     "output_type": "stream",
     "text": [
      "Finished Epoch 8 || Run Time:    1.8 | Load Time:    2.1 || F1:  99.85 | Prec:  99.71 | Rec: 100.00 || Ex/s: 181.41\n",
      "\n",
      "---------------------\n",
      "\n",
      "===>  TRAIN Epoch 9\n"
     ]
    },
    {
     "name": "stderr",
     "output_type": "stream",
     "text": [
      "0% [█████████████████] 100% | ETA: 00:00:00\n",
      "Total time elapsed: 00:00:37\n"
     ]
    },
    {
     "name": "stdout",
     "output_type": "stream",
     "text": [
      "Finished Epoch 9 || Run Time:   28.4 | Load Time:   11.3 || F1:  99.97 | Prec:  99.93 | Rec: 100.00 || Ex/s:  71.75\n",
      "\n",
      "===>  EVAL Epoch 9\n"
     ]
    },
    {
     "name": "stderr",
     "output_type": "stream",
     "text": [
      "0% [████] 100% | ETA: 00:00:00\n",
      "Total time elapsed: 00:00:03\n"
     ]
    },
    {
     "name": "stdout",
     "output_type": "stream",
     "text": [
      "Finished Epoch 9 || Run Time:    1.8 | Load Time:    2.2 || F1:  99.85 | Prec:  99.71 | Rec: 100.00 || Ex/s: 181.03\n",
      "\n",
      "---------------------\n",
      "\n",
      "===>  TRAIN Epoch 10\n"
     ]
    },
    {
     "name": "stderr",
     "output_type": "stream",
     "text": [
      "0% [█████████████████] 100% | ETA: 00:00:00\n",
      "Total time elapsed: 00:00:37\n"
     ]
    },
    {
     "name": "stdout",
     "output_type": "stream",
     "text": [
      "Finished Epoch 10 || Run Time:   28.4 | Load Time:   11.3 || F1:  99.97 | Prec:  99.93 | Rec: 100.00 || Ex/s:  71.63\n",
      "\n",
      "===>  EVAL Epoch 10\n"
     ]
    },
    {
     "name": "stderr",
     "output_type": "stream",
     "text": [
      "0% [████] 100% | ETA: 00:00:00\n",
      "Total time elapsed: 00:00:03\n"
     ]
    },
    {
     "name": "stdout",
     "output_type": "stream",
     "text": [
      "Finished Epoch 10 || Run Time:    1.8 | Load Time:    2.1 || F1:  99.85 | Prec:  99.71 | Rec: 100.00 || Ex/s: 181.92\n",
      "\n",
      "---------------------\n",
      "\n",
      "===>  TRAIN Epoch 11\n"
     ]
    },
    {
     "name": "stderr",
     "output_type": "stream",
     "text": [
      "0% [█████████████████] 100% | ETA: 00:00:00\n",
      "Total time elapsed: 00:00:37\n"
     ]
    },
    {
     "name": "stdout",
     "output_type": "stream",
     "text": [
      "Finished Epoch 11 || Run Time:   28.1 | Load Time:   11.1 || F1:  99.97 | Prec:  99.93 | Rec: 100.00 || Ex/s:  72.71\n",
      "\n",
      "===>  EVAL Epoch 11\n"
     ]
    },
    {
     "name": "stderr",
     "output_type": "stream",
     "text": [
      "0% [████] 100% | ETA: 00:00:00\n",
      "Total time elapsed: 00:00:03\n"
     ]
    },
    {
     "name": "stdout",
     "output_type": "stream",
     "text": [
      "Finished Epoch 11 || Run Time:    1.8 | Load Time:    2.1 || F1:  99.85 | Prec:  99.71 | Rec: 100.00 || Ex/s: 181.60\n",
      "\n",
      "---------------------\n",
      "\n",
      "===>  TRAIN Epoch 12\n"
     ]
    },
    {
     "name": "stderr",
     "output_type": "stream",
     "text": [
      "0% [█████████████████] 100% | ETA: 00:00:00\n",
      "Total time elapsed: 00:00:37\n"
     ]
    },
    {
     "name": "stdout",
     "output_type": "stream",
     "text": [
      "Finished Epoch 12 || Run Time:   28.3 | Load Time:   11.2 || F1:  99.97 | Prec:  99.93 | Rec: 100.00 || Ex/s:  71.95\n",
      "\n",
      "===>  EVAL Epoch 12\n"
     ]
    },
    {
     "name": "stderr",
     "output_type": "stream",
     "text": [
      "0% [████] 100% | ETA: 00:00:00\n",
      "Total time elapsed: 00:00:03\n"
     ]
    },
    {
     "name": "stdout",
     "output_type": "stream",
     "text": [
      "Finished Epoch 12 || Run Time:    1.8 | Load Time:    2.2 || F1:  99.85 | Prec:  99.71 | Rec: 100.00 || Ex/s: 181.13\n",
      "\n",
      "---------------------\n",
      "\n",
      "===>  TRAIN Epoch 13\n"
     ]
    },
    {
     "name": "stderr",
     "output_type": "stream",
     "text": [
      "0% [█████████████████] 100% | ETA: 00:00:00\n",
      "Total time elapsed: 00:00:36\n"
     ]
    },
    {
     "name": "stdout",
     "output_type": "stream",
     "text": [
      "Finished Epoch 13 || Run Time:   27.9 | Load Time:   10.9 || F1:  99.97 | Prec:  99.93 | Rec: 100.00 || Ex/s:  73.38\n",
      "\n",
      "===>  EVAL Epoch 13\n"
     ]
    },
    {
     "name": "stderr",
     "output_type": "stream",
     "text": [
      "0% [████] 100% | ETA: 00:00:00\n",
      "Total time elapsed: 00:00:03\n"
     ]
    },
    {
     "name": "stdout",
     "output_type": "stream",
     "text": [
      "Finished Epoch 13 || Run Time:    1.8 | Load Time:    2.1 || F1:  99.85 | Prec:  99.71 | Rec: 100.00 || Ex/s: 181.39\n",
      "\n",
      "---------------------\n",
      "\n",
      "===>  TRAIN Epoch 14\n"
     ]
    },
    {
     "name": "stderr",
     "output_type": "stream",
     "text": [
      "0% [█████████████████] 100% | ETA: 00:00:00\n",
      "Total time elapsed: 00:00:37\n"
     ]
    },
    {
     "name": "stdout",
     "output_type": "stream",
     "text": [
      "Finished Epoch 14 || Run Time:   28.1 | Load Time:   11.1 || F1:  99.97 | Prec:  99.93 | Rec: 100.00 || Ex/s:  72.69\n",
      "\n",
      "===>  EVAL Epoch 14\n"
     ]
    },
    {
     "name": "stderr",
     "output_type": "stream",
     "text": [
      "0% [████] 100% | ETA: 00:00:00\n",
      "Total time elapsed: 00:00:03\n"
     ]
    },
    {
     "name": "stdout",
     "output_type": "stream",
     "text": [
      "Finished Epoch 14 || Run Time:    1.8 | Load Time:    2.2 || F1:  99.85 | Prec:  99.71 | Rec: 100.00 || Ex/s: 180.42\n",
      "\n",
      "---------------------\n",
      "\n",
      "===>  TRAIN Epoch 15\n"
     ]
    },
    {
     "name": "stderr",
     "output_type": "stream",
     "text": [
      "0% [█████████████████] 100% | ETA: 00:00:00\n",
      "Total time elapsed: 00:00:37\n"
     ]
    },
    {
     "name": "stdout",
     "output_type": "stream",
     "text": [
      "Finished Epoch 15 || Run Time:   28.4 | Load Time:   11.3 || F1:  99.97 | Prec:  99.93 | Rec: 100.00 || Ex/s:  71.68\n",
      "\n",
      "===>  EVAL Epoch 15\n"
     ]
    },
    {
     "name": "stderr",
     "output_type": "stream",
     "text": [
      "0% [████] 100% | ETA: 00:00:00\n",
      "Total time elapsed: 00:00:03\n"
     ]
    },
    {
     "name": "stdout",
     "output_type": "stream",
     "text": [
      "Finished Epoch 15 || Run Time:    1.8 | Load Time:    2.1 || F1:  99.85 | Prec:  99.71 | Rec: 100.00 || Ex/s: 181.82\n",
      "\n",
      "---------------------\n",
      "\n",
      "===>  TRAIN Epoch 16\n"
     ]
    },
    {
     "name": "stderr",
     "output_type": "stream",
     "text": [
      "0% [█████████████████] 100% | ETA: 00:00:00\n",
      "Total time elapsed: 00:00:37\n"
     ]
    },
    {
     "name": "stdout",
     "output_type": "stream",
     "text": [
      "Finished Epoch 16 || Run Time:   28.4 | Load Time:   11.3 || F1:  99.97 | Prec:  99.93 | Rec: 100.00 || Ex/s:  71.72\n",
      "\n",
      "===>  EVAL Epoch 16\n"
     ]
    },
    {
     "name": "stderr",
     "output_type": "stream",
     "text": [
      "0% [████] 100% | ETA: 00:00:00\n",
      "Total time elapsed: 00:00:03\n"
     ]
    },
    {
     "name": "stdout",
     "output_type": "stream",
     "text": [
      "Finished Epoch 16 || Run Time:    1.8 | Load Time:    2.1 || F1:  99.85 | Prec:  99.71 | Rec: 100.00 || Ex/s: 181.47\n",
      "\n",
      "---------------------\n",
      "\n",
      "===>  TRAIN Epoch 17\n"
     ]
    },
    {
     "name": "stderr",
     "output_type": "stream",
     "text": [
      "0% [█████████████████] 100% | ETA: 00:00:00\n",
      "Total time elapsed: 00:00:36\n"
     ]
    },
    {
     "name": "stdout",
     "output_type": "stream",
     "text": [
      "Finished Epoch 17 || Run Time:   27.9 | Load Time:   10.9 || F1:  99.97 | Prec:  99.93 | Rec: 100.00 || Ex/s:  73.41\n",
      "\n",
      "===>  EVAL Epoch 17\n"
     ]
    },
    {
     "name": "stderr",
     "output_type": "stream",
     "text": [
      "0% [████] 100% | ETA: 00:00:00\n",
      "Total time elapsed: 00:00:03\n"
     ]
    },
    {
     "name": "stdout",
     "output_type": "stream",
     "text": [
      "Finished Epoch 17 || Run Time:    1.8 | Load Time:    2.2 || F1:  99.85 | Prec:  99.71 | Rec: 100.00 || Ex/s: 181.23\n",
      "\n",
      "---------------------\n",
      "\n",
      "===>  TRAIN Epoch 18\n"
     ]
    },
    {
     "name": "stderr",
     "output_type": "stream",
     "text": [
      "0% [█████████████████] 100% | ETA: 00:00:00\n",
      "Total time elapsed: 00:00:37\n"
     ]
    },
    {
     "name": "stdout",
     "output_type": "stream",
     "text": [
      "Finished Epoch 18 || Run Time:   28.4 | Load Time:   11.3 || F1:  99.97 | Prec:  99.93 | Rec: 100.00 || Ex/s:  71.66\n",
      "\n",
      "===>  EVAL Epoch 18\n"
     ]
    },
    {
     "name": "stderr",
     "output_type": "stream",
     "text": [
      "0% [████] 100% | ETA: 00:00:00\n",
      "Total time elapsed: 00:00:03\n"
     ]
    },
    {
     "name": "stdout",
     "output_type": "stream",
     "text": [
      "Finished Epoch 18 || Run Time:    1.8 | Load Time:    2.1 || F1:  99.85 | Prec:  99.71 | Rec: 100.00 || Ex/s: 181.85\n",
      "\n",
      "---------------------\n",
      "\n",
      "===>  TRAIN Epoch 19\n"
     ]
    },
    {
     "name": "stderr",
     "output_type": "stream",
     "text": [
      "0% [█████████████████] 100% | ETA: 00:00:00\n",
      "Total time elapsed: 00:00:37\n"
     ]
    },
    {
     "name": "stdout",
     "output_type": "stream",
     "text": [
      "Finished Epoch 19 || Run Time:   28.4 | Load Time:   11.3 || F1:  99.97 | Prec:  99.93 | Rec: 100.00 || Ex/s:  71.71\n",
      "\n",
      "===>  EVAL Epoch 19\n"
     ]
    },
    {
     "name": "stderr",
     "output_type": "stream",
     "text": [
      "0% [████] 100% | ETA: 00:00:00\n",
      "Total time elapsed: 00:00:03\n"
     ]
    },
    {
     "name": "stdout",
     "output_type": "stream",
     "text": [
      "Finished Epoch 19 || Run Time:    1.8 | Load Time:    2.2 || F1:  99.85 | Prec:  99.71 | Rec: 100.00 || Ex/s: 181.05\n",
      "\n",
      "---------------------\n",
      "\n",
      "===>  TRAIN Epoch 20\n"
     ]
    },
    {
     "name": "stderr",
     "output_type": "stream",
     "text": [
      "0% [█████████████████] 100% | ETA: 00:00:00\n",
      "Total time elapsed: 00:00:37\n"
     ]
    },
    {
     "name": "stdout",
     "output_type": "stream",
     "text": [
      "Finished Epoch 20 || Run Time:   28.4 | Load Time:   11.3 || F1:  99.97 | Prec:  99.93 | Rec: 100.00 || Ex/s:  71.81\n",
      "\n",
      "===>  EVAL Epoch 20\n"
     ]
    },
    {
     "name": "stderr",
     "output_type": "stream",
     "text": [
      "0% [████] 100% | ETA: 00:00:00\n",
      "Total time elapsed: 00:00:03\n"
     ]
    },
    {
     "name": "stdout",
     "output_type": "stream",
     "text": [
      "Finished Epoch 20 || Run Time:    1.8 | Load Time:    2.1 || F1:  99.85 | Prec:  99.71 | Rec: 100.00 || Ex/s: 181.84\n",
      "\n",
      "---------------------\n",
      "\n",
      "Loading best model...\n",
      "Training done.\n"
     ]
    },
    {
     "data": {
      "text/plain": [
       "tensor(100., device='cuda:0')"
      ]
     },
     "execution_count": 7,
     "metadata": {},
     "output_type": "execute_result"
    }
   ],
   "source": [
    "hybrid_model = dm.MatchingModel(attr_summarizer='hybrid')\n",
    "hybrid_model.run_train(train,valid,best_save_path='models/dblp_acm_hybrid.pth',epochs=20,batch_size=32)"
   ]
  },
  {
   "cell_type": "code",
   "execution_count": 12,
   "metadata": {
    "ExecuteTime": {
     "end_time": "2020-03-30T11:19:21.864752Z",
     "start_time": "2020-03-30T11:19:17.142229Z"
    }
   },
   "outputs": [
    {
     "name": "stdout",
     "output_type": "stream",
     "text": [
      "===>  EVAL Epoch 2\n"
     ]
    },
    {
     "name": "stderr",
     "output_type": "stream",
     "text": [
      "0% [█████] 100% | ETA: 00:00:00\n",
      "Total time elapsed: 00:00:04\n"
     ]
    },
    {
     "name": "stdout",
     "output_type": "stream",
     "text": [
      "Finished Epoch 2 || Run Time:    2.1 | Load Time:    2.6 || F1:  99.88 | Prec: 100.00 | Rec:  99.77 || Ex/s: 189.54\n",
      "\n"
     ]
    },
    {
     "data": {
      "text/plain": [
       "tensor(99.8828, device='cuda:0')"
      ]
     },
     "execution_count": 12,
     "metadata": {},
     "output_type": "execute_result"
    }
   ],
   "source": [
    "hybrid_model.run_eval(test)"
   ]
  },
  {
   "cell_type": "code",
   "execution_count": 8,
   "metadata": {
    "ExecuteTime": {
     "end_time": "2020-03-27T12:07:52.811502Z",
     "start_time": "2020-03-27T12:07:31.297659Z"
    }
   },
   "outputs": [
    {
     "name": "stdout",
     "output_type": "stream",
     "text": [
      "===>  EVAL Epoch 7\n"
     ]
    },
    {
     "name": "stderr",
     "output_type": "stream",
     "text": [
      "0% [███] 100% | ETA: 00:00:00\n",
      "Total time elapsed: 00:00:19\n"
     ]
    },
    {
     "name": "stdout",
     "output_type": "stream",
     "text": [
      "Finished Epoch 7 || Run Time:    1.4 | Load Time:   20.1 || F1:  90.81 | Prec:  87.05 | Rec:  94.90 || Ex/s:  24.18\n",
      "\n"
     ]
    },
    {
     "data": {
      "text/plain": [
       "tensor(90.8067, device='cuda:0')"
      ]
     },
     "execution_count": 8,
     "metadata": {},
     "output_type": "execute_result"
    }
   ],
   "source": [
    "model.run_eval(test)"
   ]
  },
  {
   "cell_type": "markdown",
   "metadata": {},
   "source": [
    "## Fodors-Zagats"
   ]
  },
  {
   "cell_type": "code",
   "execution_count": 15,
   "metadata": {
    "ExecuteTime": {
     "end_time": "2020-03-27T15:08:46.740641Z",
     "start_time": "2020-03-27T15:08:46.289746Z"
    }
   },
   "outputs": [],
   "source": [
    "!rm datasets/fodors_zagats/cacheddata.pth"
   ]
  },
  {
   "cell_type": "code",
   "execution_count": 22,
   "metadata": {
    "ExecuteTime": {
     "end_time": "2020-03-30T12:41:23.511589Z",
     "start_time": "2020-03-30T12:41:22.725796Z"
    }
   },
   "outputs": [
    {
     "name": "stderr",
     "output_type": "stream",
     "text": [
      "\n",
      "Reading and processing data from \"datasets/fodors_zagats/train.csv\"\n",
      "0% [############################# ] 100% | ETA: 00:00:00\n",
      "Reading and processing data from \"datasets/fodors_zagats/validation.csv\"\n",
      "0% [############################# ] 100% | ETA: 00:00:00\n",
      "Reading and processing data from \"datasets/fodors_zagats/test.csv\"\n",
      "0% [############################# ] 100% | ETA: 00:00:00\n",
      "Building vocabulary\n",
      "0% [#] 100% | ETA: 00:00:00\n",
      "Total time elapsed: 00:00:00\n",
      "\n",
      "Computing principal components\n",
      "0% [#] 100% | ETA: 00:00:00\n",
      "Total time elapsed: 00:00:00\n"
     ]
    }
   ],
   "source": [
    "train,valid,test = dm.data.process('datasets/fodors_zagats/',train='train.csv',\n",
    "                                   validation='validation.csv',\n",
    "                                   test='test.csv',left_prefix='ltable_',right_prefix='rtable_')"
   ]
  },
  {
   "cell_type": "code",
   "execution_count": null,
   "metadata": {
    "ExecuteTime": {
     "start_time": "2020-03-27T15:09:30.087Z"
    }
   },
   "outputs": [
    {
     "name": "stdout",
     "output_type": "stream",
     "text": [
      "* Number of trainable parameters: 2983202\n",
      "===>  TRAIN Epoch 1\n"
     ]
    },
    {
     "name": "stderr",
     "output_type": "stream",
     "text": [
      "/home/nvidia/anaconda3/envs/testenv/lib/python3.8/site-packages/torch/nn/functional.py:1958: UserWarning: reduction: 'mean' divides the total loss by both the batch size and the support size.'batchmean' divides only by the batch size, and aligns with the KL div math definition.'mean' will be changed to behave the same as 'batchmean' in the next major release.\n",
      "  warnings.warn(\"reduction: 'mean' divides the total loss by both the batch size and the support size.\"\n",
      "0% [███] 100% | ETA: 00:00:00\n",
      "Total time elapsed: 00:00:02\n"
     ]
    },
    {
     "name": "stdout",
     "output_type": "stream",
     "text": [
      "Finished Epoch 1 || Run Time:    2.5 | Load Time:    0.5 || F1:  87.67 | Prec:  88.89 | Rec:  86.49 || Ex/s:  48.07\n",
      "\n",
      "===>  EVAL Epoch 1\n"
     ]
    },
    {
     "name": "stderr",
     "output_type": "stream",
     "text": [
      "0% [█] 100% | ETA: 00:00:00\n",
      "Total time elapsed: 00:00:00\n"
     ]
    },
    {
     "name": "stdout",
     "output_type": "stream",
     "text": [
      "Finished Epoch 1 || Run Time:    0.2 | Load Time:    0.1 || F1:  93.75 | Prec: 100.00 | Rec:  88.24 || Ex/s: 112.46\n",
      "\n",
      "* Best F1: tensor(93.7500, device='cuda:0')\n",
      "Saving best model...\n",
      "Done.\n",
      "---------------------\n",
      "\n",
      "===>  TRAIN Epoch 2\n"
     ]
    },
    {
     "name": "stderr",
     "output_type": "stream",
     "text": [
      "0% [███] 100% | ETA: 00:00:00\n",
      "Total time elapsed: 00:00:02\n"
     ]
    },
    {
     "name": "stdout",
     "output_type": "stream",
     "text": [
      "Finished Epoch 2 || Run Time:    2.4 | Load Time:    0.5 || F1:  98.67 | Prec:  97.37 | Rec: 100.00 || Ex/s:  48.17\n",
      "\n",
      "===>  EVAL Epoch 2\n"
     ]
    },
    {
     "name": "stderr",
     "output_type": "stream",
     "text": [
      "0% [█] 100% | ETA: 00:00:00\n",
      "Total time elapsed: 00:00:00\n"
     ]
    },
    {
     "name": "stdout",
     "output_type": "stream",
     "text": [
      "Finished Epoch 2 || Run Time:    0.2 | Load Time:    0.1 || F1:  96.97 | Prec: 100.00 | Rec:  94.12 || Ex/s: 137.13\n",
      "\n",
      "* Best F1: tensor(96.9697, device='cuda:0')\n",
      "Saving best model...\n",
      "Done.\n",
      "---------------------\n",
      "\n",
      "===>  TRAIN Epoch 3\n"
     ]
    },
    {
     "name": "stderr",
     "output_type": "stream",
     "text": [
      "0% [███] 100% | ETA: 00:00:00\n",
      "Total time elapsed: 00:00:02\n"
     ]
    },
    {
     "name": "stdout",
     "output_type": "stream",
     "text": [
      "Finished Epoch 3 || Run Time:    2.2 | Load Time:    0.4 || F1: 100.00 | Prec: 100.00 | Rec: 100.00 || Ex/s:  54.85\n",
      "\n",
      "===>  EVAL Epoch 3\n"
     ]
    },
    {
     "name": "stderr",
     "output_type": "stream",
     "text": [
      "0% [█] 100% | ETA: 00:00:00\n",
      "Total time elapsed: 00:00:00\n"
     ]
    },
    {
     "name": "stdout",
     "output_type": "stream",
     "text": [
      "Finished Epoch 3 || Run Time:    0.2 | Load Time:    0.1 || F1:  96.97 | Prec: 100.00 | Rec:  94.12 || Ex/s: 137.93\n",
      "\n",
      "---------------------\n",
      "\n",
      "===>  TRAIN Epoch 4\n"
     ]
    },
    {
     "name": "stderr",
     "output_type": "stream",
     "text": [
      "0% [███] 100% | ETA: 00:00:00\n",
      "Total time elapsed: 00:00:02\n"
     ]
    },
    {
     "name": "stdout",
     "output_type": "stream",
     "text": [
      "Finished Epoch 4 || Run Time:    2.2 | Load Time:    0.4 || F1: 100.00 | Prec: 100.00 | Rec: 100.00 || Ex/s:  54.35\n",
      "\n",
      "===>  EVAL Epoch 4\n"
     ]
    },
    {
     "name": "stderr",
     "output_type": "stream",
     "text": [
      "0% [█] 100% | ETA: 00:00:00\n",
      "Total time elapsed: 00:00:00\n"
     ]
    },
    {
     "name": "stdout",
     "output_type": "stream",
     "text": [
      "Finished Epoch 4 || Run Time:    0.2 | Load Time:    0.1 || F1:  96.97 | Prec: 100.00 | Rec:  94.12 || Ex/s: 133.44\n",
      "\n",
      "---------------------\n",
      "\n",
      "===>  TRAIN Epoch 5\n"
     ]
    },
    {
     "name": "stderr",
     "output_type": "stream",
     "text": [
      "0% [███] 100% | ETA: 00:00:00\n",
      "Total time elapsed: 00:00:02\n"
     ]
    },
    {
     "name": "stdout",
     "output_type": "stream",
     "text": [
      "Finished Epoch 5 || Run Time:    2.2 | Load Time:    0.4 || F1: 100.00 | Prec: 100.00 | Rec: 100.00 || Ex/s:  54.46\n",
      "\n",
      "===>  EVAL Epoch 5\n"
     ]
    },
    {
     "name": "stderr",
     "output_type": "stream",
     "text": [
      "0% [█] 100% | ETA: 00:00:00\n",
      "Total time elapsed: 00:00:00\n"
     ]
    },
    {
     "name": "stdout",
     "output_type": "stream",
     "text": [
      "Finished Epoch 5 || Run Time:    0.2 | Load Time:    0.1 || F1:  96.97 | Prec: 100.00 | Rec:  94.12 || Ex/s: 136.69\n",
      "\n",
      "---------------------\n",
      "\n",
      "===>  TRAIN Epoch 6\n"
     ]
    },
    {
     "name": "stderr",
     "output_type": "stream",
     "text": [
      "\r",
      "0% [██ ] 100% | ETA: 00:00:00"
     ]
    }
   ],
   "source": [
    "model = dm.MatchingModel(attr_summarizer='rnn')\n",
    "model.run_train(train,valid,best_save_path='models/fodors_zagats_rnn.pth',epochs=20,batch_size=8)"
   ]
  },
  {
   "cell_type": "code",
   "execution_count": 23,
   "metadata": {
    "ExecuteTime": {
     "end_time": "2020-03-30T12:44:14.014141Z",
     "start_time": "2020-03-30T12:42:07.536382Z"
    }
   },
   "outputs": [
    {
     "name": "stdout",
     "output_type": "stream",
     "text": [
      "* Number of trainable parameters: 13363808\n",
      "===>  TRAIN Epoch 1\n"
     ]
    },
    {
     "name": "stderr",
     "output_type": "stream",
     "text": [
      "/home/nvidia/anaconda3/envs/testenv/lib/python3.8/site-packages/torch/nn/functional.py:1958: UserWarning: reduction: 'mean' divides the total loss by both the batch size and the support size.'batchmean' divides only by the batch size, and aligns with the KL div math definition.'mean' will be changed to behave the same as 'batchmean' in the next major release.\n",
      "  warnings.warn(\"reduction: 'mean' divides the total loss by both the batch size and the support size.\"\n",
      "0% [███] 100% | ETA: 00:00:00\n",
      "Total time elapsed: 00:00:04\n"
     ]
    },
    {
     "name": "stdout",
     "output_type": "stream",
     "text": [
      "Finished Epoch 1 || Run Time:    5.3 | Load Time:    0.3 || F1:  88.75 | Prec:  82.56 | Rec:  95.95 || Ex/s:  25.32\n",
      "\n",
      "===>  EVAL Epoch 1\n"
     ]
    },
    {
     "name": "stderr",
     "output_type": "stream",
     "text": [
      "0% [█] 100% | ETA: 00:00:00\n",
      "Total time elapsed: 00:00:00\n"
     ]
    },
    {
     "name": "stdout",
     "output_type": "stream",
     "text": [
      "Finished Epoch 1 || Run Time:    0.6 | Load Time:    0.1 || F1:  94.12 | Prec:  94.12 | Rec:  94.12 || Ex/s:  54.42\n",
      "\n",
      "* Best F1: tensor(94.1176, device='cuda:0')\n",
      "Saving best model...\n",
      "Done.\n",
      "---------------------\n",
      "\n",
      "===>  TRAIN Epoch 2\n"
     ]
    },
    {
     "name": "stderr",
     "output_type": "stream",
     "text": [
      "0% [███] 100% | ETA: 00:00:00\n",
      "Total time elapsed: 00:00:04\n"
     ]
    },
    {
     "name": "stdout",
     "output_type": "stream",
     "text": [
      "Finished Epoch 2 || Run Time:    5.5 | Load Time:    0.3 || F1:  95.36 | Prec:  93.51 | Rec:  97.30 || Ex/s:  24.59\n",
      "\n",
      "===>  EVAL Epoch 2\n"
     ]
    },
    {
     "name": "stderr",
     "output_type": "stream",
     "text": [
      "0% [█] 100% | ETA: 00:00:00\n",
      "Total time elapsed: 00:00:00\n"
     ]
    },
    {
     "name": "stdout",
     "output_type": "stream",
     "text": [
      "Finished Epoch 2 || Run Time:    0.6 | Load Time:    0.1 || F1:  94.12 | Prec:  94.12 | Rec:  94.12 || Ex/s:  52.60\n",
      "\n",
      "---------------------\n",
      "\n",
      "===>  TRAIN Epoch 3\n"
     ]
    },
    {
     "name": "stderr",
     "output_type": "stream",
     "text": [
      "0% [███] 100% | ETA: 00:00:00\n",
      "Total time elapsed: 00:00:04\n"
     ]
    },
    {
     "name": "stdout",
     "output_type": "stream",
     "text": [
      "Finished Epoch 3 || Run Time:    5.2 | Load Time:    0.3 || F1:  96.73 | Prec:  93.67 | Rec: 100.00 || Ex/s:  25.75\n",
      "\n",
      "===>  EVAL Epoch 3\n"
     ]
    },
    {
     "name": "stderr",
     "output_type": "stream",
     "text": [
      "0% [█] 100% | ETA: 00:00:00\n",
      "Total time elapsed: 00:00:00\n"
     ]
    },
    {
     "name": "stdout",
     "output_type": "stream",
     "text": [
      "Finished Epoch 3 || Run Time:    0.6 | Load Time:    0.1 || F1:  94.12 | Prec:  94.12 | Rec:  94.12 || Ex/s:  54.46\n",
      "\n",
      "---------------------\n",
      "\n",
      "===>  TRAIN Epoch 4\n"
     ]
    },
    {
     "name": "stderr",
     "output_type": "stream",
     "text": [
      "0% [███] 100% | ETA: 00:00:00\n",
      "Total time elapsed: 00:00:04\n"
     ]
    },
    {
     "name": "stdout",
     "output_type": "stream",
     "text": [
      "Finished Epoch 4 || Run Time:    5.2 | Load Time:    0.3 || F1:  97.37 | Prec:  94.87 | Rec: 100.00 || Ex/s:  25.67\n",
      "\n",
      "===>  EVAL Epoch 4\n"
     ]
    },
    {
     "name": "stderr",
     "output_type": "stream",
     "text": [
      "0% [█] 100% | ETA: 00:00:00\n",
      "Total time elapsed: 00:00:00\n"
     ]
    },
    {
     "name": "stdout",
     "output_type": "stream",
     "text": [
      "Finished Epoch 4 || Run Time:    0.6 | Load Time:    0.1 || F1:  96.97 | Prec: 100.00 | Rec:  94.12 || Ex/s:  53.85\n",
      "\n",
      "* Best F1: tensor(96.9697, device='cuda:0')\n",
      "Saving best model...\n",
      "Done.\n",
      "---------------------\n",
      "\n",
      "===>  TRAIN Epoch 5\n"
     ]
    },
    {
     "name": "stderr",
     "output_type": "stream",
     "text": [
      "0% [███] 100% | ETA: 00:00:00\n",
      "Total time elapsed: 00:00:04\n"
     ]
    },
    {
     "name": "stdout",
     "output_type": "stream",
     "text": [
      "Finished Epoch 5 || Run Time:    5.3 | Load Time:    0.3 || F1:  98.67 | Prec:  97.37 | Rec: 100.00 || Ex/s:  25.60\n",
      "\n",
      "===>  EVAL Epoch 5\n"
     ]
    },
    {
     "name": "stderr",
     "output_type": "stream",
     "text": [
      "0% [█] 100% | ETA: 00:00:00\n",
      "Total time elapsed: 00:00:00\n"
     ]
    },
    {
     "name": "stdout",
     "output_type": "stream",
     "text": [
      "Finished Epoch 5 || Run Time:    0.6 | Load Time:    0.1 || F1:  93.75 | Prec: 100.00 | Rec:  88.24 || Ex/s:  54.03\n",
      "\n",
      "---------------------\n",
      "\n",
      "===>  TRAIN Epoch 6\n"
     ]
    },
    {
     "name": "stderr",
     "output_type": "stream",
     "text": [
      "0% [███] 100% | ETA: 00:00:00\n",
      "Total time elapsed: 00:00:04\n"
     ]
    },
    {
     "name": "stdout",
     "output_type": "stream",
     "text": [
      "Finished Epoch 6 || Run Time:    5.2 | Load Time:    0.3 || F1:  99.33 | Prec:  98.67 | Rec: 100.00 || Ex/s:  25.82\n",
      "\n",
      "===>  EVAL Epoch 6\n"
     ]
    },
    {
     "name": "stderr",
     "output_type": "stream",
     "text": [
      "0% [█] 100% | ETA: 00:00:00\n",
      "Total time elapsed: 00:00:00\n"
     ]
    },
    {
     "name": "stdout",
     "output_type": "stream",
     "text": [
      "Finished Epoch 6 || Run Time:    0.6 | Load Time:    0.1 || F1:  93.75 | Prec: 100.00 | Rec:  88.24 || Ex/s:  54.23\n",
      "\n",
      "---------------------\n",
      "\n",
      "===>  TRAIN Epoch 7\n"
     ]
    },
    {
     "name": "stderr",
     "output_type": "stream",
     "text": [
      "0% [███] 100% | ETA: 00:00:00\n",
      "Total time elapsed: 00:00:04\n"
     ]
    },
    {
     "name": "stdout",
     "output_type": "stream",
     "text": [
      "Finished Epoch 7 || Run Time:    5.2 | Load Time:    0.3 || F1: 100.00 | Prec: 100.00 | Rec: 100.00 || Ex/s:  25.75\n",
      "\n",
      "===>  EVAL Epoch 7\n"
     ]
    },
    {
     "name": "stderr",
     "output_type": "stream",
     "text": [
      "0% [█] 100% | ETA: 00:00:00\n",
      "Total time elapsed: 00:00:00\n"
     ]
    },
    {
     "name": "stdout",
     "output_type": "stream",
     "text": [
      "Finished Epoch 7 || Run Time:    0.6 | Load Time:    0.1 || F1:  93.75 | Prec: 100.00 | Rec:  88.24 || Ex/s:  53.37\n",
      "\n",
      "---------------------\n",
      "\n",
      "===>  TRAIN Epoch 8\n"
     ]
    },
    {
     "name": "stderr",
     "output_type": "stream",
     "text": [
      "0% [███] 100% | ETA: 00:00:00\n",
      "Total time elapsed: 00:00:04\n"
     ]
    },
    {
     "name": "stdout",
     "output_type": "stream",
     "text": [
      "Finished Epoch 8 || Run Time:    5.2 | Load Time:    0.3 || F1: 100.00 | Prec: 100.00 | Rec: 100.00 || Ex/s:  25.78\n",
      "\n",
      "===>  EVAL Epoch 8\n"
     ]
    },
    {
     "name": "stderr",
     "output_type": "stream",
     "text": [
      "0% [█] 100% | ETA: 00:00:00\n",
      "Total time elapsed: 00:00:00\n"
     ]
    },
    {
     "name": "stdout",
     "output_type": "stream",
     "text": [
      "Finished Epoch 8 || Run Time:    0.6 | Load Time:    0.1 || F1:  93.75 | Prec: 100.00 | Rec:  88.24 || Ex/s:  54.42\n",
      "\n",
      "---------------------\n",
      "\n",
      "===>  TRAIN Epoch 9\n"
     ]
    },
    {
     "name": "stderr",
     "output_type": "stream",
     "text": [
      "0% [███] 100% | ETA: 00:00:00\n",
      "Total time elapsed: 00:00:04\n"
     ]
    },
    {
     "name": "stdout",
     "output_type": "stream",
     "text": [
      "Finished Epoch 9 || Run Time:    5.2 | Load Time:    0.3 || F1: 100.00 | Prec: 100.00 | Rec: 100.00 || Ex/s:  25.80\n",
      "\n",
      "===>  EVAL Epoch 9\n"
     ]
    },
    {
     "name": "stderr",
     "output_type": "stream",
     "text": [
      "0% [█] 100% | ETA: 00:00:00\n",
      "Total time elapsed: 00:00:00\n"
     ]
    },
    {
     "name": "stdout",
     "output_type": "stream",
     "text": [
      "Finished Epoch 9 || Run Time:    0.6 | Load Time:    0.1 || F1:  93.75 | Prec: 100.00 | Rec:  88.24 || Ex/s:  54.50\n",
      "\n",
      "---------------------\n",
      "\n",
      "===>  TRAIN Epoch 10\n"
     ]
    },
    {
     "name": "stderr",
     "output_type": "stream",
     "text": [
      "0% [███] 100% | ETA: 00:00:00\n",
      "Total time elapsed: 00:00:04\n"
     ]
    },
    {
     "name": "stdout",
     "output_type": "stream",
     "text": [
      "Finished Epoch 10 || Run Time:    5.2 | Load Time:    0.3 || F1: 100.00 | Prec: 100.00 | Rec: 100.00 || Ex/s:  25.83\n",
      "\n",
      "===>  EVAL Epoch 10\n"
     ]
    },
    {
     "name": "stderr",
     "output_type": "stream",
     "text": [
      "0% [█] 100% | ETA: 00:00:00\n",
      "Total time elapsed: 00:00:00\n"
     ]
    },
    {
     "name": "stdout",
     "output_type": "stream",
     "text": [
      "Finished Epoch 10 || Run Time:    0.6 | Load Time:    0.1 || F1:  93.75 | Prec: 100.00 | Rec:  88.24 || Ex/s:  54.33\n",
      "\n",
      "---------------------\n",
      "\n",
      "===>  TRAIN Epoch 11\n"
     ]
    },
    {
     "name": "stderr",
     "output_type": "stream",
     "text": [
      "0% [███] 100% | ETA: 00:00:00\n",
      "Total time elapsed: 00:00:04\n"
     ]
    },
    {
     "name": "stdout",
     "output_type": "stream",
     "text": [
      "Finished Epoch 11 || Run Time:    5.2 | Load Time:    0.3 || F1: 100.00 | Prec: 100.00 | Rec: 100.00 || Ex/s:  25.81\n",
      "\n",
      "===>  EVAL Epoch 11\n"
     ]
    },
    {
     "name": "stderr",
     "output_type": "stream",
     "text": [
      "0% [█] 100% | ETA: 00:00:00\n",
      "Total time elapsed: 00:00:00\n"
     ]
    },
    {
     "name": "stdout",
     "output_type": "stream",
     "text": [
      "Finished Epoch 11 || Run Time:    0.6 | Load Time:    0.1 || F1:  93.75 | Prec: 100.00 | Rec:  88.24 || Ex/s:  53.79\n",
      "\n",
      "---------------------\n",
      "\n",
      "===>  TRAIN Epoch 12\n"
     ]
    },
    {
     "name": "stderr",
     "output_type": "stream",
     "text": [
      "0% [███] 100% | ETA: 00:00:00\n",
      "Total time elapsed: 00:00:04\n"
     ]
    },
    {
     "name": "stdout",
     "output_type": "stream",
     "text": [
      "Finished Epoch 12 || Run Time:    5.3 | Load Time:    0.3 || F1: 100.00 | Prec: 100.00 | Rec: 100.00 || Ex/s:  25.68\n",
      "\n",
      "===>  EVAL Epoch 12\n"
     ]
    },
    {
     "name": "stderr",
     "output_type": "stream",
     "text": [
      "0% [█] 100% | ETA: 00:00:00\n",
      "Total time elapsed: 00:00:00\n"
     ]
    },
    {
     "name": "stdout",
     "output_type": "stream",
     "text": [
      "Finished Epoch 12 || Run Time:    0.6 | Load Time:    0.1 || F1:  93.75 | Prec: 100.00 | Rec:  88.24 || Ex/s:  54.37\n",
      "\n",
      "---------------------\n",
      "\n",
      "===>  TRAIN Epoch 13\n"
     ]
    },
    {
     "name": "stderr",
     "output_type": "stream",
     "text": [
      "0% [███] 100% | ETA: 00:00:00\n",
      "Total time elapsed: 00:00:04\n"
     ]
    },
    {
     "name": "stdout",
     "output_type": "stream",
     "text": [
      "Finished Epoch 13 || Run Time:    5.2 | Load Time:    0.3 || F1: 100.00 | Prec: 100.00 | Rec: 100.00 || Ex/s:  25.79\n",
      "\n",
      "===>  EVAL Epoch 13\n"
     ]
    },
    {
     "name": "stderr",
     "output_type": "stream",
     "text": [
      "0% [█] 100% | ETA: 00:00:00\n",
      "Total time elapsed: 00:00:00\n"
     ]
    },
    {
     "name": "stdout",
     "output_type": "stream",
     "text": [
      "Finished Epoch 13 || Run Time:    0.6 | Load Time:    0.1 || F1:  93.75 | Prec: 100.00 | Rec:  88.24 || Ex/s:  54.29\n",
      "\n",
      "---------------------\n",
      "\n",
      "===>  TRAIN Epoch 14\n"
     ]
    },
    {
     "name": "stderr",
     "output_type": "stream",
     "text": [
      "0% [███] 100% | ETA: 00:00:00\n",
      "Total time elapsed: 00:00:04\n"
     ]
    },
    {
     "name": "stdout",
     "output_type": "stream",
     "text": [
      "Finished Epoch 14 || Run Time:    5.2 | Load Time:    0.3 || F1: 100.00 | Prec: 100.00 | Rec: 100.00 || Ex/s:  25.81\n",
      "\n",
      "===>  EVAL Epoch 14\n"
     ]
    },
    {
     "name": "stderr",
     "output_type": "stream",
     "text": [
      "0% [█] 100% | ETA: 00:00:00\n",
      "Total time elapsed: 00:00:00\n"
     ]
    },
    {
     "name": "stdout",
     "output_type": "stream",
     "text": [
      "Finished Epoch 14 || Run Time:    0.6 | Load Time:    0.1 || F1:  93.75 | Prec: 100.00 | Rec:  88.24 || Ex/s:  54.25\n",
      "\n",
      "---------------------\n",
      "\n",
      "===>  TRAIN Epoch 15\n"
     ]
    },
    {
     "name": "stderr",
     "output_type": "stream",
     "text": [
      "0% [███] 100% | ETA: 00:00:00\n",
      "Total time elapsed: 00:00:04\n"
     ]
    },
    {
     "name": "stdout",
     "output_type": "stream",
     "text": [
      "Finished Epoch 15 || Run Time:    5.2 | Load Time:    0.3 || F1: 100.00 | Prec: 100.00 | Rec: 100.00 || Ex/s:  25.74\n",
      "\n",
      "===>  EVAL Epoch 15\n"
     ]
    },
    {
     "name": "stderr",
     "output_type": "stream",
     "text": [
      "0% [█] 100% | ETA: 00:00:00\n",
      "Total time elapsed: 00:00:00\n"
     ]
    },
    {
     "name": "stdout",
     "output_type": "stream",
     "text": [
      "Finished Epoch 15 || Run Time:    0.6 | Load Time:    0.1 || F1:  93.75 | Prec: 100.00 | Rec:  88.24 || Ex/s:  54.23\n",
      "\n",
      "---------------------\n",
      "\n",
      "===>  TRAIN Epoch 16\n"
     ]
    },
    {
     "name": "stderr",
     "output_type": "stream",
     "text": [
      "0% [███] 100% | ETA: 00:00:00\n",
      "Total time elapsed: 00:00:04\n"
     ]
    },
    {
     "name": "stdout",
     "output_type": "stream",
     "text": [
      "Finished Epoch 16 || Run Time:    5.2 | Load Time:    0.3 || F1: 100.00 | Prec: 100.00 | Rec: 100.00 || Ex/s:  25.68\n",
      "\n",
      "===>  EVAL Epoch 16\n"
     ]
    },
    {
     "name": "stderr",
     "output_type": "stream",
     "text": [
      "0% [█] 100% | ETA: 00:00:00\n",
      "Total time elapsed: 00:00:00\n"
     ]
    },
    {
     "name": "stdout",
     "output_type": "stream",
     "text": [
      "Finished Epoch 16 || Run Time:    0.6 | Load Time:    0.1 || F1:  93.75 | Prec: 100.00 | Rec:  88.24 || Ex/s:  54.34\n",
      "\n",
      "---------------------\n",
      "\n",
      "===>  TRAIN Epoch 17\n"
     ]
    },
    {
     "name": "stderr",
     "output_type": "stream",
     "text": [
      "0% [███] 100% | ETA: 00:00:00\n",
      "Total time elapsed: 00:00:04\n"
     ]
    },
    {
     "name": "stdout",
     "output_type": "stream",
     "text": [
      "Finished Epoch 17 || Run Time:    5.2 | Load Time:    0.3 || F1: 100.00 | Prec: 100.00 | Rec: 100.00 || Ex/s:  25.80\n",
      "\n",
      "===>  EVAL Epoch 17\n"
     ]
    },
    {
     "name": "stderr",
     "output_type": "stream",
     "text": [
      "0% [█] 100% | ETA: 00:00:00\n",
      "Total time elapsed: 00:00:00\n"
     ]
    },
    {
     "name": "stdout",
     "output_type": "stream",
     "text": [
      "Finished Epoch 17 || Run Time:    0.6 | Load Time:    0.1 || F1:  93.75 | Prec: 100.00 | Rec:  88.24 || Ex/s:  53.54\n",
      "\n",
      "---------------------\n",
      "\n",
      "===>  TRAIN Epoch 18\n"
     ]
    },
    {
     "name": "stderr",
     "output_type": "stream",
     "text": [
      "0% [███] 100% | ETA: 00:00:00\n",
      "Total time elapsed: 00:00:04\n"
     ]
    },
    {
     "name": "stdout",
     "output_type": "stream",
     "text": [
      "Finished Epoch 18 || Run Time:    5.2 | Load Time:    0.3 || F1: 100.00 | Prec: 100.00 | Rec: 100.00 || Ex/s:  25.83\n",
      "\n",
      "===>  EVAL Epoch 18\n"
     ]
    },
    {
     "name": "stderr",
     "output_type": "stream",
     "text": [
      "0% [█] 100% | ETA: 00:00:00\n",
      "Total time elapsed: 00:00:00\n"
     ]
    },
    {
     "name": "stdout",
     "output_type": "stream",
     "text": [
      "Finished Epoch 18 || Run Time:    0.6 | Load Time:    0.1 || F1:  93.75 | Prec: 100.00 | Rec:  88.24 || Ex/s:  54.50\n",
      "\n",
      "---------------------\n",
      "\n",
      "===>  TRAIN Epoch 19\n"
     ]
    },
    {
     "name": "stderr",
     "output_type": "stream",
     "text": [
      "0% [███] 100% | ETA: 00:00:00\n",
      "Total time elapsed: 00:00:04\n"
     ]
    },
    {
     "name": "stdout",
     "output_type": "stream",
     "text": [
      "Finished Epoch 19 || Run Time:    5.2 | Load Time:    0.3 || F1: 100.00 | Prec: 100.00 | Rec: 100.00 || Ex/s:  25.79\n",
      "\n",
      "===>  EVAL Epoch 19\n"
     ]
    },
    {
     "name": "stderr",
     "output_type": "stream",
     "text": [
      "0% [█] 100% | ETA: 00:00:00\n",
      "Total time elapsed: 00:00:00\n"
     ]
    },
    {
     "name": "stdout",
     "output_type": "stream",
     "text": [
      "Finished Epoch 19 || Run Time:    0.6 | Load Time:    0.1 || F1:  93.75 | Prec: 100.00 | Rec:  88.24 || Ex/s:  54.52\n",
      "\n",
      "---------------------\n",
      "\n",
      "===>  TRAIN Epoch 20\n"
     ]
    },
    {
     "name": "stderr",
     "output_type": "stream",
     "text": [
      "0% [███] 100% | ETA: 00:00:00\n",
      "Total time elapsed: 00:00:04\n"
     ]
    },
    {
     "name": "stdout",
     "output_type": "stream",
     "text": [
      "Finished Epoch 20 || Run Time:    5.4 | Load Time:    0.3 || F1: 100.00 | Prec: 100.00 | Rec: 100.00 || Ex/s:  25.07\n",
      "\n",
      "===>  EVAL Epoch 20\n"
     ]
    },
    {
     "name": "stderr",
     "output_type": "stream",
     "text": [
      "0% [█] 100% | ETA: 00:00:00\n",
      "Total time elapsed: 00:00:00\n"
     ]
    },
    {
     "name": "stdout",
     "output_type": "stream",
     "text": [
      "Finished Epoch 20 || Run Time:    0.6 | Load Time:    0.1 || F1:  93.75 | Prec: 100.00 | Rec:  88.24 || Ex/s:  53.71\n",
      "\n",
      "---------------------\n",
      "\n",
      "Loading best model...\n",
      "Training done.\n"
     ]
    },
    {
     "data": {
      "text/plain": [
       "tensor(96.9697, device='cuda:0')"
      ]
     },
     "execution_count": 23,
     "metadata": {},
     "output_type": "execute_result"
    }
   ],
   "source": [
    "hybrid_model = dm.MatchingModel(attr_summarizer='hybrid')\n",
    "hybrid_model.run_train(train,valid,best_save_path='models/fodors_zagats_hybrid.pth',epochs=20,batch_size=8)"
   ]
  },
  {
   "cell_type": "code",
   "execution_count": null,
   "metadata": {},
   "outputs": [],
   "source": []
  },
  {
   "cell_type": "markdown",
   "metadata": {},
   "source": [
    "## DBLP-Scholar"
   ]
  },
  {
   "cell_type": "code",
   "execution_count": 17,
   "metadata": {
    "ExecuteTime": {
     "end_time": "2020-03-30T12:16:43.676672Z",
     "start_time": "2020-03-30T12:16:27.346028Z"
    }
   },
   "outputs": [
    {
     "name": "stderr",
     "output_type": "stream",
     "text": [
      "\n",
      "Reading and processing data from \"datasets/DBLP-Scholar/train.csv\"\n",
      "0% [############################# ] 100% | ETA: 00:00:00\n",
      "Reading and processing data from \"datasets/DBLP-Scholar/validation.csv\"\n",
      "0% [############################# ] 100% | ETA: 00:00:00\n",
      "Reading and processing data from \"datasets/DBLP-Scholar/test.csv\"\n",
      "0% [############################# ] 100% | ETA: 00:00:00\n",
      "Building vocabulary\n",
      "0% [#######] 100% | ETA: 00:00:00\n",
      "Total time elapsed: 00:00:00\n",
      "\n",
      "Computing principal components\n",
      "0% [#######] 100% | ETA: 00:00:00\n",
      "Total time elapsed: 00:00:05\n"
     ]
    }
   ],
   "source": [
    "train,valid,test = dm.data.process('datasets/DBLP-Scholar/',train='train.csv',validation='validation.csv',\n",
    "                                   test='test.csv',left_prefix='ltable_',right_prefix='rtable_')"
   ]
  },
  {
   "cell_type": "code",
   "execution_count": 4,
   "metadata": {
    "ExecuteTime": {
     "end_time": "2020-03-27T10:47:42.399163Z",
     "start_time": "2020-03-27T10:28:02.801130Z"
    }
   },
   "outputs": [
    {
     "name": "stdout",
     "output_type": "stream",
     "text": [
      "* Number of trainable parameters: 2169602\n",
      "===>  TRAIN Epoch 1\n"
     ]
    },
    {
     "name": "stderr",
     "output_type": "stream",
     "text": [
      "0% [█████████████████████] 100% | ETA: 00:00:00\n",
      "Total time elapsed: 00:00:37\n"
     ]
    },
    {
     "name": "stdout",
     "output_type": "stream",
     "text": [
      "Finished Epoch 1 || Run Time:    9.5 | Load Time:   28.6 || F1:  89.87 | Prec:  93.81 | Rec:  86.26 || Ex/s: 179.43\n",
      "\n",
      "===>  EVAL Epoch 1\n"
     ]
    },
    {
     "name": "stderr",
     "output_type": "stream",
     "text": [
      "0% [█████████████████████] 100% | ETA: 00:00:00\n",
      "Total time elapsed: 00:00:21\n"
     ]
    },
    {
     "name": "stdout",
     "output_type": "stream",
     "text": [
      "Finished Epoch 1 || Run Time:    2.2 | Load Time:   19.6 || F1:  98.74 | Prec:  98.55 | Rec:  98.92 || Ex/s: 313.06\n",
      "\n",
      "* Best F1: tensor(98.7364, device='cuda:0')\n",
      "Saving best model...\n",
      "Done.\n",
      "---------------------\n",
      "\n",
      "===>  TRAIN Epoch 2\n"
     ]
    },
    {
     "name": "stderr",
     "output_type": "stream",
     "text": [
      "0% [█████████████████████] 100% | ETA: 00:00:00\n",
      "Total time elapsed: 00:00:37\n"
     ]
    },
    {
     "name": "stdout",
     "output_type": "stream",
     "text": [
      "Finished Epoch 2 || Run Time:    9.7 | Load Time:   28.3 || F1:  99.13 | Prec:  99.55 | Rec:  98.72 || Ex/s: 180.13\n",
      "\n",
      "===>  EVAL Epoch 2\n"
     ]
    },
    {
     "name": "stderr",
     "output_type": "stream",
     "text": [
      "0% [█████████████████████] 100% | ETA: 00:00:00\n",
      "Total time elapsed: 00:00:21\n"
     ]
    },
    {
     "name": "stdout",
     "output_type": "stream",
     "text": [
      "Finished Epoch 2 || Run Time:    2.2 | Load Time:   19.6 || F1:  99.51 | Prec:  99.22 | Rec:  99.80 || Ex/s: 314.39\n",
      "\n",
      "* Best F1: tensor(99.5067, device='cuda:0')\n",
      "Saving best model...\n",
      "Done.\n",
      "---------------------\n",
      "\n",
      "===>  TRAIN Epoch 3\n"
     ]
    },
    {
     "name": "stderr",
     "output_type": "stream",
     "text": [
      "0% [█████████████████████] 100% | ETA: 00:00:00\n",
      "Total time elapsed: 00:00:36\n"
     ]
    },
    {
     "name": "stdout",
     "output_type": "stream",
     "text": [
      "Finished Epoch 3 || Run Time:    9.6 | Load Time:   27.9 || F1:  99.85 | Prec:  99.94 | Rec:  99.76 || Ex/s: 182.51\n",
      "\n",
      "===>  EVAL Epoch 3\n"
     ]
    },
    {
     "name": "stderr",
     "output_type": "stream",
     "text": [
      "0% [█████████████████████] 100% | ETA: 00:00:00\n",
      "Total time elapsed: 00:00:21\n"
     ]
    },
    {
     "name": "stdout",
     "output_type": "stream",
     "text": [
      "Finished Epoch 3 || Run Time:    2.2 | Load Time:   19.6 || F1:  99.81 | Prec:  99.88 | Rec:  99.74 || Ex/s: 313.95\n",
      "\n",
      "* Best F1: tensor(99.8107, device='cuda:0')\n",
      "Saving best model...\n",
      "Done.\n",
      "---------------------\n",
      "\n",
      "===>  TRAIN Epoch 4\n"
     ]
    },
    {
     "name": "stderr",
     "output_type": "stream",
     "text": [
      "0% [█████████████████████] 100% | ETA: 00:00:00\n",
      "Total time elapsed: 00:00:37\n"
     ]
    },
    {
     "name": "stdout",
     "output_type": "stream",
     "text": [
      "Finished Epoch 4 || Run Time:    9.8 | Load Time:   28.6 || F1:  99.99 | Prec: 100.00 | Rec:  99.97 || Ex/s: 178.43\n",
      "\n",
      "===>  EVAL Epoch 4\n"
     ]
    },
    {
     "name": "stderr",
     "output_type": "stream",
     "text": [
      "0% [█████████████████████] 100% | ETA: 00:00:00\n",
      "Total time elapsed: 00:00:21\n"
     ]
    },
    {
     "name": "stdout",
     "output_type": "stream",
     "text": [
      "Finished Epoch 4 || Run Time:    2.2 | Load Time:   19.6 || F1:  99.84 | Prec:  99.83 | Rec:  99.85 || Ex/s: 314.44\n",
      "\n",
      "* Best F1: tensor(99.8400, device='cuda:0')\n",
      "Saving best model...\n",
      "Done.\n",
      "---------------------\n",
      "\n",
      "===>  TRAIN Epoch 5\n"
     ]
    },
    {
     "name": "stderr",
     "output_type": "stream",
     "text": [
      "0% [█████████████████████] 100% | ETA: 00:00:00\n",
      "Total time elapsed: 00:00:37\n"
     ]
    },
    {
     "name": "stdout",
     "output_type": "stream",
     "text": [
      "Finished Epoch 5 || Run Time:    9.5 | Load Time:   28.4 || F1: 100.00 | Prec: 100.00 | Rec: 100.00 || Ex/s: 180.49\n",
      "\n",
      "===>  EVAL Epoch 5\n"
     ]
    },
    {
     "name": "stderr",
     "output_type": "stream",
     "text": [
      "0% [█████████████████████] 100% | ETA: 00:00:00\n",
      "Total time elapsed: 00:00:21\n"
     ]
    },
    {
     "name": "stdout",
     "output_type": "stream",
     "text": [
      "Finished Epoch 5 || Run Time:    2.2 | Load Time:   19.8 || F1:  99.84 | Prec:  99.85 | Rec:  99.83 || Ex/s: 309.79\n",
      "\n",
      "---------------------\n",
      "\n",
      "===>  TRAIN Epoch 6\n"
     ]
    },
    {
     "name": "stderr",
     "output_type": "stream",
     "text": [
      "0% [█████████████████████] 100% | ETA: 00:00:00\n",
      "Total time elapsed: 00:00:35\n"
     ]
    },
    {
     "name": "stdout",
     "output_type": "stream",
     "text": [
      "Finished Epoch 6 || Run Time:    9.2 | Load Time:   27.1 || F1: 100.00 | Prec: 100.00 | Rec: 100.00 || Ex/s: 188.54\n",
      "\n",
      "===>  EVAL Epoch 6\n"
     ]
    },
    {
     "name": "stderr",
     "output_type": "stream",
     "text": [
      "0% [█████████████████████] 100% | ETA: 00:00:00\n",
      "Total time elapsed: 00:00:21\n"
     ]
    },
    {
     "name": "stdout",
     "output_type": "stream",
     "text": [
      "Finished Epoch 6 || Run Time:    2.2 | Load Time:   19.7 || F1:  99.84 | Prec:  99.85 | Rec:  99.83 || Ex/s: 312.41\n",
      "\n",
      "---------------------\n",
      "\n",
      "===>  TRAIN Epoch 7\n"
     ]
    },
    {
     "name": "stderr",
     "output_type": "stream",
     "text": [
      "0% [█████████████████████] 100% | ETA: 00:00:00\n",
      "Total time elapsed: 00:00:37\n"
     ]
    },
    {
     "name": "stdout",
     "output_type": "stream",
     "text": [
      "Finished Epoch 7 || Run Time:    9.6 | Load Time:   28.4 || F1: 100.00 | Prec: 100.00 | Rec: 100.00 || Ex/s: 179.98\n",
      "\n",
      "===>  EVAL Epoch 7\n"
     ]
    },
    {
     "name": "stderr",
     "output_type": "stream",
     "text": [
      "0% [█████████████████████] 100% | ETA: 00:00:00\n",
      "Total time elapsed: 00:00:21\n"
     ]
    },
    {
     "name": "stdout",
     "output_type": "stream",
     "text": [
      "Finished Epoch 7 || Run Time:    2.2 | Load Time:   19.7 || F1:  99.84 | Prec:  99.85 | Rec:  99.83 || Ex/s: 311.53\n",
      "\n",
      "---------------------\n",
      "\n",
      "===>  TRAIN Epoch 8\n"
     ]
    },
    {
     "name": "stderr",
     "output_type": "stream",
     "text": [
      "0% [█████████████████████] 100% | ETA: 00:00:00\n",
      "Total time elapsed: 00:00:35\n"
     ]
    },
    {
     "name": "stdout",
     "output_type": "stream",
     "text": [
      "Finished Epoch 8 || Run Time:    9.4 | Load Time:   26.7 || F1: 100.00 | Prec: 100.00 | Rec: 100.00 || Ex/s: 189.92\n",
      "\n",
      "===>  EVAL Epoch 8\n"
     ]
    },
    {
     "name": "stderr",
     "output_type": "stream",
     "text": [
      "0% [█████████████████████] 100% | ETA: 00:00:00\n",
      "Total time elapsed: 00:00:21\n"
     ]
    },
    {
     "name": "stdout",
     "output_type": "stream",
     "text": [
      "Finished Epoch 8 || Run Time:    2.3 | Load Time:   19.9 || F1:  99.83 | Prec:  99.85 | Rec:  99.80 || Ex/s: 308.73\n",
      "\n",
      "---------------------\n",
      "\n",
      "===>  TRAIN Epoch 9\n"
     ]
    },
    {
     "name": "stderr",
     "output_type": "stream",
     "text": [
      "0% [█████████████████████] 100% | ETA: 00:00:00\n",
      "Total time elapsed: 00:00:37\n"
     ]
    },
    {
     "name": "stdout",
     "output_type": "stream",
     "text": [
      "Finished Epoch 9 || Run Time:    9.8 | Load Time:   28.5 || F1: 100.00 | Prec: 100.00 | Rec: 100.00 || Ex/s: 178.88\n",
      "\n",
      "===>  EVAL Epoch 9\n"
     ]
    },
    {
     "name": "stderr",
     "output_type": "stream",
     "text": [
      "0% [█████████████████████] 100% | ETA: 00:00:00\n",
      "Total time elapsed: 00:00:21\n"
     ]
    },
    {
     "name": "stdout",
     "output_type": "stream",
     "text": [
      "Finished Epoch 9 || Run Time:    2.3 | Load Time:   19.9 || F1:  99.83 | Prec:  99.85 | Rec:  99.80 || Ex/s: 308.79\n",
      "\n",
      "---------------------\n",
      "\n",
      "===>  TRAIN Epoch 10\n"
     ]
    },
    {
     "name": "stderr",
     "output_type": "stream",
     "text": [
      "0% [█████████████████████] 100% | ETA: 00:00:00\n",
      "Total time elapsed: 00:00:36\n"
     ]
    },
    {
     "name": "stdout",
     "output_type": "stream",
     "text": [
      "Finished Epoch 10 || Run Time:    9.6 | Load Time:   27.7 || F1: 100.00 | Prec: 100.00 | Rec: 100.00 || Ex/s: 183.44\n",
      "\n",
      "===>  EVAL Epoch 10\n"
     ]
    },
    {
     "name": "stderr",
     "output_type": "stream",
     "text": [
      "0% [█████████████████████] 100% | ETA: 00:00:00\n",
      "Total time elapsed: 00:00:21\n"
     ]
    },
    {
     "name": "stdout",
     "output_type": "stream",
     "text": [
      "Finished Epoch 10 || Run Time:    2.3 | Load Time:   19.9 || F1:  99.81 | Prec:  99.85 | Rec:  99.77 || Ex/s: 308.65\n",
      "\n",
      "---------------------\n",
      "\n",
      "===>  TRAIN Epoch 11\n"
     ]
    },
    {
     "name": "stderr",
     "output_type": "stream",
     "text": [
      "0% [█████████████████████] 100% | ETA: 00:00:00\n",
      "Total time elapsed: 00:00:33\n"
     ]
    },
    {
     "name": "stdout",
     "output_type": "stream",
     "text": [
      "Finished Epoch 11 || Run Time:    9.1 | Load Time:   25.3 || F1: 100.00 | Prec: 100.00 | Rec: 100.00 || Ex/s: 199.01\n",
      "\n",
      "===>  EVAL Epoch 11\n"
     ]
    },
    {
     "name": "stderr",
     "output_type": "stream",
     "text": [
      "0% [█████████████████████] 100% | ETA: 00:00:00\n",
      "Total time elapsed: 00:00:21\n"
     ]
    },
    {
     "name": "stdout",
     "output_type": "stream",
     "text": [
      "Finished Epoch 11 || Run Time:    2.3 | Load Time:   20.0 || F1:  99.81 | Prec:  99.85 | Rec:  99.77 || Ex/s: 306.73\n",
      "\n",
      "---------------------\n",
      "\n",
      "===>  TRAIN Epoch 12\n"
     ]
    },
    {
     "name": "stderr",
     "output_type": "stream",
     "text": [
      "0% [█████████████████████] 100% | ETA: 00:00:00\n",
      "Total time elapsed: 00:00:38\n"
     ]
    },
    {
     "name": "stdout",
     "output_type": "stream",
     "text": [
      "Finished Epoch 12 || Run Time:    9.9 | Load Time:   28.9 || F1: 100.00 | Prec: 100.00 | Rec: 100.00 || Ex/s: 176.57\n",
      "\n",
      "===>  EVAL Epoch 12\n"
     ]
    },
    {
     "name": "stderr",
     "output_type": "stream",
     "text": [
      "0% [█████████████████████] 100% | ETA: 00:00:00\n",
      "Total time elapsed: 00:00:21\n"
     ]
    },
    {
     "name": "stdout",
     "output_type": "stream",
     "text": [
      "Finished Epoch 12 || Run Time:    2.3 | Load Time:   19.7 || F1:  99.81 | Prec:  99.85 | Rec:  99.77 || Ex/s: 311.43\n",
      "\n",
      "---------------------\n",
      "\n",
      "===>  TRAIN Epoch 13\n"
     ]
    },
    {
     "name": "stderr",
     "output_type": "stream",
     "text": [
      "0% [█████████████████████] 100% | ETA: 00:00:00\n",
      "Total time elapsed: 00:00:35\n"
     ]
    },
    {
     "name": "stdout",
     "output_type": "stream",
     "text": [
      "Finished Epoch 13 || Run Time:    9.5 | Load Time:   27.0 || F1: 100.00 | Prec: 100.00 | Rec: 100.00 || Ex/s: 187.95\n",
      "\n",
      "===>  EVAL Epoch 13\n"
     ]
    },
    {
     "name": "stderr",
     "output_type": "stream",
     "text": [
      "0% [█████████████████████] 100% | ETA: 00:00:00\n",
      "Total time elapsed: 00:00:21\n"
     ]
    },
    {
     "name": "stdout",
     "output_type": "stream",
     "text": [
      "Finished Epoch 13 || Run Time:    2.3 | Load Time:   19.7 || F1:  99.81 | Prec:  99.85 | Rec:  99.77 || Ex/s: 312.03\n",
      "\n",
      "---------------------\n",
      "\n",
      "===>  TRAIN Epoch 14\n"
     ]
    },
    {
     "name": "stderr",
     "output_type": "stream",
     "text": [
      "0% [█████████████████████] 100% | ETA: 00:00:00\n",
      "Total time elapsed: 00:00:37\n"
     ]
    },
    {
     "name": "stdout",
     "output_type": "stream",
     "text": [
      "Finished Epoch 14 || Run Time:    9.7 | Load Time:   28.1 || F1: 100.00 | Prec: 100.00 | Rec: 100.00 || Ex/s: 181.03\n",
      "\n",
      "===>  EVAL Epoch 14\n"
     ]
    },
    {
     "name": "stderr",
     "output_type": "stream",
     "text": [
      "0% [█████████████████████] 100% | ETA: 00:00:00\n",
      "Total time elapsed: 00:00:21\n"
     ]
    },
    {
     "name": "stdout",
     "output_type": "stream",
     "text": [
      "Finished Epoch 14 || Run Time:    2.3 | Load Time:   19.8 || F1:  99.81 | Prec:  99.85 | Rec:  99.77 || Ex/s: 310.86\n",
      "\n",
      "---------------------\n",
      "\n",
      "===>  TRAIN Epoch 15\n"
     ]
    },
    {
     "name": "stderr",
     "output_type": "stream",
     "text": [
      "0% [█████████████████████] 100% | ETA: 00:00:00\n",
      "Total time elapsed: 00:00:34\n"
     ]
    },
    {
     "name": "stdout",
     "output_type": "stream",
     "text": [
      "Finished Epoch 15 || Run Time:    9.3 | Load Time:   26.0 || F1: 100.00 | Prec: 100.00 | Rec: 100.00 || Ex/s: 193.86\n",
      "\n",
      "===>  EVAL Epoch 15\n"
     ]
    },
    {
     "name": "stderr",
     "output_type": "stream",
     "text": [
      "0% [█████████████████████] 100% | ETA: 00:00:00\n",
      "Total time elapsed: 00:00:21\n"
     ]
    },
    {
     "name": "stdout",
     "output_type": "stream",
     "text": [
      "Finished Epoch 15 || Run Time:    2.3 | Load Time:   19.7 || F1:  99.81 | Prec:  99.85 | Rec:  99.77 || Ex/s: 312.38\n",
      "\n",
      "---------------------\n",
      "\n",
      "===>  TRAIN Epoch 16\n"
     ]
    },
    {
     "name": "stderr",
     "output_type": "stream",
     "text": [
      "0% [█████████████████████] 100% | ETA: 00:00:00\n",
      "Total time elapsed: 00:00:35\n"
     ]
    },
    {
     "name": "stdout",
     "output_type": "stream",
     "text": [
      "Finished Epoch 16 || Run Time:    9.4 | Load Time:   26.8 || F1: 100.00 | Prec: 100.00 | Rec: 100.00 || Ex/s: 189.04\n",
      "\n",
      "===>  EVAL Epoch 16\n"
     ]
    },
    {
     "name": "stderr",
     "output_type": "stream",
     "text": [
      "0% [█████████████████████] 100% | ETA: 00:00:00\n",
      "Total time elapsed: 00:00:21\n"
     ]
    },
    {
     "name": "stdout",
     "output_type": "stream",
     "text": [
      "Finished Epoch 16 || Run Time:    2.2 | Load Time:   19.8 || F1:  99.81 | Prec:  99.85 | Rec:  99.77 || Ex/s: 310.58\n",
      "\n",
      "---------------------\n",
      "\n",
      "===>  TRAIN Epoch 17\n"
     ]
    },
    {
     "name": "stderr",
     "output_type": "stream",
     "text": [
      "0% [█████████████████████] 100% | ETA: 00:00:00\n",
      "Total time elapsed: 00:00:34\n"
     ]
    },
    {
     "name": "stdout",
     "output_type": "stream",
     "text": [
      "Finished Epoch 17 || Run Time:    9.3 | Load Time:   26.2 || F1: 100.00 | Prec: 100.00 | Rec: 100.00 || Ex/s: 192.73\n",
      "\n",
      "===>  EVAL Epoch 17\n"
     ]
    },
    {
     "name": "stderr",
     "output_type": "stream",
     "text": [
      "0% [█████████████████████] 100% | ETA: 00:00:00\n",
      "Total time elapsed: 00:00:21\n"
     ]
    },
    {
     "name": "stdout",
     "output_type": "stream",
     "text": [
      "Finished Epoch 17 || Run Time:    2.3 | Load Time:   19.9 || F1:  99.81 | Prec:  99.85 | Rec:  99.77 || Ex/s: 309.52\n",
      "\n",
      "---------------------\n",
      "\n",
      "===>  TRAIN Epoch 18\n"
     ]
    },
    {
     "name": "stderr",
     "output_type": "stream",
     "text": [
      "0% [█████████████████████] 100% | ETA: 00:00:00\n",
      "Total time elapsed: 00:00:34\n"
     ]
    },
    {
     "name": "stdout",
     "output_type": "stream",
     "text": [
      "Finished Epoch 18 || Run Time:    9.2 | Load Time:   25.7 || F1: 100.00 | Prec: 100.00 | Rec: 100.00 || Ex/s: 196.23\n",
      "\n",
      "===>  EVAL Epoch 18\n"
     ]
    },
    {
     "name": "stderr",
     "output_type": "stream",
     "text": [
      "0% [█████████████████████] 100% | ETA: 00:00:00\n",
      "Total time elapsed: 00:00:21\n"
     ]
    },
    {
     "name": "stdout",
     "output_type": "stream",
     "text": [
      "Finished Epoch 18 || Run Time:    2.3 | Load Time:   19.8 || F1:  99.81 | Prec:  99.85 | Rec:  99.77 || Ex/s: 310.15\n",
      "\n",
      "---------------------\n",
      "\n",
      "===>  TRAIN Epoch 19\n"
     ]
    },
    {
     "name": "stderr",
     "output_type": "stream",
     "text": [
      "0% [█████████████████████] 100% | ETA: 00:00:00\n",
      "Total time elapsed: 00:00:33\n"
     ]
    },
    {
     "name": "stdout",
     "output_type": "stream",
     "text": [
      "Finished Epoch 19 || Run Time:    9.1 | Load Time:   25.1 || F1: 100.00 | Prec: 100.00 | Rec: 100.00 || Ex/s: 200.68\n",
      "\n",
      "===>  EVAL Epoch 19\n"
     ]
    },
    {
     "name": "stderr",
     "output_type": "stream",
     "text": [
      "0% [█████████████████████] 100% | ETA: 00:00:00\n",
      "Total time elapsed: 00:00:21\n"
     ]
    },
    {
     "name": "stdout",
     "output_type": "stream",
     "text": [
      "Finished Epoch 19 || Run Time:    2.2 | Load Time:   19.5 || F1:  99.83 | Prec:  99.88 | Rec:  99.77 || Ex/s: 314.49\n",
      "\n",
      "---------------------\n",
      "\n",
      "===>  TRAIN Epoch 20\n"
     ]
    },
    {
     "name": "stderr",
     "output_type": "stream",
     "text": [
      "0% [█████████████████████] 100% | ETA: 00:00:00\n",
      "Total time elapsed: 00:00:37\n"
     ]
    },
    {
     "name": "stdout",
     "output_type": "stream",
     "text": [
      "Finished Epoch 20 || Run Time:    9.8 | Load Time:   28.5 || F1: 100.00 | Prec: 100.00 | Rec: 100.00 || Ex/s: 178.50\n",
      "\n",
      "===>  EVAL Epoch 20\n"
     ]
    },
    {
     "name": "stderr",
     "output_type": "stream",
     "text": [
      "0% [█████████████████████] 100% | ETA: 00:00:00\n",
      "Total time elapsed: 00:00:21\n"
     ]
    },
    {
     "name": "stdout",
     "output_type": "stream",
     "text": [
      "Finished Epoch 20 || Run Time:    2.2 | Load Time:   19.6 || F1:  99.83 | Prec:  99.88 | Rec:  99.77 || Ex/s: 312.84\n",
      "\n",
      "---------------------\n",
      "\n",
      "Loading best model...\n",
      "Training done.\n"
     ]
    },
    {
     "data": {
      "text/plain": [
       "tensor(99.8400, device='cuda:0')"
      ]
     },
     "execution_count": 4,
     "metadata": {},
     "output_type": "execute_result"
    }
   ],
   "source": [
    "model = dm.MatchingModel(attr_summarizer='rnn')\n",
    "model.run_train(train,valid,best_save_path='models/dblp_scholar_rnn.pth',epochs=20,batch_size=64)"
   ]
  },
  {
   "cell_type": "code",
   "execution_count": 19,
   "metadata": {
    "ExecuteTime": {
     "end_time": "2020-03-30T12:40:14.279348Z",
     "start_time": "2020-03-30T12:17:35.478649Z"
    }
   },
   "outputs": [
    {
     "name": "stdout",
     "output_type": "stream",
     "text": [
      "* Number of trainable parameters: 9210006\n",
      "===>  TRAIN Epoch 1\n"
     ]
    },
    {
     "name": "stderr",
     "output_type": "stream",
     "text": [
      "/home/nvidia/anaconda3/envs/testenv/lib/python3.8/site-packages/torch/nn/functional.py:1958: UserWarning: reduction: 'mean' divides the total loss by both the batch size and the support size.'batchmean' divides only by the batch size, and aligns with the KL div math definition.'mean' will be changed to behave the same as 'batchmean' in the next major release.\n",
      "  warnings.warn(\"reduction: 'mean' divides the total loss by both the batch size and the support size.\"\n",
      "0% [█████████████████████] 100% | ETA: 00:00:00\n",
      "Total time elapsed: 00:01:01\n"
     ]
    },
    {
     "name": "stdout",
     "output_type": "stream",
     "text": [
      "Finished Epoch 1 || Run Time:   34.6 | Load Time:   28.1 || F1:  91.28 | Prec:  92.39 | Rec:  90.19 || Ex/s: 109.08\n",
      "\n",
      "===>  EVAL Epoch 1\n"
     ]
    },
    {
     "name": "stderr",
     "output_type": "stream",
     "text": [
      "0% [█████] 100% | ETA: 00:00:00\n",
      "Total time elapsed: 00:00:06\n"
     ]
    },
    {
     "name": "stdout",
     "output_type": "stream",
     "text": [
      "Finished Epoch 1 || Run Time:    2.1 | Load Time:    4.9 || F1:  99.28 | Prec:  98.90 | Rec:  99.67 || Ex/s: 244.70\n",
      "\n",
      "* Best F1: tensor(99.2790, device='cuda:0')\n",
      "Saving best model...\n",
      "Done.\n",
      "---------------------\n",
      "\n",
      "===>  TRAIN Epoch 2\n"
     ]
    },
    {
     "name": "stderr",
     "output_type": "stream",
     "text": [
      "0% [█████████████████████] 100% | ETA: 00:00:00\n",
      "Total time elapsed: 00:01:00\n"
     ]
    },
    {
     "name": "stdout",
     "output_type": "stream",
     "text": [
      "Finished Epoch 2 || Run Time:   34.2 | Load Time:   27.5 || F1:  99.66 | Prec:  99.64 | Rec:  99.67 || Ex/s: 111.01\n",
      "\n",
      "===>  EVAL Epoch 2\n"
     ]
    },
    {
     "name": "stderr",
     "output_type": "stream",
     "text": [
      "0% [█████] 100% | ETA: 00:00:00\n",
      "Total time elapsed: 00:00:06\n"
     ]
    },
    {
     "name": "stdout",
     "output_type": "stream",
     "text": [
      "Finished Epoch 2 || Run Time:    2.1 | Load Time:    4.9 || F1:  99.67 | Prec:  99.78 | Rec:  99.55 || Ex/s: 245.89\n",
      "\n",
      "* Best F1: tensor(99.6655, device='cuda:0')\n",
      "Saving best model...\n",
      "Done.\n",
      "---------------------\n",
      "\n",
      "===>  TRAIN Epoch 3\n"
     ]
    },
    {
     "name": "stderr",
     "output_type": "stream",
     "text": [
      "0% [█████████████████████] 100% | ETA: 00:00:00\n",
      "Total time elapsed: 00:01:00\n"
     ]
    },
    {
     "name": "stdout",
     "output_type": "stream",
     "text": [
      "Finished Epoch 3 || Run Time:   34.1 | Load Time:   27.4 || F1:  99.87 | Prec:  99.91 | Rec:  99.82 || Ex/s: 111.21\n",
      "\n",
      "===>  EVAL Epoch 3\n"
     ]
    },
    {
     "name": "stderr",
     "output_type": "stream",
     "text": [
      "0% [█████] 100% | ETA: 00:00:00\n",
      "Total time elapsed: 00:00:06\n"
     ]
    },
    {
     "name": "stdout",
     "output_type": "stream",
     "text": [
      "Finished Epoch 3 || Run Time:    2.1 | Load Time:    4.8 || F1:  99.72 | Prec:  99.78 | Rec:  99.67 || Ex/s: 246.68\n",
      "\n",
      "* Best F1: tensor(99.7214, device='cuda:0')\n",
      "Saving best model...\n",
      "Done.\n",
      "---------------------\n",
      "\n",
      "===>  TRAIN Epoch 4\n"
     ]
    },
    {
     "name": "stderr",
     "output_type": "stream",
     "text": [
      "0% [█████████████████████] 100% | ETA: 00:00:00\n",
      "Total time elapsed: 00:00:59\n"
     ]
    },
    {
     "name": "stdout",
     "output_type": "stream",
     "text": [
      "Finished Epoch 4 || Run Time:   34.0 | Load Time:   27.1 || F1:  99.93 | Prec:  99.94 | Rec:  99.91 || Ex/s: 112.01\n",
      "\n",
      "===>  EVAL Epoch 4\n"
     ]
    },
    {
     "name": "stderr",
     "output_type": "stream",
     "text": [
      "0% [█████] 100% | ETA: 00:00:00\n",
      "Total time elapsed: 00:00:06\n"
     ]
    },
    {
     "name": "stdout",
     "output_type": "stream",
     "text": [
      "Finished Epoch 4 || Run Time:    2.1 | Load Time:    4.8 || F1:  99.89 | Prec:  99.89 | Rec:  99.89 || Ex/s: 246.74\n",
      "\n",
      "* Best F1: tensor(99.8886, device='cuda:0')\n",
      "Saving best model...\n",
      "Done.\n",
      "---------------------\n",
      "\n",
      "===>  TRAIN Epoch 5\n"
     ]
    },
    {
     "name": "stderr",
     "output_type": "stream",
     "text": [
      "0% [█████████████████████] 100% | ETA: 00:00:00\n",
      "Total time elapsed: 00:01:00\n"
     ]
    },
    {
     "name": "stdout",
     "output_type": "stream",
     "text": [
      "Finished Epoch 5 || Run Time:   34.5 | Load Time:   27.6 || F1:  99.97 | Prec: 100.00 | Rec:  99.94 || Ex/s: 110.19\n",
      "\n",
      "===>  EVAL Epoch 5\n"
     ]
    },
    {
     "name": "stderr",
     "output_type": "stream",
     "text": [
      "0% [█████] 100% | ETA: 00:00:00\n",
      "Total time elapsed: 00:00:06\n"
     ]
    },
    {
     "name": "stdout",
     "output_type": "stream",
     "text": [
      "Finished Epoch 5 || Run Time:    2.1 | Load Time:    4.8 || F1:  99.89 | Prec:  99.78 | Rec: 100.00 || Ex/s: 246.64\n",
      "\n",
      "* Best F1: tensor(99.8888, device='cuda:0')\n",
      "Saving best model...\n",
      "Done.\n",
      "---------------------\n",
      "\n",
      "===>  TRAIN Epoch 6\n"
     ]
    },
    {
     "name": "stderr",
     "output_type": "stream",
     "text": [
      "0% [█████████████████████] 100% | ETA: 00:00:00\n",
      "Total time elapsed: 00:01:00\n"
     ]
    },
    {
     "name": "stdout",
     "output_type": "stream",
     "text": [
      "Finished Epoch 6 || Run Time:   34.6 | Load Time:   27.8 || F1: 100.00 | Prec: 100.00 | Rec: 100.00 || Ex/s: 109.82\n",
      "\n",
      "===>  EVAL Epoch 6\n"
     ]
    },
    {
     "name": "stderr",
     "output_type": "stream",
     "text": [
      "0% [█████] 100% | ETA: 00:00:00\n",
      "Total time elapsed: 00:00:06\n"
     ]
    },
    {
     "name": "stdout",
     "output_type": "stream",
     "text": [
      "Finished Epoch 6 || Run Time:    2.1 | Load Time:    4.8 || F1:  99.89 | Prec:  99.78 | Rec: 100.00 || Ex/s: 247.24\n",
      "\n",
      "---------------------\n",
      "\n",
      "===>  TRAIN Epoch 7\n"
     ]
    },
    {
     "name": "stderr",
     "output_type": "stream",
     "text": [
      "0% [█████████████████████] 100% | ETA: 00:00:00\n",
      "Total time elapsed: 00:00:58\n"
     ]
    },
    {
     "name": "stdout",
     "output_type": "stream",
     "text": [
      "Finished Epoch 7 || Run Time:   33.5 | Load Time:   26.3 || F1: 100.00 | Prec: 100.00 | Rec: 100.00 || Ex/s: 114.59\n",
      "\n",
      "===>  EVAL Epoch 7\n"
     ]
    },
    {
     "name": "stderr",
     "output_type": "stream",
     "text": [
      "0% [█████] 100% | ETA: 00:00:00\n",
      "Total time elapsed: 00:00:06\n"
     ]
    },
    {
     "name": "stdout",
     "output_type": "stream",
     "text": [
      "Finished Epoch 7 || Run Time:    2.1 | Load Time:    4.8 || F1:  99.83 | Prec:  99.78 | Rec:  99.89 || Ex/s: 247.09\n",
      "\n",
      "---------------------\n",
      "\n",
      "===>  TRAIN Epoch 8\n"
     ]
    },
    {
     "name": "stderr",
     "output_type": "stream",
     "text": [
      "0% [█████████████████████] 100% | ETA: 00:00:00\n",
      "Total time elapsed: 00:00:58\n"
     ]
    },
    {
     "name": "stdout",
     "output_type": "stream",
     "text": [
      "Finished Epoch 8 || Run Time:   33.5 | Load Time:   26.3 || F1: 100.00 | Prec: 100.00 | Rec: 100.00 || Ex/s: 114.56\n",
      "\n",
      "===>  EVAL Epoch 8\n"
     ]
    },
    {
     "name": "stderr",
     "output_type": "stream",
     "text": [
      "0% [█████] 100% | ETA: 00:00:00\n",
      "Total time elapsed: 00:00:06\n"
     ]
    },
    {
     "name": "stdout",
     "output_type": "stream",
     "text": [
      "Finished Epoch 8 || Run Time:    2.1 | Load Time:    4.8 || F1:  99.83 | Prec:  99.78 | Rec:  99.89 || Ex/s: 249.01\n",
      "\n",
      "---------------------\n",
      "\n",
      "===>  TRAIN Epoch 9\n"
     ]
    },
    {
     "name": "stderr",
     "output_type": "stream",
     "text": [
      "0% [█████████████████████] 100% | ETA: 00:00:00\n",
      "Total time elapsed: 00:00:55\n"
     ]
    },
    {
     "name": "stdout",
     "output_type": "stream",
     "text": [
      "Finished Epoch 9 || Run Time:   32.1 | Load Time:   24.4 || F1: 100.00 | Prec: 100.00 | Rec: 100.00 || Ex/s: 121.18\n",
      "\n",
      "===>  EVAL Epoch 9\n"
     ]
    },
    {
     "name": "stderr",
     "output_type": "stream",
     "text": [
      "0% [█████] 100% | ETA: 00:00:00\n",
      "Total time elapsed: 00:00:06\n"
     ]
    },
    {
     "name": "stdout",
     "output_type": "stream",
     "text": [
      "Finished Epoch 9 || Run Time:    2.1 | Load Time:    4.8 || F1:  99.83 | Prec:  99.78 | Rec:  99.89 || Ex/s: 247.81\n",
      "\n",
      "---------------------\n",
      "\n",
      "===>  TRAIN Epoch 10\n"
     ]
    },
    {
     "name": "stderr",
     "output_type": "stream",
     "text": [
      "0% [█████████████████████] 100% | ETA: 00:00:00\n",
      "Total time elapsed: 00:00:54\n"
     ]
    },
    {
     "name": "stdout",
     "output_type": "stream",
     "text": [
      "Finished Epoch 10 || Run Time:   31.9 | Load Time:   24.0 || F1: 100.00 | Prec: 100.00 | Rec: 100.00 || Ex/s: 122.36\n",
      "\n",
      "===>  EVAL Epoch 10\n"
     ]
    },
    {
     "name": "stderr",
     "output_type": "stream",
     "text": [
      "0% [█████] 100% | ETA: 00:00:00\n",
      "Total time elapsed: 00:00:06\n"
     ]
    },
    {
     "name": "stdout",
     "output_type": "stream",
     "text": [
      "Finished Epoch 10 || Run Time:    2.1 | Load Time:    4.8 || F1:  99.83 | Prec:  99.78 | Rec:  99.89 || Ex/s: 248.55\n",
      "\n",
      "---------------------\n",
      "\n",
      "===>  TRAIN Epoch 11\n"
     ]
    },
    {
     "name": "stderr",
     "output_type": "stream",
     "text": [
      "0% [█████████████████████] 100% | ETA: 00:00:00\n",
      "Total time elapsed: 00:01:00\n"
     ]
    },
    {
     "name": "stdout",
     "output_type": "stream",
     "text": [
      "Finished Epoch 11 || Run Time:   34.4 | Load Time:   27.5 || F1: 100.00 | Prec: 100.00 | Rec: 100.00 || Ex/s: 110.57\n",
      "\n",
      "===>  EVAL Epoch 11\n"
     ]
    },
    {
     "name": "stderr",
     "output_type": "stream",
     "text": [
      "0% [█████] 100% | ETA: 00:00:00\n",
      "Total time elapsed: 00:00:06\n"
     ]
    },
    {
     "name": "stdout",
     "output_type": "stream",
     "text": [
      "Finished Epoch 11 || Run Time:    2.1 | Load Time:    4.9 || F1:  99.83 | Prec:  99.78 | Rec:  99.89 || Ex/s: 245.81\n",
      "\n",
      "---------------------\n",
      "\n",
      "===>  TRAIN Epoch 12\n"
     ]
    },
    {
     "name": "stderr",
     "output_type": "stream",
     "text": [
      "0% [█████████████████████] 100% | ETA: 00:00:00\n",
      "Total time elapsed: 00:00:59\n"
     ]
    },
    {
     "name": "stdout",
     "output_type": "stream",
     "text": [
      "Finished Epoch 12 || Run Time:   33.8 | Load Time:   26.7 || F1: 100.00 | Prec: 100.00 | Rec: 100.00 || Ex/s: 113.15\n",
      "\n",
      "===>  EVAL Epoch 12\n"
     ]
    },
    {
     "name": "stderr",
     "output_type": "stream",
     "text": [
      "0% [█████] 100% | ETA: 00:00:00\n",
      "Total time elapsed: 00:00:06\n"
     ]
    },
    {
     "name": "stdout",
     "output_type": "stream",
     "text": [
      "Finished Epoch 12 || Run Time:    2.1 | Load Time:    4.8 || F1:  99.83 | Prec:  99.78 | Rec:  99.89 || Ex/s: 247.60\n",
      "\n",
      "---------------------\n",
      "\n",
      "===>  TRAIN Epoch 13\n"
     ]
    },
    {
     "name": "stderr",
     "output_type": "stream",
     "text": [
      "0% [█████████████████████] 100% | ETA: 00:00:00\n",
      "Total time elapsed: 00:00:58\n"
     ]
    },
    {
     "name": "stdout",
     "output_type": "stream",
     "text": [
      "Finished Epoch 13 || Run Time:   33.6 | Load Time:   26.4 || F1: 100.00 | Prec: 100.00 | Rec: 100.00 || Ex/s: 114.16\n",
      "\n",
      "===>  EVAL Epoch 13\n"
     ]
    },
    {
     "name": "stderr",
     "output_type": "stream",
     "text": [
      "0% [█████] 100% | ETA: 00:00:00\n",
      "Total time elapsed: 00:00:06\n"
     ]
    },
    {
     "name": "stdout",
     "output_type": "stream",
     "text": [
      "Finished Epoch 13 || Run Time:    2.1 | Load Time:    4.8 || F1:  99.83 | Prec:  99.78 | Rec:  99.89 || Ex/s: 247.42\n",
      "\n",
      "---------------------\n",
      "\n",
      "===>  TRAIN Epoch 14\n"
     ]
    },
    {
     "name": "stderr",
     "output_type": "stream",
     "text": [
      "0% [█████████████████████] 100% | ETA: 00:00:00\n",
      "Total time elapsed: 00:00:59\n"
     ]
    },
    {
     "name": "stdout",
     "output_type": "stream",
     "text": [
      "Finished Epoch 14 || Run Time:   34.1 | Load Time:   27.1 || F1: 100.00 | Prec: 100.00 | Rec: 100.00 || Ex/s: 111.80\n",
      "\n",
      "===>  EVAL Epoch 14\n"
     ]
    },
    {
     "name": "stderr",
     "output_type": "stream",
     "text": [
      "0% [█████] 100% | ETA: 00:00:00\n",
      "Total time elapsed: 00:00:06\n"
     ]
    },
    {
     "name": "stdout",
     "output_type": "stream",
     "text": [
      "Finished Epoch 14 || Run Time:    2.1 | Load Time:    4.8 || F1:  99.83 | Prec:  99.78 | Rec:  99.89 || Ex/s: 247.40\n",
      "\n",
      "---------------------\n",
      "\n",
      "===>  TRAIN Epoch 15\n"
     ]
    },
    {
     "name": "stderr",
     "output_type": "stream",
     "text": [
      "0% [█████████████████████] 100% | ETA: 00:00:00\n",
      "Total time elapsed: 00:01:00\n"
     ]
    },
    {
     "name": "stdout",
     "output_type": "stream",
     "text": [
      "Finished Epoch 15 || Run Time:   34.3 | Load Time:   27.3 || F1: 100.00 | Prec: 100.00 | Rec: 100.00 || Ex/s: 111.11\n",
      "\n",
      "===>  EVAL Epoch 15\n"
     ]
    },
    {
     "name": "stderr",
     "output_type": "stream",
     "text": [
      "0% [█████] 100% | ETA: 00:00:00\n",
      "Total time elapsed: 00:00:06\n"
     ]
    },
    {
     "name": "stdout",
     "output_type": "stream",
     "text": [
      "Finished Epoch 15 || Run Time:    2.1 | Load Time:    4.8 || F1:  99.83 | Prec:  99.78 | Rec:  99.89 || Ex/s: 247.45\n",
      "\n",
      "---------------------\n",
      "\n",
      "===>  TRAIN Epoch 16\n"
     ]
    },
    {
     "name": "stderr",
     "output_type": "stream",
     "text": [
      "0% [█████████████████████] 100% | ETA: 00:00:00\n",
      "Total time elapsed: 00:00:59\n"
     ]
    },
    {
     "name": "stdout",
     "output_type": "stream",
     "text": [
      "Finished Epoch 16 || Run Time:   33.7 | Load Time:   26.7 || F1: 100.00 | Prec: 100.00 | Rec: 100.00 || Ex/s: 113.30\n",
      "\n",
      "===>  EVAL Epoch 16\n"
     ]
    },
    {
     "name": "stderr",
     "output_type": "stream",
     "text": [
      "0% [█████] 100% | ETA: 00:00:00\n",
      "Total time elapsed: 00:00:06\n"
     ]
    },
    {
     "name": "stdout",
     "output_type": "stream",
     "text": [
      "Finished Epoch 16 || Run Time:    2.1 | Load Time:    4.8 || F1:  99.83 | Prec:  99.78 | Rec:  99.89 || Ex/s: 247.45\n",
      "\n",
      "---------------------\n",
      "\n",
      "===>  TRAIN Epoch 17\n"
     ]
    },
    {
     "name": "stderr",
     "output_type": "stream",
     "text": [
      "0% [█████████████████████] 100% | ETA: 00:00:00\n",
      "Total time elapsed: 00:01:00\n"
     ]
    },
    {
     "name": "stdout",
     "output_type": "stream",
     "text": [
      "Finished Epoch 17 || Run Time:   34.5 | Load Time:   27.7 || F1: 100.00 | Prec: 100.00 | Rec: 100.00 || Ex/s: 109.93\n",
      "\n",
      "===>  EVAL Epoch 17\n"
     ]
    },
    {
     "name": "stderr",
     "output_type": "stream",
     "text": [
      "0% [█████] 100% | ETA: 00:00:00\n",
      "Total time elapsed: 00:00:06\n"
     ]
    },
    {
     "name": "stdout",
     "output_type": "stream",
     "text": [
      "Finished Epoch 17 || Run Time:    2.1 | Load Time:    4.8 || F1:  99.83 | Prec:  99.78 | Rec:  99.89 || Ex/s: 248.33\n",
      "\n",
      "---------------------\n",
      "\n",
      "===>  TRAIN Epoch 18\n"
     ]
    },
    {
     "name": "stderr",
     "output_type": "stream",
     "text": [
      "0% [█████████████████████] 100% | ETA: 00:00:00\n",
      "Total time elapsed: 00:01:00\n"
     ]
    },
    {
     "name": "stdout",
     "output_type": "stream",
     "text": [
      "Finished Epoch 18 || Run Time:   34.5 | Load Time:   27.5 || F1: 100.00 | Prec: 100.00 | Rec: 100.00 || Ex/s: 110.38\n",
      "\n",
      "===>  EVAL Epoch 18\n"
     ]
    },
    {
     "name": "stderr",
     "output_type": "stream",
     "text": [
      "0% [█████] 100% | ETA: 00:00:00\n",
      "Total time elapsed: 00:00:06\n"
     ]
    },
    {
     "name": "stdout",
     "output_type": "stream",
     "text": [
      "Finished Epoch 18 || Run Time:    2.1 | Load Time:    4.8 || F1:  99.83 | Prec:  99.78 | Rec:  99.89 || Ex/s: 247.45\n",
      "\n",
      "---------------------\n",
      "\n",
      "===>  TRAIN Epoch 19\n"
     ]
    },
    {
     "name": "stderr",
     "output_type": "stream",
     "text": [
      "0% [█████████████████████] 100% | ETA: 00:00:00\n",
      "Total time elapsed: 00:01:00\n"
     ]
    },
    {
     "name": "stdout",
     "output_type": "stream",
     "text": [
      "Finished Epoch 19 || Run Time:   34.5 | Load Time:   27.7 || F1: 100.00 | Prec: 100.00 | Rec: 100.00 || Ex/s: 109.96\n",
      "\n",
      "===>  EVAL Epoch 19\n"
     ]
    },
    {
     "name": "stderr",
     "output_type": "stream",
     "text": [
      "0% [█████] 100% | ETA: 00:00:00\n",
      "Total time elapsed: 00:00:06\n"
     ]
    },
    {
     "name": "stdout",
     "output_type": "stream",
     "text": [
      "Finished Epoch 19 || Run Time:    2.1 | Load Time:    4.8 || F1:  99.83 | Prec:  99.78 | Rec:  99.89 || Ex/s: 247.79\n",
      "\n",
      "---------------------\n",
      "\n",
      "===>  TRAIN Epoch 20\n"
     ]
    },
    {
     "name": "stderr",
     "output_type": "stream",
     "text": [
      "0% [█████████████████████] 100% | ETA: 00:00:00\n",
      "Total time elapsed: 00:00:59\n"
     ]
    },
    {
     "name": "stdout",
     "output_type": "stream",
     "text": [
      "Finished Epoch 20 || Run Time:   34.0 | Load Time:   27.0 || F1: 100.00 | Prec: 100.00 | Rec: 100.00 || Ex/s: 112.05\n",
      "\n",
      "===>  EVAL Epoch 20\n"
     ]
    },
    {
     "name": "stderr",
     "output_type": "stream",
     "text": [
      "0% [█████] 100% | ETA: 00:00:00\n",
      "Total time elapsed: 00:00:06\n"
     ]
    },
    {
     "name": "stdout",
     "output_type": "stream",
     "text": [
      "Finished Epoch 20 || Run Time:    2.1 | Load Time:    4.8 || F1:  99.83 | Prec:  99.78 | Rec:  99.89 || Ex/s: 246.87\n",
      "\n",
      "---------------------\n",
      "\n",
      "Loading best model...\n",
      "Training done.\n"
     ]
    },
    {
     "data": {
      "text/plain": [
       "tensor(99.8888, device='cuda:0')"
      ]
     },
     "execution_count": 19,
     "metadata": {},
     "output_type": "execute_result"
    }
   ],
   "source": [
    "hybrid_model = dm.MatchingModel(attr_summarizer='hybrid')\n",
    "hybrid_model.run_train(train,valid,best_save_path='models/dblp_scholar_hybrid.pth',epochs=20,batch_size=64)"
   ]
  },
  {
   "cell_type": "code",
   "execution_count": 21,
   "metadata": {
    "ExecuteTime": {
     "end_time": "2020-03-30T12:41:10.869429Z",
     "start_time": "2020-03-30T12:41:00.622270Z"
    }
   },
   "outputs": [
    {
     "name": "stdout",
     "output_type": "stream",
     "text": [
      "===>  EVAL Epoch 5\n"
     ]
    },
    {
     "name": "stderr",
     "output_type": "stream",
     "text": [
      "0% [█████████████] 100% | ETA: 00:00:00\n",
      "Total time elapsed: 00:00:09\n"
     ]
    },
    {
     "name": "stdout",
     "output_type": "stream",
     "text": [
      "Finished Epoch 5 || Run Time:    4.8 | Load Time:    5.4 || F1:  99.59 | Prec:  99.27 | Rec:  99.91 || Ex/s: 209.29\n",
      "\n"
     ]
    },
    {
     "data": {
      "text/plain": [
       "tensor(99.5904, device='cuda:0')"
      ]
     },
     "execution_count": 21,
     "metadata": {},
     "output_type": "execute_result"
    }
   ],
   "source": [
    "hybrid_model.run_eval(test)"
   ]
  },
  {
   "cell_type": "code",
   "execution_count": 5,
   "metadata": {
    "ExecuteTime": {
     "end_time": "2020-03-27T10:47:49.714912Z",
     "start_time": "2020-03-27T10:47:42.401320Z"
    }
   },
   "outputs": [
    {
     "name": "stdout",
     "output_type": "stream",
     "text": [
      "===>  EVAL Epoch 4\n"
     ]
    },
    {
     "name": "stderr",
     "output_type": "stream",
     "text": [
      "0% [█████████████] 100% | ETA: 00:00:00\n",
      "Total time elapsed: 00:00:07\n"
     ]
    },
    {
     "name": "stdout",
     "output_type": "stream",
     "text": [
      "Finished Epoch 4 || Run Time:    1.4 | Load Time:    5.9 || F1:  99.22 | Prec:  99.36 | Rec:  99.09 || Ex/s: 292.92\n",
      "\n"
     ]
    },
    {
     "data": {
      "text/plain": [
       "tensor(99.2227, device='cuda:0')"
      ]
     },
     "execution_count": 5,
     "metadata": {},
     "output_type": "execute_result"
    }
   ],
   "source": [
    "model.run_eval(test)"
   ]
  },
  {
   "cell_type": "markdown",
   "metadata": {},
   "source": [
    "## Geographical-settlements"
   ]
  },
  {
   "cell_type": "code",
   "execution_count": 2,
   "metadata": {
    "ExecuteTime": {
     "end_time": "2020-06-06T10:52:13.981758Z",
     "start_time": "2020-06-06T10:52:13.597763Z"
    }
   },
   "outputs": [],
   "source": [
    "train,valid,test = dm.data.process('datasets/GeographicSettlements/',train='train.csv',validation='validation.csv',\n",
    "                                   test='test.csv',left_prefix='ltable_',right_prefix='rtable_')"
   ]
  },
  {
   "cell_type": "code",
   "execution_count": 3,
   "metadata": {
    "ExecuteTime": {
     "end_time": "2020-06-06T10:52:14.622179Z",
     "start_time": "2020-06-06T10:52:14.617816Z"
    }
   },
   "outputs": [],
   "source": [
    "rnn_model = dm.MatchingModel(attr_summarizer='rnn')"
   ]
  },
  {
   "cell_type": "code",
   "execution_count": 4,
   "metadata": {
    "ExecuteTime": {
     "end_time": "2020-06-06T11:02:19.737493Z",
     "start_time": "2020-06-06T10:52:15.199717Z"
    }
   },
   "outputs": [
    {
     "name": "stdout",
     "output_type": "stream",
     "text": [
      "* Number of trainable parameters: 2576402\n",
      "===>  TRAIN Epoch 1\n"
     ]
    },
    {
     "name": "stderr",
     "output_type": "stream",
     "text": [
      "/home/nvidia/anaconda3/envs/testenv/lib/python3.8/site-packages/torch/nn/functional.py:1958: UserWarning: reduction: 'mean' divides the total loss by both the batch size and the support size.'batchmean' divides only by the batch size, and aligns with the KL div math definition.'mean' will be changed to behave the same as 'batchmean' in the next major release.\n",
      "  warnings.warn(\"reduction: 'mean' divides the total loss by both the batch size and the support size.\"\n",
      "0% [██████████████████████████████] 100% | ETA: 00:00:00\n",
      "Total time elapsed: 00:00:27\n"
     ]
    },
    {
     "name": "stdout",
     "output_type": "stream",
     "text": [
      "Finished Epoch 1 || Run Time:   18.1 | Load Time:    9.9 || F1:  94.07 | Prec:  94.73 | Rec:  93.42 || Ex/s: 200.60\n",
      "\n",
      "===>  EVAL Epoch 1\n"
     ]
    },
    {
     "name": "stderr",
     "output_type": "stream",
     "text": [
      "0% [████████] 100% | ETA: 00:00:00\n",
      "Total time elapsed: 00:00:02\n"
     ]
    },
    {
     "name": "stdout",
     "output_type": "stream",
     "text": [
      "Finished Epoch 1 || Run Time:    1.0 | Load Time:    1.7 || F1:  99.37 | Prec:  99.30 | Rec:  99.44 || Ex/s: 519.41\n",
      "\n",
      "* Best F1: tensor(99.3737, device='cuda:0')\n",
      "Saving best model...\n",
      "Done.\n",
      "---------------------\n",
      "\n",
      "===>  TRAIN Epoch 2\n"
     ]
    },
    {
     "name": "stderr",
     "output_type": "stream",
     "text": [
      "0% [██████████████████████████████] 100% | ETA: 00:00:00\n",
      "Total time elapsed: 00:00:26\n"
     ]
    },
    {
     "name": "stdout",
     "output_type": "stream",
     "text": [
      "Finished Epoch 2 || Run Time:   17.4 | Load Time:    9.7 || F1:  99.77 | Prec:  99.72 | Rec:  99.82 || Ex/s: 207.24\n",
      "\n",
      "===>  EVAL Epoch 2\n"
     ]
    },
    {
     "name": "stderr",
     "output_type": "stream",
     "text": [
      "0% [████████] 100% | ETA: 00:00:00\n",
      "Total time elapsed: 00:00:02\n"
     ]
    },
    {
     "name": "stdout",
     "output_type": "stream",
     "text": [
      "Finished Epoch 2 || Run Time:    1.0 | Load Time:    1.7 || F1:  99.44 | Prec:  99.31 | Rec:  99.58 || Ex/s: 525.80\n",
      "\n",
      "* Best F1: tensor(99.4437, device='cuda:0')\n",
      "Saving best model...\n",
      "Done.\n",
      "---------------------\n",
      "\n",
      "===>  TRAIN Epoch 3\n"
     ]
    },
    {
     "name": "stderr",
     "output_type": "stream",
     "text": [
      "0% [██████████████████████████████] 100% | ETA: 00:00:00\n",
      "Total time elapsed: 00:00:27\n"
     ]
    },
    {
     "name": "stdout",
     "output_type": "stream",
     "text": [
      "Finished Epoch 3 || Run Time:   17.5 | Load Time:    9.8 || F1:  99.93 | Prec:  99.86 | Rec: 100.00 || Ex/s: 206.04\n",
      "\n",
      "===>  EVAL Epoch 3\n"
     ]
    },
    {
     "name": "stderr",
     "output_type": "stream",
     "text": [
      "0% [████████] 100% | ETA: 00:00:00\n",
      "Total time elapsed: 00:00:02\n"
     ]
    },
    {
     "name": "stdout",
     "output_type": "stream",
     "text": [
      "Finished Epoch 3 || Run Time:    1.0 | Load Time:    1.7 || F1:  99.31 | Prec:  98.90 | Rec:  99.72 || Ex/s: 526.36\n",
      "\n",
      "---------------------\n",
      "\n",
      "===>  TRAIN Epoch 4\n"
     ]
    },
    {
     "name": "stderr",
     "output_type": "stream",
     "text": [
      "0% [██████████████████████████████] 100% | ETA: 00:00:00\n",
      "Total time elapsed: 00:00:27\n"
     ]
    },
    {
     "name": "stdout",
     "output_type": "stream",
     "text": [
      "Finished Epoch 4 || Run Time:   17.5 | Load Time:    9.8 || F1:  99.91 | Prec:  99.86 | Rec:  99.96 || Ex/s: 206.02\n",
      "\n",
      "===>  EVAL Epoch 4\n"
     ]
    },
    {
     "name": "stderr",
     "output_type": "stream",
     "text": [
      "0% [████████] 100% | ETA: 00:00:00\n",
      "Total time elapsed: 00:00:02\n"
     ]
    },
    {
     "name": "stdout",
     "output_type": "stream",
     "text": [
      "Finished Epoch 4 || Run Time:    1.0 | Load Time:    1.7 || F1:  99.24 | Prec:  98.89 | Rec:  99.58 || Ex/s: 526.07\n",
      "\n",
      "---------------------\n",
      "\n",
      "===>  TRAIN Epoch 5\n"
     ]
    },
    {
     "name": "stderr",
     "output_type": "stream",
     "text": [
      "0% [██████████████████████████████] 100% | ETA: 00:00:00\n",
      "Total time elapsed: 00:00:27\n"
     ]
    },
    {
     "name": "stdout",
     "output_type": "stream",
     "text": [
      "Finished Epoch 5 || Run Time:   17.6 | Load Time:    9.8 || F1:  99.95 | Prec:  99.89 | Rec: 100.00 || Ex/s: 205.06\n",
      "\n",
      "===>  EVAL Epoch 5\n"
     ]
    },
    {
     "name": "stderr",
     "output_type": "stream",
     "text": [
      "0% [████████] 100% | ETA: 00:00:00\n",
      "Total time elapsed: 00:00:02\n"
     ]
    },
    {
     "name": "stdout",
     "output_type": "stream",
     "text": [
      "Finished Epoch 5 || Run Time:    1.0 | Load Time:    1.7 || F1:  99.24 | Prec:  98.89 | Rec:  99.58 || Ex/s: 524.71\n",
      "\n",
      "---------------------\n",
      "\n",
      "===>  TRAIN Epoch 6\n"
     ]
    },
    {
     "name": "stderr",
     "output_type": "stream",
     "text": [
      "0% [██████████████████████████████] 100% | ETA: 00:00:00\n",
      "Total time elapsed: 00:00:26\n"
     ]
    },
    {
     "name": "stdout",
     "output_type": "stream",
     "text": [
      "Finished Epoch 6 || Run Time:   17.5 | Load Time:    9.7 || F1:  99.95 | Prec:  99.89 | Rec: 100.00 || Ex/s: 206.77\n",
      "\n",
      "===>  EVAL Epoch 6\n"
     ]
    },
    {
     "name": "stderr",
     "output_type": "stream",
     "text": [
      "0% [████████] 100% | ETA: 00:00:00\n",
      "Total time elapsed: 00:00:02\n"
     ]
    },
    {
     "name": "stdout",
     "output_type": "stream",
     "text": [
      "Finished Epoch 6 || Run Time:    1.0 | Load Time:    1.7 || F1:  99.17 | Prec:  98.76 | Rec:  99.58 || Ex/s: 528.09\n",
      "\n",
      "---------------------\n",
      "\n",
      "===>  TRAIN Epoch 7\n"
     ]
    },
    {
     "name": "stderr",
     "output_type": "stream",
     "text": [
      "0% [██████████████████████████████] 100% | ETA: 00:00:00\n",
      "Total time elapsed: 00:00:26\n"
     ]
    },
    {
     "name": "stdout",
     "output_type": "stream",
     "text": [
      "Finished Epoch 7 || Run Time:   17.5 | Load Time:    9.7 || F1:  99.95 | Prec:  99.89 | Rec: 100.00 || Ex/s: 207.07\n",
      "\n",
      "===>  EVAL Epoch 7\n"
     ]
    },
    {
     "name": "stderr",
     "output_type": "stream",
     "text": [
      "0% [████████] 100% | ETA: 00:00:00\n",
      "Total time elapsed: 00:00:02\n"
     ]
    },
    {
     "name": "stdout",
     "output_type": "stream",
     "text": [
      "Finished Epoch 7 || Run Time:    1.0 | Load Time:    1.7 || F1:  99.17 | Prec:  98.76 | Rec:  99.58 || Ex/s: 532.48\n",
      "\n",
      "---------------------\n",
      "\n",
      "===>  TRAIN Epoch 8\n"
     ]
    },
    {
     "name": "stderr",
     "output_type": "stream",
     "text": [
      "0% [██████████████████████████████] 100% | ETA: 00:00:00\n",
      "Total time elapsed: 00:00:26\n"
     ]
    },
    {
     "name": "stdout",
     "output_type": "stream",
     "text": [
      "Finished Epoch 8 || Run Time:   17.4 | Load Time:    9.7 || F1:  99.95 | Prec:  99.89 | Rec: 100.00 || Ex/s: 207.44\n",
      "\n",
      "===>  EVAL Epoch 8\n"
     ]
    },
    {
     "name": "stderr",
     "output_type": "stream",
     "text": [
      "0% [████████] 100% | ETA: 00:00:00\n",
      "Total time elapsed: 00:00:02\n"
     ]
    },
    {
     "name": "stdout",
     "output_type": "stream",
     "text": [
      "Finished Epoch 8 || Run Time:    1.0 | Load Time:    1.7 || F1:  99.17 | Prec:  98.76 | Rec:  99.58 || Ex/s: 530.25\n",
      "\n",
      "---------------------\n",
      "\n",
      "===>  TRAIN Epoch 9\n"
     ]
    },
    {
     "name": "stderr",
     "output_type": "stream",
     "text": [
      "0% [██████████████████████████████] 100% | ETA: 00:00:00\n",
      "Total time elapsed: 00:00:26\n"
     ]
    },
    {
     "name": "stdout",
     "output_type": "stream",
     "text": [
      "Finished Epoch 9 || Run Time:   17.5 | Load Time:    9.7 || F1:  99.95 | Prec:  99.89 | Rec: 100.00 || Ex/s: 206.92\n",
      "\n",
      "===>  EVAL Epoch 9\n"
     ]
    },
    {
     "name": "stderr",
     "output_type": "stream",
     "text": [
      "0% [████████] 100% | ETA: 00:00:00\n",
      "Total time elapsed: 00:00:02\n"
     ]
    },
    {
     "name": "stdout",
     "output_type": "stream",
     "text": [
      "Finished Epoch 9 || Run Time:    1.0 | Load Time:    1.7 || F1:  99.17 | Prec:  98.76 | Rec:  99.58 || Ex/s: 534.05\n",
      "\n",
      "---------------------\n",
      "\n",
      "===>  TRAIN Epoch 10\n"
     ]
    },
    {
     "name": "stderr",
     "output_type": "stream",
     "text": [
      "0% [██████████████████████████████] 100% | ETA: 00:00:00\n",
      "Total time elapsed: 00:00:27\n"
     ]
    },
    {
     "name": "stdout",
     "output_type": "stream",
     "text": [
      "Finished Epoch 10 || Run Time:   17.9 | Load Time:    9.9 || F1:  99.95 | Prec:  99.89 | Rec: 100.00 || Ex/s: 202.01\n",
      "\n",
      "===>  EVAL Epoch 10\n"
     ]
    },
    {
     "name": "stderr",
     "output_type": "stream",
     "text": [
      "0% [████████] 100% | ETA: 00:00:00\n",
      "Total time elapsed: 00:00:02\n"
     ]
    },
    {
     "name": "stdout",
     "output_type": "stream",
     "text": [
      "Finished Epoch 10 || Run Time:    1.0 | Load Time:    1.6 || F1:  99.17 | Prec:  98.76 | Rec:  99.58 || Ex/s: 541.11\n",
      "\n",
      "---------------------\n",
      "\n",
      "===>  TRAIN Epoch 11\n"
     ]
    },
    {
     "name": "stderr",
     "output_type": "stream",
     "text": [
      "0% [██████████████████████████████] 100% | ETA: 00:00:00\n",
      "Total time elapsed: 00:00:27\n"
     ]
    },
    {
     "name": "stdout",
     "output_type": "stream",
     "text": [
      "Finished Epoch 11 || Run Time:   18.0 | Load Time:    9.9 || F1:  99.95 | Prec:  99.89 | Rec: 100.00 || Ex/s: 201.87\n",
      "\n",
      "===>  EVAL Epoch 11\n"
     ]
    },
    {
     "name": "stderr",
     "output_type": "stream",
     "text": [
      "0% [████████] 100% | ETA: 00:00:00\n",
      "Total time elapsed: 00:00:02\n"
     ]
    },
    {
     "name": "stdout",
     "output_type": "stream",
     "text": [
      "Finished Epoch 11 || Run Time:    1.0 | Load Time:    1.7 || F1:  99.17 | Prec:  98.76 | Rec:  99.58 || Ex/s: 530.85\n",
      "\n",
      "---------------------\n",
      "\n",
      "===>  TRAIN Epoch 12\n"
     ]
    },
    {
     "name": "stderr",
     "output_type": "stream",
     "text": [
      "0% [██████████████████████████████] 100% | ETA: 00:00:00\n",
      "Total time elapsed: 00:00:26\n"
     ]
    },
    {
     "name": "stdout",
     "output_type": "stream",
     "text": [
      "Finished Epoch 12 || Run Time:   17.5 | Load Time:    9.7 || F1:  99.95 | Prec:  99.89 | Rec: 100.00 || Ex/s: 206.48\n",
      "\n",
      "===>  EVAL Epoch 12\n"
     ]
    },
    {
     "name": "stderr",
     "output_type": "stream",
     "text": [
      "0% [████████] 100% | ETA: 00:00:00\n",
      "Total time elapsed: 00:00:02\n"
     ]
    },
    {
     "name": "stdout",
     "output_type": "stream",
     "text": [
      "Finished Epoch 12 || Run Time:    1.0 | Load Time:    1.7 || F1:  99.17 | Prec:  98.76 | Rec:  99.58 || Ex/s: 528.81\n",
      "\n",
      "---------------------\n",
      "\n",
      "===>  TRAIN Epoch 13\n"
     ]
    },
    {
     "name": "stderr",
     "output_type": "stream",
     "text": [
      "0% [██████████████████████████████] 100% | ETA: 00:00:00\n",
      "Total time elapsed: 00:00:27\n"
     ]
    },
    {
     "name": "stdout",
     "output_type": "stream",
     "text": [
      "Finished Epoch 13 || Run Time:   18.0 | Load Time:   10.1 || F1:  99.95 | Prec:  99.89 | Rec: 100.00 || Ex/s: 199.93\n",
      "\n",
      "===>  EVAL Epoch 13\n"
     ]
    },
    {
     "name": "stderr",
     "output_type": "stream",
     "text": [
      "0% [████████] 100% | ETA: 00:00:00\n",
      "Total time elapsed: 00:00:02\n"
     ]
    },
    {
     "name": "stdout",
     "output_type": "stream",
     "text": [
      "Finished Epoch 13 || Run Time:    1.0 | Load Time:    1.7 || F1:  99.17 | Prec:  98.76 | Rec:  99.58 || Ex/s: 526.41\n",
      "\n",
      "---------------------\n",
      "\n",
      "===>  TRAIN Epoch 14\n"
     ]
    },
    {
     "name": "stderr",
     "output_type": "stream",
     "text": [
      "0% [██████████████████████████████] 100% | ETA: 00:00:00\n",
      "Total time elapsed: 00:00:27\n"
     ]
    },
    {
     "name": "stdout",
     "output_type": "stream",
     "text": [
      "Finished Epoch 14 || Run Time:   17.6 | Load Time:    9.9 || F1:  99.95 | Prec:  99.89 | Rec: 100.00 || Ex/s: 204.33\n",
      "\n",
      "===>  EVAL Epoch 14\n"
     ]
    },
    {
     "name": "stderr",
     "output_type": "stream",
     "text": [
      "0% [████████] 100% | ETA: 00:00:00\n",
      "Total time elapsed: 00:00:02\n"
     ]
    },
    {
     "name": "stdout",
     "output_type": "stream",
     "text": [
      "Finished Epoch 14 || Run Time:    1.0 | Load Time:    1.7 || F1:  99.17 | Prec:  98.76 | Rec:  99.58 || Ex/s: 524.73\n",
      "\n",
      "---------------------\n",
      "\n",
      "===>  TRAIN Epoch 15\n"
     ]
    },
    {
     "name": "stderr",
     "output_type": "stream",
     "text": [
      "0% [██████████████████████████████] 100% | ETA: 00:00:00\n",
      "Total time elapsed: 00:00:26\n"
     ]
    },
    {
     "name": "stdout",
     "output_type": "stream",
     "text": [
      "Finished Epoch 15 || Run Time:   17.4 | Load Time:    9.7 || F1:  99.95 | Prec:  99.89 | Rec: 100.00 || Ex/s: 207.51\n",
      "\n",
      "===>  EVAL Epoch 15\n"
     ]
    },
    {
     "name": "stderr",
     "output_type": "stream",
     "text": [
      "0% [████████] 100% | ETA: 00:00:00\n",
      "Total time elapsed: 00:00:02\n"
     ]
    },
    {
     "name": "stdout",
     "output_type": "stream",
     "text": [
      "Finished Epoch 15 || Run Time:    1.0 | Load Time:    1.6 || F1:  99.17 | Prec:  98.76 | Rec:  99.58 || Ex/s: 532.22\n",
      "\n",
      "---------------------\n",
      "\n",
      "===>  TRAIN Epoch 16\n"
     ]
    },
    {
     "name": "stderr",
     "output_type": "stream",
     "text": [
      "0% [██████████████████████████████] 100% | ETA: 00:00:00\n",
      "Total time elapsed: 00:00:27\n"
     ]
    },
    {
     "name": "stdout",
     "output_type": "stream",
     "text": [
      "Finished Epoch 16 || Run Time:   17.5 | Load Time:    9.8 || F1:  99.95 | Prec:  99.89 | Rec: 100.00 || Ex/s: 205.86\n",
      "\n",
      "===>  EVAL Epoch 16\n"
     ]
    },
    {
     "name": "stderr",
     "output_type": "stream",
     "text": [
      "0% [████████] 100% | ETA: 00:00:00\n",
      "Total time elapsed: 00:00:02\n"
     ]
    },
    {
     "name": "stdout",
     "output_type": "stream",
     "text": [
      "Finished Epoch 16 || Run Time:    1.0 | Load Time:    1.7 || F1:  99.17 | Prec:  98.76 | Rec:  99.58 || Ex/s: 521.24\n",
      "\n",
      "---------------------\n",
      "\n",
      "===>  TRAIN Epoch 17\n"
     ]
    },
    {
     "name": "stderr",
     "output_type": "stream",
     "text": [
      "0% [██████████████████████████████] 100% | ETA: 00:00:00\n",
      "Total time elapsed: 00:00:27\n"
     ]
    },
    {
     "name": "stdout",
     "output_type": "stream",
     "text": [
      "Finished Epoch 17 || Run Time:   17.5 | Load Time:    9.7 || F1:  99.95 | Prec:  99.89 | Rec: 100.00 || Ex/s: 206.51\n",
      "\n",
      "===>  EVAL Epoch 17\n"
     ]
    },
    {
     "name": "stderr",
     "output_type": "stream",
     "text": [
      "0% [████████] 100% | ETA: 00:00:00\n",
      "Total time elapsed: 00:00:02\n"
     ]
    },
    {
     "name": "stdout",
     "output_type": "stream",
     "text": [
      "Finished Epoch 17 || Run Time:    1.0 | Load Time:    1.7 || F1:  99.17 | Prec:  98.76 | Rec:  99.58 || Ex/s: 527.37\n",
      "\n",
      "---------------------\n",
      "\n",
      "===>  TRAIN Epoch 18\n"
     ]
    },
    {
     "name": "stderr",
     "output_type": "stream",
     "text": [
      "0% [██████████████████████████████] 100% | ETA: 00:00:00\n",
      "Total time elapsed: 00:00:27\n"
     ]
    },
    {
     "name": "stdout",
     "output_type": "stream",
     "text": [
      "Finished Epoch 18 || Run Time:   17.5 | Load Time:    9.7 || F1:  99.95 | Prec:  99.89 | Rec: 100.00 || Ex/s: 206.14\n",
      "\n",
      "===>  EVAL Epoch 18\n"
     ]
    },
    {
     "name": "stderr",
     "output_type": "stream",
     "text": [
      "0% [████████] 100% | ETA: 00:00:00\n",
      "Total time elapsed: 00:00:02\n"
     ]
    },
    {
     "name": "stdout",
     "output_type": "stream",
     "text": [
      "Finished Epoch 18 || Run Time:    1.0 | Load Time:    1.7 || F1:  99.17 | Prec:  98.76 | Rec:  99.58 || Ex/s: 530.43\n",
      "\n",
      "---------------------\n",
      "\n",
      "===>  TRAIN Epoch 19\n"
     ]
    },
    {
     "name": "stderr",
     "output_type": "stream",
     "text": [
      "0% [██████████████████████████████] 100% | ETA: 00:00:00\n",
      "Total time elapsed: 00:00:27\n"
     ]
    },
    {
     "name": "stdout",
     "output_type": "stream",
     "text": [
      "Finished Epoch 19 || Run Time:   17.8 | Load Time:    9.9 || F1:  99.95 | Prec:  99.89 | Rec: 100.00 || Ex/s: 202.88\n",
      "\n",
      "===>  EVAL Epoch 19\n"
     ]
    },
    {
     "name": "stderr",
     "output_type": "stream",
     "text": [
      "0% [████████] 100% | ETA: 00:00:00\n",
      "Total time elapsed: 00:00:02\n"
     ]
    },
    {
     "name": "stdout",
     "output_type": "stream",
     "text": [
      "Finished Epoch 19 || Run Time:    1.0 | Load Time:    1.6 || F1:  99.17 | Prec:  98.76 | Rec:  99.58 || Ex/s: 543.17\n",
      "\n",
      "---------------------\n",
      "\n",
      "===>  TRAIN Epoch 20\n"
     ]
    },
    {
     "name": "stderr",
     "output_type": "stream",
     "text": [
      "0% [██████████████████████████████] 100% | ETA: 00:00:00\n",
      "Total time elapsed: 00:00:27\n"
     ]
    },
    {
     "name": "stdout",
     "output_type": "stream",
     "text": [
      "Finished Epoch 20 || Run Time:   17.7 | Load Time:    9.9 || F1:  99.95 | Prec:  99.89 | Rec: 100.00 || Ex/s: 203.99\n",
      "\n",
      "===>  EVAL Epoch 20\n"
     ]
    },
    {
     "name": "stderr",
     "output_type": "stream",
     "text": [
      "0% [████████] 100% | ETA: 00:00:00\n",
      "Total time elapsed: 00:00:02\n"
     ]
    },
    {
     "name": "stdout",
     "output_type": "stream",
     "text": [
      "Finished Epoch 20 || Run Time:    1.0 | Load Time:    1.7 || F1:  99.17 | Prec:  98.76 | Rec:  99.58 || Ex/s: 530.98\n",
      "\n",
      "---------------------\n",
      "\n",
      "Loading best model...\n",
      "Training done.\n"
     ]
    },
    {
     "data": {
      "text/plain": [
       "tensor(99.4437, device='cuda:0')"
      ]
     },
     "execution_count": 4,
     "metadata": {},
     "output_type": "execute_result"
    }
   ],
   "source": [
    "rnn_model.run_train(train,valid,best_save_path='models/geographic_rnn.pth',epochs=20,batch_size=32)"
   ]
  },
  {
   "cell_type": "code",
   "execution_count": 4,
   "metadata": {
    "ExecuteTime": {
     "end_time": "2020-06-06T10:50:45.042099Z",
     "start_time": "2020-06-06T10:50:42.707769Z"
    }
   },
   "outputs": [],
   "source": [
    "#load pre-trained model\n",
    "rnn_model.load_state('models/geographic_rnn.pth')"
   ]
  },
  {
   "cell_type": "code",
   "execution_count": 5,
   "metadata": {
    "ExecuteTime": {
     "end_time": "2020-06-06T10:50:48.234572Z",
     "start_time": "2020-06-06T10:50:46.395106Z"
    }
   },
   "outputs": [
    {
     "name": "stdout",
     "output_type": "stream",
     "text": [
      "===>  EVAL Epoch 2\n"
     ]
    },
    {
     "name": "stderr",
     "output_type": "stream",
     "text": [
      "0% [███        ] 100% | ETA: 00:00:01"
     ]
    },
    {
     "ename": "RuntimeError",
     "evalue": "CUDA error: device-side assert triggered",
     "output_type": "error",
     "traceback": [
      "\u001b[0;31m---------------------------------------------------------------------------\u001b[0m",
      "\u001b[0;31mRuntimeError\u001b[0m                              Traceback (most recent call last)",
      "\u001b[0;32m<ipython-input-5-5c0ddf0cb17e>\u001b[0m in \u001b[0;36m<module>\u001b[0;34m\u001b[0m\n\u001b[0;32m----> 1\u001b[0;31m \u001b[0mrnn_model\u001b[0m\u001b[0;34m.\u001b[0m\u001b[0mrun_eval\u001b[0m\u001b[0;34m(\u001b[0m\u001b[0mtest\u001b[0m\u001b[0;34m)\u001b[0m\u001b[0;34m\u001b[0m\u001b[0;34m\u001b[0m\u001b[0m\n\u001b[0m",
      "\u001b[0;32m~/anaconda3/envs/testenv/lib/python3.8/site-packages/deepmatcher/models/core.py\u001b[0m in \u001b[0;36mrun_eval\u001b[0;34m(self, *args, **kwargs)\u001b[0m\n\u001b[1;32m    217\u001b[0m             \u001b[0mfloat\u001b[0m\u001b[0;34m:\u001b[0m \u001b[0mThe\u001b[0m \u001b[0mF1\u001b[0m \u001b[0mscore\u001b[0m \u001b[0mobtained\u001b[0m \u001b[0mby\u001b[0m \u001b[0mthe\u001b[0m \u001b[0mmodel\u001b[0m \u001b[0mon\u001b[0m \u001b[0mthe\u001b[0m \u001b[0mdataset\u001b[0m\u001b[0;34m.\u001b[0m\u001b[0;34m\u001b[0m\u001b[0;34m\u001b[0m\u001b[0m\n\u001b[1;32m    218\u001b[0m         \"\"\"\n\u001b[0;32m--> 219\u001b[0;31m         \u001b[0;32mreturn\u001b[0m \u001b[0mRunner\u001b[0m\u001b[0;34m.\u001b[0m\u001b[0meval\u001b[0m\u001b[0;34m(\u001b[0m\u001b[0mself\u001b[0m\u001b[0;34m,\u001b[0m \u001b[0;34m*\u001b[0m\u001b[0margs\u001b[0m\u001b[0;34m,\u001b[0m \u001b[0;34m**\u001b[0m\u001b[0mkwargs\u001b[0m\u001b[0;34m)\u001b[0m\u001b[0;34m\u001b[0m\u001b[0;34m\u001b[0m\u001b[0m\n\u001b[0m\u001b[1;32m    220\u001b[0m \u001b[0;34m\u001b[0m\u001b[0m\n\u001b[1;32m    221\u001b[0m     \u001b[0;32mdef\u001b[0m \u001b[0mrun_prediction\u001b[0m\u001b[0;34m(\u001b[0m\u001b[0mself\u001b[0m\u001b[0;34m,\u001b[0m \u001b[0;34m*\u001b[0m\u001b[0margs\u001b[0m\u001b[0;34m,\u001b[0m \u001b[0;34m**\u001b[0m\u001b[0mkwargs\u001b[0m\u001b[0;34m)\u001b[0m\u001b[0;34m:\u001b[0m\u001b[0;34m\u001b[0m\u001b[0;34m\u001b[0m\u001b[0m\n",
      "\u001b[0;32m~/anaconda3/envs/testenv/lib/python3.8/site-packages/deepmatcher/runner.py\u001b[0m in \u001b[0;36meval\u001b[0;34m(model, dataset, **kwargs)\u001b[0m\n\u001b[1;32m    380\u001b[0m             \u001b[0mfloat\u001b[0m\u001b[0;34m:\u001b[0m \u001b[0mThe\u001b[0m \u001b[0mF1\u001b[0m \u001b[0mscore\u001b[0m \u001b[0mobtained\u001b[0m \u001b[0mby\u001b[0m \u001b[0mthe\u001b[0m \u001b[0mmodel\u001b[0m \u001b[0mon\u001b[0m \u001b[0mthe\u001b[0m \u001b[0mdataset\u001b[0m\u001b[0;34m.\u001b[0m\u001b[0;34m\u001b[0m\u001b[0;34m\u001b[0m\u001b[0m\n\u001b[1;32m    381\u001b[0m         \"\"\"\n\u001b[0;32m--> 382\u001b[0;31m         \u001b[0;32mreturn\u001b[0m \u001b[0mRunner\u001b[0m\u001b[0;34m.\u001b[0m\u001b[0m_run\u001b[0m\u001b[0;34m(\u001b[0m\u001b[0;34m'EVAL'\u001b[0m\u001b[0;34m,\u001b[0m \u001b[0mmodel\u001b[0m\u001b[0;34m,\u001b[0m \u001b[0mdataset\u001b[0m\u001b[0;34m,\u001b[0m \u001b[0;34m**\u001b[0m\u001b[0mkwargs\u001b[0m\u001b[0;34m)\u001b[0m\u001b[0;34m\u001b[0m\u001b[0;34m\u001b[0m\u001b[0m\n\u001b[0m\u001b[1;32m    383\u001b[0m \u001b[0;34m\u001b[0m\u001b[0m\n\u001b[1;32m    384\u001b[0m     \u001b[0;32mdef\u001b[0m \u001b[0mpredict\u001b[0m\u001b[0;34m(\u001b[0m\u001b[0mmodel\u001b[0m\u001b[0;34m,\u001b[0m \u001b[0mdataset\u001b[0m\u001b[0;34m,\u001b[0m \u001b[0moutput_attributes\u001b[0m\u001b[0;34m=\u001b[0m\u001b[0;32mFalse\u001b[0m\u001b[0;34m,\u001b[0m \u001b[0;34m**\u001b[0m\u001b[0mkwargs\u001b[0m\u001b[0;34m)\u001b[0m\u001b[0;34m:\u001b[0m\u001b[0;34m\u001b[0m\u001b[0;34m\u001b[0m\u001b[0m\n",
      "\u001b[0;32m~/anaconda3/envs/testenv/lib/python3.8/site-packages/deepmatcher/runner.py\u001b[0m in \u001b[0;36m_run\u001b[0;34m(run_type, model, dataset, criterion, optimizer, train, device, batch_size, batch_callback, epoch_callback, progress_style, log_freq, sort_in_buckets, return_predictions, **kwargs)\u001b[0m\n\u001b[1;32m    212\u001b[0m             \u001b[0mdatatime\u001b[0m \u001b[0;34m+=\u001b[0m \u001b[0mbatch_start\u001b[0m \u001b[0;34m-\u001b[0m \u001b[0mbatch_end\u001b[0m\u001b[0;34m\u001b[0m\u001b[0;34m\u001b[0m\u001b[0m\n\u001b[1;32m    213\u001b[0m \u001b[0;34m\u001b[0m\u001b[0m\n\u001b[0;32m--> 214\u001b[0;31m             \u001b[0moutput\u001b[0m \u001b[0;34m=\u001b[0m \u001b[0mmodel\u001b[0m\u001b[0;34m(\u001b[0m\u001b[0mbatch\u001b[0m\u001b[0;34m)\u001b[0m\u001b[0;34m\u001b[0m\u001b[0;34m\u001b[0m\u001b[0m\n\u001b[0m\u001b[1;32m    215\u001b[0m \u001b[0;34m\u001b[0m\u001b[0m\n\u001b[1;32m    216\u001b[0m             \u001b[0;31m# from torchviz import make_dot, make_dot_from_trace\u001b[0m\u001b[0;34m\u001b[0m\u001b[0;34m\u001b[0m\u001b[0;34m\u001b[0m\u001b[0m\n",
      "\u001b[0;32m~/anaconda3/envs/testenv/lib/python3.8/site-packages/torch/nn/modules/module.py\u001b[0m in \u001b[0;36m__call__\u001b[0;34m(self, *input, **kwargs)\u001b[0m\n\u001b[1;32m    530\u001b[0m             \u001b[0mresult\u001b[0m \u001b[0;34m=\u001b[0m \u001b[0mself\u001b[0m\u001b[0;34m.\u001b[0m\u001b[0m_slow_forward\u001b[0m\u001b[0;34m(\u001b[0m\u001b[0;34m*\u001b[0m\u001b[0minput\u001b[0m\u001b[0;34m,\u001b[0m \u001b[0;34m**\u001b[0m\u001b[0mkwargs\u001b[0m\u001b[0;34m)\u001b[0m\u001b[0;34m\u001b[0m\u001b[0;34m\u001b[0m\u001b[0m\n\u001b[1;32m    531\u001b[0m         \u001b[0;32melse\u001b[0m\u001b[0;34m:\u001b[0m\u001b[0;34m\u001b[0m\u001b[0;34m\u001b[0m\u001b[0m\n\u001b[0;32m--> 532\u001b[0;31m             \u001b[0mresult\u001b[0m \u001b[0;34m=\u001b[0m \u001b[0mself\u001b[0m\u001b[0;34m.\u001b[0m\u001b[0mforward\u001b[0m\u001b[0;34m(\u001b[0m\u001b[0;34m*\u001b[0m\u001b[0minput\u001b[0m\u001b[0;34m,\u001b[0m \u001b[0;34m**\u001b[0m\u001b[0mkwargs\u001b[0m\u001b[0;34m)\u001b[0m\u001b[0;34m\u001b[0m\u001b[0;34m\u001b[0m\u001b[0m\n\u001b[0m\u001b[1;32m    533\u001b[0m         \u001b[0;32mfor\u001b[0m \u001b[0mhook\u001b[0m \u001b[0;32min\u001b[0m \u001b[0mself\u001b[0m\u001b[0;34m.\u001b[0m\u001b[0m_forward_hooks\u001b[0m\u001b[0;34m.\u001b[0m\u001b[0mvalues\u001b[0m\u001b[0;34m(\u001b[0m\u001b[0;34m)\u001b[0m\u001b[0;34m:\u001b[0m\u001b[0;34m\u001b[0m\u001b[0;34m\u001b[0m\u001b[0m\n\u001b[1;32m    534\u001b[0m             \u001b[0mhook_result\u001b[0m \u001b[0;34m=\u001b[0m \u001b[0mhook\u001b[0m\u001b[0;34m(\u001b[0m\u001b[0mself\u001b[0m\u001b[0;34m,\u001b[0m \u001b[0minput\u001b[0m\u001b[0;34m,\u001b[0m \u001b[0mresult\u001b[0m\u001b[0;34m)\u001b[0m\u001b[0;34m\u001b[0m\u001b[0;34m\u001b[0m\u001b[0m\n",
      "\u001b[0;32m~/anaconda3/envs/testenv/lib/python3.8/site-packages/deepmatcher/models/core.py\u001b[0m in \u001b[0;36mforward\u001b[0;34m(self, input)\u001b[0m\n\u001b[1;32m    422\u001b[0m         \u001b[0;32mfor\u001b[0m \u001b[0mname\u001b[0m \u001b[0;32min\u001b[0m \u001b[0mself\u001b[0m\u001b[0;34m.\u001b[0m\u001b[0mmeta\u001b[0m\u001b[0;34m.\u001b[0m\u001b[0mcanonical_text_fields\u001b[0m\u001b[0;34m:\u001b[0m\u001b[0;34m\u001b[0m\u001b[0;34m\u001b[0m\u001b[0m\n\u001b[1;32m    423\u001b[0m             \u001b[0mleft\u001b[0m\u001b[0;34m,\u001b[0m \u001b[0mright\u001b[0m \u001b[0;34m=\u001b[0m \u001b[0mself\u001b[0m\u001b[0;34m.\u001b[0m\u001b[0mmeta\u001b[0m\u001b[0;34m.\u001b[0m\u001b[0mtext_fields\u001b[0m\u001b[0;34m[\u001b[0m\u001b[0mname\u001b[0m\u001b[0;34m]\u001b[0m\u001b[0;34m\u001b[0m\u001b[0;34m\u001b[0m\u001b[0m\n\u001b[0;32m--> 424\u001b[0;31m             left_summary, right_summary = self.attr_summarizers[name](embeddings[left],\n\u001b[0m\u001b[1;32m    425\u001b[0m                                                                       embeddings[right])\n\u001b[1;32m    426\u001b[0m \u001b[0;34m\u001b[0m\u001b[0m\n",
      "\u001b[0;32m~/anaconda3/envs/testenv/lib/python3.8/site-packages/torch/nn/modules/module.py\u001b[0m in \u001b[0;36m__call__\u001b[0;34m(self, *input, **kwargs)\u001b[0m\n\u001b[1;32m    530\u001b[0m             \u001b[0mresult\u001b[0m \u001b[0;34m=\u001b[0m \u001b[0mself\u001b[0m\u001b[0;34m.\u001b[0m\u001b[0m_slow_forward\u001b[0m\u001b[0;34m(\u001b[0m\u001b[0;34m*\u001b[0m\u001b[0minput\u001b[0m\u001b[0;34m,\u001b[0m \u001b[0;34m**\u001b[0m\u001b[0mkwargs\u001b[0m\u001b[0;34m)\u001b[0m\u001b[0;34m\u001b[0m\u001b[0;34m\u001b[0m\u001b[0m\n\u001b[1;32m    531\u001b[0m         \u001b[0;32melse\u001b[0m\u001b[0;34m:\u001b[0m\u001b[0;34m\u001b[0m\u001b[0;34m\u001b[0m\u001b[0m\n\u001b[0;32m--> 532\u001b[0;31m             \u001b[0mresult\u001b[0m \u001b[0;34m=\u001b[0m \u001b[0mself\u001b[0m\u001b[0;34m.\u001b[0m\u001b[0mforward\u001b[0m\u001b[0;34m(\u001b[0m\u001b[0;34m*\u001b[0m\u001b[0minput\u001b[0m\u001b[0;34m,\u001b[0m \u001b[0;34m**\u001b[0m\u001b[0mkwargs\u001b[0m\u001b[0;34m)\u001b[0m\u001b[0;34m\u001b[0m\u001b[0;34m\u001b[0m\u001b[0m\n\u001b[0m\u001b[1;32m    533\u001b[0m         \u001b[0;32mfor\u001b[0m \u001b[0mhook\u001b[0m \u001b[0;32min\u001b[0m \u001b[0mself\u001b[0m\u001b[0;34m.\u001b[0m\u001b[0m_forward_hooks\u001b[0m\u001b[0;34m.\u001b[0m\u001b[0mvalues\u001b[0m\u001b[0;34m(\u001b[0m\u001b[0;34m)\u001b[0m\u001b[0;34m:\u001b[0m\u001b[0;34m\u001b[0m\u001b[0;34m\u001b[0m\u001b[0m\n\u001b[1;32m    534\u001b[0m             \u001b[0mhook_result\u001b[0m \u001b[0;34m=\u001b[0m \u001b[0mhook\u001b[0m\u001b[0;34m(\u001b[0m\u001b[0mself\u001b[0m\u001b[0;34m,\u001b[0m \u001b[0minput\u001b[0m\u001b[0;34m,\u001b[0m \u001b[0mresult\u001b[0m\u001b[0;34m)\u001b[0m\u001b[0;34m\u001b[0m\u001b[0;34m\u001b[0m\u001b[0m\n",
      "\u001b[0;32m~/anaconda3/envs/testenv/lib/python3.8/site-packages/deepmatcher/models/modules.py\u001b[0m in \u001b[0;36mforward\u001b[0;34m(self, input, *args, **kwargs)\u001b[0m\n\u001b[1;32m    120\u001b[0m             \u001b[0mself\u001b[0m\u001b[0;34m.\u001b[0m\u001b[0m_initialized\u001b[0m \u001b[0;34m=\u001b[0m \u001b[0;32mTrue\u001b[0m\u001b[0;34m\u001b[0m\u001b[0;34m\u001b[0m\u001b[0m\n\u001b[1;32m    121\u001b[0m \u001b[0;34m\u001b[0m\u001b[0m\n\u001b[0;32m--> 122\u001b[0;31m         \u001b[0;32mreturn\u001b[0m \u001b[0mself\u001b[0m\u001b[0;34m.\u001b[0m\u001b[0m_forward\u001b[0m\u001b[0;34m(\u001b[0m\u001b[0minput\u001b[0m\u001b[0;34m,\u001b[0m \u001b[0;34m*\u001b[0m\u001b[0margs\u001b[0m\u001b[0;34m,\u001b[0m \u001b[0;34m**\u001b[0m\u001b[0mkwargs\u001b[0m\u001b[0;34m)\u001b[0m\u001b[0;34m\u001b[0m\u001b[0;34m\u001b[0m\u001b[0m\n\u001b[0m\u001b[1;32m    123\u001b[0m \u001b[0;34m\u001b[0m\u001b[0m\n\u001b[1;32m    124\u001b[0m     \u001b[0;32mdef\u001b[0m \u001b[0mexpect_signature\u001b[0m\u001b[0;34m(\u001b[0m\u001b[0mself\u001b[0m\u001b[0;34m,\u001b[0m \u001b[0msignature\u001b[0m\u001b[0;34m)\u001b[0m\u001b[0;34m:\u001b[0m\u001b[0;34m\u001b[0m\u001b[0;34m\u001b[0m\u001b[0m\n",
      "\u001b[0;32m~/anaconda3/envs/testenv/lib/python3.8/site-packages/deepmatcher/models/core.py\u001b[0m in \u001b[0;36m_forward\u001b[0;34m(self, left_input, right_input)\u001b[0m\n\u001b[1;32m    531\u001b[0m         \u001b[0mleft_contextualized\u001b[0m\u001b[0;34m,\u001b[0m \u001b[0mright_contextualized\u001b[0m \u001b[0;34m=\u001b[0m \u001b[0mleft_input\u001b[0m\u001b[0;34m,\u001b[0m \u001b[0mright_input\u001b[0m\u001b[0;34m\u001b[0m\u001b[0;34m\u001b[0m\u001b[0m\n\u001b[1;32m    532\u001b[0m         \u001b[0;32mif\u001b[0m \u001b[0mself\u001b[0m\u001b[0;34m.\u001b[0m\u001b[0mword_contextualizer\u001b[0m\u001b[0;34m:\u001b[0m\u001b[0;34m\u001b[0m\u001b[0;34m\u001b[0m\u001b[0m\n\u001b[0;32m--> 533\u001b[0;31m             \u001b[0mleft_contextualized\u001b[0m \u001b[0;34m=\u001b[0m \u001b[0mself\u001b[0m\u001b[0;34m.\u001b[0m\u001b[0mword_contextualizer\u001b[0m\u001b[0;34m(\u001b[0m\u001b[0mleft_input\u001b[0m\u001b[0;34m)\u001b[0m\u001b[0;34m\u001b[0m\u001b[0;34m\u001b[0m\u001b[0m\n\u001b[0m\u001b[1;32m    534\u001b[0m             \u001b[0mright_contextualized\u001b[0m \u001b[0;34m=\u001b[0m \u001b[0mself\u001b[0m\u001b[0;34m.\u001b[0m\u001b[0mword_contextualizer\u001b[0m\u001b[0;34m(\u001b[0m\u001b[0mright_input\u001b[0m\u001b[0;34m)\u001b[0m\u001b[0;34m\u001b[0m\u001b[0;34m\u001b[0m\u001b[0m\n\u001b[1;32m    535\u001b[0m \u001b[0;34m\u001b[0m\u001b[0m\n",
      "\u001b[0;32m~/anaconda3/envs/testenv/lib/python3.8/site-packages/torch/nn/modules/module.py\u001b[0m in \u001b[0;36m__call__\u001b[0;34m(self, *input, **kwargs)\u001b[0m\n\u001b[1;32m    532\u001b[0m             \u001b[0mresult\u001b[0m \u001b[0;34m=\u001b[0m \u001b[0mself\u001b[0m\u001b[0;34m.\u001b[0m\u001b[0mforward\u001b[0m\u001b[0;34m(\u001b[0m\u001b[0;34m*\u001b[0m\u001b[0minput\u001b[0m\u001b[0;34m,\u001b[0m \u001b[0;34m**\u001b[0m\u001b[0mkwargs\u001b[0m\u001b[0;34m)\u001b[0m\u001b[0;34m\u001b[0m\u001b[0;34m\u001b[0m\u001b[0m\n\u001b[1;32m    533\u001b[0m         \u001b[0;32mfor\u001b[0m \u001b[0mhook\u001b[0m \u001b[0;32min\u001b[0m \u001b[0mself\u001b[0m\u001b[0;34m.\u001b[0m\u001b[0m_forward_hooks\u001b[0m\u001b[0;34m.\u001b[0m\u001b[0mvalues\u001b[0m\u001b[0;34m(\u001b[0m\u001b[0;34m)\u001b[0m\u001b[0;34m:\u001b[0m\u001b[0;34m\u001b[0m\u001b[0;34m\u001b[0m\u001b[0m\n\u001b[0;32m--> 534\u001b[0;31m             \u001b[0mhook_result\u001b[0m \u001b[0;34m=\u001b[0m \u001b[0mhook\u001b[0m\u001b[0;34m(\u001b[0m\u001b[0mself\u001b[0m\u001b[0;34m,\u001b[0m \u001b[0minput\u001b[0m\u001b[0;34m,\u001b[0m \u001b[0mresult\u001b[0m\u001b[0;34m)\u001b[0m\u001b[0;34m\u001b[0m\u001b[0;34m\u001b[0m\u001b[0m\n\u001b[0m\u001b[1;32m    535\u001b[0m             \u001b[0;32mif\u001b[0m \u001b[0mhook_result\u001b[0m \u001b[0;32mis\u001b[0m \u001b[0;32mnot\u001b[0m \u001b[0;32mNone\u001b[0m\u001b[0;34m:\u001b[0m\u001b[0;34m\u001b[0m\u001b[0;34m\u001b[0m\u001b[0m\n\u001b[1;32m    536\u001b[0m                 \u001b[0mresult\u001b[0m \u001b[0;34m=\u001b[0m \u001b[0mhook_result\u001b[0m\u001b[0;34m\u001b[0m\u001b[0;34m\u001b[0m\u001b[0m\n",
      "\u001b[0;32m~/anaconda3/envs/testenv/lib/python3.8/site-packages/deepmatcher/models/modules.py\u001b[0m in \u001b[0;36m_check_nan_hook\u001b[0;34m(m, *tensors)\u001b[0m\n\u001b[1;32m    150\u001b[0m     \u001b[0;34m@\u001b[0m\u001b[0mstaticmethod\u001b[0m\u001b[0;34m\u001b[0m\u001b[0;34m\u001b[0m\u001b[0m\n\u001b[1;32m    151\u001b[0m     \u001b[0;32mdef\u001b[0m \u001b[0m_check_nan_hook\u001b[0m\u001b[0;34m(\u001b[0m\u001b[0mm\u001b[0m\u001b[0;34m,\u001b[0m \u001b[0;34m*\u001b[0m\u001b[0mtensors\u001b[0m\u001b[0;34m)\u001b[0m\u001b[0;34m:\u001b[0m\u001b[0;34m\u001b[0m\u001b[0;34m\u001b[0m\u001b[0m\n\u001b[0;32m--> 152\u001b[0;31m         \u001b[0m_utils\u001b[0m\u001b[0;34m.\u001b[0m\u001b[0mcheck_nan\u001b[0m\u001b[0;34m(\u001b[0m\u001b[0;34m*\u001b[0m\u001b[0mtensors\u001b[0m\u001b[0;34m)\u001b[0m\u001b[0;34m\u001b[0m\u001b[0;34m\u001b[0m\u001b[0m\n\u001b[0m\u001b[1;32m    153\u001b[0m \u001b[0;34m\u001b[0m\u001b[0m\n\u001b[1;32m    154\u001b[0m     \u001b[0;32mdef\u001b[0m \u001b[0m_init\u001b[0m\u001b[0;34m(\u001b[0m\u001b[0mself\u001b[0m\u001b[0;34m)\u001b[0m\u001b[0;34m:\u001b[0m\u001b[0;34m\u001b[0m\u001b[0;34m\u001b[0m\u001b[0m\n",
      "\u001b[0;32m~/anaconda3/envs/testenv/lib/python3.8/site-packages/deepmatcher/models/_utils.py\u001b[0m in \u001b[0;36mcheck_nan\u001b[0;34m(*values)\u001b[0m\n\u001b[1;32m     43\u001b[0m         \u001b[0;32mif\u001b[0m \u001b[0misinstance\u001b[0m\u001b[0;34m(\u001b[0m\u001b[0mvalue\u001b[0m\u001b[0;34m,\u001b[0m \u001b[0mAttrTensor\u001b[0m\u001b[0;34m)\u001b[0m\u001b[0;34m:\u001b[0m\u001b[0;34m\u001b[0m\u001b[0;34m\u001b[0m\u001b[0m\n\u001b[1;32m     44\u001b[0m             \u001b[0mvalue\u001b[0m \u001b[0;34m=\u001b[0m \u001b[0mvalue\u001b[0m\u001b[0;34m.\u001b[0m\u001b[0mdata\u001b[0m\u001b[0;34m\u001b[0m\u001b[0;34m\u001b[0m\u001b[0m\n\u001b[0;32m---> 45\u001b[0;31m         \u001b[0;32mif\u001b[0m \u001b[0misinstance\u001b[0m\u001b[0;34m(\u001b[0m\u001b[0mvalue\u001b[0m\u001b[0;34m,\u001b[0m \u001b[0mtorch\u001b[0m\u001b[0;34m.\u001b[0m\u001b[0mTensor\u001b[0m\u001b[0;34m)\u001b[0m \u001b[0;32mand\u001b[0m \u001b[0;34m(\u001b[0m\u001b[0mvalue\u001b[0m \u001b[0;34m!=\u001b[0m \u001b[0mvalue\u001b[0m\u001b[0;34m)\u001b[0m\u001b[0;34m.\u001b[0m\u001b[0many\u001b[0m\u001b[0;34m(\u001b[0m\u001b[0;34m)\u001b[0m\u001b[0;34m:\u001b[0m\u001b[0;34m\u001b[0m\u001b[0;34m\u001b[0m\u001b[0m\n\u001b[0m\u001b[1;32m     46\u001b[0m             \u001b[0mprint\u001b[0m\u001b[0;34m(\u001b[0m\u001b[0;34m'NaN detected!!!'\u001b[0m\u001b[0;34m)\u001b[0m\u001b[0;34m\u001b[0m\u001b[0;34m\u001b[0m\u001b[0m\n\u001b[1;32m     47\u001b[0m             \u001b[0mpdb\u001b[0m\u001b[0;34m.\u001b[0m\u001b[0mset_trace\u001b[0m\u001b[0;34m(\u001b[0m\u001b[0;34m)\u001b[0m\u001b[0;34m\u001b[0m\u001b[0;34m\u001b[0m\u001b[0m\n",
      "\u001b[0;31mRuntimeError\u001b[0m: CUDA error: device-side assert triggered"
     ]
    }
   ],
   "source": [
    "rnn_model.run_eval(test)"
   ]
  },
  {
   "cell_type": "code",
   "execution_count": null,
   "metadata": {},
   "outputs": [],
   "source": []
  }
 ],
 "metadata": {
  "kernelspec": {
   "display_name": "Python 3",
   "language": "python",
   "name": "python3"
  },
  "language_info": {
   "codemirror_mode": {
    "name": "ipython",
    "version": 3
   },
   "file_extension": ".py",
   "mimetype": "text/x-python",
   "name": "python",
   "nbconvert_exporter": "python",
   "pygments_lexer": "ipython3",
   "version": "3.8.1"
  },
  "toc": {
   "base_numbering": 1,
   "nav_menu": {},
   "number_sections": true,
   "sideBar": true,
   "skip_h1_title": false,
   "title_cell": "Table of Contents",
   "title_sidebar": "Contents",
   "toc_cell": false,
   "toc_position": {
    "height": "calc(100% - 180px)",
    "left": "10px",
    "top": "150px",
    "width": "345.98px"
   },
   "toc_section_display": true,
   "toc_window_display": true
  }
 },
 "nbformat": 4,
 "nbformat_minor": 4
}
