{
 "cells": [
  {
   "cell_type": "code",
   "execution_count": 1,
   "metadata": {
    "ExecuteTime": {
     "end_time": "2020-06-06T10:49:28.645124Z",
     "start_time": "2020-06-06T10:49:28.622060Z"
    }
   },
   "outputs": [],
   "source": [
    "%load_ext autoreload\n",
    "%autoreload 2"
   ]
  },
  {
   "cell_type": "code",
   "execution_count": 2,
   "metadata": {
    "ExecuteTime": {
     "end_time": "2020-06-06T10:49:31.042579Z",
     "start_time": "2020-06-06T10:49:28.984774Z"
    }
   },
   "outputs": [
    {
     "name": "stderr",
     "output_type": "stream",
     "text": [
      "Using TensorFlow backend.\n"
     ]
    }
   ],
   "source": [
    "import pandas as pd\n",
    "from deeper.data import process_data_aligned\n",
    "from dataset_parser import generateDataset"
   ]
  },
  {
   "cell_type": "code",
   "execution_count": 3,
   "metadata": {
    "ExecuteTime": {
     "end_time": "2020-06-06T10:49:31.717803Z",
     "start_time": "2020-06-06T10:49:31.672791Z"
    }
   },
   "outputs": [],
   "source": [
    "def createPairIds(dataset):\n",
    "    testids_and_labels = list(map(lambda t:(t[3].split(\"#\")[0],t[3].split(\"#\")[1],t[2]),dataset))\n",
    "    testids_df = pd.DataFrame(testids_and_labels,columns=['ltable_id','rtable_id','label'])\n",
    "    return testids_df"
   ]
  },
  {
   "cell_type": "code",
   "execution_count": 4,
   "metadata": {
    "ExecuteTime": {
     "end_time": "2020-06-06T10:49:32.099808Z",
     "start_time": "2020-06-06T10:49:32.052016Z"
    }
   },
   "outputs": [],
   "source": [
    "def create_train_valid_test(dataset_dir,dataset_name,ground_truth,source1,source2,load_dataset):\n",
    "    train,test = process_data_aligned(dataset_dir,dataset_name,ground_truth,source1,source2,\n",
    "                                     load_from_disk_dataset=load_dataset)\n",
    "    validation_start_idx = int((len(train)/10)*8)\n",
    "    validation = train[validation_start_idx:]\n",
    "    real_train = train[:validation_start_idx]\n",
    "    createPairIds(real_train).to_csv(dataset_dir+'train_ids.csv',index=False)\n",
    "    createPairIds(validation).to_csv(dataset_dir+'valid_ids.csv',index=False)\n",
    "    createPairIds(test).to_csv(dataset_dir+'test_ids.csv',index=False)\n",
    "    generateDataset(dataset_dir,source1,source2,'train_ids.csv',\n",
    "                   'ltable_','rtable_').to_csv(dataset_dir+'train.csv',index=False)\n",
    "    generateDataset(dataset_dir,source1,source2,'valid_ids.csv',\n",
    "                   'ltable_','rtable_').to_csv(dataset_dir+'validation.csv',index=False)\n",
    "    generateDataset(dataset_dir,source1,source2,'test_ids.csv',\n",
    "                   'ltable_','rtable_').to_csv(dataset_dir+'test.csv',index=False)\n",
    "    return"
   ]
  },
  {
   "cell_type": "code",
   "execution_count": 5,
   "metadata": {
    "ExecuteTime": {
     "end_time": "2020-06-06T10:49:38.475027Z",
     "start_time": "2020-06-06T10:49:38.088431Z"
    }
   },
   "outputs": [
    {
     "name": "stdout",
     "output_type": "stream",
     "text": [
      "match_number: 4391\n",
      "len all dataset: 8782\n"
     ]
    }
   ],
   "source": [
    "create_train_valid_test('datasets/GeographicSettlements/','geography','ground_truth.csv',\n",
    "                       'settlements_reduced.csv','settlements_reduced.csv',load_dataset=True)"
   ]
  },
  {
   "cell_type": "code",
   "execution_count": 7,
   "metadata": {
    "ExecuteTime": {
     "end_time": "2020-03-30T09:32:34.596301Z",
     "start_time": "2020-03-30T09:32:34.417279Z"
    }
   },
   "outputs": [
    {
     "name": "stdout",
     "output_type": "stream",
     "text": [
      "match_number: 68\n",
      "len all dataset: 204\n"
     ]
    }
   ],
   "source": [
    "create_train_valid_test('datasets/beeradvo_ratebeer/','beer','beeradvo_ratebeer_matches.csv',\n",
    "                       'Beeradvo.csv','Ratebeer.csv')"
   ]
  },
  {
   "cell_type": "code",
   "execution_count": 11,
   "metadata": {
    "ExecuteTime": {
     "end_time": "2020-03-30T09:39:24.744171Z",
     "start_time": "2020-03-30T09:39:24.412966Z"
    }
   },
   "outputs": [
    {
     "name": "stderr",
     "output_type": "stream",
     "text": [
      "100%|██████████| 11/11 [00:00<00:00, 53.37it/s]"
     ]
    },
    {
     "name": "stdout",
     "output_type": "stream",
     "text": [
      "New negatives per sample are 3\n"
     ]
    },
    {
     "name": "stderr",
     "output_type": "stream",
     "text": [
      "\n"
     ]
    }
   ],
   "source": [
    "augmented_test = prepareDataset('datasets/beeradvo_ratebeer/','test.csv','Beeradvo.csv','Ratebeer.csv',\n",
    "                               30)"
   ]
  },
  {
   "cell_type": "code",
   "execution_count": 12,
   "metadata": {
    "ExecuteTime": {
     "end_time": "2020-03-30T09:39:43.805703Z",
     "start_time": "2020-03-30T09:39:43.758070Z"
    }
   },
   "outputs": [],
   "source": [
    "augmented_test.to_csv('datasets/beeradvo_ratebeer/augmented_test.csv',index=False)"
   ]
  },
  {
   "cell_type": "code",
   "execution_count": 5,
   "metadata": {
    "ExecuteTime": {
     "end_time": "2020-03-28T16:32:30.891142Z",
     "start_time": "2020-03-28T16:32:30.650982Z"
    }
   },
   "outputs": [],
   "source": [
    "test_df = pd.read_csv('datasets/itunes_amazon/test.csv')\n",
    "itunes = pd.read_csv('datasets/itunes_amazon/itunes.csv',dtype=str)\n",
    "amazon = pd.read_csv('datasets/itunes_amazon/amazon.csv',dtype=str)"
   ]
  },
  {
   "cell_type": "code",
   "execution_count": 6,
   "metadata": {
    "ExecuteTime": {
     "end_time": "2020-03-28T16:32:39.639612Z",
     "start_time": "2020-03-28T16:32:39.570535Z"
    }
   },
   "outputs": [
    {
     "data": {
      "text/plain": [
       "22"
      ]
     },
     "execution_count": 6,
     "metadata": {},
     "output_type": "execute_result"
    }
   ],
   "source": [
    "len(test_df[test_df.label==1])"
   ]
  },
  {
   "cell_type": "code",
   "execution_count": 5,
   "metadata": {
    "ExecuteTime": {
     "end_time": "2020-03-29T17:39:11.694853Z",
     "start_time": "2020-03-29T17:39:10.687342Z"
    }
   },
   "outputs": [
    {
     "name": "stderr",
     "output_type": "stream",
     "text": [
      " 24%|██▍       | 5/21 [00:00<00:00, 45.89it/s]"
     ]
    },
    {
     "name": "stdout",
     "output_type": "stream",
     "text": [
      "New negatives per sample are 1\n"
     ]
    },
    {
     "name": "stderr",
     "output_type": "stream",
     "text": [
      "100%|██████████| 21/21 [00:00<00:00, 45.84it/s]\n"
     ]
    }
   ],
   "source": [
    "augmented_test = prepareDataset('datasets/itunes_amazon/','test.csv','itunes.csv','amazon.csv',\n",
    "                                20)"
   ]
  },
  {
   "cell_type": "code",
   "execution_count": null,
   "metadata": {
    "ExecuteTime": {
     "start_time": "2020-03-29T17:39:16.430Z"
    }
   },
   "outputs": [
    {
     "name": "stderr",
     "output_type": "stream",
     "text": [
      "\r",
      "  0%|          | 0/1095 [00:00<?, ?it/s]"
     ]
    },
    {
     "name": "stdout",
     "output_type": "stream",
     "text": [
      "New negatives per sample are 1\n"
     ]
    },
    {
     "name": "stderr",
     "output_type": "stream",
     "text": [
      " 63%|██████▎   | 688/1095 [02:18<01:38,  4.13it/s]"
     ]
    }
   ],
   "source": [
    "augmented_test = prepareDataset('datasets/DBLP-Scholar/','test.csv','DBLP.csv','Scholar.csv',\n",
    "                               1000)"
   ]
  },
  {
   "cell_type": "code",
   "execution_count": null,
   "metadata": {
    "ExecuteTime": {
     "end_time": "2020-03-29T17:35:43.046836Z",
     "start_time": "2020-03-29T17:33:52.851Z"
    }
   },
   "outputs": [],
   "source": [
    "augmented_test.to_csv('datasets/DBLP-Scholar/augmented_test.csv',index=False)"
   ]
  },
  {
   "cell_type": "code",
   "execution_count": 6,
   "metadata": {
    "ExecuteTime": {
     "end_time": "2020-03-28T16:36:29.865163Z",
     "start_time": "2020-03-28T16:36:29.812480Z"
    }
   },
   "outputs": [],
   "source": [
    "augmented_test.to_csv('datasets/itunes_amazon/augmented_test.csv',index=False)"
   ]
  },
  {
   "cell_type": "code",
   "execution_count": 9,
   "metadata": {
    "ExecuteTime": {
     "end_time": "2020-03-23T15:51:43.901968Z",
     "start_time": "2020-03-23T15:51:43.776431Z"
    }
   },
   "outputs": [
    {
     "name": "stdout",
     "output_type": "stream",
     "text": [
      "match_number: 2224\n",
      "len all dataset: 4448\n"
     ]
    }
   ],
   "source": [
    "_,dblpacm_test = process_data_aligned('datasets/DBLP-ACM/','dblp-acm','DBLP-ACM_perfectMapping.csv',\n",
    "                                     'DBLP2.csv','ACM.csv',LOAD_FROM_DISK_DATASET=True)\n",
    "dblpacm_test_ids = createTestIds(dblpacm_test)\n",
    "dblpacm_test_ids.to_csv('datasets/DBLP-ACM/test_ids.csv',index=False)"
   ]
  },
  {
   "cell_type": "code",
   "execution_count": 12,
   "metadata": {
    "ExecuteTime": {
     "end_time": "2020-03-23T15:55:26.953162Z",
     "start_time": "2020-03-23T15:55:26.842466Z"
    }
   },
   "outputs": [],
   "source": [
    "test_df = generateDataset('datasets/DBLP-ACM/','DBLP2.csv','ACM.csv','test_ids.csv','ltable_','rtable_')\n",
    "test_df.to_csv('datasets/DBLP-ACM/test.csv',index=False)"
   ]
  },
  {
   "cell_type": "code",
   "execution_count": 13,
   "metadata": {
    "ExecuteTime": {
     "end_time": "2020-03-23T15:57:38.721739Z",
     "start_time": "2020-03-23T15:57:01.434738Z"
    }
   },
   "outputs": [],
   "source": [
    "augmented_test = prepareDataset('datasets/DBLP-ACM/','test.csv','DBLP2.csv','ACM.csv',400)"
   ]
  },
  {
   "cell_type": "code",
   "execution_count": 14,
   "metadata": {
    "ExecuteTime": {
     "end_time": "2020-03-23T15:58:05.162611Z",
     "start_time": "2020-03-23T15:58:05.074663Z"
    }
   },
   "outputs": [],
   "source": [
    "augmented_test.to_csv('datasets/DBLP-ACM/augmented_test.csv',index=False)"
   ]
  },
  {
   "cell_type": "code",
   "execution_count": 8,
   "metadata": {
    "ExecuteTime": {
     "end_time": "2020-03-24T14:18:08.528428Z",
     "start_time": "2020-03-24T14:18:08.445184Z"
    }
   },
   "outputs": [
    {
     "ename": "TypeError",
     "evalue": "process_data_aligned() got an unexpected keyword argument 'LOAD_FROM_DISK_DATASET'",
     "output_type": "error",
     "traceback": [
      "\u001b[0;31m---------------------------------------------------------------------------\u001b[0m",
      "\u001b[0;31mTypeError\u001b[0m                                 Traceback (most recent call last)",
      "\u001b[0;32m<ipython-input-8-b913a1c0e4f8>\u001b[0m in \u001b[0;36m<module>\u001b[0;34m\u001b[0m\n\u001b[0;32m----> 1\u001b[0;31m _,amazongoogle_test = process_data_aligned('datasets/Amazon-GoogleProducts/','amazon-google','amazon_google_matches.csv',\n\u001b[0m\u001b[1;32m      2\u001b[0m                                            'Amazon.csv','Google.csv',LOAD_FROM_DISK_DATASET=True)\n\u001b[1;32m      3\u001b[0m \u001b[0mcreateTestIds\u001b[0m\u001b[0;34m(\u001b[0m\u001b[0mamazongoogle_test\u001b[0m\u001b[0;34m)\u001b[0m\u001b[0;34m.\u001b[0m\u001b[0mto_csv\u001b[0m\u001b[0;34m(\u001b[0m\u001b[0;34m'datasets/Amazon-GoogleProducts/test_ids.csv'\u001b[0m\u001b[0;34m,\u001b[0m\u001b[0mindex\u001b[0m\u001b[0;34m=\u001b[0m\u001b[0;32mFalse\u001b[0m\u001b[0;34m)\u001b[0m\u001b[0;34m\u001b[0m\u001b[0;34m\u001b[0m\u001b[0m\n\u001b[1;32m      4\u001b[0m generateDataset('datasets/Amazon-GoogleProducts/','Amazon.csv','Google.csv','test_ids.csv',\n\u001b[1;32m      5\u001b[0m                'ltable_','rtable_').to_csv('datasets/Amazon-GoogleProducts/test.csv',index=False)\n",
      "\u001b[0;31mTypeError\u001b[0m: process_data_aligned() got an unexpected keyword argument 'LOAD_FROM_DISK_DATASET'"
     ]
    }
   ],
   "source": [
    "_,amazongoogle_test = process_data_aligned('datasets/Amazon-GoogleProducts/','amazon-google','amazon_google_matches.csv',\n",
    "                                           'Amazon.csv','Google.csv',lo=True)\n",
    "createTestIds(amazongoogle_test).to_csv('datasets/Amazon-GoogleProducts/test_ids.csv',index=False)\n",
    "generateDataset('datasets/Amazon-GoogleProducts/','Amazon.csv','Google.csv','test_ids.csv',\n",
    "               'ltable_','rtable_').to_csv('datasets/Amazon-GoogleProducts/test.csv',index=False)"
   ]
  },
  {
   "cell_type": "code",
   "execution_count": 21,
   "metadata": {
    "ExecuteTime": {
     "end_time": "2020-03-23T16:18:23.265376Z",
     "start_time": "2020-03-23T16:18:08.390481Z"
    }
   },
   "outputs": [],
   "source": [
    "augmented_test = prepareDataset('datasets/Amazon-GoogleProducts/','test.csv','Amazon.csv','Google.csv',250)"
   ]
  },
  {
   "cell_type": "code",
   "execution_count": 4,
   "metadata": {
    "ExecuteTime": {
     "end_time": "2020-03-23T17:27:25.448763Z",
     "start_time": "2020-03-23T17:27:25.251602Z"
    }
   },
   "outputs": [
    {
     "name": "stdout",
     "output_type": "stream",
     "text": [
      "match_number: 112\n",
      "len all dataset: 224\n"
     ]
    }
   ],
   "source": [
    "_,fodorszagats_test = process_data_aligned('datasets/fodors_zagats/','fodors-zagats','matches_fodors_zagats.csv',\n",
    "                                          'fodors.csv','zagats.csv',load_from_disk_dataset=True)\n",
    "createTestIds(fodorszagats_test).to_csv('datasets/fodors_zagats/test_ids.csv',index=False)\n",
    "generateDataset('datasets/fodors_zagats/','fodors.csv','zagats.csv','test_ids.csv',\n",
    "               'ltable_','rtable_').to_csv('datasets/fodors_zagats/test.csv',index=False)"
   ]
  },
  {
   "cell_type": "code",
   "execution_count": 3,
   "metadata": {
    "ExecuteTime": {
     "end_time": "2020-03-28T17:41:24.499138Z",
     "start_time": "2020-03-28T17:41:23.997497Z"
    }
   },
   "outputs": [],
   "source": [
    "augmented_test = prepareDataset('datasets/fodors_zagats/','test.csv','fodors.csv','zagats.csv',50)"
   ]
  },
  {
   "cell_type": "code",
   "execution_count": 4,
   "metadata": {
    "ExecuteTime": {
     "end_time": "2020-03-28T17:41:44.448715Z",
     "start_time": "2020-03-28T17:41:44.400015Z"
    }
   },
   "outputs": [],
   "source": [
    "augmented_test.to_csv('datasets/fodors_zagats/augmented_test.csv',index=False)"
   ]
  },
  {
   "cell_type": "code",
   "execution_count": 4,
   "metadata": {
    "ExecuteTime": {
     "end_time": "2020-03-26T16:43:34.825069Z",
     "start_time": "2020-03-26T16:43:34.816980Z"
    }
   },
   "outputs": [
    {
     "name": "stdout",
     "output_type": "stream",
     "text": [
      "match_number: 132\n",
      "len all dataset: 264\n"
     ]
    }
   ],
   "source": [
    "train,test = process_data_aligned('datasets/itunes_amazon/','itunes-amazon','itunes_amazon_matches.csv',\n",
    "                                 'itunes.csv','amazon.csv',load_from_disk_dataset=True)\n",
    "vali\n",
    "createTestIds()"
   ]
  },
  {
   "cell_type": "code",
   "execution_count": 9,
   "metadata": {
    "ExecuteTime": {
     "end_time": "2020-03-27T10:52:23.989944Z",
     "start_time": "2020-03-27T10:52:23.394232Z"
    }
   },
   "outputs": [
    {
     "name": "stdout",
     "output_type": "stream",
     "text": [
      "match_number: 132\n",
      "len all dataset: 264\n"
     ]
    }
   ],
   "source": [
    "create_train_valid_test('datasets/itunes_amazon/','itunes-amazon','matches_itunes_amazon.csv','itunes.csv',\n",
    "                       'amazon.csv')"
   ]
  },
  {
   "cell_type": "code",
   "execution_count": 10,
   "metadata": {
    "ExecuteTime": {
     "end_time": "2020-03-27T10:52:25.508018Z",
     "start_time": "2020-03-27T10:52:25.038503Z"
    }
   },
   "outputs": [
    {
     "name": "stdout",
     "output_type": "stream",
     "text": [
      "match_number: 1154\n",
      "len all dataset: 2308\n"
     ]
    }
   ],
   "source": [
    "create_train_valid_test('datasets/walmart_amazon/','walmart-amazon','walmart-amazon_perfectMapping.csv','walmart.csv',\n",
    "                        'amazon.csv')"
   ]
  },
  {
   "cell_type": "code",
   "execution_count": 11,
   "metadata": {
    "ExecuteTime": {
     "end_time": "2020-03-27T10:52:26.356385Z",
     "start_time": "2020-03-27T10:52:26.115136Z"
    }
   },
   "outputs": [
    {
     "name": "stdout",
     "output_type": "stream",
     "text": [
      "match_number: 2224\n",
      "len all dataset: 4448\n"
     ]
    }
   ],
   "source": [
    "create_train_valid_test('datasets/DBLP-ACM/','dblp-acm','DBLP-ACM_perfectMapping.csv','DBLP2.csv',\n",
    "                       'ACM.csv')"
   ]
  },
  {
   "cell_type": "code",
   "execution_count": 12,
   "metadata": {
    "ExecuteTime": {
     "end_time": "2020-03-27T10:52:28.146121Z",
     "start_time": "2020-03-27T10:52:27.190832Z"
    }
   },
   "outputs": [
    {
     "name": "stdout",
     "output_type": "stream",
     "text": [
      "match_number: 5347\n",
      "len all dataset: 10694\n"
     ]
    }
   ],
   "source": [
    "create_train_valid_test('datasets/DBLP-Scholar/','dblp-scholar','dblp_scholar_matches.csv','DBLP.csv',\n",
    "                       'Scholar.csv')"
   ]
  },
  {
   "cell_type": "code",
   "execution_count": 13,
   "metadata": {
    "ExecuteTime": {
     "end_time": "2020-03-27T10:52:28.780627Z",
     "start_time": "2020-03-27T10:52:28.657868Z"
    }
   },
   "outputs": [
    {
     "name": "stdout",
     "output_type": "stream",
     "text": [
      "match_number: 112\n",
      "len all dataset: 224\n"
     ]
    }
   ],
   "source": [
    "create_train_valid_test('datasets/fodors_zagats/','fodors-zagats','matches_fodors_zagats','fodors.csv','zagats.csv')"
   ]
  },
  {
   "cell_type": "code",
   "execution_count": 14,
   "metadata": {
    "ExecuteTime": {
     "end_time": "2020-03-27T10:53:04.673477Z",
     "start_time": "2020-03-27T10:53:04.301416Z"
    }
   },
   "outputs": [
    {
     "name": "stdout",
     "output_type": "stream",
     "text": [
      "match_number: 1300\n",
      "len all dataset: 2600\n"
     ]
    }
   ],
   "source": [
    "create_train_valid_test('datasets/Amazon-GoogleProducts/','amazon-google','amazon_google_matches.csv',\n",
    "                       'Amazon.csv','Google.csv')"
   ]
  },
  {
   "cell_type": "code",
   "execution_count": 4,
   "metadata": {
    "ExecuteTime": {
     "end_time": "2020-03-27T14:40:08.813713Z",
     "start_time": "2020-03-27T14:40:08.771077Z"
    }
   },
   "outputs": [],
   "source": [
    "train = pd.read_csv('datasets/fodors_zagats_expdata/train.csv')\n",
    "test = pd.read_csv('datasets/fodors_zagats_expdata/test.csv')\n",
    "validation = pd.read_csv('datasets/fodors_zagats_expdata/valid.csv')"
   ]
  },
  {
   "cell_type": "code",
   "execution_count": 5,
   "metadata": {
    "ExecuteTime": {
     "end_time": "2020-03-27T14:41:25.110182Z",
     "start_time": "2020-03-27T14:41:25.062927Z"
    }
   },
   "outputs": [],
   "source": [
    "allsamples = pd.concat([train,validation,test],ignore_index=True)\n",
    "positives = allsamples[allsamples.label==1]\n",
    "positives = positives.drop(['label'],axis=1)\n",
    "positives.columns = ['id1','id2']\n",
    "positives.to_csv('matches_fodors_zagats.csv',index=False)"
   ]
  },
  {
   "cell_type": "code",
   "execution_count": null,
   "metadata": {},
   "outputs": [],
   "source": []
  }
 ],
 "metadata": {
  "kernelspec": {
   "display_name": "Python 3",
   "language": "python",
   "name": "python3"
  },
  "language_info": {
   "codemirror_mode": {
    "name": "ipython",
    "version": 3
   },
   "file_extension": ".py",
   "mimetype": "text/x-python",
   "name": "python",
   "nbconvert_exporter": "python",
   "pygments_lexer": "ipython3",
   "version": "3.8.1"
  },
  "toc": {
   "base_numbering": 1,
   "nav_menu": {},
   "number_sections": true,
   "sideBar": true,
   "skip_h1_title": false,
   "title_cell": "Table of Contents",
   "title_sidebar": "Contents",
   "toc_cell": false,
   "toc_position": {},
   "toc_section_display": true,
   "toc_window_display": false
  }
 },
 "nbformat": 4,
 "nbformat_minor": 2
}
