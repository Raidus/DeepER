{
 "cells": [
  {
   "cell_type": "code",
   "execution_count": 1,
   "metadata": {
    "ExecuteTime": {
     "end_time": "2020-03-30T16:30:35.985756Z",
     "start_time": "2020-03-30T16:30:35.822326Z"
    }
   },
   "outputs": [],
   "source": [
    "import matplotlib as mpl\n",
    "mpl.rcParams['figure.dpi'] = 300"
   ]
  },
  {
   "cell_type": "code",
   "execution_count": 2,
   "metadata": {
    "ExecuteTime": {
     "end_time": "2020-03-30T16:30:36.360872Z",
     "start_time": "2020-03-30T16:30:36.338888Z"
    }
   },
   "outputs": [],
   "source": [
    "%load_ext autoreload\n",
    "%autoreload 2"
   ]
  },
  {
   "cell_type": "code",
   "execution_count": 4,
   "metadata": {
    "ExecuteTime": {
     "end_time": "2020-03-30T16:31:22.411732Z",
     "start_time": "2020-03-30T16:31:22.354922Z"
    }
   },
   "outputs": [],
   "source": [
    "from explanation.deepmatcher_utils import wrapDm\n",
    "from explanation.mojito2 import explainSamples\n",
    "import pandas as pd\n",
    "import deepmatcher as dm"
   ]
  },
  {
   "cell_type": "markdown",
   "metadata": {},
   "source": [
    "## Prelimary operations"
   ]
  },
  {
   "cell_type": "code",
   "execution_count": 5,
   "metadata": {
    "ExecuteTime": {
     "end_time": "2020-03-30T16:31:27.830552Z",
     "start_time": "2020-03-30T16:31:27.782331Z"
    }
   },
   "outputs": [],
   "source": [
    "predict_fn_deepmatcher = lambda data,model,ignore: wrapDm(data,model,ignore_columns=ignore)"
   ]
  },
  {
   "cell_type": "markdown",
   "metadata": {},
   "source": [
    "## BeerAdvo-Ratebeer"
   ]
  },
  {
   "cell_type": "code",
   "execution_count": 7,
   "metadata": {
    "ExecuteTime": {
     "end_time": "2020-03-30T16:31:58.459152Z",
     "start_time": "2020-03-30T16:31:58.376686Z"
    }
   },
   "outputs": [],
   "source": [
    "augmented_test = pd.read_csv('datasets/beeradvo_ratebeer/augmented_test.csv')\n",
    "beeradvo = pd.read_csv('datasets/beeradvo_ratebeer/Beeradvo.csv',dtype=str)\n",
    "ratebeer = pd.read_csv('datasets/beeradvo_ratebeer/Ratebeer.csv',dtype=str)"
   ]
  },
  {
   "cell_type": "code",
   "execution_count": 6,
   "metadata": {
    "ExecuteTime": {
     "end_time": "2020-03-30T16:31:58.372846Z",
     "start_time": "2020-03-30T16:31:53.754972Z"
    }
   },
   "outputs": [],
   "source": [
    "model = dm.MatchingModel(attr_summarizer='hybrid')\n",
    "model.load_state('models/beeradvo_ratebeer_hybrid.pth')"
   ]
  },
  {
   "cell_type": "code",
   "execution_count": 9,
   "metadata": {
    "ExecuteTime": {
     "end_time": "2020-03-30T16:32:27.567230Z",
     "start_time": "2020-03-30T16:32:10.810436Z"
    }
   },
   "outputs": [
    {
     "name": "stderr",
     "output_type": "stream",
     "text": [
      "100%|██████████| 38/38 [00:06<00:00,  5.89it/s]\n"
     ]
    }
   ],
   "source": [
    "negrank_deepmatcher,_ = explainSamples(augmented_test,[beeradvo,ratebeer],model,predict_fn_deepmatcher,\n",
    "                                      0,1)"
   ]
  },
  {
   "cell_type": "code",
   "execution_count": 10,
   "metadata": {
    "ExecuteTime": {
     "end_time": "2020-03-30T16:32:35.056686Z",
     "start_time": "2020-03-30T16:32:27.795204Z"
    }
   },
   "outputs": [
    {
     "name": "stderr",
     "output_type": "stream",
     "text": [
      "100%|██████████| 38/38 [00:06<00:00,  5.76it/s]\n"
     ]
    }
   ],
   "source": [
    "posrank_deepmatcher,flippedNeg_deepmatcher = explainSamples(augmented_test,[beeradvo,ratebeer],model,\n",
    "                                                           predict_fn_deepmatcher,1,1)"
   ]
  },
  {
   "cell_type": "code",
   "execution_count": 13,
   "metadata": {
    "ExecuteTime": {
     "end_time": "2020-03-30T16:33:14.277086Z",
     "start_time": "2020-03-30T16:33:14.090531Z"
    }
   },
   "outputs": [
    {
     "data": {
      "text/plain": [
       "<matplotlib.axes._subplots.AxesSubplot at 0x7f717402e8b0>"
      ]
     },
     "execution_count": 13,
     "metadata": {},
     "output_type": "execute_result"
    },
    {
     "data": {
      "image/png": "[encoded data removed]",
      "text/plain": [
       "<Figure size 432x288 with 1 Axes>"
      ]
     },
     "metadata": {
      "needs_background": "light"
     },
     "output_type": "display_data"
    }
   ],
   "source": [
    "negrank_deepmatcher.plot.bar(color='red',ylim=(0,1),grid=True)"
   ]
  },
  {
   "cell_type": "code",
   "execution_count": 15,
   "metadata": {
    "ExecuteTime": {
     "end_time": "2020-03-30T16:33:27.434728Z",
     "start_time": "2020-03-30T16:33:27.218767Z"
    }
   },
   "outputs": [
    {
     "data": {
      "text/plain": [
       "<matplotlib.axes._subplots.AxesSubplot at 0x7f71083c0910>"
      ]
     },
     "execution_count": 15,
     "metadata": {},
     "output_type": "execute_result"
    },
    {
     "data": {
      "image/png": "[encoded data removed]",
      "text/plain": [
       "<Figure size 432x288 with 1 Axes>"
      ]
     },
     "metadata": {
      "needs_background": "light"
     },
     "output_type": "display_data"
    }
   ],
   "source": [
    "posrank_deepmatcher.plot.bar(color='green',ylim=(0,1),grid=True)"
   ]
  },
  {
   "cell_type": "markdown",
   "metadata": {},
   "source": [
    "## Walmart-Amazon"
   ]
  },
  {
   "cell_type": "code",
   "execution_count": 16,
   "metadata": {
    "ExecuteTime": {
     "end_time": "2020-03-30T16:33:30.774596Z",
     "start_time": "2020-03-30T16:33:30.597320Z"
    }
   },
   "outputs": [],
   "source": [
    "augmented_test = pd.read_csv('datasets/walmart_amazon/augmented_test.csv')\n",
    "walmart = pd.read_csv('datasets/walmart_amazon/walmart.csv',dtype=str)\n",
    "amazon = pd.read_csv('datasets/walmart_amazon/amazon.csv',dtype=str)"
   ]
  },
  {
   "cell_type": "code",
   "execution_count": 17,
   "metadata": {
    "ExecuteTime": {
     "end_time": "2020-03-30T16:33:44.729530Z",
     "start_time": "2020-03-30T16:33:43.930907Z"
    }
   },
   "outputs": [],
   "source": [
    "walmart_deepmatcher = dm.MatchingModel(attr_summarizer='hybrid')\n",
    "walmart_deepmatcher.load_state('models/walmart_amazon_hybrid.pth')"
   ]
  },
  {
   "cell_type": "code",
   "execution_count": 18,
   "metadata": {
    "ExecuteTime": {
     "end_time": "2020-03-30T16:38:27.545570Z",
     "start_time": "2020-03-30T16:33:48.186929Z"
    }
   },
   "outputs": [
    {
     "name": "stderr",
     "output_type": "stream",
     "text": [
      "100%|██████████| 554/554 [04:29<00:00,  2.05it/s]\n"
     ]
    }
   ],
   "source": [
    "negrank_deepmatcher,_ = explainSamples(augmented_test,[walmart,amazon],walmart_deepmatcher,\n",
    "                             predict_fn_deepmatcher,0,1)"
   ]
  },
  {
   "cell_type": "code",
   "execution_count": 19,
   "metadata": {
    "ExecuteTime": {
     "end_time": "2020-03-30T16:38:27.697294Z",
     "start_time": "2020-03-30T16:38:27.547264Z"
    }
   },
   "outputs": [
    {
     "data": {
      "text/plain": [
       "<matplotlib.axes._subplots.AxesSubplot at 0x7f7187103280>"
      ]
     },
     "execution_count": 19,
     "metadata": {},
     "output_type": "execute_result"
    },
    {
     "data": {
      "image/png": "[encoded data removed]",
      "text/plain": [
       "<Figure size 432x288 with 1 Axes>"
      ]
     },
     "metadata": {
      "needs_background": "light"
     },
     "output_type": "display_data"
    }
   ],
   "source": [
    "negrank_deepmatcher.plot.bar(color='red',ylim=(0,1),grid=True)"
   ]
  },
  {
   "cell_type": "code",
   "execution_count": 20,
   "metadata": {
    "ExecuteTime": {
     "end_time": "2020-03-30T16:43:03.926050Z",
     "start_time": "2020-03-30T16:38:27.698963Z"
    }
   },
   "outputs": [
    {
     "name": "stderr",
     "output_type": "stream",
     "text": [
      "100%|██████████| 554/554 [04:26<00:00,  2.08it/s]\n"
     ]
    }
   ],
   "source": [
    "posrank_deepmatcher,_ = explainSamples(augmented_test,[walmart,amazon],walmart_deepmatcher,\n",
    "                                         predict_fn_deepmatcher,1,1)"
   ]
  },
  {
   "cell_type": "code",
   "execution_count": 21,
   "metadata": {
    "ExecuteTime": {
     "end_time": "2020-03-30T16:43:04.190948Z",
     "start_time": "2020-03-30T16:43:03.927802Z"
    }
   },
   "outputs": [
    {
     "data": {
      "text/plain": [
       "<matplotlib.axes._subplots.AxesSubplot at 0x7f7108422a60>"
      ]
     },
     "execution_count": 21,
     "metadata": {},
     "output_type": "execute_result"
    },
    {
     "data": {
      "image/png": "[encoded data removed]",
      "text/plain": [
       "<Figure size 432x288 with 1 Axes>"
      ]
     },
     "metadata": {
      "needs_background": "light"
     },
     "output_type": "display_data"
    }
   ],
   "source": [
    "posrank_deepmatcher.plot.bar(color='green',ylim=(0,1),grid=True)"
   ]
  },
  {
   "cell_type": "markdown",
   "metadata": {},
   "source": [
    "## Amazon-Google"
   ]
  },
  {
   "cell_type": "code",
   "execution_count": 42,
   "metadata": {
    "ExecuteTime": {
     "end_time": "2020-03-30T17:19:42.015020Z",
     "start_time": "2020-03-30T17:19:41.895734Z"
    }
   },
   "outputs": [],
   "source": [
    "augmented_test = pd.read_csv('datasets/Amazon-GoogleProducts/augmented_test.csv')\n",
    "amazon = pd.read_csv('datasets/Amazon-GoogleProducts/Amazon.csv',dtype=str)\n",
    "google = pd.read_csv('datasets/Amazon-GoogleProducts/Google.csv',dtype=str)"
   ]
  },
  {
   "cell_type": "code",
   "execution_count": 40,
   "metadata": {
    "ExecuteTime": {
     "end_time": "2020-03-30T17:19:34.123346Z",
     "start_time": "2020-03-30T17:19:33.409860Z"
    }
   },
   "outputs": [],
   "source": [
    "amzgoogle_deepmatcher = dm.MatchingModel(attr_summarizer='hybrid')\n",
    "amzgoogle_deepmatcher.load_state('models/amazon_google_hybrid.pth')"
   ]
  },
  {
   "cell_type": "code",
   "execution_count": 43,
   "metadata": {
    "ExecuteTime": {
     "end_time": "2020-03-30T17:23:18.724707Z",
     "start_time": "2020-03-30T17:19:44.366392Z"
    }
   },
   "outputs": [
    {
     "name": "stderr",
     "output_type": "stream",
     "text": [
      "100%|██████████| 364/364 [02:54<00:00,  2.08it/s]\n"
     ]
    }
   ],
   "source": [
    "negrank_deepmatcher,_ = explainSamples(augmented_test,[amazon,google],amzgoogle_deepmatcher\n",
    "                                         ,predict_fn_deepmatcher,0,1)"
   ]
  },
  {
   "cell_type": "code",
   "execution_count": 46,
   "metadata": {
    "ExecuteTime": {
     "end_time": "2020-03-30T17:27:41.586591Z",
     "start_time": "2020-03-30T17:23:38.930343Z"
    }
   },
   "outputs": [
    {
     "name": "stderr",
     "output_type": "stream",
     "text": [
      "100%|██████████| 364/364 [03:23<00:00,  1.79it/s]\n"
     ]
    }
   ],
   "source": [
    "posrank_deepmatcher,_ = explainSamples(augmented_test,[amazon,google],amzgoogle_deepmatcher,\n",
    "                                         predict_fn_deepmatcher,1,1)"
   ]
  },
  {
   "cell_type": "code",
   "execution_count": 44,
   "metadata": {
    "ExecuteTime": {
     "end_time": "2020-03-30T17:23:29.258963Z",
     "start_time": "2020-03-30T17:23:29.028491Z"
    }
   },
   "outputs": [
    {
     "data": {
      "text/plain": [
       "<matplotlib.axes._subplots.AxesSubplot at 0x7f70dc30ffd0>"
      ]
     },
     "execution_count": 44,
     "metadata": {},
     "output_type": "execute_result"
    },
    {
     "data": {
      "image/png": "[encoded data removed]",
      "text/plain": [
       "<Figure size 432x288 with 1 Axes>"
      ]
     },
     "metadata": {
      "needs_background": "light"
     },
     "output_type": "display_data"
    }
   ],
   "source": [
    "negrank_deepmatcher.plot.bar(color='red',ylim=(0,1),grid=True)"
   ]
  },
  {
   "cell_type": "code",
   "execution_count": 48,
   "metadata": {
    "ExecuteTime": {
     "end_time": "2020-03-30T17:29:06.655066Z",
     "start_time": "2020-03-30T17:29:06.428285Z"
    }
   },
   "outputs": [
    {
     "data": {
      "text/plain": [
       "<matplotlib.axes._subplots.AxesSubplot at 0x7f70dc251880>"
      ]
     },
     "execution_count": 48,
     "metadata": {},
     "output_type": "execute_result"
    },
    {
     "data": {
      "image/png": "[encoded data removed]",
      "text/plain": [
       "<Figure size 432x288 with 1 Axes>"
      ]
     },
     "metadata": {
      "needs_background": "light"
     },
     "output_type": "display_data"
    }
   ],
   "source": [
    "posrank_deepmatcher.plot.bar(color='green',ylim=(0,1),grid=True)"
   ]
  },
  {
   "cell_type": "markdown",
   "metadata": {},
   "source": [
    "## DBLP-ACM"
   ]
  },
  {
   "cell_type": "code",
   "execution_count": 34,
   "metadata": {
    "ExecuteTime": {
     "end_time": "2020-03-30T17:12:19.365252Z",
     "start_time": "2020-03-30T17:12:19.272374Z"
    }
   },
   "outputs": [],
   "source": [
    "augmented_test = pd.read_csv('datasets/DBLP-ACM/augmented_test.csv')\n",
    "dblp = pd.read_csv('datasets/DBLP-ACM/DBLP2.csv',dtype=str)\n",
    "acm = pd.read_csv('datasets/DBLP-ACM/ACM.csv',dtype=str)"
   ]
  },
  {
   "cell_type": "code",
   "execution_count": 35,
   "metadata": {
    "ExecuteTime": {
     "end_time": "2020-03-30T17:12:33.639973Z",
     "start_time": "2020-03-30T17:12:33.101970Z"
    }
   },
   "outputs": [],
   "source": [
    "dblpacm_deepmatcher = dm.MatchingModel(attr_summarizer='hybrid')\n",
    "dblpacm_deepmatcher.load_state('models/dblp_acm_hybrid.pth')"
   ]
  },
  {
   "cell_type": "code",
   "execution_count": 36,
   "metadata": {
    "ExecuteTime": {
     "end_time": "2020-03-30T17:15:46.874187Z",
     "start_time": "2020-03-30T17:12:37.326351Z"
    }
   },
   "outputs": [
    {
     "name": "stderr",
     "output_type": "stream",
     "text": [
      "100%|██████████| 629/629 [02:59<00:00,  3.51it/s]\n"
     ]
    }
   ],
   "source": [
    "negrank_deepmatcher,_ = explainSamples(augmented_test,[dblp,acm],dblpacm_deepmatcher,predict_fn_deepmatcher,\n",
    "                                        0,1)"
   ]
  },
  {
   "cell_type": "code",
   "execution_count": 37,
   "metadata": {
    "ExecuteTime": {
     "end_time": "2020-03-30T17:15:46.999857Z",
     "start_time": "2020-03-30T17:15:46.875716Z"
    }
   },
   "outputs": [
    {
     "data": {
      "text/plain": [
       "<matplotlib.axes._subplots.AxesSubplot at 0x7f7094c777c0>"
      ]
     },
     "execution_count": 37,
     "metadata": {},
     "output_type": "execute_result"
    },
    {
     "data": {
      "image/png": "[encoded data removed]",
      "text/plain": [
       "<Figure size 432x288 with 1 Axes>"
      ]
     },
     "metadata": {
      "needs_background": "light"
     },
     "output_type": "display_data"
    }
   ],
   "source": [
    "negrank_deepmatcher.plot.bar(color='red',ylim=(0,1),grid=True)"
   ]
  },
  {
   "cell_type": "code",
   "execution_count": 38,
   "metadata": {
    "ExecuteTime": {
     "end_time": "2020-03-30T17:18:54.653501Z",
     "start_time": "2020-03-30T17:15:47.001276Z"
    }
   },
   "outputs": [
    {
     "name": "stderr",
     "output_type": "stream",
     "text": [
      "100%|██████████| 629/629 [02:58<00:00,  3.52it/s]\n"
     ]
    }
   ],
   "source": [
    "posrank_deepmatcher,_ = explainSamples(augmented_test,[dblp,acm],dblpacm_deepmatcher,predict_fn_deepmatcher,\n",
    "                                        1,1)"
   ]
  },
  {
   "cell_type": "code",
   "execution_count": 39,
   "metadata": {
    "ExecuteTime": {
     "end_time": "2020-03-30T17:18:54.789072Z",
     "start_time": "2020-03-30T17:18:54.655442Z"
    }
   },
   "outputs": [
    {
     "data": {
      "text/plain": [
       "<matplotlib.axes._subplots.AxesSubplot at 0x7f70dc225d30>"
      ]
     },
     "execution_count": 39,
     "metadata": {},
     "output_type": "execute_result"
    },
    {
     "data": {
      "image/png": "[encoded data removed]",
      "text/plain": [
       "<Figure size 432x288 with 1 Axes>"
      ]
     },
     "metadata": {
      "needs_background": "light"
     },
     "output_type": "display_data"
    }
   ],
   "source": [
    "posrank_deepmatcher.plot.bar(color='green',ylim=(0,1),grid=True)"
   ]
  },
  {
   "cell_type": "markdown",
   "metadata": {},
   "source": [
    "## DBLP- Scholar"
   ]
  },
  {
   "cell_type": "code",
   "execution_count": 49,
   "metadata": {
    "ExecuteTime": {
     "end_time": "2020-03-30T17:30:28.224665Z",
     "start_time": "2020-03-30T17:30:27.944944Z"
    }
   },
   "outputs": [],
   "source": [
    "augmented_test = pd.read_csv('datasets/DBLP-Scholar/augmented_test2.csv')\n",
    "dblp = pd.read_csv('datasets/DBLP-Scholar/DBLP.csv',dtype=str)\n",
    "scholar = pd.read_csv('datasets/DBLP-Scholar/Scholar.csv',dtype=str)"
   ]
  },
  {
   "cell_type": "code",
   "execution_count": 50,
   "metadata": {
    "ExecuteTime": {
     "end_time": "2020-03-30T17:30:39.580671Z",
     "start_time": "2020-03-30T17:30:38.901724Z"
    }
   },
   "outputs": [],
   "source": [
    "dblpscholar_deepmatcher = dm.MatchingModel(attr_summarizer='hybrid')\n",
    "dblpscholar_deepmatcher.load_state('models/dblp_scholar_hybrid.pth')"
   ]
  },
  {
   "cell_type": "code",
   "execution_count": 51,
   "metadata": {
    "ExecuteTime": {
     "end_time": "2020-03-30T17:39:11.525735Z",
     "start_time": "2020-03-30T17:30:48.295202Z"
    }
   },
   "outputs": [
    {
     "name": "stderr",
     "output_type": "stream",
     "text": [
      "100%|██████████| 883/883 [08:00<00:00,  1.84it/s]\n"
     ]
    }
   ],
   "source": [
    "negrank_deepmatcher,_ = explainSamples(augmented_test,[dblp,scholar],dblpscholar_deepmatcher,predict_fn_deepmatcher,\n",
    "                                      0,1)"
   ]
  },
  {
   "cell_type": "code",
   "execution_count": 52,
   "metadata": {
    "ExecuteTime": {
     "end_time": "2020-03-30T17:47:02.652883Z",
     "start_time": "2020-03-30T17:39:11.527593Z"
    }
   },
   "outputs": [
    {
     "name": "stderr",
     "output_type": "stream",
     "text": [
      "100%|██████████| 883/883 [07:29<00:00,  1.96it/s]\n"
     ]
    }
   ],
   "source": [
    "posrank_deepmatcher,_ = explainSamples(augmented_test,[dblp,scholar],dblpscholar_deepmatcher,predict_fn_deepmatcher,\n",
    "                                      1,1)"
   ]
  },
  {
   "cell_type": "code",
   "execution_count": 15,
   "metadata": {
    "ExecuteTime": {
     "end_time": "2020-03-30T13:17:45.540839Z",
     "start_time": "2020-03-30T13:17:45.418869Z"
    }
   },
   "outputs": [
    {
     "data": {
      "text/plain": [
       "<matplotlib.axes._subplots.AxesSubplot at 0x7f78e4741b20>"
      ]
     },
     "execution_count": 15,
     "metadata": {},
     "output_type": "execute_result"
    },
    {
     "data": {
      "image/png": "[encoded data removed]",
      "text/plain": [
       "<Figure size 432x288 with 1 Axes>"
      ]
     },
     "metadata": {
      "needs_background": "light"
     },
     "output_type": "display_data"
    }
   ],
   "source": [
    "negrank_deepmatcher.plot.bar(color='red',ylim=(0,1))"
   ]
  },
  {
   "cell_type": "code",
   "execution_count": 17,
   "metadata": {
    "ExecuteTime": {
     "end_time": "2020-03-30T13:17:45.776482Z",
     "start_time": "2020-03-30T13:17:45.660763Z"
    }
   },
   "outputs": [
    {
     "data": {
      "text/plain": [
       "<matplotlib.axes._subplots.AxesSubplot at 0x7f790c37f250>"
      ]
     },
     "execution_count": 17,
     "metadata": {},
     "output_type": "execute_result"
    },
    {
     "data": {
      "image/png": "[encoded data removed]",
      "text/plain": [
       "<Figure size 432x288 with 1 Axes>"
      ]
     },
     "metadata": {
      "needs_background": "light"
     },
     "output_type": "display_data"
    }
   ],
   "source": [
    "posrank_deepmatcher.plot.bar(color='green',ylim=(0,1))"
   ]
  },
  {
   "cell_type": "markdown",
   "metadata": {},
   "source": [
    "## Fodors-Zagats"
   ]
  },
  {
   "cell_type": "code",
   "execution_count": 22,
   "metadata": {
    "ExecuteTime": {
     "end_time": "2020-03-30T17:06:15.489839Z",
     "start_time": "2020-03-30T17:06:15.415232Z"
    }
   },
   "outputs": [],
   "source": [
    "augmented_test = pd.read_csv('datasets/fodors_zagats/augmented_test.csv')\n",
    "fodors = pd.read_csv('datasets/fodors_zagats/fodors.csv',dtype=str)\n",
    "zagats = pd.read_csv('datasets/fodors_zagats/zagats.csv',dtype=str)"
   ]
  },
  {
   "cell_type": "code",
   "execution_count": 23,
   "metadata": {
    "ExecuteTime": {
     "end_time": "2020-03-30T17:06:31.108179Z",
     "start_time": "2020-03-30T17:06:30.531342Z"
    }
   },
   "outputs": [],
   "source": [
    "fodors_deepmatcher = dm.MatchingModel(attr_summarizer='hybrid')\n",
    "fodors_deepmatcher.load_state('models/fodors_zagats_hybrid.pth')"
   ]
  },
  {
   "cell_type": "code",
   "execution_count": 25,
   "metadata": {
    "ExecuteTime": {
     "end_time": "2020-03-30T17:06:56.782704Z",
     "start_time": "2020-03-30T17:06:53.331284Z"
    }
   },
   "outputs": [
    {
     "name": "stderr",
     "output_type": "stream",
     "text": [
      "100%|██████████| 8/8 [00:02<00:00,  3.39it/s]\n"
     ]
    }
   ],
   "source": [
    "negrank_deepmatcher,_ = explainSamples(augmented_test,[fodors,zagats],fodors_deepmatcher,predict_fn_deepmatcher,\n",
    "                                   0,1)"
   ]
  },
  {
   "cell_type": "code",
   "execution_count": 26,
   "metadata": {
    "ExecuteTime": {
     "end_time": "2020-03-30T17:09:22.399483Z",
     "start_time": "2020-03-30T17:09:18.460721Z"
    }
   },
   "outputs": [
    {
     "name": "stderr",
     "output_type": "stream",
     "text": [
      "100%|██████████| 8/8 [00:02<00:00,  3.06it/s]\n"
     ]
    }
   ],
   "source": [
    "posrank_deepmatcher,_ = explainSamples(augmented_test,[fodors,zagats],fodors_deepmatcher,predict_fn_deepmatcher,\n",
    "                                        1,1)"
   ]
  },
  {
   "cell_type": "code",
   "execution_count": null,
   "metadata": {
    "ExecuteTime": {
     "end_time": "2020-03-27T19:25:50.175642Z",
     "start_time": "2020-03-27T19:25:49.967154Z"
    }
   },
   "outputs": [],
   "source": [
    "posrank_deeper,_,_ = explainSamples(correct_deeper,[fodors,zagats],fodors_deeper,predict_fn_deeper,\n",
    "                                   1,1)"
   ]
  },
  {
   "cell_type": "code",
   "execution_count": null,
   "metadata": {
    "ExecuteTime": {
     "end_time": "2020-03-27T19:26:28.727720Z",
     "start_time": "2020-03-27T19:26:28.480854Z"
    }
   },
   "outputs": [],
   "source": [
    "ax,posrank = aggregateRankings(posrank_deepmatcher,positive=True,maxLenAttributes=1,lenTriangles=50)"
   ]
  },
  {
   "cell_type": "code",
   "execution_count": null,
   "metadata": {
    "ExecuteTime": {
     "end_time": "2020-03-27T19:26:48.132553Z",
     "start_time": "2020-03-27T19:26:48.055985Z"
    }
   },
   "outputs": [],
   "source": [
    "ax,posrank = aggregateRankings(posrank_deeper,positive=True,maxLenAttributes=1,lenTriangles=8)"
   ]
  },
  {
   "cell_type": "markdown",
   "metadata": {},
   "source": [
    "## Itunes-Amazon"
   ]
  },
  {
   "cell_type": "code",
   "execution_count": 27,
   "metadata": {
    "ExecuteTime": {
     "end_time": "2020-03-30T17:10:17.024426Z",
     "start_time": "2020-03-30T17:10:16.970035Z"
    }
   },
   "outputs": [],
   "source": [
    "DATASET_DIR = 'datasets/itunes_amazon/'"
   ]
  },
  {
   "cell_type": "code",
   "execution_count": 28,
   "metadata": {
    "ExecuteTime": {
     "end_time": "2020-03-30T17:10:18.013660Z",
     "start_time": "2020-03-30T17:10:17.758225Z"
    }
   },
   "outputs": [],
   "source": [
    "augmented_test = pd.read_csv(DATASET_DIR+'augmented_test.csv')\n",
    "itunes = pd.read_csv(DATASET_DIR+'itunes.csv',dtype=str)\n",
    "amazon = pd.read_csv(DATASET_DIR+'amazon.csv',dtype=str)"
   ]
  },
  {
   "cell_type": "code",
   "execution_count": 29,
   "metadata": {
    "ExecuteTime": {
     "end_time": "2020-03-30T17:10:30.175763Z",
     "start_time": "2020-03-30T17:10:29.388648Z"
    }
   },
   "outputs": [],
   "source": [
    "itunes_deepmatcher = dm.MatchingModel(attr_summarizer='hybrid')\n",
    "itunes_deepmatcher.load_state('models/itunes_amazon_hybrid.pth')"
   ]
  },
  {
   "cell_type": "code",
   "execution_count": 30,
   "metadata": {
    "ExecuteTime": {
     "end_time": "2020-03-30T17:11:17.567264Z",
     "start_time": "2020-03-30T17:10:39.578126Z"
    }
   },
   "outputs": [
    {
     "name": "stderr",
     "output_type": "stream",
     "text": [
      "100%|██████████| 82/82 [00:35<00:00,  2.30it/s]\n"
     ]
    }
   ],
   "source": [
    "negrank_deepmatcher,_ = explainSamples(augmented_test,[itunes,amazon],itunes_deepmatcher,\n",
    "                                         predict_fn_deepmatcher,0,1)"
   ]
  },
  {
   "cell_type": "code",
   "execution_count": 31,
   "metadata": {
    "ExecuteTime": {
     "end_time": "2020-03-30T17:11:56.397692Z",
     "start_time": "2020-03-30T17:11:17.570295Z"
    }
   },
   "outputs": [
    {
     "name": "stderr",
     "output_type": "stream",
     "text": [
      "100%|██████████| 82/82 [00:36<00:00,  2.24it/s]\n"
     ]
    }
   ],
   "source": [
    "posrank_deepmatcher,_ = explainSamples(augmented_test,[itunes,amazon],itunes_deepmatcher,predict_fn_deepmatcher,\n",
    "                                        1,1)"
   ]
  },
  {
   "cell_type": "code",
   "execution_count": 32,
   "metadata": {
    "ExecuteTime": {
     "end_time": "2020-03-30T17:11:56.549956Z",
     "start_time": "2020-03-30T17:11:56.399687Z"
    }
   },
   "outputs": [
    {
     "data": {
      "text/plain": [
       "<matplotlib.axes._subplots.AxesSubplot at 0x7f70dc5bf250>"
      ]
     },
     "execution_count": 32,
     "metadata": {},
     "output_type": "execute_result"
    },
    {
     "data": {
      "image/png": "[encoded data removed]",
      "text/plain": [
       "<Figure size 432x288 with 1 Axes>"
      ]
     },
     "metadata": {
      "needs_background": "light"
     },
     "output_type": "display_data"
    }
   ],
   "source": [
    "negrank_deepmatcher.plot.bar(color='red',ylim=(0,1),grid=True)"
   ]
  },
  {
   "cell_type": "code",
   "execution_count": 33,
   "metadata": {
    "ExecuteTime": {
     "end_time": "2020-03-30T17:11:56.690149Z",
     "start_time": "2020-03-30T17:11:56.551811Z"
    }
   },
   "outputs": [
    {
     "data": {
      "text/plain": [
       "<matplotlib.axes._subplots.AxesSubplot at 0x7f70dc52eaf0>"
      ]
     },
     "execution_count": 33,
     "metadata": {},
     "output_type": "execute_result"
    },
    {
     "data": {
      "image/png": "[encoded data removed]",
      "text/plain": [
       "<Figure size 432x288 with 1 Axes>"
      ]
     },
     "metadata": {
      "needs_background": "light"
     },
     "output_type": "display_data"
    }
   ],
   "source": [
    "posrank_deepmatcher.plot.bar(color='green',ylim=(0,1),grid=True)"
   ]
  },
  {
   "cell_type": "code",
   "execution_count": null,
   "metadata": {},
   "outputs": [],
   "source": []
  }
 ],
 "metadata": {
  "kernelspec": {
   "display_name": "Python 3",
   "language": "python",
   "name": "python3"
  },
  "language_info": {
   "codemirror_mode": {
    "name": "ipython",
    "version": 3
   },
   "file_extension": ".py",
   "mimetype": "text/x-python",
   "name": "python",
   "nbconvert_exporter": "python",
   "pygments_lexer": "ipython3",
   "version": "3.8.1"
  },
  "toc": {
   "base_numbering": 1,
   "nav_menu": {},
   "number_sections": true,
   "sideBar": true,
   "skip_h1_title": false,
   "title_cell": "Table of Contents",
   "title_sidebar": "Contents",
   "toc_cell": false,
   "toc_position": {},
   "toc_section_display": true,
   "toc_window_display": true
  }
 },
 "nbformat": 4,
 "nbformat_minor": 4
}
