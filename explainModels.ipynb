{
 "cells": [
  {
   "cell_type": "code",
   "execution_count": 1,
   "metadata": {
    "ExecuteTime": {
     "end_time": "2020-03-24T14:03:35.168521Z",
     "start_time": "2020-03-24T14:03:35.148128Z"
    }
   },
   "outputs": [],
   "source": [
    "%load_ext autoreload\n",
    "%autoreload 2"
   ]
  },
  {
   "cell_type": "code",
   "execution_count": 2,
   "metadata": {
    "ExecuteTime": {
     "end_time": "2020-03-24T14:03:36.461500Z",
     "start_time": "2020-03-24T14:03:35.591187Z"
    }
   },
   "outputs": [],
   "source": [
    "from utils.mojito2 import explainSamples,aggregateRankings,getMixedTriangles,prepareDataset\n",
    "from utils.dataset_parser import generateDataset"
   ]
  },
  {
   "cell_type": "code",
   "execution_count": 3,
   "metadata": {
    "ExecuteTime": {
     "end_time": "2020-03-24T14:03:37.568447Z",
     "start_time": "2020-03-24T14:03:36.463762Z"
    }
   },
   "outputs": [
    {
     "name": "stderr",
     "output_type": "stream",
     "text": [
      "Using TensorFlow backend.\n"
     ]
    }
   ],
   "source": [
    "import pandas as pd\n",
    "import os\n",
    "from deeper.DeepER import init_embeddings_index,init_embeddings_model\n",
    "import numpy as np\n",
    "from keras.models import load_model"
   ]
  },
  {
   "cell_type": "markdown",
   "metadata": {},
   "source": [
    "## Wrapper functions"
   ]
  },
  {
   "cell_type": "code",
   "execution_count": 13,
   "metadata": {
    "ExecuteTime": {
     "end_time": "2020-03-24T14:07:31.914411Z",
     "start_time": "2020-03-24T14:07:31.868523Z"
    }
   },
   "outputs": [],
   "source": [
    "from deeper.data import data2Inputs_unlabeled"
   ]
  },
  {
   "cell_type": "code",
   "execution_count": 4,
   "metadata": {
    "ExecuteTime": {
     "end_time": "2020-03-24T14:06:13.958116Z",
     "start_time": "2020-03-24T14:03:40.168373Z"
    }
   },
   "outputs": [
    {
     "name": "stdout",
     "output_type": "stream",
     "text": [
      "* Costruzione indice degli embeddings.....Fatto. 2196016 embeddings totali.\n"
     ]
    }
   ],
   "source": [
    "# Caricamento strutture dati e modelli ausiliari.\n",
    "EMBEDDING_FILEPATH ='embeddings/glove.840B.300d.txt'\n",
    "embeddings_index = init_embeddings_index(EMBEDDING_FILEPATH)\n",
    "##embeddings_model, tokenizer = init_embeddings_model(embeddings_index)"
   ]
  },
  {
   "cell_type": "code",
   "execution_count": 5,
   "metadata": {
    "ExecuteTime": {
     "end_time": "2020-03-24T14:06:31.060287Z",
     "start_time": "2020-03-24T14:06:13.960872Z"
    }
   },
   "outputs": [
    {
     "name": "stdout",
     "output_type": "stream",
     "text": [
      "* Creazione del modello per il calcolo degli embeddings....\n",
      "* Inizializzo il tokenizzatore.....Fatto: 1702926 parole totali.\n",
      "* Preparazione della matrice di embedding.....Fatto. Dimensioni matrice embeddings: (1702927, 300)\n",
      "\n",
      "°°° EMBEDDING MODEL °°°\n",
      "Model: \"model_1\"\n",
      "__________________________________________________________________________________________________\n",
      "Layer (type)                    Output Shape         Param #     Connected to                     \n",
      "==================================================================================================\n",
      "Tupla_A (InputLayer)            (None, None)         0                                            \n",
      "__________________________________________________________________________________________________\n",
      "Tupla_B (InputLayer)            (None, None)         0                                            \n",
      "__________________________________________________________________________________________________\n",
      "Embedding_lookup (Embedding)    (None, None, 300)    510878100   Tupla_A[0][0]                    \n",
      "                                                                 Tupla_B[0][0]                    \n",
      "==================================================================================================\n",
      "Total params: 510,878,100\n",
      "Trainable params: 0\n",
      "Non-trainable params: 510,878,100\n",
      "__________________________________________________________________________________________________\n"
     ]
    }
   ],
   "source": [
    "embeddings_model, tokenizer = init_embeddings_model(embeddings_index)"
   ]
  },
  {
   "cell_type": "code",
   "execution_count": 9,
   "metadata": {
    "ExecuteTime": {
     "end_time": "2020-03-24T14:07:04.907555Z",
     "start_time": "2020-03-24T14:07:04.855255Z"
    }
   },
   "outputs": [],
   "source": [
    "def dataset_tolist(dataset,lprefix,rprefix,ignore_columns=['label','id']):\n",
    "    res = []\n",
    "    attributes = [col for col in dataset.columns if col not in ignore_columns]\n",
    "    for i in range(len(dataset.index)):\n",
    "        row = dataset.iloc[i]\n",
    "        ltuple,rtuple = ([],[])\n",
    "        for attr in attributes:\n",
    "            if attr.startswith(lprefix):\n",
    "                ltuple = ltuple+ str(row[attr]).split()\n",
    "            else:\n",
    "                rtuple = rtuple+str(row[attr]).split()\n",
    "        res.append((ltuple,rtuple))\n",
    "    return res"
   ]
  },
  {
   "cell_type": "code",
   "execution_count": 10,
   "metadata": {
    "ExecuteTime": {
     "end_time": "2020-03-24T14:07:05.312635Z",
     "start_time": "2020-03-24T14:07:05.280083Z"
    }
   },
   "outputs": [],
   "source": [
    "def wrap_deeper(dataset,lprefix,rprefix,model,tokenizer,embedding_model,ignore_columns=['label','id']):\n",
    "    dataset_list = dataset_tolist(dataset,lprefix,rprefix,ignore_columns=ignore_columns)\n",
    "    ltokens,rtokens = data2Inputs_unlabeled(dataset_list,tokenizer)\n",
    "    lembeddings,rembeddings = embedding_model.predict([ltokens,rtokens])\n",
    "    predictions = model.predict([lembeddings,rembeddings])\n",
    "    return predictions"
   ]
  },
  {
   "cell_type": "code",
   "execution_count": 11,
   "metadata": {
    "ExecuteTime": {
     "end_time": "2020-03-24T14:07:05.528603Z",
     "start_time": "2020-03-24T14:07:05.493143Z"
    }
   },
   "outputs": [],
   "source": [
    "predict_fn = lambda data,model,ignore: wrap_deeper(data,'ltable_','rtable_',model,tokenizer,embeddings_model,\n",
    "                                                  ignore_columns=ignore)"
   ]
  },
  {
   "cell_type": "markdown",
   "metadata": {},
   "source": [
    "## Itunes-Amazon"
   ]
  },
  {
   "cell_type": "code",
   "execution_count": 10,
   "metadata": {
    "ExecuteTime": {
     "end_time": "2020-03-21T18:33:41.901305Z",
     "start_time": "2020-03-21T18:33:40.694331Z"
    }
   },
   "outputs": [],
   "source": [
    "!cp ../deepmatcher-experiments/datasets/Structured/itunes-amazon/tableA.csv ./\n",
    "!cp ../deepmatcher-experiments/datasets/Structured/itunes-amazon/tableB.csv ./"
   ]
  },
  {
   "cell_type": "code",
   "execution_count": 15,
   "metadata": {
    "ExecuteTime": {
     "end_time": "2020-03-21T18:35:48.035791Z",
     "start_time": "2020-03-21T18:35:42.366661Z"
    }
   },
   "outputs": [],
   "source": [
    "itunes_model = load_model('models/DeepER_best_model_100_itunes-amazon.h5')"
   ]
  },
  {
   "cell_type": "code",
   "execution_count": 24,
   "metadata": {
    "ExecuteTime": {
     "end_time": "2020-03-21T18:40:15.737072Z",
     "start_time": "2020-03-21T18:40:03.258932Z"
    }
   },
   "outputs": [
    {
     "name": "stderr",
     "output_type": "stream",
     "text": [
      "100%|██████████| 93/93 [00:12<00:00,  8.49it/s]\n"
     ]
    }
   ],
   "source": [
    "negrank,_,flipped,notflipped = explainSamples(test,[tableA,tableB],itunes_model,predict_fn,0,1)"
   ]
  },
  {
   "cell_type": "code",
   "execution_count": null,
   "metadata": {},
   "outputs": [],
   "source": [
    "aggregateRankings(negrank,positive=False,"
   ]
  },
  {
   "cell_type": "markdown",
   "metadata": {},
   "source": [
    "## Walmart-Amazon"
   ]
  },
  {
   "cell_type": "code",
   "execution_count": 40,
   "metadata": {
    "ExecuteTime": {
     "end_time": "2020-03-24T14:17:01.091163Z",
     "start_time": "2020-03-24T14:17:00.912906Z"
    }
   },
   "outputs": [],
   "source": [
    "augmented_test = pd.read_csv('datasets/walmart_amazon/augmented_test.csv')\n",
    "walmart = pd.read_csv('datasets/walmart_amazon/walmart.csv',dtype=str)\n",
    "amazon = pd.read_csv('datasets/walmart_amazon/amazon.csv',dtype=str)"
   ]
  },
  {
   "cell_type": "code",
   "execution_count": 7,
   "metadata": {
    "ExecuteTime": {
     "end_time": "2020-03-24T14:06:59.067971Z",
     "start_time": "2020-03-24T14:06:56.493451Z"
    }
   },
   "outputs": [],
   "source": [
    "walmart_model = load_model('models/DeepER_best_model_100_walmart-amazon.h5')"
   ]
  },
  {
   "cell_type": "code",
   "execution_count": 41,
   "metadata": {
    "ExecuteTime": {
     "end_time": "2020-03-24T14:17:04.666003Z",
     "start_time": "2020-03-24T14:17:03.517435Z"
    }
   },
   "outputs": [
    {
     "data": {
      "text/plain": [
       "816"
      ]
     },
     "execution_count": 41,
     "metadata": {},
     "output_type": "execute_result"
    }
   ],
   "source": [
    "predictions = predict_fn(augmented_test,walmart_model,['label','id'])\n",
    "tp_group = augmented_test[(predictions[:,1]>=0.5)& (augmented_test['label'] == 1)]\n",
    "tn_group = augmented_test[(predictions[:,0] >=0.5)& (augmented_test['label']==0)]\n",
    "correctPredictions = pd.concat([tp_group,tn_group])\n",
    "len(correctPredictions)"
   ]
  },
  {
   "cell_type": "code",
   "execution_count": 42,
   "metadata": {
    "ExecuteTime": {
     "end_time": "2020-03-24T14:17:20.685201Z",
     "start_time": "2020-03-24T14:17:08.073159Z"
    }
   },
   "outputs": [
    {
     "name": "stderr",
     "output_type": "stream",
     "text": [
      "100%|██████████| 521/521 [00:09<00:00, 57.65it/s]\n"
     ]
    }
   ],
   "source": [
    "negrank,_,_ = explainSamples(correctPredictions,[walmart,amazon],walmart_model,predict_fn,0,1)"
   ]
  },
  {
   "cell_type": "code",
   "execution_count": 43,
   "metadata": {
    "ExecuteTime": {
     "end_time": "2020-03-24T14:17:40.578786Z",
     "start_time": "2020-03-24T14:17:27.679058Z"
    }
   },
   "outputs": [
    {
     "name": "stderr",
     "output_type": "stream",
     "text": [
      "100%|██████████| 521/521 [00:09<00:00, 56.52it/s]\n"
     ]
    }
   ],
   "source": [
    "posrank,_,_ = explainSamples(correctPredictions,[walmart,amazon],walmart_model,predict_fn,1,1)"
   ]
  },
  {
   "cell_type": "code",
   "execution_count": 45,
   "metadata": {
    "ExecuteTime": {
     "end_time": "2020-03-24T14:17:50.124468Z",
     "start_time": "2020-03-24T14:17:49.929263Z"
    }
   },
   "outputs": [
    {
     "data": {
      "image/png": "[encoded data removed]",
      "text/plain": [
       "<Figure size 216x216 with 1 Axes>"
      ]
     },
     "metadata": {
      "needs_background": "light"
     },
     "output_type": "display_data"
    }
   ],
   "source": [
    "ax,rank = aggregateRankings(negrank,positive=False,maxLenAttributes=1,lenTriangles=521)"
   ]
  },
  {
   "cell_type": "code",
   "execution_count": 46,
   "metadata": {
    "ExecuteTime": {
     "end_time": "2020-03-24T14:17:52.197787Z",
     "start_time": "2020-03-24T14:17:51.922229Z"
    }
   },
   "outputs": [
    {
     "data": {
      "image/png": "[encoded data removed]",
      "text/plain": [
       "<Figure size 504x504 with 1 Axes>"
      ]
     },
     "metadata": {
      "needs_background": "light"
     },
     "output_type": "display_data"
    }
   ],
   "source": [
    "ax,rank = aggregateRankings(posrank,positive=True,maxLenAttributes=1,lenTriangles=521)"
   ]
  },
  {
   "cell_type": "markdown",
   "metadata": {},
   "source": [
    "## Amazon-Google"
   ]
  },
  {
   "cell_type": "code",
   "execution_count": 47,
   "metadata": {
    "ExecuteTime": {
     "end_time": "2020-03-24T14:18:51.770095Z",
     "start_time": "2020-03-24T14:18:51.700287Z"
    }
   },
   "outputs": [],
   "source": [
    "augmented_test = pd.read_csv('datasets/Amazon-GoogleProducts/augmented_test.csv')"
   ]
  },
  {
   "cell_type": "code",
   "execution_count": 48,
   "metadata": {
    "ExecuteTime": {
     "end_time": "2020-03-24T14:18:55.084460Z",
     "start_time": "2020-03-24T14:18:52.480178Z"
    }
   },
   "outputs": [],
   "source": [
    "amazongoogle_mod = load_model('models/DeepER_best_model_100_amazon-google.h5')"
   ]
  },
  {
   "cell_type": "code",
   "execution_count": 49,
   "metadata": {
    "ExecuteTime": {
     "end_time": "2020-03-24T14:19:19.753799Z",
     "start_time": "2020-03-24T14:18:55.725976Z"
    }
   },
   "outputs": [
    {
     "data": {
      "text/plain": [
       "567"
      ]
     },
     "execution_count": 49,
     "metadata": {},
     "output_type": "execute_result"
    }
   ],
   "source": [
    "predictions = predict_fn(augmented_test,amazongoogle_mod,['label','id'])\n",
    "tp_group = augmented_test[(predictions[:,1]>=0.5)& (augmented_test['label'] == 1)]\n",
    "tn_group = augmented_test[(predictions[:,0] >=0.5)& (augmented_test['label']==0)]\n",
    "correctPredictions = pd.concat([tp_group,tn_group])\n",
    "len(correctPredictions)"
   ]
  },
  {
   "cell_type": "code",
   "execution_count": 50,
   "metadata": {
    "ExecuteTime": {
     "end_time": "2020-03-24T14:19:26.710289Z",
     "start_time": "2020-03-24T14:19:26.599205Z"
    }
   },
   "outputs": [],
   "source": [
    "amazon = pd.read_csv('datasets/Amazon-GoogleProducts/Amazon.csv',dtype=str)\n",
    "google = pd.read_csv('datasets/Amazon-GoogleProducts/Google.csv',dtype=str)"
   ]
  },
  {
   "cell_type": "code",
   "execution_count": 51,
   "metadata": {
    "ExecuteTime": {
     "end_time": "2020-03-24T14:19:40.522367Z",
     "start_time": "2020-03-24T14:19:27.294033Z"
    }
   },
   "outputs": [
    {
     "name": "stderr",
     "output_type": "stream",
     "text": [
      "100%|██████████| 183/183 [00:12<00:00, 14.86it/s]\n"
     ]
    }
   ],
   "source": [
    "negrank,_,_ = explainSamples(correctPredictions,[amazon,google],amazongoogle_mod,predict_fn,0,1)"
   ]
  },
  {
   "cell_type": "code",
   "execution_count": 52,
   "metadata": {
    "ExecuteTime": {
     "end_time": "2020-03-24T14:19:53.790781Z",
     "start_time": "2020-03-24T14:19:40.524667Z"
    }
   },
   "outputs": [
    {
     "name": "stderr",
     "output_type": "stream",
     "text": [
      "100%|██████████| 183/183 [00:12<00:00, 14.84it/s]\n"
     ]
    }
   ],
   "source": [
    "posrank,_,_ = explainSamples(correctPredictions,[amazon,google],amazongoogle_mod,predict_fn,1,1)"
   ]
  },
  {
   "cell_type": "code",
   "execution_count": 53,
   "metadata": {
    "ExecuteTime": {
     "end_time": "2020-03-24T14:19:53.978998Z",
     "start_time": "2020-03-24T14:19:53.793275Z"
    }
   },
   "outputs": [
    {
     "data": {
      "image/png": "[encoded data removed]",
      "text/plain": [
       "<Figure size 288x288 with 1 Axes>"
      ]
     },
     "metadata": {
      "needs_background": "light"
     },
     "output_type": "display_data"
    }
   ],
   "source": [
    "ax,rank = aggregateRankings(posrank,positive=True,maxLenAttributes=1,lenTriangles=182)"
   ]
  },
  {
   "cell_type": "code",
   "execution_count": 54,
   "metadata": {
    "ExecuteTime": {
     "end_time": "2020-03-24T14:19:54.101250Z",
     "start_time": "2020-03-24T14:19:53.980608Z"
    }
   },
   "outputs": [
    {
     "data": {
      "image/png": "[encoded data removed]",
      "text/plain": [
       "<Figure size 288x288 with 1 Axes>"
      ]
     },
     "metadata": {
      "needs_background": "light"
     },
     "output_type": "display_data"
    }
   ],
   "source": [
    "ax,negrank = aggregateRankings(negrank,positive=False,maxLenAttributes=1,lenTriangles=182)"
   ]
  },
  {
   "cell_type": "markdown",
   "metadata": {},
   "source": [
    "## Fodors-Zagats"
   ]
  },
  {
   "cell_type": "code",
   "execution_count": 17,
   "metadata": {
    "ExecuteTime": {
     "end_time": "2020-03-23T18:05:59.269533Z",
     "start_time": "2020-03-23T18:05:59.216597Z"
    }
   },
   "outputs": [],
   "source": [
    "fodors_model = load_model('models/DeepER_best_model_100_fodors-zagats.h5')\n"
   ]
  },
  {
   "cell_type": "code",
   "execution_count": 26,
   "metadata": {
    "ExecuteTime": {
     "end_time": "2020-03-23T18:08:46.519690Z",
     "start_time": "2020-03-23T18:08:46.462681Z"
    }
   },
   "outputs": [],
   "source": [
    "augmented_test = pd.read_csv('datasets/fodors_zagats/augmented_test.csv')"
   ]
  },
  {
   "cell_type": "code",
   "execution_count": 27,
   "metadata": {
    "ExecuteTime": {
     "end_time": "2020-03-23T18:08:47.357215Z",
     "start_time": "2020-03-23T18:08:47.159763Z"
    }
   },
   "outputs": [
    {
     "data": {
      "text/plain": [
       "(63, 139)"
      ]
     },
     "execution_count": 27,
     "metadata": {},
     "output_type": "execute_result"
    }
   ],
   "source": [
    "predictions = predict_fn(augmented_test,fodors_model,['label','id'])\n",
    "tp_group = augmented_test[(predictions[:,1]>=0.5)& (augmented_test['label'] == 1)]\n",
    "tn_group = augmented_test[(predictions[:,0] >=0.5)& (augmented_test['label']==0)]\n",
    "correctPredictions = pd.concat([tp_group,tn_group])\n",
    "len(correctPredictions),len(augmented_test)"
   ]
  },
  {
   "cell_type": "code",
   "execution_count": 21,
   "metadata": {
    "ExecuteTime": {
     "end_time": "2020-03-23T18:07:23.048510Z",
     "start_time": "2020-03-23T18:07:22.984335Z"
    }
   },
   "outputs": [],
   "source": [
    "fodors = pd.read_csv('datasets/fodors_zagats/fodors.csv',dtype=str)\n",
    "zagats = pd.read_csv('datasets/fodors_zagats/zagats.csv',dtype=str)"
   ]
  },
  {
   "cell_type": "code",
   "execution_count": 22,
   "metadata": {
    "ExecuteTime": {
     "end_time": "2020-03-23T18:07:23.948564Z",
     "start_time": "2020-03-23T18:07:23.610788Z"
    }
   },
   "outputs": [
    {
     "name": "stderr",
     "output_type": "stream",
     "text": [
      "100%|██████████| 11/11 [00:00<00:00, 47.01it/s]\n"
     ]
    }
   ],
   "source": [
    "negrank,_,_ = explainSamples(correctPredictions,[fodors,zagats],fodors_model,predict_fn,0,1)"
   ]
  },
  {
   "cell_type": "code",
   "execution_count": 23,
   "metadata": {
    "ExecuteTime": {
     "end_time": "2020-03-23T18:07:57.828728Z",
     "start_time": "2020-03-23T18:07:57.490986Z"
    }
   },
   "outputs": [
    {
     "name": "stderr",
     "output_type": "stream",
     "text": [
      "100%|██████████| 11/11 [00:00<00:00, 47.66it/s]\n"
     ]
    }
   ],
   "source": [
    "posrank,_,_ = explainSamples(correctPredictions,[fodors,zagats],fodors_model,predict_fn,1,1)"
   ]
  },
  {
   "cell_type": "code",
   "execution_count": null,
   "metadata": {},
   "outputs": [],
   "source": []
  }
 ],
 "metadata": {
  "kernelspec": {
   "display_name": "Python 3",
   "language": "python",
   "name": "python3"
  },
  "language_info": {
   "codemirror_mode": {
    "name": "ipython",
    "version": 3
   },
   "file_extension": ".py",
   "mimetype": "text/x-python",
   "name": "python",
   "nbconvert_exporter": "python",
   "pygments_lexer": "ipython3",
   "version": "3.8.1"
  },
  "toc": {
   "base_numbering": 1,
   "nav_menu": {},
   "number_sections": true,
   "sideBar": true,
   "skip_h1_title": false,
   "title_cell": "Table of Contents",
   "title_sidebar": "Contents",
   "toc_cell": false,
   "toc_position": {
    "height": "calc(100% - 180px)",
    "left": "10px",
    "top": "150px",
    "width": "384px"
   },
   "toc_section_display": true,
   "toc_window_display": true
  }
 },
 "nbformat": 4,
 "nbformat_minor": 2
}
