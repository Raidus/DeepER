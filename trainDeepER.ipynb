{
 "cells": [
  {
   "cell_type": "markdown",
   "metadata": {},
   "source": [
    "# DeepER Classic "
   ]
  },
  {
   "cell_type": "markdown",
   "metadata": {},
   "source": [
    "## Step 0: Caricamento dati, preprocessing e strutture ausiliarie"
   ]
  },
  {
   "cell_type": "code",
   "execution_count": 1,
   "metadata": {
    "ExecuteTime": {
     "end_time": "2020-06-08T15:09:33.841548Z",
     "start_time": "2020-06-08T15:09:33.821943Z"
    }
   },
   "outputs": [],
   "source": [
    "%load_ext autoreload\n",
    "%autoreload 2"
   ]
  },
  {
   "cell_type": "code",
   "execution_count": 11,
   "metadata": {
    "ExecuteTime": {
     "end_time": "2020-06-08T15:12:56.301543Z",
     "start_time": "2020-06-08T15:12:56.250917Z"
    }
   },
   "outputs": [],
   "source": [
    "from deeper.DeepER import init_embeddings_model, init_DeepER_model, train_model_ER, model_statistics\n",
    "from deeper.data import process_data_aligned\n",
    "from deeper.Dataset import Dataset\n",
    "from keras.models import load_model\n",
    "from keras.layers import Dense\n",
    "from plotly import graph_objs as go\n",
    "import plotly.offline as pyo"
   ]
  },
  {
   "cell_type": "markdown",
   "metadata": {},
   "source": [
    "## Load embedding model"
   ]
  },
  {
   "cell_type": "code",
   "execution_count": 4,
   "metadata": {
    "ExecuteTime": {
     "end_time": "2020-06-08T15:10:41.250288Z",
     "start_time": "2020-06-08T15:10:14.000024Z"
    },
    "scrolled": true
   },
   "outputs": [
    {
     "name": "stdout",
     "output_type": "stream",
     "text": [
      "* Inizializzo il tokenizzatore.....Fatto: 1131709 parole totali.\n",
      "* Preparazione della matrice di embedding.....Fatto. Dimensioni matrice embeddings: (1131710, 300)\n",
      "\n",
      "°°° EMBEDDING MODEL °°°\n",
      "Model: \"model_1\"\n",
      "__________________________________________________________________________________________________\n",
      "Layer (type)                    Output Shape         Param #     Connected to                     \n",
      "==================================================================================================\n",
      "Tupla_A (InputLayer)            (None, None)         0                                            \n",
      "__________________________________________________________________________________________________\n",
      "Tupla_B (InputLayer)            (None, None)         0                                            \n",
      "__________________________________________________________________________________________________\n",
      "Embedding_lookup (Embedding)    (None, None, 300)    339513000   Tupla_A[0][0]                    \n",
      "                                                                 Tupla_B[0][0]                    \n",
      "==================================================================================================\n",
      "Total params: 339,513,000\n",
      "Trainable params: 0\n",
      "Non-trainable params: 339,513,000\n",
      "__________________________________________________________________________________________________\n"
     ]
    }
   ],
   "source": [
    "# Caricamento strutture dati e modelli ausiliari.\n",
    "EMBEDDING_FILEPATH ='embeddings/glove.840B.300d'\n",
    "embeddings_model, tokenizer = init_embeddings_model(EMBEDDING_FILEPATH)"
   ]
  },
  {
   "cell_type": "code",
   "execution_count": 27,
   "metadata": {
    "ExecuteTime": {
     "end_time": "2020-06-08T15:23:07.930137Z",
     "start_time": "2020-06-08T15:23:07.878977Z"
    },
    "scrolled": true
   },
   "outputs": [],
   "source": [
    "# InPut: Percentuale di dati considerata per l'addestramento. \n",
    "# OutPut: DeepER addestrato sul taglio scelto.\n",
    "def get_DeepER(perc,train,load_model_from_disk,dataset_name,emb_dim=300):  \n",
    "    \n",
    "    if load_model_from_disk:\n",
    "        \n",
    "        # Carica da disco.\n",
    "        print(f'Loading DeepER_best_model_{int(perc*100)}_{dataset_name}.h5', end='', flush=True)\n",
    "        deeper_model = load_model(f'models/DeepER_best_model_{int(perc*100)}_{dataset_name}.h5')\n",
    "        print('  ->  Done')        \n",
    "                \n",
    "    else:\n",
    "        \n",
    "        # Inizializza il modello.\n",
    "        deeper_model = init_DeepER_model(emb_dim)\n",
    "        # Avvio addestramento.\n",
    "        deeper_model = train_model_ER(train,dataset_name,deeper_model,\n",
    "                                      pretraining=False,\n",
    "                                      metric='val_accuracy',\n",
    "                                      end=f'_{int(perc*100)}_{dataset_name}')\n",
    "        \n",
    "    return deeper_model"
   ]
  },
  {
   "cell_type": "markdown",
   "metadata": {},
   "source": [
    "## Geographical-settlements"
   ]
  },
  {
   "cell_type": "code",
   "execution_count": 7,
   "metadata": {
    "ExecuteTime": {
     "end_time": "2020-06-06T10:45:33.059487Z",
     "start_time": "2020-06-06T10:45:33.014229Z"
    }
   },
   "outputs": [],
   "source": [
    "DATASET_DIR = 'datasets/GeographicSettlements/'\n",
    "DATASET_NAME = 'geography'"
   ]
  },
  {
   "cell_type": "code",
   "execution_count": 13,
   "metadata": {
    "ExecuteTime": {
     "end_time": "2020-06-06T10:46:49.422935Z",
     "start_time": "2020-06-06T10:46:46.558263Z"
    }
   },
   "outputs": [
    {
     "name": "stdout",
     "output_type": "stream",
     "text": [
      "min cosine similarity of matches is 0.07905694150420949\n"
     ]
    }
   ],
   "source": [
    "deeper_train,deeper_test = process_data_aligned(DATASET_DIR,DATASET_NAME,ground_truth='ground_truth.csv',\n",
    "                         table1='settlements_reduced.csv',table2='settlements_reduced.csv')"
   ]
  },
  {
   "cell_type": "code",
   "execution_count": 14,
   "metadata": {
    "ExecuteTime": {
     "end_time": "2020-06-06T10:47:32.352859Z",
     "start_time": "2020-06-06T10:46:49.424731Z"
    }
   },
   "outputs": [
    {
     "name": "stdout",
     "output_type": "stream",
     "text": [
      "\n",
      "°°° DeepER Model °°°\n",
      "Batch size: 106\n",
      "Train on 5620 samples, validate on 1405 samples\n",
      "Epoch 1/64\n",
      "5620/5620 [==============================] - 3s 576us/step - loss: 0.3096 - accuracy: 0.8598 - val_loss: 0.0907 - val_accuracy: 0.9680\n",
      "\n",
      "Epoch 00001: val_accuracy improved from -inf to 0.96797, saving model to models/DeepER_best_model_100_geography.h5\n",
      "Epoch 2/64\n",
      "5620/5620 [==============================] - 2s 374us/step - loss: 0.0491 - accuracy: 0.9817 - val_loss: 0.1204 - val_accuracy: 0.9523\n",
      "\n",
      "Epoch 00002: val_accuracy did not improve from 0.96797\n",
      "Epoch 3/64\n",
      "5620/5620 [==============================] - 2s 374us/step - loss: 0.0315 - accuracy: 0.9891 - val_loss: 0.0581 - val_accuracy: 0.9836\n",
      "\n",
      "Epoch 00003: val_accuracy improved from 0.96797 to 0.98363, saving model to models/DeepER_best_model_100_geography.h5\n",
      "Epoch 4/64\n",
      "5620/5620 [==============================] - 2s 356us/step - loss: 0.0184 - accuracy: 0.9947 - val_loss: 0.0502 - val_accuracy: 0.9858\n",
      "\n",
      "Epoch 00004: val_accuracy improved from 0.98363 to 0.98577, saving model to models/DeepER_best_model_100_geography.h5\n",
      "Epoch 5/64\n",
      "5620/5620 [==============================] - 2s 355us/step - loss: 0.0170 - accuracy: 0.9963 - val_loss: 0.0571 - val_accuracy: 0.9836\n",
      "\n",
      "Epoch 00005: val_accuracy did not improve from 0.98577\n",
      "Epoch 6/64\n",
      "5620/5620 [==============================] - 2s 376us/step - loss: 0.0134 - accuracy: 0.9970 - val_loss: 0.0577 - val_accuracy: 0.9843\n",
      "\n",
      "Epoch 00006: val_accuracy did not improve from 0.98577\n",
      "Epoch 7/64\n",
      "5620/5620 [==============================] - 2s 363us/step - loss: 0.0102 - accuracy: 0.9973 - val_loss: 0.0496 - val_accuracy: 0.9858\n",
      "\n",
      "Epoch 00007: val_accuracy did not improve from 0.98577\n",
      "Epoch 8/64\n",
      "5620/5620 [==============================] - 2s 364us/step - loss: 0.0097 - accuracy: 0.9984 - val_loss: 0.0650 - val_accuracy: 0.9822\n",
      "\n",
      "Epoch 00008: val_accuracy did not improve from 0.98577\n",
      "Epoch 9/64\n",
      "5620/5620 [==============================] - 2s 396us/step - loss: 0.0099 - accuracy: 0.9979 - val_loss: 0.0593 - val_accuracy: 0.9829\n",
      "\n",
      "Epoch 00009: val_accuracy did not improve from 0.98577\n",
      "Epoch 10/64\n",
      "5620/5620 [==============================] - 2s 377us/step - loss: 0.0061 - accuracy: 0.9991 - val_loss: 0.0452 - val_accuracy: 0.9893\n",
      "\n",
      "Epoch 00010: val_accuracy improved from 0.98577 to 0.98932, saving model to models/DeepER_best_model_100_geography.h5\n",
      "Epoch 11/64\n",
      "5620/5620 [==============================] - 2s 401us/step - loss: 0.0062 - accuracy: 0.9984 - val_loss: 0.0552 - val_accuracy: 0.9872\n",
      "\n",
      "Epoch 00011: val_accuracy did not improve from 0.98932\n",
      "Epoch 12/64\n",
      "5620/5620 [==============================] - 2s 391us/step - loss: 0.0058 - accuracy: 0.9988 - val_loss: 0.0530 - val_accuracy: 0.9879\n",
      "\n",
      "Epoch 00012: val_accuracy did not improve from 0.98932\n",
      "Epoch 13/64\n",
      "5620/5620 [==============================] - 2s 397us/step - loss: 0.0037 - accuracy: 0.9991 - val_loss: 0.0471 - val_accuracy: 0.9893\n",
      "\n",
      "Epoch 00013: val_accuracy did not improve from 0.98932\n",
      "Epoch 14/64\n",
      "5620/5620 [==============================] - 2s 381us/step - loss: 0.0038 - accuracy: 0.9988 - val_loss: 0.0471 - val_accuracy: 0.9893\n",
      "\n",
      "Epoch 00014: val_accuracy did not improve from 0.98932\n",
      "Epoch 15/64\n",
      "5620/5620 [==============================] - 2s 404us/step - loss: 0.0030 - accuracy: 0.9991 - val_loss: 0.0667 - val_accuracy: 0.9794\n",
      "\n",
      "Epoch 00015: val_accuracy did not improve from 0.98932\n",
      "Epoch 16/64\n",
      "5620/5620 [==============================] - 2s 406us/step - loss: 0.0027 - accuracy: 0.9989 - val_loss: 0.0613 - val_accuracy: 0.9843\n",
      "\n",
      "Epoch 00016: val_accuracy did not improve from 0.98932\n",
      "Epoch 17/64\n",
      "5620/5620 [==============================] - 2s 406us/step - loss: 0.0020 - accuracy: 0.9991 - val_loss: 0.0984 - val_accuracy: 0.9708\n",
      "\n",
      "Epoch 00017: val_accuracy did not improve from 0.98932\n",
      "Epoch 00017: early stopping\n"
     ]
    }
   ],
   "source": [
    "# Avvio addestramenti o carica da disco.\n",
    "deeper_model_100 = get_DeepER(1,deeper_train,load_model_from_disk=False,dataset_name='geography')"
   ]
  },
  {
   "cell_type": "code",
   "execution_count": 16,
   "metadata": {
    "ExecuteTime": {
     "end_time": "2020-06-06T10:48:52.142279Z",
     "start_time": "2020-06-06T10:48:51.082365Z"
    }
   },
   "outputs": [
    {
     "name": "stdout",
     "output_type": "stream",
     "text": [
      "* Avvio test metriche....\n",
      "-- Corpus size: 1757\n",
      "-- Non Match: 896\n",
      "-- Match: 861\n",
      "* Evaluating: ===========|\n",
      "Precision: 0.981630309988519, Recall: 0.9930313588850174, f1-score: 0.9872979214780601\n",
      "Total retrieved: 871, retrieved/total matches: 855/861\n",
      "0.9872979214780601\n"
     ]
    }
   ],
   "source": [
    "# Misurazione dell'f-measure sullo stesso test set con i diversi modelli.\n",
    "f1_score= model_statistics(deeper_test, deeper_model_100, embeddings_model, tokenizer)\n",
    "print(f1_score)"
   ]
  },
  {
   "cell_type": "markdown",
   "metadata": {},
   "source": [
    "## Walmart-Amazon"
   ]
  },
  {
   "cell_type": "code",
   "execution_count": 4,
   "metadata": {
    "ExecuteTime": {
     "end_time": "2020-03-24T13:53:52.128703Z",
     "start_time": "2020-03-24T13:53:52.066921Z"
    }
   },
   "outputs": [],
   "source": [
    "# Imposta manualmente a False per ricreare il file contenente il dataset scelto. \n",
    "LOAD_FROM_DISK_DATASET=False\n",
    "# Imposta manualmente a False per ri-eseguire tutti gli addestramenti.\n",
    "LOAD_FROM_DISK_MODEL = False\n",
    "# Il nome con cui saranno etichettati i files prodotti\n",
    "DATASET_DIR = 'datasets/walmart_amazon/'\n",
    "DATASET_NAME ='walmart-amazon'\n",
    "TABLE1_FILE = 'walmart.csv'\n",
    "TABLE2_FILE = 'amazon.csv'"
   ]
  },
  {
   "cell_type": "code",
   "execution_count": 5,
   "metadata": {
    "ExecuteTime": {
     "end_time": "2020-03-24T13:53:54.845350Z",
     "start_time": "2020-03-24T13:53:52.567598Z"
    },
    "scrolled": true
   },
   "outputs": [
    {
     "name": "stdout",
     "output_type": "stream",
     "text": [
      "min cosine similarity of matches is 0.11669000700233413\n"
     ]
    }
   ],
   "source": [
    "deeper_train,deeper_test = process_data_aligned(DATASET_DIR,DATASET_NAME,ground_truth='walmart-amazon_perfectMapping.csv',\n",
    "                         table1=TABLE1_FILE,table2=TABLE2_FILE)"
   ]
  },
  {
   "cell_type": "code",
   "execution_count": 10,
   "metadata": {
    "ExecuteTime": {
     "end_time": "2020-03-24T13:54:42.548074Z",
     "start_time": "2020-03-24T13:54:03.268713Z"
    }
   },
   "outputs": [
    {
     "name": "stdout",
     "output_type": "stream",
     "text": [
      "\n",
      "°°° DeepER Model °°°\n",
      "Batch size: 29\n",
      "Train on 1476 samples, validate on 370 samples\n",
      "Epoch 1/64\n",
      "1476/1476 [==============================] - 5s 3ms/step - loss: 0.3307 - accuracy: 0.8320 - val_loss: 0.2830 - val_accuracy: 0.9135\n",
      "\n",
      "Epoch 00001: val_accuracy improved from -inf to 0.91351, saving model to models/DeepER_best_model_100_walmart-amazon.h5\n",
      "Epoch 2/64\n",
      "1476/1476 [==============================] - 4s 2ms/step - loss: 0.1002 - accuracy: 0.9661 - val_loss: 0.1097 - val_accuracy: 0.9703\n",
      "\n",
      "Epoch 00002: val_accuracy improved from 0.91351 to 0.97027, saving model to models/DeepER_best_model_100_walmart-amazon.h5\n",
      "Epoch 3/64\n",
      "1476/1476 [==============================] - 4s 2ms/step - loss: 0.0336 - accuracy: 0.9912 - val_loss: 0.1392 - val_accuracy: 0.9568\n",
      "\n",
      "Epoch 00003: val_accuracy did not improve from 0.97027\n",
      "Epoch 4/64\n",
      "1476/1476 [==============================] - 4s 2ms/step - loss: 0.0118 - accuracy: 0.9973 - val_loss: 0.1461 - val_accuracy: 0.9676\n",
      "\n",
      "Epoch 00004: val_accuracy did not improve from 0.97027\n",
      "Epoch 5/64\n",
      "1476/1476 [==============================] - 3s 2ms/step - loss: 0.0172 - accuracy: 0.9966 - val_loss: 0.1709 - val_accuracy: 0.9514\n",
      "\n",
      "Epoch 00005: val_accuracy did not improve from 0.97027\n",
      "Epoch 6/64\n",
      "1476/1476 [==============================] - 4s 2ms/step - loss: 0.0129 - accuracy: 0.9959 - val_loss: 0.1843 - val_accuracy: 0.9541\n",
      "\n",
      "Epoch 00006: val_accuracy did not improve from 0.97027\n",
      "Epoch 7/64\n",
      "1476/1476 [==============================] - 4s 2ms/step - loss: 0.0016 - accuracy: 1.0000 - val_loss: 0.1770 - val_accuracy: 0.9649\n",
      "\n",
      "Epoch 00007: val_accuracy did not improve from 0.97027\n",
      "Epoch 8/64\n",
      "1476/1476 [==============================] - 4s 3ms/step - loss: 4.3900e-04 - accuracy: 1.0000 - val_loss: 0.1978 - val_accuracy: 0.9595\n",
      "\n",
      "Epoch 00008: val_accuracy did not improve from 0.97027\n",
      "Epoch 9/64\n",
      "1476/1476 [==============================] - 4s 2ms/step - loss: 2.0080e-04 - accuracy: 1.0000 - val_loss: 0.2064 - val_accuracy: 0.9568\n",
      "\n",
      "Epoch 00009: val_accuracy did not improve from 0.97027\n",
      "Epoch 00009: early stopping\n"
     ]
    }
   ],
   "source": [
    "# Avvio addestramenti o carica da disco.\n",
    "deeper_model_100 = get_DeepER(1,deeper_train,LOAD_FROM_DISK_MODEL=False)"
   ]
  },
  {
   "cell_type": "markdown",
   "metadata": {},
   "source": [
    "### Calcolo F-Measure dopo addestramento"
   ]
  },
  {
   "cell_type": "code",
   "execution_count": 11,
   "metadata": {
    "ExecuteTime": {
     "end_time": "2020-03-24T13:54:48.137497Z",
     "start_time": "2020-03-24T13:54:47.162408Z"
    },
    "scrolled": true
   },
   "outputs": [
    {
     "name": "stdout",
     "output_type": "stream",
     "text": [
      "* Avvio test metriche....\n",
      "-- Corpus size: 462\n",
      "-- Non Match: 250\n",
      "-- Match: 212\n",
      "* Evaluating: ===========|\n",
      "Precision: 0.9759615384615384, Recall: 0.9575471698113207, f1-score: 0.9666666666666666\n",
      "Total retrieved: 208, retrieved/total matches: 203/212\n",
      "0.9666666666666666\n"
     ]
    }
   ],
   "source": [
    "# Misurazione dell'f-measure sullo stesso test set con i diversi modelli.\n",
    "f1_score= model_statistics(deeper_test, deeper_model_100, embeddings_model, tokenizer)\n",
    "print(f1_score)"
   ]
  },
  {
   "cell_type": "markdown",
   "metadata": {},
   "source": [
    "### Visualizzazione F-Measure"
   ]
  },
  {
   "cell_type": "code",
   "execution_count": null,
   "metadata": {
    "scrolled": false
   },
   "outputs": [],
   "source": [
    "# Attiva modalità notebook per mostrare i grafici correttamente.\n",
    "pyo.init_notebook_mode()\n",
    "\n",
    "splits = ['100% split', '75% split', '50% split', '25% split', '10% split', '5% split']\n",
    "total_tup = len(deeper_train)\n",
    "tuplecount = [total_tup, \n",
    "              int(total_tup*0.75), \n",
    "              int(total_tup*0.5), \n",
    "              int(total_tup*0.25), \n",
    "              int(total_tup*0.1), \n",
    "              int(total_tup*0.05)]\n",
    "\n",
    "# Aggiungi descrizione al numero\n",
    "tuplecount = list(map(lambda x: f'{x} coppie di tuple', tuplecount))\n",
    "\n",
    "fig = go.Figure(data=[go.Bar(name='DeepER', x=splits, y=fm_model_standard, hovertext=tuplecount)])\n",
    "\n",
    "#fig.show()\n",
    "\n",
    "# Plotta il grafico e salvalo come features_standard.html (verrà integrato nell'html).\n",
    "pyo.iplot(fig, filename='fmeasures-standard')"
   ]
  },
  {
   "cell_type": "markdown",
   "metadata": {},
   "source": [
    "##### Al passaggio del mouse il grafico mostra:\n",
    "- Il numero di coppie di tuple utilizzate per l'addestramento; \n",
    "- La percentuale di split (Quantità di tuple utilizzate per addestrare il modello);\n",
    "- Il valore di F-Measure (media armonica tra precision e recall);"
   ]
  },
  {
   "cell_type": "markdown",
   "metadata": {},
   "source": [
    "## iTunes-Amazon"
   ]
  },
  {
   "cell_type": "code",
   "execution_count": 12,
   "metadata": {
    "ExecuteTime": {
     "end_time": "2020-06-08T15:13:00.439265Z",
     "start_time": "2020-06-08T15:13:00.391699Z"
    }
   },
   "outputs": [],
   "source": [
    "ITUNES_DIR = 'datasets/itunes_amazon/'\n",
    "DATASET_NAME ='itunes-amazon'\n",
    "TABLE1_FILE = 'itunes.csv'\n",
    "TABLE2_FILE = 'amazon.csv'"
   ]
  },
  {
   "cell_type": "code",
   "execution_count": 7,
   "metadata": {
    "ExecuteTime": {
     "end_time": "2020-06-08T15:11:16.088162Z",
     "start_time": "2020-06-08T15:11:16.036126Z"
    }
   },
   "outputs": [
    {
     "name": "stdout",
     "output_type": "stream",
     "text": [
      "match_number: 132\n",
      "len all dataset: 264\n"
     ]
    }
   ],
   "source": [
    "itunes_train,itunes_test = process_data_aligned(ITUNES_DIR,DATASET_NAME,ground_truth='matches_itunes_amazon.csv',\n",
    "                         table1=TABLE1_FILE,table2=TABLE2_FILE,load_from_disk_dataset=True)"
   ]
  },
  {
   "cell_type": "code",
   "execution_count": 21,
   "metadata": {
    "ExecuteTime": {
     "end_time": "2020-06-08T15:19:02.021503Z",
     "start_time": "2020-06-08T15:19:01.795256Z"
    }
   },
   "outputs": [],
   "source": [
    "itunes_train_deeper = Dataset(tokenizer,embeddings_model,itunes_train)"
   ]
  },
  {
   "cell_type": "code",
   "execution_count": null,
   "metadata": {
    "ExecuteTime": {
     "start_time": "2020-06-08T15:23:13.239Z"
    }
   },
   "outputs": [
    {
     "name": "stdout",
     "output_type": "stream",
     "text": [
      "\n",
      "°°° DeepER Model °°°\n",
      "Batch size: 4\n",
      "Train on 168 samples, validate on 43 samples\n",
      "Epoch 1/64\n",
      "168/168 [==============================] - 4s 23ms/step - loss: 0.5993 - accuracy: 0.6964 - val_loss: 0.5682 - val_accuracy: 0.7209\n",
      "\n",
      "Epoch 00001: val_accuracy improved from -inf to 0.72093, saving model to models/itunes-amazon_best_model_100_itunes-amazon.h5\n",
      "Epoch 2/64\n",
      "168/168 [==============================] - 3s 15ms/step - loss: 0.3019 - accuracy: 0.9048 - val_loss: 0.3759 - val_accuracy: 0.8372\n",
      "\n",
      "Epoch 00002: val_accuracy improved from 0.72093 to 0.83721, saving model to models/itunes-amazon_best_model_100_itunes-amazon.h5\n",
      "Epoch 3/64\n",
      "168/168 [==============================] - 2s 15ms/step - loss: 0.0641 - accuracy: 0.9821 - val_loss: 0.5640 - val_accuracy: 0.7674\n",
      "\n",
      "Epoch 00003: val_accuracy did not improve from 0.83721\n",
      "Epoch 4/64\n",
      "168/168 [==============================] - 3s 15ms/step - loss: 0.1037 - accuracy: 0.9702 - val_loss: 0.7802 - val_accuracy: 0.7442\n",
      "\n",
      "Epoch 00004: val_accuracy did not improve from 0.83721\n",
      "Epoch 5/64\n",
      "168/168 [==============================] - 3s 15ms/step - loss: 0.0730 - accuracy: 0.9643 - val_loss: 0.8065 - val_accuracy: 0.8140\n",
      "\n",
      "Epoch 00005: val_accuracy did not improve from 0.83721\n",
      "Epoch 6/64\n",
      " 80/168 [=============>................] - ETA: 1s - loss: 0.0043 - accuracy: 1.0000"
     ]
    }
   ],
   "source": [
    "# Avvio addestramenti o carica da disco.\n",
    "deeper_model_itunes_100 = get_DeepER(perc=1,train = itunes_train_deeper,load_model_from_disk=False,\n",
    "                                    dataset_name='itunes-amazon')"
   ]
  },
  {
   "cell_type": "code",
   "execution_count": 19,
   "metadata": {
    "ExecuteTime": {
     "end_time": "2020-03-24T13:58:14.514120Z",
     "start_time": "2020-03-24T13:58:13.883961Z"
    }
   },
   "outputs": [
    {
     "name": "stdout",
     "output_type": "stream",
     "text": [
      "* Avvio test metriche....\n",
      "-- Corpus size: 53\n",
      "-- Non Match: 31\n",
      "-- Match: 22\n",
      "* Evaluating: ===========|\n",
      "Precision: 0.7916666666666666, Recall: 0.8636363636363636, f1-score: 0.8260869565217391\n",
      "Total retrieved: 24, retrieved/total matches: 19/22\n"
     ]
    },
    {
     "data": {
      "text/plain": [
       "0.8260869565217391"
      ]
     },
     "execution_count": 19,
     "metadata": {},
     "output_type": "execute_result"
    }
   ],
   "source": [
    "# Misurazione dell'f-measure sullo stesso test set con i diversi modelli.\n",
    "f1_score= model_statistics(itunes_test, deeper_model_itunes_100, embeddings_model, tokenizer)\n",
    "f1_score"
   ]
  },
  {
   "cell_type": "markdown",
   "metadata": {},
   "source": [
    "## Amazon-Google"
   ]
  },
  {
   "cell_type": "code",
   "execution_count": 20,
   "metadata": {
    "ExecuteTime": {
     "end_time": "2020-03-24T13:58:18.527478Z",
     "start_time": "2020-03-24T13:58:18.475520Z"
    }
   },
   "outputs": [],
   "source": [
    "DATA_DIR = 'datasets/Amazon-GoogleProducts/'\n",
    "DATASET_NAME ='amazon-google'\n",
    "TABLE1_FILE = 'Amazon.csv'\n",
    "TABLE2_FILE = 'Google.csv'"
   ]
  },
  {
   "cell_type": "code",
   "execution_count": 21,
   "metadata": {
    "ExecuteTime": {
     "end_time": "2020-03-24T13:58:25.410533Z",
     "start_time": "2020-03-24T13:58:25.344735Z"
    }
   },
   "outputs": [
    {
     "name": "stdout",
     "output_type": "stream",
     "text": [
      "match_number: 1300\n",
      "len all dataset: 2600\n"
     ]
    }
   ],
   "source": [
    "train,test = process_data_aligned(DATA_DIR,DATASET_NAME,ground_truth='amazon_google_matches.csv',\n",
    "                         table1=TABLE1_FILE,table2=TABLE2_FILE,load_from_disk_dataset=True)"
   ]
  },
  {
   "cell_type": "code",
   "execution_count": 25,
   "metadata": {
    "ExecuteTime": {
     "end_time": "2020-03-21T17:34:19.761641Z",
     "start_time": "2020-03-21T16:12:38.942555Z"
    }
   },
   "outputs": [
    {
     "name": "stdout",
     "output_type": "stream",
     "text": [
      "\n",
      "°°° DeepER Model °°°\n",
      "__________________________________________________________________________________________________\n",
      "Layer (type)                    Output Shape         Param #     Connected to                     \n",
      "==================================================================================================\n",
      "Embeddings_seq_a (InputLayer)   (None, None, 300)    0                                            \n",
      "__________________________________________________________________________________________________\n",
      "Embeddings_seq_b (InputLayer)   (None, None, 300)    0                                            \n",
      "__________________________________________________________________________________________________\n",
      "Composition (Bidirectional)     (None, 300)          541200      Embeddings_seq_a[0][0]           \n",
      "                                                                 Embeddings_seq_b[0][0]           \n",
      "__________________________________________________________________________________________________\n",
      "Similarity (Lambda)             (None, 300)          0           Composition[0][0]                \n",
      "                                                                 Composition[1][0]                \n",
      "__________________________________________________________________________________________________\n",
      "Dense1 (Dense)                  (None, 300)          90300       Similarity[0][0]                 \n",
      "__________________________________________________________________________________________________\n",
      "Dense2 (Dense)                  (None, 300)          90300       Dense1[0][0]                     \n",
      "__________________________________________________________________________________________________\n",
      "Classification (Dense)          (None, 2)            602         Dense2[0][0]                     \n",
      "==================================================================================================\n",
      "Total params: 722,402\n",
      "Trainable params: 722,402\n",
      "Non-trainable params: 0\n",
      "__________________________________________________________________________________________________\n",
      "* Preparazione input......Fatto. 2080 tuple totali, esempio label: 1 -> [0. 1.], Table1 shape: (2080, 2791), Table2 shape: (2080, 74)\n",
      "Batch size: 32\n",
      "Train on 1664 samples, validate on 416 samples\n",
      "Epoch 1/64\n",
      "1664/1664 [==============================] - 454s 273ms/step - loss: 0.4229 - acc: 0.8185 - val_loss: 0.2655 - val_acc: 0.8942\n",
      "\n",
      "Epoch 00001: val_acc improved from -inf to 0.89423, saving model to models/DeepER_best_model_100_amazon-google.h5\n",
      "Epoch 2/64\n",
      "1664/1664 [==============================] - 437s 262ms/step - loss: 0.1307 - acc: 0.9573 - val_loss: 0.2165 - val_acc: 0.9255\n",
      "\n",
      "Epoch 00002: val_acc improved from 0.89423 to 0.92548, saving model to models/DeepER_best_model_100_amazon-google.h5\n",
      "Epoch 3/64\n",
      "1664/1664 [==============================] - 437s 263ms/step - loss: 0.0572 - acc: 0.9796 - val_loss: 0.2696 - val_acc: 0.9135\n",
      "\n",
      "Epoch 00003: val_acc did not improve from 0.92548\n",
      "Epoch 4/64\n",
      "1664/1664 [==============================] - 439s 264ms/step - loss: 0.0505 - acc: 0.9868 - val_loss: 0.2086 - val_acc: 0.9327\n",
      "\n",
      "Epoch 00004: val_acc improved from 0.92548 to 0.93269, saving model to models/DeepER_best_model_100_amazon-google.h5\n",
      "Epoch 5/64\n",
      "1664/1664 [==============================] - 434s 261ms/step - loss: 0.0199 - acc: 0.9952 - val_loss: 0.2547 - val_acc: 0.9255\n",
      "\n",
      "Epoch 00005: val_acc did not improve from 0.93269\n",
      "Epoch 6/64\n",
      "1664/1664 [==============================] - 423s 254ms/step - loss: 0.0288 - acc: 0.9910 - val_loss: 0.3449 - val_acc: 0.9087\n",
      "\n",
      "Epoch 00006: val_acc did not improve from 0.93269\n",
      "Epoch 7/64\n",
      "1664/1664 [==============================] - 437s 263ms/step - loss: 0.0217 - acc: 0.9958 - val_loss: 0.2377 - val_acc: 0.9207\n",
      "\n",
      "Epoch 00007: val_acc did not improve from 0.93269\n",
      "Epoch 8/64\n",
      "1664/1664 [==============================] - 443s 266ms/step - loss: 0.0102 - acc: 0.9952 - val_loss: 0.2470 - val_acc: 0.9111\n",
      "\n",
      "Epoch 00008: val_acc did not improve from 0.93269\n",
      "Epoch 9/64\n",
      "1664/1664 [==============================] - 460s 277ms/step - loss: 0.0103 - acc: 0.9970 - val_loss: 0.2677 - val_acc: 0.9327\n",
      "\n",
      "Epoch 00009: val_acc did not improve from 0.93269\n",
      "Epoch 10/64\n",
      "1664/1664 [==============================] - 454s 273ms/step - loss: 0.0406 - acc: 0.9886 - val_loss: 0.2772 - val_acc: 0.9255\n",
      "\n",
      "Epoch 00010: val_acc did not improve from 0.93269\n",
      "Epoch 11/64\n",
      "1664/1664 [==============================] - 444s 267ms/step - loss: 0.0091 - acc: 0.9976 - val_loss: 0.3356 - val_acc: 0.9159\n",
      "\n",
      "Epoch 00011: val_acc did not improve from 0.93269\n",
      "Epoch 00011: early stopping\n"
     ]
    }
   ],
   "source": [
    "# Avvio addestramenti o carica da disco.\n",
    "deeper_model_amazongoogle_100 = get_DeepER(1,train,LOAD_FROM_DISK_MODEL=False)"
   ]
  },
  {
   "cell_type": "markdown",
   "metadata": {},
   "source": [
    "## DBLP-ACM"
   ]
  },
  {
   "cell_type": "code",
   "execution_count": 4,
   "metadata": {
    "ExecuteTime": {
     "end_time": "2020-03-24T13:58:32.777164Z",
     "start_time": "2020-03-24T13:58:32.730266Z"
    }
   },
   "outputs": [],
   "source": [
    "DATA_DIR = 'datasets/DBLP-ACM/'\n",
    "DATASET_NAME ='dblp-acm'\n",
    "TABLE1_FILE = 'DBLP2.csv'\n",
    "TABLE2_FILE = 'ACM.csv'"
   ]
  },
  {
   "cell_type": "code",
   "execution_count": 6,
   "metadata": {
    "ExecuteTime": {
     "end_time": "2020-03-24T13:58:39.759622Z",
     "start_time": "2020-03-24T13:58:39.687693Z"
    }
   },
   "outputs": [
    {
     "name": "stdout",
     "output_type": "stream",
     "text": [
      "min cosine similarity of matches is 0.16035674514745463\n"
     ]
    }
   ],
   "source": [
    "train,test = process_data_aligned(DATA_DIR,DATASET_NAME,ground_truth='DBLP-ACM_perfectMapping.csv',\n",
    "                         table1=TABLE1_FILE,table2=TABLE2_FILE,load_from_disk_dataset=False)"
   ]
  },
  {
   "cell_type": "code",
   "execution_count": null,
   "metadata": {
    "ExecuteTime": {
     "end_time": "2020-03-24T13:59:51.215459Z",
     "start_time": "2020-03-24T13:58:40.872300Z"
    }
   },
   "outputs": [
    {
     "name": "stdout",
     "output_type": "stream",
     "text": [
      "\n",
      "°°° DeepER Model °°°\n",
      "Batch size: 54\n",
      "Train on 2846 samples, validate on 712 samples\n",
      "Epoch 1/64\n",
      "2846/2846 [==============================] - 12s 4ms/step - loss: 0.2969 - accuracy: 0.8668 - val_loss: 0.1164 - val_accuracy: 0.9719\n",
      "\n",
      "Epoch 00001: val_accuracy improved from -inf to 0.97191, saving model to models\\DeepER_best_model_100_dblp-acm.h5\n",
      "Epoch 2/64\n",
      "2846/2846 [==============================] - 11s 4ms/step - loss: 0.0477 - accuracy: 0.9845 - val_loss: 0.0954 - val_accuracy: 0.9705\n",
      "\n",
      "Epoch 00002: val_accuracy did not improve from 0.97191\n",
      "Epoch 3/64\n",
      "2846/2846 [==============================] - 11s 4ms/step - loss: 0.0230 - accuracy: 0.9940 - val_loss: 0.1070 - val_accuracy: 0.9747\n",
      "\n",
      "Epoch 00003: val_accuracy improved from 0.97191 to 0.97472, saving model to models\\DeepER_best_model_100_dblp-acm.h5\n",
      "Epoch 4/64\n",
      "2846/2846 [==============================] - 12s 4ms/step - loss: 0.0090 - accuracy: 0.9982 - val_loss: 0.1245 - val_accuracy: 0.9761\n",
      "\n",
      "Epoch 00004: val_accuracy improved from 0.97472 to 0.97612, saving model to models\\DeepER_best_model_100_dblp-acm.h5\n",
      "Epoch 5/64\n",
      "2846/2846 [==============================] - 11s 4ms/step - loss: 0.0117 - accuracy: 0.9965 - val_loss: 0.1345 - val_accuracy: 0.9733\n",
      "\n",
      "Epoch 00005: val_accuracy did not improve from 0.97612\n",
      "Epoch 6/64\n",
      "2846/2846 [==============================] - 11s 4ms/step - loss: 0.0322 - accuracy: 0.9930 - val_loss: 0.1085 - val_accuracy: 0.9747\n",
      "\n",
      "Epoch 00006: val_accuracy did not improve from 0.97612\n",
      "Epoch 7/64\n",
      "2846/2846 [==============================] - 12s 4ms/step - loss: 0.0225 - accuracy: 0.9937 - val_loss: 0.1365 - val_accuracy: 0.9663\n",
      "\n",
      "Epoch 00007: val_accuracy did not improve from 0.97612\n",
      "Epoch 8/64\n",
      "2808/2846 [============================>.] - ETA: 0s - loss: 0.0090 - accuracy: 0.9982"
     ]
    }
   ],
   "source": [
    "# Avvio addestramenti o carica da disco.\n",
    "deeper_model_dblpacm_100 = get_DeepER(1,train,load_model_from_disk=False,dataset_name='dblp-acm')"
   ]
  },
  {
   "cell_type": "code",
   "execution_count": 25,
   "metadata": {
    "ExecuteTime": {
     "end_time": "2020-03-24T14:00:20.398330Z",
     "start_time": "2020-03-24T14:00:19.057871Z"
    }
   },
   "outputs": [
    {
     "name": "stdout",
     "output_type": "stream",
     "text": [
      "* Avvio test metriche....\n",
      "-- Corpus size: 890\n",
      "-- Non Match: 463\n",
      "-- Match: 427\n",
      "* Evaluating: ==========|\n",
      "Precision: 0.9742388758782201, Recall: 0.9742388758782201, f1-score: 0.9742388758782201\n",
      "Total retrieved: 427, retrieved/total matches: 416/427\n"
     ]
    },
    {
     "data": {
      "text/plain": [
       "0.9742388758782201"
      ]
     },
     "execution_count": 25,
     "metadata": {},
     "output_type": "execute_result"
    }
   ],
   "source": [
    "f1_score = model_statistics(test,deeper_model_dblpacm_100,embeddings_model,tokenizer)\n",
    "f1_score"
   ]
  },
  {
   "cell_type": "markdown",
   "metadata": {},
   "source": [
    "## Fodors-Zagats"
   ]
  },
  {
   "cell_type": "code",
   "execution_count": 6,
   "metadata": {
    "ExecuteTime": {
     "end_time": "2020-03-27T11:17:25.011656Z",
     "start_time": "2020-03-27T11:17:24.964218Z"
    }
   },
   "outputs": [],
   "source": [
    "DATA_DIR = 'datasets/fodors_zagats/'\n",
    "DATASET_NAME ='fodors-zagats'\n",
    "TABLE1_FILE = 'fodors.csv'\n",
    "TABLE2_FILE = 'zagats.csv'\n",
    "GROUND_TRUTH = 'matches_fodors_zagats.csv'"
   ]
  },
  {
   "cell_type": "code",
   "execution_count": 7,
   "metadata": {
    "ExecuteTime": {
     "end_time": "2020-03-27T11:17:37.252633Z",
     "start_time": "2020-03-27T11:17:30.081815Z"
    }
   },
   "outputs": [
    {
     "name": "stdout",
     "output_type": "stream",
     "text": [
      "min cosine similarity of matches is 0.5669467095138409\n"
     ]
    }
   ],
   "source": [
    "train,test = process_data_aligned(DATA_DIR,DATASET_NAME,ground_truth=GROUND_TRUTH,\n",
    "                         table1=TABLE1_FILE,table2=TABLE2_FILE,load_from_disk_dataset=False)"
   ]
  },
  {
   "cell_type": "code",
   "execution_count": null,
   "metadata": {
    "ExecuteTime": {
     "end_time": "2020-03-27T11:20:51.809507Z",
     "start_time": "2020-03-27T11:20:40.721838Z"
    }
   },
   "outputs": [
    {
     "name": "stdout",
     "output_type": "stream",
     "text": [
      "\n",
      "°°° DeepER Model °°°\n",
      "Batch size: 4\n",
      "Train on 143 samples, validate on 36 samples\n",
      "Epoch 1/64\n",
      "143/143 [==============================] - 4s 28ms/step - loss: 0.2274 - accuracy: 0.8811 - val_loss: 1.7357 - val_accuracy: 0.8333\n",
      "\n",
      "Epoch 00001: val_accuracy improved from -inf to 0.83333, saving model to models\\DeepER_best_model_100_fodors_zagats.h5\n",
      "Epoch 2/64\n",
      "143/143 [==============================] - 2s 12ms/step - loss: 0.1174 - accuracy: 0.9860 - val_loss: 1.0408 - val_accuracy: 0.8333\n",
      "\n",
      "Epoch 00002: val_accuracy did not improve from 0.83333\n",
      "Epoch 3/64\n",
      "143/143 [==============================] - 2s 12ms/step - loss: 0.0255 - accuracy: 0.9860 - val_loss: 0.9409 - val_accuracy: 0.8333\n",
      "\n",
      "Epoch 00003: val_accuracy did not improve from 0.83333\n",
      "Epoch 4/64\n",
      "143/143 [==============================] - 2s 13ms/step - loss: 0.0078 - accuracy: 1.0000 - val_loss: 1.0860 - val_accuracy: 0.8333\n",
      "\n",
      "Epoch 00004: val_accuracy did not improve from 0.83333\n",
      "Epoch 5/64\n",
      "143/143 [==============================] - 2s 12ms/step - loss: 0.0011 - accuracy: 1.0000 - val_loss: 1.1402 - val_accuracy: 0.8333\n",
      "\n",
      "Epoch 00005: val_accuracy did not improve from 0.83333\n",
      "Epoch 6/64\n",
      "143/143 [==============================] - 2s 12ms/step - loss: 2.2769e-04 - accuracy: 1.0000 - val_loss: 1.1566 - val_accuracy: 0.8333\n",
      "\n",
      "Epoch 00006: val_accuracy did not improve from 0.83333\n",
      "Epoch 7/64\n",
      "143/143 [==============================] - 2s 12ms/step - loss: 1.1449e-04 - accuracy: 1.0000 - val_loss: 1.1660 - val_accuracy: 0.8333\n",
      "\n",
      "Epoch 00007: val_accuracy did not improve from 0.83333\n",
      "Epoch 8/64\n",
      " 92/143 [==================>...........] - ETA: 0s - loss: 4.8339e-05 - accuracy: 1.0000"
     ]
    }
   ],
   "source": [
    "# Avvio addestramenti o carica da disco.\n",
    "foodors_zagats_100 = get_DeepER(1,train,load_model_from_disk=False,dataset_name='fodors_zagats')"
   ]
  },
  {
   "cell_type": "code",
   "execution_count": 29,
   "metadata": {
    "ExecuteTime": {
     "end_time": "2020-03-24T14:00:47.332254Z",
     "start_time": "2020-03-24T14:00:46.763847Z"
    }
   },
   "outputs": [
    {
     "name": "stdout",
     "output_type": "stream",
     "text": [
      "* Avvio test metriche....\n",
      "-- Corpus size: 45\n",
      "-- Non Match: 24\n",
      "-- Match: 21\n",
      "* Evaluating: ============|\n",
      "Precision: 0.8181818181818182, Recall: 0.8571428571428571, f1-score: 0.8372093023255814\n",
      "Total retrieved: 22, retrieved/total matches: 18/21\n"
     ]
    },
    {
     "data": {
      "text/plain": [
       "0.8372093023255814"
      ]
     },
     "execution_count": 29,
     "metadata": {},
     "output_type": "execute_result"
    }
   ],
   "source": [
    "f1_score = model_statistics(test,foodors_zagats_100,embeddings_model,tokenizer)\n",
    "f1_score"
   ]
  },
  {
   "cell_type": "markdown",
   "metadata": {},
   "source": [
    "## DBLP-Scholar"
   ]
  },
  {
   "cell_type": "code",
   "execution_count": 4,
   "metadata": {
    "ExecuteTime": {
     "end_time": "2020-03-28T17:05:28.660323Z",
     "start_time": "2020-03-28T17:05:28.325084Z"
    }
   },
   "outputs": [
    {
     "name": "stdout",
     "output_type": "stream",
     "text": [
      "match_number: 5347\n",
      "len all dataset: 10694\n"
     ]
    }
   ],
   "source": [
    "train,test = process_data_aligned('datasets/DBLP-Scholar/','dblp-scholar',ground_truth='dblp_scholar_matches.csv',\n",
    "                         table1='DBLP.csv',table2='Scholar.csv',load_from_disk_dataset=True)"
   ]
  },
  {
   "cell_type": "code",
   "execution_count": 10,
   "metadata": {
    "ExecuteTime": {
     "end_time": "2020-03-28T17:10:29.372773Z",
     "start_time": "2020-03-28T17:08:26.981988Z"
    }
   },
   "outputs": [
    {
     "name": "stdout",
     "output_type": "stream",
     "text": [
      "\n",
      "°°° DeepER Model °°°\n",
      "Batch size: 129\n",
      "Train on 6844 samples, validate on 1711 samples\n",
      "Epoch 1/64\n",
      "6844/6844 [==============================] - 9s 1ms/step - loss: 0.2820 - accuracy: 0.8672 - val_loss: 0.1539 - val_accuracy: 0.9410\n",
      "\n",
      "Epoch 00001: val_accuracy improved from -inf to 0.94097, saving model to models/DeepER_best_model_100_DBLP_Scholar.h5\n",
      "Epoch 2/64\n",
      "6844/6844 [==============================] - 7s 1ms/step - loss: 0.0642 - accuracy: 0.9768 - val_loss: 0.0850 - val_accuracy: 0.9679\n",
      "\n",
      "Epoch 00002: val_accuracy improved from 0.94097 to 0.96786, saving model to models/DeepER_best_model_100_DBLP_Scholar.h5\n",
      "Epoch 3/64\n",
      "6844/6844 [==============================] - 7s 1ms/step - loss: 0.0204 - accuracy: 0.9949 - val_loss: 0.0717 - val_accuracy: 0.9772\n",
      "\n",
      "Epoch 00003: val_accuracy improved from 0.96786 to 0.97721, saving model to models/DeepER_best_model_100_DBLP_Scholar.h5\n",
      "Epoch 4/64\n",
      "6844/6844 [==============================] - 7s 1000us/step - loss: 0.0109 - accuracy: 0.9962 - val_loss: 0.1094 - val_accuracy: 0.9708\n",
      "\n",
      "Epoch 00004: val_accuracy did not improve from 0.97721\n",
      "Epoch 5/64\n",
      "6844/6844 [==============================] - 7s 1ms/step - loss: 0.0147 - accuracy: 0.9953 - val_loss: 0.0735 - val_accuracy: 0.9778\n",
      "\n",
      "Epoch 00005: val_accuracy improved from 0.97721 to 0.97779, saving model to models/DeepER_best_model_100_DBLP_Scholar.h5\n",
      "Epoch 6/64\n",
      "6844/6844 [==============================] - 7s 1ms/step - loss: 0.0060 - accuracy: 0.9984 - val_loss: 0.0669 - val_accuracy: 0.9807\n",
      "\n",
      "Epoch 00006: val_accuracy improved from 0.97779 to 0.98071, saving model to models/DeepER_best_model_100_DBLP_Scholar.h5\n",
      "Epoch 7/64\n",
      "6844/6844 [==============================] - 7s 1ms/step - loss: 0.0068 - accuracy: 0.9982 - val_loss: 0.1308 - val_accuracy: 0.9667\n",
      "\n",
      "Epoch 00007: val_accuracy did not improve from 0.98071\n",
      "Epoch 8/64\n",
      "6844/6844 [==============================] - 7s 1ms/step - loss: 0.0070 - accuracy: 0.9971 - val_loss: 0.0825 - val_accuracy: 0.9760\n",
      "\n",
      "Epoch 00008: val_accuracy did not improve from 0.98071\n",
      "Epoch 9/64\n",
      "6844/6844 [==============================] - 7s 1ms/step - loss: 0.0108 - accuracy: 0.9966 - val_loss: 0.0567 - val_accuracy: 0.9842\n",
      "\n",
      "Epoch 00009: val_accuracy improved from 0.98071 to 0.98422, saving model to models/DeepER_best_model_100_DBLP_Scholar.h5\n",
      "Epoch 10/64\n",
      "6844/6844 [==============================] - 7s 1ms/step - loss: 0.0136 - accuracy: 0.9956 - val_loss: 0.0904 - val_accuracy: 0.9743\n",
      "\n",
      "Epoch 00010: val_accuracy did not improve from 0.98422\n",
      "Epoch 11/64\n",
      "6844/6844 [==============================] - 7s 1ms/step - loss: 0.0045 - accuracy: 0.9981 - val_loss: 0.1047 - val_accuracy: 0.9749\n",
      "\n",
      "Epoch 00011: val_accuracy did not improve from 0.98422\n",
      "Epoch 12/64\n",
      "6844/6844 [==============================] - 7s 1ms/step - loss: 0.0019 - accuracy: 0.9991 - val_loss: 0.0927 - val_accuracy: 0.9772\n",
      "\n",
      "Epoch 00012: val_accuracy did not improve from 0.98422\n",
      "Epoch 13/64\n",
      "6844/6844 [==============================] - 7s 1ms/step - loss: 7.0199e-04 - accuracy: 0.9997 - val_loss: 0.1127 - val_accuracy: 0.9731\n",
      "\n",
      "Epoch 00013: val_accuracy did not improve from 0.98422\n",
      "Epoch 14/64\n",
      "6844/6844 [==============================] - 7s 1ms/step - loss: 0.0047 - accuracy: 0.9982 - val_loss: 0.1044 - val_accuracy: 0.9766\n",
      "\n",
      "Epoch 00014: val_accuracy did not improve from 0.98422\n",
      "Epoch 15/64\n",
      "6844/6844 [==============================] - 7s 1ms/step - loss: 0.0083 - accuracy: 0.9968 - val_loss: 0.1005 - val_accuracy: 0.9749\n",
      "\n",
      "Epoch 00015: val_accuracy did not improve from 0.98422\n",
      "Epoch 16/64\n",
      "6844/6844 [==============================] - 7s 1ms/step - loss: 0.0083 - accuracy: 0.9972 - val_loss: 0.1015 - val_accuracy: 0.9731\n",
      "\n",
      "Epoch 00016: val_accuracy did not improve from 0.98422\n",
      "Epoch 00016: early stopping\n"
     ]
    }
   ],
   "source": [
    "# Avvio addestramenti o carica da disco.\n",
    "dblp_scholar_100 = get_DeepER(1,train,load_model_from_disk=False,dataset_name='DBLP_Scholar')"
   ]
  },
  {
   "cell_type": "code",
   "execution_count": 11,
   "metadata": {
    "ExecuteTime": {
     "end_time": "2020-03-28T17:10:59.037836Z",
     "start_time": "2020-03-28T17:10:56.999079Z"
    }
   },
   "outputs": [
    {
     "name": "stdout",
     "output_type": "stream",
     "text": [
      "* Avvio test metriche....\n",
      "-- Corpus size: 2139\n",
      "-- Non Match: 1044\n",
      "-- Match: 1095\n",
      "* Evaluating: ===========|\n",
      "Precision: 0.9862132352941176, Recall: 0.9799086757990868, f1-score: 0.983050847457627\n",
      "Total retrieved: 1088, retrieved/total matches: 1073/1095\n"
     ]
    },
    {
     "data": {
      "text/plain": [
       "0.983050847457627"
      ]
     },
     "execution_count": 11,
     "metadata": {},
     "output_type": "execute_result"
    }
   ],
   "source": [
    "model_statistics(test,dblp_scholar_100,embeddings_model,tokenizer)"
   ]
  },
  {
   "cell_type": "markdown",
   "metadata": {},
   "source": [
    "## BeerAdvo-RateBeer"
   ]
  },
  {
   "cell_type": "code",
   "execution_count": 10,
   "metadata": {
    "ExecuteTime": {
     "end_time": "2020-03-30T09:25:32.608905Z",
     "start_time": "2020-03-30T09:25:32.407083Z"
    }
   },
   "outputs": [
    {
     "name": "stdout",
     "output_type": "stream",
     "text": [
      "min cosine similarity of matches is 0.2773500981126146\n"
     ]
    }
   ],
   "source": [
    "train,test = process_data_aligned('datasets/beeradvo_ratebeer/','beer',ground_truth='beeradvo_ratebeer_matches.csv',\n",
    "                         table1='Beeradvo.csv',table2='Ratebeer.csv',load_from_disk_dataset=False,neg_pos_ratio=2)"
   ]
  },
  {
   "cell_type": "code",
   "execution_count": 22,
   "metadata": {
    "ExecuteTime": {
     "end_time": "2020-03-30T09:30:41.681623Z",
     "start_time": "2020-03-30T09:30:16.475046Z"
    }
   },
   "outputs": [
    {
     "name": "stdout",
     "output_type": "stream",
     "text": [
      "\n",
      "°°° DeepER Model °°°\n",
      "Batch size: 3\n",
      "Train on 130 samples, validate on 33 samples\n",
      "Epoch 1/64\n",
      "130/130 [==============================] - 3s 20ms/step - loss: 0.6911 - accuracy: 0.5923 - val_loss: 0.6399 - val_accuracy: 0.6364\n",
      "\n",
      "Epoch 00001: val_accuracy improved from -inf to 0.63636, saving model to models/DeepER_best_model_100_beeradvo-ratebeer.h5\n",
      "Epoch 2/64\n",
      "130/130 [==============================] - 1s 9ms/step - loss: 0.5012 - accuracy: 0.7846 - val_loss: 0.6453 - val_accuracy: 0.5455\n",
      "\n",
      "Epoch 00002: val_accuracy did not improve from 0.63636\n",
      "Epoch 3/64\n",
      "130/130 [==============================] - 1s 10ms/step - loss: 0.1885 - accuracy: 0.9308 - val_loss: 0.5971 - val_accuracy: 0.7576\n",
      "\n",
      "Epoch 00003: val_accuracy improved from 0.63636 to 0.75758, saving model to models/DeepER_best_model_100_beeradvo-ratebeer.h5\n",
      "Epoch 4/64\n",
      "130/130 [==============================] - 1s 11ms/step - loss: 0.0707 - accuracy: 0.9923 - val_loss: 0.5524 - val_accuracy: 0.7879\n",
      "\n",
      "Epoch 00004: val_accuracy improved from 0.75758 to 0.78788, saving model to models/DeepER_best_model_100_beeradvo-ratebeer.h5\n",
      "Epoch 5/64\n",
      "130/130 [==============================] - 1s 11ms/step - loss: 0.0232 - accuracy: 0.9923 - val_loss: 0.5815 - val_accuracy: 0.7879\n",
      "\n",
      "Epoch 00005: val_accuracy did not improve from 0.78788\n",
      "Epoch 6/64\n",
      "130/130 [==============================] - 1s 11ms/step - loss: 0.0046 - accuracy: 1.0000 - val_loss: 0.3827 - val_accuracy: 0.7576\n",
      "\n",
      "Epoch 00006: val_accuracy did not improve from 0.78788\n",
      "Epoch 7/64\n",
      "130/130 [==============================] - 1s 10ms/step - loss: 9.3076e-04 - accuracy: 1.0000 - val_loss: 0.5219 - val_accuracy: 0.8182\n",
      "\n",
      "Epoch 00007: val_accuracy improved from 0.78788 to 0.81818, saving model to models/DeepER_best_model_100_beeradvo-ratebeer.h5\n",
      "Epoch 8/64\n",
      "130/130 [==============================] - 1s 11ms/step - loss: 3.5106e-04 - accuracy: 1.0000 - val_loss: 0.6011 - val_accuracy: 0.7879\n",
      "\n",
      "Epoch 00008: val_accuracy did not improve from 0.81818\n",
      "Epoch 9/64\n",
      "130/130 [==============================] - 1s 10ms/step - loss: 2.2786e-04 - accuracy: 1.0000 - val_loss: 0.6287 - val_accuracy: 0.7879\n",
      "\n",
      "Epoch 00009: val_accuracy did not improve from 0.81818\n",
      "Epoch 10/64\n",
      "130/130 [==============================] - 1s 10ms/step - loss: 1.5955e-04 - accuracy: 1.0000 - val_loss: 0.6547 - val_accuracy: 0.7879\n",
      "\n",
      "Epoch 00010: val_accuracy did not improve from 0.81818\n",
      "Epoch 11/64\n",
      "130/130 [==============================] - 1s 10ms/step - loss: 1.1612e-04 - accuracy: 1.0000 - val_loss: 0.6852 - val_accuracy: 0.7879\n",
      "\n",
      "Epoch 00011: val_accuracy did not improve from 0.81818\n",
      "Epoch 12/64\n",
      "130/130 [==============================] - 1s 10ms/step - loss: 8.3890e-05 - accuracy: 1.0000 - val_loss: 0.6796 - val_accuracy: 0.7879\n",
      "\n",
      "Epoch 00012: val_accuracy did not improve from 0.81818\n",
      "Epoch 13/64\n",
      "130/130 [==============================] - 1s 10ms/step - loss: 6.2899e-05 - accuracy: 1.0000 - val_loss: 0.6651 - val_accuracy: 0.7879\n",
      "\n",
      "Epoch 00013: val_accuracy did not improve from 0.81818\n",
      "Epoch 14/64\n",
      "130/130 [==============================] - 1s 10ms/step - loss: 4.7583e-05 - accuracy: 1.0000 - val_loss: 0.6606 - val_accuracy: 0.7879\n",
      "\n",
      "Epoch 00014: val_accuracy did not improve from 0.81818\n",
      "Epoch 00014: early stopping\n"
     ]
    }
   ],
   "source": [
    "beer_model = get_DeepER(1,train,load_model_from_disk=False,dataset_name='beeradvo-ratebeer')"
   ]
  },
  {
   "cell_type": "code",
   "execution_count": 23,
   "metadata": {
    "ExecuteTime": {
     "end_time": "2020-03-30T09:31:09.801087Z",
     "start_time": "2020-03-30T09:31:09.165382Z"
    }
   },
   "outputs": [
    {
     "name": "stdout",
     "output_type": "stream",
     "text": [
      "* Avvio test metriche....\n",
      "-- Corpus size: 41\n",
      "-- Non Match: 30\n",
      "-- Match: 11\n",
      "* Evaluating: ===========|\n",
      "Precision: 0.8571428571428571, Recall: 0.5454545454545454, f1-score: 0.6666666666666665\n",
      "Total retrieved: 7, retrieved/total matches: 6/11\n"
     ]
    },
    {
     "data": {
      "text/plain": [
       "0.6666666666666665"
      ]
     },
     "execution_count": 23,
     "metadata": {},
     "output_type": "execute_result"
    }
   ],
   "source": [
    "model_statistics(test,beer_model,embeddings_model,tokenizer)"
   ]
  },
  {
   "cell_type": "markdown",
   "metadata": {},
   "source": [
    "## Test"
   ]
  },
  {
   "cell_type": "code",
   "execution_count": 15,
   "metadata": {
    "ExecuteTime": {
     "end_time": "2020-03-28T17:17:19.470459Z",
     "start_time": "2020-03-28T17:17:19.418520Z"
    }
   },
   "outputs": [],
   "source": [
    "from keras.models import load_model\n",
    "from deeper.deeper_utils import wrap_deeper\n",
    "import pandas as pd"
   ]
  },
  {
   "cell_type": "code",
   "execution_count": 13,
   "metadata": {
    "ExecuteTime": {
     "end_time": "2020-03-28T17:16:17.031234Z",
     "start_time": "2020-03-28T17:16:14.809886Z"
    }
   },
   "outputs": [],
   "source": [
    "fodors_model = load_model('models/DeepER_best_model_100_fodors-zagats.h5')"
   ]
  },
  {
   "cell_type": "code",
   "execution_count": 33,
   "metadata": {
    "ExecuteTime": {
     "end_time": "2020-03-28T17:41:47.354529Z",
     "start_time": "2020-03-28T17:41:47.277301Z"
    }
   },
   "outputs": [
    {
     "data": {
      "text/html": [
       "<div>\n",
       "<style scoped>\n",
       "    .dataframe tbody tr th:only-of-type {\n",
       "        vertical-align: middle;\n",
       "    }\n",
       "\n",
       "    .dataframe tbody tr th {\n",
       "        vertical-align: top;\n",
       "    }\n",
       "\n",
       "    .dataframe thead th {\n",
       "        text-align: right;\n",
       "    }\n",
       "</style>\n",
       "<table border=\"1\" class=\"dataframe\">\n",
       "  <thead>\n",
       "    <tr style=\"text-align: right;\">\n",
       "      <th></th>\n",
       "      <th>label</th>\n",
       "      <th>ltable_name</th>\n",
       "      <th>ltable_addr</th>\n",
       "      <th>ltable_city</th>\n",
       "      <th>ltable_phone</th>\n",
       "      <th>ltable_restype</th>\n",
       "      <th>ltable_class</th>\n",
       "      <th>rtable_name</th>\n",
       "      <th>rtable_addr</th>\n",
       "      <th>rtable_city</th>\n",
       "      <th>rtable_phone</th>\n",
       "      <th>rtable_restype</th>\n",
       "      <th>rtable_class</th>\n",
       "      <th>id</th>\n",
       "    </tr>\n",
       "  </thead>\n",
       "  <tbody>\n",
       "    <tr>\n",
       "      <th>88</th>\n",
       "      <td>0</td>\n",
       "      <td>'second avenue deli'</td>\n",
       "      <td>'156 2nd ave. at 10th st.'</td>\n",
       "      <td>'new york'</td>\n",
       "      <td>212/677-0606</td>\n",
       "      <td>delicatessen</td>\n",
       "      <td>58</td>\n",
       "      <td>'grill  the'</td>\n",
       "      <td>'9560 dayton way'</td>\n",
       "      <td>'beverly hills'</td>\n",
       "      <td>310-276-0615</td>\n",
       "      <td>'american (traditional)'</td>\n",
       "      <td>9</td>\n",
       "      <td>592#228</td>\n",
       "    </tr>\n",
       "    <tr>\n",
       "      <th>89</th>\n",
       "      <td>0</td>\n",
       "      <td>'second avenue deli'</td>\n",
       "      <td>'156 2nd ave. at 10th st.'</td>\n",
       "      <td>'new york'</td>\n",
       "      <td>212/677-0606</td>\n",
       "      <td>delicatessen</td>\n",
       "      <td>58</td>\n",
       "      <td>'la caravelle'</td>\n",
       "      <td>'33 w. 55th st.'</td>\n",
       "      <td>'new york city'</td>\n",
       "      <td>212-586-4252</td>\n",
       "      <td>'french (classic)'</td>\n",
       "      <td>39</td>\n",
       "      <td>592#258</td>\n",
       "    </tr>\n",
       "    <tr>\n",
       "      <th>90</th>\n",
       "      <td>0</td>\n",
       "      <td>'pano\\'s and paul\\'s'</td>\n",
       "      <td>'1232 w. paces ferry rd.'</td>\n",
       "      <td>atlanta</td>\n",
       "      <td>404/261-3662</td>\n",
       "      <td>international</td>\n",
       "      <td>88</td>\n",
       "      <td>'stefano\\'s'</td>\n",
       "      <td>'129 fremont st.'</td>\n",
       "      <td>'las vegas'</td>\n",
       "      <td>702-385-7111</td>\n",
       "      <td>italian</td>\n",
       "      <td>672</td>\n",
       "      <td>622#139</td>\n",
       "    </tr>\n",
       "    <tr>\n",
       "      <th>91</th>\n",
       "      <td>0</td>\n",
       "      <td>'nikolai\\'s roof'</td>\n",
       "      <td>'255 courtland st.  at harris st.'</td>\n",
       "      <td>atlanta</td>\n",
       "      <td>404/221-6362</td>\n",
       "      <td>continental</td>\n",
       "      <td>87</td>\n",
       "      <td>'hedgerose heights inn  the'</td>\n",
       "      <td>'490 e. paces ferry rd. ne'</td>\n",
       "      <td>atlanta</td>\n",
       "      <td>404-233-7673</td>\n",
       "      <td>continental</td>\n",
       "      <td>82</td>\n",
       "      <td>621#301</td>\n",
       "    </tr>\n",
       "    <tr>\n",
       "      <th>92</th>\n",
       "      <td>0</td>\n",
       "      <td>'gramercy tavern'</td>\n",
       "      <td>'42 e. 20th st.  between park ave. s and broad...</td>\n",
       "      <td>'new york'</td>\n",
       "      <td>212/477-0777</td>\n",
       "      <td>american</td>\n",
       "      <td>36</td>\n",
       "      <td>'hedgerose heights inn  the'</td>\n",
       "      <td>'490 e. paces ferry rd. ne'</td>\n",
       "      <td>atlanta</td>\n",
       "      <td>404-233-7673</td>\n",
       "      <td>continental</td>\n",
       "      <td>82</td>\n",
       "      <td>570#301</td>\n",
       "    </tr>\n",
       "    <tr>\n",
       "      <th>93</th>\n",
       "      <td>0</td>\n",
       "      <td>valentino</td>\n",
       "      <td>'3115 pico blvd.'</td>\n",
       "      <td>'santa monica'</td>\n",
       "      <td>310/829-4313</td>\n",
       "      <td>italian</td>\n",
       "      <td>21</td>\n",
       "      <td>'second avenue deli'</td>\n",
       "      <td>'156 second ave.'</td>\n",
       "      <td>'new york city'</td>\n",
       "      <td>212-677-0606</td>\n",
       "      <td>delis</td>\n",
       "      <td>58</td>\n",
       "      <td>555#277</td>\n",
       "    </tr>\n",
       "    <tr>\n",
       "      <th>94</th>\n",
       "      <td>0</td>\n",
       "      <td>valentino</td>\n",
       "      <td>'3115 pico blvd.'</td>\n",
       "      <td>'santa monica'</td>\n",
       "      <td>310/829-4313</td>\n",
       "      <td>italian</td>\n",
       "      <td>21</td>\n",
       "      <td>'nikolai\\'s roof'</td>\n",
       "      <td>'255 courtland st.'</td>\n",
       "      <td>atlanta</td>\n",
       "      <td>404-221-6362</td>\n",
       "      <td>continental</td>\n",
       "      <td>87</td>\n",
       "      <td>555#306</td>\n",
       "    </tr>\n",
       "    <tr>\n",
       "      <th>95</th>\n",
       "      <td>0</td>\n",
       "      <td>'grill on the alley'</td>\n",
       "      <td>'9560 dayton way'</td>\n",
       "      <td>'los angeles'</td>\n",
       "      <td>310/276-0615</td>\n",
       "      <td>american</td>\n",
       "      <td>9</td>\n",
       "      <td>moongate</td>\n",
       "      <td>'3400 las vegas blvd. s.'</td>\n",
       "      <td>'las vegas'</td>\n",
       "      <td>702-791-7352</td>\n",
       "      <td>chinese</td>\n",
       "      <td>666</td>\n",
       "      <td>543#133</td>\n",
       "    </tr>\n",
       "    <tr>\n",
       "      <th>96</th>\n",
       "      <td>0</td>\n",
       "      <td>'khan toke thai house'</td>\n",
       "      <td>'5937 geary blvd.'</td>\n",
       "      <td>'san francisco'</td>\n",
       "      <td>415/668-6654</td>\n",
       "      <td>asian</td>\n",
       "      <td>103</td>\n",
       "      <td>moongate</td>\n",
       "      <td>'3400 las vegas blvd. s.'</td>\n",
       "      <td>'las vegas'</td>\n",
       "      <td>702-791-7352</td>\n",
       "      <td>chinese</td>\n",
       "      <td>666</td>\n",
       "      <td>637#133</td>\n",
       "    </tr>\n",
       "    <tr>\n",
       "      <th>97</th>\n",
       "      <td>0</td>\n",
       "      <td>'mesa grill'</td>\n",
       "      <td>'102 5th ave.  between 15th and 16th sts.'</td>\n",
       "      <td>'new york'</td>\n",
       "      <td>212/807-7400</td>\n",
       "      <td>american</td>\n",
       "      <td>47</td>\n",
       "      <td>moongate</td>\n",
       "      <td>'3400 las vegas blvd. s.'</td>\n",
       "      <td>'las vegas'</td>\n",
       "      <td>702-791-7352</td>\n",
       "      <td>chinese</td>\n",
       "      <td>666</td>\n",
       "      <td>581#133</td>\n",
       "    </tr>\n",
       "  </tbody>\n",
       "</table>\n",
       "</div>"
      ],
      "text/plain": [
       "    label             ltable_name  \\\n",
       "88      0    'second avenue deli'   \n",
       "89      0    'second avenue deli'   \n",
       "90      0   'pano\\'s and paul\\'s'   \n",
       "91      0       'nikolai\\'s roof'   \n",
       "92      0       'gramercy tavern'   \n",
       "93      0               valentino   \n",
       "94      0               valentino   \n",
       "95      0    'grill on the alley'   \n",
       "96      0  'khan toke thai house'   \n",
       "97      0            'mesa grill'   \n",
       "\n",
       "                                          ltable_addr      ltable_city  \\\n",
       "88                         '156 2nd ave. at 10th st.'       'new york'   \n",
       "89                         '156 2nd ave. at 10th st.'       'new york'   \n",
       "90                          '1232 w. paces ferry rd.'          atlanta   \n",
       "91                 '255 courtland st.  at harris st.'          atlanta   \n",
       "92  '42 e. 20th st.  between park ave. s and broad...       'new york'   \n",
       "93                                  '3115 pico blvd.'   'santa monica'   \n",
       "94                                  '3115 pico blvd.'   'santa monica'   \n",
       "95                                  '9560 dayton way'    'los angeles'   \n",
       "96                                 '5937 geary blvd.'  'san francisco'   \n",
       "97         '102 5th ave.  between 15th and 16th sts.'       'new york'   \n",
       "\n",
       "    ltable_phone ltable_restype  ltable_class                   rtable_name  \\\n",
       "88  212/677-0606   delicatessen            58                  'grill  the'   \n",
       "89  212/677-0606   delicatessen            58                'la caravelle'   \n",
       "90  404/261-3662  international            88                  'stefano\\'s'   \n",
       "91  404/221-6362    continental            87  'hedgerose heights inn  the'   \n",
       "92  212/477-0777       american            36  'hedgerose heights inn  the'   \n",
       "93  310/829-4313        italian            21          'second avenue deli'   \n",
       "94  310/829-4313        italian            21             'nikolai\\'s roof'   \n",
       "95  310/276-0615       american             9                      moongate   \n",
       "96  415/668-6654          asian           103                      moongate   \n",
       "97  212/807-7400       american            47                      moongate   \n",
       "\n",
       "                    rtable_addr      rtable_city  rtable_phone  \\\n",
       "88            '9560 dayton way'  'beverly hills'  310-276-0615   \n",
       "89             '33 w. 55th st.'  'new york city'  212-586-4252   \n",
       "90            '129 fremont st.'      'las vegas'  702-385-7111   \n",
       "91  '490 e. paces ferry rd. ne'          atlanta  404-233-7673   \n",
       "92  '490 e. paces ferry rd. ne'          atlanta  404-233-7673   \n",
       "93            '156 second ave.'  'new york city'  212-677-0606   \n",
       "94          '255 courtland st.'          atlanta  404-221-6362   \n",
       "95    '3400 las vegas blvd. s.'      'las vegas'  702-791-7352   \n",
       "96    '3400 las vegas blvd. s.'      'las vegas'  702-791-7352   \n",
       "97    '3400 las vegas blvd. s.'      'las vegas'  702-791-7352   \n",
       "\n",
       "              rtable_restype  rtable_class       id  \n",
       "88  'american (traditional)'             9  592#228  \n",
       "89        'french (classic)'            39  592#258  \n",
       "90                   italian           672  622#139  \n",
       "91               continental            82  621#301  \n",
       "92               continental            82  570#301  \n",
       "93                     delis            58  555#277  \n",
       "94               continental            87  555#306  \n",
       "95                   chinese           666  543#133  \n",
       "96                   chinese           666  637#133  \n",
       "97                   chinese           666  581#133  "
      ]
     },
     "execution_count": 33,
     "metadata": {},
     "output_type": "execute_result"
    }
   ],
   "source": [
    "test = pd.read_csv('datasets/fodors_zagats/augmented_test.csv')\n",
    "test.tail(10)"
   ]
  },
  {
   "cell_type": "code",
   "execution_count": 34,
   "metadata": {
    "ExecuteTime": {
     "end_time": "2020-03-28T17:41:53.652220Z",
     "start_time": "2020-03-28T17:41:53.503479Z"
    }
   },
   "outputs": [],
   "source": [
    "predictions = wrap_deeper(test,'ltable_','rtable_',fodors_model,tokenizer,embeddings_model)"
   ]
  },
  {
   "cell_type": "code",
   "execution_count": 30,
   "metadata": {
    "ExecuteTime": {
     "end_time": "2020-03-28T17:38:54.247794Z",
     "start_time": "2020-03-28T17:38:54.198282Z"
    }
   },
   "outputs": [
    {
     "data": {
      "text/plain": [
       "array([[0.00638888, 0.99361116],\n",
       "       [0.07675514, 0.92324483],\n",
       "       [0.13355955, 0.8664405 ],\n",
       "       [0.02017914, 0.97982085],\n",
       "       [0.35222998, 0.64777005],\n",
       "       [0.40655485, 0.5934452 ],\n",
       "       [0.37101018, 0.6289898 ],\n",
       "       [0.37485528, 0.6251448 ],\n",
       "       [0.3572836 , 0.64271635],\n",
       "       [0.3477838 , 0.6522162 ]], dtype=float32)"
      ]
     },
     "execution_count": 30,
     "metadata": {},
     "output_type": "execute_result"
    }
   ],
   "source": [
    "import numpy as np\n",
    "predicted_labels = np.argmax(predictions,axis=1)\n",
    "np.count_nonzero(predicted_labels==0)"
   ]
  }
 ],
 "metadata": {
  "kernelspec": {
   "display_name": "Python 3",
   "language": "python",
   "name": "python3"
  },
  "language_info": {
   "codemirror_mode": {
    "name": "ipython",
    "version": 3
   },
   "file_extension": ".py",
   "mimetype": "text/x-python",
   "name": "python",
   "nbconvert_exporter": "python",
   "pygments_lexer": "ipython3",
   "version": "3.8.1"
  },
  "toc": {
   "base_numbering": 1,
   "nav_menu": {},
   "number_sections": true,
   "sideBar": true,
   "skip_h1_title": false,
   "title_cell": "Table of Contents",
   "title_sidebar": "Contents",
   "toc_cell": false,
   "toc_position": {
    "height": "calc(100% - 180px)",
    "left": "10px",
    "top": "150px",
    "width": "384px"
   },
   "toc_section_display": true,
   "toc_window_display": true
  }
 },
 "nbformat": 4,
 "nbformat_minor": 2
}
