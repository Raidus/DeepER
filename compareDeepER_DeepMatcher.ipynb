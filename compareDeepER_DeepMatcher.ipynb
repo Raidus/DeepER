{
 "cells": [
  {
   "cell_type": "code",
   "execution_count": 1,
   "metadata": {
    "ExecuteTime": {
     "end_time": "2020-03-28T16:36:32.781742Z",
     "start_time": "2020-03-28T16:36:32.756904Z"
    }
   },
   "outputs": [],
   "source": [
    "%load_ext autoreload\n",
    "%autoreload 2"
   ]
  },
  {
   "cell_type": "code",
   "execution_count": 2,
   "metadata": {
    "ExecuteTime": {
     "end_time": "2020-03-28T16:36:35.297759Z",
     "start_time": "2020-03-28T16:36:33.069961Z"
    }
   },
   "outputs": [
    {
     "name": "stderr",
     "output_type": "stream",
     "text": [
      "Using TensorFlow backend.\n"
     ]
    }
   ],
   "source": [
    "from deeper.deeper_utils import wrap_deeper\n",
    "from explanation.deepmatcher_utils import wrapDm\n",
    "from explanation.mojito2 import explainSamples,aggregateRankings\n",
    "import pandas as pd\n",
    "import deepmatcher as dm\n",
    "from keras.models import load_model\n",
    "from deeper.DeepER import init_embeddings_index,init_embeddings_model"
   ]
  },
  {
   "cell_type": "markdown",
   "metadata": {},
   "source": [
    "## Prelimary operations"
   ]
  },
  {
   "cell_type": "code",
   "execution_count": 3,
   "metadata": {
    "ExecuteTime": {
     "end_time": "2020-03-28T16:39:10.042577Z",
     "start_time": "2020-03-28T16:36:35.299920Z"
    }
   },
   "outputs": [
    {
     "name": "stdout",
     "output_type": "stream",
     "text": [
      "* Costruzione indice degli embeddings.....Fatto. 2196016 embeddings totali.\n",
      "* Creazione del modello per il calcolo degli embeddings....\n",
      "* Inizializzo il tokenizzatore.....Fatto: 1702926 parole totali.\n",
      "* Preparazione della matrice di embedding.....Fatto. Dimensioni matrice embeddings: (1702927, 300)\n",
      "\n",
      "°°° EMBEDDING MODEL °°°\n",
      "Model: \"model_1\"\n",
      "__________________________________________________________________________________________________\n",
      "Layer (type)                    Output Shape         Param #     Connected to                     \n",
      "==================================================================================================\n",
      "Tupla_A (InputLayer)            (None, None)         0                                            \n",
      "__________________________________________________________________________________________________\n",
      "Tupla_B (InputLayer)            (None, None)         0                                            \n",
      "__________________________________________________________________________________________________\n",
      "Embedding_lookup (Embedding)    (None, None, 300)    510878100   Tupla_A[0][0]                    \n",
      "                                                                 Tupla_B[0][0]                    \n",
      "==================================================================================================\n",
      "Total params: 510,878,100\n",
      "Trainable params: 0\n",
      "Non-trainable params: 510,878,100\n",
      "__________________________________________________________________________________________________\n"
     ]
    }
   ],
   "source": [
    "# Caricamento strutture dati e modelli ausiliari.\n",
    "EMBEDDING_FILEPATH ='embeddings/glove.840B.300d.txt'\n",
    "embeddings_index = init_embeddings_index(EMBEDDING_FILEPATH)\n",
    "embeddings_model, tokenizer = init_embeddings_model(embeddings_index)"
   ]
  },
  {
   "cell_type": "code",
   "execution_count": 4,
   "metadata": {
    "ExecuteTime": {
     "end_time": "2020-03-28T16:39:10.080127Z",
     "start_time": "2020-03-28T16:39:10.046545Z"
    }
   },
   "outputs": [],
   "source": [
    "def getCorrectPredictions(dataset,model,predict_fn):\n",
    "    predictions = predict_fn(dataset,model,['label','id'])\n",
    "    tp_group = dataset[(predictions[:,1]>=0.5)& (dataset['label'] == 1)]\n",
    "    tn_group = dataset[(predictions[:,0] >=0.5)& (dataset['label']==0)]\n",
    "    correctPredictions = pd.concat([tp_group,tn_group])\n",
    "    print(\"Len of correct predictions is {}\".format(len(correctPredictions)))\n",
    "    return correctPredictions"
   ]
  },
  {
   "cell_type": "code",
   "execution_count": 5,
   "metadata": {
    "ExecuteTime": {
     "end_time": "2020-03-28T16:39:10.102043Z",
     "start_time": "2020-03-28T16:39:10.081938Z"
    }
   },
   "outputs": [],
   "source": [
    "predict_fn_deeper = lambda data,model,ignore: wrap_deeper(data,'ltable_','rtable_',model,tokenizer,embeddings_model,\n",
    "                                                  ignore_columns=ignore)"
   ]
  },
  {
   "cell_type": "code",
   "execution_count": 6,
   "metadata": {
    "ExecuteTime": {
     "end_time": "2020-03-28T16:39:10.124296Z",
     "start_time": "2020-03-28T16:39:10.103637Z"
    }
   },
   "outputs": [],
   "source": [
    "predict_fn_deepmatcher = lambda data,model,ignore: wrapDm(data,model,ignore_columns=ignore)"
   ]
  },
  {
   "cell_type": "markdown",
   "metadata": {},
   "source": [
    "## Walmart-Amazon"
   ]
  },
  {
   "cell_type": "code",
   "execution_count": 23,
   "metadata": {
    "ExecuteTime": {
     "end_time": "2020-03-27T15:45:05.277558Z",
     "start_time": "2020-03-27T15:45:05.097088Z"
    }
   },
   "outputs": [],
   "source": [
    "augmented_test = pd.read_csv('datasets/walmart_amazon/augmented_test.csv')\n",
    "walmart = pd.read_csv('datasets/walmart_amazon/walmart.csv',dtype=str)\n",
    "amazon = pd.read_csv('datasets/walmart_amazon/amazon.csv',dtype=str)"
   ]
  },
  {
   "cell_type": "code",
   "execution_count": 16,
   "metadata": {
    "ExecuteTime": {
     "end_time": "2020-03-27T15:33:37.696236Z",
     "start_time": "2020-03-27T15:33:34.856174Z"
    }
   },
   "outputs": [],
   "source": [
    "walmart_deepmatcher = dm.MatchingModel(attr_summarizer='rnn')\n",
    "walmart_deepmatcher.load_state('models/walmart_amazon_rnn.pth')\n",
    "walmart_deeper = load_model('models/DeepER_best_model_100_walmart-amazon.h5')"
   ]
  },
  {
   "cell_type": "code",
   "execution_count": 28,
   "metadata": {
    "ExecuteTime": {
     "end_time": "2020-03-27T15:46:20.172048Z",
     "start_time": "2020-03-27T15:46:15.607699Z"
    }
   },
   "outputs": [
    {
     "name": "stdout",
     "output_type": "stream",
     "text": [
      "Len of correct predictions is 820\n"
     ]
    }
   ],
   "source": [
    "correct_pred_deepmatcher = getCorrectPredictions(augmented_test,walmart_deepmatcher,predict_fn_deepmatcher)"
   ]
  },
  {
   "cell_type": "code",
   "execution_count": 29,
   "metadata": {
    "ExecuteTime": {
     "end_time": "2020-03-27T15:46:21.078523Z",
     "start_time": "2020-03-27T15:46:20.173962Z"
    }
   },
   "outputs": [
    {
     "name": "stdout",
     "output_type": "stream",
     "text": [
      "Len of correct predictions is 816\n"
     ]
    }
   ],
   "source": [
    "correct_pred_deeper = getCorrectPredictions(augmented_test,walmart_deeper,predict_fn_deeper)"
   ]
  },
  {
   "cell_type": "code",
   "execution_count": 30,
   "metadata": {
    "ExecuteTime": {
     "end_time": "2020-03-27T15:46:34.669283Z",
     "start_time": "2020-03-27T15:46:22.628943Z"
    }
   },
   "outputs": [
    {
     "name": "stderr",
     "output_type": "stream",
     "text": [
      "100%|██████████| 521/521 [00:08<00:00, 63.38it/s]\n"
     ]
    }
   ],
   "source": [
    "negrank,_,_ = explainSamples(correct_pred_deeper,[walmart,amazon],walmart_deeper,predict_fn_deeper,0,1)"
   ]
  },
  {
   "cell_type": "code",
   "execution_count": 33,
   "metadata": {
    "ExecuteTime": {
     "end_time": "2020-03-27T15:47:33.379818Z",
     "start_time": "2020-03-27T15:47:33.186237Z"
    }
   },
   "outputs": [
    {
     "data": {
      "image/png": "[encoded data removed]",
      "text/plain": [
       "<Figure size 216x216 with 1 Axes>"
      ]
     },
     "metadata": {
      "needs_background": "light"
     },
     "output_type": "display_data"
    }
   ],
   "source": [
    "ax,negrank = aggregateRankings(negrank,positive=False,maxLenAttributes=1,lenTriangles=521)"
   ]
  },
  {
   "cell_type": "code",
   "execution_count": 34,
   "metadata": {
    "ExecuteTime": {
     "end_time": "2020-03-27T15:51:19.776892Z",
     "start_time": "2020-03-27T15:48:03.249786Z"
    }
   },
   "outputs": [
    {
     "name": "stderr",
     "output_type": "stream",
     "text": [
      "100%|██████████| 548/548 [03:13<00:00,  2.83it/s]\n"
     ]
    }
   ],
   "source": [
    "negrank,_,_ = explainSamples(correct_pred_deepmatcher,[walmart,amazon],walmart_deepmatcher,\n",
    "                             predict_fn_deepmatcher,0,1)"
   ]
  },
  {
   "cell_type": "code",
   "execution_count": 35,
   "metadata": {
    "ExecuteTime": {
     "end_time": "2020-03-27T15:51:22.638856Z",
     "start_time": "2020-03-27T15:51:22.444785Z"
    }
   },
   "outputs": [
    {
     "data": {
      "image/png": "[encoded data removed]",
      "text/plain": [
       "<Figure size 144x144 with 1 Axes>"
      ]
     },
     "metadata": {
      "needs_background": "light"
     },
     "output_type": "display_data"
    }
   ],
   "source": [
    "ax,negrank = aggregateRankings(negrank,positive=False,maxLenAttributes=1,lenTriangles=548)"
   ]
  },
  {
   "cell_type": "code",
   "execution_count": 37,
   "metadata": {
    "ExecuteTime": {
     "end_time": "2020-03-27T15:52:44.577254Z",
     "start_time": "2020-03-27T15:52:30.083762Z"
    }
   },
   "outputs": [
    {
     "name": "stderr",
     "output_type": "stream",
     "text": [
      "100%|██████████| 521/521 [00:10<00:00, 48.86it/s]\n"
     ]
    }
   ],
   "source": [
    "posrank_deeper,_,_ = explainSamples(correct_pred_deeper,[walmart,amazon],walmart_deeper,predict_fn_deeper,\n",
    "                             1,1)"
   ]
  },
  {
   "cell_type": "code",
   "execution_count": 38,
   "metadata": {
    "ExecuteTime": {
     "end_time": "2020-03-27T15:56:12.652837Z",
     "start_time": "2020-03-27T15:52:57.899638Z"
    }
   },
   "outputs": [
    {
     "name": "stderr",
     "output_type": "stream",
     "text": [
      "100%|██████████| 548/548 [03:10<00:00,  2.87it/s]\n"
     ]
    }
   ],
   "source": [
    "posrank_deepmatcher,_,_ = explainSamples(correct_pred_deepmatcher,[walmart,amazon],walmart_deepmatcher,\n",
    "                                         predict_fn_deepmatcher,1,1)"
   ]
  },
  {
   "cell_type": "code",
   "execution_count": 39,
   "metadata": {
    "ExecuteTime": {
     "end_time": "2020-03-27T15:57:17.646900Z",
     "start_time": "2020-03-27T15:57:17.373272Z"
    }
   },
   "outputs": [
    {
     "data": {
      "image/png": "[encoded data removed]",
      "text/plain": [
       "<Figure size 504x504 with 1 Axes>"
      ]
     },
     "metadata": {
      "needs_background": "light"
     },
     "output_type": "display_data"
    }
   ],
   "source": [
    "ax,posrank = aggregateRankings(posrank_deeper,positive=True,maxLenAttributes=1,lenTriangles=521)"
   ]
  },
  {
   "cell_type": "code",
   "execution_count": 40,
   "metadata": {
    "ExecuteTime": {
     "end_time": "2020-03-27T15:57:39.900592Z",
     "start_time": "2020-03-27T15:57:39.620823Z"
    }
   },
   "outputs": [
    {
     "data": {
      "image/png": "[encoded data removed]",
      "text/plain": [
       "<Figure size 504x504 with 1 Axes>"
      ]
     },
     "metadata": {
      "needs_background": "light"
     },
     "output_type": "display_data"
    }
   ],
   "source": [
    "ax,posrank = aggregateRankings(posrank_deepmatcher,positive=True,maxLenAttributes=1,lenTriangles=548)"
   ]
  },
  {
   "cell_type": "markdown",
   "metadata": {},
   "source": [
    "## Amazon-Google"
   ]
  },
  {
   "cell_type": "code",
   "execution_count": 41,
   "metadata": {
    "ExecuteTime": {
     "end_time": "2020-03-27T16:00:41.310080Z",
     "start_time": "2020-03-27T16:00:41.190762Z"
    }
   },
   "outputs": [],
   "source": [
    "augmented_test = pd.read_csv('datasets/Amazon-GoogleProducts/augmented_test.csv')\n",
    "amazon = pd.read_csv('datasets/Amazon-GoogleProducts/Amazon.csv',dtype=str)\n",
    "google = pd.read_csv('datasets/Amazon-GoogleProducts/Google.csv',dtype=str)"
   ]
  },
  {
   "cell_type": "code",
   "execution_count": 42,
   "metadata": {
    "ExecuteTime": {
     "end_time": "2020-03-27T16:01:39.361877Z",
     "start_time": "2020-03-27T16:01:36.159176Z"
    }
   },
   "outputs": [],
   "source": [
    "amzgoogle_deepmatcher = dm.MatchingModel(attr_summarizer='rnn')\n",
    "amzgoogle_deepmatcher.load_state('models/amazon_google_rnn.pth')\n",
    "amzgoogle_deeper = load_model('models/DeepER_best_model_100_amazon-google.h5')"
   ]
  },
  {
   "cell_type": "code",
   "execution_count": 43,
   "metadata": {
    "ExecuteTime": {
     "end_time": "2020-03-27T16:03:44.078505Z",
     "start_time": "2020-03-27T16:02:45.561152Z"
    }
   },
   "outputs": [
    {
     "name": "stdout",
     "output_type": "stream",
     "text": [
      "Len of correct predictions is 634\n",
      "Len of correct predictions is 567\n"
     ]
    }
   ],
   "source": [
    "correct_pred_deepmatcher = getCorrectPredictions(augmented_test,amzgoogle_deepmatcher,predict_fn_deepmatcher)\n",
    "correct_pred_deeper = getCorrectPredictions(augmented_test,amzgoogle_deeper,predict_fn_deeper)"
   ]
  },
  {
   "cell_type": "code",
   "execution_count": 44,
   "metadata": {
    "ExecuteTime": {
     "end_time": "2020-03-27T16:05:36.163239Z",
     "start_time": "2020-03-27T16:05:23.258122Z"
    }
   },
   "outputs": [
    {
     "name": "stderr",
     "output_type": "stream",
     "text": [
      "100%|██████████| 183/183 [00:11<00:00, 15.28it/s]\n"
     ]
    }
   ],
   "source": [
    "negrank_deeper,_,_ = explainSamples(correct_pred_deeper,[amazon,google],amzgoogle_deeper,predict_fn_deeper,0,1)"
   ]
  },
  {
   "cell_type": "code",
   "execution_count": 45,
   "metadata": {
    "ExecuteTime": {
     "end_time": "2020-03-27T16:09:28.184230Z",
     "start_time": "2020-03-27T16:07:18.225359Z"
    }
   },
   "outputs": [
    {
     "name": "stderr",
     "output_type": "stream",
     "text": [
      "100%|██████████| 303/303 [02:08<00:00,  2.36it/s]\n"
     ]
    }
   ],
   "source": [
    "negrank_deepmatcher,_,_ = explainSamples(correct_pred_deepmatcher,[amazon,google],amzgoogle_deepmatcher\n",
    "                                         ,predict_fn_deepmatcher,0,1)"
   ]
  },
  {
   "cell_type": "code",
   "execution_count": 46,
   "metadata": {
    "ExecuteTime": {
     "end_time": "2020-03-27T16:10:26.984823Z",
     "start_time": "2020-03-27T16:10:26.738279Z"
    }
   },
   "outputs": [
    {
     "data": {
      "image/png": "[encoded data removed]",
      "text/plain": [
       "<Figure size 288x288 with 1 Axes>"
      ]
     },
     "metadata": {
      "needs_background": "light"
     },
     "output_type": "display_data"
    }
   ],
   "source": [
    "ax,negrank = aggregateRankings(negrank_deeper,positive=False,maxLenAttributes=1,lenTriangles=183)"
   ]
  },
  {
   "cell_type": "code",
   "execution_count": 47,
   "metadata": {
    "ExecuteTime": {
     "end_time": "2020-03-27T16:10:47.207584Z",
     "start_time": "2020-03-27T16:10:46.984786Z"
    }
   },
   "outputs": [
    {
     "data": {
      "image/png": "[encoded data removed]",
      "text/plain": [
       "<Figure size 288x288 with 1 Axes>"
      ]
     },
     "metadata": {
      "needs_background": "light"
     },
     "output_type": "display_data"
    }
   ],
   "source": [
    "ax,negrank = aggregateRankings(negrank_deepmatcher,positive=False,maxLenAttributes=1,lenTriangles=303)"
   ]
  },
  {
   "cell_type": "code",
   "execution_count": 57,
   "metadata": {
    "ExecuteTime": {
     "end_time": "2020-03-27T16:24:13.551884Z",
     "start_time": "2020-03-27T16:23:59.763200Z"
    }
   },
   "outputs": [
    {
     "name": "stderr",
     "output_type": "stream",
     "text": [
      "\n",
      "\n",
      "  0%|          | 0/183 [00:00<?, ?it/s]\u001b[A\u001b[A\n",
      "\n",
      "  2%|▏         | 4/183 [00:00<00:05, 32.42it/s]\u001b[A\u001b[A\n",
      "\n",
      "  3%|▎         | 6/183 [00:00<00:09, 18.81it/s]\u001b[A\u001b[A\n",
      "\n",
      "  4%|▍         | 7/183 [00:00<00:18,  9.58it/s]\u001b[A\u001b[A\n",
      "\n",
      "  4%|▍         | 8/183 [00:00<00:25,  6.74it/s]\u001b[A\u001b[A\n",
      "\n",
      "  5%|▍         | 9/183 [00:01<00:28,  6.14it/s]\u001b[A\u001b[A\n",
      "\n",
      "  5%|▌         | 10/183 [00:01<00:32,  5.38it/s]\u001b[A\u001b[A\n",
      "\n",
      "  7%|▋         | 13/183 [00:01<00:24,  7.06it/s]\u001b[A\u001b[A\n",
      "\n",
      "  8%|▊         | 15/183 [00:01<00:29,  5.65it/s]\u001b[A\u001b[A\n",
      "\n",
      "  9%|▉         | 17/183 [00:01<00:23,  7.12it/s]\u001b[A\u001b[A\n",
      "\n",
      " 11%|█         | 20/183 [00:02<00:19,  8.45it/s]\u001b[A\u001b[A\n",
      "\n",
      " 12%|█▏        | 22/183 [00:02<00:17,  8.97it/s]\u001b[A\u001b[A\n",
      "\n",
      " 14%|█▎        | 25/183 [00:02<00:13, 11.36it/s]\u001b[A\u001b[A\n",
      "\n",
      " 16%|█▌        | 29/183 [00:02<00:13, 11.24it/s]\u001b[A\u001b[A\n",
      "\n",
      " 17%|█▋        | 31/183 [00:03<00:18,  8.28it/s]\u001b[A\u001b[A\n",
      "\n",
      " 19%|█▊        | 34/183 [00:03<00:17,  8.70it/s]\u001b[A\u001b[A\n",
      "\n",
      " 20%|█▉        | 36/183 [00:03<00:15,  9.67it/s]\u001b[A\u001b[A\n",
      "\n",
      " 22%|██▏       | 40/183 [00:03<00:13, 10.72it/s]\u001b[A\u001b[A\n",
      "\n",
      " 23%|██▎       | 43/183 [00:04<00:12, 11.40it/s]\u001b[A\u001b[A\n",
      "\n",
      " 25%|██▍       | 45/183 [00:04<00:18,  7.64it/s]\u001b[A\u001b[A\n",
      "\n",
      " 26%|██▌       | 48/183 [00:04<00:14,  9.45it/s]\u001b[A\u001b[A\n",
      "\n",
      " 28%|██▊       | 52/183 [00:04<00:10, 12.06it/s]\u001b[A\u001b[A\n",
      "\n",
      " 30%|██▉       | 54/183 [00:05<00:12, 10.15it/s]\u001b[A\u001b[A\n",
      "\n",
      " 32%|███▏      | 58/183 [00:05<00:10, 11.88it/s]\u001b[A\u001b[A\n",
      "\n",
      " 33%|███▎      | 60/183 [00:05<00:11, 10.96it/s]\u001b[A\u001b[A\n",
      "\n",
      " 34%|███▍      | 62/183 [00:05<00:10, 11.61it/s]\u001b[A\u001b[A\n",
      "\n",
      " 36%|███▌      | 65/183 [00:05<00:08, 14.05it/s]\u001b[A\u001b[A\n",
      "\n",
      " 37%|███▋      | 68/183 [00:06<00:08, 14.26it/s]\u001b[A\u001b[A\n",
      "\n",
      " 39%|███▉      | 72/183 [00:06<00:06, 16.91it/s]\u001b[A\u001b[A\n",
      "\n",
      " 41%|████      | 75/183 [00:06<00:06, 15.58it/s]\u001b[A\u001b[A\n",
      "\n",
      " 42%|████▏     | 77/183 [00:06<00:07, 13.44it/s]\u001b[A\u001b[A\n",
      "\n",
      " 43%|████▎     | 79/183 [00:06<00:07, 13.21it/s]\u001b[A\u001b[A\n",
      "\n",
      " 44%|████▍     | 81/183 [00:06<00:06, 14.63it/s]\u001b[A\u001b[A\n",
      "\n",
      " 45%|████▌     | 83/183 [00:07<00:07, 12.79it/s]\u001b[A\u001b[A\n",
      "\n",
      " 47%|████▋     | 86/183 [00:07<00:06, 15.39it/s]\u001b[A\u001b[A\n",
      "\n",
      " 49%|████▉     | 90/183 [00:07<00:05, 18.43it/s]\u001b[A\u001b[A\n",
      "\n",
      " 52%|█████▏    | 95/183 [00:07<00:03, 22.14it/s]\u001b[A\u001b[A\n",
      "\n",
      " 54%|█████▍    | 99/183 [00:07<00:03, 21.55it/s]\u001b[A\u001b[A\n",
      "\n",
      " 56%|█████▌    | 102/183 [00:07<00:05, 15.87it/s]\u001b[A\u001b[A\n",
      "\n",
      " 57%|█████▋    | 105/183 [00:08<00:04, 18.02it/s]\u001b[A\u001b[A\n",
      "\n",
      " 60%|██████    | 110/183 [00:08<00:03, 21.70it/s]\u001b[A\u001b[A\n",
      "\n",
      " 62%|██████▏   | 114/183 [00:08<00:02, 25.10it/s]\u001b[A\u001b[A\n",
      "\n",
      " 64%|██████▍   | 118/183 [00:08<00:02, 27.48it/s]\u001b[A\u001b[A\n",
      "\n",
      " 67%|██████▋   | 122/183 [00:08<00:02, 29.53it/s]\u001b[A\u001b[A\n",
      "\n",
      " 69%|██████▉   | 126/183 [00:08<00:03, 18.86it/s]\u001b[A\u001b[A\n",
      "\n",
      " 72%|███████▏  | 131/183 [00:08<00:02, 22.87it/s]\u001b[A\u001b[A\n",
      "\n",
      " 74%|███████▍  | 135/183 [00:09<00:01, 25.54it/s]\u001b[A\u001b[A\n",
      "\n",
      " 77%|███████▋  | 140/183 [00:09<00:01, 28.97it/s]\u001b[A\u001b[A\n",
      "\n",
      " 79%|███████▊  | 144/183 [00:09<00:01, 29.87it/s]\u001b[A\u001b[A\n",
      "\n",
      " 81%|████████  | 148/183 [00:10<00:02, 13.00it/s]\u001b[A\u001b[A\n",
      "\n",
      " 83%|████████▎ | 151/183 [00:10<00:03,  9.88it/s]\u001b[A\u001b[A\n",
      "\n",
      " 84%|████████▍ | 154/183 [00:10<00:02,  9.86it/s]\u001b[A\u001b[A\n",
      "\n",
      " 86%|████████▌ | 157/183 [00:10<00:02, 12.35it/s]\u001b[A\u001b[A\n",
      "\n",
      " 87%|████████▋ | 160/183 [00:11<00:02, 10.46it/s]\u001b[A\u001b[A\n",
      "\n",
      " 89%|████████▊ | 162/183 [00:11<00:02,  7.72it/s]\u001b[A\u001b[A\n",
      "\n",
      " 91%|█████████▏| 167/183 [00:11<00:01,  9.49it/s]\u001b[A\u001b[A\n",
      "\n",
      " 93%|█████████▎| 170/183 [00:12<00:01, 11.87it/s]\u001b[A\u001b[A\n",
      "\n",
      " 94%|█████████▍| 172/183 [00:12<00:01, 10.47it/s]\u001b[A\u001b[A\n",
      "\n",
      " 96%|█████████▌| 175/183 [00:12<00:00, 11.30it/s]\u001b[A\u001b[A\n",
      "\n",
      " 98%|█████████▊| 180/183 [00:12<00:00, 14.45it/s]\u001b[A\u001b[A\n",
      "\n",
      "100%|██████████| 183/183 [00:12<00:00, 14.20it/s]\u001b[A\u001b[A\n"
     ]
    }
   ],
   "source": [
    "posrank_deeper,_,_ = explainSamples(correct_pred_deeper,[amazon,google],amzgoogle_deeper,predict_fn_deeper,1,1)"
   ]
  },
  {
   "cell_type": "code",
   "execution_count": 58,
   "metadata": {
    "ExecuteTime": {
     "end_time": "2020-03-27T16:26:15.146569Z",
     "start_time": "2020-03-27T16:24:13.554058Z"
    }
   },
   "outputs": [
    {
     "name": "stderr",
     "output_type": "stream",
     "text": [
      "\n",
      "\n",
      "  0%|          | 0/303 [00:00<?, ?it/s]\u001b[A\u001b[A\n",
      "\n",
      "  0%|          | 1/303 [00:00<01:37,  3.11it/s]\u001b[A\u001b[A\n",
      "\n",
      "  1%|          | 2/303 [00:00<01:34,  3.17it/s]\u001b[A\u001b[A\n",
      "\n",
      "  1%|          | 3/303 [00:00<01:33,  3.22it/s]\u001b[A\u001b[A\n",
      "\n",
      "  1%|▏         | 4/303 [00:01<01:31,  3.27it/s]\u001b[A\u001b[A\n",
      "\n",
      "  2%|▏         | 5/303 [00:01<01:50,  2.71it/s]\u001b[A\u001b[A\n",
      "\n",
      "  2%|▏         | 6/303 [00:02<01:57,  2.52it/s]\u001b[A\u001b[A\n",
      "\n",
      "  2%|▏         | 7/303 [00:02<02:02,  2.41it/s]\u001b[A\u001b[A\n",
      "\n",
      "  3%|▎         | 8/303 [00:03<02:10,  2.27it/s]\u001b[A\u001b[A\n",
      "\n",
      "  3%|▎         | 9/303 [00:03<02:15,  2.16it/s]\u001b[A\u001b[A\n",
      "\n",
      "  3%|▎         | 10/303 [00:04<02:21,  2.07it/s]\u001b[A\u001b[A\n",
      "\n",
      "  4%|▎         | 11/303 [00:04<02:21,  2.07it/s]\u001b[A\u001b[A\n",
      "\n",
      "  4%|▍         | 12/303 [00:05<02:56,  1.65it/s]\u001b[A\u001b[A\n",
      "\n",
      "  4%|▍         | 13/303 [00:06<03:14,  1.49it/s]\u001b[A\u001b[A\n",
      "\n",
      "  5%|▍         | 14/303 [00:07<03:20,  1.44it/s]\u001b[A\u001b[A\n",
      "\n",
      "  5%|▍         | 15/303 [00:07<03:15,  1.47it/s]\u001b[A\u001b[A\n",
      "\n",
      "  5%|▌         | 16/303 [00:08<03:11,  1.50it/s]\u001b[A\u001b[A\n",
      "\n",
      "  6%|▌         | 17/303 [00:08<02:40,  1.78it/s]\u001b[A\u001b[A\n",
      "\n",
      "  6%|▌         | 18/303 [00:09<02:21,  2.02it/s]\u001b[A\u001b[A\n",
      "\n",
      "  6%|▋         | 19/303 [00:09<02:05,  2.27it/s]\u001b[A\u001b[A\n",
      "\n",
      "  7%|▋         | 20/303 [00:10<02:45,  1.71it/s]\u001b[A\u001b[A\n",
      "\n",
      "  7%|▋         | 21/303 [00:10<02:50,  1.65it/s]\u001b[A\u001b[A\n",
      "\n",
      "  7%|▋         | 22/303 [00:11<02:56,  1.59it/s]\u001b[A\u001b[A\n",
      "\n",
      "  8%|▊         | 23/303 [00:12<02:38,  1.77it/s]\u001b[A\u001b[A\n",
      "\n",
      "  8%|▊         | 24/303 [00:12<02:15,  2.06it/s]\u001b[A\u001b[A\n",
      "\n",
      "  8%|▊         | 25/303 [00:12<02:12,  2.09it/s]\u001b[A\u001b[A\n",
      "\n",
      "  9%|▊         | 26/303 [00:13<02:12,  2.09it/s]\u001b[A\u001b[A\n",
      "\n",
      "  9%|▉         | 27/303 [00:14<02:29,  1.84it/s]\u001b[A\u001b[A\n",
      "\n",
      "  9%|▉         | 28/303 [00:14<02:35,  1.76it/s]\u001b[A\u001b[A\n",
      "\n",
      " 10%|▉         | 29/303 [00:15<02:23,  1.92it/s]\u001b[A\u001b[A\n",
      "\n",
      " 10%|▉         | 30/303 [00:15<02:08,  2.12it/s]\u001b[A\u001b[A\n",
      "\n",
      " 10%|█         | 31/303 [00:15<01:56,  2.33it/s]\u001b[A\u001b[A\n",
      "\n",
      " 11%|█         | 32/303 [00:16<01:49,  2.47it/s]\u001b[A\u001b[A\n",
      "\n",
      " 11%|█         | 33/303 [00:16<01:43,  2.61it/s]\u001b[A\u001b[A\n",
      "\n",
      " 11%|█         | 34/303 [00:16<01:37,  2.75it/s]\u001b[A\u001b[A\n",
      "\n",
      " 12%|█▏        | 35/303 [00:17<01:32,  2.91it/s]\u001b[A\u001b[A\n",
      "\n",
      " 12%|█▏        | 36/303 [00:17<01:29,  2.97it/s]\u001b[A\u001b[A\n",
      "\n",
      " 12%|█▏        | 37/303 [00:17<01:27,  3.03it/s]\u001b[A\u001b[A\n",
      "\n",
      " 13%|█▎        | 38/303 [00:17<01:25,  3.10it/s]\u001b[A\u001b[A\n",
      "\n",
      " 13%|█▎        | 39/303 [00:18<01:23,  3.15it/s]\u001b[A\u001b[A\n",
      "\n",
      " 13%|█▎        | 40/303 [00:18<01:35,  2.74it/s]\u001b[A\u001b[A\n",
      "\n",
      " 14%|█▎        | 41/303 [00:19<01:51,  2.35it/s]\u001b[A\u001b[A\n",
      "\n",
      " 14%|█▍        | 42/303 [00:19<01:40,  2.59it/s]\u001b[A\u001b[A\n",
      "\n",
      " 14%|█▍        | 43/303 [00:19<01:37,  2.67it/s]\u001b[A\u001b[A\n",
      "\n",
      " 15%|█▍        | 44/303 [00:20<01:34,  2.73it/s]\u001b[A\u001b[A\n",
      "\n",
      " 15%|█▍        | 45/303 [00:20<01:29,  2.88it/s]\u001b[A\u001b[A\n",
      "\n",
      " 15%|█▌        | 46/303 [00:20<01:25,  3.00it/s]\u001b[A\u001b[A\n",
      "\n",
      " 16%|█▌        | 47/303 [00:21<01:29,  2.85it/s]\u001b[A\u001b[A\n",
      "\n",
      " 16%|█▌        | 48/303 [00:21<01:28,  2.87it/s]\u001b[A\u001b[A\n",
      "\n",
      " 16%|█▌        | 49/303 [00:21<01:24,  3.00it/s]\u001b[A\u001b[A\n",
      "\n",
      " 17%|█▋        | 50/303 [00:22<01:21,  3.11it/s]\u001b[A\u001b[A\n",
      "\n",
      " 17%|█▋        | 51/303 [00:22<01:19,  3.17it/s]\u001b[A\u001b[A\n",
      "\n",
      " 17%|█▋        | 52/303 [00:22<01:18,  3.19it/s]\u001b[A\u001b[A\n",
      "\n",
      " 17%|█▋        | 53/303 [00:23<01:21,  3.07it/s]\u001b[A\u001b[A\n",
      "\n",
      " 18%|█▊        | 54/303 [00:23<01:30,  2.74it/s]\u001b[A\u001b[A\n",
      "\n",
      " 18%|█▊        | 55/303 [00:24<01:36,  2.56it/s]\u001b[A\u001b[A\n",
      "\n",
      " 18%|█▊        | 56/303 [00:24<01:59,  2.07it/s]\u001b[A\u001b[A\n",
      "\n",
      " 19%|█▉        | 57/303 [00:25<02:13,  1.84it/s]\u001b[A\u001b[A\n",
      "\n",
      " 19%|█▉        | 58/303 [00:25<01:55,  2.12it/s]\u001b[A\u001b[A\n",
      "\n",
      " 19%|█▉        | 59/303 [00:26<01:54,  2.14it/s]\u001b[A\u001b[A\n",
      "\n",
      " 20%|█▉        | 60/303 [00:26<01:51,  2.17it/s]\u001b[A\u001b[A\n",
      "\n",
      " 20%|██        | 61/303 [00:27<01:54,  2.11it/s]\u001b[A\u001b[A\n",
      "\n",
      " 20%|██        | 62/303 [00:27<01:51,  2.17it/s]\u001b[A\u001b[A\n",
      "\n",
      " 21%|██        | 63/303 [00:28<01:49,  2.18it/s]\u001b[A\u001b[A\n",
      "\n",
      " 21%|██        | 64/303 [00:28<02:00,  1.98it/s]\u001b[A\u001b[A\n",
      "\n",
      " 21%|██▏       | 65/303 [00:29<01:55,  2.07it/s]\u001b[A\u001b[A\n",
      "\n",
      " 22%|██▏       | 66/303 [00:29<01:41,  2.33it/s]\u001b[A\u001b[A\n",
      "\n",
      " 22%|██▏       | 67/303 [00:29<01:32,  2.55it/s]\u001b[A\u001b[A\n",
      "\n",
      " 22%|██▏       | 68/303 [00:30<01:24,  2.79it/s]\u001b[A\u001b[A\n",
      "\n",
      " 23%|██▎       | 69/303 [00:30<01:20,  2.91it/s]\u001b[A\u001b[A\n",
      "\n",
      " 23%|██▎       | 70/303 [00:30<01:17,  2.99it/s]\u001b[A\u001b[A\n",
      "\n",
      " 23%|██▎       | 71/303 [00:30<01:15,  3.07it/s]\u001b[A\u001b[A\n",
      "\n",
      " 24%|██▍       | 72/303 [00:31<01:24,  2.73it/s]\u001b[A\u001b[A\n",
      "\n",
      " 24%|██▍       | 73/303 [00:31<01:23,  2.75it/s]\u001b[A\u001b[A\n",
      "\n",
      " 24%|██▍       | 74/303 [00:32<01:17,  2.96it/s]\u001b[A\u001b[A\n",
      "\n",
      " 25%|██▍       | 75/303 [00:32<01:13,  3.09it/s]\u001b[A\u001b[A\n",
      "\n",
      " 25%|██▌       | 76/303 [00:32<01:29,  2.53it/s]\u001b[A\u001b[A\n",
      "\n",
      " 25%|██▌       | 77/303 [00:33<01:22,  2.75it/s]\u001b[A\u001b[A\n",
      "\n",
      " 26%|██▌       | 78/303 [00:33<01:16,  2.93it/s]\u001b[A\u001b[A\n",
      "\n",
      " 26%|██▌       | 79/303 [00:34<01:33,  2.41it/s]\u001b[A\u001b[A\n",
      "\n",
      " 26%|██▋       | 80/303 [00:34<01:43,  2.15it/s]\u001b[A\u001b[A\n",
      "\n",
      " 27%|██▋       | 81/303 [00:35<01:49,  2.02it/s]\u001b[A\u001b[A\n",
      "\n",
      " 27%|██▋       | 82/303 [00:35<01:48,  2.04it/s]\u001b[A\u001b[A\n",
      "\n",
      " 27%|██▋       | 83/303 [00:36<01:37,  2.27it/s]\u001b[A\u001b[A\n",
      "\n",
      " 28%|██▊       | 84/303 [00:36<01:27,  2.50it/s]\u001b[A\u001b[A\n",
      "\n",
      " 28%|██▊       | 85/303 [00:36<01:20,  2.70it/s]\u001b[A\u001b[A\n",
      "\n",
      " 28%|██▊       | 86/303 [00:36<01:15,  2.89it/s]\u001b[A\u001b[A\n",
      "\n",
      " 29%|██▊       | 87/303 [00:37<01:12,  2.98it/s]\u001b[A\u001b[A\n",
      "\n",
      " 29%|██▉       | 88/303 [00:37<01:13,  2.93it/s]\u001b[A\u001b[A\n",
      "\n",
      " 29%|██▉       | 89/303 [00:37<01:09,  3.07it/s]\u001b[A\u001b[A\n",
      "\n",
      " 30%|██▉       | 90/303 [00:38<01:14,  2.87it/s]\u001b[A\u001b[A\n",
      "\n",
      " 30%|███       | 91/303 [00:38<01:10,  3.02it/s]\u001b[A\u001b[A\n",
      "\n",
      " 30%|███       | 92/303 [00:38<01:07,  3.13it/s]\u001b[A\u001b[A\n",
      "\n",
      " 31%|███       | 93/303 [00:39<01:06,  3.15it/s]\u001b[A\u001b[A\n",
      "\n",
      " 31%|███       | 94/303 [00:39<01:08,  3.06it/s]\u001b[A\u001b[A\n",
      "\n",
      " 31%|███▏      | 95/303 [00:39<01:06,  3.12it/s]\u001b[A\u001b[A\n",
      "\n",
      " 32%|███▏      | 96/303 [00:40<01:05,  3.16it/s]\u001b[A\u001b[A\n",
      "\n",
      " 32%|███▏      | 97/303 [00:40<01:13,  2.79it/s]\u001b[A\u001b[A\n",
      "\n",
      " 32%|███▏      | 98/303 [00:41<01:17,  2.63it/s]\u001b[A\u001b[A\n",
      "\n",
      " 33%|███▎      | 99/303 [00:41<01:17,  2.64it/s]\u001b[A\u001b[A\n",
      "\n",
      " 33%|███▎      | 100/303 [00:41<01:21,  2.48it/s]\u001b[A\u001b[A\n",
      "\n",
      " 33%|███▎      | 101/303 [00:42<01:23,  2.42it/s]\u001b[A\u001b[A\n",
      "\n",
      " 34%|███▎      | 102/303 [00:42<01:25,  2.36it/s]\u001b[A\u001b[A\n",
      "\n",
      " 34%|███▍      | 103/303 [00:43<01:27,  2.29it/s]\u001b[A\u001b[A\n",
      "\n",
      " 34%|███▍      | 104/303 [00:43<01:28,  2.25it/s]\u001b[A\u001b[A\n",
      "\n",
      " 35%|███▍      | 105/303 [00:44<01:30,  2.19it/s]\u001b[A\u001b[A\n",
      "\n",
      " 35%|███▍      | 106/303 [00:44<01:31,  2.14it/s]\u001b[A\u001b[A\n",
      "\n",
      " 35%|███▌      | 107/303 [00:44<01:23,  2.36it/s]\u001b[A\u001b[A\n",
      "\n",
      " 36%|███▌      | 108/303 [00:45<01:20,  2.42it/s]\u001b[A\u001b[A\n",
      "\n",
      " 36%|███▌      | 109/303 [00:45<01:13,  2.64it/s]\u001b[A\u001b[A\n",
      "\n",
      " 36%|███▋      | 110/303 [00:45<01:10,  2.73it/s]\u001b[A\u001b[A\n",
      "\n",
      " 37%|███▋      | 111/303 [00:46<01:05,  2.91it/s]\u001b[A\u001b[A\n",
      "\n",
      " 37%|███▋      | 112/303 [00:46<01:17,  2.47it/s]\u001b[A\u001b[A\n",
      "\n",
      " 37%|███▋      | 113/303 [00:47<01:11,  2.64it/s]\u001b[A\u001b[A\n",
      "\n",
      " 38%|███▊      | 114/303 [00:47<01:17,  2.42it/s]\u001b[A\u001b[A\n",
      "\n",
      " 38%|███▊      | 115/303 [00:47<01:13,  2.56it/s]\u001b[A\u001b[A\n",
      "\n",
      " 38%|███▊      | 116/303 [00:48<01:07,  2.78it/s]\u001b[A\u001b[A\n",
      "\n",
      " 39%|███▊      | 117/303 [00:48<01:07,  2.74it/s]\u001b[A\u001b[A\n",
      "\n",
      " 39%|███▉      | 118/303 [00:49<01:08,  2.68it/s]\u001b[A\u001b[A\n",
      "\n",
      " 39%|███▉      | 119/303 [00:49<01:05,  2.83it/s]\u001b[A\u001b[A\n",
      "\n",
      " 40%|███▉      | 120/303 [00:49<01:16,  2.38it/s]\u001b[A\u001b[A\n",
      "\n",
      " 40%|███▉      | 121/303 [00:50<01:13,  2.47it/s]\u001b[A\u001b[A\n",
      "\n",
      " 40%|████      | 122/303 [00:50<01:10,  2.57it/s]\u001b[A\u001b[A\n",
      "\n",
      " 41%|████      | 123/303 [00:51<01:10,  2.57it/s]\u001b[A\u001b[A\n",
      "\n",
      " 41%|████      | 124/303 [00:51<01:05,  2.74it/s]\u001b[A\u001b[A\n",
      "\n",
      " 41%|████▏     | 125/303 [00:51<01:01,  2.89it/s]\u001b[A\u001b[A\n",
      "\n",
      " 42%|████▏     | 126/303 [00:51<00:59,  2.99it/s]\u001b[A\u001b[A\n",
      "\n",
      " 42%|████▏     | 127/303 [00:52<00:58,  2.99it/s]\u001b[A\u001b[A\n",
      "\n",
      " 42%|████▏     | 128/303 [00:52<00:58,  2.97it/s]\u001b[A\u001b[A\n",
      "\n",
      " 43%|████▎     | 129/303 [00:53<01:01,  2.83it/s]\u001b[A\u001b[A\n",
      "\n",
      " 43%|████▎     | 130/303 [00:53<01:00,  2.86it/s]\u001b[A\u001b[A\n",
      "\n",
      " 43%|████▎     | 131/303 [00:53<01:09,  2.48it/s]\u001b[A\u001b[A\n",
      "\n",
      " 44%|████▎     | 132/303 [00:54<01:04,  2.65it/s]\u001b[A\u001b[A\n",
      "\n",
      " 44%|████▍     | 133/303 [00:54<01:01,  2.77it/s]\u001b[A\u001b[A\n",
      "\n",
      " 44%|████▍     | 134/303 [00:54<00:57,  2.92it/s]\u001b[A\u001b[A\n",
      "\n",
      " 45%|████▍     | 135/303 [00:55<00:55,  3.04it/s]\u001b[A\u001b[A\n",
      "\n",
      " 45%|████▍     | 136/303 [00:55<00:54,  3.04it/s]\u001b[A\u001b[A\n",
      "\n",
      " 45%|████▌     | 137/303 [00:55<00:53,  3.11it/s]\u001b[A\u001b[A\n",
      "\n",
      " 46%|████▌     | 138/303 [00:56<00:52,  3.16it/s]\u001b[A\u001b[A\n",
      "\n",
      " 46%|████▌     | 139/303 [00:56<01:00,  2.71it/s]\u001b[A\u001b[A\n",
      "\n",
      " 46%|████▌     | 140/303 [00:56<01:02,  2.59it/s]\u001b[A\u001b[A\n",
      "\n",
      " 47%|████▋     | 141/303 [00:57<00:57,  2.83it/s]\u001b[A\u001b[A\n",
      "\n",
      " 47%|████▋     | 142/303 [00:57<00:55,  2.92it/s]\u001b[A\u001b[A\n",
      "\n",
      " 47%|████▋     | 143/303 [00:57<00:53,  2.98it/s]\u001b[A\u001b[A\n",
      "\n",
      " 48%|████▊     | 144/303 [00:58<00:50,  3.12it/s]\u001b[A\u001b[A\n",
      "\n",
      " 48%|████▊     | 145/303 [00:58<00:50,  3.15it/s]\u001b[A\u001b[A\n",
      "\n",
      " 48%|████▊     | 146/303 [00:58<00:52,  2.97it/s]\u001b[A\u001b[A\n",
      "\n",
      " 49%|████▊     | 147/303 [00:59<00:51,  3.01it/s]\u001b[A\u001b[A\n",
      "\n",
      " 49%|████▉     | 148/303 [00:59<00:58,  2.64it/s]\u001b[A\u001b[A\n",
      "\n",
      " 49%|████▉     | 149/303 [01:00<01:02,  2.47it/s]\u001b[A\u001b[A\n",
      "\n",
      " 50%|████▉     | 150/303 [01:00<01:04,  2.36it/s]\u001b[A\u001b[A\n",
      "\n",
      " 50%|████▉     | 151/303 [01:01<01:06,  2.29it/s]\u001b[A\u001b[A\n",
      "\n",
      " 50%|█████     | 152/303 [01:01<01:09,  2.18it/s]\u001b[A\u001b[A\n",
      "\n",
      " 50%|█████     | 153/303 [01:02<01:22,  1.82it/s]\u001b[A\u001b[A\n",
      "\n",
      " 51%|█████     | 154/303 [01:02<01:18,  1.90it/s]\u001b[A\u001b[A\n",
      "\n",
      " 51%|█████     | 155/303 [01:03<01:13,  2.00it/s]\u001b[A\u001b[A\n",
      "\n",
      " 51%|█████▏    | 156/303 [01:03<01:10,  2.08it/s]\u001b[A\u001b[A\n",
      "\n",
      " 52%|█████▏    | 157/303 [01:04<01:03,  2.32it/s]\u001b[A\u001b[A\n",
      "\n",
      " 52%|█████▏    | 158/303 [01:04<01:03,  2.28it/s]\u001b[A\u001b[A\n",
      "\n",
      " 52%|█████▏    | 159/303 [01:04<01:03,  2.28it/s]\u001b[A\u001b[A\n",
      "\n",
      " 53%|█████▎    | 160/303 [01:05<01:04,  2.23it/s]\u001b[A\u001b[A\n",
      "\n",
      " 53%|█████▎    | 161/303 [01:05<01:04,  2.19it/s]\u001b[A\u001b[A\n",
      "\n",
      " 53%|█████▎    | 162/303 [01:06<01:03,  2.21it/s]\u001b[A\u001b[A\n",
      "\n",
      " 54%|█████▍    | 163/303 [01:06<00:57,  2.42it/s]\u001b[A\u001b[A\n",
      "\n",
      " 54%|█████▍    | 164/303 [01:06<00:53,  2.58it/s]\u001b[A\u001b[A\n",
      "\n",
      " 54%|█████▍    | 165/303 [01:07<00:49,  2.79it/s]\u001b[A\u001b[A\n",
      "\n",
      " 55%|█████▍    | 166/303 [01:07<00:46,  2.93it/s]\u001b[A\u001b[A\n",
      "\n",
      " 55%|█████▌    | 167/303 [01:07<00:44,  3.08it/s]\u001b[A\u001b[A\n",
      "\n",
      " 55%|█████▌    | 168/303 [01:08<00:48,  2.81it/s]\u001b[A\u001b[A\n",
      "\n",
      " 56%|█████▌    | 169/303 [01:08<00:44,  2.98it/s]\u001b[A\u001b[A\n",
      "\n",
      " 56%|█████▌    | 170/303 [01:08<00:42,  3.11it/s]\u001b[A\u001b[A\n",
      "\n",
      " 56%|█████▋    | 171/303 [01:09<00:41,  3.17it/s]\u001b[A\u001b[A\n",
      "\n",
      " 57%|█████▋    | 172/303 [01:09<00:40,  3.24it/s]\u001b[A\u001b[A\n",
      "\n",
      " 57%|█████▋    | 173/303 [01:09<00:40,  3.24it/s]\u001b[A\u001b[A\n",
      "\n",
      " 57%|█████▋    | 174/303 [01:10<00:39,  3.26it/s]\u001b[A\u001b[A\n",
      "\n",
      " 58%|█████▊    | 175/303 [01:10<00:39,  3.26it/s]\u001b[A\u001b[A\n",
      "\n",
      " 58%|█████▊    | 176/303 [01:10<00:40,  3.11it/s]\u001b[A\u001b[A\n",
      "\n",
      " 58%|█████▊    | 177/303 [01:11<00:48,  2.60it/s]\u001b[A\u001b[A\n",
      "\n",
      " 59%|█████▊    | 178/303 [01:11<00:49,  2.54it/s]\u001b[A\u001b[A\n",
      "\n",
      " 59%|█████▉    | 179/303 [01:12<00:52,  2.35it/s]\u001b[A\u001b[A\n",
      "\n",
      " 59%|█████▉    | 180/303 [01:12<01:04,  1.91it/s]\u001b[A\u001b[A\n",
      "\n",
      " 60%|█████▉    | 181/303 [01:13<00:58,  2.07it/s]\u001b[A\u001b[A\n",
      "\n",
      " 60%|██████    | 182/303 [01:13<00:58,  2.08it/s]\u001b[A\u001b[A\n",
      "\n",
      " 60%|██████    | 183/303 [01:14<00:59,  2.00it/s]\u001b[A\u001b[A\n",
      "\n",
      " 61%|██████    | 184/303 [01:14<00:53,  2.20it/s]\u001b[A\u001b[A\n",
      "\n",
      " 61%|██████    | 185/303 [01:14<00:47,  2.46it/s]\u001b[A\u001b[A\n",
      "\n",
      " 61%|██████▏   | 186/303 [01:15<00:44,  2.62it/s]\u001b[A\u001b[A\n",
      "\n",
      " 62%|██████▏   | 187/303 [01:15<00:41,  2.82it/s]\u001b[A\u001b[A\n",
      "\n",
      " 62%|██████▏   | 188/303 [01:15<00:39,  2.90it/s]\u001b[A\u001b[A\n",
      "\n",
      " 62%|██████▏   | 189/303 [01:16<00:38,  3.00it/s]\u001b[A\u001b[A\n",
      "\n",
      " 63%|██████▎   | 190/303 [01:16<00:36,  3.09it/s]\u001b[A\u001b[A\n",
      "\n",
      " 63%|██████▎   | 191/303 [01:16<00:35,  3.19it/s]\u001b[A\u001b[A\n",
      "\n",
      " 63%|██████▎   | 192/303 [01:17<00:34,  3.20it/s]\u001b[A\u001b[A\n",
      "\n",
      " 64%|██████▎   | 193/303 [01:17<00:33,  3.26it/s]\u001b[A\u001b[A\n",
      "\n",
      " 64%|██████▍   | 194/303 [01:17<00:32,  3.31it/s]\u001b[A\u001b[A\n",
      "\n",
      " 64%|██████▍   | 195/303 [01:18<00:34,  3.10it/s]\u001b[A\u001b[A\n",
      "\n",
      " 65%|██████▍   | 196/303 [01:18<00:35,  2.99it/s]\u001b[A\u001b[A\n",
      "\n",
      " 65%|██████▌   | 197/303 [01:18<00:38,  2.76it/s]\u001b[A\u001b[A\n",
      "\n",
      " 65%|██████▌   | 198/303 [01:19<00:41,  2.56it/s]\u001b[A\u001b[A\n",
      "\n",
      " 66%|██████▌   | 199/303 [01:19<00:42,  2.43it/s]\u001b[A\u001b[A\n",
      "\n",
      " 66%|██████▌   | 200/303 [01:20<00:44,  2.31it/s]\u001b[A\u001b[A\n",
      "\n",
      " 66%|██████▋   | 201/303 [01:20<00:42,  2.40it/s]\u001b[A\u001b[A\n",
      "\n",
      " 67%|██████▋   | 202/303 [01:20<00:39,  2.53it/s]\u001b[A\u001b[A\n",
      "\n",
      " 67%|██████▋   | 203/303 [01:21<00:36,  2.73it/s]\u001b[A\u001b[A\n",
      "\n",
      " 67%|██████▋   | 204/303 [01:21<00:35,  2.78it/s]\u001b[A\u001b[A\n",
      "\n",
      " 68%|██████▊   | 205/303 [01:22<00:36,  2.66it/s]\u001b[A\u001b[A\n",
      "\n",
      " 68%|██████▊   | 206/303 [01:22<00:34,  2.84it/s]\u001b[A\u001b[A\n",
      "\n",
      " 68%|██████▊   | 207/303 [01:22<00:36,  2.60it/s]\u001b[A\u001b[A\n",
      "\n",
      " 69%|██████▊   | 208/303 [01:23<00:38,  2.44it/s]\u001b[A\u001b[A\n",
      "\n",
      " 69%|██████▉   | 209/303 [01:23<00:40,  2.35it/s]\u001b[A\u001b[A\n",
      "\n",
      " 69%|██████▉   | 210/303 [01:24<00:51,  1.81it/s]\u001b[A\u001b[A\n",
      "\n",
      " 70%|██████▉   | 211/303 [01:24<00:46,  1.99it/s]\u001b[A\u001b[A\n",
      "\n",
      " 70%|██████▉   | 212/303 [01:25<00:40,  2.27it/s]\u001b[A\u001b[A\n",
      "\n",
      " 70%|███████   | 213/303 [01:25<00:35,  2.51it/s]\u001b[A\u001b[A\n",
      "\n",
      " 71%|███████   | 214/303 [01:25<00:34,  2.58it/s]\u001b[A\u001b[A\n",
      "\n",
      " 71%|███████   | 215/303 [01:26<00:36,  2.44it/s]\u001b[A\u001b[A\n",
      "\n",
      " 71%|███████▏  | 216/303 [01:26<00:36,  2.40it/s]\u001b[A\u001b[A\n",
      "\n",
      " 72%|███████▏  | 217/303 [01:27<00:33,  2.60it/s]\u001b[A\u001b[A\n",
      "\n",
      " 72%|███████▏  | 218/303 [01:27<00:30,  2.82it/s]\u001b[A\u001b[A\n",
      "\n",
      " 72%|███████▏  | 219/303 [01:27<00:35,  2.38it/s]\u001b[A\u001b[A\n",
      "\n",
      " 73%|███████▎  | 220/303 [01:28<00:32,  2.57it/s]\u001b[A\u001b[A\n",
      "\n",
      " 73%|███████▎  | 221/303 [01:28<00:29,  2.78it/s]\u001b[A\u001b[A\n",
      "\n",
      " 73%|███████▎  | 222/303 [01:28<00:29,  2.76it/s]\u001b[A\u001b[A\n",
      "\n",
      " 74%|███████▎  | 223/303 [01:29<00:28,  2.85it/s]\u001b[A\u001b[A\n",
      "\n",
      " 74%|███████▍  | 224/303 [01:29<00:29,  2.71it/s]\u001b[A\u001b[A\n",
      "\n",
      " 74%|███████▍  | 225/303 [01:30<00:28,  2.73it/s]\u001b[A\u001b[A\n",
      "\n",
      " 75%|███████▍  | 226/303 [01:30<00:26,  2.90it/s]\u001b[A\u001b[A\n",
      "\n",
      " 75%|███████▍  | 227/303 [01:30<00:29,  2.59it/s]\u001b[A\u001b[A\n",
      "\n",
      " 75%|███████▌  | 228/303 [01:31<00:30,  2.44it/s]\u001b[A\u001b[A\n",
      "\n",
      " 76%|███████▌  | 229/303 [01:31<00:33,  2.19it/s]\u001b[A\u001b[A\n",
      "\n",
      " 76%|███████▌  | 230/303 [01:32<00:29,  2.44it/s]\u001b[A\u001b[A\n",
      "\n",
      " 76%|███████▌  | 231/303 [01:32<00:30,  2.33it/s]\u001b[A\u001b[A\n",
      "\n",
      " 77%|███████▋  | 232/303 [01:32<00:27,  2.54it/s]\u001b[A\u001b[A\n",
      "\n",
      " 77%|███████▋  | 233/303 [01:33<00:25,  2.74it/s]\u001b[A\u001b[A\n",
      "\n",
      " 77%|███████▋  | 234/303 [01:33<00:23,  2.91it/s]\u001b[A\u001b[A\n",
      "\n",
      " 78%|███████▊  | 235/303 [01:33<00:22,  3.06it/s]\u001b[A\u001b[A\n",
      "\n",
      " 78%|███████▊  | 236/303 [01:34<00:21,  3.07it/s]\u001b[A\u001b[A\n",
      "\n",
      " 78%|███████▊  | 237/303 [01:34<00:21,  3.13it/s]\u001b[A\u001b[A\n",
      "\n",
      " 79%|███████▊  | 238/303 [01:34<00:20,  3.11it/s]\u001b[A\u001b[A\n",
      "\n",
      " 79%|███████▉  | 239/303 [01:35<00:20,  3.15it/s]\u001b[A\u001b[A\n",
      "\n",
      " 79%|███████▉  | 240/303 [01:35<00:21,  2.89it/s]\u001b[A\u001b[A\n",
      "\n",
      " 80%|███████▉  | 241/303 [01:35<00:22,  2.81it/s]\u001b[A\u001b[A\n",
      "\n",
      " 80%|███████▉  | 242/303 [01:36<00:28,  2.15it/s]\u001b[A\u001b[A\n",
      "\n",
      " 80%|████████  | 243/303 [01:37<00:31,  1.89it/s]\u001b[A\u001b[A\n",
      "\n",
      " 81%|████████  | 244/303 [01:37<00:26,  2.19it/s]\u001b[A\u001b[A\n",
      "\n",
      " 81%|████████  | 245/303 [01:37<00:23,  2.42it/s]\u001b[A\u001b[A\n",
      "\n",
      " 81%|████████  | 246/303 [01:38<00:21,  2.64it/s]\u001b[A\u001b[A\n",
      "\n",
      " 82%|████████▏ | 247/303 [01:38<00:19,  2.82it/s]\u001b[A\u001b[A\n",
      "\n",
      " 82%|████████▏ | 248/303 [01:39<00:23,  2.35it/s]\u001b[A\u001b[A\n",
      "\n",
      " 82%|████████▏ | 249/303 [01:39<00:24,  2.16it/s]\u001b[A\u001b[A\n",
      "\n",
      " 83%|████████▎ | 250/303 [01:40<00:31,  1.70it/s]\u001b[A\u001b[A\n",
      "\n",
      " 83%|████████▎ | 251/303 [01:40<00:25,  2.00it/s]\u001b[A\u001b[A\n",
      "\n",
      " 83%|████████▎ | 252/303 [01:41<00:23,  2.21it/s]\u001b[A\u001b[A\n",
      "\n",
      " 83%|████████▎ | 253/303 [01:41<00:20,  2.46it/s]\u001b[A\u001b[A\n",
      "\n",
      " 84%|████████▍ | 254/303 [01:41<00:18,  2.69it/s]\u001b[A\u001b[A\n",
      "\n",
      " 84%|████████▍ | 255/303 [01:42<00:18,  2.64it/s]\u001b[A\u001b[A\n",
      "\n",
      " 84%|████████▍ | 256/303 [01:42<00:18,  2.60it/s]\u001b[A\u001b[A\n",
      "\n",
      " 85%|████████▍ | 257/303 [01:42<00:19,  2.39it/s]\u001b[A\u001b[A\n",
      "\n",
      " 85%|████████▌ | 258/303 [01:43<00:20,  2.24it/s]\u001b[A\u001b[A\n",
      "\n",
      " 85%|████████▌ | 259/303 [01:43<00:18,  2.36it/s]\u001b[A\u001b[A\n",
      "\n",
      " 86%|████████▌ | 260/303 [01:44<00:17,  2.42it/s]\u001b[A\u001b[A\n",
      "\n",
      " 86%|████████▌ | 261/303 [01:44<00:15,  2.64it/s]\u001b[A\u001b[A\n",
      "\n",
      " 86%|████████▋ | 262/303 [01:44<00:14,  2.83it/s]\u001b[A\u001b[A\n",
      "\n",
      " 87%|████████▋ | 263/303 [01:45<00:13,  3.01it/s]\u001b[A\u001b[A\n",
      "\n",
      " 87%|████████▋ | 264/303 [01:45<00:12,  3.08it/s]\u001b[A\u001b[A\n",
      "\n",
      " 87%|████████▋ | 265/303 [01:45<00:11,  3.17it/s]\u001b[A\u001b[A\n",
      "\n",
      " 88%|████████▊ | 266/303 [01:46<00:11,  3.23it/s]\u001b[A\u001b[A\n",
      "\n",
      " 88%|████████▊ | 267/303 [01:46<00:11,  3.21it/s]\u001b[A\u001b[A\n",
      "\n",
      " 88%|████████▊ | 268/303 [01:46<00:10,  3.22it/s]\u001b[A\u001b[A\n",
      "\n",
      " 89%|████████▉ | 269/303 [01:47<00:11,  3.02it/s]\u001b[A\u001b[A\n",
      "\n",
      " 89%|████████▉ | 270/303 [01:47<00:11,  2.88it/s]\u001b[A\u001b[A\n",
      "\n",
      " 89%|████████▉ | 271/303 [01:48<00:14,  2.21it/s]\u001b[A\u001b[A\n",
      "\n",
      " 90%|████████▉ | 272/303 [01:48<00:15,  2.00it/s]\u001b[A\u001b[A\n",
      "\n",
      " 90%|█████████ | 273/303 [01:49<00:17,  1.76it/s]\u001b[A\u001b[A\n",
      "\n",
      " 90%|█████████ | 274/303 [01:49<00:15,  1.93it/s]\u001b[A\u001b[A\n",
      "\n",
      " 91%|█████████ | 275/303 [01:50<00:14,  1.98it/s]\u001b[A\u001b[A\n",
      "\n",
      " 91%|█████████ | 276/303 [01:50<00:14,  1.83it/s]\u001b[A\u001b[A\n",
      "\n",
      " 91%|█████████▏| 277/303 [01:51<00:12,  2.06it/s]\u001b[A\u001b[A\n",
      "\n",
      " 92%|█████████▏| 278/303 [01:51<00:11,  2.27it/s]\u001b[A\u001b[A\n",
      "\n",
      " 92%|█████████▏| 279/303 [01:51<00:09,  2.46it/s]\u001b[A\u001b[A\n",
      "\n",
      " 92%|█████████▏| 280/303 [01:52<00:08,  2.63it/s]\u001b[A\u001b[A\n",
      "\n",
      " 93%|█████████▎| 281/303 [01:52<00:08,  2.65it/s]\u001b[A\u001b[A\n",
      "\n",
      " 93%|█████████▎| 282/303 [01:53<00:07,  2.72it/s]\u001b[A\u001b[A\n",
      "\n",
      " 93%|█████████▎| 283/303 [01:53<00:08,  2.28it/s]\u001b[A\u001b[A\n",
      "\n",
      " 94%|█████████▎| 284/303 [01:53<00:07,  2.50it/s]\u001b[A\u001b[A\n",
      "\n",
      " 94%|█████████▍| 285/303 [01:54<00:06,  2.68it/s]\u001b[A\u001b[A\n",
      "\n",
      " 94%|█████████▍| 286/303 [01:54<00:06,  2.47it/s]\u001b[A\u001b[A\n",
      "\n",
      " 95%|█████████▍| 287/303 [01:55<00:05,  2.70it/s]\u001b[A\u001b[A\n",
      "\n"
     ]
    },
    {
     "name": "stderr",
     "output_type": "stream",
     "text": [
      " 95%|█████████▌| 288/303 [01:55<00:05,  2.78it/s]\u001b[A\u001b[A\n",
      "\n",
      " 95%|█████████▌| 289/303 [01:55<00:04,  2.93it/s]\u001b[A\u001b[A\n",
      "\n",
      " 96%|█████████▌| 290/303 [01:55<00:04,  3.01it/s]\u001b[A\u001b[A\n",
      "\n",
      " 96%|█████████▌| 291/303 [01:56<00:04,  2.99it/s]\u001b[A\u001b[A\n",
      "\n",
      " 96%|█████████▋| 292/303 [01:56<00:03,  3.04it/s]\u001b[A\u001b[A\n",
      "\n",
      " 97%|█████████▋| 293/303 [01:57<00:03,  2.68it/s]\u001b[A\u001b[A\n",
      "\n",
      " 97%|█████████▋| 294/303 [01:57<00:03,  2.85it/s]\u001b[A\u001b[A\n",
      "\n",
      " 97%|█████████▋| 295/303 [01:57<00:02,  3.00it/s]\u001b[A\u001b[A\n",
      "\n",
      " 98%|█████████▊| 296/303 [01:57<00:02,  3.12it/s]\u001b[A\u001b[A\n",
      "\n",
      " 98%|█████████▊| 297/303 [01:58<00:01,  3.13it/s]\u001b[A\u001b[A\n",
      "\n",
      " 98%|█████████▊| 298/303 [01:58<00:01,  3.16it/s]\u001b[A\u001b[A\n",
      "\n",
      " 99%|█████████▊| 299/303 [01:58<00:01,  2.96it/s]\u001b[A\u001b[A\n",
      "\n",
      " 99%|█████████▉| 300/303 [01:59<00:01,  2.90it/s]\u001b[A\u001b[A\n",
      "\n",
      " 99%|█████████▉| 301/303 [01:59<00:00,  2.92it/s]\u001b[A\u001b[A\n",
      "\n",
      "100%|█████████▉| 302/303 [02:00<00:00,  2.94it/s]\u001b[A\u001b[A\n",
      "\n",
      "100%|██████████| 303/303 [02:00<00:00,  2.52it/s]\u001b[A\u001b[A\n"
     ]
    }
   ],
   "source": [
    "posrank_deepmatcher,_,_ = explainSamples(correct_pred_deepmatcher,[amazon,google],amzgoogle_deepmatcher,\n",
    "                                         predict_fn_deepmatcher,1,1)"
   ]
  },
  {
   "cell_type": "code",
   "execution_count": 52,
   "metadata": {
    "ExecuteTime": {
     "end_time": "2020-03-27T16:19:40.673275Z",
     "start_time": "2020-03-27T16:19:40.450040Z"
    }
   },
   "outputs": [
    {
     "data": {
      "image/png": "[encoded data removed]",
      "text/plain": [
       "<Figure size 288x288 with 1 Axes>"
      ]
     },
     "metadata": {
      "needs_background": "light"
     },
     "output_type": "display_data"
    }
   ],
   "source": [
    "ax,posrank = aggregateRankings(posrank_deeper,positive=True,maxLenAttributes=1,lenTriangles=183)"
   ]
  },
  {
   "cell_type": "code",
   "execution_count": 53,
   "metadata": {
    "ExecuteTime": {
     "end_time": "2020-03-27T16:20:03.148137Z",
     "start_time": "2020-03-27T16:20:02.921504Z"
    }
   },
   "outputs": [
    {
     "data": {
      "image/png": "[encoded data removed]",
      "text/plain": [
       "<Figure size 288x288 with 1 Axes>"
      ]
     },
     "metadata": {
      "needs_background": "light"
     },
     "output_type": "display_data"
    }
   ],
   "source": [
    "ax,posrank = aggregateRankings(posrank_deepmatcher,positive=True,maxLenAttributes=1,lenTriangles=303)"
   ]
  },
  {
   "cell_type": "markdown",
   "metadata": {},
   "source": [
    "## DBLP-ACM"
   ]
  },
  {
   "cell_type": "code",
   "execution_count": 11,
   "metadata": {
    "ExecuteTime": {
     "end_time": "2020-03-27T18:43:19.488210Z",
     "start_time": "2020-03-27T18:43:19.407180Z"
    }
   },
   "outputs": [],
   "source": [
    "augmented_test = pd.read_csv('datasets/DBLP-ACM/augmented_test.csv')\n",
    "dblp = pd.read_csv('datasets/DBLP-ACM/DBLP2.csv',dtype=str)\n",
    "acm = pd.read_csv('datasets/DBLP-ACM/ACM.csv',dtype=str)"
   ]
  },
  {
   "cell_type": "code",
   "execution_count": 8,
   "metadata": {
    "ExecuteTime": {
     "end_time": "2020-03-27T18:40:28.022292Z",
     "start_time": "2020-03-27T18:40:22.364068Z"
    }
   },
   "outputs": [],
   "source": [
    "dblpacm_deeper = load_model('models/DeepER_best_model_100_dblp-acm.h5')\n",
    "dblpacm_deepmatcher = dm.MatchingModel(attr_summarizer='rnn')\n",
    "dblpacm_deepmatcher.load_state('models/dblp_acm_rnn.pth')"
   ]
  },
  {
   "cell_type": "code",
   "execution_count": 9,
   "metadata": {
    "ExecuteTime": {
     "end_time": "2020-03-27T18:41:42.872191Z",
     "start_time": "2020-03-27T18:41:23.855582Z"
    }
   },
   "outputs": [
    {
     "name": "stdout",
     "output_type": "stream",
     "text": [
      "Len of correct predictions is 1157\n",
      "Len of correct predictions is 1182\n"
     ]
    }
   ],
   "source": [
    "correct_deeper = getCorrectPredictions(augmented_test,dblpacm_deeper,predict_fn_deeper)\n",
    "correct_deepmatcher = getCorrectPredictions(augmented_test,dblpacm_deepmatcher,predict_fn_deepmatcher)"
   ]
  },
  {
   "cell_type": "code",
   "execution_count": 12,
   "metadata": {
    "ExecuteTime": {
     "end_time": "2020-03-27T18:43:29.602962Z",
     "start_time": "2020-03-27T18:43:20.645004Z"
    }
   },
   "outputs": [
    {
     "name": "stderr",
     "output_type": "stream",
     "text": [
      "100%|██████████| 599/599 [00:06<00:00, 85.98it/s]\n"
     ]
    }
   ],
   "source": [
    "negrank_deeper,_,_ = explainSamples(correct_deeper,[dblp,acm],dblpacm_deeper,predict_fn_deeper,\n",
    "                                   0,1)"
   ]
  },
  {
   "cell_type": "code",
   "execution_count": 13,
   "metadata": {
    "ExecuteTime": {
     "end_time": "2020-03-27T18:46:18.286388Z",
     "start_time": "2020-03-27T18:44:06.456855Z"
    }
   },
   "outputs": [
    {
     "name": "stderr",
     "output_type": "stream",
     "text": [
      "100%|██████████| 629/629 [02:09<00:00,  4.86it/s]\n"
     ]
    }
   ],
   "source": [
    "negrank_deepmatcher,_,_ = explainSamples(correct_deepmatcher,[dblp,acm],dblpacm_deepmatcher,predict_fn_deepmatcher,\n",
    "                                        0,1)"
   ]
  },
  {
   "cell_type": "code",
   "execution_count": 14,
   "metadata": {
    "ExecuteTime": {
     "end_time": "2020-03-27T18:48:45.931209Z",
     "start_time": "2020-03-27T18:48:44.937634Z"
    }
   },
   "outputs": [
    {
     "data": {
      "image/png": "[encoded data removed]",
      "text/plain": [
       "<Figure size 288x288 with 1 Axes>"
      ]
     },
     "metadata": {
      "needs_background": "light"
     },
     "output_type": "display_data"
    }
   ],
   "source": [
    "ax,negrank = aggregateRankings(negrank_deeper,positive=False,maxLenAttributes=1,lenTriangles=599)"
   ]
  },
  {
   "cell_type": "code",
   "execution_count": 15,
   "metadata": {
    "ExecuteTime": {
     "end_time": "2020-03-27T18:49:08.470765Z",
     "start_time": "2020-03-27T18:49:08.274625Z"
    }
   },
   "outputs": [
    {
     "data": {
      "image/png": "[encoded data removed]",
      "text/plain": [
       "<Figure size 144x144 with 1 Axes>"
      ]
     },
     "metadata": {
      "needs_background": "light"
     },
     "output_type": "display_data"
    }
   ],
   "source": [
    "ax,negrank = aggregateRankings(negrank_deepmatcher,positive=False,maxLenAttributes=1,lenTriangles=629)"
   ]
  },
  {
   "cell_type": "code",
   "execution_count": 16,
   "metadata": {
    "ExecuteTime": {
     "end_time": "2020-03-27T18:51:20.013850Z",
     "start_time": "2020-03-27T18:51:10.634226Z"
    }
   },
   "outputs": [
    {
     "name": "stderr",
     "output_type": "stream",
     "text": [
      "100%|██████████| 599/599 [00:07<00:00, 81.38it/s]\n"
     ]
    }
   ],
   "source": [
    "posrank_deeper,_,_ = explainSamples(correct_deeper,[dblp,acm],dblpacm_deeper,predict_fn_deeper,\n",
    "                                   1,1)"
   ]
  },
  {
   "cell_type": "code",
   "execution_count": 17,
   "metadata": {
    "ExecuteTime": {
     "end_time": "2020-03-27T18:53:37.304450Z",
     "start_time": "2020-03-27T18:51:40.450642Z"
    }
   },
   "outputs": [
    {
     "name": "stderr",
     "output_type": "stream",
     "text": [
      "100%|██████████| 629/629 [01:54<00:00,  5.48it/s]\n"
     ]
    }
   ],
   "source": [
    "posrank_deepmatcher,_,_ = explainSamples(correct_deepmatcher,[dblp,acm],dblpacm_deepmatcher,predict_fn_deepmatcher,\n",
    "                                        1,1)"
   ]
  },
  {
   "cell_type": "code",
   "execution_count": 18,
   "metadata": {
    "ExecuteTime": {
     "end_time": "2020-03-27T18:53:47.828098Z",
     "start_time": "2020-03-27T18:53:47.604595Z"
    }
   },
   "outputs": [
    {
     "data": {
      "image/png": "[encoded data removed]",
      "text/plain": [
       "<Figure size 216x216 with 1 Axes>"
      ]
     },
     "metadata": {
      "needs_background": "light"
     },
     "output_type": "display_data"
    }
   ],
   "source": [
    "ax,posrank = aggregateRankings(posrank_deeper,positive=True,maxLenAttributes=1,lenTriangles=599)"
   ]
  },
  {
   "cell_type": "code",
   "execution_count": 19,
   "metadata": {
    "ExecuteTime": {
     "end_time": "2020-03-27T18:54:18.115234Z",
     "start_time": "2020-03-27T18:54:17.900112Z"
    }
   },
   "outputs": [
    {
     "data": {
      "image/png": "[encoded data removed]",
      "text/plain": [
       "<Figure size 288x288 with 1 Axes>"
      ]
     },
     "metadata": {
      "needs_background": "light"
     },
     "output_type": "display_data"
    }
   ],
   "source": [
    "ax,posrank = aggregateRankings(posrank_deepmatcher,positive=True,maxLenAttributes=1,lenTriangles=629)"
   ]
  },
  {
   "cell_type": "markdown",
   "metadata": {},
   "source": [
    "## Fodors-Zagats"
   ]
  },
  {
   "cell_type": "code",
   "execution_count": 20,
   "metadata": {
    "ExecuteTime": {
     "end_time": "2020-03-27T18:58:43.873313Z",
     "start_time": "2020-03-27T18:58:43.806551Z"
    }
   },
   "outputs": [],
   "source": [
    "augmented_test = pd.read_csv('datasets/fodors_zagats/augmented_test.csv')\n",
    "fodors = pd.read_csv('datasets/fodors_zagats/fodors.csv',dtype=str)\n",
    "zagats = pd.read_csv('datasets/fodors_zagats/zagats.csv',dtype=str)"
   ]
  },
  {
   "cell_type": "code",
   "execution_count": 21,
   "metadata": {
    "ExecuteTime": {
     "end_time": "2020-03-27T19:00:37.931658Z",
     "start_time": "2020-03-27T19:00:34.710814Z"
    }
   },
   "outputs": [],
   "source": [
    "fodors_deeper = load_model('models/DeepER_best_model_100_fodors-zagats.h5')\n",
    "fodors_deepmatcher = dm.MatchingModel(attr_summarizer='rnn')\n",
    "fodors_deepmatcher.load_state('models/fodors_zagats_rnn.pth')"
   ]
  },
  {
   "cell_type": "code",
   "execution_count": 22,
   "metadata": {
    "ExecuteTime": {
     "end_time": "2020-03-27T19:01:22.089634Z",
     "start_time": "2020-03-27T19:01:20.600657Z"
    }
   },
   "outputs": [
    {
     "name": "stdout",
     "output_type": "stream",
     "text": [
      "Len of correct predictions is 48\n",
      "Len of correct predictions is 75\n"
     ]
    }
   ],
   "source": [
    "correct_deeper = getCorrectPredictions(augmented_test,fodors_deeper,predict_fn_deeper)\n",
    "correct_deepmatcher = getCorrectPredictions(augmented_test,fodors_deepmatcher,predict_fn_deepmatcher)"
   ]
  },
  {
   "cell_type": "code",
   "execution_count": 24,
   "metadata": {
    "ExecuteTime": {
     "end_time": "2020-03-27T19:02:05.647779Z",
     "start_time": "2020-03-27T19:02:05.441292Z"
    }
   },
   "outputs": [
    {
     "name": "stderr",
     "output_type": "stream",
     "text": [
      "100%|██████████| 8/8 [00:00<00:00, 71.77it/s]\n"
     ]
    }
   ],
   "source": [
    "negrank_deeper,_,_ = explainSamples(correct_deeper,[fodors,zagats],fodors_deeper,predict_fn_deeper,\n",
    "                                   0,1)"
   ]
  },
  {
   "cell_type": "code",
   "execution_count": 25,
   "metadata": {
    "ExecuteTime": {
     "end_time": "2020-03-27T19:02:53.398326Z",
     "start_time": "2020-03-27T19:02:48.153952Z"
    }
   },
   "outputs": [
    {
     "name": "stderr",
     "output_type": "stream",
     "text": [
      "100%|██████████| 50/50 [00:05<00:00,  9.96it/s]\n"
     ]
    }
   ],
   "source": [
    "negrank_deepmatcher,_,_ = explainSamples(correct_deepmatcher,[fodors,zagats],fodors_deepmatcher,predict_fn_deepmatcher,\n",
    "                                        0,1)"
   ]
  },
  {
   "cell_type": "code",
   "execution_count": 27,
   "metadata": {
    "ExecuteTime": {
     "end_time": "2020-03-27T19:03:20.279221Z",
     "start_time": "2020-03-27T19:03:20.050315Z"
    }
   },
   "outputs": [
    {
     "data": {
      "image/png": "[encoded data removed]",
      "text/plain": [
       "<Figure size 432x432 with 1 Axes>"
      ]
     },
     "metadata": {
      "needs_background": "light"
     },
     "output_type": "display_data"
    }
   ],
   "source": [
    "ax,negrank = aggregateRankings(negrank_deepmatcher,positive=False,maxLenAttributes=1,lenTriangles=50)"
   ]
  },
  {
   "cell_type": "code",
   "execution_count": 30,
   "metadata": {
    "ExecuteTime": {
     "end_time": "2020-03-27T19:24:51.138410Z",
     "start_time": "2020-03-27T19:24:50.902541Z"
    }
   },
   "outputs": [
    {
     "data": {
      "image/png": "[encoded data removed]",
      "text/plain": [
       "<Figure size 432x432 with 1 Axes>"
      ]
     },
     "metadata": {
      "needs_background": "light"
     },
     "output_type": "display_data"
    }
   ],
   "source": [
    "ax,negrank = aggregateRankings(negrank_deeper,positive=False,maxLenAttributes=1,lenTriangles=8)"
   ]
  },
  {
   "cell_type": "code",
   "execution_count": 31,
   "metadata": {
    "ExecuteTime": {
     "end_time": "2020-03-27T19:25:20.048357Z",
     "start_time": "2020-03-27T19:25:14.790779Z"
    }
   },
   "outputs": [
    {
     "name": "stderr",
     "output_type": "stream",
     "text": [
      "100%|██████████| 50/50 [00:05<00:00,  9.90it/s]\n"
     ]
    }
   ],
   "source": [
    "posrank_deepmatcher,_,_ = explainSamples(correct_deepmatcher,[fodors,zagats],fodors_deepmatcher,predict_fn_deepmatcher,\n",
    "                                        1,1)"
   ]
  },
  {
   "cell_type": "code",
   "execution_count": 33,
   "metadata": {
    "ExecuteTime": {
     "end_time": "2020-03-27T19:25:50.175642Z",
     "start_time": "2020-03-27T19:25:49.967154Z"
    }
   },
   "outputs": [
    {
     "name": "stderr",
     "output_type": "stream",
     "text": [
      "100%|██████████| 8/8 [00:00<00:00, 65.88it/s]\n"
     ]
    }
   ],
   "source": [
    "posrank_deeper,_,_ = explainSamples(correct_deeper,[fodors,zagats],fodors_deeper,predict_fn_deeper,\n",
    "                                   1,1)"
   ]
  },
  {
   "cell_type": "code",
   "execution_count": 35,
   "metadata": {
    "ExecuteTime": {
     "end_time": "2020-03-27T19:26:28.727720Z",
     "start_time": "2020-03-27T19:26:28.480854Z"
    }
   },
   "outputs": [
    {
     "data": {
      "image/png": "[encoded data removed]",
      "text/plain": [
       "<Figure size 432x432 with 1 Axes>"
      ]
     },
     "metadata": {
      "needs_background": "light"
     },
     "output_type": "display_data"
    }
   ],
   "source": [
    "ax,posrank = aggregateRankings(posrank_deepmatcher,positive=True,maxLenAttributes=1,lenTriangles=50)"
   ]
  },
  {
   "cell_type": "code",
   "execution_count": 36,
   "metadata": {
    "ExecuteTime": {
     "end_time": "2020-03-27T19:26:48.132553Z",
     "start_time": "2020-03-27T19:26:48.055985Z"
    }
   },
   "outputs": [
    {
     "ename": "ValueError",
     "evalue": "figure size must be positive finite not (0, 0)",
     "output_type": "error",
     "traceback": [
      "\u001b[0;31m---------------------------------------------------------------------------\u001b[0m",
      "\u001b[0;31mValueError\u001b[0m                                Traceback (most recent call last)",
      "\u001b[0;32m<ipython-input-36-5b7dc20cdaf3>\u001b[0m in \u001b[0;36m<module>\u001b[0;34m\u001b[0m\n\u001b[0;32m----> 1\u001b[0;31m \u001b[0max\u001b[0m\u001b[0;34m,\u001b[0m\u001b[0mposrank\u001b[0m \u001b[0;34m=\u001b[0m \u001b[0maggregateRankings\u001b[0m\u001b[0;34m(\u001b[0m\u001b[0mposrank_deeper\u001b[0m\u001b[0;34m,\u001b[0m\u001b[0mpositive\u001b[0m\u001b[0;34m=\u001b[0m\u001b[0;32mTrue\u001b[0m\u001b[0;34m,\u001b[0m\u001b[0mmaxLenAttributes\u001b[0m\u001b[0;34m=\u001b[0m\u001b[0;36m1\u001b[0m\u001b[0;34m,\u001b[0m\u001b[0mlenTriangles\u001b[0m\u001b[0;34m=\u001b[0m\u001b[0;36m8\u001b[0m\u001b[0;34m)\u001b[0m\u001b[0;34m\u001b[0m\u001b[0;34m\u001b[0m\u001b[0m\n\u001b[0m",
      "\u001b[0;32m~/workspace/dbgroup/vmartello/DeepER/explanation/mojito2.py\u001b[0m in \u001b[0;36maggregateRankings\u001b[0;34m(ranking_l, positive, maxLenAttributes, lenTriangles)\u001b[0m\n\u001b[1;32m     30\u001b[0m     \u001b[0mdf\u001b[0m \u001b[0;34m=\u001b[0m \u001b[0mpd\u001b[0m\u001b[0;34m.\u001b[0m\u001b[0mDataFrame\u001b[0m\u001b[0;34m(\u001b[0m\u001b[0mrankForHistogram\u001b[0m\u001b[0;34m)\u001b[0m\u001b[0;34m\u001b[0m\u001b[0;34m\u001b[0m\u001b[0m\n\u001b[1;32m     31\u001b[0m     \u001b[0;32mif\u001b[0m \u001b[0mpositive\u001b[0m\u001b[0;34m:\u001b[0m\u001b[0;34m\u001b[0m\u001b[0;34m\u001b[0m\u001b[0m\n\u001b[0;32m---> 32\u001b[0;31m         \u001b[0max\u001b[0m \u001b[0;34m=\u001b[0m \u001b[0mdf\u001b[0m\u001b[0;34m.\u001b[0m\u001b[0mplot\u001b[0m\u001b[0;34m.\u001b[0m\u001b[0mbarh\u001b[0m\u001b[0;34m(\u001b[0m\u001b[0mx\u001b[0m\u001b[0;34m=\u001b[0m\u001b[0;34m'attributes'\u001b[0m\u001b[0;34m,\u001b[0m \u001b[0my\u001b[0m\u001b[0;34m=\u001b[0m\u001b[0;34m'flipped'\u001b[0m\u001b[0;34m,\u001b[0m\u001b[0mcolor\u001b[0m\u001b[0;34m=\u001b[0m\u001b[0;34m'green'\u001b[0m\u001b[0;34m,\u001b[0m\u001b[0mfigsize\u001b[0m\u001b[0;34m=\u001b[0m\u001b[0;34m(\u001b[0m\u001b[0mfig_height\u001b[0m\u001b[0;34m,\u001b[0m\u001b[0mfig_width\u001b[0m\u001b[0;34m)\u001b[0m\u001b[0;34m)\u001b[0m\u001b[0;34m\u001b[0m\u001b[0;34m\u001b[0m\u001b[0m\n\u001b[0m\u001b[1;32m     33\u001b[0m     \u001b[0;32melse\u001b[0m\u001b[0;34m:\u001b[0m\u001b[0;34m\u001b[0m\u001b[0;34m\u001b[0m\u001b[0m\n\u001b[1;32m     34\u001b[0m         \u001b[0max\u001b[0m \u001b[0;34m=\u001b[0m \u001b[0mdf\u001b[0m\u001b[0;34m.\u001b[0m\u001b[0mplot\u001b[0m\u001b[0;34m.\u001b[0m\u001b[0mbarh\u001b[0m\u001b[0;34m(\u001b[0m\u001b[0mx\u001b[0m\u001b[0;34m=\u001b[0m\u001b[0;34m'attributes'\u001b[0m\u001b[0;34m,\u001b[0m \u001b[0my\u001b[0m\u001b[0;34m=\u001b[0m\u001b[0;34m'flipped'\u001b[0m\u001b[0;34m,\u001b[0m\u001b[0mcolor\u001b[0m\u001b[0;34m=\u001b[0m\u001b[0;34m'red'\u001b[0m\u001b[0;34m,\u001b[0m\u001b[0mfigsize\u001b[0m\u001b[0;34m=\u001b[0m\u001b[0;34m(\u001b[0m\u001b[0mfig_height\u001b[0m\u001b[0;34m,\u001b[0m\u001b[0mfig_width\u001b[0m\u001b[0;34m)\u001b[0m\u001b[0;34m)\u001b[0m\u001b[0;34m\u001b[0m\u001b[0;34m\u001b[0m\u001b[0m\n",
      "\u001b[0;32m~/anaconda3/envs/testenv/lib/python3.8/site-packages/pandas/plotting/_core.py\u001b[0m in \u001b[0;36mbarh\u001b[0;34m(self, x, y, **kwargs)\u001b[0m\n\u001b[1;32m   1081\u001b[0m             \u001b[0;34m>>\u001b[0m\u001b[0;34m>\u001b[0m \u001b[0max\u001b[0m \u001b[0;34m=\u001b[0m \u001b[0mdf\u001b[0m\u001b[0;34m.\u001b[0m\u001b[0mplot\u001b[0m\u001b[0;34m.\u001b[0m\u001b[0mbarh\u001b[0m\u001b[0;34m(\u001b[0m\u001b[0mx\u001b[0m\u001b[0;34m=\u001b[0m\u001b[0;34m'lifespan'\u001b[0m\u001b[0;34m)\u001b[0m\u001b[0;34m\u001b[0m\u001b[0;34m\u001b[0m\u001b[0m\n\u001b[1;32m   1082\u001b[0m         \"\"\"\n\u001b[0;32m-> 1083\u001b[0;31m         \u001b[0;32mreturn\u001b[0m \u001b[0mself\u001b[0m\u001b[0;34m(\u001b[0m\u001b[0mkind\u001b[0m\u001b[0;34m=\u001b[0m\u001b[0;34m\"barh\"\u001b[0m\u001b[0;34m,\u001b[0m \u001b[0mx\u001b[0m\u001b[0;34m=\u001b[0m\u001b[0mx\u001b[0m\u001b[0;34m,\u001b[0m \u001b[0my\u001b[0m\u001b[0;34m=\u001b[0m\u001b[0my\u001b[0m\u001b[0;34m,\u001b[0m \u001b[0;34m**\u001b[0m\u001b[0mkwargs\u001b[0m\u001b[0;34m)\u001b[0m\u001b[0;34m\u001b[0m\u001b[0;34m\u001b[0m\u001b[0m\n\u001b[0m\u001b[1;32m   1084\u001b[0m \u001b[0;34m\u001b[0m\u001b[0m\n\u001b[1;32m   1085\u001b[0m     \u001b[0;32mdef\u001b[0m \u001b[0mbox\u001b[0m\u001b[0;34m(\u001b[0m\u001b[0mself\u001b[0m\u001b[0;34m,\u001b[0m \u001b[0mby\u001b[0m\u001b[0;34m=\u001b[0m\u001b[0;32mNone\u001b[0m\u001b[0;34m,\u001b[0m \u001b[0;34m**\u001b[0m\u001b[0mkwargs\u001b[0m\u001b[0;34m)\u001b[0m\u001b[0;34m:\u001b[0m\u001b[0;34m\u001b[0m\u001b[0;34m\u001b[0m\u001b[0m\n",
      "\u001b[0;32m~/anaconda3/envs/testenv/lib/python3.8/site-packages/pandas/plotting/_core.py\u001b[0m in \u001b[0;36m__call__\u001b[0;34m(self, *args, **kwargs)\u001b[0m\n\u001b[1;32m    845\u001b[0m                     \u001b[0mdata\u001b[0m\u001b[0;34m.\u001b[0m\u001b[0mcolumns\u001b[0m \u001b[0;34m=\u001b[0m \u001b[0mlabel_name\u001b[0m\u001b[0;34m\u001b[0m\u001b[0;34m\u001b[0m\u001b[0m\n\u001b[1;32m    846\u001b[0m \u001b[0;34m\u001b[0m\u001b[0m\n\u001b[0;32m--> 847\u001b[0;31m         \u001b[0;32mreturn\u001b[0m \u001b[0mplot_backend\u001b[0m\u001b[0;34m.\u001b[0m\u001b[0mplot\u001b[0m\u001b[0;34m(\u001b[0m\u001b[0mdata\u001b[0m\u001b[0;34m,\u001b[0m \u001b[0mkind\u001b[0m\u001b[0;34m=\u001b[0m\u001b[0mkind\u001b[0m\u001b[0;34m,\u001b[0m \u001b[0;34m**\u001b[0m\u001b[0mkwargs\u001b[0m\u001b[0;34m)\u001b[0m\u001b[0;34m\u001b[0m\u001b[0;34m\u001b[0m\u001b[0m\n\u001b[0m\u001b[1;32m    848\u001b[0m \u001b[0;34m\u001b[0m\u001b[0m\n\u001b[1;32m    849\u001b[0m     \u001b[0m__call__\u001b[0m\u001b[0;34m.\u001b[0m\u001b[0m__doc__\u001b[0m \u001b[0;34m=\u001b[0m \u001b[0m__doc__\u001b[0m\u001b[0;34m\u001b[0m\u001b[0;34m\u001b[0m\u001b[0m\n",
      "\u001b[0;32m~/anaconda3/envs/testenv/lib/python3.8/site-packages/pandas/plotting/_matplotlib/__init__.py\u001b[0m in \u001b[0;36mplot\u001b[0;34m(data, kind, **kwargs)\u001b[0m\n\u001b[1;32m     59\u001b[0m             \u001b[0mkwargs\u001b[0m\u001b[0;34m[\u001b[0m\u001b[0;34m\"ax\"\u001b[0m\u001b[0;34m]\u001b[0m \u001b[0;34m=\u001b[0m \u001b[0mgetattr\u001b[0m\u001b[0;34m(\u001b[0m\u001b[0max\u001b[0m\u001b[0;34m,\u001b[0m \u001b[0;34m\"left_ax\"\u001b[0m\u001b[0;34m,\u001b[0m \u001b[0max\u001b[0m\u001b[0;34m)\u001b[0m\u001b[0;34m\u001b[0m\u001b[0;34m\u001b[0m\u001b[0m\n\u001b[1;32m     60\u001b[0m     \u001b[0mplot_obj\u001b[0m \u001b[0;34m=\u001b[0m \u001b[0mPLOT_CLASSES\u001b[0m\u001b[0;34m[\u001b[0m\u001b[0mkind\u001b[0m\u001b[0;34m]\u001b[0m\u001b[0;34m(\u001b[0m\u001b[0mdata\u001b[0m\u001b[0;34m,\u001b[0m \u001b[0;34m**\u001b[0m\u001b[0mkwargs\u001b[0m\u001b[0;34m)\u001b[0m\u001b[0;34m\u001b[0m\u001b[0;34m\u001b[0m\u001b[0m\n\u001b[0;32m---> 61\u001b[0;31m     \u001b[0mplot_obj\u001b[0m\u001b[0;34m.\u001b[0m\u001b[0mgenerate\u001b[0m\u001b[0;34m(\u001b[0m\u001b[0;34m)\u001b[0m\u001b[0;34m\u001b[0m\u001b[0;34m\u001b[0m\u001b[0m\n\u001b[0m\u001b[1;32m     62\u001b[0m     \u001b[0mplot_obj\u001b[0m\u001b[0;34m.\u001b[0m\u001b[0mdraw\u001b[0m\u001b[0;34m(\u001b[0m\u001b[0;34m)\u001b[0m\u001b[0;34m\u001b[0m\u001b[0;34m\u001b[0m\u001b[0m\n\u001b[1;32m     63\u001b[0m     \u001b[0;32mreturn\u001b[0m \u001b[0mplot_obj\u001b[0m\u001b[0;34m.\u001b[0m\u001b[0mresult\u001b[0m\u001b[0;34m\u001b[0m\u001b[0;34m\u001b[0m\u001b[0m\n",
      "\u001b[0;32m~/anaconda3/envs/testenv/lib/python3.8/site-packages/pandas/plotting/_matplotlib/core.py\u001b[0m in \u001b[0;36mgenerate\u001b[0;34m(self)\u001b[0m\n\u001b[1;32m    260\u001b[0m         \u001b[0mself\u001b[0m\u001b[0;34m.\u001b[0m\u001b[0m_args_adjust\u001b[0m\u001b[0;34m(\u001b[0m\u001b[0;34m)\u001b[0m\u001b[0;34m\u001b[0m\u001b[0;34m\u001b[0m\u001b[0m\n\u001b[1;32m    261\u001b[0m         \u001b[0mself\u001b[0m\u001b[0;34m.\u001b[0m\u001b[0m_compute_plot_data\u001b[0m\u001b[0;34m(\u001b[0m\u001b[0;34m)\u001b[0m\u001b[0;34m\u001b[0m\u001b[0;34m\u001b[0m\u001b[0m\n\u001b[0;32m--> 262\u001b[0;31m         \u001b[0mself\u001b[0m\u001b[0;34m.\u001b[0m\u001b[0m_setup_subplots\u001b[0m\u001b[0;34m(\u001b[0m\u001b[0;34m)\u001b[0m\u001b[0;34m\u001b[0m\u001b[0;34m\u001b[0m\u001b[0m\n\u001b[0m\u001b[1;32m    263\u001b[0m         \u001b[0mself\u001b[0m\u001b[0;34m.\u001b[0m\u001b[0m_make_plot\u001b[0m\u001b[0;34m(\u001b[0m\u001b[0;34m)\u001b[0m\u001b[0;34m\u001b[0m\u001b[0;34m\u001b[0m\u001b[0m\n\u001b[1;32m    264\u001b[0m         \u001b[0mself\u001b[0m\u001b[0;34m.\u001b[0m\u001b[0m_add_table\u001b[0m\u001b[0;34m(\u001b[0m\u001b[0;34m)\u001b[0m\u001b[0;34m\u001b[0m\u001b[0;34m\u001b[0m\u001b[0m\n",
      "\u001b[0;32m~/anaconda3/envs/testenv/lib/python3.8/site-packages/pandas/plotting/_matplotlib/core.py\u001b[0m in \u001b[0;36m_setup_subplots\u001b[0;34m(self)\u001b[0m\n\u001b[1;32m    318\u001b[0m         \u001b[0;32melse\u001b[0m\u001b[0;34m:\u001b[0m\u001b[0;34m\u001b[0m\u001b[0;34m\u001b[0m\u001b[0m\n\u001b[1;32m    319\u001b[0m             \u001b[0;32mif\u001b[0m \u001b[0mself\u001b[0m\u001b[0;34m.\u001b[0m\u001b[0max\u001b[0m \u001b[0;32mis\u001b[0m \u001b[0;32mNone\u001b[0m\u001b[0;34m:\u001b[0m\u001b[0;34m\u001b[0m\u001b[0;34m\u001b[0m\u001b[0m\n\u001b[0;32m--> 320\u001b[0;31m                 \u001b[0mfig\u001b[0m \u001b[0;34m=\u001b[0m \u001b[0mself\u001b[0m\u001b[0;34m.\u001b[0m\u001b[0mplt\u001b[0m\u001b[0;34m.\u001b[0m\u001b[0mfigure\u001b[0m\u001b[0;34m(\u001b[0m\u001b[0mfigsize\u001b[0m\u001b[0;34m=\u001b[0m\u001b[0mself\u001b[0m\u001b[0;34m.\u001b[0m\u001b[0mfigsize\u001b[0m\u001b[0;34m)\u001b[0m\u001b[0;34m\u001b[0m\u001b[0;34m\u001b[0m\u001b[0m\n\u001b[0m\u001b[1;32m    321\u001b[0m                 \u001b[0maxes\u001b[0m \u001b[0;34m=\u001b[0m \u001b[0mfig\u001b[0m\u001b[0;34m.\u001b[0m\u001b[0madd_subplot\u001b[0m\u001b[0;34m(\u001b[0m\u001b[0;36m111\u001b[0m\u001b[0;34m)\u001b[0m\u001b[0;34m\u001b[0m\u001b[0;34m\u001b[0m\u001b[0m\n\u001b[1;32m    322\u001b[0m             \u001b[0;32melse\u001b[0m\u001b[0;34m:\u001b[0m\u001b[0;34m\u001b[0m\u001b[0;34m\u001b[0m\u001b[0m\n",
      "\u001b[0;32m~/anaconda3/envs/testenv/lib/python3.8/site-packages/matplotlib/pyplot.py\u001b[0m in \u001b[0;36mfigure\u001b[0;34m(num, figsize, dpi, facecolor, edgecolor, frameon, FigureClass, clear, **kwargs)\u001b[0m\n\u001b[1;32m    538\u001b[0m             \u001b[0mdpi\u001b[0m \u001b[0;34m=\u001b[0m \u001b[0;36m72\u001b[0m\u001b[0;34m\u001b[0m\u001b[0;34m\u001b[0m\u001b[0m\n\u001b[1;32m    539\u001b[0m \u001b[0;34m\u001b[0m\u001b[0m\n\u001b[0;32m--> 540\u001b[0;31m         figManager = new_figure_manager(num, figsize=figsize,\n\u001b[0m\u001b[1;32m    541\u001b[0m                                         \u001b[0mdpi\u001b[0m\u001b[0;34m=\u001b[0m\u001b[0mdpi\u001b[0m\u001b[0;34m,\u001b[0m\u001b[0;34m\u001b[0m\u001b[0;34m\u001b[0m\u001b[0m\n\u001b[1;32m    542\u001b[0m                                         \u001b[0mfacecolor\u001b[0m\u001b[0;34m=\u001b[0m\u001b[0mfacecolor\u001b[0m\u001b[0;34m,\u001b[0m\u001b[0;34m\u001b[0m\u001b[0;34m\u001b[0m\u001b[0m\n",
      "\u001b[0;32m~/anaconda3/envs/testenv/lib/python3.8/site-packages/matplotlib/backend_bases.py\u001b[0m in \u001b[0;36mnew_figure_manager\u001b[0;34m(cls, num, *args, **kwargs)\u001b[0m\n\u001b[1;32m   3334\u001b[0m         \u001b[0;32mfrom\u001b[0m \u001b[0mmatplotlib\u001b[0m\u001b[0;34m.\u001b[0m\u001b[0mfigure\u001b[0m \u001b[0;32mimport\u001b[0m \u001b[0mFigure\u001b[0m\u001b[0;34m\u001b[0m\u001b[0;34m\u001b[0m\u001b[0m\n\u001b[1;32m   3335\u001b[0m         \u001b[0mfig_cls\u001b[0m \u001b[0;34m=\u001b[0m \u001b[0mkwargs\u001b[0m\u001b[0;34m.\u001b[0m\u001b[0mpop\u001b[0m\u001b[0;34m(\u001b[0m\u001b[0;34m'FigureClass'\u001b[0m\u001b[0;34m,\u001b[0m \u001b[0mFigure\u001b[0m\u001b[0;34m)\u001b[0m\u001b[0;34m\u001b[0m\u001b[0;34m\u001b[0m\u001b[0m\n\u001b[0;32m-> 3336\u001b[0;31m         \u001b[0mfig\u001b[0m \u001b[0;34m=\u001b[0m \u001b[0mfig_cls\u001b[0m\u001b[0;34m(\u001b[0m\u001b[0;34m*\u001b[0m\u001b[0margs\u001b[0m\u001b[0;34m,\u001b[0m \u001b[0;34m**\u001b[0m\u001b[0mkwargs\u001b[0m\u001b[0;34m)\u001b[0m\u001b[0;34m\u001b[0m\u001b[0;34m\u001b[0m\u001b[0m\n\u001b[0m\u001b[1;32m   3337\u001b[0m         \u001b[0;32mreturn\u001b[0m \u001b[0mcls\u001b[0m\u001b[0;34m.\u001b[0m\u001b[0mnew_figure_manager_given_figure\u001b[0m\u001b[0;34m(\u001b[0m\u001b[0mnum\u001b[0m\u001b[0;34m,\u001b[0m \u001b[0mfig\u001b[0m\u001b[0;34m)\u001b[0m\u001b[0;34m\u001b[0m\u001b[0;34m\u001b[0m\u001b[0m\n\u001b[1;32m   3338\u001b[0m \u001b[0;34m\u001b[0m\u001b[0m\n",
      "\u001b[0;32m~/anaconda3/envs/testenv/lib/python3.8/site-packages/matplotlib/figure.py\u001b[0m in \u001b[0;36m__init__\u001b[0;34m(self, figsize, dpi, facecolor, edgecolor, linewidth, frameon, subplotpars, tight_layout, constrained_layout)\u001b[0m\n\u001b[1;32m    347\u001b[0m \u001b[0;34m\u001b[0m\u001b[0m\n\u001b[1;32m    348\u001b[0m         \u001b[0;32mif\u001b[0m \u001b[0;32mnot\u001b[0m \u001b[0mnp\u001b[0m\u001b[0;34m.\u001b[0m\u001b[0misfinite\u001b[0m\u001b[0;34m(\u001b[0m\u001b[0mfigsize\u001b[0m\u001b[0;34m)\u001b[0m\u001b[0;34m.\u001b[0m\u001b[0mall\u001b[0m\u001b[0;34m(\u001b[0m\u001b[0;34m)\u001b[0m \u001b[0;32mor\u001b[0m \u001b[0;34m(\u001b[0m\u001b[0mnp\u001b[0m\u001b[0;34m.\u001b[0m\u001b[0marray\u001b[0m\u001b[0;34m(\u001b[0m\u001b[0mfigsize\u001b[0m\u001b[0;34m)\u001b[0m \u001b[0;34m<=\u001b[0m \u001b[0;36m0\u001b[0m\u001b[0;34m)\u001b[0m\u001b[0;34m.\u001b[0m\u001b[0many\u001b[0m\u001b[0;34m(\u001b[0m\u001b[0;34m)\u001b[0m\u001b[0;34m:\u001b[0m\u001b[0;34m\u001b[0m\u001b[0;34m\u001b[0m\u001b[0m\n\u001b[0;32m--> 349\u001b[0;31m             raise ValueError('figure size must be positive finite not '\n\u001b[0m\u001b[1;32m    350\u001b[0m                              f'{figsize}')\n\u001b[1;32m    351\u001b[0m         \u001b[0mself\u001b[0m\u001b[0;34m.\u001b[0m\u001b[0mbbox_inches\u001b[0m \u001b[0;34m=\u001b[0m \u001b[0mBbox\u001b[0m\u001b[0;34m.\u001b[0m\u001b[0mfrom_bounds\u001b[0m\u001b[0;34m(\u001b[0m\u001b[0;36m0\u001b[0m\u001b[0;34m,\u001b[0m \u001b[0;36m0\u001b[0m\u001b[0;34m,\u001b[0m \u001b[0;34m*\u001b[0m\u001b[0mfigsize\u001b[0m\u001b[0;34m)\u001b[0m\u001b[0;34m\u001b[0m\u001b[0;34m\u001b[0m\u001b[0m\n",
      "\u001b[0;31mValueError\u001b[0m: figure size must be positive finite not (0, 0)"
     ]
    }
   ],
   "source": [
    "ax,posrank = aggregateRankings(posrank_deeper,positive=True,maxLenAttributes=1,lenTriangles=8)"
   ]
  },
  {
   "cell_type": "markdown",
   "metadata": {},
   "source": [
    "## Itunes-Amazon"
   ]
  },
  {
   "cell_type": "code",
   "execution_count": 7,
   "metadata": {
    "ExecuteTime": {
     "end_time": "2020-03-28T16:40:05.518791Z",
     "start_time": "2020-03-28T16:40:05.462217Z"
    }
   },
   "outputs": [],
   "source": [
    "DATASET_DIR = 'datasets/itunes_amazon/'"
   ]
  },
  {
   "cell_type": "code",
   "execution_count": 12,
   "metadata": {
    "ExecuteTime": {
     "end_time": "2020-03-28T16:43:33.246230Z",
     "start_time": "2020-03-28T16:43:33.002495Z"
    }
   },
   "outputs": [],
   "source": [
    "augmented_test = pd.read_csv(DATASET_DIR+'augmented_test.csv')\n",
    "itunes = pd.read_csv(DATASET_DIR+'itunes.csv',dtype=str)\n",
    "amazon = pd.read_csv(DATASET_DIR+'amazon.csv',dtype=str)"
   ]
  },
  {
   "cell_type": "code",
   "execution_count": 9,
   "metadata": {
    "ExecuteTime": {
     "end_time": "2020-03-28T16:41:12.131014Z",
     "start_time": "2020-03-28T16:41:07.010274Z"
    }
   },
   "outputs": [],
   "source": [
    "itunes_deeper = load_model('models/DeepER_best_model_100_itunes-amazon.h5')\n",
    "itunes_deepmatcher = dm.MatchingModel(attr_summarizer='rnn')\n",
    "itunes_deepmatcher.load_state('models/itunes_amazon_rnn.pth')"
   ]
  },
  {
   "cell_type": "code",
   "execution_count": 10,
   "metadata": {
    "ExecuteTime": {
     "end_time": "2020-03-28T16:41:43.187895Z",
     "start_time": "2020-03-28T16:41:30.560888Z"
    }
   },
   "outputs": [
    {
     "name": "stdout",
     "output_type": "stream",
     "text": [
      "Len of correct predictions is 102\n",
      "Len of correct predictions is 102\n"
     ]
    }
   ],
   "source": [
    "correct_deeper = getCorrectPredictions(augmented_test,itunes_deeper,predict_fn_deeper)\n",
    "correct_deepmatcher = getCorrectPredictions(augmented_test,itunes_deepmatcher,predict_fn_deepmatcher)"
   ]
  },
  {
   "cell_type": "code",
   "execution_count": 13,
   "metadata": {
    "ExecuteTime": {
     "end_time": "2020-03-28T16:43:36.558462Z",
     "start_time": "2020-03-28T16:43:34.442493Z"
    }
   },
   "outputs": [
    {
     "name": "stderr",
     "output_type": "stream",
     "text": [
      "100%|██████████| 66/66 [00:01<00:00, 47.60it/s]\n"
     ]
    }
   ],
   "source": [
    "negrank_deeper,_,_ = explainSamples(correct_deeper,[itunes,amazon],itunes_deeper,predict_fn_deeper,\n",
    "                                   0,1)"
   ]
  },
  {
   "cell_type": "code",
   "execution_count": 14,
   "metadata": {
    "ExecuteTime": {
     "end_time": "2020-03-28T16:44:20.536022Z",
     "start_time": "2020-03-28T16:44:07.970244Z"
    }
   },
   "outputs": [
    {
     "name": "stderr",
     "output_type": "stream",
     "text": [
      "100%|██████████| 76/76 [00:11<00:00,  6.48it/s]\n"
     ]
    }
   ],
   "source": [
    "negrank_deepematcher,_,_ = explainSamples(correct_deepmatcher,[itunes,amazon],itunes_deepmatcher,\n",
    "                                         predict_fn_deepmatcher,0,1)"
   ]
  },
  {
   "cell_type": "code",
   "execution_count": 15,
   "metadata": {
    "ExecuteTime": {
     "end_time": "2020-03-28T16:44:56.007030Z",
     "start_time": "2020-03-28T16:44:53.825859Z"
    }
   },
   "outputs": [
    {
     "name": "stderr",
     "output_type": "stream",
     "text": [
      "100%|██████████| 66/66 [00:01<00:00, 46.79it/s]\n"
     ]
    }
   ],
   "source": [
    "posrank_deeper,_,_ = explainSamples(correct_deeper,[itunes,amazon],itunes_deeper,predict_fn_deeper,\n",
    "                                   1,1)"
   ]
  },
  {
   "cell_type": "code",
   "execution_count": 16,
   "metadata": {
    "ExecuteTime": {
     "end_time": "2020-03-28T16:45:34.711736Z",
     "start_time": "2020-03-28T16:45:21.116012Z"
    }
   },
   "outputs": [
    {
     "name": "stderr",
     "output_type": "stream",
     "text": [
      "100%|██████████| 76/76 [00:12<00:00,  5.95it/s]\n"
     ]
    }
   ],
   "source": [
    "posrank_deepmatcher,_,_ = explainSamples(correct_deepmatcher,[itunes,amazon],itunes_deepmatcher,predict_fn_deepmatcher,\n",
    "                                        1,1)"
   ]
  },
  {
   "cell_type": "code",
   "execution_count": 18,
   "metadata": {
    "ExecuteTime": {
     "end_time": "2020-03-28T16:47:30.972656Z",
     "start_time": "2020-03-28T16:47:30.643570Z"
    }
   },
   "outputs": [
    {
     "data": {
      "image/png": "[encoded data removed]",
      "text/plain": [
       "<Figure size 576x576 with 1 Axes>"
      ]
     },
     "metadata": {
      "needs_background": "light"
     },
     "output_type": "display_data"
    }
   ],
   "source": [
    "ax,negrank = aggregateRankings(negrank_deeper,positive=False,maxLenAttributes=1,lenTriangles=66)"
   ]
  },
  {
   "cell_type": "code",
   "execution_count": 20,
   "metadata": {
    "ExecuteTime": {
     "end_time": "2020-03-28T16:49:59.553045Z",
     "start_time": "2020-03-28T16:49:59.285305Z"
    }
   },
   "outputs": [
    {
     "data": {
      "image/png": "[encoded data removed]",
      "text/plain": [
       "<Figure size 576x576 with 1 Axes>"
      ]
     },
     "metadata": {
      "needs_background": "light"
     },
     "output_type": "display_data"
    }
   ],
   "source": [
    "ax,negrank = aggregateRankings(negrank_deepematcher,positive=False,maxLenAttributes=1,lenTriangles=76)"
   ]
  },
  {
   "cell_type": "code",
   "execution_count": null,
   "metadata": {},
   "outputs": [],
   "source": [
    "ax,posrank = aggregateRankings(posrank_deeper,positive=True,ma)"
   ]
  }
 ],
 "metadata": {
  "kernelspec": {
   "display_name": "Python 3",
   "language": "python",
   "name": "python3"
  },
  "language_info": {
   "codemirror_mode": {
    "name": "ipython",
    "version": 3
   },
   "file_extension": ".py",
   "mimetype": "text/x-python",
   "name": "python",
   "nbconvert_exporter": "python",
   "pygments_lexer": "ipython3",
   "version": "3.8.1"
  },
  "toc": {
   "base_numbering": 1,
   "nav_menu": {},
   "number_sections": true,
   "sideBar": true,
   "skip_h1_title": false,
   "title_cell": "Table of Contents",
   "title_sidebar": "Contents",
   "toc_cell": false,
   "toc_position": {},
   "toc_section_display": true,
   "toc_window_display": true
  }
 },
 "nbformat": 4,
 "nbformat_minor": 4
}
