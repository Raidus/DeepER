{
 "cells": [
  {
   "cell_type": "code",
   "execution_count": 1,
   "metadata": {
    "ExecuteTime": {
     "end_time": "2020-04-16T16:49:30.071808Z",
     "start_time": "2020-04-16T16:49:29.909577Z"
    }
   },
   "outputs": [],
   "source": [
    "import matplotlib as mpl\n",
    "mpl.rcParams['figure.dpi'] = 300"
   ]
  },
  {
   "cell_type": "code",
   "execution_count": 2,
   "metadata": {
    "ExecuteTime": {
     "end_time": "2020-04-16T16:49:30.294747Z",
     "start_time": "2020-04-16T16:49:30.273588Z"
    }
   },
   "outputs": [],
   "source": [
    "%load_ext autoreload\n",
    "%autoreload 2"
   ]
  },
  {
   "cell_type": "code",
   "execution_count": 3,
   "metadata": {
    "ExecuteTime": {
     "end_time": "2020-04-16T16:49:32.962938Z",
     "start_time": "2020-04-16T16:49:30.658275Z"
    }
   },
   "outputs": [
    {
     "name": "stderr",
     "output_type": "stream",
     "text": [
      "Using TensorFlow backend.\n"
     ]
    }
   ],
   "source": [
    "from deeper.deeper_utils import wrap_deeper\n",
    "from explanation.deepmatcher_utils import wrapDm\n",
    "from explanation.mojito2 import explainSamples\n",
    "import pandas as pd\n",
    "import deepmatcher as dm\n",
    "from keras.models import load_model\n",
    "from deeper.DeepER import init_embeddings_index,init_embeddings_model"
   ]
  },
  {
   "cell_type": "markdown",
   "metadata": {},
   "source": [
    "## Prelimary operations"
   ]
  },
  {
   "cell_type": "code",
   "execution_count": 4,
   "metadata": {
    "ExecuteTime": {
     "end_time": "2020-04-16T16:52:15.889732Z",
     "start_time": "2020-04-16T16:49:34.313175Z"
    }
   },
   "outputs": [
    {
     "name": "stdout",
     "output_type": "stream",
     "text": [
      "* Costruzione indice degli embeddings.....Fatto. 2196016 embeddings totali.\n",
      "* Inizializzo il tokenizzatore.....Fatto: 1131743 parole totali.\n",
      "* Preparazione della matrice di embedding.....Fatto. Dimensioni matrice embeddings: (1131744, 300)\n",
      "\n",
      "°°° EMBEDDING MODEL °°°\n",
      "Model: \"model_1\"\n",
      "__________________________________________________________________________________________________\n",
      "Layer (type)                    Output Shape         Param #     Connected to                     \n",
      "==================================================================================================\n",
      "Tupla_A (InputLayer)            (None, None)         0                                            \n",
      "__________________________________________________________________________________________________\n",
      "Tupla_B (InputLayer)            (None, None)         0                                            \n",
      "__________________________________________________________________________________________________\n",
      "Embedding_lookup (Embedding)    (None, None, 300)    339523200   Tupla_A[0][0]                    \n",
      "                                                                 Tupla_B[0][0]                    \n",
      "==================================================================================================\n",
      "Total params: 339,523,200\n",
      "Trainable params: 0\n",
      "Non-trainable params: 339,523,200\n",
      "__________________________________________________________________________________________________\n"
     ]
    }
   ],
   "source": [
    "# Caricamento strutture dati e modelli ausiliari.\n",
    "EMBEDDING_FILEPATH ='embeddings/glove.840B.300d.txt'\n",
    "embeddings_model, tokenizer = init_embeddings_model(EMBEDDING_FILEPATH)"
   ]
  },
  {
   "cell_type": "code",
   "execution_count": 5,
   "metadata": {
    "ExecuteTime": {
     "end_time": "2020-04-16T16:52:15.968158Z",
     "start_time": "2020-04-16T16:52:15.932796Z"
    }
   },
   "outputs": [],
   "source": [
    "predict_fn_deeper = lambda data,model,ignore: wrap_deeper(data,'ltable_','rtable_',model,tokenizer,embeddings_model,\n",
    "                                                  ignore_columns=ignore)"
   ]
  },
  {
   "cell_type": "code",
   "execution_count": 6,
   "metadata": {
    "ExecuteTime": {
     "end_time": "2020-04-16T16:52:15.989290Z",
     "start_time": "2020-04-16T16:52:15.970125Z"
    }
   },
   "outputs": [],
   "source": [
    "predict_fn_deepmatcher = lambda data,model,ignore: wrapDm(data,model,ignore_columns=ignore)"
   ]
  },
  {
   "cell_type": "markdown",
   "metadata": {},
   "source": [
    "## BeerAdvo-Ratebeer"
   ]
  },
  {
   "cell_type": "code",
   "execution_count": 7,
   "metadata": {
    "ExecuteTime": {
     "end_time": "2020-04-16T15:38:08.396139Z",
     "start_time": "2020-04-16T15:38:08.307422Z"
    }
   },
   "outputs": [],
   "source": [
    "augmented_test = pd.read_csv('datasets/beeradvo_ratebeer/augmented_test.csv')\n",
    "beeradvo = pd.read_csv('datasets/beeradvo_ratebeer/Beeradvo.csv',dtype=str)\n",
    "ratebeer = pd.read_csv('datasets/beeradvo_ratebeer/Ratebeer.csv',dtype=str)"
   ]
  },
  {
   "cell_type": "code",
   "execution_count": 8,
   "metadata": {
    "ExecuteTime": {
     "end_time": "2020-04-16T15:38:13.636420Z",
     "start_time": "2020-04-16T15:38:08.826335Z"
    }
   },
   "outputs": [],
   "source": [
    "beer_deepmatcher = dm.MatchingModel(attr_summarizer='rnn')\n",
    "beer_deepmatcher.load_state('models/beeradvo_ratebeer_rnn.pth')\n",
    "beer_deeper = load_model('models/DeepER_best_model_100_beeradvo-ratebeer.h5')"
   ]
  },
  {
   "cell_type": "code",
   "execution_count": 9,
   "metadata": {
    "ExecuteTime": {
     "end_time": "2020-04-16T15:38:14.693776Z",
     "start_time": "2020-04-16T15:38:13.638478Z"
    }
   },
   "outputs": [
    {
     "name": "stderr",
     "output_type": "stream",
     "text": [
      "100%|██████████| 20/20 [00:00<00:00, 53.90it/s]\n"
     ]
    }
   ],
   "source": [
    "negrank_deeper,flippedneg_deeper = explainSamples(augmented_test,[beeradvo,ratebeer],beer_deeper,predict_fn_deeper,\n",
    "                                 0,3)"
   ]
  },
  {
   "cell_type": "code",
   "execution_count": 10,
   "metadata": {
    "ExecuteTime": {
     "end_time": "2020-04-16T15:38:27.422408Z",
     "start_time": "2020-04-16T15:38:14.695751Z"
    }
   },
   "outputs": [
    {
     "name": "stderr",
     "output_type": "stream",
     "text": [
      "100%|██████████| 30/30 [00:02<00:00, 10.84it/s]\n"
     ]
    }
   ],
   "source": [
    "negrank_deepmatcher,flippedneg_deepmatcher = explainSamples(augmented_test,[beeradvo,ratebeer],\n",
    "                                                            beer_deepmatcher,predict_fn_deepmatcher,0,3)"
   ]
  },
  {
   "cell_type": "code",
   "execution_count": 12,
   "metadata": {
    "ExecuteTime": {
     "end_time": "2020-04-16T15:39:41.741858Z",
     "start_time": "2020-04-16T15:39:41.111225Z"
    }
   },
   "outputs": [
    {
     "name": "stderr",
     "output_type": "stream",
     "text": [
      "100%|██████████| 20/20 [00:00<00:00, 48.07it/s]\n"
     ]
    }
   ],
   "source": [
    "posrank_deeper,flippedpos_deeper = explainSamples(augmented_test,[beeradvo,ratebeer],beer_deeper,predict_fn_deeper,\n",
    "                                 1,3)"
   ]
  },
  {
   "cell_type": "code",
   "execution_count": 13,
   "metadata": {
    "ExecuteTime": {
     "end_time": "2020-04-16T15:39:45.006387Z",
     "start_time": "2020-04-16T15:39:41.744034Z"
    }
   },
   "outputs": [
    {
     "name": "stderr",
     "output_type": "stream",
     "text": [
      "100%|██████████| 30/30 [00:02<00:00, 10.91it/s]\n"
     ]
    }
   ],
   "source": [
    "posrank_deepmatcher,flippedpos_deepmatcher = explainSamples(augmented_test,[beeradvo,ratebeer],beer_deepmatcher,\n",
    "                                                           predict_fn_deepmatcher,1,3)"
   ]
  },
  {
   "cell_type": "code",
   "execution_count": null,
   "metadata": {},
   "outputs": [],
   "source": []
  },
  {
   "cell_type": "code",
   "execution_count": 14,
   "metadata": {
    "ExecuteTime": {
     "end_time": "2020-04-16T15:39:47.043412Z",
     "start_time": "2020-04-16T15:39:46.966291Z"
    }
   },
   "outputs": [],
   "source": [
    "flippedneg_deeper.to_csv('rankings/beer_flippedneg_deeper.csv',index=False)\n",
    "flippedneg_deepmatcher.to_csv('rankings/beer_flippedneg_deepmatcher.csv',index=False)\n",
    "flippedpos_deeper.to_csv('rankings/beer_flippedpos_deeper.csv',index=False)\n",
    "flippedpos_deepmatcher.to_csv('rankings/beer_flippedpos_deepmatcher.csv',index=False)"
   ]
  },
  {
   "cell_type": "code",
   "execution_count": 36,
   "metadata": {
    "ExecuteTime": {
     "end_time": "2020-03-30T10:05:50.834731Z",
     "start_time": "2020-03-30T10:05:50.609262Z"
    }
   },
   "outputs": [
    {
     "data": {
      "text/plain": [
       "<matplotlib.axes._subplots.AxesSubplot at 0x7f28203bdfd0>"
      ]
     },
     "execution_count": 36,
     "metadata": {},
     "output_type": "execute_result"
    },
    {
     "data": {
      "image/png": "[encoded data removed]",
      "text/plain": [
       "<Figure size 432x288 with 1 Axes>"
      ]
     },
     "metadata": {
      "needs_background": "light"
     },
     "output_type": "display_data"
    }
   ],
   "source": [
    "negrank_deeper.plot.bar(color='red',ylim=(0,1))"
   ]
  },
  {
   "cell_type": "code",
   "execution_count": 17,
   "metadata": {
    "ExecuteTime": {
     "end_time": "2020-04-15T17:10:17.856803Z",
     "start_time": "2020-04-15T17:10:17.235067Z"
    }
   },
   "outputs": [
    {
     "data": {
      "text/plain": [
       "<matplotlib.axes._subplots.AxesSubplot at 0x7f926a2811f0>"
      ]
     },
     "execution_count": 17,
     "metadata": {},
     "output_type": "execute_result"
    },
    {
     "data": {
      "image/png": "[encoded data removed]",
      "text/plain": [
       "<Figure size 432x288 with 1 Axes>"
      ]
     },
     "metadata": {
      "needs_background": "light"
     },
     "output_type": "display_data"
    }
   ],
   "source": [
    "negrank_deepmatcher.plot.barh(color='red',ylim=(0,1),grid=True)"
   ]
  },
  {
   "cell_type": "code",
   "execution_count": 30,
   "metadata": {
    "ExecuteTime": {
     "end_time": "2020-03-30T09:58:19.315930Z",
     "start_time": "2020-03-30T09:58:19.104722Z"
    }
   },
   "outputs": [
    {
     "data": {
      "text/plain": [
       "<matplotlib.axes._subplots.AxesSubplot at 0x7f282055f670>"
      ]
     },
     "execution_count": 30,
     "metadata": {},
     "output_type": "execute_result"
    },
    {
     "data": {
      "image/png": "[encoded data removed]",
      "text/plain": [
       "<Figure size 432x288 with 1 Axes>"
      ]
     },
     "metadata": {
      "needs_background": "light"
     },
     "output_type": "display_data"
    }
   ],
   "source": [
    "posrank_deeper.plot.bar(color='green',ylim=(0,1))"
   ]
  },
  {
   "cell_type": "code",
   "execution_count": 18,
   "metadata": {
    "ExecuteTime": {
     "end_time": "2020-04-15T17:10:33.045404Z",
     "start_time": "2020-04-15T17:10:32.705980Z"
    }
   },
   "outputs": [
    {
     "data": {
      "text/plain": [
       "<matplotlib.axes._subplots.AxesSubplot at 0x7f926a1d3a30>"
      ]
     },
     "execution_count": 18,
     "metadata": {},
     "output_type": "execute_result"
    },
    {
     "data": {
      "image/png": "[encoded data removed]",
      "text/plain": [
       "<Figure size 432x288 with 1 Axes>"
      ]
     },
     "metadata": {
      "needs_background": "light"
     },
     "output_type": "display_data"
    }
   ],
   "source": [
    "posrank_deepmatcher.plot.barh(color='green',ylim=(0,1),grid=True)"
   ]
  },
  {
   "cell_type": "markdown",
   "metadata": {},
   "source": [
    "## Walmart-Amazon"
   ]
  },
  {
   "cell_type": "code",
   "execution_count": 7,
   "metadata": {
    "ExecuteTime": {
     "end_time": "2020-04-16T16:52:16.086011Z",
     "start_time": "2020-04-16T16:52:15.990889Z"
    }
   },
   "outputs": [],
   "source": [
    "augmented_test = pd.read_csv('datasets/walmart_amazon/augmented_test.csv')\n",
    "walmart = pd.read_csv('datasets/walmart_amazon/walmart.csv',dtype=str)\n",
    "amazon = pd.read_csv('datasets/walmart_amazon/amazon.csv',dtype=str)"
   ]
  },
  {
   "cell_type": "code",
   "execution_count": 8,
   "metadata": {
    "ExecuteTime": {
     "end_time": "2020-04-16T16:52:20.347727Z",
     "start_time": "2020-04-16T16:52:16.087628Z"
    }
   },
   "outputs": [],
   "source": [
    "walmart_deepmatcher = dm.MatchingModel(attr_summarizer='rnn')\n",
    "walmart_deepmatcher.load_state('models/walmart_amazon_rnn.pth')\n",
    "walmart_deeper = load_model('models/DeepER_best_model_100_walmart-amazon.h5')"
   ]
  },
  {
   "cell_type": "code",
   "execution_count": 18,
   "metadata": {
    "ExecuteTime": {
     "end_time": "2020-04-16T14:09:51.815178Z",
     "start_time": "2020-04-16T14:08:28.674619Z"
    }
   },
   "outputs": [
    {
     "name": "stderr",
     "output_type": "stream",
     "text": [
      "100%|██████████| 522/522 [01:18<00:00,  6.67it/s]\n"
     ]
    }
   ],
   "source": [
    "negrank_deeper,flippedneg_deeper = explainSamples(augmented_test,[walmart,amazon],walmart_deeper,predict_fn_deeper,0,4)"
   ]
  },
  {
   "cell_type": "code",
   "execution_count": 9,
   "metadata": {
    "ExecuteTime": {
     "end_time": "2020-04-16T16:55:17.842186Z",
     "start_time": "2020-04-16T16:52:20.350722Z"
    }
   },
   "outputs": [
    {
     "name": "stderr",
     "output_type": "stream",
     "text": [
      "100%|██████████| 548/548 [02:41<00:00,  3.39it/s]\n"
     ]
    }
   ],
   "source": [
    "negrank_deepmatcher,flippedneg_deepmatcher = explainSamples(augmented_test,[walmart,amazon],walmart_deepmatcher,\n",
    "                             predict_fn_deepmatcher,0,1)"
   ]
  },
  {
   "cell_type": "code",
   "execution_count": 13,
   "metadata": {
    "ExecuteTime": {
     "end_time": "2020-04-16T16:56:07.335565Z",
     "start_time": "2020-04-16T16:56:07.266838Z"
    }
   },
   "outputs": [
    {
     "data": {
      "text/html": [
       "<div>\n",
       "<style scoped>\n",
       "    .dataframe tbody tr th:only-of-type {\n",
       "        vertical-align: middle;\n",
       "    }\n",
       "\n",
       "    .dataframe tbody tr th {\n",
       "        vertical-align: top;\n",
       "    }\n",
       "\n",
       "    .dataframe thead th {\n",
       "        text-align: right;\n",
       "    }\n",
       "</style>\n",
       "<table border=\"1\" class=\"dataframe\">\n",
       "  <thead>\n",
       "    <tr style=\"text-align: right;\">\n",
       "      <th></th>\n",
       "      <th>ltable_brand</th>\n",
       "      <th>ltable_modelno</th>\n",
       "      <th>ltable_title</th>\n",
       "      <th>ltable_price</th>\n",
       "      <th>ltable_dimensions</th>\n",
       "      <th>ltable_imageurl</th>\n",
       "      <th>ltable_shipweight</th>\n",
       "      <th>rtable_brand</th>\n",
       "      <th>rtable_modelno</th>\n",
       "      <th>rtable_title</th>\n",
       "      <th>rtable_price</th>\n",
       "      <th>rtable_dimensions</th>\n",
       "      <th>rtable_imageurl</th>\n",
       "      <th>rtable_shipweight</th>\n",
       "      <th>alteredAttributes</th>\n",
       "    </tr>\n",
       "  </thead>\n",
       "  <tbody>\n",
       "    <tr>\n",
       "      <th>43</th>\n",
       "      <td>Night Owl Optics</td>\n",
       "      <td>CAM-CM01-245</td>\n",
       "      <td>Night Owl Security Products CAM-CM01-245 Wired...</td>\n",
       "      <td>39.99</td>\n",
       "      <td>12.5 x 3.9 x 0.1 inches</td>\n",
       "      <td>http://ecx.images-amazon.com/images/I/21uunawi...</td>\n",
       "      <td>2 pounds</td>\n",
       "      <td>Durable</td>\n",
       "      <td>NaN</td>\n",
       "      <td>Night Owl Security Products Wired Color Securi...</td>\n",
       "      <td>NaN</td>\n",
       "      <td>NaN</td>\n",
       "      <td>http://ecx.images-amazon.com/images/I/31p2A-r2...</td>\n",
       "      <td>5.3 pounds</td>\n",
       "      <td>(title,)</td>\n",
       "    </tr>\n",
       "  </tbody>\n",
       "</table>\n",
       "</div>"
      ],
      "text/plain": [
       "        ltable_brand ltable_modelno  \\\n",
       "43  Night Owl Optics   CAM-CM01-245   \n",
       "\n",
       "                                         ltable_title ltable_price  \\\n",
       "43  Night Owl Security Products CAM-CM01-245 Wired...        39.99   \n",
       "\n",
       "          ltable_dimensions  \\\n",
       "43  12.5 x 3.9 x 0.1 inches   \n",
       "\n",
       "                                      ltable_imageurl ltable_shipweight  \\\n",
       "43  http://ecx.images-amazon.com/images/I/21uunawi...          2 pounds   \n",
       "\n",
       "   rtable_brand rtable_modelno  \\\n",
       "43      Durable            NaN   \n",
       "\n",
       "                                         rtable_title rtable_price  \\\n",
       "43  Night Owl Security Products Wired Color Securi...          NaN   \n",
       "\n",
       "   rtable_dimensions                                    rtable_imageurl  \\\n",
       "43               NaN  http://ecx.images-amazon.com/images/I/31p2A-r2...   \n",
       "\n",
       "   rtable_shipweight alteredAttributes  \n",
       "43        5.3 pounds          (title,)  "
      ]
     },
     "execution_count": 13,
     "metadata": {},
     "output_type": "execute_result"
    }
   ],
   "source": [
    "flippedneg_deepmatcher[flippedneg_deepmatcher.alteredAttributes==('title',)]"
   ]
  },
  {
   "cell_type": "code",
   "execution_count": 20,
   "metadata": {
    "ExecuteTime": {
     "end_time": "2020-04-16T14:17:43.836626Z",
     "start_time": "2020-04-16T14:16:20.144843Z"
    }
   },
   "outputs": [
    {
     "name": "stderr",
     "output_type": "stream",
     "text": [
      "100%|██████████| 522/522 [01:19<00:00,  6.54it/s]\n"
     ]
    }
   ],
   "source": [
    "posrank_deeper,flippedpos_deeper = explainSamples(augmented_test,[walmart,amazon],walmart_deeper,predict_fn_deeper,\n",
    "                             1,4)"
   ]
  },
  {
   "cell_type": "code",
   "execution_count": 21,
   "metadata": {
    "ExecuteTime": {
     "end_time": "2020-04-16T14:24:36.250547Z",
     "start_time": "2020-04-16T14:17:43.838608Z"
    }
   },
   "outputs": [
    {
     "name": "stderr",
     "output_type": "stream",
     "text": [
      "100%|██████████| 548/548 [06:44<00:00,  1.35it/s]\n"
     ]
    }
   ],
   "source": [
    "posrank_deepmatcher,flippedpos_deepmatcher = explainSamples(augmented_test,[walmart,amazon],walmart_deepmatcher,\n",
    "                                         predict_fn_deepmatcher,1,4)"
   ]
  },
  {
   "cell_type": "code",
   "execution_count": 22,
   "metadata": {
    "ExecuteTime": {
     "end_time": "2020-04-16T14:27:43.167970Z",
     "start_time": "2020-04-16T14:27:42.168785Z"
    }
   },
   "outputs": [],
   "source": [
    "flippedpos_deeper.to_csv('walmart_flippedpos_deeper.csv',index=False)\n",
    "flippedpos_deepmatcher.to_csv('walmart_flippedpos_deepmatcher.csv',index=False)\n",
    "flippedneg_deeper.to_csv('walmart_flippedneg_deeper.csv',index=False)\n",
    "flippedneg_deepmatcher.to_csv('walmart_flippedneg_deepmatcher.csv',index=False)"
   ]
  },
  {
   "cell_type": "code",
   "execution_count": 46,
   "metadata": {
    "ExecuteTime": {
     "end_time": "2020-03-30T10:11:00.027277Z",
     "start_time": "2020-03-30T10:10:59.881788Z"
    }
   },
   "outputs": [
    {
     "data": {
      "text/plain": [
       "<matplotlib.axes._subplots.AxesSubplot at 0x7f27a02c4070>"
      ]
     },
     "execution_count": 46,
     "metadata": {},
     "output_type": "execute_result"
    },
    {
     "data": {
      "image/png": "[encoded data removed]",
      "text/plain": [
       "<Figure size 432x288 with 1 Axes>"
      ]
     },
     "metadata": {
      "needs_background": "light"
     },
     "output_type": "display_data"
    }
   ],
   "source": [
    "negrank_deeper.plot.bar(color='red',ylim=(0,1))"
   ]
  },
  {
   "cell_type": "code",
   "execution_count": 10,
   "metadata": {
    "ExecuteTime": {
     "end_time": "2020-04-16T16:55:26.599224Z",
     "start_time": "2020-04-16T16:55:26.176316Z"
    }
   },
   "outputs": [
    {
     "data": {
      "text/plain": [
       "<matplotlib.axes._subplots.AxesSubplot at 0x7ff45d3b9100>"
      ]
     },
     "execution_count": 10,
     "metadata": {},
     "output_type": "execute_result"
    },
    {
     "data": {
      "image/png": "[encoded data removed]",
      "text/plain": [
       "<Figure size 432x288 with 1 Axes>"
      ]
     },
     "metadata": {
      "needs_background": "light"
     },
     "output_type": "display_data"
    }
   ],
   "source": [
    "negrank_deepmatcher.plot.bar(color='red',ylim=(0,1))"
   ]
  },
  {
   "cell_type": "code",
   "execution_count": 50,
   "metadata": {
    "ExecuteTime": {
     "end_time": "2020-03-30T10:14:12.418661Z",
     "start_time": "2020-03-30T10:14:12.274809Z"
    }
   },
   "outputs": [
    {
     "data": {
      "text/plain": [
       "<matplotlib.axes._subplots.AxesSubplot at 0x7f27a85f7160>"
      ]
     },
     "execution_count": 50,
     "metadata": {},
     "output_type": "execute_result"
    },
    {
     "data": {
      "image/png": "[encoded data removed]",
      "text/plain": [
       "<Figure size 432x288 with 1 Axes>"
      ]
     },
     "metadata": {
      "needs_background": "light"
     },
     "output_type": "display_data"
    }
   ],
   "source": [
    "posrank_deeper.plot.bar(color='green',ylim=(0,1))"
   ]
  },
  {
   "cell_type": "code",
   "execution_count": 51,
   "metadata": {
    "ExecuteTime": {
     "end_time": "2020-03-30T10:14:12.546111Z",
     "start_time": "2020-03-30T10:14:12.420179Z"
    }
   },
   "outputs": [
    {
     "data": {
      "text/plain": [
       "<matplotlib.axes._subplots.AxesSubplot at 0x7f27c83aaca0>"
      ]
     },
     "execution_count": 51,
     "metadata": {},
     "output_type": "execute_result"
    },
    {
     "data": {
      "image/png": "[encoded data removed]",
      "text/plain": [
       "<Figure size 432x288 with 1 Axes>"
      ]
     },
     "metadata": {
      "needs_background": "light"
     },
     "output_type": "display_data"
    }
   ],
   "source": [
    "posrank_deepmatcher.plot.bar(color='green',ylim=(0,1))"
   ]
  },
  {
   "cell_type": "markdown",
   "metadata": {},
   "source": [
    "## Amazon-Google"
   ]
  },
  {
   "cell_type": "code",
   "execution_count": 40,
   "metadata": {
    "ExecuteTime": {
     "end_time": "2020-04-16T14:39:36.761492Z",
     "start_time": "2020-04-16T14:39:36.604056Z"
    }
   },
   "outputs": [],
   "source": [
    "augmented_test = pd.read_csv('datasets/Amazon-GoogleProducts/augmented_test.csv')\n",
    "amazon = pd.read_csv('datasets/Amazon-GoogleProducts/Amazon.csv',dtype=str)\n",
    "google = pd.read_csv('datasets/Amazon-GoogleProducts/Google.csv',dtype=str)"
   ]
  },
  {
   "cell_type": "code",
   "execution_count": 41,
   "metadata": {
    "ExecuteTime": {
     "end_time": "2020-04-16T14:39:40.971268Z",
     "start_time": "2020-04-16T14:39:37.931018Z"
    }
   },
   "outputs": [],
   "source": [
    "amzgoogle_deepmatcher = dm.MatchingModel(attr_summarizer='rnn')\n",
    "amzgoogle_deepmatcher.load_state('models/amazon_google_rnn.pth')\n",
    "amzgoogle_deeper = load_model('models/DeepER_best_model_100_amazon-google.h5')"
   ]
  },
  {
   "cell_type": "code",
   "execution_count": 42,
   "metadata": {
    "ExecuteTime": {
     "end_time": "2020-04-16T14:40:50.658564Z",
     "start_time": "2020-04-16T14:39:54.148752Z"
    }
   },
   "outputs": [
    {
     "name": "stderr",
     "output_type": "stream",
     "text": [
      "100%|██████████| 183/183 [00:27<00:00,  6.67it/s]\n"
     ]
    }
   ],
   "source": [
    "negrank_deeper,flippedneg_deeper = explainSamples(augmented_test,[amazon,google],amzgoogle_deeper,\n",
    "                                  predict_fn_deeper,0,3)"
   ]
  },
  {
   "cell_type": "code",
   "execution_count": 43,
   "metadata": {
    "ExecuteTime": {
     "end_time": "2020-04-16T14:44:02.304419Z",
     "start_time": "2020-04-16T14:40:50.660380Z"
    }
   },
   "outputs": [
    {
     "name": "stderr",
     "output_type": "stream",
     "text": [
      "100%|██████████| 303/303 [02:37<00:00,  1.92it/s]\n"
     ]
    }
   ],
   "source": [
    "negrank_deepmatcher,flippedneg_deepmatcher = explainSamples(augmented_test,[amazon,google],amzgoogle_deepmatcher\n",
    "                                         ,predict_fn_deepmatcher,0,3)"
   ]
  },
  {
   "cell_type": "code",
   "execution_count": 45,
   "metadata": {
    "ExecuteTime": {
     "end_time": "2020-04-16T14:45:47.068520Z",
     "start_time": "2020-04-16T14:44:54.445327Z"
    }
   },
   "outputs": [
    {
     "name": "stderr",
     "output_type": "stream",
     "text": [
      "100%|██████████| 183/183 [00:23<00:00,  7.70it/s]\n"
     ]
    }
   ],
   "source": [
    "posrank_deeper,flippedpos_deeper = explainSamples(augmented_test,[amazon,google],amzgoogle_deeper,predict_fn_deeper,1,3)"
   ]
  },
  {
   "cell_type": "code",
   "execution_count": 46,
   "metadata": {
    "ExecuteTime": {
     "end_time": "2020-04-16T14:48:50.359026Z",
     "start_time": "2020-04-16T14:45:47.070370Z"
    }
   },
   "outputs": [
    {
     "name": "stderr",
     "output_type": "stream",
     "text": [
      "100%|██████████| 303/303 [02:29<00:00,  2.02it/s]\n"
     ]
    }
   ],
   "source": [
    "posrank_deepmatcher,flippedpos_deepmatcher = explainSamples(augmented_test,[amazon,google],amzgoogle_deepmatcher,\n",
    "                                         predict_fn_deepmatcher,1,3)"
   ]
  },
  {
   "cell_type": "code",
   "execution_count": 47,
   "metadata": {
    "ExecuteTime": {
     "end_time": "2020-04-16T14:48:50.628485Z",
     "start_time": "2020-04-16T14:48:50.360304Z"
    }
   },
   "outputs": [],
   "source": [
    "flippedpos_deeper.to_csv('amzgoogle_flippedpos_deeper.csv',index=False)\n",
    "flippedpos_deepmatcher.to_csv('amzgoogle_flippedpos_deepmatcher.csv',index=False)\n",
    "flippedneg_deeper.to_csv('amzgoogle_flippedneg_deeper.csv',index=False)\n",
    "flippedneg_deepmatcher.to_csv('amzgoogle_flippedneg_deepmatcher.csv',index=False)"
   ]
  },
  {
   "cell_type": "code",
   "execution_count": 49,
   "metadata": {
    "ExecuteTime": {
     "end_time": "2020-04-16T14:50:36.108190Z",
     "start_time": "2020-04-16T14:50:35.819911Z"
    }
   },
   "outputs": [
    {
     "data": {
      "text/plain": [
       "<matplotlib.axes._subplots.AxesSubplot at 0x7f8478325b20>"
      ]
     },
     "execution_count": 49,
     "metadata": {},
     "output_type": "execute_result"
    },
    {
     "data": {
      "image/png": "[encoded data removed]",
      "text/plain": [
       "<Figure size 432x288 with 1 Axes>"
      ]
     },
     "metadata": {
      "needs_background": "light"
     },
     "output_type": "display_data"
    }
   ],
   "source": [
    "negrank_deeper.plot.barh(color='red',ylim=(0,1))"
   ]
  },
  {
   "cell_type": "code",
   "execution_count": 50,
   "metadata": {
    "ExecuteTime": {
     "end_time": "2020-04-16T14:50:46.384174Z",
     "start_time": "2020-04-16T14:50:46.098760Z"
    }
   },
   "outputs": [
    {
     "data": {
      "text/plain": [
       "<matplotlib.axes._subplots.AxesSubplot at 0x7f84785732e0>"
      ]
     },
     "execution_count": 50,
     "metadata": {},
     "output_type": "execute_result"
    },
    {
     "data": {
      "image/png": "[encoded data removed]",
      "text/plain": [
       "<Figure size 432x288 with 1 Axes>"
      ]
     },
     "metadata": {
      "needs_background": "light"
     },
     "output_type": "display_data"
    }
   ],
   "source": [
    "negrank_deepmatcher.plot.barh(color='red',ylim=(0,1))"
   ]
  },
  {
   "cell_type": "code",
   "execution_count": 71,
   "metadata": {
    "ExecuteTime": {
     "end_time": "2020-03-30T10:21:52.471478Z",
     "start_time": "2020-03-30T10:21:52.266893Z"
    }
   },
   "outputs": [
    {
     "data": {
      "text/plain": [
       "<matplotlib.axes._subplots.AxesSubplot at 0x7f28181012e0>"
      ]
     },
     "execution_count": 71,
     "metadata": {},
     "output_type": "execute_result"
    },
    {
     "data": {
      "image/png": "[encoded data removed]",
      "text/plain": [
       "<Figure size 432x288 with 1 Axes>"
      ]
     },
     "metadata": {
      "needs_background": "light"
     },
     "output_type": "display_data"
    }
   ],
   "source": [
    "posrank_deeper.plot.bar(color='green',ylim=(0,1))"
   ]
  },
  {
   "cell_type": "code",
   "execution_count": 72,
   "metadata": {
    "ExecuteTime": {
     "end_time": "2020-03-30T10:21:52.595323Z",
     "start_time": "2020-03-30T10:21:52.473006Z"
    }
   },
   "outputs": [
    {
     "data": {
      "text/plain": [
       "<matplotlib.axes._subplots.AxesSubplot at 0x7f27a0727e20>"
      ]
     },
     "execution_count": 72,
     "metadata": {},
     "output_type": "execute_result"
    },
    {
     "data": {
      "image/png": "[encoded data removed]",
      "text/plain": [
       "<Figure size 432x288 with 1 Axes>"
      ]
     },
     "metadata": {
      "needs_background": "light"
     },
     "output_type": "display_data"
    }
   ],
   "source": [
    "posrank_deepmatcher.plot.bar(color='green',ylim=(0,1))"
   ]
  },
  {
   "cell_type": "markdown",
   "metadata": {},
   "source": [
    "## DBLP-ACM"
   ]
  },
  {
   "cell_type": "code",
   "execution_count": 25,
   "metadata": {
    "ExecuteTime": {
     "end_time": "2020-04-16T14:29:08.099942Z",
     "start_time": "2020-04-16T14:29:08.011878Z"
    }
   },
   "outputs": [],
   "source": [
    "augmented_test = pd.read_csv('datasets/DBLP-ACM/augmented_test.csv')\n",
    "dblp = pd.read_csv('datasets/DBLP-ACM/DBLP2.csv',dtype=str)\n",
    "acm = pd.read_csv('datasets/DBLP-ACM/ACM.csv',dtype=str)"
   ]
  },
  {
   "cell_type": "code",
   "execution_count": 24,
   "metadata": {
    "ExecuteTime": {
     "end_time": "2020-04-16T14:28:56.885709Z",
     "start_time": "2020-04-16T14:28:54.134233Z"
    }
   },
   "outputs": [],
   "source": [
    "dblpacm_deeper = load_model('models/DeepER_best_model_100_dblp-acm.h5')\n",
    "dblpacm_deepmatcher = dm.MatchingModel(attr_summarizer='rnn')\n",
    "dblpacm_deepmatcher.load_state('models/dblp_acm_rnn.pth')"
   ]
  },
  {
   "cell_type": "code",
   "execution_count": 26,
   "metadata": {
    "ExecuteTime": {
     "end_time": "2020-04-16T14:29:25.905931Z",
     "start_time": "2020-04-16T14:29:10.453682Z"
    }
   },
   "outputs": [
    {
     "name": "stderr",
     "output_type": "stream",
     "text": [
      "100%|██████████| 604/604 [00:11<00:00, 52.72it/s]\n"
     ]
    }
   ],
   "source": [
    "negrank_deeper,flippedneg_deeper = explainSamples(augmented_test,[dblp,acm],dblpacm_deeper,predict_fn_deeper,\n",
    "                                   0,3)"
   ]
  },
  {
   "cell_type": "code",
   "execution_count": 27,
   "metadata": {
    "ExecuteTime": {
     "end_time": "2020-04-16T14:31:47.612571Z",
     "start_time": "2020-04-16T14:29:25.907751Z"
    }
   },
   "outputs": [
    {
     "name": "stderr",
     "output_type": "stream",
     "text": [
      "100%|██████████| 629/629 [02:14<00:00,  4.68it/s]\n"
     ]
    }
   ],
   "source": [
    "negrank_deepmatcher,flippedneg_deepmatcher = explainSamples(augmented_test,[dblp,acm],dblpacm_deepmatcher,predict_fn_deepmatcher,\n",
    "                                        0,3)"
   ]
  },
  {
   "cell_type": "code",
   "execution_count": 28,
   "metadata": {
    "ExecuteTime": {
     "end_time": "2020-04-16T14:32:02.389953Z",
     "start_time": "2020-04-16T14:31:47.615192Z"
    }
   },
   "outputs": [
    {
     "name": "stderr",
     "output_type": "stream",
     "text": [
      "100%|██████████| 604/604 [00:11<00:00, 51.53it/s]\n"
     ]
    }
   ],
   "source": [
    "posrank_deeper,flippedpos_deeper = explainSamples(augmented_test,[dblp,acm],dblpacm_deeper,predict_fn_deeper,\n",
    "                                   1,3)"
   ]
  },
  {
   "cell_type": "code",
   "execution_count": 29,
   "metadata": {
    "ExecuteTime": {
     "end_time": "2020-04-16T14:34:24.354661Z",
     "start_time": "2020-04-16T14:32:02.391586Z"
    }
   },
   "outputs": [
    {
     "name": "stderr",
     "output_type": "stream",
     "text": [
      "100%|██████████| 629/629 [02:14<00:00,  4.66it/s]\n"
     ]
    }
   ],
   "source": [
    "posrank_deepmatcher,flippedpos_deepmatcher = explainSamples(augmented_test,[dblp,acm],dblpacm_deepmatcher,predict_fn_deepmatcher,\n",
    "                                        1,3)"
   ]
  },
  {
   "cell_type": "code",
   "execution_count": 30,
   "metadata": {
    "ExecuteTime": {
     "end_time": "2020-04-16T14:34:24.502124Z",
     "start_time": "2020-04-16T14:34:24.356666Z"
    }
   },
   "outputs": [],
   "source": [
    "flippedpos_deeper.to_csv('dblpacm_flippedpos_deeper.csv',index=False)\n",
    "flippedpos_deepmatcher.to_csv('dblpacm_flippedpos_deepmatcher.csv',index=False)\n",
    "flippedneg_deeper.to_csv('dblpacm_flippedneg_deeper.csv',index=False)\n",
    "flippedneg_deepmatcher.to_csv('dblpacm_flippedneg_deepmatcher.csv',index=False)"
   ]
  },
  {
   "cell_type": "code",
   "execution_count": 78,
   "metadata": {
    "ExecuteTime": {
     "end_time": "2020-03-30T10:24:28.834954Z",
     "start_time": "2020-03-30T10:24:28.687461Z"
    }
   },
   "outputs": [
    {
     "data": {
      "text/plain": [
       "<matplotlib.axes._subplots.AxesSubplot at 0x7f271457d820>"
      ]
     },
     "execution_count": 78,
     "metadata": {},
     "output_type": "execute_result"
    },
    {
     "data": {
      "image/png": "[encoded data removed]",
      "text/plain": [
       "<Figure size 432x288 with 1 Axes>"
      ]
     },
     "metadata": {
      "needs_background": "light"
     },
     "output_type": "display_data"
    }
   ],
   "source": [
    "negrank_deeper.plot.bar(color='red',ylim=(0,1))"
   ]
  },
  {
   "cell_type": "code",
   "execution_count": 79,
   "metadata": {
    "ExecuteTime": {
     "end_time": "2020-03-30T10:24:28.954161Z",
     "start_time": "2020-03-30T10:24:28.836378Z"
    }
   },
   "outputs": [
    {
     "data": {
      "text/plain": [
       "<matplotlib.axes._subplots.AxesSubplot at 0x7f2714542eb0>"
      ]
     },
     "execution_count": 79,
     "metadata": {},
     "output_type": "execute_result"
    },
    {
     "data": {
      "image/png": "[encoded data removed]",
      "text/plain": [
       "<Figure size 432x288 with 1 Axes>"
      ]
     },
     "metadata": {
      "needs_background": "light"
     },
     "output_type": "display_data"
    }
   ],
   "source": [
    "negrank_deepmatcher.plot.bar(color='red',ylim=(0,1))"
   ]
  },
  {
   "cell_type": "code",
   "execution_count": 82,
   "metadata": {
    "ExecuteTime": {
     "end_time": "2020-03-30T10:27:04.313055Z",
     "start_time": "2020-03-30T10:27:04.145178Z"
    }
   },
   "outputs": [
    {
     "data": {
      "text/plain": [
       "<matplotlib.axes._subplots.AxesSubplot at 0x7f274004e550>"
      ]
     },
     "execution_count": 82,
     "metadata": {},
     "output_type": "execute_result"
    },
    {
     "data": {
      "image/png": "[encoded data removed]",
      "text/plain": [
       "<Figure size 432x288 with 1 Axes>"
      ]
     },
     "metadata": {
      "needs_background": "light"
     },
     "output_type": "display_data"
    }
   ],
   "source": [
    "posrank_deeper.plot.bar(color='green',ylim=(0,1))"
   ]
  },
  {
   "cell_type": "code",
   "execution_count": 83,
   "metadata": {
    "ExecuteTime": {
     "end_time": "2020-03-30T10:27:04.440182Z",
     "start_time": "2020-03-30T10:27:04.314646Z"
    }
   },
   "outputs": [
    {
     "data": {
      "text/plain": [
       "<matplotlib.axes._subplots.AxesSubplot at 0x7f2740696e80>"
      ]
     },
     "execution_count": 83,
     "metadata": {},
     "output_type": "execute_result"
    },
    {
     "data": {
      "image/png": "[encoded data removed]",
      "text/plain": [
       "<Figure size 432x288 with 1 Axes>"
      ]
     },
     "metadata": {
      "needs_background": "light"
     },
     "output_type": "display_data"
    }
   ],
   "source": [
    "posrank_deepmatcher.plot.bar(color='green',ylim=(0,1))"
   ]
  },
  {
   "cell_type": "markdown",
   "metadata": {},
   "source": [
    "## DBLP- Scholar"
   ]
  },
  {
   "cell_type": "code",
   "execution_count": 7,
   "metadata": {
    "ExecuteTime": {
     "end_time": "2020-03-30T12:50:21.525815Z",
     "start_time": "2020-03-30T12:50:21.229822Z"
    }
   },
   "outputs": [],
   "source": [
    "augmented_test = pd.read_csv('datasets/DBLP-Scholar/augmented_test.csv')\n",
    "dblp = pd.read_csv('datasets/DBLP-Scholar/DBLP.csv',dtype=str)\n",
    "scholar = pd.read_csv('datasets/DBLP-Scholar/Scholar.csv',dtype=str)"
   ]
  },
  {
   "cell_type": "code",
   "execution_count": 8,
   "metadata": {
    "ExecuteTime": {
     "end_time": "2020-03-30T12:50:27.183245Z",
     "start_time": "2020-03-30T12:50:22.114710Z"
    }
   },
   "outputs": [],
   "source": [
    "dblpscholar_deeper = load_model('models/DeepER_best_model_100_DBLP_Scholar.h5')\n",
    "dblpscholar_deepmatcher = dm.MatchingModel(attr_summarizer='rnn')\n",
    "dblpscholar_deepmatcher.load_state('models/dblp_scholar_rnn.pth')"
   ]
  },
  {
   "cell_type": "code",
   "execution_count": 9,
   "metadata": {
    "ExecuteTime": {
     "end_time": "2020-03-30T12:51:14.886933Z",
     "start_time": "2020-03-30T12:50:28.014171Z"
    }
   },
   "outputs": [
    {
     "name": "stderr",
     "output_type": "stream",
     "text": [
      "100%|██████████| 1975/1975 [00:27<00:00, 71.42it/s]\n"
     ]
    }
   ],
   "source": [
    "negrank_deeper,_ = explainSamples(augmented_test,[dblp,scholar],dblpscholar_deeper,predict_fn_deeper,\n",
    "                                   0,1)"
   ]
  },
  {
   "cell_type": "code",
   "execution_count": 10,
   "metadata": {
    "ExecuteTime": {
     "end_time": "2020-03-30T12:52:01.239812Z",
     "start_time": "2020-03-30T12:51:14.889441Z"
    }
   },
   "outputs": [
    {
     "name": "stderr",
     "output_type": "stream",
     "text": [
      "100%|██████████| 1975/1975 [00:26<00:00, 73.38it/s]\n"
     ]
    }
   ],
   "source": [
    "posrank_deeper,_ = explainSamples(augmented_test,[dblp,scholar],dblpscholar_deeper,predict_fn_deeper,\n",
    "                                 1,1)"
   ]
  },
  {
   "cell_type": "code",
   "execution_count": 12,
   "metadata": {
    "ExecuteTime": {
     "end_time": "2020-03-30T13:05:10.484367Z",
     "start_time": "2020-03-30T12:52:36.218453Z"
    }
   },
   "outputs": [
    {
     "name": "stderr",
     "output_type": "stream",
     "text": [
      "100%|██████████| 2032/2032 [11:57<00:00,  2.83it/s]\n"
     ]
    }
   ],
   "source": [
    "negrank_deepmatcher,_ = explainSamples(augmented_test,[dblp,scholar],dblpscholar_deepmatcher,predict_fn_deepmatcher,\n",
    "                                      0,1)"
   ]
  },
  {
   "cell_type": "code",
   "execution_count": 13,
   "metadata": {
    "ExecuteTime": {
     "end_time": "2020-03-30T13:17:44.857270Z",
     "start_time": "2020-03-30T13:05:10.486112Z"
    }
   },
   "outputs": [
    {
     "name": "stderr",
     "output_type": "stream",
     "text": [
      "100%|██████████| 2032/2032 [12:06<00:00,  2.80it/s]\n"
     ]
    }
   ],
   "source": [
    "posrank_deepmatcher,_ = explainSamples(augmented_test,[dblp,scholar],dblpscholar_deepmatcher,predict_fn_deepmatcher,\n",
    "                                      1,1)"
   ]
  },
  {
   "cell_type": "code",
   "execution_count": 14,
   "metadata": {
    "ExecuteTime": {
     "end_time": "2020-03-30T13:17:45.416963Z",
     "start_time": "2020-03-30T13:17:44.859437Z"
    }
   },
   "outputs": [
    {
     "data": {
      "text/plain": [
       "<matplotlib.axes._subplots.AxesSubplot at 0x7f78e47e7f40>"
      ]
     },
     "execution_count": 14,
     "metadata": {},
     "output_type": "execute_result"
    },
    {
     "data": {
      "image/png": "[encoded data removed]",
      "text/plain": [
       "<Figure size 432x288 with 1 Axes>"
      ]
     },
     "metadata": {
      "needs_background": "light"
     },
     "output_type": "display_data"
    }
   ],
   "source": [
    "negrank_deeper.plot.bar(color='red',ylim=(0,1))"
   ]
  },
  {
   "cell_type": "code",
   "execution_count": 15,
   "metadata": {
    "ExecuteTime": {
     "end_time": "2020-03-30T13:17:45.540839Z",
     "start_time": "2020-03-30T13:17:45.418869Z"
    }
   },
   "outputs": [
    {
     "data": {
      "text/plain": [
       "<matplotlib.axes._subplots.AxesSubplot at 0x7f78e4741b20>"
      ]
     },
     "execution_count": 15,
     "metadata": {},
     "output_type": "execute_result"
    },
    {
     "data": {
      "image/png": "[encoded data removed]",
      "text/plain": [
       "<Figure size 432x288 with 1 Axes>"
      ]
     },
     "metadata": {
      "needs_background": "light"
     },
     "output_type": "display_data"
    }
   ],
   "source": [
    "negrank_deepmatcher.plot.bar(color='red',ylim=(0,1))"
   ]
  },
  {
   "cell_type": "code",
   "execution_count": 16,
   "metadata": {
    "ExecuteTime": {
     "end_time": "2020-03-30T13:17:45.659275Z",
     "start_time": "2020-03-30T13:17:45.542363Z"
    }
   },
   "outputs": [
    {
     "data": {
      "text/plain": [
       "<matplotlib.axes._subplots.AxesSubplot at 0x7f790c1e3400>"
      ]
     },
     "execution_count": 16,
     "metadata": {},
     "output_type": "execute_result"
    },
    {
     "data": {
      "image/png": "[encoded data removed]",
      "text/plain": [
       "<Figure size 432x288 with 1 Axes>"
      ]
     },
     "metadata": {
      "needs_background": "light"
     },
     "output_type": "display_data"
    }
   ],
   "source": [
    "posrank_deeper.plot.bar(color='green',ylim=(0,1))"
   ]
  },
  {
   "cell_type": "code",
   "execution_count": 17,
   "metadata": {
    "ExecuteTime": {
     "end_time": "2020-03-30T13:17:45.776482Z",
     "start_time": "2020-03-30T13:17:45.660763Z"
    }
   },
   "outputs": [
    {
     "data": {
      "text/plain": [
       "<matplotlib.axes._subplots.AxesSubplot at 0x7f790c37f250>"
      ]
     },
     "execution_count": 17,
     "metadata": {},
     "output_type": "execute_result"
    },
    {
     "data": {
      "image/png": "[encoded data removed]",
      "text/plain": [
       "<Figure size 432x288 with 1 Axes>"
      ]
     },
     "metadata": {
      "needs_background": "light"
     },
     "output_type": "display_data"
    }
   ],
   "source": [
    "posrank_deepmatcher.plot.bar(color='green',ylim=(0,1))"
   ]
  },
  {
   "cell_type": "code",
   "execution_count": 22,
   "metadata": {
    "ExecuteTime": {
     "end_time": "2020-03-30T13:20:26.091011Z",
     "start_time": "2020-03-30T13:20:26.025470Z"
    }
   },
   "outputs": [],
   "source": [
    "posrank_deepmatcher.to_csv('posrank_deepmatcher_dblpacm.csv')\n",
    "posrank_deeper.to_csv('posrank_deeper_dblpacm.csv')\n",
    "negrank_deepmatcher.to_csv('negrank_deepmatcher_dblpacm.csv')\n",
    "negrank_deeper.to_csv('negrank_deeper_dblpacm.csv')"
   ]
  },
  {
   "cell_type": "markdown",
   "metadata": {},
   "source": [
    "## Fodors-Zagats"
   ]
  },
  {
   "cell_type": "code",
   "execution_count": 5,
   "metadata": {
    "ExecuteTime": {
     "end_time": "2020-04-05T14:25:45.660709Z",
     "start_time": "2020-04-05T14:25:45.595775Z"
    }
   },
   "outputs": [],
   "source": [
    "augmented_test = pd.read_csv('datasets/fodors_zagats/augmented_test.csv')\n",
    "fodors = pd.read_csv('datasets/fodors_zagats/fodors.csv',dtype=str)\n",
    "zagats = pd.read_csv('datasets/fodors_zagats/zagats.csv',dtype=str)"
   ]
  },
  {
   "cell_type": "code",
   "execution_count": 6,
   "metadata": {
    "ExecuteTime": {
     "end_time": "2020-04-05T14:25:53.687949Z",
     "start_time": "2020-04-05T14:25:49.478705Z"
    }
   },
   "outputs": [],
   "source": [
    "##fodors_deeper = load_model('models/DeepER_best_model_100_fodors-zagats.h5')\n",
    "fodors_deepmatcher = dm.MatchingModel(attr_summarizer='rnn')\n",
    "fodors_deepmatcher.load_state('models/fodors_zagats_rnn.pth')"
   ]
  },
  {
   "cell_type": "code",
   "execution_count": null,
   "metadata": {
    "ExecuteTime": {
     "end_time": "2020-03-27T19:02:05.647779Z",
     "start_time": "2020-03-27T19:02:05.441292Z"
    }
   },
   "outputs": [],
   "source": [
    "negrank_deeper,_ = explainSamples(correct_deeper,[fodors,zagats],fodors_deeper,predict_fn_deeper,\n",
    "                                   0,1)"
   ]
  },
  {
   "cell_type": "code",
   "execution_count": 7,
   "metadata": {
    "ExecuteTime": {
     "end_time": "2020-04-05T14:26:30.991459Z",
     "start_time": "2020-04-05T14:26:17.398628Z"
    }
   },
   "outputs": [
    {
     "name": "stderr",
     "output_type": "stream",
     "text": [
      "100%|██████████| 32/32 [00:03<00:00,  9.55it/s]\n"
     ]
    }
   ],
   "source": [
    "negrank_deepmatcher,_ = explainSamples(augmented_test,[fodors,zagats],fodors_deepmatcher,predict_fn_deepmatcher,\n",
    "                                        0,1)"
   ]
  },
  {
   "cell_type": "code",
   "execution_count": 8,
   "metadata": {
    "ExecuteTime": {
     "end_time": "2020-04-05T14:26:44.998214Z",
     "start_time": "2020-04-05T14:26:44.610250Z"
    }
   },
   "outputs": [
    {
     "data": {
      "text/plain": [
       "<matplotlib.axes._subplots.AxesSubplot at 0x7fd1e042c7c0>"
      ]
     },
     "execution_count": 8,
     "metadata": {},
     "output_type": "execute_result"
    },
    {
     "data": {
      "image/png": "[encoded data removed]",
      "text/plain": [
       "<Figure size 432x288 with 1 Axes>"
      ]
     },
     "metadata": {
      "needs_background": "light"
     },
     "output_type": "display_data"
    }
   ],
   "source": [
    "negrank_deepmatcher.plot.barh(color='red')"
   ]
  },
  {
   "cell_type": "code",
   "execution_count": null,
   "metadata": {
    "ExecuteTime": {
     "end_time": "2020-03-27T19:24:51.138410Z",
     "start_time": "2020-03-27T19:24:50.902541Z"
    }
   },
   "outputs": [],
   "source": [
    "ax,negrank = aggregateRankings(negrank_deeper,positive=False,maxLenAttributes=1,lenTriangles=8)"
   ]
  },
  {
   "cell_type": "code",
   "execution_count": 9,
   "metadata": {
    "ExecuteTime": {
     "end_time": "2020-04-05T14:27:05.076415Z",
     "start_time": "2020-04-05T14:27:01.096864Z"
    }
   },
   "outputs": [
    {
     "name": "stderr",
     "output_type": "stream",
     "text": [
      "100%|██████████| 32/32 [00:03<00:00,  9.89it/s]\n"
     ]
    }
   ],
   "source": [
    "posrank_deepmatcher,_ = explainSamples(augmented_test,[fodors,zagats],fodors_deepmatcher,predict_fn_deepmatcher,\n",
    "                                        1,1)"
   ]
  },
  {
   "cell_type": "code",
   "execution_count": 11,
   "metadata": {
    "ExecuteTime": {
     "end_time": "2020-04-05T14:27:19.660523Z",
     "start_time": "2020-04-05T14:27:19.463006Z"
    }
   },
   "outputs": [
    {
     "data": {
      "text/plain": [
       "<matplotlib.axes._subplots.AxesSubplot at 0x7fd1e0096df0>"
      ]
     },
     "execution_count": 11,
     "metadata": {},
     "output_type": "execute_result"
    },
    {
     "data": {
      "image/png": "[encoded data removed]",
      "text/plain": [
       "<Figure size 432x288 with 1 Axes>"
      ]
     },
     "metadata": {
      "needs_background": "light"
     },
     "output_type": "display_data"
    }
   ],
   "source": [
    "posrank_deepmatcher.plot.barh(color='green')"
   ]
  },
  {
   "cell_type": "code",
   "execution_count": null,
   "metadata": {
    "ExecuteTime": {
     "end_time": "2020-03-27T19:25:50.175642Z",
     "start_time": "2020-03-27T19:25:49.967154Z"
    }
   },
   "outputs": [],
   "source": [
    "posrank_deeper,_,_ = explainSamples(correct_deeper,[fodors,zagats],fodors_deeper,predict_fn_deeper,\n",
    "                                   1,1)"
   ]
  },
  {
   "cell_type": "code",
   "execution_count": null,
   "metadata": {
    "ExecuteTime": {
     "end_time": "2020-03-27T19:26:28.727720Z",
     "start_time": "2020-03-27T19:26:28.480854Z"
    }
   },
   "outputs": [],
   "source": [
    "ax,posrank = aggregateRankings(posrank_deepmatcher,positive=True,maxLenAttributes=1,lenTriangles=50)"
   ]
  },
  {
   "cell_type": "code",
   "execution_count": null,
   "metadata": {
    "ExecuteTime": {
     "end_time": "2020-03-27T19:26:48.132553Z",
     "start_time": "2020-03-27T19:26:48.055985Z"
    }
   },
   "outputs": [],
   "source": [
    "ax,posrank = aggregateRankings(posrank_deeper,positive=True,maxLenAttributes=1,lenTriangles=8)"
   ]
  },
  {
   "cell_type": "markdown",
   "metadata": {},
   "source": [
    "## Itunes-Amazon"
   ]
  },
  {
   "cell_type": "code",
   "execution_count": 31,
   "metadata": {
    "ExecuteTime": {
     "end_time": "2020-04-16T14:35:17.707876Z",
     "start_time": "2020-04-16T14:35:17.651257Z"
    }
   },
   "outputs": [],
   "source": [
    "DATASET_DIR = 'datasets/itunes_amazon/'"
   ]
  },
  {
   "cell_type": "code",
   "execution_count": 32,
   "metadata": {
    "ExecuteTime": {
     "end_time": "2020-04-16T14:35:18.368556Z",
     "start_time": "2020-04-16T14:35:18.089586Z"
    }
   },
   "outputs": [],
   "source": [
    "augmented_test = pd.read_csv(DATASET_DIR+'augmented_test.csv')\n",
    "itunes = pd.read_csv(DATASET_DIR+'itunes.csv',dtype=str)\n",
    "amazon = pd.read_csv(DATASET_DIR+'amazon.csv',dtype=str)"
   ]
  },
  {
   "cell_type": "code",
   "execution_count": 33,
   "metadata": {
    "ExecuteTime": {
     "end_time": "2020-04-16T14:35:22.479407Z",
     "start_time": "2020-04-16T14:35:19.490972Z"
    }
   },
   "outputs": [],
   "source": [
    "itunes_deeper = load_model('models/DeepER_best_model_100_itunes-amazon.h5')\n",
    "itunes_deepmatcher = dm.MatchingModel(attr_summarizer='rnn')\n",
    "itunes_deepmatcher.load_state('models/itunes_amazon_rnn.pth')"
   ]
  },
  {
   "cell_type": "code",
   "execution_count": 35,
   "metadata": {
    "ExecuteTime": {
     "end_time": "2020-04-16T14:35:52.180671Z",
     "start_time": "2020-04-16T14:35:36.571469Z"
    }
   },
   "outputs": [
    {
     "name": "stderr",
     "output_type": "stream",
     "text": [
      "100%|██████████| 63/63 [00:14<00:00,  4.31it/s]\n"
     ]
    }
   ],
   "source": [
    "negrank_deeper,flippedneg_deeper = explainSamples(augmented_test,[itunes,amazon],itunes_deeper,predict_fn_deeper,\n",
    "                                   0,4)"
   ]
  },
  {
   "cell_type": "code",
   "execution_count": 36,
   "metadata": {
    "ExecuteTime": {
     "end_time": "2020-04-16T14:37:12.960956Z",
     "start_time": "2020-04-16T14:35:52.183540Z"
    }
   },
   "outputs": [
    {
     "name": "stderr",
     "output_type": "stream",
     "text": [
      "100%|██████████| 76/76 [01:19<00:00,  1.04s/it]\n"
     ]
    }
   ],
   "source": [
    "negrank_deepmatcher,flippedneg_deepmatcher = explainSamples(augmented_test,[itunes,amazon],itunes_deepmatcher,\n",
    "                                         predict_fn_deepmatcher,0,4)"
   ]
  },
  {
   "cell_type": "code",
   "execution_count": 37,
   "metadata": {
    "ExecuteTime": {
     "end_time": "2020-04-16T14:37:29.196021Z",
     "start_time": "2020-04-16T14:37:12.963605Z"
    }
   },
   "outputs": [
    {
     "name": "stderr",
     "output_type": "stream",
     "text": [
      "100%|██████████| 63/63 [00:15<00:00,  4.06it/s]\n"
     ]
    }
   ],
   "source": [
    "posrank_deeper,flippedpos_deeper = explainSamples(augmented_test,[itunes,amazon],itunes_deeper,predict_fn_deeper,\n",
    "                                   1,4)"
   ]
  },
  {
   "cell_type": "code",
   "execution_count": 38,
   "metadata": {
    "ExecuteTime": {
     "end_time": "2020-04-16T14:38:51.531019Z",
     "start_time": "2020-04-16T14:37:29.197744Z"
    }
   },
   "outputs": [
    {
     "name": "stderr",
     "output_type": "stream",
     "text": [
      "100%|██████████| 76/76 [01:20<00:00,  1.06s/it]\n"
     ]
    }
   ],
   "source": [
    "posrank_deepmatcher,flippedpos_deepmatcher = explainSamples(augmented_test,[itunes,amazon],itunes_deepmatcher,predict_fn_deepmatcher,\n",
    "                                        1,4)"
   ]
  },
  {
   "cell_type": "code",
   "execution_count": 39,
   "metadata": {
    "ExecuteTime": {
     "end_time": "2020-04-16T14:38:51.811522Z",
     "start_time": "2020-04-16T14:38:51.533944Z"
    }
   },
   "outputs": [],
   "source": [
    "flippedpos_deeper.to_csv('itunes_flippedpos_deeper.csv',index=False)\n",
    "flippedpos_deepmatcher.to_csv('itunes_flippedpos_deepmatcher.csv',index=False)\n",
    "flippedneg_deeper.to_csv('itunes_flippedneg_deeper.csv',index=False)\n",
    "flippedneg_deepmatcher.to_csv('itunes_flippedneg_deepmatcher.csv',index=False)"
   ]
  },
  {
   "cell_type": "code",
   "execution_count": 59,
   "metadata": {
    "ExecuteTime": {
     "end_time": "2020-03-30T10:14:48.644742Z",
     "start_time": "2020-03-30T10:14:48.479784Z"
    }
   },
   "outputs": [
    {
     "data": {
      "text/plain": [
       "<matplotlib.axes._subplots.AxesSubplot at 0x7f2818049880>"
      ]
     },
     "execution_count": 59,
     "metadata": {},
     "output_type": "execute_result"
    },
    {
     "data": {
      "image/png": "[encoded data removed]",
      "text/plain": [
       "<Figure size 432x288 with 1 Axes>"
      ]
     },
     "metadata": {
      "needs_background": "light"
     },
     "output_type": "display_data"
    }
   ],
   "source": [
    "negrank_deeper.plot.bar(color='red',ylim=(0,1))"
   ]
  },
  {
   "cell_type": "code",
   "execution_count": 13,
   "metadata": {
    "ExecuteTime": {
     "end_time": "2020-03-31T10:21:02.459874Z",
     "start_time": "2020-03-31T10:21:02.218252Z"
    }
   },
   "outputs": [
    {
     "data": {
      "text/plain": [
       "<matplotlib.axes._subplots.AxesSubplot at 0x7f5ba80c2f70>"
      ]
     },
     "execution_count": 13,
     "metadata": {},
     "output_type": "execute_result"
    },
    {
     "data": {
      "image/png": "[encoded data removed]",
      "text/plain": [
       "<Figure size 432x288 with 1 Axes>"
      ]
     },
     "metadata": {
      "needs_background": "light"
     },
     "output_type": "display_data"
    }
   ],
   "source": [
    "negrank_deepmatcher.plot.bar(color='red',ylim=(0,1))"
   ]
  },
  {
   "cell_type": "code",
   "execution_count": 61,
   "metadata": {
    "ExecuteTime": {
     "end_time": "2020-03-30T10:14:48.914996Z",
     "start_time": "2020-03-30T10:14:48.783498Z"
    }
   },
   "outputs": [
    {
     "data": {
      "text/plain": [
       "<matplotlib.axes._subplots.AxesSubplot at 0x7f28200dcbe0>"
      ]
     },
     "execution_count": 61,
     "metadata": {},
     "output_type": "execute_result"
    },
    {
     "data": {
      "image/png": "[encoded data removed]",
      "text/plain": [
       "<Figure size 432x288 with 1 Axes>"
      ]
     },
     "metadata": {
      "needs_background": "light"
     },
     "output_type": "display_data"
    }
   ],
   "source": [
    "posrank_deeper.plot.bar(color='green',ylim=(0,1))"
   ]
  },
  {
   "cell_type": "code",
   "execution_count": 62,
   "metadata": {
    "ExecuteTime": {
     "end_time": "2020-03-30T10:14:49.048907Z",
     "start_time": "2020-03-30T10:14:48.917308Z"
    }
   },
   "outputs": [
    {
     "data": {
      "text/plain": [
       "<matplotlib.axes._subplots.AxesSubplot at 0x7f28181cbe20>"
      ]
     },
     "execution_count": 62,
     "metadata": {},
     "output_type": "execute_result"
    },
    {
     "data": {
      "image/png": "[encoded data removed]",
      "text/plain": [
       "<Figure size 432x288 with 1 Axes>"
      ]
     },
     "metadata": {
      "needs_background": "light"
     },
     "output_type": "display_data"
    }
   ],
   "source": [
    "posrank_deepmatcher.plot.bar(color='green',ylim=(0,1))"
   ]
  },
  {
   "cell_type": "code",
   "execution_count": null,
   "metadata": {},
   "outputs": [],
   "source": []
  }
 ],
 "metadata": {
  "kernelspec": {
   "display_name": "Python 3",
   "language": "python",
   "name": "python3"
  },
  "language_info": {
   "codemirror_mode": {
    "name": "ipython",
    "version": 3
   },
   "file_extension": ".py",
   "mimetype": "text/x-python",
   "name": "python",
   "nbconvert_exporter": "python",
   "pygments_lexer": "ipython3",
   "version": "3.8.1"
  },
  "toc": {
   "base_numbering": 1,
   "nav_menu": {},
   "number_sections": true,
   "sideBar": true,
   "skip_h1_title": false,
   "title_cell": "Table of Contents",
   "title_sidebar": "Contents",
   "toc_cell": false,
   "toc_position": {
    "height": "calc(100% - 180px)",
    "left": "10px",
    "top": "150px",
    "width": "349.063px"
   },
   "toc_section_display": true,
   "toc_window_display": true
  }
 },
 "nbformat": 4,
 "nbformat_minor": 4
}
