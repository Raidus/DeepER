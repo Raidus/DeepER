{
 "cells": [
  {
   "cell_type": "code",
   "execution_count": null,
   "metadata": {
    "ExecuteTime": {
     "end_time": "2020-03-28T16:36:32.781742Z",
     "start_time": "2020-03-28T16:36:32.756904Z"
    }
   },
   "outputs": [],
   "source": [
    "%load_ext autoreload\n",
    "%autoreload 2"
   ]
  },
  {
   "cell_type": "code",
   "execution_count": null,
   "metadata": {
    "ExecuteTime": {
     "end_time": "2020-03-28T16:36:35.297759Z",
     "start_time": "2020-03-28T16:36:33.069961Z"
    }
   },
   "outputs": [],
   "source": [
    "from deeper.deeper_utils import wrap_deeper\n",
    "from explanation.deepmatcher_utils import wrapDm\n",
    "from explanation.mojito2 import explainSamples\n",
    "import pandas as pd\n",
    "import deepmatcher as dm\n",
    "from keras.models import load_model\n",
    "from deeper.DeepER import init_embeddings_index,init_embeddings_model"
   ]
  },
  {
   "cell_type": "markdown",
   "metadata": {},
   "source": [
    "## Prelimary operations"
   ]
  },
  {
   "cell_type": "code",
   "execution_count": null,
   "metadata": {
    "ExecuteTime": {
     "end_time": "2020-03-28T16:39:10.042577Z",
     "start_time": "2020-03-28T16:36:35.299920Z"
    }
   },
   "outputs": [],
   "source": [
    "# Caricamento strutture dati e modelli ausiliari.\n",
    "EMBEDDING_FILEPATH ='embeddings/glove.840B.300d.txt'\n",
    "embeddings_index = init_embeddings_index(EMBEDDING_FILEPATH)\n",
    "embeddings_model, tokenizer = init_embeddings_model(embeddings_index)"
   ]
  },
  {
   "cell_type": "code",
   "execution_count": null,
   "metadata": {
    "ExecuteTime": {
     "end_time": "2020-03-28T16:39:10.080127Z",
     "start_time": "2020-03-28T16:39:10.046545Z"
    }
   },
   "outputs": [],
   "source": [
    "def getCorrectPredictions(dataset,model,predict_fn):\n",
    "    predictions = predict_fn(dataset,model,['label','id'])\n",
    "    tp_group = dataset[(predictions[:,1]>=0.5)& (dataset['label'] == 1)]\n",
    "    tn_group = dataset[(predictions[:,0] >=0.5)& (dataset['label']==0)]\n",
    "    correctPredictions = pd.concat([tp_group,tn_group])\n",
    "    print(\"Len of correct predictions is {}\".format(len(correctPredictions)))\n",
    "    return correctPredictions"
   ]
  },
  {
   "cell_type": "code",
   "execution_count": null,
   "metadata": {
    "ExecuteTime": {
     "end_time": "2020-03-28T16:39:10.102043Z",
     "start_time": "2020-03-28T16:39:10.081938Z"
    }
   },
   "outputs": [],
   "source": [
    "predict_fn_deeper = lambda data,model,ignore: wrap_deeper(data,'ltable_','rtable_',model,tokenizer,embeddings_model,\n",
    "                                                  ignore_columns=ignore)"
   ]
  },
  {
   "cell_type": "code",
   "execution_count": null,
   "metadata": {
    "ExecuteTime": {
     "end_time": "2020-03-28T16:39:10.124296Z",
     "start_time": "2020-03-28T16:39:10.103637Z"
    }
   },
   "outputs": [],
   "source": [
    "predict_fn_deepmatcher = lambda data,model,ignore: wrapDm(data,model,ignore_columns=ignore)"
   ]
  },
  {
   "cell_type": "markdown",
   "metadata": {},
   "source": [
    "## Walmart-Amazon"
   ]
  },
  {
   "cell_type": "code",
   "execution_count": null,
   "metadata": {
    "ExecuteTime": {
     "end_time": "2020-03-27T15:45:05.277558Z",
     "start_time": "2020-03-27T15:45:05.097088Z"
    }
   },
   "outputs": [],
   "source": [
    "augmented_test = pd.read_csv('datasets/walmart_amazon/augmented_test.csv')\n",
    "walmart = pd.read_csv('datasets/walmart_amazon/walmart.csv',dtype=str)\n",
    "amazon = pd.read_csv('datasets/walmart_amazon/amazon.csv',dtype=str)"
   ]
  },
  {
   "cell_type": "code",
   "execution_count": null,
   "metadata": {
    "ExecuteTime": {
     "end_time": "2020-03-27T15:33:37.696236Z",
     "start_time": "2020-03-27T15:33:34.856174Z"
    }
   },
   "outputs": [],
   "source": [
    "walmart_deepmatcher = dm.MatchingModel(attr_summarizer='rnn')\n",
    "walmart_deepmatcher.load_state('models/walmart_amazon_rnn.pth')\n",
    "walmart_deeper = load_model('models/DeepER_best_model_100_walmart-amazon.h5')"
   ]
  },
  {
   "cell_type": "code",
   "execution_count": null,
   "metadata": {
    "ExecuteTime": {
     "end_time": "2020-03-27T15:46:20.172048Z",
     "start_time": "2020-03-27T15:46:15.607699Z"
    }
   },
   "outputs": [],
   "source": [
    "correct_pred_deepmatcher = getCorrectPredictions(augmented_test,walmart_deepmatcher,predict_fn_deepmatcher)"
   ]
  },
  {
   "cell_type": "code",
   "execution_count": null,
   "metadata": {
    "ExecuteTime": {
     "end_time": "2020-03-27T15:46:21.078523Z",
     "start_time": "2020-03-27T15:46:20.173962Z"
    }
   },
   "outputs": [],
   "source": [
    "correct_pred_deeper = getCorrectPredictions(augmented_test,walmart_deeper,predict_fn_deeper)"
   ]
  },
  {
   "cell_type": "code",
   "execution_count": null,
   "metadata": {
    "ExecuteTime": {
     "end_time": "2020-03-27T15:46:34.669283Z",
     "start_time": "2020-03-27T15:46:22.628943Z"
    }
   },
   "outputs": [],
   "source": [
    "negrank,_,_ = explainSamples(correct_pred_deeper,[walmart,amazon],walmart_deeper,predict_fn_deeper,0,1)"
   ]
  },
  {
   "cell_type": "code",
   "execution_count": null,
   "metadata": {
    "ExecuteTime": {
     "end_time": "2020-03-27T15:47:33.379818Z",
     "start_time": "2020-03-27T15:47:33.186237Z"
    }
   },
   "outputs": [],
   "source": [
    "ax,negrank = aggregateRankings(negrank,positive=False,maxLenAttributes=1,lenTriangles=521)"
   ]
  },
  {
   "cell_type": "code",
   "execution_count": null,
   "metadata": {
    "ExecuteTime": {
     "end_time": "2020-03-27T15:51:19.776892Z",
     "start_time": "2020-03-27T15:48:03.249786Z"
    }
   },
   "outputs": [],
   "source": [
    "negrank,_,_ = explainSamples(correct_pred_deepmatcher,[walmart,amazon],walmart_deepmatcher,\n",
    "                             predict_fn_deepmatcher,0,1)"
   ]
  },
  {
   "cell_type": "code",
   "execution_count": null,
   "metadata": {
    "ExecuteTime": {
     "end_time": "2020-03-27T15:51:22.638856Z",
     "start_time": "2020-03-27T15:51:22.444785Z"
    }
   },
   "outputs": [],
   "source": [
    "ax,negrank = aggregateRankings(negrank,positive=False,maxLenAttributes=1,lenTriangles=548)"
   ]
  },
  {
   "cell_type": "code",
   "execution_count": null,
   "metadata": {
    "ExecuteTime": {
     "end_time": "2020-03-27T15:52:44.577254Z",
     "start_time": "2020-03-27T15:52:30.083762Z"
    }
   },
   "outputs": [],
   "source": [
    "posrank_deeper,_,_ = explainSamples(correct_pred_deeper,[walmart,amazon],walmart_deeper,predict_fn_deeper,\n",
    "                             1,1)"
   ]
  },
  {
   "cell_type": "code",
   "execution_count": null,
   "metadata": {
    "ExecuteTime": {
     "end_time": "2020-03-27T15:56:12.652837Z",
     "start_time": "2020-03-27T15:52:57.899638Z"
    }
   },
   "outputs": [],
   "source": [
    "posrank_deepmatcher,_,_ = explainSamples(correct_pred_deepmatcher,[walmart,amazon],walmart_deepmatcher,\n",
    "                                         predict_fn_deepmatcher,1,1)"
   ]
  },
  {
   "cell_type": "code",
   "execution_count": null,
   "metadata": {
    "ExecuteTime": {
     "end_time": "2020-03-27T15:57:17.646900Z",
     "start_time": "2020-03-27T15:57:17.373272Z"
    }
   },
   "outputs": [],
   "source": [
    "ax,posrank = aggregateRankings(posrank_deeper,positive=True,maxLenAttributes=1,lenTriangles=521)"
   ]
  },
  {
   "cell_type": "code",
   "execution_count": null,
   "metadata": {
    "ExecuteTime": {
     "end_time": "2020-03-27T15:57:39.900592Z",
     "start_time": "2020-03-27T15:57:39.620823Z"
    }
   },
   "outputs": [],
   "source": [
    "ax,posrank = aggregateRankings(posrank_deepmatcher,positive=True,maxLenAttributes=1,lenTriangles=548)"
   ]
  },
  {
   "cell_type": "markdown",
   "metadata": {},
   "source": [
    "## Amazon-Google"
   ]
  },
  {
   "cell_type": "code",
   "execution_count": null,
   "metadata": {
    "ExecuteTime": {
     "end_time": "2020-03-27T16:00:41.310080Z",
     "start_time": "2020-03-27T16:00:41.190762Z"
    }
   },
   "outputs": [],
   "source": [
    "augmented_test = pd.read_csv('datasets/Amazon-GoogleProducts/augmented_test.csv')\n",
    "amazon = pd.read_csv('datasets/Amazon-GoogleProducts/Amazon.csv',dtype=str)\n",
    "google = pd.read_csv('datasets/Amazon-GoogleProducts/Google.csv',dtype=str)"
   ]
  },
  {
   "cell_type": "code",
   "execution_count": null,
   "metadata": {
    "ExecuteTime": {
     "end_time": "2020-03-27T16:01:39.361877Z",
     "start_time": "2020-03-27T16:01:36.159176Z"
    }
   },
   "outputs": [],
   "source": [
    "amzgoogle_deepmatcher = dm.MatchingModel(attr_summarizer='rnn')\n",
    "amzgoogle_deepmatcher.load_state('models/amazon_google_rnn.pth')\n",
    "amzgoogle_deeper = load_model('models/DeepER_best_model_100_amazon-google.h5')"
   ]
  },
  {
   "cell_type": "code",
   "execution_count": null,
   "metadata": {
    "ExecuteTime": {
     "end_time": "2020-03-27T16:03:44.078505Z",
     "start_time": "2020-03-27T16:02:45.561152Z"
    }
   },
   "outputs": [],
   "source": [
    "correct_pred_deepmatcher = getCorrectPredictions(augmented_test,amzgoogle_deepmatcher,predict_fn_deepmatcher)\n",
    "correct_pred_deeper = getCorrectPredictions(augmented_test,amzgoogle_deeper,predict_fn_deeper)"
   ]
  },
  {
   "cell_type": "code",
   "execution_count": null,
   "metadata": {
    "ExecuteTime": {
     "end_time": "2020-03-27T16:05:36.163239Z",
     "start_time": "2020-03-27T16:05:23.258122Z"
    }
   },
   "outputs": [],
   "source": [
    "negrank_deeper,_,_ = explainSamples(correct_pred_deeper,[amazon,google],amzgoogle_deeper,predict_fn_deeper,0,1)"
   ]
  },
  {
   "cell_type": "code",
   "execution_count": null,
   "metadata": {
    "ExecuteTime": {
     "end_time": "2020-03-27T16:09:28.184230Z",
     "start_time": "2020-03-27T16:07:18.225359Z"
    }
   },
   "outputs": [],
   "source": [
    "negrank_deepmatcher,_,_ = explainSamples(correct_pred_deepmatcher,[amazon,google],amzgoogle_deepmatcher\n",
    "                                         ,predict_fn_deepmatcher,0,1)"
   ]
  },
  {
   "cell_type": "code",
   "execution_count": null,
   "metadata": {
    "ExecuteTime": {
     "end_time": "2020-03-27T16:10:26.984823Z",
     "start_time": "2020-03-27T16:10:26.738279Z"
    }
   },
   "outputs": [],
   "source": [
    "ax,negrank = aggregateRankings(negrank_deeper,positive=False,maxLenAttributes=1,lenTriangles=183)"
   ]
  },
  {
   "cell_type": "code",
   "execution_count": null,
   "metadata": {
    "ExecuteTime": {
     "end_time": "2020-03-27T16:10:47.207584Z",
     "start_time": "2020-03-27T16:10:46.984786Z"
    }
   },
   "outputs": [],
   "source": [
    "ax,negrank = aggregateRankings(negrank_deepmatcher,positive=False,maxLenAttributes=1,lenTriangles=303)"
   ]
  },
  {
   "cell_type": "code",
   "execution_count": null,
   "metadata": {
    "ExecuteTime": {
     "end_time": "2020-03-27T16:24:13.551884Z",
     "start_time": "2020-03-27T16:23:59.763200Z"
    }
   },
   "outputs": [],
   "source": [
    "posrank_deeper,_,_ = explainSamples(correct_pred_deeper,[amazon,google],amzgoogle_deeper,predict_fn_deeper,1,1)"
   ]
  },
  {
   "cell_type": "code",
   "execution_count": null,
   "metadata": {
    "ExecuteTime": {
     "end_time": "2020-03-27T16:26:15.146569Z",
     "start_time": "2020-03-27T16:24:13.554058Z"
    }
   },
   "outputs": [],
   "source": [
    "posrank_deepmatcher,_,_ = explainSamples(correct_pred_deepmatcher,[amazon,google],amzgoogle_deepmatcher,\n",
    "                                         predict_fn_deepmatcher,1,1)"
   ]
  },
  {
   "cell_type": "code",
   "execution_count": null,
   "metadata": {
    "ExecuteTime": {
     "end_time": "2020-03-27T16:19:40.673275Z",
     "start_time": "2020-03-27T16:19:40.450040Z"
    }
   },
   "outputs": [],
   "source": [
    "ax,posrank = aggregateRankings(posrank_deeper,positive=True,maxLenAttributes=1,lenTriangles=183)"
   ]
  },
  {
   "cell_type": "code",
   "execution_count": null,
   "metadata": {
    "ExecuteTime": {
     "end_time": "2020-03-27T16:20:03.148137Z",
     "start_time": "2020-03-27T16:20:02.921504Z"
    }
   },
   "outputs": [],
   "source": [
    "ax,posrank = aggregateRankings(posrank_deepmatcher,positive=True,maxLenAttributes=1,lenTriangles=303)"
   ]
  },
  {
   "cell_type": "markdown",
   "metadata": {},
   "source": [
    "## DBLP-ACM"
   ]
  },
  {
   "cell_type": "code",
   "execution_count": null,
   "metadata": {
    "ExecuteTime": {
     "end_time": "2020-03-27T18:43:19.488210Z",
     "start_time": "2020-03-27T18:43:19.407180Z"
    }
   },
   "outputs": [],
   "source": [
    "augmented_test = pd.read_csv('datasets/DBLP-ACM/augmented_test.csv')\n",
    "dblp = pd.read_csv('datasets/DBLP-ACM/DBLP2.csv',dtype=str)\n",
    "acm = pd.read_csv('datasets/DBLP-ACM/ACM.csv',dtype=str)"
   ]
  },
  {
   "cell_type": "code",
   "execution_count": null,
   "metadata": {
    "ExecuteTime": {
     "end_time": "2020-03-27T18:40:28.022292Z",
     "start_time": "2020-03-27T18:40:22.364068Z"
    }
   },
   "outputs": [],
   "source": [
    "dblpacm_deeper = load_model('models/DeepER_best_model_100_dblp-acm.h5')\n",
    "dblpacm_deepmatcher = dm.MatchingModel(attr_summarizer='rnn')\n",
    "dblpacm_deepmatcher.load_state('models/dblp_acm_rnn.pth')"
   ]
  },
  {
   "cell_type": "code",
   "execution_count": null,
   "metadata": {
    "ExecuteTime": {
     "end_time": "2020-03-27T18:41:42.872191Z",
     "start_time": "2020-03-27T18:41:23.855582Z"
    }
   },
   "outputs": [],
   "source": [
    "correct_deeper = getCorrectPredictions(augmented_test,dblpacm_deeper,predict_fn_deeper)\n",
    "correct_deepmatcher = getCorrectPredictions(augmented_test,dblpacm_deepmatcher,predict_fn_deepmatcher)"
   ]
  },
  {
   "cell_type": "code",
   "execution_count": null,
   "metadata": {
    "ExecuteTime": {
     "end_time": "2020-03-27T18:43:29.602962Z",
     "start_time": "2020-03-27T18:43:20.645004Z"
    }
   },
   "outputs": [],
   "source": [
    "negrank_deeper,_,_ = explainSamples(correct_deeper,[dblp,acm],dblpacm_deeper,predict_fn_deeper,\n",
    "                                   0,1)"
   ]
  },
  {
   "cell_type": "code",
   "execution_count": null,
   "metadata": {
    "ExecuteTime": {
     "end_time": "2020-03-27T18:46:18.286388Z",
     "start_time": "2020-03-27T18:44:06.456855Z"
    }
   },
   "outputs": [],
   "source": [
    "negrank_deepmatcher,_,_ = explainSamples(correct_deepmatcher,[dblp,acm],dblpacm_deepmatcher,predict_fn_deepmatcher,\n",
    "                                        0,1)"
   ]
  },
  {
   "cell_type": "code",
   "execution_count": null,
   "metadata": {
    "ExecuteTime": {
     "end_time": "2020-03-27T18:48:45.931209Z",
     "start_time": "2020-03-27T18:48:44.937634Z"
    }
   },
   "outputs": [],
   "source": [
    "ax,negrank = aggregateRankings(negrank_deeper,positive=False,maxLenAttributes=1,lenTriangles=599)"
   ]
  },
  {
   "cell_type": "code",
   "execution_count": null,
   "metadata": {
    "ExecuteTime": {
     "end_time": "2020-03-27T18:49:08.470765Z",
     "start_time": "2020-03-27T18:49:08.274625Z"
    }
   },
   "outputs": [],
   "source": [
    "ax,negrank = aggregateRankings(negrank_deepmatcher,positive=False,maxLenAttributes=1,lenTriangles=629)"
   ]
  },
  {
   "cell_type": "code",
   "execution_count": null,
   "metadata": {
    "ExecuteTime": {
     "end_time": "2020-03-27T18:51:20.013850Z",
     "start_time": "2020-03-27T18:51:10.634226Z"
    }
   },
   "outputs": [],
   "source": [
    "posrank_deeper,_,_ = explainSamples(correct_deeper,[dblp,acm],dblpacm_deeper,predict_fn_deeper,\n",
    "                                   1,1)"
   ]
  },
  {
   "cell_type": "code",
   "execution_count": null,
   "metadata": {
    "ExecuteTime": {
     "end_time": "2020-03-27T18:53:37.304450Z",
     "start_time": "2020-03-27T18:51:40.450642Z"
    }
   },
   "outputs": [],
   "source": [
    "posrank_deepmatcher,_,_ = explainSamples(correct_deepmatcher,[dblp,acm],dblpacm_deepmatcher,predict_fn_deepmatcher,\n",
    "                                        1,1)"
   ]
  },
  {
   "cell_type": "code",
   "execution_count": null,
   "metadata": {
    "ExecuteTime": {
     "end_time": "2020-03-27T18:53:47.828098Z",
     "start_time": "2020-03-27T18:53:47.604595Z"
    }
   },
   "outputs": [],
   "source": [
    "ax,posrank = aggregateRankings(posrank_deeper,positive=True,maxLenAttributes=1,lenTriangles=599)"
   ]
  },
  {
   "cell_type": "code",
   "execution_count": null,
   "metadata": {
    "ExecuteTime": {
     "end_time": "2020-03-27T18:54:18.115234Z",
     "start_time": "2020-03-27T18:54:17.900112Z"
    }
   },
   "outputs": [],
   "source": [
    "ax,posrank = aggregateRankings(posrank_deepmatcher,positive=True,maxLenAttributes=1,lenTriangles=629)"
   ]
  },
  {
   "cell_type": "markdown",
   "metadata": {},
   "source": [
    "## Fodors-Zagats"
   ]
  },
  {
   "cell_type": "code",
   "execution_count": null,
   "metadata": {
    "ExecuteTime": {
     "end_time": "2020-03-27T18:58:43.873313Z",
     "start_time": "2020-03-27T18:58:43.806551Z"
    }
   },
   "outputs": [],
   "source": [
    "augmented_test = pd.read_csv('datasets/fodors_zagats/augmented_test.csv')\n",
    "fodors = pd.read_csv('datasets/fodors_zagats/fodors.csv',dtype=str)\n",
    "zagats = pd.read_csv('datasets/fodors_zagats/zagats.csv',dtype=str)"
   ]
  },
  {
   "cell_type": "code",
   "execution_count": null,
   "metadata": {
    "ExecuteTime": {
     "end_time": "2020-03-27T19:00:37.931658Z",
     "start_time": "2020-03-27T19:00:34.710814Z"
    }
   },
   "outputs": [],
   "source": [
    "fodors_deeper = load_model('models/DeepER_best_model_100_fodors-zagats.h5')\n",
    "fodors_deepmatcher = dm.MatchingModel(attr_summarizer='rnn')\n",
    "fodors_deepmatcher.load_state('models/fodors_zagats_rnn.pth')"
   ]
  },
  {
   "cell_type": "code",
   "execution_count": null,
   "metadata": {
    "ExecuteTime": {
     "end_time": "2020-03-27T19:01:22.089634Z",
     "start_time": "2020-03-27T19:01:20.600657Z"
    }
   },
   "outputs": [],
   "source": [
    "correct_deeper = getCorrectPredictions(augmented_test,fodors_deeper,predict_fn_deeper)\n",
    "correct_deepmatcher = getCorrectPredictions(augmented_test,fodors_deepmatcher,predict_fn_deepmatcher)"
   ]
  },
  {
   "cell_type": "code",
   "execution_count": null,
   "metadata": {
    "ExecuteTime": {
     "end_time": "2020-03-27T19:02:05.647779Z",
     "start_time": "2020-03-27T19:02:05.441292Z"
    }
   },
   "outputs": [],
   "source": [
    "negrank_deeper,_,_ = explainSamples(correct_deeper,[fodors,zagats],fodors_deeper,predict_fn_deeper,\n",
    "                                   0,1)"
   ]
  },
  {
   "cell_type": "code",
   "execution_count": null,
   "metadata": {
    "ExecuteTime": {
     "end_time": "2020-03-27T19:02:53.398326Z",
     "start_time": "2020-03-27T19:02:48.153952Z"
    }
   },
   "outputs": [],
   "source": [
    "negrank_deepmatcher,_,_ = explainSamples(correct_deepmatcher,[fodors,zagats],fodors_deepmatcher,predict_fn_deepmatcher,\n",
    "                                        0,1)"
   ]
  },
  {
   "cell_type": "code",
   "execution_count": null,
   "metadata": {
    "ExecuteTime": {
     "end_time": "2020-03-27T19:03:20.279221Z",
     "start_time": "2020-03-27T19:03:20.050315Z"
    }
   },
   "outputs": [],
   "source": [
    "ax,negrank = aggregateRankings(negrank_deepmatcher,positive=False,maxLenAttributes=1,lenTriangles=50)"
   ]
  },
  {
   "cell_type": "code",
   "execution_count": null,
   "metadata": {
    "ExecuteTime": {
     "end_time": "2020-03-27T19:24:51.138410Z",
     "start_time": "2020-03-27T19:24:50.902541Z"
    }
   },
   "outputs": [],
   "source": [
    "ax,negrank = aggregateRankings(negrank_deeper,positive=False,maxLenAttributes=1,lenTriangles=8)"
   ]
  },
  {
   "cell_type": "code",
   "execution_count": null,
   "metadata": {
    "ExecuteTime": {
     "end_time": "2020-03-27T19:25:20.048357Z",
     "start_time": "2020-03-27T19:25:14.790779Z"
    }
   },
   "outputs": [],
   "source": [
    "posrank_deepmatcher,_,_ = explainSamples(correct_deepmatcher,[fodors,zagats],fodors_deepmatcher,predict_fn_deepmatcher,\n",
    "                                        1,1)"
   ]
  },
  {
   "cell_type": "code",
   "execution_count": null,
   "metadata": {
    "ExecuteTime": {
     "end_time": "2020-03-27T19:25:50.175642Z",
     "start_time": "2020-03-27T19:25:49.967154Z"
    }
   },
   "outputs": [],
   "source": [
    "posrank_deeper,_,_ = explainSamples(correct_deeper,[fodors,zagats],fodors_deeper,predict_fn_deeper,\n",
    "                                   1,1)"
   ]
  },
  {
   "cell_type": "code",
   "execution_count": null,
   "metadata": {
    "ExecuteTime": {
     "end_time": "2020-03-27T19:26:28.727720Z",
     "start_time": "2020-03-27T19:26:28.480854Z"
    }
   },
   "outputs": [],
   "source": [
    "ax,posrank = aggregateRankings(posrank_deepmatcher,positive=True,maxLenAttributes=1,lenTriangles=50)"
   ]
  },
  {
   "cell_type": "code",
   "execution_count": null,
   "metadata": {
    "ExecuteTime": {
     "end_time": "2020-03-27T19:26:48.132553Z",
     "start_time": "2020-03-27T19:26:48.055985Z"
    }
   },
   "outputs": [],
   "source": [
    "ax,posrank = aggregateRankings(posrank_deeper,positive=True,maxLenAttributes=1,lenTriangles=8)"
   ]
  },
  {
   "cell_type": "markdown",
   "metadata": {},
   "source": [
    "## Itunes-Amazon"
   ]
  },
  {
   "cell_type": "code",
   "execution_count": null,
   "metadata": {
    "ExecuteTime": {
     "end_time": "2020-03-28T16:40:05.518791Z",
     "start_time": "2020-03-28T16:40:05.462217Z"
    }
   },
   "outputs": [],
   "source": [
    "DATASET_DIR = 'datasets/itunes_amazon/'"
   ]
  },
  {
   "cell_type": "code",
   "execution_count": null,
   "metadata": {
    "ExecuteTime": {
     "end_time": "2020-03-28T16:43:33.246230Z",
     "start_time": "2020-03-28T16:43:33.002495Z"
    }
   },
   "outputs": [],
   "source": [
    "augmented_test = pd.read_csv(DATASET_DIR+'augmented_test.csv')\n",
    "itunes = pd.read_csv(DATASET_DIR+'itunes.csv',dtype=str)\n",
    "amazon = pd.read_csv(DATASET_DIR+'amazon.csv',dtype=str)"
   ]
  },
  {
   "cell_type": "code",
   "execution_count": null,
   "metadata": {
    "ExecuteTime": {
     "end_time": "2020-03-28T16:41:12.131014Z",
     "start_time": "2020-03-28T16:41:07.010274Z"
    }
   },
   "outputs": [],
   "source": [
    "itunes_deeper = load_model('models/DeepER_best_model_100_itunes-amazon.h5')\n",
    "itunes_deepmatcher = dm.MatchingModel(attr_summarizer='rnn')\n",
    "itunes_deepmatcher.load_state('models/itunes_amazon_rnn.pth')"
   ]
  },
  {
   "cell_type": "code",
   "execution_count": null,
   "metadata": {
    "ExecuteTime": {
     "end_time": "2020-03-28T16:41:43.187895Z",
     "start_time": "2020-03-28T16:41:30.560888Z"
    }
   },
   "outputs": [],
   "source": [
    "correct_deeper = getCorrectPredictions(augmented_test,itunes_deeper,predict_fn_deeper)\n",
    "correct_deepmatcher = getCorrectPredictions(augmented_test,itunes_deepmatcher,predict_fn_deepmatcher)"
   ]
  },
  {
   "cell_type": "code",
   "execution_count": null,
   "metadata": {
    "ExecuteTime": {
     "end_time": "2020-03-28T16:43:36.558462Z",
     "start_time": "2020-03-28T16:43:34.442493Z"
    }
   },
   "outputs": [],
   "source": [
    "negrank_deeper,_,_ = explainSamples(correct_deeper,[itunes,amazon],itunes_deeper,predict_fn_deeper,\n",
    "                                   0,1)"
   ]
  },
  {
   "cell_type": "code",
   "execution_count": null,
   "metadata": {
    "ExecuteTime": {
     "end_time": "2020-03-28T16:44:20.536022Z",
     "start_time": "2020-03-28T16:44:07.970244Z"
    }
   },
   "outputs": [],
   "source": [
    "negrank_deepematcher,_,_ = explainSamples(correct_deepmatcher,[itunes,amazon],itunes_deepmatcher,\n",
    "                                         predict_fn_deepmatcher,0,1)"
   ]
  },
  {
   "cell_type": "code",
   "execution_count": null,
   "metadata": {
    "ExecuteTime": {
     "end_time": "2020-03-28T16:44:56.007030Z",
     "start_time": "2020-03-28T16:44:53.825859Z"
    }
   },
   "outputs": [],
   "source": [
    "posrank_deeper,_,_ = explainSamples(correct_deeper,[itunes,amazon],itunes_deeper,predict_fn_deeper,\n",
    "                                   1,1)"
   ]
  },
  {
   "cell_type": "code",
   "execution_count": null,
   "metadata": {
    "ExecuteTime": {
     "end_time": "2020-03-28T16:45:34.711736Z",
     "start_time": "2020-03-28T16:45:21.116012Z"
    }
   },
   "outputs": [],
   "source": [
    "posrank_deepmatcher,_,_ = explainSamples(correct_deepmatcher,[itunes,amazon],itunes_deepmatcher,predict_fn_deepmatcher,\n",
    "                                        1,1)"
   ]
  },
  {
   "cell_type": "code",
   "execution_count": null,
   "metadata": {
    "ExecuteTime": {
     "end_time": "2020-03-28T16:47:30.972656Z",
     "start_time": "2020-03-28T16:47:30.643570Z"
    }
   },
   "outputs": [],
   "source": [
    "ax,negrank = aggregateRankings(negrank_deeper,positive=False,maxLenAttributes=1,lenTriangles=66)"
   ]
  },
  {
   "cell_type": "code",
   "execution_count": null,
   "metadata": {
    "ExecuteTime": {
     "end_time": "2020-03-28T16:49:59.553045Z",
     "start_time": "2020-03-28T16:49:59.285305Z"
    }
   },
   "outputs": [],
   "source": [
    "ax,negrank = aggregateRankings(negrank_deepematcher,positive=False,maxLenAttributes=1,lenTriangles=76)"
   ]
  },
  {
   "cell_type": "code",
   "execution_count": null,
   "metadata": {},
   "outputs": [],
   "source": [
    "ax,posrank = aggregateRankings(posrank_deeper,positive=True,ma)"
   ]
  }
 ],
 "metadata": {
  "kernelspec": {
   "display_name": "Python 3",
   "language": "python",
   "name": "python3"
  },
  "language_info": {
   "codemirror_mode": {
    "name": "ipython",
    "version": 3
   },
   "file_extension": ".py",
   "mimetype": "text/x-python",
   "name": "python",
   "nbconvert_exporter": "python",
   "pygments_lexer": "ipython3",
   "version": "3.6.9"
  },
  "toc": {
   "base_numbering": 1,
   "nav_menu": {},
   "number_sections": true,
   "sideBar": true,
   "skip_h1_title": false,
   "title_cell": "Table of Contents",
   "title_sidebar": "Contents",
   "toc_cell": false,
   "toc_position": {},
   "toc_section_display": true,
   "toc_window_display": true
  }
 },
 "nbformat": 4,
 "nbformat_minor": 4
}
