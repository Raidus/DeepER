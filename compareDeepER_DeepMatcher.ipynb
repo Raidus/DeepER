{
 "cells": [
  {
   "cell_type": "code",
   "execution_count": 4,
   "metadata": {
    "ExecuteTime": {
     "end_time": "2020-06-06T12:24:12.960184Z",
     "start_time": "2020-06-06T12:24:12.807187Z"
    }
   },
   "outputs": [],
   "source": [
    "import matplotlib as mpl\n",
    "mpl.rcParams['figure.dpi'] = 300"
   ]
  },
  {
   "cell_type": "code",
   "execution_count": 5,
   "metadata": {
    "ExecuteTime": {
     "end_time": "2020-06-06T12:24:13.043027Z",
     "start_time": "2020-06-06T12:24:13.023275Z"
    }
   },
   "outputs": [],
   "source": [
    "%load_ext autoreload\n",
    "%autoreload 2"
   ]
  },
  {
   "cell_type": "code",
   "execution_count": 6,
   "metadata": {
    "ExecuteTime": {
     "end_time": "2020-06-06T12:24:15.585491Z",
     "start_time": "2020-06-06T12:24:13.248669Z"
    }
   },
   "outputs": [
    {
     "name": "stderr",
     "output_type": "stream",
     "text": [
      "Using TensorFlow backend.\n"
     ]
    }
   ],
   "source": [
    "from deeper.deeper_utils import wrap_deeper\n",
    "import pandas as pd\n",
    "import numpy as np\n",
    "from erexplain import explainSamples\n",
    "import os,contextlib,random,string\n",
    "import deepmatcher as dm\n",
    "from keras.models import load_model\n",
    "from deeper.DeepER import init_embeddings_model"
   ]
  },
  {
   "cell_type": "markdown",
   "metadata": {},
   "source": [
    "## Prelimary operations"
   ]
  },
  {
   "cell_type": "code",
   "execution_count": 7,
   "metadata": {
    "ExecuteTime": {
     "end_time": "2020-06-06T12:24:15.654809Z",
     "start_time": "2020-06-06T12:24:15.588685Z"
    }
   },
   "outputs": [],
   "source": [
    "def wrapDm(test_df,model,ignore_columns=['label'],outputAttributes=False,batch_size=32):\n",
    "    data = test_df.copy().drop([c for c in ignore_columns if c in test_df.columns],axis=1)\n",
    "    if not('id' in data.columns):\n",
    "        data['id'] = np.arange(len(data))\n",
    "    tmp_name = \"./{}.csv\".format(\"\".join([random.choice(string.ascii_lowercase) for _ in range(10)]))\n",
    "    data.to_csv(tmp_name,index=False)\n",
    "    with open(os.devnull, 'w') as devnull:\n",
    "        with contextlib.redirect_stdout(devnull):\n",
    "            data_processed = dm.data.process_unlabeled(tmp_name, trained_model = model)\n",
    "            predictions = model.run_prediction(data_processed, output_attributes = outputAttributes,\\\n",
    "                                              batch_size=batch_size)\n",
    "            out_proba = predictions['match_score'].values\n",
    "    multi_proba = np.dstack((1-out_proba, out_proba)).squeeze()\n",
    "    os.remove(tmp_name)\n",
    "    if outputAttributes:\n",
    "        return predictions\n",
    "    else:\n",
    "        return multi_proba"
   ]
  },
  {
   "cell_type": "code",
   "execution_count": 8,
   "metadata": {
    "ExecuteTime": {
     "end_time": "2020-06-06T12:26:55.702255Z",
     "start_time": "2020-06-06T12:24:15.657180Z"
    }
   },
   "outputs": [
    {
     "name": "stdout",
     "output_type": "stream",
     "text": [
      "* Costruzione indice degli embeddings.....Fatto. 2196016 embeddings totali.\n",
      "* Inizializzo il tokenizzatore.....Fatto: 1131743 parole totali.\n",
      "* Preparazione della matrice di embedding.....Fatto. Dimensioni matrice embeddings: (1131744, 300)\n",
      "\n",
      "°°° EMBEDDING MODEL °°°\n",
      "Model: \"model_1\"\n",
      "__________________________________________________________________________________________________\n",
      "Layer (type)                    Output Shape         Param #     Connected to                     \n",
      "==================================================================================================\n",
      "Tupla_A (InputLayer)            (None, None)         0                                            \n",
      "__________________________________________________________________________________________________\n",
      "Tupla_B (InputLayer)            (None, None)         0                                            \n",
      "__________________________________________________________________________________________________\n",
      "Embedding_lookup (Embedding)    (None, None, 300)    339523200   Tupla_A[0][0]                    \n",
      "                                                                 Tupla_B[0][0]                    \n",
      "==================================================================================================\n",
      "Total params: 339,523,200\n",
      "Trainable params: 0\n",
      "Non-trainable params: 339,523,200\n",
      "__________________________________________________________________________________________________\n"
     ]
    }
   ],
   "source": [
    "# Caricamento strutture dati e modelli ausiliari.\n",
    "EMBEDDING_FILEPATH ='embeddings/glove.840B.300d.txt'\n",
    "embeddings_model, tokenizer = init_embeddings_model(EMBEDDING_FILEPATH)"
   ]
  },
  {
   "cell_type": "code",
   "execution_count": 9,
   "metadata": {
    "ExecuteTime": {
     "end_time": "2020-06-06T12:26:55.778547Z",
     "start_time": "2020-06-06T12:26:55.743276Z"
    }
   },
   "outputs": [],
   "source": [
    "predict_fn_deeper = lambda data,model,ignore: wrap_deeper(data,'ltable_','rtable_',model,tokenizer,embeddings_model,\n",
    "                                                  ignore_columns=ignore)"
   ]
  },
  {
   "cell_type": "code",
   "execution_count": 10,
   "metadata": {
    "ExecuteTime": {
     "end_time": "2020-06-06T12:26:55.801259Z",
     "start_time": "2020-06-06T12:26:55.780151Z"
    }
   },
   "outputs": [],
   "source": [
    "predict_fn_deepmatcher = lambda data,model,ignore: wrapDm(data,model,ignore_columns=ignore)"
   ]
  },
  {
   "cell_type": "code",
   "execution_count": 11,
   "metadata": {
    "ExecuteTime": {
     "end_time": "2020-06-06T12:26:55.824245Z",
     "start_time": "2020-06-06T12:26:55.802710Z"
    }
   },
   "outputs": [],
   "source": [
    "def formatId(sampleid):\n",
    "    leftid = sampleid.split(\"#\")[0]\n",
    "    rightid = sampleid.split(\"#\")[1]\n",
    "    return \"0@\"+leftid+\"#\"+\"1@\"+rightid"
   ]
  },
  {
   "cell_type": "code",
   "execution_count": 12,
   "metadata": {
    "ExecuteTime": {
     "end_time": "2020-06-06T12:26:55.846836Z",
     "start_time": "2020-06-06T12:26:55.825815Z"
    }
   },
   "outputs": [],
   "source": [
    "def getCorrectPredictions(df,model,predict_fn):\n",
    "    predictions = np.argmax(predict_fn(df,model,['label','id']),axis=1)\n",
    "    return df[predictions==df.label.values]"
   ]
  },
  {
   "cell_type": "code",
   "execution_count": 13,
   "metadata": {
    "ExecuteTime": {
     "end_time": "2020-06-06T12:26:55.871760Z",
     "start_time": "2020-06-06T12:26:55.848655Z"
    }
   },
   "outputs": [],
   "source": [
    "def saveExplanationResult(directory2save,model_type,dataset_name,posrank,negrank,flippedpos,flippedneg):\n",
    "    if not(os.path.exists(os.path.join(directory2save,model_type,dataset_name))):\n",
    "        saving_directory = (os.path.join(directory2save,model_type,dataset_name))\n",
    "        os.mkdir(saving_directory)\n",
    "    else:\n",
    "        saving_directory = (os.path.join(directory2save,model_type,dataset_name))\n",
    "    posrank.to_csv(os.path.join(saving_directory,'pos_rankings.csv'))\n",
    "    negrank.to_csv(os.path.join(saving_directory,'neg_rankings.csv'))\n",
    "    flippedneg.to_csv(os.path.join(saving_directory,'flipped_neg.csv'),index=False)\n",
    "    flippedpos.to_csv(os.path.join(saving_directory,'flipped_pos.csv'),index=False)"
   ]
  },
  {
   "cell_type": "markdown",
   "metadata": {},
   "source": [
    "## BeerAdvo-Ratebeer"
   ]
  },
  {
   "cell_type": "code",
   "execution_count": 13,
   "metadata": {
    "ExecuteTime": {
     "end_time": "2020-06-05T18:24:29.539492Z",
     "start_time": "2020-06-05T18:24:29.461307Z"
    }
   },
   "outputs": [],
   "source": [
    "augmented_test = pd.read_csv('datasets/beeradvo_ratebeer/augmented_test.csv')\n",
    "beeradvo = pd.read_csv('datasets/beeradvo_ratebeer/Beeradvo.csv',dtype=str)\n",
    "ratebeer = pd.read_csv('datasets/beeradvo_ratebeer/Ratebeer.csv',dtype=str)"
   ]
  },
  {
   "cell_type": "code",
   "execution_count": 14,
   "metadata": {
    "ExecuteTime": {
     "end_time": "2020-06-05T18:24:54.319104Z",
     "start_time": "2020-06-05T18:24:54.260885Z"
    }
   },
   "outputs": [],
   "source": [
    "augmented_test['id'] = augmented_test['id'].apply(lambda sampleid:formatId(sampleid))"
   ]
  },
  {
   "cell_type": "code",
   "execution_count": 15,
   "metadata": {
    "ExecuteTime": {
     "end_time": "2020-06-05T18:25:03.546101Z",
     "start_time": "2020-06-05T18:24:59.579055Z"
    }
   },
   "outputs": [],
   "source": [
    "beer_deepmatcher = dm.MatchingModel(attr_summarizer='rnn')\n",
    "beer_deepmatcher.load_state('models/beeradvo_ratebeer_rnn.pth')\n",
    "beer_deeper = load_model('models/DeepER_best_model_100_beeradvo-ratebeer.h5')"
   ]
  },
  {
   "cell_type": "code",
   "execution_count": 25,
   "metadata": {
    "ExecuteTime": {
     "end_time": "2020-06-05T18:28:33.774074Z",
     "start_time": "2020-06-05T18:28:33.110689Z"
    }
   },
   "outputs": [],
   "source": [
    "correct_preds_deeper = getCorrectPredictions(augmented_test,beer_deeper,predict_fn_deeper)"
   ]
  },
  {
   "cell_type": "code",
   "execution_count": 26,
   "metadata": {
    "ExecuteTime": {
     "end_time": "2020-06-05T18:28:39.518075Z",
     "start_time": "2020-06-05T18:28:38.985367Z"
    }
   },
   "outputs": [
    {
     "name": "stderr",
     "output_type": "stream",
     "text": [
      "100%|██████████| 20/20 [00:00<00:00, 43.37it/s]\n"
     ]
    }
   ],
   "source": [
    "negrank_deeper,flippedneg_deeper = explainSamples(correct_preds_deeper,[beeradvo,ratebeer],beer_deeper,predict_fn_deeper,\n",
    "                                 0,3)"
   ]
  },
  {
   "cell_type": "code",
   "execution_count": 32,
   "metadata": {
    "ExecuteTime": {
     "end_time": "2020-06-05T18:29:29.496773Z",
     "start_time": "2020-06-05T18:29:28.928626Z"
    }
   },
   "outputs": [
    {
     "name": "stderr",
     "output_type": "stream",
     "text": [
      "100%|██████████| 20/20 [00:00<00:00, 40.63it/s]\n"
     ]
    }
   ],
   "source": [
    "posrank_deeper,flippedpos_deeper = explainSamples(correct_preds_deeper,[beeradvo,ratebeer],beer_deeper,predict_fn_deeper,\n",
    "                                 1,3)"
   ]
  },
  {
   "cell_type": "code",
   "execution_count": 28,
   "metadata": {
    "ExecuteTime": {
     "end_time": "2020-06-05T18:28:58.945110Z",
     "start_time": "2020-06-05T18:28:58.518549Z"
    }
   },
   "outputs": [],
   "source": [
    "correct_preds_deepmatcher = getCorrectPredictions(augmented_test,beer_deepmatcher,predict_fn_deepmatcher)"
   ]
  },
  {
   "cell_type": "code",
   "execution_count": 29,
   "metadata": {
    "ExecuteTime": {
     "end_time": "2020-06-05T18:29:02.854752Z",
     "start_time": "2020-06-05T18:28:59.539135Z"
    }
   },
   "outputs": [
    {
     "name": "stderr",
     "output_type": "stream",
     "text": [
      "100%|██████████| 31/31 [00:03<00:00,  9.62it/s]\n"
     ]
    }
   ],
   "source": [
    "negrank_deepmatcher,flippedneg_deepmatcher = explainSamples(correct_preds_deepmatcher,[beeradvo,ratebeer],\n",
    "                                                            beer_deepmatcher,predict_fn_deepmatcher,0,3)"
   ]
  },
  {
   "cell_type": "code",
   "execution_count": 30,
   "metadata": {
    "ExecuteTime": {
     "end_time": "2020-06-05T18:29:06.512404Z",
     "start_time": "2020-06-05T18:29:02.858168Z"
    }
   },
   "outputs": [
    {
     "name": "stderr",
     "output_type": "stream",
     "text": [
      "100%|██████████| 31/31 [00:03<00:00,  8.70it/s]\n"
     ]
    }
   ],
   "source": [
    "posrank_deepmatcher,flippedpos_deepmatcher = explainSamples(correct_preds_deepmatcher,[beeradvo,ratebeer],beer_deepmatcher,\n",
    "                                                           predict_fn_deepmatcher,1,3)"
   ]
  },
  {
   "cell_type": "code",
   "execution_count": 21,
   "metadata": {
    "ExecuteTime": {
     "end_time": "2020-06-05T18:26:16.252727Z",
     "start_time": "2020-06-05T18:26:15.805468Z"
    }
   },
   "outputs": [
    {
     "data": {
      "text/plain": [
       "<matplotlib.axes._subplots.AxesSubplot at 0x7f1014121a60>"
      ]
     },
     "execution_count": 21,
     "metadata": {},
     "output_type": "execute_result"
    },
    {
     "data": {
      "image/png": "[encoded data removed]",
      "text/plain": [
       "<Figure size 432x288 with 1 Axes>"
      ]
     },
     "metadata": {
      "needs_background": "light"
     },
     "output_type": "display_data"
    }
   ],
   "source": [
    "negrank_deepmatcher[0:10].plot.barh(color='red',grid=True)"
   ]
  },
  {
   "cell_type": "code",
   "execution_count": 22,
   "metadata": {
    "ExecuteTime": {
     "end_time": "2020-06-05T18:26:33.799641Z",
     "start_time": "2020-06-05T18:26:33.517920Z"
    }
   },
   "outputs": [
    {
     "data": {
      "text/plain": [
       "<matplotlib.axes._subplots.AxesSubplot at 0x7f1009b6ae50>"
      ]
     },
     "execution_count": 22,
     "metadata": {},
     "output_type": "execute_result"
    },
    {
     "data": {
      "image/png": "[encoded data removed]",
      "text/plain": [
       "<Figure size 432x288 with 1 Axes>"
      ]
     },
     "metadata": {
      "needs_background": "light"
     },
     "output_type": "display_data"
    }
   ],
   "source": [
    "posrank_deepmatcher[0:10].plot.barh(color='green',grid=True)"
   ]
  },
  {
   "cell_type": "code",
   "execution_count": 34,
   "metadata": {
    "ExecuteTime": {
     "end_time": "2020-06-05T18:29:51.175086Z",
     "start_time": "2020-06-05T18:29:50.896444Z"
    }
   },
   "outputs": [
    {
     "data": {
      "text/plain": [
       "<matplotlib.axes._subplots.AxesSubplot at 0x7f0ff74bcc40>"
      ]
     },
     "execution_count": 34,
     "metadata": {},
     "output_type": "execute_result"
    },
    {
     "data": {
      "image/png": "[encoded data removed]",
      "text/plain": [
       "<Figure size 432x288 with 1 Axes>"
      ]
     },
     "metadata": {
      "needs_background": "light"
     },
     "output_type": "display_data"
    }
   ],
   "source": [
    "negrank_deeper[0:10].plot.barh(color='red',grid=True)"
   ]
  },
  {
   "cell_type": "code",
   "execution_count": 33,
   "metadata": {
    "ExecuteTime": {
     "end_time": "2020-06-05T18:29:32.547828Z",
     "start_time": "2020-06-05T18:29:32.274798Z"
    }
   },
   "outputs": [
    {
     "data": {
      "text/plain": [
       "<matplotlib.axes._subplots.AxesSubplot at 0x7f0ff0de5dc0>"
      ]
     },
     "execution_count": 33,
     "metadata": {},
     "output_type": "execute_result"
    },
    {
     "data": {
      "image/png": "[encoded data removed]",
      "text/plain": [
       "<Figure size 432x288 with 1 Axes>"
      ]
     },
     "metadata": {
      "needs_background": "light"
     },
     "output_type": "display_data"
    }
   ],
   "source": [
    "posrank_deeper[0:10].plot.barh(color='green',grid=True)"
   ]
  },
  {
   "cell_type": "code",
   "execution_count": 38,
   "metadata": {
    "ExecuteTime": {
     "end_time": "2020-06-05T18:36:07.445698Z",
     "start_time": "2020-06-05T18:36:07.365168Z"
    }
   },
   "outputs": [],
   "source": [
    "posrank_deepmatcher.to_csv('rankings/deepmatcher/beer_pos_rankings.csv')\n",
    "negrank_deepmatcher.to_csv('rankings/deepmatcher/beer_neg_rankings.csv')\n",
    "posrank_deeper.to_csv('rankings/deeper/beer_pos_rankings.csv')\n",
    "negrank_deeper.to_csv('rankings/deeper/beer_neg_rankings.csv')"
   ]
  },
  {
   "cell_type": "code",
   "execution_count": 35,
   "metadata": {
    "ExecuteTime": {
     "end_time": "2020-06-05T18:33:45.538425Z",
     "start_time": "2020-06-05T18:33:45.468445Z"
    }
   },
   "outputs": [],
   "source": [
    "flippedneg_deeper.to_csv('rankings/deeper/beer_flippedneg_deeper.csv',index=False)\n",
    "flippedneg_deepmatcher.to_csv('rankings/deeper/beer_flippedneg_deepmatcher.csv',index=False)\n",
    "flippedpos_deeper.to_csv('rankings/beer_flippepos_deeper.csv',index=False)\n",
    "flippedpos_deepmatcher.to_csv('rankings/beer_flippedpos_deepmatcher.csv',index=False)"
   ]
  },
  {
   "cell_type": "markdown",
   "metadata": {},
   "source": [
    "## Walmart-Amazon"
   ]
  },
  {
   "cell_type": "code",
   "execution_count": 10,
   "metadata": {
    "ExecuteTime": {
     "end_time": "2020-06-06T08:32:41.935531Z",
     "start_time": "2020-06-06T08:32:41.759459Z"
    }
   },
   "outputs": [],
   "source": [
    "augmented_test = pd.read_csv('datasets/walmart_amazon/augmented_test.csv')\n",
    "walmart = pd.read_csv('datasets/walmart_amazon/walmart.csv',dtype=str)\n",
    "amazon = pd.read_csv('datasets/walmart_amazon/amazon.csv',dtype=str)"
   ]
  },
  {
   "cell_type": "code",
   "execution_count": 12,
   "metadata": {
    "ExecuteTime": {
     "end_time": "2020-06-06T08:33:07.097586Z",
     "start_time": "2020-06-06T08:33:07.039124Z"
    }
   },
   "outputs": [],
   "source": [
    "augmented_test['id'] = augmented_test['id'].apply(lambda sampleid:formatId(sampleid))"
   ]
  },
  {
   "cell_type": "code",
   "execution_count": 13,
   "metadata": {
    "ExecuteTime": {
     "end_time": "2020-06-06T08:33:12.214740Z",
     "start_time": "2020-06-06T08:33:07.801203Z"
    }
   },
   "outputs": [],
   "source": [
    "walmart_deepmatcher = dm.MatchingModel(attr_summarizer='rnn')\n",
    "walmart_deepmatcher.load_state('models/walmart_amazon_rnn.pth')\n",
    "walmart_deeper = load_model('models/DeepER_best_model_100_walmart-amazon.h5')"
   ]
  },
  {
   "cell_type": "code",
   "execution_count": 16,
   "metadata": {
    "ExecuteTime": {
     "end_time": "2020-06-06T08:34:10.619006Z",
     "start_time": "2020-06-06T08:34:06.159066Z"
    }
   },
   "outputs": [],
   "source": [
    "corrects_deepmatcher = getCorrectPredictions(augmented_test,walmart_deepmatcher,predict_fn_deepmatcher)"
   ]
  },
  {
   "cell_type": "code",
   "execution_count": 22,
   "metadata": {
    "ExecuteTime": {
     "end_time": "2020-06-06T08:44:12.121833Z",
     "start_time": "2020-06-06T08:44:10.712952Z"
    }
   },
   "outputs": [],
   "source": [
    "corrects_deeper = getCorrectPredictions(augmented_test,walmart_deeper,predict_fn_deeper)"
   ]
  },
  {
   "cell_type": "code",
   "execution_count": 19,
   "metadata": {
    "ExecuteTime": {
     "end_time": "2020-06-06T08:36:21.077004Z",
     "start_time": "2020-06-06T08:34:52.408699Z"
    }
   },
   "outputs": [
    {
     "name": "stderr",
     "output_type": "stream",
     "text": [
      "\n",
      "  0%|          | 0/522 [00:00<?, ?it/s]\u001b[A\n",
      "  0%|          | 1/522 [00:00<01:27,  5.97it/s]\u001b[A\n",
      "  0%|          | 2/522 [00:00<01:29,  5.84it/s]\u001b[A\n",
      "  1%|          | 3/522 [00:00<01:29,  5.77it/s]\u001b[A\n",
      "  1%|          | 4/522 [00:00<01:27,  5.90it/s]\u001b[A\n",
      "  1%|          | 5/522 [00:00<01:30,  5.71it/s]\u001b[A\n",
      "  1%|          | 6/522 [00:01<01:28,  5.86it/s]\u001b[A\n",
      "  1%|▏         | 7/522 [00:01<01:27,  5.89it/s]\u001b[A\n",
      "  2%|▏         | 8/522 [00:01<01:26,  5.94it/s]\u001b[A\n",
      "  2%|▏         | 9/522 [00:01<01:25,  5.99it/s]\u001b[A\n",
      "  2%|▏         | 10/522 [00:01<01:27,  5.88it/s]\u001b[A\n",
      "  2%|▏         | 11/522 [00:01<01:24,  6.07it/s]\u001b[A\n",
      "  2%|▏         | 12/522 [00:02<01:24,  6.04it/s]\u001b[A\n",
      "  2%|▏         | 13/522 [00:02<01:23,  6.07it/s]\u001b[A\n",
      "  3%|▎         | 14/522 [00:02<01:22,  6.17it/s]\u001b[A\n",
      "  3%|▎         | 15/522 [00:02<01:21,  6.24it/s]\u001b[A\n",
      "  3%|▎         | 16/522 [00:02<01:20,  6.32it/s]\u001b[A\n",
      "  3%|▎         | 17/522 [00:02<01:20,  6.25it/s]\u001b[A\n",
      "  3%|▎         | 18/522 [00:02<01:22,  6.08it/s]\u001b[A\n",
      "  4%|▎         | 19/522 [00:03<01:24,  5.95it/s]\u001b[A\n",
      "  4%|▍         | 20/522 [00:03<01:25,  5.86it/s]\u001b[A\n",
      "  4%|▍         | 21/522 [00:03<01:21,  6.12it/s]\u001b[A\n",
      "  4%|▍         | 22/522 [00:03<01:20,  6.18it/s]\u001b[A\n",
      "  4%|▍         | 23/522 [00:03<01:18,  6.32it/s]\u001b[A\n",
      "  5%|▍         | 24/522 [00:03<01:17,  6.40it/s]\u001b[A\n",
      "  5%|▍         | 25/522 [00:04<01:16,  6.46it/s]\u001b[A\n",
      "  5%|▍         | 26/522 [00:04<01:13,  6.78it/s]\u001b[A\n",
      "  5%|▌         | 27/522 [00:04<01:13,  6.75it/s]\u001b[A\n",
      "  5%|▌         | 28/522 [00:04<01:13,  6.71it/s]\u001b[A\n",
      "  6%|▌         | 29/522 [00:04<01:15,  6.53it/s]\u001b[A\n",
      "  6%|▌         | 30/522 [00:04<01:17,  6.38it/s]\u001b[A\n",
      "  6%|▌         | 31/522 [00:05<01:17,  6.37it/s]\u001b[A\n",
      "  6%|▌         | 32/522 [00:05<01:15,  6.52it/s]\u001b[A\n",
      "  6%|▋         | 33/522 [00:05<01:15,  6.47it/s]\u001b[A\n",
      "  7%|▋         | 34/522 [00:05<01:14,  6.51it/s]\u001b[A\n",
      "  7%|▋         | 35/522 [00:05<01:14,  6.54it/s]\u001b[A\n",
      "  7%|▋         | 36/522 [00:05<01:16,  6.38it/s]\u001b[A\n",
      "  7%|▋         | 37/522 [00:05<01:16,  6.31it/s]\u001b[A\n",
      "  7%|▋         | 38/522 [00:06<01:16,  6.37it/s]\u001b[A\n",
      "  7%|▋         | 39/522 [00:06<01:17,  6.26it/s]\u001b[A\n",
      "  8%|▊         | 40/522 [00:06<01:16,  6.28it/s]\u001b[A\n",
      "  8%|▊         | 41/522 [00:06<01:16,  6.25it/s]\u001b[A\n",
      "  8%|▊         | 42/522 [00:06<01:18,  6.15it/s]\u001b[A\n",
      "  8%|▊         | 43/522 [00:06<01:12,  6.57it/s]\u001b[A\n",
      "  8%|▊         | 44/522 [00:07<01:12,  6.61it/s]\u001b[A\n",
      "  9%|▊         | 45/522 [00:07<01:15,  6.35it/s]\u001b[A\n",
      "  9%|▉         | 46/522 [00:07<01:18,  6.09it/s]\u001b[A\n",
      "  9%|▉         | 47/522 [00:07<01:17,  6.11it/s]\u001b[A\n",
      "  9%|▉         | 48/522 [00:07<01:17,  6.11it/s]\u001b[A\n",
      "  9%|▉         | 49/522 [00:07<01:16,  6.16it/s]\u001b[A\n",
      " 10%|▉         | 50/522 [00:08<01:16,  6.19it/s]\u001b[A\n",
      " 10%|▉         | 51/522 [00:08<01:15,  6.20it/s]\u001b[A\n",
      " 10%|▉         | 52/522 [00:08<01:14,  6.29it/s]\u001b[A\n",
      " 10%|█         | 53/522 [00:08<01:12,  6.43it/s]\u001b[A\n",
      " 10%|█         | 54/522 [00:08<01:15,  6.20it/s]\u001b[A\n",
      " 11%|█         | 55/522 [00:08<01:17,  6.04it/s]\u001b[A\n",
      " 11%|█         | 56/522 [00:09<01:17,  6.02it/s]\u001b[A\n",
      " 11%|█         | 57/522 [00:09<01:17,  6.02it/s]\u001b[A\n",
      " 11%|█         | 58/522 [00:09<01:16,  6.04it/s]\u001b[A\n",
      " 11%|█▏        | 59/522 [00:09<01:17,  5.97it/s]\u001b[A\n",
      " 11%|█▏        | 60/522 [00:09<01:18,  5.88it/s]\u001b[A\n",
      " 12%|█▏        | 61/522 [00:09<01:17,  5.97it/s]\u001b[A\n",
      " 12%|█▏        | 62/522 [00:10<01:16,  6.02it/s]\u001b[A\n",
      " 12%|█▏        | 63/522 [00:10<01:15,  6.04it/s]\u001b[A\n",
      " 12%|█▏        | 64/522 [00:10<01:15,  6.05it/s]\u001b[A\n",
      " 12%|█▏        | 65/522 [00:10<01:16,  5.99it/s]\u001b[A\n",
      " 13%|█▎        | 66/522 [00:10<01:17,  5.89it/s]\u001b[A\n",
      " 13%|█▎        | 67/522 [00:10<01:17,  5.88it/s]\u001b[A\n",
      " 13%|█▎        | 68/522 [00:11<01:16,  5.96it/s]\u001b[A\n",
      " 13%|█▎        | 69/522 [00:11<01:16,  5.92it/s]\u001b[A\n",
      " 13%|█▎        | 70/522 [00:11<01:15,  5.96it/s]\u001b[A\n",
      " 14%|█▎        | 71/522 [00:11<01:14,  6.08it/s]\u001b[A\n",
      " 14%|█▍        | 72/522 [00:11<01:12,  6.19it/s]\u001b[A\n",
      " 14%|█▍        | 73/522 [00:11<01:11,  6.28it/s]\u001b[A\n",
      " 14%|█▍        | 74/522 [00:12<01:13,  6.11it/s]\u001b[A\n",
      " 14%|█▍        | 75/522 [00:12<01:12,  6.19it/s]\u001b[A\n",
      " 15%|█▍        | 76/522 [00:12<01:13,  6.11it/s]\u001b[A\n",
      " 15%|█▍        | 77/522 [00:12<01:13,  6.02it/s]\u001b[A\n",
      " 15%|█▍        | 78/522 [00:12<01:14,  5.94it/s]\u001b[A\n",
      " 15%|█▌        | 79/522 [00:12<01:13,  6.04it/s]\u001b[A\n",
      " 15%|█▌        | 80/522 [00:12<01:12,  6.08it/s]\u001b[A\n",
      " 16%|█▌        | 81/522 [00:13<01:13,  5.98it/s]\u001b[A\n",
      " 16%|█▌        | 82/522 [00:13<01:11,  6.19it/s]\u001b[A\n",
      " 16%|█▌        | 83/522 [00:13<01:10,  6.19it/s]\u001b[A\n",
      " 16%|█▌        | 84/522 [00:13<01:11,  6.15it/s]\u001b[A\n",
      " 16%|█▋        | 85/522 [00:13<01:13,  5.94it/s]\u001b[A\n",
      " 16%|█▋        | 86/522 [00:13<01:13,  5.94it/s]\u001b[A\n",
      " 17%|█▋        | 87/522 [00:14<01:16,  5.70it/s]\u001b[A\n",
      " 17%|█▋        | 88/522 [00:14<01:15,  5.75it/s]\u001b[A\n",
      " 17%|█▋        | 89/522 [00:14<01:12,  5.97it/s]\u001b[A\n",
      " 17%|█▋        | 90/522 [00:14<01:12,  6.00it/s]\u001b[A\n",
      " 17%|█▋        | 91/522 [00:14<01:11,  6.00it/s]\u001b[A\n",
      " 18%|█▊        | 92/522 [00:15<01:13,  5.89it/s]\u001b[A\n",
      " 18%|█▊        | 93/522 [00:15<01:12,  5.92it/s]\u001b[A\n",
      " 18%|█▊        | 94/522 [00:15<01:10,  6.06it/s]\u001b[A\n",
      " 18%|█▊        | 95/522 [00:15<01:10,  6.02it/s]\u001b[A\n",
      " 18%|█▊        | 96/522 [00:15<01:10,  6.07it/s]\u001b[A\n",
      " 19%|█▊        | 97/522 [00:15<01:09,  6.14it/s]\u001b[A\n",
      " 19%|█▉        | 98/522 [00:15<01:09,  6.12it/s]\u001b[A\n",
      " 19%|█▉        | 99/522 [00:16<01:05,  6.50it/s]\u001b[A\n",
      " 19%|█▉        | 100/522 [00:16<01:03,  6.64it/s]\u001b[A\n",
      " 19%|█▉        | 101/522 [00:16<01:02,  6.76it/s]\u001b[A\n",
      " 20%|█▉        | 102/522 [00:16<01:04,  6.52it/s]\u001b[A\n",
      " 20%|█▉        | 103/522 [00:16<01:05,  6.38it/s]\u001b[A\n",
      " 20%|█▉        | 104/522 [00:16<01:07,  6.23it/s]\u001b[A\n",
      " 20%|██        | 105/522 [00:17<01:09,  6.01it/s]\u001b[A\n",
      " 20%|██        | 106/522 [00:17<01:08,  6.04it/s]\u001b[A\n",
      " 20%|██        | 107/522 [00:17<01:08,  6.05it/s]\u001b[A\n",
      " 21%|██        | 108/522 [00:17<01:08,  6.01it/s]\u001b[A\n",
      " 21%|██        | 109/522 [00:17<01:08,  5.99it/s]\u001b[A\n",
      " 21%|██        | 110/522 [00:17<01:08,  6.05it/s]\u001b[A\n",
      " 21%|██▏       | 111/522 [00:18<01:06,  6.15it/s]\u001b[A\n",
      " 21%|██▏       | 112/522 [00:18<01:07,  6.08it/s]\u001b[A\n",
      " 22%|██▏       | 113/522 [00:18<01:07,  6.03it/s]\u001b[A\n",
      " 22%|██▏       | 114/522 [00:18<01:07,  6.02it/s]\u001b[A\n",
      " 22%|██▏       | 115/522 [00:18<01:08,  5.97it/s]\u001b[A\n",
      " 22%|██▏       | 116/522 [00:18<01:07,  6.03it/s]\u001b[A\n",
      " 22%|██▏       | 117/522 [00:19<01:07,  5.97it/s]\u001b[A\n",
      " 23%|██▎       | 118/522 [00:19<01:08,  5.89it/s]\u001b[A\n",
      " 23%|██▎       | 119/522 [00:19<01:10,  5.74it/s]\u001b[A\n",
      " 23%|██▎       | 120/522 [00:19<01:09,  5.80it/s]\u001b[A\n",
      " 23%|██▎       | 121/522 [00:19<01:11,  5.63it/s]\u001b[A\n",
      " 23%|██▎       | 122/522 [00:19<01:13,  5.43it/s]\u001b[A\n",
      " 24%|██▎       | 123/522 [00:20<01:14,  5.33it/s]\u001b[A\n",
      " 24%|██▍       | 124/522 [00:20<01:12,  5.50it/s]\u001b[A\n",
      " 24%|██▍       | 125/522 [00:20<01:09,  5.67it/s]\u001b[A\n",
      " 24%|██▍       | 126/522 [00:20<01:07,  5.84it/s]\u001b[A\n",
      " 24%|██▍       | 127/522 [00:20<01:10,  5.62it/s]\u001b[A\n",
      " 25%|██▍       | 128/522 [00:21<01:08,  5.78it/s]\u001b[A\n",
      " 25%|██▍       | 129/522 [00:21<01:07,  5.85it/s]\u001b[A\n",
      " 25%|██▍       | 130/522 [00:21<01:05,  5.98it/s]\u001b[A\n",
      " 25%|██▌       | 131/522 [00:21<01:04,  6.07it/s]\u001b[A\n",
      " 25%|██▌       | 132/522 [00:21<01:05,  5.92it/s]\u001b[A\n",
      " 25%|██▌       | 133/522 [00:21<01:04,  6.01it/s]\u001b[A\n",
      " 26%|██▌       | 134/522 [00:22<01:03,  6.11it/s]\u001b[A\n",
      " 26%|██▌       | 135/522 [00:22<01:04,  5.97it/s]\u001b[A\n",
      " 26%|██▌       | 136/522 [00:22<01:04,  6.02it/s]\u001b[A\n",
      " 26%|██▌       | 137/522 [00:22<01:03,  6.04it/s]\u001b[A\n",
      " 26%|██▋       | 138/522 [00:22<01:03,  6.04it/s]\u001b[A\n",
      " 27%|██▋       | 139/522 [00:22<01:04,  5.94it/s]\u001b[A\n",
      " 27%|██▋       | 140/522 [00:23<01:02,  6.11it/s]\u001b[A\n",
      " 27%|██▋       | 141/522 [00:23<01:00,  6.30it/s]\u001b[A\n",
      " 27%|██▋       | 142/522 [00:23<01:00,  6.31it/s]\u001b[A\n",
      " 27%|██▋       | 143/522 [00:23<00:59,  6.39it/s]\u001b[A\n",
      " 28%|██▊       | 144/522 [00:23<00:59,  6.40it/s]\u001b[A\n",
      " 28%|██▊       | 145/522 [00:23<01:00,  6.28it/s]\u001b[A\n",
      " 28%|██▊       | 146/522 [00:23<01:00,  6.23it/s]\u001b[A\n",
      " 28%|██▊       | 147/522 [00:24<01:00,  6.15it/s]\u001b[A\n",
      " 28%|██▊       | 148/522 [00:24<01:01,  6.05it/s]\u001b[A\n",
      " 29%|██▊       | 149/522 [00:24<01:01,  6.05it/s]\u001b[A\n",
      " 29%|██▊       | 150/522 [00:24<01:01,  6.03it/s]\u001b[A\n",
      " 29%|██▉       | 151/522 [00:24<01:02,  5.96it/s]\u001b[A\n",
      " 29%|██▉       | 152/522 [00:24<01:01,  6.01it/s]\u001b[A\n",
      " 29%|██▉       | 153/522 [00:25<01:01,  5.96it/s]\u001b[A\n",
      " 30%|██▉       | 154/522 [00:25<01:02,  5.87it/s]\u001b[A\n",
      " 30%|██▉       | 155/522 [00:25<01:02,  5.86it/s]\u001b[A\n",
      " 30%|██▉       | 156/522 [00:25<01:03,  5.76it/s]\u001b[A\n",
      " 30%|███       | 157/522 [00:25<01:05,  5.59it/s]\u001b[A\n",
      " 30%|███       | 158/522 [00:26<01:06,  5.48it/s]\u001b[A\n",
      " 30%|███       | 159/522 [00:26<01:06,  5.45it/s]\u001b[A\n",
      " 31%|███       | 160/522 [00:26<01:08,  5.26it/s]\u001b[A\n",
      " 31%|███       | 161/522 [00:26<01:06,  5.41it/s]\u001b[A\n",
      " 31%|███       | 162/522 [00:26<01:05,  5.52it/s]\u001b[A\n",
      " 31%|███       | 163/522 [00:26<01:03,  5.63it/s]\u001b[A\n",
      " 31%|███▏      | 164/522 [00:27<01:02,  5.72it/s]\u001b[A\n",
      " 32%|███▏      | 165/522 [00:27<01:02,  5.73it/s]\u001b[A\n",
      " 32%|███▏      | 166/522 [00:27<01:01,  5.75it/s]\u001b[A\n",
      " 32%|███▏      | 167/522 [00:27<01:01,  5.79it/s]\u001b[A\n",
      " 32%|███▏      | 168/522 [00:27<01:01,  5.78it/s]\u001b[A\n",
      " 32%|███▏      | 169/522 [00:27<01:01,  5.73it/s]\u001b[A\n",
      " 33%|███▎      | 170/522 [00:28<00:57,  6.07it/s]\u001b[A\n",
      " 33%|███▎      | 171/522 [00:28<00:55,  6.27it/s]\u001b[A\n",
      " 33%|███▎      | 172/522 [00:28<00:52,  6.64it/s]\u001b[A\n",
      " 33%|███▎      | 173/522 [00:28<00:50,  6.86it/s]\u001b[A\n",
      " 33%|███▎      | 174/522 [00:28<00:51,  6.75it/s]\u001b[A\n",
      " 34%|███▎      | 175/522 [00:28<00:53,  6.49it/s]\u001b[A\n",
      " 34%|███▎      | 176/522 [00:29<00:54,  6.37it/s]\u001b[A\n",
      " 34%|███▍      | 177/522 [00:29<00:52,  6.54it/s]\u001b[A\n",
      " 34%|███▍      | 178/522 [00:29<00:52,  6.51it/s]\u001b[A\n",
      " 34%|███▍      | 179/522 [00:29<00:52,  6.51it/s]\u001b[A\n",
      " 34%|███▍      | 180/522 [00:29<00:53,  6.34it/s]\u001b[A\n",
      " 35%|███▍      | 181/522 [00:29<00:53,  6.43it/s]\u001b[A\n",
      " 35%|███▍      | 182/522 [00:29<00:54,  6.28it/s]\u001b[A\n",
      " 35%|███▌      | 183/522 [00:30<00:53,  6.33it/s]\u001b[A\n",
      " 35%|███▌      | 184/522 [00:30<00:51,  6.59it/s]\u001b[A\n",
      " 35%|███▌      | 185/522 [00:30<00:50,  6.64it/s]\u001b[A\n",
      " 36%|███▌      | 186/522 [00:30<00:49,  6.83it/s]\u001b[A\n",
      " 36%|███▌      | 187/522 [00:30<00:49,  6.74it/s]\u001b[A\n",
      " 36%|███▌      | 188/522 [00:30<00:50,  6.68it/s]\u001b[A\n",
      " 36%|███▌      | 189/522 [00:31<00:51,  6.47it/s]\u001b[A\n",
      " 36%|███▋      | 190/522 [00:31<00:50,  6.54it/s]\u001b[A\n",
      " 37%|███▋      | 191/522 [00:31<00:50,  6.59it/s]\u001b[A\n",
      " 37%|███▋      | 192/522 [00:31<00:51,  6.44it/s]\u001b[A\n",
      " 37%|███▋      | 193/522 [00:31<00:53,  6.11it/s]\u001b[A\n",
      " 37%|███▋      | 194/522 [00:31<00:53,  6.09it/s]\u001b[A\n",
      " 37%|███▋      | 195/522 [00:31<00:54,  6.01it/s]\u001b[A\n",
      " 38%|███▊      | 196/522 [00:32<00:54,  5.95it/s]\u001b[A\n",
      " 38%|███▊      | 197/522 [00:32<00:57,  5.69it/s]\u001b[A\n",
      " 38%|███▊      | 198/522 [00:32<00:55,  5.89it/s]\u001b[A\n",
      " 38%|███▊      | 199/522 [00:32<00:55,  5.82it/s]\u001b[A\n",
      " 38%|███▊      | 200/522 [00:32<00:55,  5.77it/s]\u001b[A\n",
      " 39%|███▊      | 201/522 [00:33<00:55,  5.76it/s]\u001b[A\n",
      " 39%|███▊      | 202/522 [00:33<00:54,  5.85it/s]\u001b[A\n",
      " 39%|███▉      | 203/522 [00:33<00:55,  5.74it/s]\u001b[A\n",
      " 39%|███▉      | 204/522 [00:33<00:55,  5.72it/s]\u001b[A\n",
      " 39%|███▉      | 205/522 [00:33<00:56,  5.64it/s]\u001b[A\n",
      " 39%|███▉      | 206/522 [00:34<01:32,  3.41it/s]\u001b[A\n",
      " 40%|███▉      | 207/522 [00:34<01:22,  3.81it/s]\u001b[A\n",
      " 40%|███▉      | 208/522 [00:34<01:15,  4.14it/s]\u001b[A\n",
      " 40%|████      | 209/522 [00:34<01:09,  4.51it/s]\u001b[A\n",
      " 40%|████      | 210/522 [00:35<01:05,  4.79it/s]\u001b[A\n",
      " 40%|████      | 211/522 [00:35<01:01,  5.08it/s]\u001b[A\n",
      " 41%|████      | 212/522 [00:35<01:02,  4.93it/s]\u001b[A\n",
      " 41%|████      | 213/522 [00:35<01:00,  5.10it/s]\u001b[A\n",
      " 41%|████      | 214/522 [00:35<00:57,  5.34it/s]\u001b[A\n",
      " 41%|████      | 215/522 [00:35<00:55,  5.52it/s]\u001b[A\n",
      " 41%|████▏     | 216/522 [00:36<00:53,  5.69it/s]\u001b[A\n",
      " 42%|████▏     | 217/522 [00:36<00:51,  5.94it/s]\u001b[A\n",
      " 42%|████▏     | 218/522 [00:36<00:48,  6.26it/s]\u001b[A\n",
      " 42%|████▏     | 219/522 [00:36<00:49,  6.14it/s]\u001b[A\n",
      " 42%|████▏     | 220/522 [00:36<00:49,  6.10it/s]\u001b[A\n",
      " 42%|████▏     | 221/522 [00:36<00:48,  6.20it/s]\u001b[A\n",
      " 43%|████▎     | 222/522 [00:37<00:49,  6.01it/s]\u001b[A\n",
      " 43%|████▎     | 223/522 [00:37<00:49,  6.06it/s]\u001b[A\n",
      " 43%|████▎     | 224/522 [00:37<00:49,  6.03it/s]\u001b[A\n",
      " 43%|████▎     | 225/522 [00:37<00:48,  6.09it/s]\u001b[A\n",
      " 43%|████▎     | 226/522 [00:37<00:47,  6.17it/s]\u001b[A\n",
      " 43%|████▎     | 227/522 [00:37<00:47,  6.15it/s]\u001b[A\n",
      " 44%|████▎     | 228/522 [00:38<00:47,  6.21it/s]\u001b[A\n",
      " 44%|████▍     | 229/522 [00:38<00:48,  6.02it/s]\u001b[A\n",
      " 44%|████▍     | 230/522 [00:38<00:48,  6.04it/s]\u001b[A\n",
      " 44%|████▍     | 231/522 [00:38<00:48,  6.05it/s]\u001b[A\n",
      " 44%|████▍     | 232/522 [00:38<00:48,  6.03it/s]\u001b[A\n",
      " 45%|████▍     | 233/522 [00:38<00:47,  6.02it/s]\u001b[A\n",
      " 45%|████▍     | 234/522 [00:39<00:48,  5.97it/s]\u001b[A\n",
      " 45%|████▌     | 235/522 [00:39<00:47,  5.99it/s]\u001b[A\n",
      " 45%|████▌     | 236/522 [00:39<00:47,  5.99it/s]\u001b[A\n",
      " 45%|████▌     | 237/522 [00:39<00:47,  6.01it/s]\u001b[A\n",
      " 46%|████▌     | 238/522 [00:39<00:48,  5.81it/s]\u001b[A\n",
      " 46%|████▌     | 239/522 [00:39<00:49,  5.76it/s]\u001b[A\n",
      " 46%|████▌     | 240/522 [00:40<00:48,  5.81it/s]\u001b[A\n",
      " 46%|████▌     | 241/522 [00:40<00:46,  5.99it/s]\u001b[A\n",
      " 46%|████▋     | 242/522 [00:40<00:47,  5.94it/s]\u001b[A\n",
      " 47%|████▋     | 243/522 [00:40<00:49,  5.69it/s]\u001b[A\n",
      " 47%|████▋     | 244/522 [00:40<00:49,  5.65it/s]\u001b[A\n",
      " 47%|████▋     | 245/522 [00:40<00:47,  5.86it/s]\u001b[A\n",
      " 47%|████▋     | 246/522 [00:41<00:47,  5.86it/s]\u001b[A\n",
      " 47%|████▋     | 247/522 [00:41<00:46,  5.91it/s]\u001b[A\n",
      " 48%|████▊     | 248/522 [00:41<00:45,  6.01it/s]\u001b[A\n",
      " 48%|████▊     | 249/522 [00:41<00:46,  5.88it/s]\u001b[A\n",
      " 48%|████▊     | 250/522 [00:41<00:46,  5.81it/s]\u001b[A\n",
      " 48%|████▊     | 251/522 [00:41<00:46,  5.82it/s]\u001b[A\n",
      " 48%|████▊     | 252/522 [00:42<00:45,  5.87it/s]\u001b[A\n",
      " 48%|████▊     | 253/522 [00:42<00:46,  5.81it/s]\u001b[A\n",
      " 49%|████▊     | 254/522 [00:42<00:45,  5.87it/s]\u001b[A\n",
      " 49%|████▉     | 255/522 [00:42<00:45,  5.91it/s]\u001b[A\n",
      " 49%|████▉     | 256/522 [00:42<00:44,  5.99it/s]\u001b[A\n",
      " 49%|████▉     | 257/522 [00:42<00:42,  6.16it/s]\u001b[A\n",
      " 49%|████▉     | 258/522 [00:43<00:42,  6.14it/s]\u001b[A\n",
      " 50%|████▉     | 259/522 [00:43<00:42,  6.15it/s]\u001b[A\n",
      " 50%|████▉     | 260/522 [00:43<00:43,  6.02it/s]\u001b[A\n",
      " 50%|█████     | 261/522 [00:43<00:43,  5.94it/s]\u001b[A\n",
      " 50%|█████     | 262/522 [00:43<00:44,  5.85it/s]\u001b[A\n",
      " 50%|█████     | 263/522 [00:43<00:43,  5.89it/s]\u001b[A\n",
      " 51%|█████     | 264/522 [00:44<00:45,  5.72it/s]\u001b[A\n",
      " 51%|█████     | 265/522 [00:44<00:45,  5.70it/s]\u001b[A\n",
      " 51%|█████     | 266/522 [00:44<00:43,  5.89it/s]\u001b[A\n",
      " 51%|█████     | 267/522 [00:44<00:43,  5.84it/s]\u001b[A\n",
      " 51%|█████▏    | 268/522 [00:44<00:43,  5.90it/s]\u001b[A\n",
      " 52%|█████▏    | 269/522 [00:44<00:42,  5.94it/s]\u001b[A\n",
      " 52%|█████▏    | 270/522 [00:45<00:43,  5.77it/s]\u001b[A\n",
      " 52%|█████▏    | 271/522 [00:45<00:42,  5.88it/s]\u001b[A\n",
      " 52%|█████▏    | 272/522 [00:45<00:42,  5.90it/s]\u001b[A\n",
      " 52%|█████▏    | 273/522 [00:45<00:40,  6.08it/s]\u001b[A\n",
      " 52%|█████▏    | 274/522 [00:45<00:40,  6.18it/s]\u001b[A\n",
      " 53%|█████▎    | 275/522 [00:45<00:40,  6.06it/s]\u001b[A\n",
      " 53%|█████▎    | 276/522 [00:46<00:42,  5.84it/s]\u001b[A\n",
      " 53%|█████▎    | 277/522 [00:46<00:43,  5.66it/s]\u001b[A\n",
      " 53%|█████▎    | 278/522 [00:46<00:41,  5.84it/s]\u001b[A\n",
      " 53%|█████▎    | 279/522 [00:46<00:40,  5.94it/s]\u001b[A\n",
      " 54%|█████▎    | 280/522 [00:46<00:41,  5.81it/s]\u001b[A\n",
      " 54%|█████▍    | 281/522 [00:47<00:42,  5.70it/s]\u001b[A\n",
      " 54%|█████▍    | 282/522 [00:47<00:42,  5.62it/s]\u001b[A\n",
      " 54%|█████▍    | 283/522 [00:47<00:41,  5.74it/s]\u001b[A\n",
      " 54%|█████▍    | 284/522 [00:47<00:40,  5.81it/s]\u001b[A\n",
      " 55%|█████▍    | 285/522 [00:47<00:41,  5.74it/s]\u001b[A\n",
      " 55%|█████▍    | 286/522 [00:47<00:41,  5.69it/s]\u001b[A\n",
      " 55%|█████▍    | 287/522 [00:48<00:40,  5.75it/s]\u001b[A\n",
      " 55%|█████▌    | 288/522 [00:48<00:40,  5.82it/s]\u001b[A\n",
      " 55%|█████▌    | 289/522 [00:48<00:39,  5.83it/s]\u001b[A\n",
      " 56%|█████▌    | 290/522 [00:48<00:39,  5.87it/s]\u001b[A\n",
      " 56%|█████▌    | 291/522 [00:48<00:39,  5.83it/s]\u001b[A\n",
      " 56%|█████▌    | 292/522 [00:48<00:38,  5.90it/s]\u001b[A\n",
      " 56%|█████▌    | 293/522 [00:49<00:39,  5.82it/s]\u001b[A\n",
      " 56%|█████▋    | 294/522 [00:49<00:39,  5.77it/s]\u001b[A\n",
      " 57%|█████▋    | 295/522 [00:49<00:40,  5.64it/s]\u001b[A\n",
      " 57%|█████▋    | 296/522 [00:49<00:39,  5.68it/s]\u001b[A\n",
      " 57%|█████▋    | 297/522 [00:49<00:39,  5.71it/s]\u001b[A\n",
      " 57%|█████▋    | 298/522 [00:49<00:38,  5.83it/s]\u001b[A\n",
      " 57%|█████▋    | 299/522 [00:50<00:37,  5.91it/s]\u001b[A\n",
      " 57%|█████▋    | 300/522 [00:50<00:36,  6.05it/s]\u001b[A\n",
      " 58%|█████▊    | 301/522 [00:50<00:35,  6.23it/s]\u001b[A\n",
      " 58%|█████▊    | 302/522 [00:50<00:34,  6.32it/s]\u001b[A\n",
      " 58%|█████▊    | 303/522 [00:50<00:34,  6.43it/s]\u001b[A\n",
      " 58%|█████▊    | 304/522 [00:50<00:33,  6.47it/s]\u001b[A\n",
      " 58%|█████▊    | 305/522 [00:51<00:33,  6.45it/s]\u001b[A\n",
      " 59%|█████▊    | 306/522 [00:51<00:34,  6.27it/s]\u001b[A\n",
      " 59%|█████▉    | 307/522 [00:51<00:34,  6.21it/s]\u001b[A\n",
      " 59%|█████▉    | 308/522 [00:51<00:35,  6.11it/s]\u001b[A\n",
      " 59%|█████▉    | 309/522 [00:51<00:35,  6.05it/s]\u001b[A\n"
     ]
    },
    {
     "name": "stderr",
     "output_type": "stream",
     "text": [
      " 59%|█████▉    | 310/522 [00:51<00:35,  5.91it/s]\u001b[A\n",
      " 60%|█████▉    | 311/522 [00:52<00:36,  5.79it/s]\u001b[A\n",
      " 60%|█████▉    | 312/522 [00:52<00:36,  5.73it/s]\u001b[A\n",
      " 60%|█████▉    | 313/522 [00:52<00:36,  5.71it/s]\u001b[A\n",
      " 60%|██████    | 314/522 [00:52<00:36,  5.77it/s]\u001b[A\n",
      " 60%|██████    | 315/522 [00:52<00:35,  5.84it/s]\u001b[A\n",
      " 61%|██████    | 316/522 [00:52<00:34,  6.01it/s]\u001b[A\n",
      " 61%|██████    | 317/522 [00:53<00:33,  6.09it/s]\u001b[A\n",
      " 61%|██████    | 318/522 [00:53<00:33,  6.14it/s]\u001b[A\n",
      " 61%|██████    | 319/522 [00:53<00:32,  6.16it/s]\u001b[A\n",
      " 61%|██████▏   | 320/522 [00:53<00:32,  6.16it/s]\u001b[A\n",
      " 61%|██████▏   | 321/522 [00:53<00:32,  6.16it/s]\u001b[A\n",
      " 62%|██████▏   | 322/522 [00:53<00:32,  6.06it/s]\u001b[A\n",
      " 62%|██████▏   | 323/522 [00:54<00:34,  5.71it/s]\u001b[A\n",
      " 62%|██████▏   | 324/522 [00:54<00:36,  5.46it/s]\u001b[A\n",
      " 62%|██████▏   | 325/522 [00:54<00:36,  5.39it/s]\u001b[A\n",
      " 62%|██████▏   | 326/522 [00:54<00:34,  5.74it/s]\u001b[A\n",
      " 63%|██████▎   | 327/522 [00:54<00:32,  5.92it/s]\u001b[A\n",
      " 63%|██████▎   | 328/522 [00:54<00:32,  5.93it/s]\u001b[A\n",
      " 63%|██████▎   | 329/522 [00:55<00:32,  5.97it/s]\u001b[A\n",
      " 63%|██████▎   | 330/522 [00:55<00:32,  5.86it/s]\u001b[A\n",
      " 63%|██████▎   | 331/522 [00:55<00:32,  5.85it/s]\u001b[A\n",
      " 64%|██████▎   | 332/522 [00:55<00:31,  5.94it/s]\u001b[A\n",
      " 64%|██████▍   | 333/522 [00:55<00:33,  5.70it/s]\u001b[A\n",
      " 64%|██████▍   | 334/522 [00:56<00:33,  5.67it/s]\u001b[A\n",
      " 64%|██████▍   | 335/522 [00:56<00:32,  5.69it/s]\u001b[A\n",
      " 64%|██████▍   | 336/522 [00:56<00:31,  5.81it/s]\u001b[A\n",
      " 65%|██████▍   | 337/522 [00:56<00:31,  5.84it/s]\u001b[A\n",
      " 65%|██████▍   | 338/522 [00:56<00:30,  6.01it/s]\u001b[A\n",
      " 65%|██████▍   | 339/522 [00:56<00:30,  6.05it/s]\u001b[A\n",
      " 65%|██████▌   | 340/522 [00:57<00:31,  5.87it/s]\u001b[A\n",
      " 65%|██████▌   | 341/522 [00:57<00:30,  5.99it/s]\u001b[A\n",
      " 66%|██████▌   | 342/522 [00:57<00:28,  6.30it/s]\u001b[A\n",
      " 66%|██████▌   | 343/522 [00:57<00:27,  6.48it/s]\u001b[A\n",
      " 66%|██████▌   | 344/522 [00:57<00:28,  6.27it/s]\u001b[A\n",
      " 66%|██████▌   | 345/522 [00:57<00:29,  6.03it/s]\u001b[A\n",
      " 66%|██████▋   | 346/522 [00:58<00:31,  5.64it/s]\u001b[A\n",
      " 66%|██████▋   | 347/522 [00:58<00:29,  5.93it/s]\u001b[A\n",
      " 67%|██████▋   | 348/522 [00:58<00:29,  5.97it/s]\u001b[A\n",
      " 67%|██████▋   | 349/522 [00:58<00:28,  5.97it/s]\u001b[A\n",
      " 67%|██████▋   | 350/522 [00:58<00:30,  5.65it/s]\u001b[A\n",
      " 67%|██████▋   | 351/522 [00:58<00:29,  5.78it/s]\u001b[A\n",
      " 67%|██████▋   | 352/522 [00:59<00:28,  5.90it/s]\u001b[A\n",
      " 68%|██████▊   | 353/522 [00:59<00:28,  5.89it/s]\u001b[A\n",
      " 68%|██████▊   | 354/522 [00:59<00:28,  5.87it/s]\u001b[A\n",
      " 68%|██████▊   | 355/522 [00:59<00:28,  5.86it/s]\u001b[A\n",
      " 68%|██████▊   | 356/522 [00:59<00:28,  5.86it/s]\u001b[A\n",
      " 68%|██████▊   | 357/522 [00:59<00:28,  5.87it/s]\u001b[A\n",
      " 69%|██████▊   | 358/522 [01:00<00:28,  5.85it/s]\u001b[A\n",
      " 69%|██████▉   | 359/522 [01:00<00:28,  5.69it/s]\u001b[A\n",
      " 69%|██████▉   | 360/522 [01:00<00:28,  5.77it/s]\u001b[A\n",
      " 69%|██████▉   | 361/522 [01:00<00:26,  6.01it/s]\u001b[A\n",
      " 69%|██████▉   | 362/522 [01:00<00:25,  6.16it/s]\u001b[A\n",
      " 70%|██████▉   | 363/522 [01:00<00:25,  6.21it/s]\u001b[A\n",
      " 70%|██████▉   | 364/522 [01:01<00:25,  6.29it/s]\u001b[A\n",
      " 70%|██████▉   | 365/522 [01:01<00:25,  6.17it/s]\u001b[A\n",
      " 70%|███████   | 366/522 [01:01<00:26,  5.96it/s]\u001b[A\n",
      " 70%|███████   | 367/522 [01:01<00:25,  6.04it/s]\u001b[A\n",
      " 70%|███████   | 368/522 [01:01<00:25,  6.09it/s]\u001b[A\n",
      " 71%|███████   | 369/522 [01:01<00:25,  6.08it/s]\u001b[A\n",
      " 71%|███████   | 370/522 [01:02<00:24,  6.20it/s]\u001b[A\n",
      " 71%|███████   | 371/522 [01:02<00:24,  6.10it/s]\u001b[A\n",
      " 71%|███████▏  | 372/522 [01:02<00:25,  5.95it/s]\u001b[A\n",
      " 71%|███████▏  | 373/522 [01:02<00:26,  5.66it/s]\u001b[A\n",
      " 72%|███████▏  | 374/522 [01:02<00:26,  5.67it/s]\u001b[A\n",
      " 72%|███████▏  | 375/522 [01:02<00:26,  5.57it/s]\u001b[A\n",
      " 72%|███████▏  | 376/522 [01:03<00:25,  5.81it/s]\u001b[A\n",
      " 72%|███████▏  | 377/522 [01:03<00:24,  5.81it/s]\u001b[A\n",
      " 72%|███████▏  | 378/522 [01:03<00:23,  6.00it/s]\u001b[A\n",
      " 73%|███████▎  | 379/522 [01:03<00:23,  5.96it/s]\u001b[A\n",
      " 73%|███████▎  | 380/522 [01:03<00:23,  5.93it/s]\u001b[A\n",
      " 73%|███████▎  | 381/522 [01:03<00:23,  5.89it/s]\u001b[A\n",
      " 73%|███████▎  | 382/522 [01:04<00:23,  5.96it/s]\u001b[A\n",
      " 73%|███████▎  | 383/522 [01:04<00:23,  5.88it/s]\u001b[A\n",
      " 74%|███████▎  | 384/522 [01:04<00:23,  5.92it/s]\u001b[A\n",
      " 74%|███████▍  | 385/522 [01:04<00:22,  6.05it/s]\u001b[A\n",
      " 74%|███████▍  | 386/522 [01:04<00:22,  6.10it/s]\u001b[A\n",
      " 74%|███████▍  | 387/522 [01:04<00:22,  6.05it/s]\u001b[A\n",
      " 74%|███████▍  | 388/522 [01:05<00:21,  6.15it/s]\u001b[A\n",
      " 75%|███████▍  | 389/522 [01:05<00:22,  5.93it/s]\u001b[A\n",
      " 75%|███████▍  | 390/522 [01:05<00:22,  5.83it/s]\u001b[A\n",
      " 75%|███████▍  | 391/522 [01:05<00:22,  5.81it/s]\u001b[A\n",
      " 75%|███████▌  | 392/522 [01:05<00:22,  5.84it/s]\u001b[A\n",
      " 75%|███████▌  | 393/522 [01:05<00:22,  5.86it/s]\u001b[A\n",
      " 75%|███████▌  | 394/522 [01:06<00:22,  5.69it/s]\u001b[A\n",
      " 76%|███████▌  | 395/522 [01:06<00:21,  5.82it/s]\u001b[A\n",
      " 76%|███████▌  | 396/522 [01:06<00:21,  5.83it/s]\u001b[A\n",
      " 76%|███████▌  | 397/522 [01:06<00:21,  5.87it/s]\u001b[A\n",
      " 76%|███████▌  | 398/522 [01:06<00:20,  5.93it/s]\u001b[A\n",
      " 76%|███████▋  | 399/522 [01:06<00:20,  6.15it/s]\u001b[A\n",
      " 77%|███████▋  | 400/522 [01:07<00:20,  5.84it/s]\u001b[A\n",
      " 77%|███████▋  | 401/522 [01:07<00:20,  5.91it/s]\u001b[A\n",
      " 77%|███████▋  | 402/522 [01:07<00:20,  5.99it/s]\u001b[A\n",
      " 77%|███████▋  | 403/522 [01:07<00:19,  6.03it/s]\u001b[A\n",
      " 77%|███████▋  | 404/522 [01:07<00:19,  5.91it/s]\u001b[A\n",
      " 78%|███████▊  | 405/522 [01:07<00:19,  5.94it/s]\u001b[A\n",
      " 78%|███████▊  | 406/522 [01:08<00:19,  5.89it/s]\u001b[A\n",
      " 78%|███████▊  | 407/522 [01:08<00:19,  5.90it/s]\u001b[A\n",
      " 78%|███████▊  | 408/522 [01:08<00:18,  6.01it/s]\u001b[A\n",
      " 78%|███████▊  | 409/522 [01:08<00:19,  5.92it/s]\u001b[A\n",
      " 79%|███████▊  | 410/522 [01:08<00:18,  6.00it/s]\u001b[A\n",
      " 79%|███████▊  | 411/522 [01:08<00:17,  6.18it/s]\u001b[A\n",
      " 79%|███████▉  | 412/522 [01:09<00:17,  6.24it/s]\u001b[A\n",
      " 79%|███████▉  | 413/522 [01:09<00:17,  6.20it/s]\u001b[A\n",
      " 79%|███████▉  | 414/522 [01:09<00:17,  6.21it/s]\u001b[A\n",
      " 80%|███████▉  | 415/522 [01:09<00:18,  5.90it/s]\u001b[A\n",
      " 80%|███████▉  | 416/522 [01:09<00:19,  5.58it/s]\u001b[A\n",
      " 80%|███████▉  | 417/522 [01:10<00:18,  5.59it/s]\u001b[A\n",
      " 80%|████████  | 418/522 [01:10<00:18,  5.72it/s]\u001b[A\n",
      " 80%|████████  | 419/522 [01:10<00:18,  5.72it/s]\u001b[A\n",
      " 80%|████████  | 420/522 [01:10<00:17,  5.78it/s]\u001b[A\n",
      " 81%|████████  | 421/522 [01:10<00:17,  5.86it/s]\u001b[A\n",
      " 81%|████████  | 422/522 [01:10<00:16,  5.91it/s]\u001b[A\n",
      " 81%|████████  | 423/522 [01:11<00:16,  6.02it/s]\u001b[A\n",
      " 81%|████████  | 424/522 [01:11<00:16,  5.98it/s]\u001b[A\n",
      " 81%|████████▏ | 425/522 [01:11<00:16,  5.93it/s]\u001b[A\n",
      " 82%|████████▏ | 426/522 [01:11<00:16,  5.94it/s]\u001b[A\n",
      " 82%|████████▏ | 427/522 [01:11<00:15,  6.07it/s]\u001b[A\n",
      " 82%|████████▏ | 428/522 [01:11<00:15,  6.23it/s]\u001b[A\n",
      " 82%|████████▏ | 429/522 [01:12<00:15,  6.17it/s]\u001b[A\n",
      " 82%|████████▏ | 430/522 [01:12<00:14,  6.16it/s]\u001b[A\n",
      " 83%|████████▎ | 431/522 [01:12<00:15,  5.94it/s]\u001b[A\n",
      " 83%|████████▎ | 432/522 [01:12<00:15,  5.86it/s]\u001b[A\n",
      " 83%|████████▎ | 433/522 [01:12<00:15,  5.86it/s]\u001b[A\n",
      " 83%|████████▎ | 434/522 [01:12<00:14,  5.98it/s]\u001b[A\n",
      " 83%|████████▎ | 435/522 [01:13<00:14,  6.13it/s]\u001b[A\n",
      " 84%|████████▎ | 436/522 [01:13<00:14,  6.00it/s]\u001b[A\n",
      " 84%|████████▎ | 437/522 [01:13<00:14,  6.02it/s]\u001b[A\n",
      " 84%|████████▍ | 438/522 [01:13<00:13,  6.11it/s]\u001b[A\n",
      " 84%|████████▍ | 439/522 [01:13<00:13,  6.03it/s]\u001b[A\n",
      " 84%|████████▍ | 440/522 [01:13<00:13,  5.92it/s]\u001b[A\n",
      " 84%|████████▍ | 441/522 [01:14<00:13,  6.11it/s]\u001b[A\n",
      " 85%|████████▍ | 442/522 [01:14<00:13,  5.79it/s]\u001b[A\n",
      " 85%|████████▍ | 443/522 [01:14<00:13,  5.96it/s]\u001b[A\n",
      " 85%|████████▌ | 444/522 [01:14<00:12,  6.03it/s]\u001b[A\n",
      " 85%|████████▌ | 445/522 [01:14<00:12,  6.00it/s]\u001b[A\n",
      " 85%|████████▌ | 446/522 [01:14<00:12,  5.95it/s]\u001b[A\n",
      " 86%|████████▌ | 447/522 [01:15<00:12,  6.00it/s]\u001b[A\n",
      " 86%|████████▌ | 448/522 [01:15<00:12,  6.06it/s]\u001b[A\n",
      " 86%|████████▌ | 449/522 [01:15<00:12,  5.94it/s]\u001b[A\n",
      " 86%|████████▌ | 450/522 [01:15<00:12,  5.78it/s]\u001b[A\n",
      " 86%|████████▋ | 451/522 [01:15<00:12,  5.68it/s]\u001b[A\n",
      " 87%|████████▋ | 452/522 [01:15<00:12,  5.76it/s]\u001b[A\n",
      " 87%|████████▋ | 453/522 [01:16<00:11,  6.01it/s]\u001b[A\n",
      " 87%|████████▋ | 454/522 [01:16<00:11,  6.12it/s]\u001b[A\n",
      " 87%|████████▋ | 455/522 [01:16<00:11,  5.78it/s]\u001b[A\n",
      " 87%|████████▋ | 456/522 [01:16<00:11,  5.86it/s]\u001b[A\n",
      " 88%|████████▊ | 457/522 [01:16<00:10,  5.95it/s]\u001b[A\n",
      " 88%|████████▊ | 458/522 [01:16<00:10,  5.94it/s]\u001b[A\n",
      " 88%|████████▊ | 459/522 [01:17<00:10,  5.96it/s]\u001b[A\n",
      " 88%|████████▊ | 460/522 [01:17<00:10,  5.87it/s]\u001b[A\n",
      " 88%|████████▊ | 461/522 [01:17<00:10,  5.99it/s]\u001b[A\n",
      " 89%|████████▊ | 462/522 [01:17<00:09,  6.13it/s]\u001b[A\n",
      " 89%|████████▊ | 463/522 [01:17<00:09,  6.19it/s]\u001b[A\n",
      " 89%|████████▉ | 464/522 [01:17<00:09,  6.13it/s]\u001b[A\n",
      " 89%|████████▉ | 465/522 [01:18<00:09,  6.16it/s]\u001b[A\n",
      " 89%|████████▉ | 466/522 [01:18<00:09,  6.18it/s]\u001b[A\n",
      " 89%|████████▉ | 467/522 [01:18<00:08,  6.22it/s]\u001b[A\n",
      " 90%|████████▉ | 468/522 [01:18<00:08,  6.27it/s]\u001b[A\n",
      " 90%|████████▉ | 469/522 [01:18<00:08,  6.48it/s]\u001b[A\n",
      " 90%|█████████ | 470/522 [01:18<00:07,  6.64it/s]\u001b[A\n",
      " 90%|█████████ | 471/522 [01:18<00:07,  6.48it/s]\u001b[A\n",
      " 90%|█████████ | 472/522 [01:19<00:07,  6.30it/s]\u001b[A\n",
      " 91%|█████████ | 473/522 [01:19<00:07,  6.42it/s]\u001b[A\n",
      " 91%|█████████ | 474/522 [01:19<00:07,  6.31it/s]\u001b[A\n",
      " 91%|█████████ | 475/522 [01:19<00:07,  6.18it/s]\u001b[A\n",
      " 91%|█████████ | 476/522 [01:19<00:07,  5.97it/s]\u001b[A\n",
      " 91%|█████████▏| 477/522 [01:19<00:07,  5.79it/s]\u001b[A\n",
      " 92%|█████████▏| 478/522 [01:20<00:08,  5.47it/s]\u001b[A\n",
      " 92%|█████████▏| 479/522 [01:20<00:07,  5.43it/s]\u001b[A\n",
      " 92%|█████████▏| 480/522 [01:20<00:07,  5.32it/s]\u001b[A\n",
      " 92%|█████████▏| 481/522 [01:20<00:07,  5.28it/s]\u001b[A\n",
      " 92%|█████████▏| 482/522 [01:20<00:07,  5.49it/s]\u001b[A\n",
      " 93%|█████████▎| 483/522 [01:21<00:06,  5.63it/s]\u001b[A\n",
      " 93%|█████████▎| 484/522 [01:21<00:06,  5.64it/s]\u001b[A\n",
      " 93%|█████████▎| 485/522 [01:21<00:06,  5.68it/s]\u001b[A\n",
      " 93%|█████████▎| 486/522 [01:21<00:06,  5.74it/s]\u001b[A\n",
      " 93%|█████████▎| 487/522 [01:21<00:06,  5.72it/s]\u001b[A\n",
      " 93%|█████████▎| 488/522 [01:21<00:05,  5.72it/s]\u001b[A\n",
      " 94%|█████████▎| 489/522 [01:22<00:05,  5.75it/s]\u001b[A\n",
      " 94%|█████████▍| 490/522 [01:22<00:05,  5.88it/s]\u001b[A\n",
      " 94%|█████████▍| 491/522 [01:22<00:05,  5.98it/s]\u001b[A\n",
      " 94%|█████████▍| 492/522 [01:22<00:04,  6.16it/s]\u001b[A\n",
      " 94%|█████████▍| 493/522 [01:22<00:04,  6.49it/s]\u001b[A\n",
      " 95%|█████████▍| 494/522 [01:22<00:04,  6.64it/s]\u001b[A\n",
      " 95%|█████████▍| 495/522 [01:23<00:04,  6.48it/s]\u001b[A\n",
      " 95%|█████████▌| 496/522 [01:23<00:04,  6.44it/s]\u001b[A\n",
      " 95%|█████████▌| 497/522 [01:23<00:04,  6.19it/s]\u001b[A\n",
      " 95%|█████████▌| 498/522 [01:23<00:03,  6.27it/s]\u001b[A\n",
      " 96%|█████████▌| 499/522 [01:23<00:03,  6.29it/s]\u001b[A\n",
      " 96%|█████████▌| 500/522 [01:23<00:03,  6.30it/s]\u001b[A\n",
      " 96%|█████████▌| 501/522 [01:24<00:03,  6.21it/s]\u001b[A\n",
      " 96%|█████████▌| 502/522 [01:24<00:03,  6.11it/s]\u001b[A\n",
      " 96%|█████████▋| 503/522 [01:24<00:03,  6.16it/s]\u001b[A\n",
      " 97%|█████████▋| 504/522 [01:24<00:02,  6.03it/s]\u001b[A\n",
      " 97%|█████████▋| 505/522 [01:24<00:02,  6.05it/s]\u001b[A\n",
      " 97%|█████████▋| 506/522 [01:24<00:02,  6.15it/s]\u001b[A\n",
      " 97%|█████████▋| 507/522 [01:24<00:02,  6.30it/s]\u001b[A\n",
      " 97%|█████████▋| 508/522 [01:25<00:02,  6.29it/s]\u001b[A\n",
      " 98%|█████████▊| 509/522 [01:25<00:02,  6.37it/s]\u001b[A\n",
      " 98%|█████████▊| 510/522 [01:25<00:01,  6.36it/s]\u001b[A\n",
      " 98%|█████████▊| 511/522 [01:25<00:01,  6.37it/s]\u001b[A\n",
      " 98%|█████████▊| 512/522 [01:25<00:01,  6.37it/s]\u001b[A\n",
      " 98%|█████████▊| 513/522 [01:25<00:01,  6.18it/s]\u001b[A\n",
      " 98%|█████████▊| 514/522 [01:26<00:01,  5.95it/s]\u001b[A\n",
      " 99%|█████████▊| 515/522 [01:26<00:01,  5.95it/s]\u001b[A\n",
      " 99%|█████████▉| 516/522 [01:26<00:01,  5.99it/s]\u001b[A\n",
      " 99%|█████████▉| 517/522 [01:26<00:00,  6.03it/s]\u001b[A\n",
      " 99%|█████████▉| 518/522 [01:26<00:00,  5.94it/s]\u001b[A\n",
      " 99%|█████████▉| 519/522 [01:26<00:00,  6.04it/s]\u001b[A\n",
      "100%|█████████▉| 520/522 [01:27<00:00,  5.85it/s]\u001b[A\n",
      "100%|█████████▉| 521/522 [01:27<00:00,  5.82it/s]\u001b[A\n",
      "100%|██████████| 522/522 [01:27<00:00,  5.97it/s]\u001b[A\n"
     ]
    }
   ],
   "source": [
    "negrank_deeper,flippedneg_deeper = explainSamples(corrects_deeper,[walmart,amazon],walmart_deeper,predict_fn_deeper,0,4)"
   ]
  },
  {
   "cell_type": "code",
   "execution_count": 20,
   "metadata": {
    "ExecuteTime": {
     "end_time": "2020-06-06T08:43:46.932621Z",
     "start_time": "2020-06-06T08:37:35.550372Z"
    }
   },
   "outputs": [
    {
     "name": "stderr",
     "output_type": "stream",
     "text": [
      "\n",
      "  0%|          | 0/541 [00:00<?, ?it/s]\u001b[A\n",
      "  0%|          | 1/541 [00:00<08:02,  1.12it/s]\u001b[A\n",
      "  0%|          | 2/541 [00:01<07:47,  1.15it/s]\u001b[A\n",
      "  1%|          | 3/541 [00:02<07:40,  1.17it/s]\u001b[A\n",
      "  1%|          | 4/541 [00:03<07:31,  1.19it/s]\u001b[A\n",
      "  1%|          | 5/541 [00:04<07:12,  1.24it/s]\u001b[A\n",
      "  1%|          | 6/541 [00:04<06:51,  1.30it/s]\u001b[A\n",
      "  1%|▏         | 7/541 [00:05<06:33,  1.36it/s]\u001b[A\n",
      "  1%|▏         | 8/541 [00:06<06:24,  1.39it/s]\u001b[A\n",
      "  2%|▏         | 9/541 [00:06<06:16,  1.41it/s]\u001b[A\n",
      "  2%|▏         | 10/541 [00:07<06:07,  1.44it/s]\u001b[A\n",
      "  2%|▏         | 11/541 [00:08<06:02,  1.46it/s]\u001b[A\n",
      "  2%|▏         | 12/541 [00:08<05:53,  1.50it/s]\u001b[A\n",
      "  2%|▏         | 13/541 [00:09<05:49,  1.51it/s]\u001b[A\n",
      "  3%|▎         | 14/541 [00:09<05:43,  1.54it/s]\u001b[A\n",
      "  3%|▎         | 15/541 [00:10<05:39,  1.55it/s]\u001b[A\n",
      "  3%|▎         | 16/541 [00:11<05:37,  1.55it/s]\u001b[A\n",
      "  3%|▎         | 17/541 [00:11<05:36,  1.56it/s]\u001b[A\n",
      "  3%|▎         | 18/541 [00:12<05:36,  1.55it/s]\u001b[A\n",
      "  4%|▎         | 19/541 [00:13<05:35,  1.56it/s]\u001b[A\n",
      "  4%|▎         | 20/541 [00:13<05:34,  1.56it/s]\u001b[A\n",
      "  4%|▍         | 21/541 [00:14<05:47,  1.50it/s]\u001b[A\n",
      "  4%|▍         | 22/541 [00:15<05:57,  1.45it/s]\u001b[A\n",
      "  4%|▍         | 23/541 [00:15<05:49,  1.48it/s]\u001b[A\n",
      "  4%|▍         | 24/541 [00:16<05:50,  1.48it/s]\u001b[A\n",
      "  5%|▍         | 25/541 [00:17<05:49,  1.48it/s]\u001b[A\n",
      "  5%|▍         | 26/541 [00:17<05:47,  1.48it/s]\u001b[A\n",
      "  5%|▍         | 27/541 [00:18<05:43,  1.50it/s]\u001b[A\n",
      "  5%|▌         | 28/541 [00:19<05:43,  1.49it/s]\u001b[A\n",
      "  5%|▌         | 29/541 [00:19<05:42,  1.49it/s]\u001b[A\n",
      "  6%|▌         | 30/541 [00:20<05:43,  1.49it/s]\u001b[A\n",
      "  6%|▌         | 31/541 [00:21<05:45,  1.48it/s]\u001b[A\n",
      "  6%|▌         | 32/541 [00:22<05:46,  1.47it/s]\u001b[A\n",
      "  6%|▌         | 33/541 [00:22<05:43,  1.48it/s]\u001b[A\n",
      "  6%|▋         | 34/541 [00:23<05:43,  1.47it/s]\u001b[A\n",
      "  6%|▋         | 35/541 [00:24<05:39,  1.49it/s]\u001b[A\n",
      "  7%|▋         | 36/541 [00:24<05:37,  1.50it/s]\u001b[A\n",
      "  7%|▋         | 37/541 [00:25<05:35,  1.50it/s]\u001b[A\n",
      "  7%|▋         | 38/541 [00:26<05:36,  1.49it/s]\u001b[A\n",
      "  7%|▋         | 39/541 [00:26<05:36,  1.49it/s]\u001b[A\n",
      "  7%|▋         | 40/541 [00:27<05:54,  1.41it/s]\u001b[A\n",
      "  8%|▊         | 41/541 [00:28<06:06,  1.36it/s]\u001b[A\n",
      "  8%|▊         | 42/541 [00:28<05:54,  1.41it/s]\u001b[A\n",
      "  8%|▊         | 43/541 [00:29<05:48,  1.43it/s]\u001b[A\n",
      "  8%|▊         | 44/541 [00:30<05:45,  1.44it/s]\u001b[A\n",
      "  8%|▊         | 45/541 [00:30<05:42,  1.45it/s]\u001b[A\n",
      "  9%|▊         | 46/541 [00:31<05:37,  1.47it/s]\u001b[A\n",
      "  9%|▊         | 47/541 [00:32<05:32,  1.49it/s]\u001b[A\n",
      "  9%|▉         | 48/541 [00:32<05:27,  1.50it/s]\u001b[A\n",
      "  9%|▉         | 49/541 [00:33<05:24,  1.52it/s]\u001b[A\n",
      "  9%|▉         | 50/541 [00:34<05:25,  1.51it/s]\u001b[A\n",
      "  9%|▉         | 51/541 [00:34<05:23,  1.52it/s]\u001b[A\n",
      " 10%|▉         | 52/541 [00:35<05:22,  1.51it/s]\u001b[A\n",
      " 10%|▉         | 53/541 [00:36<06:05,  1.33it/s]\u001b[A\n",
      " 10%|▉         | 54/541 [00:37<05:54,  1.37it/s]\u001b[A\n",
      " 10%|█         | 55/541 [00:37<05:45,  1.41it/s]\u001b[A\n",
      " 10%|█         | 56/541 [00:38<05:37,  1.44it/s]\u001b[A\n",
      " 11%|█         | 57/541 [00:39<05:37,  1.43it/s]\u001b[A\n",
      " 11%|█         | 58/541 [00:39<05:36,  1.44it/s]\u001b[A\n",
      " 11%|█         | 59/541 [00:40<05:32,  1.45it/s]\u001b[A\n",
      " 11%|█         | 60/541 [00:41<05:27,  1.47it/s]\u001b[A\n",
      " 11%|█▏        | 61/541 [00:41<05:18,  1.50it/s]\u001b[A\n",
      " 11%|█▏        | 62/541 [00:42<05:13,  1.53it/s]\u001b[A\n",
      " 12%|█▏        | 63/541 [00:43<05:13,  1.53it/s]\u001b[A\n",
      " 12%|█▏        | 64/541 [00:43<05:11,  1.53it/s]\u001b[A\n",
      " 12%|█▏        | 65/541 [00:44<05:10,  1.53it/s]\u001b[A\n",
      " 12%|█▏        | 66/541 [00:45<05:13,  1.52it/s]\u001b[A\n",
      " 12%|█▏        | 67/541 [00:45<05:12,  1.52it/s]\u001b[A\n",
      " 13%|█▎        | 68/541 [00:46<05:15,  1.50it/s]\u001b[A\n",
      " 13%|█▎        | 69/541 [00:47<05:17,  1.49it/s]\u001b[A\n",
      " 13%|█▎        | 70/541 [00:47<05:14,  1.50it/s]\u001b[A\n",
      " 13%|█▎        | 71/541 [00:48<05:08,  1.52it/s]\u001b[A\n",
      " 13%|█▎        | 72/541 [00:49<05:05,  1.54it/s]\u001b[A\n",
      " 13%|█▎        | 73/541 [00:49<05:01,  1.55it/s]\u001b[A\n",
      " 14%|█▎        | 74/541 [00:50<04:58,  1.57it/s]\u001b[A\n",
      " 14%|█▍        | 75/541 [00:51<04:57,  1.57it/s]\u001b[A\n",
      " 14%|█▍        | 76/541 [00:51<04:56,  1.57it/s]\u001b[A\n",
      " 14%|█▍        | 77/541 [00:52<04:58,  1.55it/s]\u001b[A\n",
      " 14%|█▍        | 78/541 [00:52<04:59,  1.55it/s]\u001b[A\n",
      " 15%|█▍        | 79/541 [00:53<05:20,  1.44it/s]\u001b[A\n",
      " 15%|█▍        | 80/541 [00:54<05:28,  1.40it/s]\u001b[A\n",
      " 15%|█▍        | 81/541 [00:55<05:41,  1.35it/s]\u001b[A\n",
      " 15%|█▌        | 82/541 [00:56<05:45,  1.33it/s]\u001b[A\n",
      " 15%|█▌        | 83/541 [00:56<05:28,  1.40it/s]\u001b[A\n",
      " 16%|█▌        | 84/541 [00:57<05:16,  1.44it/s]\u001b[A\n",
      " 16%|█▌        | 85/541 [00:58<05:10,  1.47it/s]\u001b[A\n",
      " 16%|█▌        | 86/541 [00:58<05:04,  1.49it/s]\u001b[A\n",
      " 16%|█▌        | 87/541 [00:59<05:01,  1.51it/s]\u001b[A\n",
      " 16%|█▋        | 88/541 [00:59<04:55,  1.53it/s]\u001b[A\n",
      " 16%|█▋        | 89/541 [01:00<04:55,  1.53it/s]\u001b[A\n",
      " 17%|█▋        | 90/541 [01:01<04:54,  1.53it/s]\u001b[A\n",
      " 17%|█▋        | 91/541 [01:01<04:58,  1.51it/s]\u001b[A\n",
      " 17%|█▋        | 92/541 [01:02<04:59,  1.50it/s]\u001b[A\n",
      " 17%|█▋        | 93/541 [01:03<04:58,  1.50it/s]\u001b[A\n",
      " 17%|█▋        | 94/541 [01:03<04:58,  1.50it/s]\u001b[A\n",
      " 18%|█▊        | 95/541 [01:04<04:58,  1.49it/s]\u001b[A\n",
      " 18%|█▊        | 96/541 [01:05<05:00,  1.48it/s]\u001b[A\n",
      " 18%|█▊        | 97/541 [01:06<05:03,  1.47it/s]\u001b[A\n",
      " 18%|█▊        | 98/541 [01:06<04:55,  1.50it/s]\u001b[A\n",
      " 18%|█▊        | 99/541 [01:07<04:53,  1.50it/s]\u001b[A\n",
      " 18%|█▊        | 100/541 [01:07<04:50,  1.52it/s]\u001b[A\n",
      " 19%|█▊        | 101/541 [01:08<04:49,  1.52it/s]\u001b[A\n",
      " 19%|█▉        | 102/541 [01:09<04:53,  1.49it/s]\u001b[A\n",
      " 19%|█▉        | 103/541 [01:10<05:33,  1.31it/s]\u001b[A\n",
      " 19%|█▉        | 104/541 [01:11<05:34,  1.31it/s]\u001b[A\n",
      " 19%|█▉        | 105/541 [01:11<05:15,  1.38it/s]\u001b[A\n",
      " 20%|█▉        | 106/541 [01:12<05:07,  1.41it/s]\u001b[A\n",
      " 20%|█▉        | 107/541 [01:13<05:02,  1.43it/s]\u001b[A\n",
      " 20%|█▉        | 108/541 [01:13<04:57,  1.46it/s]\u001b[A\n",
      " 20%|██        | 109/541 [01:14<04:54,  1.46it/s]\u001b[A\n",
      " 20%|██        | 110/541 [01:15<04:53,  1.47it/s]\u001b[A\n",
      " 21%|██        | 111/541 [01:15<04:51,  1.48it/s]\u001b[A\n",
      " 21%|██        | 112/541 [01:16<04:53,  1.46it/s]\u001b[A\n",
      " 21%|██        | 113/541 [01:17<04:51,  1.47it/s]\u001b[A\n",
      " 21%|██        | 114/541 [01:17<04:46,  1.49it/s]\u001b[A\n",
      " 21%|██▏       | 115/541 [01:18<04:40,  1.52it/s]\u001b[A\n",
      " 21%|██▏       | 116/541 [01:18<04:37,  1.53it/s]\u001b[A\n",
      " 22%|██▏       | 117/541 [01:19<04:35,  1.54it/s]\u001b[A\n",
      " 22%|██▏       | 118/541 [01:20<04:35,  1.53it/s]\u001b[A\n",
      " 22%|██▏       | 119/541 [01:20<04:34,  1.54it/s]\u001b[A\n",
      " 22%|██▏       | 120/541 [01:21<04:33,  1.54it/s]\u001b[A\n",
      " 22%|██▏       | 121/541 [01:22<04:34,  1.53it/s]\u001b[A\n",
      " 23%|██▎       | 122/541 [01:22<04:33,  1.53it/s]\u001b[A\n",
      " 23%|██▎       | 123/541 [01:23<04:35,  1.52it/s]\u001b[A\n",
      " 23%|██▎       | 124/541 [01:24<04:36,  1.51it/s]\u001b[A\n",
      " 23%|██▎       | 125/541 [01:24<04:37,  1.50it/s]\u001b[A\n",
      " 23%|██▎       | 126/541 [01:25<04:40,  1.48it/s]\u001b[A\n",
      " 23%|██▎       | 127/541 [01:26<04:38,  1.49it/s]\u001b[A\n",
      " 24%|██▎       | 128/541 [01:26<04:35,  1.50it/s]\u001b[A\n",
      " 24%|██▍       | 129/541 [01:27<04:34,  1.50it/s]\u001b[A\n",
      " 24%|██▍       | 130/541 [01:28<04:38,  1.48it/s]\u001b[A\n",
      " 24%|██▍       | 131/541 [01:28<04:36,  1.48it/s]\u001b[A\n",
      " 24%|██▍       | 132/541 [01:29<04:32,  1.50it/s]\u001b[A\n",
      " 25%|██▍       | 133/541 [01:30<04:29,  1.51it/s]\u001b[A\n",
      " 25%|██▍       | 134/541 [01:30<04:22,  1.55it/s]\u001b[A\n",
      " 25%|██▍       | 135/541 [01:31<04:23,  1.54it/s]\u001b[A\n",
      " 25%|██▌       | 136/541 [01:32<04:22,  1.54it/s]\u001b[A\n",
      " 25%|██▌       | 137/541 [01:32<04:22,  1.54it/s]\u001b[A\n",
      " 26%|██▌       | 138/541 [01:33<04:25,  1.52it/s]\u001b[A\n",
      " 26%|██▌       | 139/541 [01:34<04:26,  1.51it/s]\u001b[A\n",
      " 26%|██▌       | 140/541 [01:34<04:27,  1.50it/s]\u001b[A\n",
      " 26%|██▌       | 141/541 [01:35<04:25,  1.50it/s]\u001b[A\n",
      " 26%|██▌       | 142/541 [01:36<04:23,  1.52it/s]\u001b[A\n",
      " 26%|██▋       | 143/541 [01:36<04:20,  1.53it/s]\u001b[A\n",
      " 27%|██▋       | 144/541 [01:37<04:19,  1.53it/s]\u001b[A\n",
      " 27%|██▋       | 145/541 [01:38<04:17,  1.54it/s]\u001b[A\n",
      " 27%|██▋       | 146/541 [01:38<04:13,  1.56it/s]\u001b[A\n",
      " 27%|██▋       | 147/541 [01:39<04:10,  1.57it/s]\u001b[A\n",
      " 27%|██▋       | 148/541 [01:39<04:09,  1.58it/s]\u001b[A\n",
      " 28%|██▊       | 149/541 [01:40<04:11,  1.56it/s]\u001b[A\n",
      " 28%|██▊       | 150/541 [01:41<04:17,  1.52it/s]\u001b[A\n",
      " 28%|██▊       | 151/541 [01:42<04:17,  1.51it/s]\u001b[A\n",
      " 28%|██▊       | 152/541 [01:42<04:16,  1.52it/s]\u001b[A\n",
      " 28%|██▊       | 153/541 [01:43<04:20,  1.49it/s]\u001b[A\n",
      " 28%|██▊       | 154/541 [01:44<04:17,  1.51it/s]\u001b[A\n",
      " 29%|██▊       | 155/541 [01:44<04:17,  1.50it/s]\u001b[A\n",
      " 29%|██▉       | 156/541 [01:45<04:47,  1.34it/s]\u001b[A\n",
      " 29%|██▉       | 157/541 [01:46<04:38,  1.38it/s]\u001b[A\n",
      " 29%|██▉       | 158/541 [01:46<04:31,  1.41it/s]\u001b[A\n",
      " 29%|██▉       | 159/541 [01:47<04:28,  1.42it/s]\u001b[A\n",
      " 30%|██▉       | 160/541 [01:48<04:25,  1.44it/s]\u001b[A\n",
      " 30%|██▉       | 161/541 [01:49<04:22,  1.45it/s]\u001b[A\n",
      " 30%|██▉       | 162/541 [01:49<04:18,  1.46it/s]\u001b[A\n",
      " 30%|███       | 163/541 [01:50<04:15,  1.48it/s]\u001b[A\n",
      " 30%|███       | 164/541 [01:51<04:14,  1.48it/s]\u001b[A\n",
      " 30%|███       | 165/541 [01:51<04:10,  1.50it/s]\u001b[A\n",
      " 31%|███       | 166/541 [01:52<04:08,  1.51it/s]\u001b[A\n",
      " 31%|███       | 167/541 [01:52<04:07,  1.51it/s]\u001b[A\n",
      " 31%|███       | 168/541 [01:53<04:08,  1.50it/s]\u001b[A\n",
      " 31%|███       | 169/541 [01:54<04:07,  1.50it/s]\u001b[A\n",
      " 31%|███▏      | 170/541 [01:54<04:05,  1.51it/s]\u001b[A\n",
      " 32%|███▏      | 171/541 [01:55<04:05,  1.51it/s]\u001b[A\n",
      " 32%|███▏      | 172/541 [01:56<04:06,  1.50it/s]\u001b[A\n",
      " 32%|███▏      | 173/541 [01:56<04:07,  1.48it/s]\u001b[A\n",
      " 32%|███▏      | 174/541 [01:57<04:07,  1.48it/s]\u001b[A\n",
      " 32%|███▏      | 175/541 [01:58<04:09,  1.47it/s]\u001b[A\n",
      " 33%|███▎      | 176/541 [01:59<04:09,  1.47it/s]\u001b[A\n",
      " 33%|███▎      | 177/541 [01:59<04:07,  1.47it/s]\u001b[A\n",
      " 33%|███▎      | 178/541 [02:00<04:07,  1.47it/s]\u001b[A\n",
      " 33%|███▎      | 179/541 [02:01<04:00,  1.51it/s]\u001b[A\n",
      " 33%|███▎      | 180/541 [02:01<04:05,  1.47it/s]\u001b[A\n",
      " 33%|███▎      | 181/541 [02:02<04:10,  1.43it/s]\u001b[A\n",
      " 34%|███▎      | 182/541 [02:03<04:16,  1.40it/s]\u001b[A\n",
      " 34%|███▍      | 183/541 [02:03<04:07,  1.45it/s]\u001b[A\n",
      " 34%|███▍      | 184/541 [02:04<04:03,  1.47it/s]\u001b[A\n",
      " 34%|███▍      | 185/541 [02:05<03:58,  1.49it/s]\u001b[A\n",
      " 34%|███▍      | 186/541 [02:05<03:55,  1.51it/s]\u001b[A\n",
      " 35%|███▍      | 187/541 [02:06<03:54,  1.51it/s]\u001b[A\n",
      " 35%|███▍      | 188/541 [02:07<03:53,  1.51it/s]\u001b[A\n",
      " 35%|███▍      | 189/541 [02:07<03:52,  1.52it/s]\u001b[A\n",
      " 35%|███▌      | 190/541 [02:08<03:50,  1.53it/s]\u001b[A\n",
      " 35%|███▌      | 191/541 [02:09<03:48,  1.53it/s]\u001b[A\n",
      " 35%|███▌      | 192/541 [02:09<03:48,  1.53it/s]\u001b[A\n",
      " 36%|███▌      | 193/541 [02:10<03:47,  1.53it/s]\u001b[A\n",
      " 36%|███▌      | 194/541 [02:11<03:46,  1.53it/s]\u001b[A\n",
      " 36%|███▌      | 195/541 [02:11<03:46,  1.53it/s]\u001b[A\n",
      " 36%|███▌      | 196/541 [02:12<03:47,  1.52it/s]\u001b[A\n",
      " 36%|███▋      | 197/541 [02:13<03:46,  1.52it/s]\u001b[A\n",
      " 37%|███▋      | 198/541 [02:13<03:48,  1.50it/s]\u001b[A\n",
      " 37%|███▋      | 199/541 [02:14<03:48,  1.50it/s]\u001b[A\n",
      " 37%|███▋      | 200/541 [02:15<03:46,  1.51it/s]\u001b[A\n",
      " 37%|███▋      | 201/541 [02:15<03:44,  1.51it/s]\u001b[A\n",
      " 37%|███▋      | 202/541 [02:16<03:41,  1.53it/s]\u001b[A\n",
      " 38%|███▊      | 203/541 [02:16<03:39,  1.54it/s]\u001b[A\n",
      " 38%|███▊      | 204/541 [02:17<03:38,  1.55it/s]\u001b[A\n",
      " 38%|███▊      | 205/541 [02:18<03:34,  1.56it/s]\u001b[A\n",
      " 38%|███▊      | 206/541 [02:18<03:37,  1.54it/s]\u001b[A\n",
      " 38%|███▊      | 207/541 [02:19<03:41,  1.51it/s]\u001b[A\n",
      " 38%|███▊      | 208/541 [02:20<03:41,  1.51it/s]\u001b[A\n",
      " 39%|███▊      | 209/541 [02:21<04:06,  1.35it/s]\u001b[A\n",
      " 39%|███▉      | 210/541 [02:21<03:55,  1.40it/s]\u001b[A\n",
      " 39%|███▉      | 211/541 [02:22<03:58,  1.38it/s]\u001b[A\n",
      " 39%|███▉      | 212/541 [02:23<03:59,  1.37it/s]\u001b[A\n",
      " 39%|███▉      | 213/541 [02:24<03:56,  1.38it/s]\u001b[A\n",
      " 40%|███▉      | 214/541 [02:24<03:51,  1.41it/s]\u001b[A\n",
      " 40%|███▉      | 215/541 [02:25<03:48,  1.42it/s]\u001b[A\n",
      " 40%|███▉      | 216/541 [02:26<03:48,  1.42it/s]\u001b[A\n",
      " 40%|████      | 217/541 [02:26<03:48,  1.42it/s]\u001b[A\n",
      " 40%|████      | 218/541 [02:27<03:47,  1.42it/s]\u001b[A\n",
      " 40%|████      | 219/541 [02:28<03:47,  1.42it/s]\u001b[A\n",
      " 41%|████      | 220/541 [02:28<03:44,  1.43it/s]\u001b[A\n",
      " 41%|████      | 221/541 [02:29<03:43,  1.43it/s]\u001b[A\n",
      " 41%|████      | 222/541 [02:30<03:40,  1.45it/s]\u001b[A\n",
      " 41%|████      | 223/541 [02:30<03:38,  1.46it/s]\u001b[A\n",
      " 41%|████▏     | 224/541 [02:31<03:34,  1.48it/s]\u001b[A\n",
      " 42%|████▏     | 225/541 [02:32<03:32,  1.48it/s]\u001b[A\n",
      " 42%|████▏     | 226/541 [02:32<03:31,  1.49it/s]\u001b[A\n",
      " 42%|████▏     | 227/541 [02:33<03:29,  1.50it/s]\u001b[A\n",
      " 42%|████▏     | 228/541 [02:34<03:26,  1.52it/s]\u001b[A\n",
      " 42%|████▏     | 229/541 [02:34<03:25,  1.52it/s]\u001b[A\n",
      " 43%|████▎     | 230/541 [02:35<03:22,  1.53it/s]\u001b[A\n",
      " 43%|████▎     | 231/541 [02:36<03:20,  1.54it/s]\u001b[A\n",
      " 43%|████▎     | 232/541 [02:36<03:18,  1.55it/s]\u001b[A\n",
      " 43%|████▎     | 233/541 [02:37<03:43,  1.38it/s]\u001b[A\n",
      " 43%|████▎     | 234/541 [02:38<03:36,  1.42it/s]\u001b[A\n",
      " 43%|████▎     | 235/541 [02:39<03:31,  1.45it/s]\u001b[A\n",
      " 44%|████▎     | 236/541 [02:39<03:30,  1.45it/s]\u001b[A\n",
      " 44%|████▍     | 237/541 [02:40<03:26,  1.48it/s]\u001b[A\n",
      " 44%|████▍     | 238/541 [02:41<03:24,  1.48it/s]\u001b[A\n",
      " 44%|████▍     | 239/541 [02:41<03:21,  1.50it/s]\u001b[A\n",
      " 44%|████▍     | 240/541 [02:42<03:18,  1.51it/s]\u001b[A\n",
      " 45%|████▍     | 241/541 [02:42<03:16,  1.53it/s]\u001b[A\n",
      " 45%|████▍     | 242/541 [02:43<03:14,  1.53it/s]\u001b[A\n",
      " 45%|████▍     | 243/541 [02:44<03:13,  1.54it/s]\u001b[A\n",
      " 45%|████▌     | 244/541 [02:44<03:12,  1.54it/s]\u001b[A\n",
      " 45%|████▌     | 245/541 [02:45<03:25,  1.44it/s]\u001b[A\n",
      " 45%|████▌     | 246/541 [02:46<03:42,  1.33it/s]\u001b[A\n",
      " 46%|████▌     | 247/541 [02:47<03:47,  1.29it/s]\u001b[A\n",
      " 46%|████▌     | 248/541 [02:48<03:49,  1.28it/s]\u001b[A\n",
      " 46%|████▌     | 249/541 [02:49<03:48,  1.28it/s]\u001b[A\n",
      " 46%|████▌     | 250/541 [02:49<04:01,  1.20it/s]\u001b[A\n",
      " 46%|████▋     | 251/541 [02:50<03:58,  1.22it/s]\u001b[A\n",
      " 47%|████▋     | 252/541 [02:51<03:51,  1.25it/s]\u001b[A\n",
      " 47%|████▋     | 253/541 [02:52<03:40,  1.31it/s]\u001b[A\n",
      " 47%|████▋     | 254/541 [02:52<03:30,  1.36it/s]\u001b[A\n",
      " 47%|████▋     | 255/541 [02:53<03:20,  1.43it/s]\u001b[A\n",
      " 47%|████▋     | 256/541 [02:54<03:14,  1.46it/s]\u001b[A\n",
      " 48%|████▊     | 257/541 [02:54<03:10,  1.49it/s]\u001b[A\n",
      " 48%|████▊     | 258/541 [02:55<03:08,  1.50it/s]\u001b[A\n",
      " 48%|████▊     | 259/541 [02:56<03:33,  1.32it/s]\u001b[A\n",
      " 48%|████▊     | 260/541 [02:57<03:26,  1.36it/s]\u001b[A\n",
      " 48%|████▊     | 261/541 [02:57<03:21,  1.39it/s]\u001b[A\n",
      " 48%|████▊     | 262/541 [02:58<03:39,  1.27it/s]\u001b[A\n",
      " 49%|████▊     | 263/541 [02:59<03:53,  1.19it/s]\u001b[A\n",
      " 49%|████▉     | 264/541 [03:00<03:46,  1.22it/s]\u001b[A\n",
      " 49%|████▉     | 265/541 [03:01<03:40,  1.25it/s]\u001b[A\n",
      " 49%|████▉     | 266/541 [03:01<03:27,  1.33it/s]\u001b[A\n",
      " 49%|████▉     | 267/541 [03:02<03:18,  1.38it/s]\u001b[A\n",
      " 50%|████▉     | 268/541 [03:03<03:12,  1.42it/s]\u001b[A\n",
      " 50%|████▉     | 269/541 [03:03<03:08,  1.44it/s]\u001b[A\n",
      " 50%|████▉     | 270/541 [03:04<03:04,  1.47it/s]\u001b[A\n",
      " 50%|█████     | 271/541 [03:05<03:03,  1.47it/s]\u001b[A\n",
      " 50%|█████     | 272/541 [03:05<03:04,  1.46it/s]\u001b[A\n",
      " 50%|█████     | 273/541 [03:06<03:01,  1.48it/s]\u001b[A\n",
      " 51%|█████     | 274/541 [03:07<02:58,  1.50it/s]\u001b[A\n",
      " 51%|█████     | 275/541 [03:07<02:57,  1.50it/s]\u001b[A\n",
      " 51%|█████     | 276/541 [03:08<02:54,  1.52it/s]\u001b[A\n",
      " 51%|█████     | 277/541 [03:09<02:52,  1.53it/s]\u001b[A\n",
      " 51%|█████▏    | 278/541 [03:09<02:54,  1.51it/s]\u001b[A\n",
      " 52%|█████▏    | 279/541 [03:10<02:51,  1.53it/s]\u001b[A\n",
      " 52%|█████▏    | 280/541 [03:11<02:53,  1.50it/s]\u001b[A\n",
      " 52%|█████▏    | 281/541 [03:11<02:53,  1.50it/s]\u001b[A\n",
      " 52%|█████▏    | 282/541 [03:12<02:53,  1.50it/s]\u001b[A\n",
      " 52%|█████▏    | 283/541 [03:13<02:53,  1.49it/s]\u001b[A\n",
      " 52%|█████▏    | 284/541 [03:13<02:51,  1.50it/s]\u001b[A\n",
      " 53%|█████▎    | 285/541 [03:14<02:48,  1.52it/s]\u001b[A\n",
      " 53%|█████▎    | 286/541 [03:15<02:47,  1.53it/s]\u001b[A\n",
      " 53%|█████▎    | 287/541 [03:15<02:47,  1.51it/s]\u001b[A\n",
      " 53%|█████▎    | 288/541 [03:16<02:47,  1.51it/s]\u001b[A\n",
      " 53%|█████▎    | 289/541 [03:17<02:45,  1.52it/s]\u001b[A\n",
      " 54%|█████▎    | 290/541 [03:17<02:44,  1.52it/s]\u001b[A\n",
      " 54%|█████▍    | 291/541 [03:18<02:45,  1.51it/s]\u001b[A\n",
      " 54%|█████▍    | 292/541 [03:19<02:48,  1.48it/s]\u001b[A\n",
      " 54%|█████▍    | 293/541 [03:19<02:51,  1.45it/s]\u001b[A\n",
      " 54%|█████▍    | 294/541 [03:20<02:47,  1.47it/s]\u001b[A\n",
      " 55%|█████▍    | 295/541 [03:21<02:46,  1.48it/s]\u001b[A\n",
      " 55%|█████▍    | 296/541 [03:21<02:44,  1.49it/s]\u001b[A\n",
      " 55%|█████▍    | 297/541 [03:22<02:44,  1.48it/s]\u001b[A\n",
      " 55%|█████▌    | 298/541 [03:23<02:44,  1.48it/s]\u001b[A\n",
      " 55%|█████▌    | 299/541 [03:23<02:43,  1.48it/s]\u001b[A\n",
      " 55%|█████▌    | 300/541 [03:24<03:04,  1.31it/s]\u001b[A\n",
      " 56%|█████▌    | 301/541 [03:25<03:07,  1.28it/s]\u001b[A\n",
      " 56%|█████▌    | 302/541 [03:26<03:01,  1.32it/s]\u001b[A\n",
      " 56%|█████▌    | 303/541 [03:27<02:54,  1.37it/s]\u001b[A\n",
      " 56%|█████▌    | 304/541 [03:27<02:48,  1.41it/s]\u001b[A\n",
      " 56%|█████▋    | 305/541 [03:28<02:45,  1.43it/s]\u001b[A\n",
      " 57%|█████▋    | 306/541 [03:29<02:45,  1.42it/s]\u001b[A\n",
      " 57%|█████▋    | 307/541 [03:29<02:45,  1.42it/s]\u001b[A\n",
      " 57%|█████▋    | 308/541 [03:30<02:39,  1.46it/s]\u001b[A\n",
      " 57%|█████▋    | 309/541 [03:31<02:34,  1.50it/s]\u001b[A\n"
     ]
    },
    {
     "name": "stderr",
     "output_type": "stream",
     "text": [
      " 57%|█████▋    | 310/541 [03:31<02:34,  1.49it/s]\u001b[A\n",
      " 57%|█████▋    | 311/541 [03:32<02:35,  1.48it/s]\u001b[A\n",
      " 58%|█████▊    | 312/541 [03:33<02:35,  1.48it/s]\u001b[A\n",
      " 58%|█████▊    | 313/541 [03:33<02:40,  1.42it/s]\u001b[A\n",
      " 58%|█████▊    | 314/541 [03:34<02:44,  1.38it/s]\u001b[A\n",
      " 58%|█████▊    | 315/541 [03:35<03:06,  1.21it/s]\u001b[A\n",
      " 58%|█████▊    | 316/541 [03:36<03:11,  1.17it/s]\u001b[A\n",
      " 59%|█████▊    | 317/541 [03:37<03:07,  1.20it/s]\u001b[A\n",
      " 59%|█████▉    | 318/541 [03:38<02:54,  1.27it/s]\u001b[A\n",
      " 59%|█████▉    | 319/541 [03:38<02:43,  1.35it/s]\u001b[A\n",
      " 59%|█████▉    | 320/541 [03:39<02:39,  1.39it/s]\u001b[A\n",
      " 59%|█████▉    | 321/541 [03:40<02:41,  1.36it/s]\u001b[A\n",
      " 60%|█████▉    | 322/541 [03:40<02:37,  1.39it/s]\u001b[A\n",
      " 60%|█████▉    | 323/541 [03:41<02:34,  1.41it/s]\u001b[A\n",
      " 60%|█████▉    | 324/541 [03:42<02:32,  1.42it/s]\u001b[A\n",
      " 60%|██████    | 325/541 [03:42<02:32,  1.42it/s]\u001b[A\n",
      " 60%|██████    | 326/541 [03:43<02:32,  1.41it/s]\u001b[A\n",
      " 60%|██████    | 327/541 [03:44<02:40,  1.33it/s]\u001b[A\n",
      " 61%|██████    | 328/541 [03:45<02:34,  1.38it/s]\u001b[A\n",
      " 61%|██████    | 329/541 [03:45<02:28,  1.43it/s]\u001b[A\n",
      " 61%|██████    | 330/541 [03:46<02:26,  1.44it/s]\u001b[A\n",
      " 61%|██████    | 331/541 [03:47<02:23,  1.46it/s]\u001b[A\n",
      " 61%|██████▏   | 332/541 [03:47<02:22,  1.47it/s]\u001b[A\n",
      " 62%|██████▏   | 333/541 [03:48<02:20,  1.48it/s]\u001b[A\n",
      " 62%|██████▏   | 334/541 [03:49<02:18,  1.49it/s]\u001b[A\n",
      " 62%|██████▏   | 335/541 [03:49<02:17,  1.50it/s]\u001b[A\n",
      " 62%|██████▏   | 336/541 [03:50<02:15,  1.51it/s]\u001b[A\n",
      " 62%|██████▏   | 337/541 [03:51<02:15,  1.51it/s]\u001b[A\n",
      " 62%|██████▏   | 338/541 [03:51<02:13,  1.52it/s]\u001b[A\n",
      " 63%|██████▎   | 339/541 [03:52<02:12,  1.53it/s]\u001b[A\n",
      " 63%|██████▎   | 340/541 [03:53<02:12,  1.52it/s]\u001b[A\n",
      " 63%|██████▎   | 341/541 [03:53<02:12,  1.51it/s]\u001b[A\n",
      " 63%|██████▎   | 342/541 [03:54<02:12,  1.50it/s]\u001b[A\n",
      " 63%|██████▎   | 343/541 [03:55<02:12,  1.49it/s]\u001b[A\n",
      " 64%|██████▎   | 344/541 [03:55<02:12,  1.48it/s]\u001b[A\n",
      " 64%|██████▍   | 345/541 [03:56<02:14,  1.45it/s]\u001b[A\n",
      " 64%|██████▍   | 346/541 [03:57<02:13,  1.46it/s]\u001b[A\n",
      " 64%|██████▍   | 347/541 [03:57<02:12,  1.46it/s]\u001b[A\n",
      " 64%|██████▍   | 348/541 [03:58<02:10,  1.48it/s]\u001b[A\n",
      " 65%|██████▍   | 349/541 [03:59<02:09,  1.48it/s]\u001b[A\n",
      " 65%|██████▍   | 350/541 [03:59<02:10,  1.47it/s]\u001b[A\n",
      " 65%|██████▍   | 351/541 [04:00<02:07,  1.50it/s]\u001b[A\n",
      " 65%|██████▌   | 352/541 [04:01<02:04,  1.51it/s]\u001b[A\n",
      " 65%|██████▌   | 353/541 [04:01<02:04,  1.51it/s]\u001b[A\n",
      " 65%|██████▌   | 354/541 [04:02<02:04,  1.50it/s]\u001b[A\n",
      " 66%|██████▌   | 355/541 [04:03<02:03,  1.50it/s]\u001b[A\n",
      " 66%|██████▌   | 356/541 [04:03<02:02,  1.51it/s]\u001b[A\n",
      " 66%|██████▌   | 357/541 [04:04<02:02,  1.51it/s]\u001b[A\n",
      " 66%|██████▌   | 358/541 [04:05<02:03,  1.49it/s]\u001b[A\n",
      " 66%|██████▋   | 359/541 [04:05<02:04,  1.46it/s]\u001b[A\n",
      " 67%|██████▋   | 360/541 [04:06<02:01,  1.49it/s]\u001b[A\n",
      " 67%|██████▋   | 361/541 [04:07<02:00,  1.49it/s]\u001b[A\n",
      " 67%|██████▋   | 362/541 [04:07<02:00,  1.49it/s]\u001b[A\n",
      " 67%|██████▋   | 363/541 [04:08<01:59,  1.49it/s]\u001b[A\n",
      " 67%|██████▋   | 364/541 [04:09<02:01,  1.46it/s]\u001b[A\n",
      " 67%|██████▋   | 365/541 [04:10<02:12,  1.32it/s]\u001b[A\n",
      " 68%|██████▊   | 366/541 [04:10<02:06,  1.38it/s]\u001b[A\n",
      " 68%|██████▊   | 367/541 [04:11<02:03,  1.41it/s]\u001b[A\n",
      " 68%|██████▊   | 368/541 [04:12<02:01,  1.42it/s]\u001b[A\n",
      " 68%|██████▊   | 369/541 [04:12<01:59,  1.44it/s]\u001b[A\n",
      " 68%|██████▊   | 370/541 [04:13<01:58,  1.44it/s]\u001b[A\n",
      " 69%|██████▊   | 371/541 [04:14<01:56,  1.46it/s]\u001b[A\n",
      " 69%|██████▉   | 372/541 [04:14<01:54,  1.47it/s]\u001b[A\n",
      " 69%|██████▉   | 373/541 [04:15<01:55,  1.45it/s]\u001b[A\n",
      " 69%|██████▉   | 374/541 [04:16<01:55,  1.45it/s]\u001b[A\n",
      " 69%|██████▉   | 375/541 [04:16<01:53,  1.46it/s]\u001b[A\n",
      " 70%|██████▉   | 376/541 [04:17<01:51,  1.49it/s]\u001b[A\n",
      " 70%|██████▉   | 377/541 [04:18<01:50,  1.48it/s]\u001b[A\n",
      " 70%|██████▉   | 378/541 [04:18<01:49,  1.49it/s]\u001b[A\n",
      " 70%|███████   | 379/541 [04:19<01:49,  1.48it/s]\u001b[A\n",
      " 70%|███████   | 380/541 [04:20<01:49,  1.47it/s]\u001b[A\n",
      " 70%|███████   | 381/541 [04:20<01:48,  1.48it/s]\u001b[A\n",
      " 71%|███████   | 382/541 [04:21<01:46,  1.49it/s]\u001b[A\n",
      " 71%|███████   | 383/541 [04:22<01:46,  1.48it/s]\u001b[A\n",
      " 71%|███████   | 384/541 [04:22<01:45,  1.49it/s]\u001b[A\n",
      " 71%|███████   | 385/541 [04:23<01:45,  1.48it/s]\u001b[A\n",
      " 71%|███████▏  | 386/541 [04:24<01:45,  1.47it/s]\u001b[A\n",
      " 72%|███████▏  | 387/541 [04:25<01:44,  1.47it/s]\u001b[A\n",
      " 72%|███████▏  | 388/541 [04:25<01:43,  1.48it/s]\u001b[A\n",
      " 72%|███████▏  | 389/541 [04:26<01:58,  1.28it/s]\u001b[A\n",
      " 72%|███████▏  | 390/541 [04:27<02:10,  1.16it/s]\u001b[A\n",
      " 72%|███████▏  | 391/541 [04:28<02:04,  1.20it/s]\u001b[A\n",
      " 72%|███████▏  | 392/541 [04:29<01:56,  1.28it/s]\u001b[A\n",
      " 73%|███████▎  | 393/541 [04:29<01:50,  1.34it/s]\u001b[A\n",
      " 73%|███████▎  | 394/541 [04:30<01:46,  1.39it/s]\u001b[A\n",
      " 73%|███████▎  | 395/541 [04:31<01:44,  1.40it/s]\u001b[A\n",
      " 73%|███████▎  | 396/541 [04:31<01:43,  1.41it/s]\u001b[A\n",
      " 73%|███████▎  | 397/541 [04:32<01:41,  1.41it/s]\u001b[A\n",
      " 74%|███████▎  | 398/541 [04:33<01:38,  1.45it/s]\u001b[A\n",
      " 74%|███████▍  | 399/541 [04:33<01:36,  1.47it/s]\u001b[A\n",
      " 74%|███████▍  | 400/541 [04:34<01:36,  1.46it/s]\u001b[A\n",
      " 74%|███████▍  | 401/541 [04:35<01:34,  1.48it/s]\u001b[A\n",
      " 74%|███████▍  | 402/541 [04:35<01:32,  1.50it/s]\u001b[A\n",
      " 74%|███████▍  | 403/541 [04:36<01:31,  1.51it/s]\u001b[A\n",
      " 75%|███████▍  | 404/541 [04:37<01:31,  1.50it/s]\u001b[A\n",
      " 75%|███████▍  | 405/541 [04:37<01:32,  1.47it/s]\u001b[A\n",
      " 75%|███████▌  | 406/541 [04:38<01:32,  1.46it/s]\u001b[A\n",
      " 75%|███████▌  | 407/541 [04:39<01:30,  1.48it/s]\u001b[A\n",
      " 75%|███████▌  | 408/541 [04:39<01:29,  1.49it/s]\u001b[A\n",
      " 76%|███████▌  | 409/541 [04:40<01:28,  1.50it/s]\u001b[A\n",
      " 76%|███████▌  | 410/541 [04:41<01:27,  1.50it/s]\u001b[A\n",
      " 76%|███████▌  | 411/541 [04:41<01:26,  1.51it/s]\u001b[A\n",
      " 76%|███████▌  | 412/541 [04:42<01:25,  1.51it/s]\u001b[A\n",
      " 76%|███████▋  | 413/541 [04:43<01:26,  1.49it/s]\u001b[A\n",
      " 77%|███████▋  | 414/541 [04:44<01:26,  1.48it/s]\u001b[A\n",
      " 77%|███████▋  | 415/541 [04:44<01:23,  1.51it/s]\u001b[A\n",
      " 77%|███████▋  | 416/541 [04:45<01:22,  1.51it/s]\u001b[A\n",
      " 77%|███████▋  | 417/541 [04:45<01:22,  1.51it/s]\u001b[A\n",
      " 77%|███████▋  | 418/541 [04:46<01:22,  1.49it/s]\u001b[A\n",
      " 77%|███████▋  | 419/541 [04:47<01:31,  1.33it/s]\u001b[A\n",
      " 78%|███████▊  | 420/541 [04:48<01:29,  1.35it/s]\u001b[A\n",
      " 78%|███████▊  | 421/541 [04:49<01:29,  1.34it/s]\u001b[A\n",
      " 78%|███████▊  | 422/541 [04:49<01:27,  1.36it/s]\u001b[A\n",
      " 78%|███████▊  | 423/541 [04:50<01:23,  1.40it/s]\u001b[A\n",
      " 78%|███████▊  | 424/541 [04:51<01:23,  1.40it/s]\u001b[A\n",
      " 79%|███████▊  | 425/541 [04:51<01:20,  1.44it/s]\u001b[A\n",
      " 79%|███████▊  | 426/541 [04:52<01:18,  1.47it/s]\u001b[A\n",
      " 79%|███████▉  | 427/541 [04:53<01:15,  1.51it/s]\u001b[A\n",
      " 79%|███████▉  | 428/541 [04:53<01:14,  1.51it/s]\u001b[A\n",
      " 79%|███████▉  | 429/541 [04:54<01:16,  1.47it/s]\u001b[A\n",
      " 79%|███████▉  | 430/541 [04:55<01:16,  1.46it/s]\u001b[A\n",
      " 80%|███████▉  | 431/541 [04:55<01:14,  1.47it/s]\u001b[A\n",
      " 80%|███████▉  | 432/541 [04:56<01:13,  1.49it/s]\u001b[A\n",
      " 80%|████████  | 433/541 [04:57<01:12,  1.48it/s]\u001b[A\n",
      " 80%|████████  | 434/541 [04:57<01:13,  1.46it/s]\u001b[A\n",
      " 80%|████████  | 435/541 [04:58<01:13,  1.45it/s]\u001b[A\n",
      " 81%|████████  | 436/541 [04:59<01:11,  1.46it/s]\u001b[A\n",
      " 81%|████████  | 437/541 [04:59<01:10,  1.48it/s]\u001b[A\n",
      " 81%|████████  | 438/541 [05:00<01:09,  1.48it/s]\u001b[A\n",
      " 81%|████████  | 439/541 [05:01<01:08,  1.49it/s]\u001b[A\n",
      " 81%|████████▏ | 440/541 [05:01<01:08,  1.48it/s]\u001b[A\n",
      " 82%|████████▏ | 441/541 [05:02<01:07,  1.49it/s]\u001b[A\n",
      " 82%|████████▏ | 442/541 [05:03<01:06,  1.50it/s]\u001b[A\n",
      " 82%|████████▏ | 443/541 [05:03<01:05,  1.49it/s]\u001b[A\n",
      " 82%|████████▏ | 444/541 [05:04<01:04,  1.49it/s]\u001b[A\n",
      " 82%|████████▏ | 445/541 [05:05<01:04,  1.48it/s]\u001b[A\n",
      " 82%|████████▏ | 446/541 [05:05<01:03,  1.49it/s]\u001b[A\n",
      " 83%|████████▎ | 447/541 [05:06<01:03,  1.48it/s]\u001b[A\n",
      " 83%|████████▎ | 448/541 [05:07<01:02,  1.49it/s]\u001b[A\n",
      " 83%|████████▎ | 449/541 [05:07<01:01,  1.50it/s]\u001b[A\n",
      " 83%|████████▎ | 450/541 [05:08<01:01,  1.49it/s]\u001b[A\n",
      " 83%|████████▎ | 451/541 [05:09<01:00,  1.50it/s]\u001b[A\n",
      " 84%|████████▎ | 452/541 [05:09<00:58,  1.51it/s]\u001b[A\n",
      " 84%|████████▎ | 453/541 [05:10<00:57,  1.52it/s]\u001b[A\n",
      " 84%|████████▍ | 454/541 [05:11<00:56,  1.54it/s]\u001b[A\n",
      " 84%|████████▍ | 455/541 [05:11<00:55,  1.55it/s]\u001b[A\n",
      " 84%|████████▍ | 456/541 [05:12<00:54,  1.57it/s]\u001b[A\n",
      " 84%|████████▍ | 457/541 [05:13<00:54,  1.55it/s]\u001b[A\n",
      " 85%|████████▍ | 458/541 [05:13<00:54,  1.53it/s]\u001b[A\n",
      " 85%|████████▍ | 459/541 [05:14<00:54,  1.51it/s]\u001b[A\n",
      " 85%|████████▌ | 460/541 [05:15<00:54,  1.49it/s]\u001b[A\n",
      " 85%|████████▌ | 461/541 [05:15<00:53,  1.50it/s]\u001b[A\n",
      " 85%|████████▌ | 462/541 [05:16<00:52,  1.50it/s]\u001b[A\n",
      " 86%|████████▌ | 463/541 [05:17<00:51,  1.50it/s]\u001b[A\n",
      " 86%|████████▌ | 464/541 [05:17<00:51,  1.50it/s]\u001b[A\n",
      " 86%|████████▌ | 465/541 [05:18<00:51,  1.49it/s]\u001b[A\n",
      " 86%|████████▌ | 466/541 [05:19<00:51,  1.46it/s]\u001b[A\n",
      " 86%|████████▋ | 467/541 [05:19<00:50,  1.45it/s]\u001b[A\n",
      " 87%|████████▋ | 468/541 [05:20<00:49,  1.47it/s]\u001b[A\n",
      " 87%|████████▋ | 469/541 [05:21<00:48,  1.49it/s]\u001b[A\n",
      " 87%|████████▋ | 470/541 [05:21<00:48,  1.46it/s]\u001b[A\n",
      " 87%|████████▋ | 471/541 [05:22<00:53,  1.31it/s]\u001b[A\n",
      " 87%|████████▋ | 472/541 [05:23<00:50,  1.36it/s]\u001b[A\n",
      " 87%|████████▋ | 473/541 [05:24<00:48,  1.40it/s]\u001b[A\n",
      " 88%|████████▊ | 474/541 [05:24<00:47,  1.42it/s]\u001b[A\n",
      " 88%|████████▊ | 475/541 [05:25<00:45,  1.44it/s]\u001b[A\n",
      " 88%|████████▊ | 476/541 [05:26<00:44,  1.47it/s]\u001b[A\n",
      " 88%|████████▊ | 477/541 [05:26<00:42,  1.51it/s]\u001b[A\n",
      " 88%|████████▊ | 478/541 [05:27<00:40,  1.54it/s]\u001b[A\n",
      " 89%|████████▊ | 479/541 [05:28<00:40,  1.53it/s]\u001b[A\n",
      " 89%|████████▊ | 480/541 [05:28<00:40,  1.51it/s]\u001b[A\n",
      " 89%|████████▉ | 481/541 [05:29<00:39,  1.51it/s]\u001b[A\n",
      " 89%|████████▉ | 482/541 [05:30<00:38,  1.52it/s]\u001b[A\n",
      " 89%|████████▉ | 483/541 [05:30<00:37,  1.54it/s]\u001b[A\n",
      " 89%|████████▉ | 484/541 [05:31<00:37,  1.53it/s]\u001b[A\n",
      " 90%|████████▉ | 485/541 [05:32<00:36,  1.54it/s]\u001b[A\n",
      " 90%|████████▉ | 486/541 [05:32<00:35,  1.54it/s]\u001b[A\n",
      " 90%|█████████ | 487/541 [05:33<00:35,  1.53it/s]\u001b[A\n",
      " 90%|█████████ | 488/541 [05:34<00:34,  1.53it/s]\u001b[A\n",
      " 90%|█████████ | 489/541 [05:34<00:34,  1.52it/s]\u001b[A\n",
      " 91%|█████████ | 490/541 [05:35<00:34,  1.50it/s]\u001b[A\n",
      " 91%|█████████ | 491/541 [05:36<00:33,  1.49it/s]\u001b[A\n",
      " 91%|█████████ | 492/541 [05:36<00:33,  1.48it/s]\u001b[A\n",
      " 91%|█████████ | 493/541 [05:37<00:32,  1.46it/s]\u001b[A\n",
      " 91%|█████████▏| 494/541 [05:38<00:32,  1.46it/s]\u001b[A\n",
      " 91%|█████████▏| 495/541 [05:38<00:31,  1.46it/s]\u001b[A\n",
      " 92%|█████████▏| 496/541 [05:39<00:30,  1.46it/s]\u001b[A\n",
      " 92%|█████████▏| 497/541 [05:40<00:29,  1.47it/s]\u001b[A\n",
      " 92%|█████████▏| 498/541 [05:40<00:29,  1.47it/s]\u001b[A\n",
      " 92%|█████████▏| 499/541 [05:41<00:28,  1.49it/s]\u001b[A\n",
      " 92%|█████████▏| 500/541 [05:42<00:27,  1.47it/s]\u001b[A\n",
      " 93%|█████████▎| 501/541 [05:42<00:27,  1.46it/s]\u001b[A\n",
      " 93%|█████████▎| 502/541 [05:43<00:26,  1.45it/s]\u001b[A\n",
      " 93%|█████████▎| 503/541 [05:44<00:26,  1.45it/s]\u001b[A\n",
      " 93%|█████████▎| 504/541 [05:44<00:25,  1.45it/s]\u001b[A\n",
      " 93%|█████████▎| 505/541 [05:45<00:24,  1.44it/s]\u001b[A\n",
      " 94%|█████████▎| 506/541 [05:46<00:24,  1.44it/s]\u001b[A\n",
      " 94%|█████████▎| 507/541 [05:47<00:23,  1.45it/s]\u001b[A\n",
      " 94%|█████████▍| 508/541 [05:47<00:22,  1.46it/s]\u001b[A\n",
      " 94%|█████████▍| 509/541 [05:48<00:21,  1.46it/s]\u001b[A\n",
      " 94%|█████████▍| 510/541 [05:49<00:21,  1.46it/s]\u001b[A\n",
      " 94%|█████████▍| 511/541 [05:49<00:20,  1.49it/s]\u001b[A\n",
      " 95%|█████████▍| 512/541 [05:50<00:19,  1.51it/s]\u001b[A\n",
      " 95%|█████████▍| 513/541 [05:51<00:18,  1.51it/s]\u001b[A\n",
      " 95%|█████████▌| 514/541 [05:51<00:18,  1.49it/s]\u001b[A\n",
      " 95%|█████████▌| 515/541 [05:52<00:17,  1.49it/s]\u001b[A\n",
      " 95%|█████████▌| 516/541 [05:53<00:16,  1.50it/s]\u001b[A\n",
      " 96%|█████████▌| 517/541 [05:53<00:16,  1.49it/s]\u001b[A\n",
      " 96%|█████████▌| 518/541 [05:54<00:15,  1.49it/s]\u001b[A\n",
      " 96%|█████████▌| 519/541 [05:55<00:14,  1.47it/s]\u001b[A\n",
      " 96%|█████████▌| 520/541 [05:55<00:14,  1.48it/s]\u001b[A\n",
      " 96%|█████████▋| 521/541 [05:56<00:13,  1.47it/s]\u001b[A\n",
      " 96%|█████████▋| 522/541 [05:57<00:12,  1.47it/s]\u001b[A\n",
      " 97%|█████████▋| 523/541 [05:57<00:12,  1.48it/s]\u001b[A\n",
      " 97%|█████████▋| 524/541 [05:58<00:12,  1.33it/s]\u001b[A\n",
      " 97%|█████████▋| 525/541 [05:59<00:11,  1.39it/s]\u001b[A\n",
      " 97%|█████████▋| 526/541 [06:00<00:10,  1.43it/s]\u001b[A\n",
      " 97%|█████████▋| 527/541 [06:00<00:09,  1.45it/s]\u001b[A\n",
      " 98%|█████████▊| 528/541 [06:01<00:08,  1.46it/s]\u001b[A\n",
      " 98%|█████████▊| 529/541 [06:02<00:08,  1.47it/s]\u001b[A\n",
      " 98%|█████████▊| 530/541 [06:02<00:07,  1.48it/s]\u001b[A\n",
      " 98%|█████████▊| 531/541 [06:03<00:06,  1.48it/s]\u001b[A\n",
      " 98%|█████████▊| 532/541 [06:04<00:06,  1.48it/s]\u001b[A\n",
      " 99%|█████████▊| 533/541 [06:04<00:05,  1.48it/s]\u001b[A\n",
      " 99%|█████████▊| 534/541 [06:05<00:04,  1.48it/s]\u001b[A\n",
      " 99%|█████████▉| 535/541 [06:06<00:04,  1.49it/s]\u001b[A\n",
      " 99%|█████████▉| 536/541 [06:06<00:03,  1.50it/s]\u001b[A\n",
      " 99%|█████████▉| 537/541 [06:07<00:02,  1.33it/s]\u001b[A\n",
      " 99%|█████████▉| 538/541 [06:08<00:02,  1.34it/s]\u001b[A\n",
      "100%|█████████▉| 539/541 [06:09<00:01,  1.34it/s]\u001b[A\n",
      "100%|█████████▉| 540/541 [06:09<00:00,  1.37it/s]\u001b[A\n",
      "100%|██████████| 541/541 [06:10<00:00,  1.46it/s]\u001b[A\n"
     ]
    }
   ],
   "source": [
    "negrank_deepmatcher,flippedneg_deepmatcher = explainSamples(corrects_deepmatcher,[walmart,amazon],walmart_deepmatcher,\n",
    "                             predict_fn_deepmatcher,0,4)"
   ]
  },
  {
   "cell_type": "code",
   "execution_count": 23,
   "metadata": {
    "ExecuteTime": {
     "end_time": "2020-06-06T08:45:43.255219Z",
     "start_time": "2020-06-06T08:44:14.717990Z"
    }
   },
   "outputs": [
    {
     "name": "stderr",
     "output_type": "stream",
     "text": [
      "\n",
      "  0%|          | 0/522 [00:00<?, ?it/s]\u001b[A\n",
      "  0%|          | 1/522 [00:00<01:26,  6.02it/s]\u001b[A\n",
      "  0%|          | 2/522 [00:00<01:28,  5.90it/s]\u001b[A\n",
      "  1%|          | 3/522 [00:00<01:28,  5.88it/s]\u001b[A\n",
      "  1%|          | 4/522 [00:00<01:27,  5.91it/s]\u001b[A\n",
      "  1%|          | 5/522 [00:00<01:28,  5.83it/s]\u001b[A\n",
      "  1%|          | 6/522 [00:01<01:26,  5.97it/s]\u001b[A\n",
      "  1%|▏         | 7/522 [00:01<01:29,  5.76it/s]\u001b[A\n",
      "  2%|▏         | 8/522 [00:01<01:29,  5.75it/s]\u001b[A\n",
      "  2%|▏         | 9/522 [00:01<01:28,  5.79it/s]\u001b[A\n",
      "  2%|▏         | 10/522 [00:01<01:27,  5.85it/s]\u001b[A\n",
      "  2%|▏         | 11/522 [00:01<01:24,  6.06it/s]\u001b[A\n",
      "  2%|▏         | 12/522 [00:02<01:23,  6.10it/s]\u001b[A\n",
      "  2%|▏         | 13/522 [00:02<01:19,  6.41it/s]\u001b[A\n",
      "  3%|▎         | 14/522 [00:02<01:18,  6.46it/s]\u001b[A\n",
      "  3%|▎         | 15/522 [00:02<01:17,  6.52it/s]\u001b[A\n",
      "  3%|▎         | 16/522 [00:02<01:19,  6.36it/s]\u001b[A\n",
      "  3%|▎         | 17/522 [00:02<01:20,  6.27it/s]\u001b[A\n",
      "  3%|▎         | 18/522 [00:02<01:21,  6.16it/s]\u001b[A\n",
      "  4%|▎         | 19/522 [00:03<01:25,  5.91it/s]\u001b[A\n",
      "  4%|▍         | 20/522 [00:03<01:27,  5.76it/s]\u001b[A\n",
      "  4%|▍         | 21/522 [00:03<01:23,  5.97it/s]\u001b[A\n",
      "  4%|▍         | 22/522 [00:03<01:23,  5.96it/s]\u001b[A\n",
      "  4%|▍         | 23/522 [00:03<01:25,  5.81it/s]\u001b[A\n",
      "  5%|▍         | 24/522 [00:04<01:23,  5.93it/s]\u001b[A\n",
      "  5%|▍         | 25/522 [00:04<01:24,  5.89it/s]\u001b[A\n",
      "  5%|▍         | 26/522 [00:04<01:22,  6.04it/s]\u001b[A\n",
      "  5%|▌         | 27/522 [00:04<01:22,  5.99it/s]\u001b[A\n",
      "  5%|▌         | 28/522 [00:04<01:21,  6.07it/s]\u001b[A\n",
      "  6%|▌         | 29/522 [00:04<01:21,  6.04it/s]\u001b[A\n",
      "  6%|▌         | 30/522 [00:04<01:21,  6.02it/s]\u001b[A\n",
      "  6%|▌         | 31/522 [00:05<01:19,  6.21it/s]\u001b[A\n",
      "  6%|▌         | 32/522 [00:05<01:19,  6.20it/s]\u001b[A\n",
      "  6%|▋         | 33/522 [00:05<01:17,  6.30it/s]\u001b[A\n",
      "  7%|▋         | 34/522 [00:05<01:16,  6.38it/s]\u001b[A\n",
      "  7%|▋         | 35/522 [00:05<01:15,  6.41it/s]\u001b[A\n",
      "  7%|▋         | 36/522 [00:05<01:16,  6.33it/s]\u001b[A\n",
      "  7%|▋         | 37/522 [00:06<01:16,  6.36it/s]\u001b[A\n",
      "  7%|▋         | 38/522 [00:06<01:17,  6.23it/s]\u001b[A\n",
      "  7%|▋         | 39/522 [00:06<01:19,  6.04it/s]\u001b[A\n",
      "  8%|▊         | 40/522 [00:06<01:19,  6.10it/s]\u001b[A\n",
      "  8%|▊         | 41/522 [00:06<01:20,  6.00it/s]\u001b[A\n",
      "  8%|▊         | 42/522 [00:06<01:19,  6.01it/s]\u001b[A\n",
      "  8%|▊         | 43/522 [00:07<01:17,  6.22it/s]\u001b[A\n",
      "  8%|▊         | 44/522 [00:07<01:12,  6.55it/s]\u001b[A\n",
      "  9%|▊         | 45/522 [00:07<01:11,  6.66it/s]\u001b[A\n",
      "  9%|▉         | 46/522 [00:07<01:12,  6.53it/s]\u001b[A\n",
      "  9%|▉         | 47/522 [00:07<01:14,  6.35it/s]\u001b[A\n",
      "  9%|▉         | 48/522 [00:07<01:17,  6.14it/s]\u001b[A\n",
      "  9%|▉         | 49/522 [00:08<01:16,  6.16it/s]\u001b[A\n",
      " 10%|▉         | 50/522 [00:08<01:18,  6.05it/s]\u001b[A\n",
      " 10%|▉         | 51/522 [00:08<01:18,  6.04it/s]\u001b[A\n",
      " 10%|▉         | 52/522 [00:08<01:16,  6.18it/s]\u001b[A\n",
      " 10%|█         | 53/522 [00:08<01:14,  6.27it/s]\u001b[A\n",
      " 10%|█         | 54/522 [00:08<01:18,  5.99it/s]\u001b[A\n",
      " 11%|█         | 55/522 [00:09<01:18,  5.95it/s]\u001b[A\n",
      " 11%|█         | 56/522 [00:09<01:18,  5.94it/s]\u001b[A\n",
      " 11%|█         | 57/522 [00:09<01:20,  5.78it/s]\u001b[A\n",
      " 11%|█         | 58/522 [00:09<01:19,  5.82it/s]\u001b[A\n",
      " 11%|█▏        | 59/522 [00:09<01:19,  5.83it/s]\u001b[A\n",
      " 11%|█▏        | 60/522 [00:09<01:18,  5.90it/s]\u001b[A\n",
      " 12%|█▏        | 61/522 [00:10<01:17,  5.98it/s]\u001b[A\n",
      " 12%|█▏        | 62/522 [00:10<01:16,  6.02it/s]\u001b[A\n",
      " 12%|█▏        | 63/522 [00:10<01:16,  5.99it/s]\u001b[A\n",
      " 12%|█▏        | 64/522 [00:10<01:15,  6.07it/s]\u001b[A\n",
      " 12%|█▏        | 65/522 [00:10<01:18,  5.85it/s]\u001b[A\n",
      " 13%|█▎        | 66/522 [00:10<01:18,  5.83it/s]\u001b[A\n",
      " 13%|█▎        | 67/522 [00:11<01:17,  5.85it/s]\u001b[A\n",
      " 13%|█▎        | 68/522 [00:11<01:16,  5.97it/s]\u001b[A\n",
      " 13%|█▎        | 69/522 [00:11<01:13,  6.13it/s]\u001b[A\n",
      " 13%|█▎        | 70/522 [00:11<01:11,  6.33it/s]\u001b[A\n",
      " 14%|█▎        | 71/522 [00:11<01:08,  6.61it/s]\u001b[A\n",
      " 14%|█▍        | 72/522 [00:11<01:06,  6.75it/s]\u001b[A\n",
      " 14%|█▍        | 73/522 [00:11<01:08,  6.59it/s]\u001b[A\n",
      " 14%|█▍        | 74/522 [00:12<01:09,  6.45it/s]\u001b[A\n",
      " 14%|█▍        | 75/522 [00:12<01:07,  6.65it/s]\u001b[A\n",
      " 15%|█▍        | 76/522 [00:12<01:08,  6.48it/s]\u001b[A\n",
      " 15%|█▍        | 77/522 [00:12<01:10,  6.31it/s]\u001b[A\n",
      " 15%|█▍        | 78/522 [00:12<01:11,  6.18it/s]\u001b[A\n",
      " 15%|█▌        | 79/522 [00:12<01:10,  6.25it/s]\u001b[A\n",
      " 15%|█▌        | 80/522 [00:13<01:10,  6.24it/s]\u001b[A\n",
      " 16%|█▌        | 81/522 [00:13<01:13,  5.99it/s]\u001b[A\n",
      " 16%|█▌        | 82/522 [00:13<01:11,  6.16it/s]\u001b[A\n",
      " 16%|█▌        | 83/522 [00:13<01:10,  6.25it/s]\u001b[A\n",
      " 16%|█▌        | 84/522 [00:13<01:10,  6.24it/s]\u001b[A\n",
      " 16%|█▋        | 85/522 [00:13<01:11,  6.13it/s]\u001b[A\n",
      " 16%|█▋        | 86/522 [00:14<01:11,  6.13it/s]\u001b[A\n",
      " 17%|█▋        | 87/522 [00:14<01:12,  6.01it/s]\u001b[A\n",
      " 17%|█▋        | 88/522 [00:14<01:11,  6.10it/s]\u001b[A\n",
      " 17%|█▋        | 89/522 [00:14<01:09,  6.20it/s]\u001b[A\n",
      " 17%|█▋        | 90/522 [00:14<01:11,  6.03it/s]\u001b[A\n",
      " 17%|█▋        | 91/522 [00:14<01:11,  6.00it/s]\u001b[A\n",
      " 18%|█▊        | 92/522 [00:15<01:12,  5.96it/s]\u001b[A\n",
      " 18%|█▊        | 93/522 [00:15<01:12,  5.93it/s]\u001b[A\n",
      " 18%|█▊        | 94/522 [00:15<01:09,  6.16it/s]\u001b[A\n",
      " 18%|█▊        | 95/522 [00:15<01:10,  6.10it/s]\u001b[A\n",
      " 18%|█▊        | 96/522 [00:15<01:10,  6.02it/s]\u001b[A\n",
      " 19%|█▊        | 97/522 [00:15<01:10,  6.04it/s]\u001b[A\n",
      " 19%|█▉        | 98/522 [00:16<01:13,  5.79it/s]\u001b[A\n",
      " 19%|█▉        | 99/522 [00:16<01:14,  5.64it/s]\u001b[A\n",
      " 19%|█▉        | 100/522 [00:16<01:17,  5.44it/s]\u001b[A\n",
      " 19%|█▉        | 101/522 [00:16<01:14,  5.65it/s]\u001b[A\n",
      " 20%|█▉        | 102/522 [00:16<01:12,  5.80it/s]\u001b[A\n",
      " 20%|█▉        | 103/522 [00:16<01:13,  5.71it/s]\u001b[A\n",
      " 20%|█▉        | 104/522 [00:17<01:13,  5.71it/s]\u001b[A\n",
      " 20%|██        | 105/522 [00:17<01:16,  5.48it/s]\u001b[A\n",
      " 20%|██        | 106/522 [00:17<01:14,  5.56it/s]\u001b[A\n",
      " 20%|██        | 107/522 [00:17<01:13,  5.68it/s]\u001b[A\n",
      " 21%|██        | 108/522 [00:17<01:12,  5.75it/s]\u001b[A\n",
      " 21%|██        | 109/522 [00:18<01:11,  5.76it/s]\u001b[A\n",
      " 21%|██        | 110/522 [00:18<01:10,  5.87it/s]\u001b[A\n",
      " 21%|██▏       | 111/522 [00:18<01:07,  6.10it/s]\u001b[A\n",
      " 21%|██▏       | 112/522 [00:18<01:06,  6.20it/s]\u001b[A\n",
      " 22%|██▏       | 113/522 [00:18<01:06,  6.17it/s]\u001b[A\n",
      " 22%|██▏       | 114/522 [00:18<01:08,  5.96it/s]\u001b[A\n",
      " 22%|██▏       | 115/522 [00:19<01:08,  5.90it/s]\u001b[A\n",
      " 22%|██▏       | 116/522 [00:19<01:08,  5.92it/s]\u001b[A\n",
      " 22%|██▏       | 117/522 [00:19<01:07,  5.99it/s]\u001b[A\n",
      " 23%|██▎       | 118/522 [00:19<01:07,  5.99it/s]\u001b[A\n",
      " 23%|██▎       | 119/522 [00:19<01:05,  6.14it/s]\u001b[A\n",
      " 23%|██▎       | 120/522 [00:19<01:05,  6.13it/s]\u001b[A\n",
      " 23%|██▎       | 121/522 [00:19<01:05,  6.12it/s]\u001b[A\n",
      " 23%|██▎       | 122/522 [00:20<01:06,  6.06it/s]\u001b[A\n",
      " 24%|██▎       | 123/522 [00:20<01:06,  6.02it/s]\u001b[A\n",
      " 24%|██▍       | 124/522 [00:20<01:03,  6.26it/s]\u001b[A\n",
      " 24%|██▍       | 125/522 [00:20<01:00,  6.51it/s]\u001b[A\n",
      " 24%|██▍       | 126/522 [00:20<00:58,  6.77it/s]\u001b[A\n",
      " 24%|██▍       | 127/522 [00:20<01:00,  6.56it/s]\u001b[A\n",
      " 25%|██▍       | 128/522 [00:21<00:59,  6.62it/s]\u001b[A\n",
      " 25%|██▍       | 129/522 [00:21<00:58,  6.74it/s]\u001b[A\n",
      " 25%|██▍       | 130/522 [00:21<00:57,  6.76it/s]\u001b[A\n",
      " 25%|██▌       | 131/522 [00:21<00:58,  6.67it/s]\u001b[A\n",
      " 25%|██▌       | 132/522 [00:21<01:01,  6.39it/s]\u001b[A\n",
      " 25%|██▌       | 133/522 [00:21<01:00,  6.41it/s]\u001b[A\n",
      " 26%|██▌       | 134/522 [00:21<01:00,  6.37it/s]\u001b[A\n",
      " 26%|██▌       | 135/522 [00:22<01:02,  6.17it/s]\u001b[A\n",
      " 26%|██▌       | 136/522 [00:22<01:03,  6.08it/s]\u001b[A\n",
      " 26%|██▌       | 137/522 [00:22<01:05,  5.92it/s]\u001b[A\n",
      " 26%|██▋       | 138/522 [00:22<01:06,  5.75it/s]\u001b[A\n",
      " 27%|██▋       | 139/522 [00:22<01:07,  5.70it/s]\u001b[A\n",
      " 27%|██▋       | 140/522 [00:23<01:07,  5.67it/s]\u001b[A\n",
      " 27%|██▋       | 141/522 [00:23<01:07,  5.67it/s]\u001b[A\n",
      " 27%|██▋       | 142/522 [00:23<01:06,  5.69it/s]\u001b[A\n",
      " 27%|██▋       | 143/522 [00:23<01:04,  5.86it/s]\u001b[A\n",
      " 28%|██▊       | 144/522 [00:23<01:04,  5.89it/s]\u001b[A\n",
      " 28%|██▊       | 145/522 [00:23<01:03,  5.90it/s]\u001b[A\n",
      " 28%|██▊       | 146/522 [00:24<01:04,  5.86it/s]\u001b[A\n",
      " 28%|██▊       | 147/522 [00:24<01:03,  5.90it/s]\u001b[A\n",
      " 28%|██▊       | 148/522 [00:24<01:02,  5.99it/s]\u001b[A\n",
      " 29%|██▊       | 149/522 [00:24<01:02,  6.00it/s]\u001b[A\n",
      " 29%|██▊       | 150/522 [00:24<01:00,  6.18it/s]\u001b[A\n",
      " 29%|██▉       | 151/522 [00:24<01:02,  5.98it/s]\u001b[A\n",
      " 29%|██▉       | 152/522 [00:25<01:03,  5.85it/s]\u001b[A\n",
      " 29%|██▉       | 153/522 [00:25<01:02,  5.88it/s]\u001b[A\n",
      " 30%|██▉       | 154/522 [00:25<01:03,  5.77it/s]\u001b[A\n",
      " 30%|██▉       | 155/522 [00:25<01:03,  5.79it/s]\u001b[A\n",
      " 30%|██▉       | 156/522 [00:25<01:04,  5.71it/s]\u001b[A\n",
      " 30%|███       | 157/522 [00:25<01:04,  5.67it/s]\u001b[A\n",
      " 30%|███       | 158/522 [00:26<01:03,  5.72it/s]\u001b[A\n",
      " 30%|███       | 159/522 [00:26<01:02,  5.79it/s]\u001b[A\n",
      " 31%|███       | 160/522 [00:26<01:03,  5.73it/s]\u001b[A\n",
      " 31%|███       | 161/522 [00:26<01:03,  5.67it/s]\u001b[A\n",
      " 31%|███       | 162/522 [00:26<01:04,  5.59it/s]\u001b[A\n",
      " 31%|███       | 163/522 [00:27<01:04,  5.59it/s]\u001b[A\n",
      " 31%|███▏      | 164/522 [00:27<01:02,  5.72it/s]\u001b[A\n",
      " 32%|███▏      | 165/522 [00:27<01:02,  5.67it/s]\u001b[A\n",
      " 32%|███▏      | 166/522 [00:27<01:00,  5.86it/s]\u001b[A\n",
      " 32%|███▏      | 167/522 [00:27<00:58,  6.09it/s]\u001b[A\n",
      " 32%|███▏      | 168/522 [00:27<00:56,  6.25it/s]\u001b[A\n",
      " 32%|███▏      | 169/522 [00:27<00:57,  6.14it/s]\u001b[A\n",
      " 33%|███▎      | 170/522 [00:28<00:56,  6.20it/s]\u001b[A\n",
      " 33%|███▎      | 171/522 [00:28<00:57,  6.08it/s]\u001b[A\n",
      " 33%|███▎      | 172/522 [00:28<00:59,  5.91it/s]\u001b[A\n",
      " 33%|███▎      | 173/522 [00:28<00:57,  6.11it/s]\u001b[A\n",
      " 33%|███▎      | 174/522 [00:28<00:56,  6.13it/s]\u001b[A\n",
      " 34%|███▎      | 175/522 [00:28<00:58,  5.92it/s]\u001b[A\n",
      " 34%|███▎      | 176/522 [00:29<01:02,  5.53it/s]\u001b[A\n",
      " 34%|███▍      | 177/522 [00:29<01:00,  5.66it/s]\u001b[A\n",
      " 34%|███▍      | 178/522 [00:29<01:01,  5.63it/s]\u001b[A\n",
      " 34%|███▍      | 179/522 [00:29<01:00,  5.62it/s]\u001b[A\n",
      " 34%|███▍      | 180/522 [00:30<01:37,  3.51it/s]\u001b[A\n",
      " 35%|███▍      | 181/522 [00:30<01:24,  4.05it/s]\u001b[A\n",
      " 35%|███▍      | 182/522 [00:30<01:16,  4.46it/s]\u001b[A\n",
      " 35%|███▌      | 183/522 [00:30<01:09,  4.87it/s]\u001b[A\n",
      " 35%|███▌      | 184/522 [00:30<01:05,  5.12it/s]\u001b[A\n",
      " 35%|███▌      | 185/522 [00:31<01:02,  5.38it/s]\u001b[A\n",
      " 36%|███▌      | 186/522 [00:31<00:59,  5.68it/s]\u001b[A\n",
      " 36%|███▌      | 187/522 [00:31<00:57,  5.84it/s]\u001b[A\n",
      " 36%|███▌      | 188/522 [00:31<00:56,  5.91it/s]\u001b[A\n",
      " 36%|███▌      | 189/522 [00:31<00:57,  5.80it/s]\u001b[A\n",
      " 36%|███▋      | 190/522 [00:31<00:55,  5.93it/s]\u001b[A\n",
      " 37%|███▋      | 191/522 [00:32<00:55,  5.95it/s]\u001b[A\n",
      " 37%|███▋      | 192/522 [00:32<00:55,  5.95it/s]\u001b[A\n",
      " 37%|███▋      | 193/522 [00:32<00:56,  5.83it/s]\u001b[A\n",
      " 37%|███▋      | 194/522 [00:32<00:57,  5.66it/s]\u001b[A\n",
      " 37%|███▋      | 195/522 [00:32<00:55,  5.86it/s]\u001b[A\n",
      " 38%|███▊      | 196/522 [00:32<00:54,  5.99it/s]\u001b[A\n",
      " 38%|███▊      | 197/522 [00:33<00:55,  5.91it/s]\u001b[A\n",
      " 38%|███▊      | 198/522 [00:33<00:53,  6.01it/s]\u001b[A\n",
      " 38%|███▊      | 199/522 [00:33<00:55,  5.80it/s]\u001b[A\n",
      " 38%|███▊      | 200/522 [00:33<00:56,  5.68it/s]\u001b[A\n",
      " 39%|███▊      | 201/522 [00:33<00:57,  5.57it/s]\u001b[A\n",
      " 39%|███▊      | 202/522 [00:33<00:55,  5.78it/s]\u001b[A\n",
      " 39%|███▉      | 203/522 [00:34<00:55,  5.75it/s]\u001b[A\n",
      " 39%|███▉      | 204/522 [00:34<00:53,  5.90it/s]\u001b[A\n",
      " 39%|███▉      | 205/522 [00:34<00:53,  5.96it/s]\u001b[A\n",
      " 39%|███▉      | 206/522 [00:34<00:52,  6.07it/s]\u001b[A\n",
      " 40%|███▉      | 207/522 [00:34<00:51,  6.11it/s]\u001b[A\n",
      " 40%|███▉      | 208/522 [00:34<00:51,  6.12it/s]\u001b[A\n",
      " 40%|████      | 209/522 [00:35<00:49,  6.35it/s]\u001b[A\n",
      " 40%|████      | 210/522 [00:35<00:48,  6.42it/s]\u001b[A\n",
      " 40%|████      | 211/522 [00:35<00:50,  6.19it/s]\u001b[A\n",
      " 41%|████      | 212/522 [00:35<00:50,  6.17it/s]\u001b[A\n",
      " 41%|████      | 213/522 [00:35<00:49,  6.20it/s]\u001b[A\n",
      " 41%|████      | 214/522 [00:35<00:49,  6.24it/s]\u001b[A\n",
      " 41%|████      | 215/522 [00:36<00:49,  6.21it/s]\u001b[A\n",
      " 41%|████▏     | 216/522 [00:36<00:49,  6.20it/s]\u001b[A\n",
      " 42%|████▏     | 217/522 [00:36<00:49,  6.17it/s]\u001b[A\n",
      " 42%|████▏     | 218/522 [00:36<00:50,  6.05it/s]\u001b[A\n",
      " 42%|████▏     | 219/522 [00:36<00:50,  5.97it/s]\u001b[A\n",
      " 42%|████▏     | 220/522 [00:36<00:49,  6.07it/s]\u001b[A\n",
      " 42%|████▏     | 221/522 [00:37<00:48,  6.20it/s]\u001b[A\n",
      " 43%|████▎     | 222/522 [00:37<00:49,  6.08it/s]\u001b[A\n",
      " 43%|████▎     | 223/522 [00:37<00:48,  6.22it/s]\u001b[A\n",
      " 43%|████▎     | 224/522 [00:37<00:48,  6.09it/s]\u001b[A\n",
      " 43%|████▎     | 225/522 [00:37<00:48,  6.14it/s]\u001b[A\n",
      " 43%|████▎     | 226/522 [00:37<00:47,  6.19it/s]\u001b[A\n",
      " 43%|████▎     | 227/522 [00:38<00:47,  6.26it/s]\u001b[A\n",
      " 44%|████▎     | 228/522 [00:38<00:47,  6.25it/s]\u001b[A\n",
      " 44%|████▍     | 229/522 [00:38<00:48,  6.08it/s]\u001b[A\n",
      " 44%|████▍     | 230/522 [00:38<00:50,  5.74it/s]\u001b[A\n",
      " 44%|████▍     | 231/522 [00:38<00:54,  5.38it/s]\u001b[A\n",
      " 44%|████▍     | 232/522 [00:38<00:55,  5.27it/s]\u001b[A\n",
      " 45%|████▍     | 233/522 [00:39<00:54,  5.35it/s]\u001b[A\n",
      " 45%|████▍     | 234/522 [00:39<00:52,  5.48it/s]\u001b[A\n",
      " 45%|████▌     | 235/522 [00:39<00:50,  5.68it/s]\u001b[A\n",
      " 45%|████▌     | 236/522 [00:39<00:48,  5.91it/s]\u001b[A\n",
      " 45%|████▌     | 237/522 [00:39<00:46,  6.15it/s]\u001b[A\n",
      " 46%|████▌     | 238/522 [00:39<00:46,  6.07it/s]\u001b[A\n",
      " 46%|████▌     | 239/522 [00:40<00:46,  6.06it/s]\u001b[A\n",
      " 46%|████▌     | 240/522 [00:40<00:46,  6.10it/s]\u001b[A\n",
      " 46%|████▌     | 241/522 [00:40<00:45,  6.24it/s]\u001b[A\n",
      " 46%|████▋     | 242/522 [00:40<00:45,  6.12it/s]\u001b[A\n",
      " 47%|████▋     | 243/522 [00:40<00:45,  6.07it/s]\u001b[A\n",
      " 47%|████▋     | 244/522 [00:40<00:46,  6.02it/s]\u001b[A\n",
      " 47%|████▋     | 245/522 [00:41<00:45,  6.08it/s]\u001b[A\n",
      " 47%|████▋     | 246/522 [00:41<00:45,  6.06it/s]\u001b[A\n",
      " 47%|████▋     | 247/522 [00:41<00:44,  6.12it/s]\u001b[A\n",
      " 48%|████▊     | 248/522 [00:41<00:45,  6.08it/s]\u001b[A\n",
      " 48%|████▊     | 249/522 [00:41<00:44,  6.20it/s]\u001b[A\n",
      " 48%|████▊     | 250/522 [00:41<00:44,  6.14it/s]\u001b[A\n",
      " 48%|████▊     | 251/522 [00:42<00:43,  6.18it/s]\u001b[A\n",
      " 48%|████▊     | 252/522 [00:42<00:43,  6.17it/s]\u001b[A\n",
      " 48%|████▊     | 253/522 [00:42<00:44,  6.05it/s]\u001b[A\n",
      " 49%|████▊     | 254/522 [00:42<00:44,  6.01it/s]\u001b[A\n",
      " 49%|████▉     | 255/522 [00:42<00:43,  6.07it/s]\u001b[A\n",
      " 49%|████▉     | 256/522 [00:42<00:43,  6.08it/s]\u001b[A\n",
      " 49%|████▉     | 257/522 [00:43<00:43,  6.09it/s]\u001b[A\n",
      " 49%|████▉     | 258/522 [00:43<00:44,  5.99it/s]\u001b[A\n",
      " 50%|████▉     | 259/522 [00:43<00:43,  6.04it/s]\u001b[A\n",
      " 50%|████▉     | 260/522 [00:43<00:43,  6.06it/s]\u001b[A\n",
      " 50%|█████     | 261/522 [00:43<00:43,  6.05it/s]\u001b[A\n",
      " 50%|█████     | 262/522 [00:43<00:43,  5.92it/s]\u001b[A\n",
      " 50%|█████     | 263/522 [00:44<00:43,  6.02it/s]\u001b[A\n",
      " 51%|█████     | 264/522 [00:44<00:43,  5.87it/s]\u001b[A\n",
      " 51%|█████     | 265/522 [00:44<00:44,  5.75it/s]\u001b[A\n",
      " 51%|█████     | 266/522 [00:44<00:42,  6.02it/s]\u001b[A\n",
      " 51%|█████     | 267/522 [00:44<00:40,  6.22it/s]\u001b[A\n",
      " 51%|█████▏    | 268/522 [00:44<00:39,  6.44it/s]\u001b[A\n",
      " 52%|█████▏    | 269/522 [00:45<00:39,  6.39it/s]\u001b[A\n",
      " 52%|█████▏    | 270/522 [00:45<00:40,  6.21it/s]\u001b[A\n",
      " 52%|█████▏    | 271/522 [00:45<00:39,  6.28it/s]\u001b[A\n",
      " 52%|█████▏    | 272/522 [00:45<00:39,  6.28it/s]\u001b[A\n",
      " 52%|█████▏    | 273/522 [00:45<00:39,  6.32it/s]\u001b[A\n",
      " 52%|█████▏    | 274/522 [00:45<00:39,  6.20it/s]\u001b[A\n",
      " 53%|█████▎    | 275/522 [00:46<00:43,  5.65it/s]\u001b[A\n",
      " 53%|█████▎    | 276/522 [00:46<00:45,  5.36it/s]\u001b[A\n",
      " 53%|█████▎    | 277/522 [00:46<00:47,  5.20it/s]\u001b[A\n",
      " 53%|█████▎    | 278/522 [00:46<00:44,  5.44it/s]\u001b[A\n",
      " 53%|█████▎    | 279/522 [00:46<00:41,  5.82it/s]\u001b[A\n",
      " 54%|█████▎    | 280/522 [00:46<00:39,  6.16it/s]\u001b[A\n",
      " 54%|█████▍    | 281/522 [00:47<00:38,  6.18it/s]\u001b[A\n",
      " 54%|█████▍    | 282/522 [00:47<00:39,  6.13it/s]\u001b[A\n",
      " 54%|█████▍    | 283/522 [00:47<00:39,  6.10it/s]\u001b[A\n",
      " 54%|█████▍    | 284/522 [00:47<00:38,  6.19it/s]\u001b[A\n",
      " 55%|█████▍    | 285/522 [00:47<00:39,  6.00it/s]\u001b[A\n",
      " 55%|█████▍    | 286/522 [00:47<00:40,  5.90it/s]\u001b[A\n",
      " 55%|█████▍    | 287/522 [00:48<00:39,  5.90it/s]\u001b[A\n",
      " 55%|█████▌    | 288/522 [00:48<00:39,  5.95it/s]\u001b[A\n",
      " 55%|█████▌    | 289/522 [00:48<00:37,  6.21it/s]\u001b[A\n",
      " 56%|█████▌    | 290/522 [00:48<00:36,  6.41it/s]\u001b[A\n",
      " 56%|█████▌    | 291/522 [00:48<00:35,  6.46it/s]\u001b[A\n",
      " 56%|█████▌    | 292/522 [00:48<00:36,  6.39it/s]\u001b[A\n",
      " 56%|█████▌    | 293/522 [00:49<00:36,  6.33it/s]\u001b[A\n",
      " 56%|█████▋    | 294/522 [00:49<00:36,  6.30it/s]\u001b[A\n",
      " 57%|█████▋    | 295/522 [00:49<00:36,  6.18it/s]\u001b[A\n",
      " 57%|█████▋    | 296/522 [00:49<00:37,  6.06it/s]\u001b[A\n",
      " 57%|█████▋    | 297/522 [00:49<00:36,  6.18it/s]\u001b[A\n",
      " 57%|█████▋    | 298/522 [00:49<00:34,  6.45it/s]\u001b[A\n",
      " 57%|█████▋    | 299/522 [00:49<00:34,  6.47it/s]\u001b[A\n",
      " 57%|█████▋    | 300/522 [00:50<00:34,  6.36it/s]\u001b[A\n",
      " 58%|█████▊    | 301/522 [00:50<00:35,  6.16it/s]\u001b[A\n",
      " 58%|█████▊    | 302/522 [00:50<00:35,  6.12it/s]\u001b[A\n",
      " 58%|█████▊    | 303/522 [00:50<00:35,  6.25it/s]\u001b[A\n",
      " 58%|█████▊    | 304/522 [00:50<00:34,  6.25it/s]\u001b[A\n",
      " 58%|█████▊    | 305/522 [00:50<00:34,  6.36it/s]\u001b[A\n",
      " 59%|█████▊    | 306/522 [00:51<00:34,  6.24it/s]\u001b[A\n",
      " 59%|█████▉    | 307/522 [00:51<00:34,  6.16it/s]\u001b[A\n",
      " 59%|█████▉    | 308/522 [00:51<00:35,  6.02it/s]\u001b[A\n",
      " 59%|█████▉    | 309/522 [00:51<00:35,  6.04it/s]\u001b[A\n"
     ]
    },
    {
     "name": "stderr",
     "output_type": "stream",
     "text": [
      " 59%|█████▉    | 310/522 [00:51<00:36,  5.86it/s]\u001b[A\n",
      " 60%|█████▉    | 311/522 [00:51<00:36,  5.84it/s]\u001b[A\n",
      " 60%|█████▉    | 312/522 [00:52<00:36,  5.77it/s]\u001b[A\n",
      " 60%|█████▉    | 313/522 [00:52<00:36,  5.75it/s]\u001b[A\n",
      " 60%|██████    | 314/522 [00:52<00:35,  5.83it/s]\u001b[A\n",
      " 60%|██████    | 315/522 [00:52<00:35,  5.88it/s]\u001b[A\n",
      " 61%|██████    | 316/522 [00:52<00:33,  6.07it/s]\u001b[A\n",
      " 61%|██████    | 317/522 [00:52<00:33,  6.11it/s]\u001b[A\n",
      " 61%|██████    | 318/522 [00:53<00:33,  6.03it/s]\u001b[A\n",
      " 61%|██████    | 319/522 [00:53<00:32,  6.28it/s]\u001b[A\n",
      " 61%|██████▏   | 320/522 [00:53<00:32,  6.27it/s]\u001b[A\n",
      " 61%|██████▏   | 321/522 [00:53<00:33,  5.93it/s]\u001b[A\n",
      " 62%|██████▏   | 322/522 [00:53<00:33,  5.96it/s]\u001b[A\n",
      " 62%|██████▏   | 323/522 [00:53<00:33,  5.97it/s]\u001b[A\n",
      " 62%|██████▏   | 324/522 [00:54<00:33,  5.96it/s]\u001b[A\n",
      " 62%|██████▏   | 325/522 [00:54<00:33,  5.93it/s]\u001b[A\n",
      " 62%|██████▏   | 326/522 [00:54<00:32,  6.04it/s]\u001b[A\n",
      " 63%|██████▎   | 327/522 [00:54<00:32,  6.05it/s]\u001b[A\n",
      " 63%|██████▎   | 328/522 [00:54<00:32,  6.03it/s]\u001b[A\n",
      " 63%|██████▎   | 329/522 [00:54<00:32,  5.97it/s]\u001b[A\n",
      " 63%|██████▎   | 330/522 [00:55<00:32,  5.91it/s]\u001b[A\n",
      " 63%|██████▎   | 331/522 [00:55<00:32,  5.95it/s]\u001b[A\n",
      " 64%|██████▎   | 332/522 [00:55<00:31,  5.99it/s]\u001b[A\n",
      " 64%|██████▍   | 333/522 [00:55<00:31,  6.03it/s]\u001b[A\n",
      " 64%|██████▍   | 334/522 [00:55<00:30,  6.22it/s]\u001b[A\n",
      " 64%|██████▍   | 335/522 [00:55<00:30,  6.15it/s]\u001b[A\n",
      " 64%|██████▍   | 336/522 [00:56<00:29,  6.32it/s]\u001b[A\n",
      " 65%|██████▍   | 337/522 [00:56<00:29,  6.35it/s]\u001b[A\n",
      " 65%|██████▍   | 338/522 [00:56<00:28,  6.36it/s]\u001b[A\n",
      " 65%|██████▍   | 339/522 [00:56<00:29,  6.21it/s]\u001b[A\n",
      " 65%|██████▌   | 340/522 [00:56<00:30,  5.96it/s]\u001b[A\n",
      " 65%|██████▌   | 341/522 [00:56<00:29,  6.08it/s]\u001b[A\n",
      " 66%|██████▌   | 342/522 [00:57<00:29,  6.15it/s]\u001b[A\n",
      " 66%|██████▌   | 343/522 [00:57<00:29,  6.13it/s]\u001b[A\n",
      " 66%|██████▌   | 344/522 [00:57<00:29,  6.04it/s]\u001b[A\n",
      " 66%|██████▌   | 345/522 [00:57<00:29,  5.91it/s]\u001b[A\n",
      " 66%|██████▋   | 346/522 [00:57<00:30,  5.73it/s]\u001b[A\n",
      " 66%|██████▋   | 347/522 [00:57<00:31,  5.61it/s]\u001b[A\n",
      " 67%|██████▋   | 348/522 [00:58<00:31,  5.61it/s]\u001b[A\n",
      " 67%|██████▋   | 349/522 [00:58<00:30,  5.67it/s]\u001b[A\n",
      " 67%|██████▋   | 350/522 [00:58<00:30,  5.65it/s]\u001b[A\n",
      " 67%|██████▋   | 351/522 [00:58<00:29,  5.88it/s]\u001b[A\n",
      " 67%|██████▋   | 352/522 [00:58<00:27,  6.25it/s]\u001b[A\n",
      " 68%|██████▊   | 353/522 [00:58<00:26,  6.32it/s]\u001b[A\n",
      " 68%|██████▊   | 354/522 [00:59<00:26,  6.27it/s]\u001b[A\n",
      " 68%|██████▊   | 355/522 [00:59<00:26,  6.25it/s]\u001b[A\n",
      " 68%|██████▊   | 356/522 [00:59<00:27,  6.06it/s]\u001b[A\n",
      " 68%|██████▊   | 357/522 [00:59<00:28,  5.85it/s]\u001b[A\n",
      " 69%|██████▊   | 358/522 [00:59<00:28,  5.77it/s]\u001b[A\n",
      " 69%|██████▉   | 359/522 [00:59<00:29,  5.44it/s]\u001b[A\n",
      " 69%|██████▉   | 360/522 [01:00<00:30,  5.32it/s]\u001b[A\n",
      " 69%|██████▉   | 361/522 [01:00<00:28,  5.60it/s]\u001b[A\n",
      " 69%|██████▉   | 362/522 [01:00<00:27,  5.85it/s]\u001b[A\n",
      " 70%|██████▉   | 363/522 [01:00<00:26,  5.97it/s]\u001b[A\n",
      " 70%|██████▉   | 364/522 [01:00<00:26,  5.97it/s]\u001b[A\n",
      " 70%|██████▉   | 365/522 [01:00<00:26,  5.90it/s]\u001b[A\n",
      " 70%|███████   | 366/522 [01:01<00:26,  5.80it/s]\u001b[A\n",
      " 70%|███████   | 367/522 [01:01<00:26,  5.88it/s]\u001b[A\n",
      " 70%|███████   | 368/522 [01:01<00:25,  6.03it/s]\u001b[A\n",
      " 71%|███████   | 369/522 [01:01<00:25,  6.07it/s]\u001b[A\n",
      " 71%|███████   | 370/522 [01:01<00:24,  6.18it/s]\u001b[A\n",
      " 71%|███████   | 371/522 [01:02<00:25,  5.86it/s]\u001b[A\n",
      " 71%|███████▏  | 372/522 [01:02<00:25,  5.78it/s]\u001b[A\n",
      " 71%|███████▏  | 373/522 [01:02<00:26,  5.61it/s]\u001b[A\n",
      " 72%|███████▏  | 374/522 [01:02<00:25,  5.75it/s]\u001b[A\n",
      " 72%|███████▏  | 375/522 [01:02<00:25,  5.72it/s]\u001b[A\n",
      " 72%|███████▏  | 376/522 [01:02<00:24,  5.95it/s]\u001b[A\n",
      " 72%|███████▏  | 377/522 [01:03<00:23,  6.05it/s]\u001b[A\n",
      " 72%|███████▏  | 378/522 [01:03<00:23,  6.17it/s]\u001b[A\n",
      " 73%|███████▎  | 379/522 [01:03<00:23,  6.08it/s]\u001b[A\n",
      " 73%|███████▎  | 380/522 [01:03<00:23,  6.08it/s]\u001b[A\n",
      " 73%|███████▎  | 381/522 [01:03<00:23,  6.06it/s]\u001b[A\n",
      " 73%|███████▎  | 382/522 [01:03<00:23,  6.04it/s]\u001b[A\n",
      " 73%|███████▎  | 383/522 [01:04<00:23,  5.98it/s]\u001b[A\n",
      " 74%|███████▎  | 384/522 [01:04<00:23,  5.96it/s]\u001b[A\n",
      " 74%|███████▍  | 385/522 [01:04<00:22,  6.07it/s]\u001b[A\n",
      " 74%|███████▍  | 386/522 [01:04<00:22,  6.15it/s]\u001b[A\n",
      " 74%|███████▍  | 387/522 [01:04<00:21,  6.24it/s]\u001b[A\n",
      " 74%|███████▍  | 388/522 [01:04<00:21,  6.12it/s]\u001b[A\n",
      " 75%|███████▍  | 389/522 [01:05<00:22,  5.98it/s]\u001b[A\n",
      " 75%|███████▍  | 390/522 [01:05<00:22,  5.82it/s]\u001b[A\n",
      " 75%|███████▍  | 391/522 [01:05<00:22,  5.82it/s]\u001b[A\n",
      " 75%|███████▌  | 392/522 [01:05<00:22,  5.85it/s]\u001b[A\n",
      " 75%|███████▌  | 393/522 [01:05<00:22,  5.86it/s]\u001b[A\n",
      " 75%|███████▌  | 394/522 [01:05<00:21,  5.88it/s]\u001b[A\n",
      " 76%|███████▌  | 395/522 [01:06<00:20,  6.09it/s]\u001b[A\n",
      " 76%|███████▌  | 396/522 [01:06<00:20,  6.18it/s]\u001b[A\n",
      " 76%|███████▌  | 397/522 [01:06<00:20,  6.08it/s]\u001b[A\n",
      " 76%|███████▌  | 398/522 [01:06<00:21,  5.84it/s]\u001b[A\n",
      " 76%|███████▋  | 399/522 [01:06<00:21,  5.84it/s]\u001b[A\n",
      " 77%|███████▋  | 400/522 [01:06<00:21,  5.73it/s]\u001b[A\n",
      " 77%|███████▋  | 401/522 [01:07<00:20,  5.87it/s]\u001b[A\n",
      " 77%|███████▋  | 402/522 [01:07<00:20,  5.96it/s]\u001b[A\n",
      " 77%|███████▋  | 403/522 [01:07<00:19,  6.07it/s]\u001b[A\n",
      " 77%|███████▋  | 404/522 [01:07<00:19,  5.91it/s]\u001b[A\n",
      " 78%|███████▊  | 405/522 [01:07<00:19,  5.92it/s]\u001b[A\n",
      " 78%|███████▊  | 406/522 [01:07<00:19,  5.91it/s]\u001b[A\n",
      " 78%|███████▊  | 407/522 [01:08<00:18,  6.09it/s]\u001b[A\n",
      " 78%|███████▊  | 408/522 [01:08<00:18,  6.18it/s]\u001b[A\n",
      " 78%|███████▊  | 409/522 [01:08<00:18,  5.96it/s]\u001b[A\n",
      " 79%|███████▊  | 410/522 [01:08<00:18,  6.15it/s]\u001b[A\n",
      " 79%|███████▊  | 411/522 [01:08<00:17,  6.27it/s]\u001b[A\n",
      " 79%|███████▉  | 412/522 [01:08<00:17,  6.34it/s]\u001b[A\n",
      " 79%|███████▉  | 413/522 [01:08<00:17,  6.25it/s]\u001b[A\n",
      " 79%|███████▉  | 414/522 [01:09<00:17,  6.31it/s]\u001b[A\n",
      " 80%|███████▉  | 415/522 [01:09<00:17,  6.02it/s]\u001b[A\n",
      " 80%|███████▉  | 416/522 [01:09<00:17,  6.01it/s]\u001b[A\n",
      " 80%|███████▉  | 417/522 [01:09<00:17,  5.98it/s]\u001b[A\n",
      " 80%|████████  | 418/522 [01:09<00:17,  6.03it/s]\u001b[A\n",
      " 80%|████████  | 419/522 [01:10<00:17,  5.97it/s]\u001b[A\n",
      " 80%|████████  | 420/522 [01:10<00:17,  5.98it/s]\u001b[A\n",
      " 81%|████████  | 421/522 [01:10<00:16,  6.01it/s]\u001b[A\n",
      " 81%|████████  | 422/522 [01:10<00:16,  6.07it/s]\u001b[A\n",
      " 81%|████████  | 423/522 [01:10<00:16,  6.15it/s]\u001b[A\n",
      " 81%|████████  | 424/522 [01:10<00:16,  6.12it/s]\u001b[A\n",
      " 81%|████████▏ | 425/522 [01:10<00:15,  6.17it/s]\u001b[A\n",
      " 82%|████████▏ | 426/522 [01:11<00:15,  6.01it/s]\u001b[A\n",
      " 82%|████████▏ | 427/522 [01:11<00:15,  6.04it/s]\u001b[A\n",
      " 82%|████████▏ | 428/522 [01:11<00:15,  6.08it/s]\u001b[A\n",
      " 82%|████████▏ | 429/522 [01:11<00:15,  5.91it/s]\u001b[A\n",
      " 82%|████████▏ | 430/522 [01:11<00:15,  5.98it/s]\u001b[A\n",
      " 83%|████████▎ | 431/522 [01:11<00:15,  5.89it/s]\u001b[A\n",
      " 83%|████████▎ | 432/522 [01:12<00:14,  6.00it/s]\u001b[A\n",
      " 83%|████████▎ | 433/522 [01:12<00:14,  6.07it/s]\u001b[A\n",
      " 83%|████████▎ | 434/522 [01:12<00:14,  6.16it/s]\u001b[A\n",
      " 83%|████████▎ | 435/522 [01:12<00:13,  6.24it/s]\u001b[A\n",
      " 84%|████████▎ | 436/522 [01:12<00:14,  6.02it/s]\u001b[A\n",
      " 84%|████████▎ | 437/522 [01:12<00:13,  6.10it/s]\u001b[A\n",
      " 84%|████████▍ | 438/522 [01:13<00:13,  6.28it/s]\u001b[A\n",
      " 84%|████████▍ | 439/522 [01:13<00:13,  6.30it/s]\u001b[A\n",
      " 84%|████████▍ | 440/522 [01:13<00:13,  6.17it/s]\u001b[A\n",
      " 84%|████████▍ | 441/522 [01:13<00:12,  6.25it/s]\u001b[A\n",
      " 85%|████████▍ | 442/522 [01:13<00:13,  6.08it/s]\u001b[A\n",
      " 85%|████████▍ | 443/522 [01:13<00:12,  6.11it/s]\u001b[A\n",
      " 85%|████████▌ | 444/522 [01:14<00:12,  6.01it/s]\u001b[A\n",
      " 85%|████████▌ | 445/522 [01:14<00:12,  6.01it/s]\u001b[A\n",
      " 85%|████████▌ | 446/522 [01:14<00:12,  5.93it/s]\u001b[A\n",
      " 86%|████████▌ | 447/522 [01:14<00:13,  5.74it/s]\u001b[A\n",
      " 86%|████████▌ | 448/522 [01:14<00:13,  5.57it/s]\u001b[A\n",
      " 86%|████████▌ | 449/522 [01:15<00:13,  5.56it/s]\u001b[A\n",
      " 86%|████████▌ | 450/522 [01:15<00:12,  5.65it/s]\u001b[A\n",
      " 86%|████████▋ | 451/522 [01:15<00:13,  5.33it/s]\u001b[A\n",
      " 87%|████████▋ | 452/522 [01:15<00:12,  5.47it/s]\u001b[A\n",
      " 87%|████████▋ | 453/522 [01:15<00:12,  5.74it/s]\u001b[A\n",
      " 87%|████████▋ | 454/522 [01:15<00:11,  5.86it/s]\u001b[A\n",
      " 87%|████████▋ | 455/522 [01:16<00:11,  5.65it/s]\u001b[A\n",
      " 87%|████████▋ | 456/522 [01:16<00:11,  5.80it/s]\u001b[A\n",
      " 88%|████████▊ | 457/522 [01:16<00:10,  6.05it/s]\u001b[A\n",
      " 88%|████████▊ | 458/522 [01:16<00:10,  6.08it/s]\u001b[A\n",
      " 88%|████████▊ | 459/522 [01:16<00:10,  6.10it/s]\u001b[A\n",
      " 88%|████████▊ | 460/522 [01:16<00:10,  5.98it/s]\u001b[A\n",
      " 88%|████████▊ | 461/522 [01:17<00:09,  6.12it/s]\u001b[A\n",
      " 89%|████████▊ | 462/522 [01:17<00:09,  6.19it/s]\u001b[A\n",
      " 89%|████████▊ | 463/522 [01:17<00:09,  6.27it/s]\u001b[A\n",
      " 89%|████████▉ | 464/522 [01:17<00:09,  6.26it/s]\u001b[A\n",
      " 89%|████████▉ | 465/522 [01:17<00:09,  6.16it/s]\u001b[A\n",
      " 89%|████████▉ | 466/522 [01:17<00:09,  6.19it/s]\u001b[A\n",
      " 89%|████████▉ | 467/522 [01:18<00:08,  6.16it/s]\u001b[A\n",
      " 90%|████████▉ | 468/522 [01:18<00:08,  6.03it/s]\u001b[A\n",
      " 90%|████████▉ | 469/522 [01:18<00:08,  5.99it/s]\u001b[A\n",
      " 90%|█████████ | 470/522 [01:18<00:08,  6.02it/s]\u001b[A\n",
      " 90%|█████████ | 471/522 [01:18<00:08,  6.00it/s]\u001b[A\n",
      " 90%|█████████ | 472/522 [01:18<00:08,  5.97it/s]\u001b[A\n",
      " 91%|█████████ | 473/522 [01:19<00:08,  6.05it/s]\u001b[A\n",
      " 91%|█████████ | 474/522 [01:19<00:07,  6.09it/s]\u001b[A\n",
      " 91%|█████████ | 475/522 [01:19<00:07,  6.08it/s]\u001b[A\n",
      " 91%|█████████ | 476/522 [01:19<00:07,  6.10it/s]\u001b[A\n",
      " 91%|█████████▏| 477/522 [01:19<00:07,  6.21it/s]\u001b[A\n",
      " 92%|█████████▏| 478/522 [01:19<00:07,  6.10it/s]\u001b[A\n",
      " 92%|█████████▏| 479/522 [01:19<00:07,  6.07it/s]\u001b[A\n",
      " 92%|█████████▏| 480/522 [01:20<00:07,  5.95it/s]\u001b[A\n",
      " 92%|█████████▏| 481/522 [01:20<00:06,  5.94it/s]\u001b[A\n",
      " 92%|█████████▏| 482/522 [01:20<00:06,  6.08it/s]\u001b[A\n",
      " 93%|█████████▎| 483/522 [01:20<00:06,  5.96it/s]\u001b[A\n",
      " 93%|█████████▎| 484/522 [01:20<00:06,  5.91it/s]\u001b[A\n",
      " 93%|█████████▎| 485/522 [01:21<00:06,  5.87it/s]\u001b[A\n",
      " 93%|█████████▎| 486/522 [01:21<00:06,  5.85it/s]\u001b[A\n",
      " 93%|█████████▎| 487/522 [01:21<00:05,  5.87it/s]\u001b[A\n",
      " 93%|█████████▎| 488/522 [01:21<00:05,  5.83it/s]\u001b[A\n",
      " 94%|█████████▎| 489/522 [01:21<00:05,  5.79it/s]\u001b[A\n",
      " 94%|█████████▍| 490/522 [01:21<00:05,  5.88it/s]\u001b[A\n",
      " 94%|█████████▍| 491/522 [01:22<00:05,  5.92it/s]\u001b[A\n",
      " 94%|█████████▍| 492/522 [01:22<00:04,  6.02it/s]\u001b[A\n",
      " 94%|█████████▍| 493/522 [01:22<00:04,  6.11it/s]\u001b[A\n",
      " 95%|█████████▍| 494/522 [01:22<00:04,  5.97it/s]\u001b[A\n",
      " 95%|█████████▍| 495/522 [01:22<00:04,  5.86it/s]\u001b[A\n",
      " 95%|█████████▌| 496/522 [01:22<00:04,  5.82it/s]\u001b[A\n",
      " 95%|█████████▌| 497/522 [01:23<00:04,  5.68it/s]\u001b[A\n",
      " 95%|█████████▌| 498/522 [01:23<00:04,  5.84it/s]\u001b[A\n",
      " 96%|█████████▌| 499/522 [01:23<00:03,  6.00it/s]\u001b[A\n",
      " 96%|█████████▌| 500/522 [01:23<00:03,  5.88it/s]\u001b[A\n",
      " 96%|█████████▌| 501/522 [01:23<00:03,  5.56it/s]\u001b[A\n",
      " 96%|█████████▌| 502/522 [01:23<00:03,  5.48it/s]\u001b[A\n",
      " 96%|█████████▋| 503/522 [01:24<00:03,  5.48it/s]\u001b[A\n",
      " 97%|█████████▋| 504/522 [01:24<00:03,  5.51it/s]\u001b[A\n",
      " 97%|█████████▋| 505/522 [01:24<00:03,  5.66it/s]\u001b[A\n",
      " 97%|█████████▋| 506/522 [01:24<00:02,  5.75it/s]\u001b[A\n",
      " 97%|█████████▋| 507/522 [01:24<00:02,  5.85it/s]\u001b[A\n",
      " 97%|█████████▋| 508/522 [01:24<00:02,  5.92it/s]\u001b[A\n",
      " 98%|█████████▊| 509/522 [01:25<00:02,  6.01it/s]\u001b[A\n",
      " 98%|█████████▊| 510/522 [01:25<00:01,  6.06it/s]\u001b[A\n",
      " 98%|█████████▊| 511/522 [01:25<00:01,  6.06it/s]\u001b[A\n",
      " 98%|█████████▊| 512/522 [01:25<00:01,  6.01it/s]\u001b[A\n",
      " 98%|█████████▊| 513/522 [01:25<00:01,  5.91it/s]\u001b[A\n",
      " 98%|█████████▊| 514/522 [01:25<00:01,  5.78it/s]\u001b[A\n",
      " 99%|█████████▊| 515/522 [01:26<00:01,  5.76it/s]\u001b[A\n",
      " 99%|█████████▉| 516/522 [01:26<00:01,  5.85it/s]\u001b[A\n",
      " 99%|█████████▉| 517/522 [01:26<00:00,  5.93it/s]\u001b[A\n",
      " 99%|█████████▉| 518/522 [01:26<00:00,  5.88it/s]\u001b[A\n",
      " 99%|█████████▉| 519/522 [01:26<00:00,  6.11it/s]\u001b[A\n",
      "100%|█████████▉| 520/522 [01:26<00:00,  5.97it/s]\u001b[A\n",
      "100%|█████████▉| 521/522 [01:27<00:00,  5.91it/s]\u001b[A\n",
      "100%|██████████| 522/522 [01:27<00:00,  5.97it/s]\u001b[A\n"
     ]
    }
   ],
   "source": [
    "posrank_deeper,flippedpos_deeper = explainSamples(corrects_deeper,[walmart,amazon],walmart_deeper,predict_fn_deeper,\n",
    "                             1,4)"
   ]
  },
  {
   "cell_type": "code",
   "execution_count": 24,
   "metadata": {
    "ExecuteTime": {
     "end_time": "2020-06-06T08:52:04.244915Z",
     "start_time": "2020-06-06T08:45:58.550936Z"
    }
   },
   "outputs": [
    {
     "name": "stderr",
     "output_type": "stream",
     "text": [
      "\n",
      "  0%|          | 0/541 [00:00<?, ?it/s]\u001b[A\n",
      "  0%|          | 1/541 [00:00<08:06,  1.11it/s]\u001b[A\n",
      "  0%|          | 2/541 [00:01<07:46,  1.16it/s]\u001b[A\n",
      "  1%|          | 3/541 [00:02<07:20,  1.22it/s]\u001b[A\n",
      "  1%|          | 4/541 [00:03<07:02,  1.27it/s]\u001b[A\n",
      "  1%|          | 5/541 [00:03<06:41,  1.34it/s]\u001b[A\n",
      "  1%|          | 6/541 [00:04<06:34,  1.36it/s]\u001b[A\n",
      "  1%|▏         | 7/541 [00:05<06:24,  1.39it/s]\u001b[A\n",
      "  1%|▏         | 8/541 [00:05<06:20,  1.40it/s]\u001b[A\n",
      "  2%|▏         | 9/541 [00:06<06:15,  1.42it/s]\u001b[A\n",
      "  2%|▏         | 10/541 [00:07<06:08,  1.44it/s]\u001b[A\n",
      "  2%|▏         | 11/541 [00:07<06:05,  1.45it/s]\u001b[A\n",
      "  2%|▏         | 12/541 [00:08<05:58,  1.48it/s]\u001b[A\n",
      "  2%|▏         | 13/541 [00:09<05:54,  1.49it/s]\u001b[A\n",
      "  3%|▎         | 14/541 [00:09<05:50,  1.50it/s]\u001b[A\n",
      "  3%|▎         | 15/541 [00:10<05:53,  1.49it/s]\u001b[A\n",
      "  3%|▎         | 16/541 [00:11<06:01,  1.45it/s]\u001b[A\n",
      "  3%|▎         | 17/541 [00:11<05:54,  1.48it/s]\u001b[A\n",
      "  3%|▎         | 18/541 [00:12<05:49,  1.50it/s]\u001b[A\n",
      "  4%|▎         | 19/541 [00:13<05:45,  1.51it/s]\u001b[A\n",
      "  4%|▎         | 20/541 [00:13<05:41,  1.53it/s]\u001b[A\n",
      "  4%|▍         | 21/541 [00:14<05:52,  1.48it/s]\u001b[A\n",
      "  4%|▍         | 22/541 [00:15<06:02,  1.43it/s]\u001b[A\n",
      "  4%|▍         | 23/541 [00:15<05:53,  1.47it/s]\u001b[A\n",
      "  4%|▍         | 24/541 [00:16<05:53,  1.46it/s]\u001b[A\n",
      "  5%|▍         | 25/541 [00:17<05:53,  1.46it/s]\u001b[A\n",
      "  5%|▍         | 26/541 [00:18<05:51,  1.47it/s]\u001b[A\n",
      "  5%|▍         | 27/541 [00:18<05:44,  1.49it/s]\u001b[A\n",
      "  5%|▌         | 28/541 [00:19<05:42,  1.50it/s]\u001b[A\n",
      "  5%|▌         | 29/541 [00:19<05:41,  1.50it/s]\u001b[A\n",
      "  6%|▌         | 30/541 [00:20<05:40,  1.50it/s]\u001b[A\n",
      "  6%|▌         | 31/541 [00:21<05:40,  1.50it/s]\u001b[A\n",
      "  6%|▌         | 32/541 [00:22<05:43,  1.48it/s]\u001b[A\n",
      "  6%|▌         | 33/541 [00:22<05:42,  1.48it/s]\u001b[A\n",
      "  6%|▋         | 34/541 [00:23<05:42,  1.48it/s]\u001b[A\n",
      "  6%|▋         | 35/541 [00:24<05:38,  1.50it/s]\u001b[A\n",
      "  7%|▋         | 36/541 [00:24<05:35,  1.50it/s]\u001b[A\n",
      "  7%|▋         | 37/541 [00:25<05:34,  1.51it/s]\u001b[A\n",
      "  7%|▋         | 38/541 [00:26<05:35,  1.50it/s]\u001b[A\n",
      "  7%|▋         | 39/541 [00:26<05:36,  1.49it/s]\u001b[A\n",
      "  7%|▋         | 40/541 [00:27<05:37,  1.48it/s]\u001b[A\n",
      "  8%|▊         | 41/541 [00:28<05:44,  1.45it/s]\u001b[A\n",
      "  8%|▊         | 42/541 [00:28<05:40,  1.47it/s]\u001b[A\n",
      "  8%|▊         | 43/541 [00:29<05:39,  1.47it/s]\u001b[A\n",
      "  8%|▊         | 44/541 [00:30<05:40,  1.46it/s]\u001b[A\n",
      "  8%|▊         | 45/541 [00:30<05:41,  1.45it/s]\u001b[A\n",
      "  9%|▊         | 46/541 [00:31<05:36,  1.47it/s]\u001b[A\n",
      "  9%|▊         | 47/541 [00:32<05:34,  1.48it/s]\u001b[A\n",
      "  9%|▉         | 48/541 [00:32<05:31,  1.49it/s]\u001b[A\n",
      "  9%|▉         | 49/541 [00:33<05:30,  1.49it/s]\u001b[A\n",
      "  9%|▉         | 50/541 [00:34<05:32,  1.48it/s]\u001b[A\n",
      "  9%|▉         | 51/541 [00:34<05:32,  1.47it/s]\u001b[A\n",
      " 10%|▉         | 52/541 [00:35<06:10,  1.32it/s]\u001b[A\n",
      " 10%|▉         | 53/541 [00:36<06:26,  1.26it/s]\u001b[A\n",
      " 10%|▉         | 54/541 [00:37<06:09,  1.32it/s]\u001b[A\n",
      " 10%|█         | 55/541 [00:38<05:55,  1.37it/s]\u001b[A\n",
      " 10%|█         | 56/541 [00:38<05:42,  1.41it/s]\u001b[A\n",
      " 11%|█         | 57/541 [00:39<05:40,  1.42it/s]\u001b[A\n",
      " 11%|█         | 58/541 [00:40<05:38,  1.43it/s]\u001b[A\n",
      " 11%|█         | 59/541 [00:40<05:31,  1.45it/s]\u001b[A\n",
      " 11%|█         | 60/541 [00:41<05:26,  1.47it/s]\u001b[A\n",
      " 11%|█▏        | 61/541 [00:42<05:18,  1.51it/s]\u001b[A\n",
      " 11%|█▏        | 62/541 [00:42<05:13,  1.53it/s]\u001b[A\n",
      " 12%|█▏        | 63/541 [00:43<05:12,  1.53it/s]\u001b[A\n",
      " 12%|█▏        | 64/541 [00:43<05:11,  1.53it/s]\u001b[A\n",
      " 12%|█▏        | 65/541 [00:44<05:12,  1.52it/s]\u001b[A\n",
      " 12%|█▏        | 66/541 [00:45<05:13,  1.51it/s]\u001b[A\n",
      " 12%|█▏        | 67/541 [00:45<05:13,  1.51it/s]\u001b[A\n",
      " 13%|█▎        | 68/541 [00:46<05:15,  1.50it/s]\u001b[A\n",
      " 13%|█▎        | 69/541 [00:47<05:16,  1.49it/s]\u001b[A\n",
      " 13%|█▎        | 70/541 [00:47<05:13,  1.50it/s]\u001b[A\n",
      " 13%|█▎        | 71/541 [00:48<05:07,  1.53it/s]\u001b[A\n",
      " 13%|█▎        | 72/541 [00:49<05:03,  1.54it/s]\u001b[A\n",
      " 13%|█▎        | 73/541 [00:49<05:01,  1.55it/s]\u001b[A\n",
      " 14%|█▎        | 74/541 [00:50<04:57,  1.57it/s]\u001b[A\n",
      " 14%|█▍        | 75/541 [00:51<04:57,  1.57it/s]\u001b[A\n",
      " 14%|█▍        | 76/541 [00:51<04:58,  1.56it/s]\u001b[A\n",
      " 14%|█▍        | 77/541 [00:52<05:01,  1.54it/s]\u001b[A\n",
      " 14%|█▍        | 78/541 [00:53<04:58,  1.55it/s]\u001b[A\n",
      " 15%|█▍        | 79/541 [00:53<04:54,  1.57it/s]\u001b[A\n",
      " 15%|█▍        | 80/541 [00:54<04:52,  1.57it/s]\u001b[A\n",
      " 15%|█▍        | 81/541 [00:55<04:58,  1.54it/s]\u001b[A\n",
      " 15%|█▌        | 82/541 [00:55<05:01,  1.52it/s]\u001b[A\n",
      " 15%|█▌        | 83/541 [00:56<04:59,  1.53it/s]\u001b[A\n",
      " 16%|█▌        | 84/541 [00:56<04:57,  1.54it/s]\u001b[A\n",
      " 16%|█▌        | 85/541 [00:57<04:57,  1.53it/s]\u001b[A\n",
      " 16%|█▌        | 86/541 [00:58<04:57,  1.53it/s]\u001b[A\n",
      " 16%|█▌        | 87/541 [00:58<04:56,  1.53it/s]\u001b[A\n",
      " 16%|█▋        | 88/541 [00:59<04:53,  1.54it/s]\u001b[A\n",
      " 16%|█▋        | 89/541 [01:00<04:54,  1.53it/s]\u001b[A\n",
      " 17%|█▋        | 90/541 [01:00<04:54,  1.53it/s]\u001b[A\n",
      " 17%|█▋        | 91/541 [01:01<04:59,  1.50it/s]\u001b[A\n",
      " 17%|█▋        | 92/541 [01:02<04:58,  1.50it/s]\u001b[A\n",
      " 17%|█▋        | 93/541 [01:02<04:57,  1.51it/s]\u001b[A\n",
      " 17%|█▋        | 94/541 [01:03<04:55,  1.51it/s]\u001b[A\n",
      " 18%|█▊        | 95/541 [01:04<04:55,  1.51it/s]\u001b[A\n",
      " 18%|█▊        | 96/541 [01:04<04:56,  1.50it/s]\u001b[A\n",
      " 18%|█▊        | 97/541 [01:05<04:56,  1.50it/s]\u001b[A\n",
      " 18%|█▊        | 98/541 [01:06<04:51,  1.52it/s]\u001b[A\n",
      " 18%|█▊        | 99/541 [01:06<04:50,  1.52it/s]\u001b[A\n",
      " 18%|█▊        | 100/541 [01:07<04:50,  1.52it/s]\u001b[A\n",
      " 19%|█▊        | 101/541 [01:08<05:24,  1.36it/s]\u001b[A\n",
      " 19%|█▉        | 102/541 [01:09<05:18,  1.38it/s]\u001b[A\n",
      " 19%|█▉        | 103/541 [01:09<05:09,  1.42it/s]\u001b[A\n",
      " 19%|█▉        | 104/541 [01:10<05:04,  1.43it/s]\u001b[A\n",
      " 19%|█▉        | 105/541 [01:11<04:55,  1.48it/s]\u001b[A\n",
      " 20%|█▉        | 106/541 [01:11<04:52,  1.49it/s]\u001b[A\n",
      " 20%|█▉        | 107/541 [01:12<04:53,  1.48it/s]\u001b[A\n",
      " 20%|█▉        | 108/541 [01:13<04:50,  1.49it/s]\u001b[A\n",
      " 20%|██        | 109/541 [01:13<04:50,  1.49it/s]\u001b[A\n",
      " 20%|██        | 110/541 [01:14<05:00,  1.43it/s]\u001b[A\n",
      " 21%|██        | 111/541 [01:15<04:56,  1.45it/s]\u001b[A\n",
      " 21%|██        | 112/541 [01:15<04:56,  1.44it/s]\u001b[A\n",
      " 21%|██        | 113/541 [01:16<04:55,  1.45it/s]\u001b[A\n",
      " 21%|██        | 114/541 [01:17<04:48,  1.48it/s]\u001b[A\n",
      " 21%|██▏       | 115/541 [01:17<04:42,  1.51it/s]\u001b[A\n",
      " 21%|██▏       | 116/541 [01:18<04:38,  1.52it/s]\u001b[A\n",
      " 22%|██▏       | 117/541 [01:19<04:35,  1.54it/s]\u001b[A\n",
      " 22%|██▏       | 118/541 [01:19<04:35,  1.54it/s]\u001b[A\n",
      " 22%|██▏       | 119/541 [01:20<04:34,  1.54it/s]\u001b[A\n",
      " 22%|██▏       | 120/541 [01:21<04:34,  1.53it/s]\u001b[A\n",
      " 22%|██▏       | 121/541 [01:21<04:34,  1.53it/s]\u001b[A\n",
      " 23%|██▎       | 122/541 [01:22<04:34,  1.53it/s]\u001b[A\n",
      " 23%|██▎       | 123/541 [01:23<04:37,  1.51it/s]\u001b[A\n",
      " 23%|██▎       | 124/541 [01:23<04:36,  1.51it/s]\u001b[A\n",
      " 23%|██▎       | 125/541 [01:24<04:36,  1.50it/s]\u001b[A\n",
      " 23%|██▎       | 126/541 [01:25<04:38,  1.49it/s]\u001b[A\n",
      " 23%|██▎       | 127/541 [01:25<04:36,  1.49it/s]\u001b[A\n",
      " 24%|██▎       | 128/541 [01:26<04:34,  1.50it/s]\u001b[A\n",
      " 24%|██▍       | 129/541 [01:27<04:32,  1.51it/s]\u001b[A\n",
      " 24%|██▍       | 130/541 [01:27<04:37,  1.48it/s]\u001b[A\n",
      " 24%|██▍       | 131/541 [01:28<04:35,  1.49it/s]\u001b[A\n",
      " 24%|██▍       | 132/541 [01:29<04:31,  1.51it/s]\u001b[A\n",
      " 25%|██▍       | 133/541 [01:29<04:28,  1.52it/s]\u001b[A\n",
      " 25%|██▍       | 134/541 [01:30<04:20,  1.56it/s]\u001b[A\n",
      " 25%|██▍       | 135/541 [01:31<04:22,  1.55it/s]\u001b[A\n",
      " 25%|██▌       | 136/541 [01:31<04:22,  1.54it/s]\u001b[A\n",
      " 25%|██▌       | 137/541 [01:32<04:25,  1.52it/s]\u001b[A\n",
      " 26%|██▌       | 138/541 [01:33<04:25,  1.52it/s]\u001b[A\n",
      " 26%|██▌       | 139/541 [01:33<04:24,  1.52it/s]\u001b[A\n",
      " 26%|██▌       | 140/541 [01:34<04:26,  1.51it/s]\u001b[A\n",
      " 26%|██▌       | 141/541 [01:34<04:23,  1.52it/s]\u001b[A\n",
      " 26%|██▌       | 142/541 [01:35<04:21,  1.53it/s]\u001b[A\n",
      " 26%|██▋       | 143/541 [01:36<04:19,  1.54it/s]\u001b[A\n",
      " 27%|██▋       | 144/541 [01:36<04:17,  1.54it/s]\u001b[A\n",
      " 27%|██▋       | 145/541 [01:37<04:15,  1.55it/s]\u001b[A\n",
      " 27%|██▋       | 146/541 [01:38<04:11,  1.57it/s]\u001b[A\n",
      " 27%|██▋       | 147/541 [01:38<04:09,  1.58it/s]\u001b[A\n",
      " 27%|██▋       | 148/541 [01:39<04:08,  1.58it/s]\u001b[A\n",
      " 28%|██▊       | 149/541 [01:40<04:12,  1.55it/s]\u001b[A\n",
      " 28%|██▊       | 150/541 [01:40<04:14,  1.54it/s]\u001b[A\n",
      " 28%|██▊       | 151/541 [01:41<04:15,  1.53it/s]\u001b[A\n",
      " 28%|██▊       | 152/541 [01:42<04:14,  1.53it/s]\u001b[A\n",
      " 28%|██▊       | 153/541 [01:43<04:51,  1.33it/s]\u001b[A\n",
      " 28%|██▊       | 154/541 [01:43<04:37,  1.39it/s]\u001b[A\n",
      " 29%|██▊       | 155/541 [01:44<04:32,  1.42it/s]\u001b[A\n",
      " 29%|██▉       | 156/541 [01:45<04:26,  1.44it/s]\u001b[A\n",
      " 29%|██▉       | 157/541 [01:45<04:23,  1.46it/s]\u001b[A\n",
      " 29%|██▉       | 158/541 [01:46<04:22,  1.46it/s]\u001b[A\n",
      " 29%|██▉       | 159/541 [01:47<04:22,  1.46it/s]\u001b[A\n",
      " 30%|██▉       | 160/541 [01:47<04:21,  1.46it/s]\u001b[A\n",
      " 30%|██▉       | 161/541 [01:48<04:19,  1.46it/s]\u001b[A\n",
      " 30%|██▉       | 162/541 [01:49<04:15,  1.48it/s]\u001b[A\n",
      " 30%|███       | 163/541 [01:49<04:13,  1.49it/s]\u001b[A\n",
      " 30%|███       | 164/541 [01:50<04:11,  1.50it/s]\u001b[A\n",
      " 30%|███       | 165/541 [01:51<04:08,  1.52it/s]\u001b[A\n",
      " 31%|███       | 166/541 [01:51<04:06,  1.52it/s]\u001b[A\n",
      " 31%|███       | 167/541 [01:52<04:08,  1.51it/s]\u001b[A\n",
      " 31%|███       | 168/541 [01:53<04:07,  1.51it/s]\u001b[A\n",
      " 31%|███       | 169/541 [01:53<04:06,  1.51it/s]\u001b[A\n",
      " 31%|███▏      | 170/541 [01:54<04:06,  1.51it/s]\u001b[A\n",
      " 32%|███▏      | 171/541 [01:55<04:06,  1.50it/s]\u001b[A\n",
      " 32%|███▏      | 172/541 [01:55<04:08,  1.48it/s]\u001b[A\n",
      " 32%|███▏      | 173/541 [01:56<04:11,  1.46it/s]\u001b[A\n",
      " 32%|███▏      | 174/541 [01:57<04:10,  1.47it/s]\u001b[A\n",
      " 32%|███▏      | 175/541 [01:57<04:10,  1.46it/s]\u001b[A\n",
      " 33%|███▎      | 176/541 [01:58<04:09,  1.46it/s]\u001b[A\n",
      " 33%|███▎      | 177/541 [01:59<04:07,  1.47it/s]\u001b[A\n",
      " 33%|███▎      | 178/541 [01:59<04:07,  1.47it/s]\u001b[A\n",
      " 33%|███▎      | 179/541 [02:00<04:00,  1.51it/s]\u001b[A\n",
      " 33%|███▎      | 180/541 [02:01<03:52,  1.55it/s]\u001b[A\n",
      " 33%|███▎      | 181/541 [02:01<03:51,  1.56it/s]\u001b[A\n",
      " 34%|███▎      | 182/541 [02:02<03:52,  1.55it/s]\u001b[A\n",
      " 34%|███▍      | 183/541 [02:03<03:51,  1.55it/s]\u001b[A\n",
      " 34%|███▍      | 184/541 [02:03<03:52,  1.53it/s]\u001b[A\n",
      " 34%|███▍      | 185/541 [02:04<04:22,  1.36it/s]\u001b[A\n",
      " 34%|███▍      | 186/541 [02:05<04:21,  1.36it/s]\u001b[A\n",
      " 35%|███▍      | 187/541 [02:06<04:13,  1.40it/s]\u001b[A\n",
      " 35%|███▍      | 188/541 [02:06<04:06,  1.43it/s]\u001b[A\n",
      " 35%|███▍      | 189/541 [02:07<04:01,  1.45it/s]\u001b[A\n",
      " 35%|███▌      | 190/541 [02:07<03:57,  1.48it/s]\u001b[A\n",
      " 35%|███▌      | 191/541 [02:08<03:54,  1.49it/s]\u001b[A\n",
      " 35%|███▌      | 192/541 [02:09<03:53,  1.49it/s]\u001b[A\n",
      " 36%|███▌      | 193/541 [02:10<03:53,  1.49it/s]\u001b[A\n",
      " 36%|███▌      | 194/541 [02:10<03:51,  1.50it/s]\u001b[A\n",
      " 36%|███▌      | 195/541 [02:11<03:51,  1.50it/s]\u001b[A\n",
      " 36%|███▌      | 196/541 [02:12<03:52,  1.48it/s]\u001b[A\n",
      " 36%|███▋      | 197/541 [02:12<03:51,  1.48it/s]\u001b[A\n",
      " 37%|███▋      | 198/541 [02:13<03:52,  1.48it/s]\u001b[A\n",
      " 37%|███▋      | 199/541 [02:14<03:52,  1.47it/s]\u001b[A\n",
      " 37%|███▋      | 200/541 [02:14<03:50,  1.48it/s]\u001b[A\n",
      " 37%|███▋      | 201/541 [02:15<03:50,  1.48it/s]\u001b[A\n",
      " 37%|███▋      | 202/541 [02:16<03:47,  1.49it/s]\u001b[A\n",
      " 38%|███▊      | 203/541 [02:16<03:46,  1.49it/s]\u001b[A\n",
      " 38%|███▊      | 204/541 [02:17<03:45,  1.50it/s]\u001b[A\n",
      " 38%|███▊      | 205/541 [02:18<03:43,  1.51it/s]\u001b[A\n",
      " 38%|███▊      | 206/541 [02:18<03:43,  1.50it/s]\u001b[A\n",
      " 38%|███▊      | 207/541 [02:19<04:12,  1.32it/s]\u001b[A\n",
      " 38%|███▊      | 208/541 [02:20<04:03,  1.37it/s]\u001b[A\n",
      " 39%|███▊      | 209/541 [02:21<03:56,  1.41it/s]\u001b[A\n",
      " 39%|███▉      | 210/541 [02:21<03:49,  1.44it/s]\u001b[A\n",
      " 39%|███▉      | 211/541 [02:22<03:43,  1.47it/s]\u001b[A\n",
      " 39%|███▉      | 212/541 [02:22<03:40,  1.49it/s]\u001b[A\n",
      " 39%|███▉      | 213/541 [02:23<03:35,  1.52it/s]\u001b[A\n",
      " 40%|███▉      | 214/541 [02:24<03:38,  1.50it/s]\u001b[A\n",
      " 40%|███▉      | 215/541 [02:24<03:40,  1.48it/s]\u001b[A\n",
      " 40%|███▉      | 216/541 [02:25<03:43,  1.45it/s]\u001b[A\n",
      " 40%|████      | 217/541 [02:26<03:45,  1.44it/s]\u001b[A\n",
      " 40%|████      | 218/541 [02:27<03:47,  1.42it/s]\u001b[A\n",
      " 40%|████      | 219/541 [02:27<03:48,  1.41it/s]\u001b[A\n",
      " 41%|████      | 220/541 [02:28<03:46,  1.42it/s]\u001b[A\n",
      " 41%|████      | 221/541 [02:29<03:45,  1.42it/s]\u001b[A\n",
      " 41%|████      | 222/541 [02:29<03:42,  1.43it/s]\u001b[A\n",
      " 41%|████      | 223/541 [02:30<03:40,  1.44it/s]\u001b[A\n",
      " 41%|████▏     | 224/541 [02:31<03:35,  1.47it/s]\u001b[A\n",
      " 42%|████▏     | 225/541 [02:31<03:33,  1.48it/s]\u001b[A\n",
      " 42%|████▏     | 226/541 [02:32<03:32,  1.48it/s]\u001b[A\n",
      " 42%|████▏     | 227/541 [02:33<03:31,  1.49it/s]\u001b[A\n",
      " 42%|████▏     | 228/541 [02:33<03:27,  1.51it/s]\u001b[A\n",
      " 42%|████▏     | 229/541 [02:34<03:26,  1.51it/s]\u001b[A\n",
      " 43%|████▎     | 230/541 [02:35<03:24,  1.52it/s]\u001b[A\n",
      " 43%|████▎     | 231/541 [02:35<03:23,  1.52it/s]\u001b[A\n",
      " 43%|████▎     | 232/541 [02:36<03:22,  1.53it/s]\u001b[A\n",
      " 43%|████▎     | 233/541 [02:37<03:21,  1.53it/s]\u001b[A\n",
      " 43%|████▎     | 234/541 [02:37<03:24,  1.50it/s]\u001b[A\n",
      " 43%|████▎     | 235/541 [02:38<03:22,  1.51it/s]\u001b[A\n",
      " 44%|████▎     | 236/541 [02:39<03:24,  1.49it/s]\u001b[A\n",
      " 44%|████▍     | 237/541 [02:39<03:23,  1.49it/s]\u001b[A\n",
      " 44%|████▍     | 238/541 [02:40<03:23,  1.49it/s]\u001b[A\n",
      " 44%|████▍     | 239/541 [02:41<03:22,  1.49it/s]\u001b[A\n",
      " 44%|████▍     | 240/541 [02:41<03:20,  1.50it/s]\u001b[A\n",
      " 45%|████▍     | 241/541 [02:42<03:18,  1.52it/s]\u001b[A\n",
      " 45%|████▍     | 242/541 [02:43<03:16,  1.52it/s]\u001b[A\n",
      " 45%|████▍     | 243/541 [02:43<03:16,  1.52it/s]\u001b[A\n",
      " 45%|████▌     | 244/541 [02:44<03:16,  1.51it/s]\u001b[A\n",
      " 45%|████▌     | 245/541 [02:45<03:20,  1.48it/s]\u001b[A\n",
      " 45%|████▌     | 246/541 [02:45<03:21,  1.46it/s]\u001b[A\n",
      " 46%|████▌     | 247/541 [02:46<03:22,  1.45it/s]\u001b[A\n",
      " 46%|████▌     | 248/541 [02:47<03:21,  1.45it/s]\u001b[A\n",
      " 46%|████▌     | 249/541 [02:47<03:19,  1.46it/s]\u001b[A\n",
      " 46%|████▌     | 250/541 [02:48<03:15,  1.49it/s]\u001b[A\n",
      " 46%|████▋     | 251/541 [02:49<03:12,  1.51it/s]\u001b[A\n",
      " 47%|████▋     | 252/541 [02:49<03:11,  1.51it/s]\u001b[A\n",
      " 47%|████▋     | 253/541 [02:50<03:11,  1.51it/s]\u001b[A\n",
      " 47%|████▋     | 254/541 [02:51<03:10,  1.51it/s]\u001b[A\n",
      " 47%|████▋     | 255/541 [02:51<03:07,  1.53it/s]\u001b[A\n",
      " 47%|████▋     | 256/541 [02:52<03:28,  1.36it/s]\u001b[A\n",
      " 48%|████▊     | 257/541 [02:53<03:21,  1.41it/s]\u001b[A\n",
      " 48%|████▊     | 258/541 [02:54<03:15,  1.45it/s]\u001b[A\n",
      " 48%|████▊     | 259/541 [02:54<03:15,  1.44it/s]\u001b[A\n",
      " 48%|████▊     | 260/541 [02:55<03:14,  1.45it/s]\u001b[A\n",
      " 48%|████▊     | 261/541 [02:56<03:12,  1.46it/s]\u001b[A\n",
      " 48%|████▊     | 262/541 [02:56<03:08,  1.48it/s]\u001b[A\n",
      " 49%|████▊     | 263/541 [02:57<03:06,  1.49it/s]\u001b[A\n",
      " 49%|████▉     | 264/541 [02:58<03:04,  1.50it/s]\u001b[A\n",
      " 49%|████▉     | 265/541 [02:58<03:04,  1.50it/s]\u001b[A\n",
      " 49%|████▉     | 266/541 [02:59<03:03,  1.50it/s]\u001b[A\n",
      " 49%|████▉     | 267/541 [03:00<03:02,  1.50it/s]\u001b[A\n",
      " 50%|████▉     | 268/541 [03:00<03:01,  1.50it/s]\u001b[A\n",
      " 50%|████▉     | 269/541 [03:01<03:01,  1.50it/s]\u001b[A\n",
      " 50%|████▉     | 270/541 [03:02<03:00,  1.50it/s]\u001b[A\n",
      " 50%|█████     | 271/541 [03:02<03:01,  1.49it/s]\u001b[A\n",
      " 50%|█████     | 272/541 [03:03<03:03,  1.47it/s]\u001b[A\n",
      " 50%|█████     | 273/541 [03:04<03:01,  1.48it/s]\u001b[A\n",
      " 51%|█████     | 274/541 [03:04<02:59,  1.49it/s]\u001b[A\n",
      " 51%|█████     | 275/541 [03:05<02:59,  1.48it/s]\u001b[A\n",
      " 51%|█████     | 276/541 [03:06<02:56,  1.50it/s]\u001b[A\n",
      " 51%|█████     | 277/541 [03:06<02:54,  1.52it/s]\u001b[A\n",
      " 51%|█████▏    | 278/541 [03:07<02:55,  1.50it/s]\u001b[A\n",
      " 52%|█████▏    | 279/541 [03:08<02:53,  1.51it/s]\u001b[A\n",
      " 52%|█████▏    | 280/541 [03:08<02:55,  1.49it/s]\u001b[A\n",
      " 52%|█████▏    | 281/541 [03:09<02:55,  1.48it/s]\u001b[A\n",
      " 52%|█████▏    | 282/541 [03:10<02:54,  1.48it/s]\u001b[A\n",
      " 52%|█████▏    | 283/541 [03:10<02:54,  1.48it/s]\u001b[A\n",
      " 52%|█████▏    | 284/541 [03:11<02:53,  1.48it/s]\u001b[A\n",
      " 53%|█████▎    | 285/541 [03:12<02:50,  1.50it/s]\u001b[A\n",
      " 53%|█████▎    | 286/541 [03:12<02:48,  1.51it/s]\u001b[A\n",
      " 53%|█████▎    | 287/541 [03:13<02:50,  1.49it/s]\u001b[A\n",
      " 53%|█████▎    | 288/541 [03:14<02:50,  1.48it/s]\u001b[A\n",
      " 53%|█████▎    | 289/541 [03:14<02:48,  1.50it/s]\u001b[A\n",
      " 54%|█████▎    | 290/541 [03:15<02:47,  1.50it/s]\u001b[A\n",
      " 54%|█████▍    | 291/541 [03:16<02:47,  1.49it/s]\u001b[A\n",
      " 54%|█████▍    | 292/541 [03:16<02:51,  1.45it/s]\u001b[A\n",
      " 54%|█████▍    | 293/541 [03:17<02:53,  1.43it/s]\u001b[A\n",
      " 54%|█████▍    | 294/541 [03:18<02:49,  1.45it/s]\u001b[A\n",
      " 55%|█████▍    | 295/541 [03:19<02:47,  1.47it/s]\u001b[A\n",
      " 55%|█████▍    | 296/541 [03:19<02:46,  1.47it/s]\u001b[A\n",
      " 55%|█████▍    | 297/541 [03:20<02:45,  1.47it/s]\u001b[A\n",
      " 55%|█████▌    | 298/541 [03:21<02:44,  1.47it/s]\u001b[A\n",
      " 55%|█████▌    | 299/541 [03:21<02:44,  1.47it/s]\u001b[A\n",
      " 55%|█████▌    | 300/541 [03:22<02:43,  1.47it/s]\u001b[A\n",
      " 56%|█████▌    | 301/541 [03:23<02:45,  1.45it/s]\u001b[A\n",
      " 56%|█████▌    | 302/541 [03:23<02:45,  1.44it/s]\u001b[A\n",
      " 56%|█████▌    | 303/541 [03:24<02:45,  1.44it/s]\u001b[A\n",
      " 56%|█████▌    | 304/541 [03:25<02:44,  1.44it/s]\u001b[A\n",
      " 56%|█████▋    | 305/541 [03:25<02:42,  1.45it/s]\u001b[A\n",
      " 57%|█████▋    | 306/541 [03:26<02:44,  1.43it/s]\u001b[A\n",
      " 57%|█████▋    | 307/541 [03:27<02:44,  1.42it/s]\u001b[A\n",
      " 57%|█████▋    | 308/541 [03:27<02:39,  1.46it/s]\u001b[A\n",
      " 57%|█████▋    | 309/541 [03:28<02:55,  1.32it/s]\u001b[A\n"
     ]
    },
    {
     "name": "stderr",
     "output_type": "stream",
     "text": [
      " 57%|█████▋    | 310/541 [03:29<02:49,  1.36it/s]\u001b[A\n",
      " 57%|█████▋    | 311/541 [03:30<02:46,  1.38it/s]\u001b[A\n",
      " 58%|█████▊    | 312/541 [03:30<02:43,  1.40it/s]\u001b[A\n",
      " 58%|█████▊    | 313/541 [03:31<02:39,  1.43it/s]\u001b[A\n",
      " 58%|█████▊    | 314/541 [03:32<02:37,  1.44it/s]\u001b[A\n",
      " 58%|█████▊    | 315/541 [03:32<02:35,  1.46it/s]\u001b[A\n",
      " 58%|█████▊    | 316/541 [03:33<02:33,  1.47it/s]\u001b[A\n",
      " 59%|█████▊    | 317/541 [03:34<02:33,  1.46it/s]\u001b[A\n",
      " 59%|█████▉    | 318/541 [03:35<02:32,  1.46it/s]\u001b[A\n",
      " 59%|█████▉    | 319/541 [03:35<02:29,  1.49it/s]\u001b[A\n",
      " 59%|█████▉    | 320/541 [03:36<02:27,  1.50it/s]\u001b[A\n",
      " 59%|█████▉    | 321/541 [03:36<02:27,  1.49it/s]\u001b[A\n",
      " 60%|█████▉    | 322/541 [03:37<02:27,  1.49it/s]\u001b[A\n",
      " 60%|█████▉    | 323/541 [03:38<02:27,  1.48it/s]\u001b[A\n",
      " 60%|█████▉    | 324/541 [03:39<02:27,  1.47it/s]\u001b[A\n",
      " 60%|██████    | 325/541 [03:39<02:28,  1.45it/s]\u001b[A\n",
      " 60%|██████    | 326/541 [03:40<02:29,  1.44it/s]\u001b[A\n",
      " 60%|██████    | 327/541 [03:41<02:26,  1.46it/s]\u001b[A\n",
      " 61%|██████    | 328/541 [03:41<02:24,  1.47it/s]\u001b[A\n",
      " 61%|██████    | 329/541 [03:42<02:21,  1.50it/s]\u001b[A\n",
      " 61%|██████    | 330/541 [03:43<02:20,  1.50it/s]\u001b[A\n",
      " 61%|██████    | 331/541 [03:43<02:19,  1.51it/s]\u001b[A\n",
      " 61%|██████▏   | 332/541 [03:44<02:19,  1.50it/s]\u001b[A\n",
      " 62%|██████▏   | 333/541 [03:45<02:17,  1.51it/s]\u001b[A\n",
      " 62%|██████▏   | 334/541 [03:45<02:16,  1.51it/s]\u001b[A\n",
      " 62%|██████▏   | 335/541 [03:46<02:15,  1.52it/s]\u001b[A\n",
      " 62%|██████▏   | 336/541 [03:47<02:14,  1.52it/s]\u001b[A\n",
      " 62%|██████▏   | 337/541 [03:47<02:13,  1.52it/s]\u001b[A\n",
      " 62%|██████▏   | 338/541 [03:48<02:13,  1.52it/s]\u001b[A\n",
      " 63%|██████▎   | 339/541 [03:49<02:11,  1.53it/s]\u001b[A\n",
      " 63%|██████▎   | 340/541 [03:49<02:12,  1.52it/s]\u001b[A\n",
      " 63%|██████▎   | 341/541 [03:50<02:12,  1.51it/s]\u001b[A\n",
      " 63%|██████▎   | 342/541 [03:51<02:12,  1.50it/s]\u001b[A\n",
      " 63%|██████▎   | 343/541 [03:51<02:12,  1.49it/s]\u001b[A\n",
      " 64%|██████▎   | 344/541 [03:52<02:12,  1.49it/s]\u001b[A\n",
      " 64%|██████▍   | 345/541 [03:53<02:14,  1.46it/s]\u001b[A\n",
      " 64%|██████▍   | 346/541 [03:53<02:13,  1.46it/s]\u001b[A\n",
      " 64%|██████▍   | 347/541 [03:54<02:12,  1.46it/s]\u001b[A\n",
      " 64%|██████▍   | 348/541 [03:55<02:10,  1.48it/s]\u001b[A\n",
      " 65%|██████▍   | 349/541 [03:55<02:09,  1.48it/s]\u001b[A\n",
      " 65%|██████▍   | 350/541 [03:56<02:11,  1.46it/s]\u001b[A\n",
      " 65%|██████▍   | 351/541 [03:57<02:08,  1.48it/s]\u001b[A\n",
      " 65%|██████▌   | 352/541 [03:57<02:06,  1.50it/s]\u001b[A\n",
      " 65%|██████▌   | 353/541 [03:58<02:05,  1.50it/s]\u001b[A\n",
      " 65%|██████▌   | 354/541 [03:59<02:04,  1.50it/s]\u001b[A\n",
      " 66%|██████▌   | 355/541 [03:59<02:04,  1.49it/s]\u001b[A\n",
      " 66%|██████▌   | 356/541 [04:00<02:04,  1.48it/s]\u001b[A\n",
      " 66%|██████▌   | 357/541 [04:01<02:04,  1.48it/s]\u001b[A\n",
      " 66%|██████▌   | 358/541 [04:02<02:18,  1.32it/s]\u001b[A\n",
      " 66%|██████▋   | 359/541 [04:02<02:15,  1.35it/s]\u001b[A\n",
      " 67%|██████▋   | 360/541 [04:03<02:08,  1.41it/s]\u001b[A\n",
      " 67%|██████▋   | 361/541 [04:04<02:06,  1.43it/s]\u001b[A\n",
      " 67%|██████▋   | 362/541 [04:05<02:18,  1.29it/s]\u001b[A\n",
      " 67%|██████▋   | 363/541 [04:05<02:12,  1.35it/s]\u001b[A\n",
      " 67%|██████▋   | 364/541 [04:06<02:09,  1.36it/s]\u001b[A\n",
      " 67%|██████▋   | 365/541 [04:07<02:04,  1.42it/s]\u001b[A\n",
      " 68%|██████▊   | 366/541 [04:07<01:59,  1.46it/s]\u001b[A\n",
      " 68%|██████▊   | 367/541 [04:08<01:57,  1.48it/s]\u001b[A\n",
      " 68%|██████▊   | 368/541 [04:09<01:56,  1.48it/s]\u001b[A\n",
      " 68%|██████▊   | 369/541 [04:09<01:55,  1.49it/s]\u001b[A\n",
      " 68%|██████▊   | 370/541 [04:10<01:55,  1.48it/s]\u001b[A\n",
      " 69%|██████▊   | 371/541 [04:11<01:53,  1.49it/s]\u001b[A\n",
      " 69%|██████▉   | 372/541 [04:11<01:52,  1.50it/s]\u001b[A\n",
      " 69%|██████▉   | 373/541 [04:12<01:53,  1.48it/s]\u001b[A\n",
      " 69%|██████▉   | 374/541 [04:13<01:53,  1.47it/s]\u001b[A\n",
      " 69%|██████▉   | 375/541 [04:13<01:52,  1.48it/s]\u001b[A\n",
      " 70%|██████▉   | 376/541 [04:14<01:49,  1.50it/s]\u001b[A\n",
      " 70%|██████▉   | 377/541 [04:15<01:49,  1.50it/s]\u001b[A\n",
      " 70%|██████▉   | 378/541 [04:15<01:48,  1.51it/s]\u001b[A\n",
      " 70%|███████   | 379/541 [04:16<01:48,  1.50it/s]\u001b[A\n",
      " 70%|███████   | 380/541 [04:17<01:47,  1.49it/s]\u001b[A\n",
      " 70%|███████   | 381/541 [04:17<01:46,  1.50it/s]\u001b[A\n",
      " 71%|███████   | 382/541 [04:18<01:44,  1.52it/s]\u001b[A\n",
      " 71%|███████   | 383/541 [04:19<01:45,  1.50it/s]\u001b[A\n",
      " 71%|███████   | 384/541 [04:19<01:44,  1.51it/s]\u001b[A\n",
      " 71%|███████   | 385/541 [04:20<01:44,  1.49it/s]\u001b[A\n",
      " 71%|███████▏  | 386/541 [04:21<01:44,  1.48it/s]\u001b[A\n",
      " 72%|███████▏  | 387/541 [04:21<01:44,  1.48it/s]\u001b[A\n",
      " 72%|███████▏  | 388/541 [04:22<01:43,  1.48it/s]\u001b[A\n",
      " 72%|███████▏  | 389/541 [04:23<01:41,  1.49it/s]\u001b[A\n",
      " 72%|███████▏  | 390/541 [04:23<01:41,  1.49it/s]\u001b[A\n",
      " 72%|███████▏  | 391/541 [04:24<01:40,  1.50it/s]\u001b[A\n",
      " 72%|███████▏  | 392/541 [04:25<01:38,  1.51it/s]\u001b[A\n",
      " 73%|███████▎  | 393/541 [04:25<01:38,  1.51it/s]\u001b[A\n",
      " 73%|███████▎  | 394/541 [04:26<01:37,  1.51it/s]\u001b[A\n",
      " 73%|███████▎  | 395/541 [04:27<01:37,  1.50it/s]\u001b[A\n",
      " 73%|███████▎  | 396/541 [04:27<01:38,  1.48it/s]\u001b[A\n",
      " 73%|███████▎  | 397/541 [04:28<01:38,  1.47it/s]\u001b[A\n",
      " 74%|███████▎  | 398/541 [04:29<01:36,  1.49it/s]\u001b[A\n",
      " 74%|███████▍  | 399/541 [04:29<01:34,  1.50it/s]\u001b[A\n",
      " 74%|███████▍  | 400/541 [04:30<01:34,  1.49it/s]\u001b[A\n",
      " 74%|███████▍  | 401/541 [04:31<01:32,  1.51it/s]\u001b[A\n",
      " 74%|███████▍  | 402/541 [04:31<01:31,  1.51it/s]\u001b[A\n",
      " 74%|███████▍  | 403/541 [04:32<01:31,  1.51it/s]\u001b[A\n",
      " 75%|███████▍  | 404/541 [04:33<01:30,  1.51it/s]\u001b[A\n",
      " 75%|███████▍  | 405/541 [04:33<01:30,  1.50it/s]\u001b[A\n",
      " 75%|███████▌  | 406/541 [04:34<01:31,  1.48it/s]\u001b[A\n",
      " 75%|███████▌  | 407/541 [04:35<01:29,  1.51it/s]\u001b[A\n",
      " 75%|███████▌  | 408/541 [04:35<01:28,  1.51it/s]\u001b[A\n",
      " 76%|███████▌  | 409/541 [04:36<01:28,  1.49it/s]\u001b[A\n",
      " 76%|███████▌  | 410/541 [04:37<01:27,  1.49it/s]\u001b[A\n",
      " 76%|███████▌  | 411/541 [04:37<01:26,  1.50it/s]\u001b[A\n",
      " 76%|███████▌  | 412/541 [04:38<01:36,  1.34it/s]\u001b[A\n",
      " 76%|███████▋  | 413/541 [04:39<01:33,  1.38it/s]\u001b[A\n",
      " 77%|███████▋  | 414/541 [04:40<01:30,  1.41it/s]\u001b[A\n",
      " 77%|███████▋  | 415/541 [04:40<01:25,  1.47it/s]\u001b[A\n",
      " 77%|███████▋  | 416/541 [04:41<01:23,  1.50it/s]\u001b[A\n",
      " 77%|███████▋  | 417/541 [04:41<01:22,  1.51it/s]\u001b[A\n",
      " 77%|███████▋  | 418/541 [04:42<01:21,  1.51it/s]\u001b[A\n",
      " 77%|███████▋  | 419/541 [04:43<01:20,  1.51it/s]\u001b[A\n",
      " 78%|███████▊  | 420/541 [04:43<01:20,  1.50it/s]\u001b[A\n",
      " 78%|███████▊  | 421/541 [04:44<01:20,  1.50it/s]\u001b[A\n",
      " 78%|███████▊  | 422/541 [04:45<01:18,  1.51it/s]\u001b[A\n",
      " 78%|███████▊  | 423/541 [04:45<01:17,  1.52it/s]\u001b[A\n",
      " 78%|███████▊  | 424/541 [04:46<01:18,  1.48it/s]\u001b[A\n",
      " 79%|███████▊  | 425/541 [04:47<01:16,  1.51it/s]\u001b[A\n",
      " 79%|███████▊  | 426/541 [04:47<01:15,  1.53it/s]\u001b[A\n",
      " 79%|███████▉  | 427/541 [04:48<01:13,  1.56it/s]\u001b[A\n",
      " 79%|███████▉  | 428/541 [04:49<01:12,  1.55it/s]\u001b[A\n",
      " 79%|███████▉  | 429/541 [04:49<01:14,  1.51it/s]\u001b[A\n",
      " 79%|███████▉  | 430/541 [04:50<01:14,  1.49it/s]\u001b[A\n",
      " 80%|███████▉  | 431/541 [04:51<01:13,  1.50it/s]\u001b[A\n",
      " 80%|███████▉  | 432/541 [04:51<01:12,  1.51it/s]\u001b[A\n",
      " 80%|████████  | 433/541 [04:52<01:12,  1.49it/s]\u001b[A\n",
      " 80%|████████  | 434/541 [04:53<01:12,  1.47it/s]\u001b[A\n",
      " 80%|████████  | 435/541 [04:53<01:12,  1.46it/s]\u001b[A\n",
      " 81%|████████  | 436/541 [04:54<01:11,  1.47it/s]\u001b[A\n",
      " 81%|████████  | 437/541 [04:55<01:10,  1.48it/s]\u001b[A\n",
      " 81%|████████  | 438/541 [04:55<01:09,  1.49it/s]\u001b[A\n",
      " 81%|████████  | 439/541 [04:56<01:07,  1.50it/s]\u001b[A\n",
      " 81%|████████▏ | 440/541 [04:57<01:07,  1.50it/s]\u001b[A\n",
      " 82%|████████▏ | 441/541 [04:57<01:06,  1.51it/s]\u001b[A\n",
      " 82%|████████▏ | 442/541 [04:58<01:05,  1.51it/s]\u001b[A\n",
      " 82%|████████▏ | 443/541 [04:59<01:05,  1.51it/s]\u001b[A\n",
      " 82%|████████▏ | 444/541 [04:59<01:04,  1.51it/s]\u001b[A\n",
      " 82%|████████▏ | 445/541 [05:00<01:04,  1.50it/s]\u001b[A\n",
      " 82%|████████▏ | 446/541 [05:01<01:03,  1.51it/s]\u001b[A\n",
      " 83%|████████▎ | 447/541 [05:01<01:02,  1.50it/s]\u001b[A\n",
      " 83%|████████▎ | 448/541 [05:02<01:01,  1.51it/s]\u001b[A\n",
      " 83%|████████▎ | 449/541 [05:03<01:01,  1.50it/s]\u001b[A\n",
      " 83%|████████▎ | 450/541 [05:03<01:01,  1.49it/s]\u001b[A\n",
      " 83%|████████▎ | 451/541 [05:04<01:00,  1.49it/s]\u001b[A\n",
      " 84%|████████▎ | 452/541 [05:05<00:59,  1.50it/s]\u001b[A\n",
      " 84%|████████▎ | 453/541 [05:05<00:58,  1.50it/s]\u001b[A\n",
      " 84%|████████▍ | 454/541 [05:06<00:56,  1.53it/s]\u001b[A\n",
      " 84%|████████▍ | 455/541 [05:07<00:55,  1.54it/s]\u001b[A\n",
      " 84%|████████▍ | 456/541 [05:07<00:54,  1.55it/s]\u001b[A\n",
      " 84%|████████▍ | 457/541 [05:08<00:54,  1.54it/s]\u001b[A\n",
      " 85%|████████▍ | 458/541 [05:09<00:54,  1.52it/s]\u001b[A\n",
      " 85%|████████▍ | 459/541 [05:09<00:54,  1.50it/s]\u001b[A\n",
      " 85%|████████▌ | 460/541 [05:10<00:54,  1.49it/s]\u001b[A\n",
      " 85%|████████▌ | 461/541 [05:11<00:53,  1.50it/s]\u001b[A\n",
      " 85%|████████▌ | 462/541 [05:11<00:52,  1.51it/s]\u001b[A\n",
      " 86%|████████▌ | 463/541 [05:12<00:51,  1.52it/s]\u001b[A\n",
      " 86%|████████▌ | 464/541 [05:13<00:50,  1.51it/s]\u001b[A\n",
      " 86%|████████▌ | 465/541 [05:13<00:50,  1.51it/s]\u001b[A\n",
      " 86%|████████▌ | 466/541 [05:14<00:50,  1.49it/s]\u001b[A\n",
      " 86%|████████▋ | 467/541 [05:15<00:49,  1.48it/s]\u001b[A\n",
      " 87%|████████▋ | 468/541 [05:16<00:55,  1.33it/s]\u001b[A\n",
      " 87%|████████▋ | 469/541 [05:16<00:52,  1.38it/s]\u001b[A\n",
      " 87%|████████▋ | 470/541 [05:17<00:51,  1.39it/s]\u001b[A\n",
      " 87%|████████▋ | 471/541 [05:18<00:49,  1.43it/s]\u001b[A\n",
      " 87%|████████▋ | 472/541 [05:18<00:46,  1.47it/s]\u001b[A\n",
      " 87%|████████▋ | 473/541 [05:19<00:45,  1.49it/s]\u001b[A\n",
      " 88%|████████▊ | 474/541 [05:20<00:44,  1.49it/s]\u001b[A\n",
      " 88%|████████▊ | 475/541 [05:20<00:44,  1.50it/s]\u001b[A\n",
      " 88%|████████▊ | 476/541 [05:21<00:42,  1.52it/s]\u001b[A\n",
      " 88%|████████▊ | 477/541 [05:22<00:41,  1.55it/s]\u001b[A\n",
      " 88%|████████▊ | 478/541 [05:22<00:39,  1.58it/s]\u001b[A\n",
      " 89%|████████▊ | 479/541 [05:23<00:39,  1.57it/s]\u001b[A\n",
      " 89%|████████▊ | 480/541 [05:23<00:39,  1.55it/s]\u001b[A\n",
      " 89%|████████▉ | 481/541 [05:24<00:39,  1.53it/s]\u001b[A\n",
      " 89%|████████▉ | 482/541 [05:25<00:37,  1.56it/s]\u001b[A\n",
      " 89%|████████▉ | 483/541 [05:25<00:36,  1.57it/s]\u001b[A\n",
      " 89%|████████▉ | 484/541 [05:26<00:36,  1.57it/s]\u001b[A\n",
      " 90%|████████▉ | 485/541 [05:27<00:35,  1.57it/s]\u001b[A\n",
      " 90%|████████▉ | 486/541 [05:27<00:34,  1.57it/s]\u001b[A\n",
      " 90%|█████████ | 487/541 [05:28<00:34,  1.56it/s]\u001b[A\n",
      " 90%|█████████ | 488/541 [05:29<00:33,  1.56it/s]\u001b[A\n",
      " 90%|█████████ | 489/541 [05:29<00:33,  1.55it/s]\u001b[A\n",
      " 91%|█████████ | 490/541 [05:30<00:33,  1.52it/s]\u001b[A\n",
      " 91%|█████████ | 491/541 [05:31<00:33,  1.51it/s]\u001b[A\n",
      " 91%|█████████ | 492/541 [05:31<00:32,  1.51it/s]\u001b[A\n",
      " 91%|█████████ | 493/541 [05:32<00:32,  1.49it/s]\u001b[A\n",
      " 91%|█████████▏| 494/541 [05:33<00:31,  1.49it/s]\u001b[A\n",
      " 91%|█████████▏| 495/541 [05:33<00:30,  1.49it/s]\u001b[A\n",
      " 92%|█████████▏| 496/541 [05:34<00:30,  1.50it/s]\u001b[A\n",
      " 92%|█████████▏| 497/541 [05:35<00:29,  1.50it/s]\u001b[A\n",
      " 92%|█████████▏| 498/541 [05:35<00:28,  1.51it/s]\u001b[A\n",
      " 92%|█████████▏| 499/541 [05:36<00:27,  1.51it/s]\u001b[A\n",
      " 92%|█████████▏| 500/541 [05:37<00:27,  1.50it/s]\u001b[A\n",
      " 93%|█████████▎| 501/541 [05:37<00:26,  1.49it/s]\u001b[A\n",
      " 93%|█████████▎| 502/541 [05:38<00:26,  1.48it/s]\u001b[A\n",
      " 93%|█████████▎| 503/541 [05:39<00:25,  1.47it/s]\u001b[A\n",
      " 93%|█████████▎| 504/541 [05:39<00:25,  1.47it/s]\u001b[A\n",
      " 93%|█████████▎| 505/541 [05:40<00:24,  1.46it/s]\u001b[A\n",
      " 94%|█████████▎| 506/541 [05:41<00:24,  1.45it/s]\u001b[A\n",
      " 94%|█████████▎| 507/541 [05:41<00:23,  1.47it/s]\u001b[A\n",
      " 94%|█████████▍| 508/541 [05:42<00:22,  1.48it/s]\u001b[A\n",
      " 94%|█████████▍| 509/541 [05:43<00:21,  1.47it/s]\u001b[A\n",
      " 94%|█████████▍| 510/541 [05:43<00:20,  1.48it/s]\u001b[A\n",
      " 94%|█████████▍| 511/541 [05:44<00:19,  1.51it/s]\u001b[A\n",
      " 95%|█████████▍| 512/541 [05:45<00:18,  1.54it/s]\u001b[A\n",
      " 95%|█████████▍| 513/541 [05:45<00:18,  1.54it/s]\u001b[A\n",
      " 95%|█████████▌| 514/541 [05:46<00:17,  1.52it/s]\u001b[A\n",
      " 95%|█████████▌| 515/541 [05:47<00:17,  1.52it/s]\u001b[A\n",
      " 95%|█████████▌| 516/541 [05:47<00:16,  1.53it/s]\u001b[A\n",
      " 96%|█████████▌| 517/541 [05:48<00:15,  1.52it/s]\u001b[A\n",
      " 96%|█████████▌| 518/541 [05:49<00:18,  1.21it/s]\u001b[A\n",
      " 96%|█████████▌| 519/541 [05:50<00:17,  1.27it/s]\u001b[A\n",
      " 96%|█████████▌| 520/541 [05:51<00:15,  1.34it/s]\u001b[A\n",
      " 96%|█████████▋| 521/541 [05:51<00:14,  1.38it/s]\u001b[A\n",
      " 96%|█████████▋| 522/541 [05:52<00:13,  1.42it/s]\u001b[A\n",
      " 97%|█████████▋| 523/541 [05:53<00:12,  1.46it/s]\u001b[A\n",
      " 97%|█████████▋| 524/541 [05:53<00:11,  1.49it/s]\u001b[A\n",
      " 97%|█████████▋| 525/541 [05:54<00:10,  1.52it/s]\u001b[A\n",
      " 97%|█████████▋| 526/541 [05:54<00:09,  1.54it/s]\u001b[A\n",
      " 97%|█████████▋| 527/541 [05:55<00:09,  1.53it/s]\u001b[A\n",
      " 98%|█████████▊| 528/541 [05:56<00:08,  1.53it/s]\u001b[A\n",
      " 98%|█████████▊| 529/541 [05:56<00:07,  1.53it/s]\u001b[A\n",
      " 98%|█████████▊| 530/541 [05:57<00:07,  1.52it/s]\u001b[A\n",
      " 98%|█████████▊| 531/541 [05:58<00:06,  1.52it/s]\u001b[A\n",
      " 98%|█████████▊| 532/541 [05:58<00:05,  1.51it/s]\u001b[A\n",
      " 99%|█████████▊| 533/541 [05:59<00:05,  1.50it/s]\u001b[A\n",
      " 99%|█████████▊| 534/541 [06:00<00:04,  1.51it/s]\u001b[A\n",
      " 99%|█████████▉| 535/541 [06:00<00:03,  1.51it/s]\u001b[A\n",
      " 99%|█████████▉| 536/541 [06:01<00:03,  1.52it/s]\u001b[A\n",
      " 99%|█████████▉| 537/541 [06:02<00:02,  1.52it/s]\u001b[A\n",
      " 99%|█████████▉| 538/541 [06:02<00:01,  1.55it/s]\u001b[A\n",
      "100%|█████████▉| 539/541 [06:03<00:01,  1.54it/s]\u001b[A\n",
      "100%|█████████▉| 540/541 [06:04<00:00,  1.51it/s]\u001b[A\n",
      "100%|██████████| 541/541 [06:04<00:00,  1.48it/s]\u001b[A\n"
     ]
    }
   ],
   "source": [
    "posrank_deepmatcher,flippedpos_deepmatcher = explainSamples(corrects_deepmatcher,[walmart,amazon],walmart_deepmatcher,\n",
    "                                         predict_fn_deepmatcher,1,4)"
   ]
  },
  {
   "cell_type": "code",
   "execution_count": 26,
   "metadata": {
    "ExecuteTime": {
     "end_time": "2020-06-06T08:56:25.944420Z",
     "start_time": "2020-06-06T08:56:25.301307Z"
    }
   },
   "outputs": [],
   "source": [
    "saveExplanationResult('rankings/','deepmatcher','walmart_amazon',posrank=posrank_deepmatcher,negrank=negrank_deepmatcher,\n",
    "                     flippedneg=flippedneg_deepmatcher,flippedpos=flippedpos_deepmatcher)"
   ]
  },
  {
   "cell_type": "code",
   "execution_count": 27,
   "metadata": {
    "ExecuteTime": {
     "end_time": "2020-06-06T08:57:55.359929Z",
     "start_time": "2020-06-06T08:57:54.704646Z"
    }
   },
   "outputs": [],
   "source": [
    "saveExplanationResult('rankings/','deeper','walmart_amazon',posrank_deeper,negrank_deeper,flippedpos_deeper,\n",
    "                     flippedneg_deeper)"
   ]
  },
  {
   "cell_type": "markdown",
   "metadata": {},
   "source": [
    "## Amazon-Google"
   ]
  },
  {
   "cell_type": "code",
   "execution_count": 28,
   "metadata": {
    "ExecuteTime": {
     "end_time": "2020-06-06T08:57:58.773084Z",
     "start_time": "2020-06-06T08:57:58.631810Z"
    }
   },
   "outputs": [],
   "source": [
    "augmented_test = pd.read_csv('datasets/Amazon-GoogleProducts/augmented_test.csv')\n",
    "amazon = pd.read_csv('datasets/Amazon-GoogleProducts/Amazon.csv',dtype=str)\n",
    "google = pd.read_csv('datasets/Amazon-GoogleProducts/Google.csv',dtype=str)"
   ]
  },
  {
   "cell_type": "code",
   "execution_count": 29,
   "metadata": {
    "ExecuteTime": {
     "end_time": "2020-06-06T08:58:26.778742Z",
     "start_time": "2020-06-06T08:58:26.721341Z"
    }
   },
   "outputs": [],
   "source": [
    "augmented_test['id'] = augmented_test['id'].apply(lambda sampleid:formatId(sampleid))"
   ]
  },
  {
   "cell_type": "code",
   "execution_count": 30,
   "metadata": {
    "ExecuteTime": {
     "end_time": "2020-06-06T08:58:30.121411Z",
     "start_time": "2020-06-06T08:58:27.430235Z"
    }
   },
   "outputs": [],
   "source": [
    "amzgoogle_deepmatcher = dm.MatchingModel(attr_summarizer='rnn')\n",
    "amzgoogle_deepmatcher.load_state('models/amazon_google_rnn.pth')\n",
    "amzgoogle_deeper = load_model('models/DeepER_best_model_100_amazon-google.h5')"
   ]
  },
  {
   "cell_type": "code",
   "execution_count": 35,
   "metadata": {
    "ExecuteTime": {
     "end_time": "2020-06-06T09:01:30.851439Z",
     "start_time": "2020-06-06T09:01:06.778738Z"
    }
   },
   "outputs": [],
   "source": [
    "corrects_deeper = getCorrectPredictions(augmented_test,amzgoogle_deeper,predict_fn_deeper)"
   ]
  },
  {
   "cell_type": "code",
   "execution_count": 37,
   "metadata": {
    "ExecuteTime": {
     "end_time": "2020-06-06T09:03:45.749618Z",
     "start_time": "2020-06-06T09:03:14.072812Z"
    }
   },
   "outputs": [],
   "source": [
    "corrects_deepmatcher = getCorrectPredictions(augmented_test,amzgoogle_deepmatcher,predict_fn_deepmatcher)"
   ]
  },
  {
   "cell_type": "code",
   "execution_count": 36,
   "metadata": {
    "ExecuteTime": {
     "end_time": "2020-06-06T09:01:55.493676Z",
     "start_time": "2020-06-06T09:01:33.704876Z"
    }
   },
   "outputs": [
    {
     "name": "stderr",
     "output_type": "stream",
     "text": [
      "\n",
      "  0%|          | 0/183 [00:00<?, ?it/s]\u001b[A\n",
      "  1%|          | 1/183 [00:00<00:18,  9.75it/s]\u001b[A\n",
      "  2%|▏         | 4/183 [00:00<00:15, 11.81it/s]\u001b[A\n",
      "  3%|▎         | 6/183 [00:00<00:23,  7.59it/s]\u001b[A\n",
      "  4%|▍         | 7/183 [00:01<00:34,  5.11it/s]\u001b[A\n",
      "  4%|▍         | 8/183 [00:01<00:42,  4.08it/s]\u001b[A\n",
      "  5%|▍         | 9/183 [00:01<00:47,  3.69it/s]\u001b[A\n",
      "  7%|▋         | 12/183 [00:02<00:40,  4.19it/s]\u001b[A\n",
      "  7%|▋         | 13/183 [00:02<00:47,  3.58it/s]\u001b[A\n",
      "  8%|▊         | 14/183 [00:02<00:40,  4.16it/s]\u001b[A\n",
      "  9%|▉         | 17/183 [00:03<00:34,  4.88it/s]\u001b[A\n",
      " 10%|▉         | 18/183 [00:03<00:36,  4.53it/s]\u001b[A\n",
      " 11%|█         | 20/183 [00:03<00:28,  5.74it/s]\u001b[A\n",
      " 13%|█▎        | 23/183 [00:03<00:21,  7.47it/s]\u001b[A\n",
      " 14%|█▎        | 25/183 [00:03<00:17,  9.01it/s]\u001b[A\n",
      " 15%|█▍        | 27/183 [00:03<00:14, 10.70it/s]\u001b[A\n",
      " 16%|█▌        | 29/183 [00:05<00:37,  4.13it/s]\u001b[A\n",
      " 17%|█▋        | 31/183 [00:05<00:29,  5.23it/s]\u001b[A\n",
      " 18%|█▊        | 33/183 [00:05<00:30,  4.97it/s]\u001b[A\n",
      " 19%|█▊        | 34/183 [00:05<00:30,  4.96it/s]\u001b[A\n",
      " 20%|██        | 37/183 [00:05<00:22,  6.48it/s]\u001b[A\n",
      " 21%|██▏       | 39/183 [00:06<00:24,  5.89it/s]\u001b[A\n",
      " 23%|██▎       | 42/183 [00:06<00:22,  6.28it/s]\u001b[A\n",
      " 23%|██▎       | 43/183 [00:07<00:29,  4.69it/s]\u001b[A\n",
      " 24%|██▍       | 44/183 [00:07<00:35,  3.93it/s]\u001b[A\n",
      " 26%|██▌       | 47/183 [00:07<00:27,  5.00it/s]\u001b[A\n",
      " 27%|██▋       | 49/183 [00:07<00:21,  6.32it/s]\u001b[A\n",
      " 28%|██▊       | 51/183 [00:08<00:19,  6.68it/s]\u001b[A\n",
      " 28%|██▊       | 52/183 [00:08<00:22,  5.76it/s]\u001b[A\n",
      " 30%|███       | 55/183 [00:08<00:16,  7.53it/s]\u001b[A\n",
      " 31%|███       | 57/183 [00:08<00:20,  6.28it/s]\u001b[A\n",
      " 32%|███▏      | 59/183 [00:09<00:17,  7.28it/s]\u001b[A\n",
      " 33%|███▎      | 61/183 [00:09<00:17,  7.16it/s]\u001b[A\n",
      " 36%|███▌      | 65/183 [00:09<00:12,  9.16it/s]\u001b[A\n",
      " 37%|███▋      | 67/183 [00:09<00:14,  7.92it/s]\u001b[A\n",
      " 38%|███▊      | 69/183 [00:09<00:12,  9.25it/s]\u001b[A\n",
      " 39%|███▉      | 71/183 [00:10<00:10, 10.65it/s]\u001b[A\n",
      " 40%|███▉      | 73/183 [00:10<00:10, 10.98it/s]\u001b[A\n",
      " 41%|████      | 75/183 [00:10<00:11,  9.18it/s]\u001b[A\n",
      " 43%|████▎     | 78/183 [00:10<00:11,  9.34it/s]\u001b[A\n",
      " 44%|████▎     | 80/183 [00:10<00:09, 11.05it/s]\u001b[A\n",
      " 45%|████▍     | 82/183 [00:11<00:09, 10.24it/s]\u001b[A\n",
      " 46%|████▌     | 84/183 [00:11<00:09, 10.77it/s]\u001b[A\n",
      " 47%|████▋     | 86/183 [00:11<00:11,  8.62it/s]\u001b[A\n",
      " 49%|████▊     | 89/183 [00:11<00:08, 10.68it/s]\u001b[A\n",
      " 50%|████▉     | 91/183 [00:11<00:07, 11.78it/s]\u001b[A\n",
      " 51%|█████     | 93/183 [00:12<00:06, 13.24it/s]\u001b[A\n",
      " 52%|█████▏    | 96/183 [00:12<00:05, 15.70it/s]\u001b[A\n",
      " 54%|█████▎    | 98/183 [00:12<00:05, 16.51it/s]\u001b[A\n",
      " 55%|█████▍    | 100/183 [00:12<00:06, 12.54it/s]\u001b[A\n",
      " 56%|█████▌    | 102/183 [00:12<00:06, 13.48it/s]\u001b[A\n",
      " 57%|█████▋    | 104/183 [00:13<00:11,  6.62it/s]\u001b[A\n",
      " 58%|█████▊    | 106/183 [00:13<00:09,  8.08it/s]\u001b[A\n",
      " 59%|█████▉    | 108/183 [00:13<00:07,  9.57it/s]\u001b[A\n",
      " 61%|██████    | 111/183 [00:13<00:06, 11.62it/s]\u001b[A\n",
      " 62%|██████▏   | 114/183 [00:13<00:05, 13.71it/s]\u001b[A\n",
      " 63%|██████▎   | 116/183 [00:13<00:04, 15.06it/s]\u001b[A\n",
      " 64%|██████▍   | 118/183 [00:13<00:04, 15.45it/s]\u001b[A\n",
      " 66%|██████▌   | 121/183 [00:14<00:03, 17.88it/s]\u001b[A\n",
      " 68%|██████▊   | 124/183 [00:14<00:05,  9.84it/s]\u001b[A\n",
      " 70%|██████▉   | 128/183 [00:14<00:04, 12.70it/s]\u001b[A\n",
      " 72%|███████▏  | 132/183 [00:14<00:03, 15.38it/s]\u001b[A\n",
      " 74%|███████▍  | 135/183 [00:15<00:02, 17.57it/s]\u001b[A\n",
      " 75%|███████▌  | 138/183 [00:15<00:02, 19.95it/s]\u001b[A\n",
      " 77%|███████▋  | 141/183 [00:15<00:02, 19.77it/s]\u001b[A\n",
      " 79%|███████▊  | 144/183 [00:15<00:02, 18.33it/s]\u001b[A\n",
      " 80%|████████  | 147/183 [00:16<00:05,  6.01it/s]\u001b[A\n",
      " 82%|████████▏ | 150/183 [00:17<00:05,  6.10it/s]\u001b[A\n",
      " 83%|████████▎ | 152/183 [00:18<00:06,  4.46it/s]\u001b[A\n",
      " 84%|████████▍ | 154/183 [00:18<00:05,  5.74it/s]\u001b[A\n",
      " 85%|████████▌ | 156/183 [00:18<00:03,  6.99it/s]\u001b[A\n",
      " 86%|████████▋ | 158/183 [00:18<00:03,  7.94it/s]\u001b[A\n",
      " 87%|████████▋ | 160/183 [00:18<00:03,  6.35it/s]\u001b[A\n",
      " 89%|████████▊ | 162/183 [00:19<00:04,  4.69it/s]\u001b[A\n",
      " 90%|█████████ | 165/183 [00:19<00:02,  6.27it/s]\u001b[A\n",
      " 91%|█████████▏| 167/183 [00:20<00:02,  6.31it/s]\u001b[A\n",
      " 92%|█████████▏| 169/183 [00:20<00:01,  7.93it/s]\u001b[A\n",
      " 94%|█████████▍| 172/183 [00:20<00:01,  7.32it/s]\u001b[A\n",
      " 95%|█████████▌| 174/183 [00:20<00:01,  7.30it/s]\u001b[A\n",
      " 97%|█████████▋| 177/183 [00:20<00:00,  9.40it/s]\u001b[A\n",
      " 98%|█████████▊| 179/183 [00:21<00:00,  8.21it/s]\u001b[A\n",
      "100%|██████████| 183/183 [00:21<00:00,  8.52it/s]\u001b[A\n"
     ]
    }
   ],
   "source": [
    "negrank_deeper,flippedneg_deeper = explainSamples(corrects_deeper,[amazon,google],amzgoogle_deeper,\n",
    "                                  predict_fn_deeper,0,3)"
   ]
  },
  {
   "cell_type": "code",
   "execution_count": 38,
   "metadata": {
    "ExecuteTime": {
     "end_time": "2020-06-06T09:06:47.981584Z",
     "start_time": "2020-06-06T09:03:45.751489Z"
    }
   },
   "outputs": [
    {
     "name": "stderr",
     "output_type": "stream",
     "text": [
      "\n",
      "  0%|          | 0/303 [00:00<?, ?it/s]\u001b[A\n",
      "  0%|          | 1/303 [00:00<01:44,  2.89it/s]\u001b[A\n",
      "  1%|          | 2/303 [00:00<01:46,  2.83it/s]\u001b[A\n",
      "  1%|          | 3/303 [00:01<01:47,  2.80it/s]\u001b[A\n",
      "  1%|▏         | 4/303 [00:01<01:47,  2.79it/s]\u001b[A\n",
      "  2%|▏         | 5/303 [00:01<01:46,  2.79it/s]\u001b[A\n",
      "  2%|▏         | 6/303 [00:02<01:46,  2.80it/s]\u001b[A\n",
      "  2%|▏         | 7/303 [00:02<01:45,  2.80it/s]\u001b[A\n",
      "  3%|▎         | 8/303 [00:03<02:02,  2.41it/s]\u001b[A\n",
      "  3%|▎         | 9/303 [00:03<02:04,  2.37it/s]\u001b[A\n",
      "  3%|▎         | 10/303 [00:03<02:08,  2.29it/s]\u001b[A\n",
      "  4%|▎         | 11/303 [00:04<02:10,  2.23it/s]\u001b[A\n",
      "  4%|▍         | 12/303 [00:05<03:18,  1.46it/s]\u001b[A\n",
      "  4%|▍         | 13/303 [00:06<03:55,  1.23it/s]\u001b[A\n",
      "  5%|▍         | 14/303 [00:07<04:20,  1.11it/s]\u001b[A\n",
      "  5%|▍         | 15/303 [00:09<04:39,  1.03it/s]\u001b[A\n",
      "  5%|▌         | 16/303 [00:10<04:52,  1.02s/it]\u001b[A\n",
      "  6%|▌         | 17/303 [00:10<04:04,  1.17it/s]\u001b[A\n",
      "  6%|▌         | 18/303 [00:11<03:36,  1.31it/s]\u001b[A\n",
      "  6%|▋         | 19/303 [00:11<03:09,  1.50it/s]\u001b[A\n",
      "  7%|▋         | 20/303 [00:13<04:40,  1.01it/s]\u001b[A\n",
      "  7%|▋         | 21/303 [00:14<05:27,  1.16s/it]\u001b[A\n",
      "  7%|▋         | 22/303 [00:16<06:00,  1.28s/it]\u001b[A\n",
      "  8%|▊         | 23/303 [00:17<05:12,  1.12s/it]\u001b[A\n",
      "  8%|▊         | 24/303 [00:17<04:20,  1.07it/s]\u001b[A\n",
      "  8%|▊         | 25/303 [00:18<03:36,  1.28it/s]\u001b[A\n",
      "  9%|▊         | 26/303 [00:18<03:15,  1.42it/s]\u001b[A\n",
      "  9%|▉         | 27/303 [00:19<03:38,  1.26it/s]\u001b[A\n",
      "  9%|▉         | 28/303 [00:20<03:52,  1.18it/s]\u001b[A\n",
      " 10%|▉         | 29/303 [00:21<03:22,  1.35it/s]\u001b[A\n",
      " 10%|▉         | 30/303 [00:21<02:56,  1.55it/s]\u001b[A\n",
      " 10%|█         | 31/303 [00:22<02:48,  1.61it/s]\u001b[A\n",
      " 11%|█         | 32/303 [00:22<02:43,  1.65it/s]\u001b[A\n",
      " 11%|█         | 33/303 [00:23<02:26,  1.84it/s]\u001b[A\n",
      " 11%|█         | 34/303 [00:23<02:21,  1.89it/s]\u001b[A\n",
      " 12%|█▏        | 35/303 [00:24<02:18,  1.93it/s]\u001b[A\n",
      " 12%|█▏        | 36/303 [00:24<02:22,  1.88it/s]\u001b[A\n",
      " 12%|█▏        | 37/303 [00:25<02:24,  1.84it/s]\u001b[A\n",
      " 13%|█▎        | 38/303 [00:25<02:22,  1.86it/s]\u001b[A\n",
      " 13%|█▎        | 39/303 [00:26<02:21,  1.87it/s]\u001b[A\n",
      " 13%|█▎        | 40/303 [00:26<02:19,  1.88it/s]\u001b[A\n",
      " 14%|█▎        | 41/303 [00:27<02:42,  1.61it/s]\u001b[A\n",
      " 14%|█▍        | 42/303 [00:28<02:24,  1.80it/s]\u001b[A\n",
      " 14%|█▍        | 43/303 [00:28<02:17,  1.89it/s]\u001b[A\n",
      " 15%|█▍        | 44/303 [00:29<02:22,  1.82it/s]\u001b[A\n",
      " 15%|█▍        | 45/303 [00:29<02:10,  1.97it/s]\u001b[A\n",
      " 15%|█▌        | 46/303 [00:29<02:04,  2.07it/s]\u001b[A\n",
      " 16%|█▌        | 47/303 [00:30<02:00,  2.12it/s]\u001b[A\n",
      " 16%|█▌        | 48/303 [00:30<01:54,  2.23it/s]\u001b[A\n",
      " 16%|█▌        | 49/303 [00:31<01:49,  2.33it/s]\u001b[A\n",
      " 17%|█▋        | 50/303 [00:31<01:44,  2.42it/s]\u001b[A\n",
      " 17%|█▋        | 51/303 [00:31<01:46,  2.37it/s]\u001b[A\n",
      " 17%|█▋        | 52/303 [00:32<01:45,  2.38it/s]\u001b[A\n",
      " 17%|█▋        | 53/303 [00:32<01:51,  2.24it/s]\u001b[A\n",
      " 18%|█▊        | 54/303 [00:33<01:48,  2.29it/s]\u001b[A\n",
      " 18%|█▊        | 55/303 [00:33<01:41,  2.45it/s]\u001b[A\n",
      " 18%|█▊        | 56/303 [00:35<03:07,  1.32it/s]\u001b[A\n",
      " 19%|█▉        | 57/303 [00:36<04:02,  1.01it/s]\u001b[A\n",
      " 19%|█▉        | 58/303 [00:37<03:22,  1.21it/s]\u001b[A\n",
      " 19%|█▉        | 59/303 [00:37<02:56,  1.39it/s]\u001b[A\n",
      " 20%|█▉        | 60/303 [00:38<02:37,  1.54it/s]\u001b[A\n",
      " 20%|██        | 61/303 [00:38<02:26,  1.66it/s]\u001b[A\n",
      " 20%|██        | 62/303 [00:39<02:16,  1.77it/s]\u001b[A\n",
      " 21%|██        | 63/303 [00:39<02:13,  1.80it/s]\u001b[A\n",
      " 21%|██        | 64/303 [00:41<03:11,  1.25it/s]\u001b[A\n",
      " 21%|██▏       | 65/303 [00:42<03:29,  1.14it/s]\u001b[A\n",
      " 22%|██▏       | 66/303 [00:42<03:07,  1.26it/s]\u001b[A\n",
      " 22%|██▏       | 67/303 [00:43<02:46,  1.42it/s]\u001b[A\n",
      " 22%|██▏       | 68/303 [00:43<02:32,  1.54it/s]\u001b[A\n",
      " 23%|██▎       | 69/303 [00:44<02:21,  1.65it/s]\u001b[A\n",
      " 23%|██▎       | 70/303 [00:44<02:13,  1.75it/s]\u001b[A\n",
      " 23%|██▎       | 71/303 [00:45<02:11,  1.77it/s]\u001b[A\n",
      " 24%|██▍       | 72/303 [00:45<02:09,  1.79it/s]\u001b[A\n",
      " 24%|██▍       | 73/303 [00:46<02:02,  1.87it/s]\u001b[A\n",
      " 24%|██▍       | 74/303 [00:46<01:52,  2.04it/s]\u001b[A\n",
      " 25%|██▍       | 75/303 [00:47<01:41,  2.24it/s]\u001b[A\n",
      " 25%|██▌       | 76/303 [00:48<02:38,  1.43it/s]\u001b[A\n",
      " 25%|██▌       | 77/303 [00:48<02:17,  1.64it/s]\u001b[A\n",
      " 26%|██▌       | 78/303 [00:49<01:58,  1.90it/s]\u001b[A\n",
      " 26%|██▌       | 79/303 [00:50<02:58,  1.25it/s]\u001b[A\n",
      " 26%|██▋       | 80/303 [00:51<03:28,  1.07it/s]\u001b[A\n",
      " 27%|██▋       | 81/303 [00:52<03:47,  1.02s/it]\u001b[A\n",
      " 27%|██▋       | 82/303 [00:53<03:06,  1.19it/s]\u001b[A\n",
      " 27%|██▋       | 83/303 [00:53<02:39,  1.38it/s]\u001b[A\n",
      " 28%|██▊       | 84/303 [00:54<02:29,  1.47it/s]\u001b[A\n",
      " 28%|██▊       | 85/303 [00:54<02:17,  1.58it/s]\u001b[A\n",
      " 28%|██▊       | 86/303 [00:55<02:09,  1.68it/s]\u001b[A\n",
      " 29%|██▊       | 87/303 [00:56<02:06,  1.71it/s]\u001b[A\n",
      " 29%|██▉       | 88/303 [00:56<01:57,  1.83it/s]\u001b[A\n",
      " 29%|██▉       | 89/303 [00:56<01:53,  1.89it/s]\u001b[A\n",
      " 30%|██▉       | 90/303 [00:57<02:12,  1.60it/s]\u001b[A\n",
      " 30%|███       | 91/303 [00:58<02:01,  1.74it/s]\u001b[A\n",
      " 30%|███       | 92/303 [00:58<01:59,  1.77it/s]\u001b[A\n",
      " 31%|███       | 93/303 [00:59<01:58,  1.78it/s]\u001b[A\n",
      " 31%|███       | 94/303 [00:59<01:49,  1.91it/s]\u001b[A\n",
      " 31%|███▏      | 95/303 [01:00<01:53,  1.84it/s]\u001b[A\n",
      " 32%|███▏      | 96/303 [01:00<01:56,  1.78it/s]\u001b[A\n",
      " 32%|███▏      | 97/303 [01:01<02:17,  1.50it/s]\u001b[A\n",
      " 32%|███▏      | 98/303 [01:02<02:27,  1.39it/s]\u001b[A\n",
      " 33%|███▎      | 99/303 [01:03<02:13,  1.53it/s]\u001b[A\n",
      " 33%|███▎      | 100/303 [01:03<02:03,  1.65it/s]\u001b[A\n",
      " 33%|███▎      | 101/303 [01:04<01:50,  1.82it/s]\u001b[A\n",
      " 34%|███▎      | 102/303 [01:04<01:39,  2.02it/s]\u001b[A\n",
      " 34%|███▍      | 103/303 [01:04<01:31,  2.18it/s]\u001b[A\n",
      " 34%|███▍      | 104/303 [01:05<01:25,  2.33it/s]\u001b[A\n",
      " 35%|███▍      | 105/303 [01:06<02:12,  1.50it/s]\u001b[A\n",
      " 35%|███▍      | 106/303 [01:07<02:33,  1.29it/s]\u001b[A\n",
      " 35%|███▌      | 107/303 [01:08<02:18,  1.41it/s]\u001b[A\n",
      " 36%|███▌      | 108/303 [01:08<02:18,  1.41it/s]\u001b[A\n",
      " 36%|███▌      | 109/303 [01:09<02:02,  1.58it/s]\u001b[A\n",
      " 36%|███▋      | 110/303 [01:09<02:00,  1.60it/s]\u001b[A\n",
      " 37%|███▋      | 111/303 [01:10<01:49,  1.76it/s]\u001b[A\n",
      " 37%|███▋      | 112/303 [01:10<01:48,  1.76it/s]\u001b[A\n",
      " 37%|███▋      | 113/303 [01:11<01:45,  1.79it/s]\u001b[A\n",
      " 38%|███▊      | 114/303 [01:12<02:12,  1.43it/s]\u001b[A\n",
      " 38%|███▊      | 115/303 [01:12<02:05,  1.50it/s]\u001b[A\n",
      " 38%|███▊      | 116/303 [01:13<01:51,  1.68it/s]\u001b[A\n",
      " 39%|███▊      | 117/303 [01:13<01:45,  1.76it/s]\u001b[A\n",
      " 39%|███▉      | 118/303 [01:14<01:40,  1.83it/s]\u001b[A\n",
      " 39%|███▉      | 119/303 [01:14<01:37,  1.90it/s]\u001b[A\n",
      " 40%|███▉      | 120/303 [01:15<02:02,  1.50it/s]\u001b[A\n",
      " 40%|███▉      | 121/303 [01:16<01:51,  1.63it/s]\u001b[A\n",
      " 40%|████      | 122/303 [01:16<01:47,  1.68it/s]\u001b[A\n",
      " 41%|████      | 123/303 [01:17<01:37,  1.84it/s]\u001b[A\n",
      " 41%|████      | 124/303 [01:17<01:25,  2.09it/s]\u001b[A\n",
      " 41%|████▏     | 125/303 [01:18<01:18,  2.26it/s]\u001b[A\n",
      " 42%|████▏     | 126/303 [01:18<01:13,  2.40it/s]\u001b[A\n",
      " 42%|████▏     | 127/303 [01:18<01:13,  2.39it/s]\u001b[A\n",
      " 42%|████▏     | 128/303 [01:19<01:15,  2.32it/s]\u001b[A\n",
      " 43%|████▎     | 129/303 [01:19<01:22,  2.10it/s]\u001b[A\n",
      " 43%|████▎     | 130/303 [01:20<01:20,  2.15it/s]\u001b[A\n",
      " 43%|████▎     | 131/303 [01:21<01:50,  1.55it/s]\u001b[A\n",
      " 44%|████▎     | 132/303 [01:21<01:42,  1.67it/s]\u001b[A\n",
      " 44%|████▍     | 133/303 [01:22<01:34,  1.80it/s]\u001b[A\n",
      " 44%|████▍     | 134/303 [01:22<01:23,  2.03it/s]\u001b[A\n",
      " 45%|████▍     | 135/303 [01:22<01:15,  2.23it/s]\u001b[A\n",
      " 45%|████▍     | 136/303 [01:23<01:12,  2.32it/s]\u001b[A\n",
      " 45%|████▌     | 137/303 [01:23<01:14,  2.22it/s]\u001b[A\n",
      " 46%|████▌     | 138/303 [01:24<01:15,  2.18it/s]\u001b[A\n",
      " 46%|████▌     | 139/303 [01:25<01:39,  1.64it/s]\u001b[A\n",
      " 46%|████▌     | 140/303 [01:26<01:56,  1.40it/s]\u001b[A\n",
      " 47%|████▋     | 141/303 [01:26<01:41,  1.59it/s]\u001b[A\n",
      " 47%|████▋     | 142/303 [01:27<01:37,  1.64it/s]\u001b[A\n",
      " 47%|████▋     | 143/303 [01:27<01:33,  1.71it/s]\u001b[A\n",
      " 48%|████▊     | 144/303 [01:28<01:24,  1.88it/s]\u001b[A\n",
      " 48%|████▊     | 145/303 [01:28<01:19,  1.98it/s]\u001b[A\n",
      " 48%|████▊     | 146/303 [01:29<01:54,  1.37it/s]\u001b[A\n",
      " 49%|████▊     | 147/303 [01:30<01:44,  1.49it/s]\u001b[A\n",
      " 49%|████▉     | 148/303 [01:30<01:37,  1.58it/s]\u001b[A\n",
      " 49%|████▉     | 149/303 [01:31<01:34,  1.63it/s]\u001b[A\n",
      " 50%|████▉     | 150/303 [01:32<01:30,  1.69it/s]\u001b[A\n",
      " 50%|████▉     | 151/303 [01:32<01:23,  1.82it/s]\u001b[A\n",
      " 50%|█████     | 152/303 [01:33<01:22,  1.82it/s]\u001b[A\n",
      " 50%|█████     | 153/303 [01:34<01:44,  1.43it/s]\u001b[A\n",
      " 51%|█████     | 154/303 [01:34<01:39,  1.50it/s]\u001b[A\n",
      " 51%|█████     | 155/303 [01:35<01:27,  1.69it/s]\u001b[A\n",
      " 51%|█████▏    | 156/303 [01:35<01:21,  1.81it/s]\u001b[A\n",
      " 52%|█████▏    | 157/303 [01:35<01:13,  1.99it/s]\u001b[A\n",
      " 52%|█████▏    | 158/303 [01:36<01:06,  2.19it/s]\u001b[A\n",
      " 52%|█████▏    | 159/303 [01:36<01:00,  2.38it/s]\u001b[A\n",
      " 53%|█████▎    | 160/303 [01:37<01:03,  2.24it/s]\u001b[A\n",
      " 53%|█████▎    | 161/303 [01:37<01:06,  2.13it/s]\u001b[A\n",
      " 53%|█████▎    | 162/303 [01:38<01:07,  2.10it/s]\u001b[A\n",
      " 54%|█████▍    | 163/303 [01:38<01:11,  1.95it/s]\u001b[A\n",
      " 54%|█████▍    | 164/303 [01:39<01:09,  2.01it/s]\u001b[A\n",
      " 54%|█████▍    | 165/303 [01:39<01:08,  2.02it/s]\u001b[A\n",
      " 55%|█████▍    | 166/303 [01:40<01:06,  2.05it/s]\u001b[A\n",
      " 55%|█████▌    | 167/303 [01:40<01:05,  2.07it/s]\u001b[A\n",
      " 55%|█████▌    | 168/303 [01:41<01:03,  2.14it/s]\u001b[A\n",
      " 56%|█████▌    | 169/303 [01:41<01:03,  2.10it/s]\u001b[A\n",
      " 56%|█████▌    | 170/303 [01:42<01:05,  2.04it/s]\u001b[A\n",
      " 56%|█████▋    | 171/303 [01:42<01:05,  2.01it/s]\u001b[A\n",
      " 57%|█████▋    | 172/303 [01:43<01:05,  2.01it/s]\u001b[A\n",
      " 57%|█████▋    | 173/303 [01:43<01:06,  1.96it/s]\u001b[A\n",
      " 57%|█████▋    | 174/303 [01:44<01:03,  2.02it/s]\u001b[A\n",
      " 58%|█████▊    | 175/303 [01:44<01:04,  1.98it/s]\u001b[A\n",
      " 58%|█████▊    | 176/303 [01:45<01:01,  2.06it/s]\u001b[A\n",
      " 58%|█████▊    | 177/303 [01:46<01:17,  1.63it/s]\u001b[A\n",
      " 59%|█████▊    | 178/303 [01:46<01:10,  1.78it/s]\u001b[A\n",
      " 59%|█████▉    | 179/303 [01:47<01:09,  1.80it/s]\u001b[A\n",
      " 59%|█████▉    | 180/303 [01:48<01:31,  1.35it/s]\u001b[A\n",
      " 60%|█████▉    | 181/303 [01:48<01:22,  1.48it/s]\u001b[A\n",
      " 60%|██████    | 182/303 [01:49<01:15,  1.60it/s]\u001b[A\n",
      " 60%|██████    | 183/303 [01:49<01:09,  1.74it/s]\u001b[A\n",
      " 61%|██████    | 184/303 [01:50<01:09,  1.70it/s]\u001b[A\n",
      " 61%|██████    | 185/303 [01:50<01:04,  1.84it/s]\u001b[A\n",
      " 61%|██████▏   | 186/303 [01:51<01:06,  1.75it/s]\u001b[A\n",
      " 62%|██████▏   | 187/303 [01:51<01:01,  1.89it/s]\u001b[A\n",
      " 62%|██████▏   | 188/303 [01:52<01:03,  1.81it/s]\u001b[A\n",
      " 62%|██████▏   | 189/303 [01:52<01:00,  1.88it/s]\u001b[A\n",
      " 63%|██████▎   | 190/303 [01:53<00:58,  1.94it/s]\u001b[A\n",
      " 63%|██████▎   | 191/303 [01:53<00:57,  1.96it/s]\u001b[A\n",
      " 63%|██████▎   | 192/303 [01:54<00:57,  1.93it/s]\u001b[A\n",
      " 64%|██████▎   | 193/303 [01:54<00:56,  1.96it/s]\u001b[A\n",
      " 64%|██████▍   | 194/303 [01:55<00:55,  1.97it/s]\u001b[A\n",
      " 64%|██████▍   | 195/303 [01:55<00:54,  1.98it/s]\u001b[A\n",
      " 65%|██████▍   | 196/303 [01:56<00:55,  1.92it/s]\u001b[A\n",
      " 65%|██████▌   | 197/303 [01:56<00:53,  1.98it/s]\u001b[A\n",
      " 65%|██████▌   | 198/303 [01:57<00:53,  1.94it/s]\u001b[A\n",
      " 66%|██████▌   | 199/303 [01:57<00:50,  2.05it/s]\u001b[A\n",
      " 66%|██████▌   | 200/303 [01:58<00:51,  1.98it/s]\u001b[A\n",
      " 66%|██████▋   | 201/303 [01:58<00:51,  1.99it/s]\u001b[A\n",
      " 67%|██████▋   | 202/303 [01:59<00:52,  1.94it/s]\u001b[A\n",
      " 67%|██████▋   | 203/303 [01:59<00:50,  1.97it/s]\u001b[A\n",
      " 67%|██████▋   | 204/303 [02:00<00:49,  1.98it/s]\u001b[A\n",
      " 68%|██████▊   | 205/303 [02:00<00:49,  1.97it/s]\u001b[A\n",
      " 68%|██████▊   | 206/303 [02:01<00:49,  1.95it/s]\u001b[A\n",
      " 68%|██████▊   | 207/303 [02:01<00:47,  2.03it/s]\u001b[A\n",
      " 69%|██████▊   | 208/303 [02:02<00:47,  1.98it/s]\u001b[A\n",
      " 69%|██████▉   | 209/303 [02:03<00:48,  1.95it/s]\u001b[A\n",
      " 69%|██████▉   | 210/303 [02:04<01:20,  1.16it/s]\u001b[A\n",
      " 70%|██████▉   | 211/303 [02:05<01:08,  1.35it/s]\u001b[A\n",
      " 70%|██████▉   | 212/303 [02:05<01:01,  1.49it/s]\u001b[A\n",
      " 70%|███████   | 213/303 [02:06<00:54,  1.64it/s]\u001b[A\n",
      " 71%|███████   | 214/303 [02:06<00:48,  1.83it/s]\u001b[A\n",
      " 71%|███████   | 215/303 [02:06<00:44,  1.97it/s]\u001b[A\n",
      " 71%|███████▏  | 216/303 [02:07<00:43,  2.01it/s]\u001b[A\n",
      " 72%|███████▏  | 217/303 [02:07<00:42,  2.04it/s]\u001b[A\n",
      " 72%|███████▏  | 218/303 [02:08<00:39,  2.15it/s]\u001b[A\n",
      " 72%|███████▏  | 219/303 [02:09<00:59,  1.41it/s]\u001b[A\n",
      " 73%|███████▎  | 220/303 [02:10<00:52,  1.57it/s]\u001b[A\n",
      " 73%|███████▎  | 221/303 [02:10<00:49,  1.67it/s]\u001b[A\n",
      " 73%|███████▎  | 222/303 [02:11<00:48,  1.68it/s]\u001b[A\n",
      " 74%|███████▎  | 223/303 [02:11<00:44,  1.79it/s]\u001b[A\n",
      " 74%|███████▍  | 224/303 [02:12<00:41,  1.89it/s]\u001b[A\n",
      " 74%|███████▍  | 225/303 [02:12<00:40,  1.93it/s]\u001b[A\n",
      " 75%|███████▍  | 226/303 [02:13<00:38,  2.00it/s]\u001b[A\n",
      " 75%|███████▍  | 227/303 [02:13<00:40,  1.89it/s]\u001b[A\n",
      " 75%|███████▌  | 228/303 [02:14<00:39,  1.90it/s]\u001b[A\n",
      " 76%|███████▌  | 229/303 [02:14<00:40,  1.85it/s]\u001b[A\n",
      " 76%|███████▌  | 230/303 [02:15<00:37,  1.93it/s]\u001b[A\n",
      " 76%|███████▌  | 231/303 [02:15<00:36,  1.97it/s]\u001b[A\n",
      " 77%|███████▋  | 232/303 [02:16<00:34,  2.07it/s]\u001b[A\n",
      " 77%|███████▋  | 233/303 [02:16<00:31,  2.20it/s]\u001b[A\n",
      " 77%|███████▋  | 234/303 [02:16<00:32,  2.13it/s]\u001b[A\n",
      " 78%|███████▊  | 235/303 [02:17<00:32,  2.12it/s]\u001b[A\n",
      " 78%|███████▊  | 236/303 [02:18<00:34,  1.96it/s]\u001b[A\n",
      " 78%|███████▊  | 237/303 [02:18<00:32,  2.02it/s]\u001b[A\n",
      " 79%|███████▊  | 238/303 [02:19<00:33,  1.97it/s]\u001b[A\n",
      " 79%|███████▉  | 239/303 [02:19<00:34,  1.85it/s]\u001b[A\n",
      " 79%|███████▉  | 240/303 [02:20<00:38,  1.62it/s]\u001b[A\n",
      " 80%|███████▉  | 241/303 [02:20<00:35,  1.74it/s]\u001b[A\n",
      " 80%|███████▉  | 242/303 [02:22<00:55,  1.10it/s]\u001b[A\n",
      " 80%|████████  | 243/303 [02:24<01:05,  1.09s/it]\u001b[A\n",
      " 81%|████████  | 244/303 [02:24<00:52,  1.12it/s]\u001b[A\n",
      " 81%|████████  | 245/303 [02:25<00:45,  1.28it/s]\u001b[A\n",
      " 81%|████████  | 246/303 [02:25<00:40,  1.42it/s]\u001b[A\n",
      " 82%|████████▏ | 247/303 [02:26<00:35,  1.57it/s]\u001b[A\n",
      " 82%|████████▏ | 248/303 [02:27<00:47,  1.16it/s]\u001b[A\n",
      " 82%|████████▏ | 249/303 [02:28<00:52,  1.04it/s]\u001b[A\n",
      " 83%|████████▎ | 250/303 [02:30<01:09,  1.31s/it]\u001b[A\n",
      " 83%|████████▎ | 251/303 [02:31<00:54,  1.05s/it]\u001b[A\n",
      " 83%|████████▎ | 252/303 [02:31<00:47,  1.08it/s]\u001b[A\n",
      " 83%|████████▎ | 253/303 [02:32<00:39,  1.28it/s]\u001b[A\n",
      " 84%|████████▍ | 254/303 [02:32<00:34,  1.43it/s]\u001b[A\n",
      " 84%|████████▍ | 255/303 [02:33<00:30,  1.59it/s]\u001b[A\n",
      " 84%|████████▍ | 256/303 [02:33<00:25,  1.82it/s]\u001b[A\n",
      " 85%|████████▍ | 257/303 [02:34<00:25,  1.84it/s]\u001b[A\n",
      " 85%|████████▌ | 258/303 [02:34<00:23,  1.96it/s]\u001b[A\n",
      " 85%|████████▌ | 259/303 [02:35<00:22,  1.98it/s]\u001b[A\n",
      " 86%|████████▌ | 260/303 [02:35<00:22,  1.89it/s]\u001b[A\n",
      " 86%|████████▌ | 261/303 [02:36<00:21,  1.93it/s]\u001b[A\n",
      " 86%|████████▋ | 262/303 [02:36<00:20,  1.97it/s]\u001b[A\n",
      " 87%|████████▋ | 263/303 [02:37<00:19,  2.00it/s]\u001b[A\n",
      " 87%|████████▋ | 264/303 [02:37<00:20,  1.88it/s]\u001b[A\n",
      " 87%|████████▋ | 265/303 [02:38<00:19,  1.92it/s]\u001b[A\n",
      " 88%|████████▊ | 266/303 [02:38<00:18,  2.05it/s]\u001b[A\n",
      " 88%|████████▊ | 267/303 [02:39<00:15,  2.28it/s]\u001b[A\n",
      " 88%|████████▊ | 268/303 [02:39<00:14,  2.42it/s]\u001b[A\n",
      " 89%|████████▉ | 269/303 [02:40<00:17,  1.99it/s]\u001b[A\n",
      " 89%|████████▉ | 270/303 [02:40<00:18,  1.80it/s]\u001b[A\n",
      " 89%|████████▉ | 271/303 [02:41<00:24,  1.33it/s]\u001b[A\n",
      " 90%|████████▉ | 272/303 [02:43<00:26,  1.16it/s]\u001b[A\n",
      " 90%|█████████ | 273/303 [02:44<00:32,  1.07s/it]\u001b[A\n",
      " 90%|█████████ | 274/303 [02:45<00:25,  1.14it/s]\u001b[A\n",
      " 91%|█████████ | 275/303 [02:45<00:21,  1.31it/s]\u001b[A\n",
      " 91%|█████████ | 276/303 [02:46<00:22,  1.21it/s]\u001b[A\n",
      " 91%|█████████▏| 277/303 [02:47<00:18,  1.39it/s]\u001b[A\n",
      " 92%|█████████▏| 278/303 [02:47<00:17,  1.47it/s]\u001b[A\n",
      " 92%|█████████▏| 279/303 [02:48<00:14,  1.61it/s]\u001b[A\n",
      " 92%|█████████▏| 280/303 [02:48<00:13,  1.67it/s]\u001b[A\n",
      " 93%|█████████▎| 281/303 [02:49<00:13,  1.67it/s]\u001b[A\n",
      " 93%|█████████▎| 282/303 [02:49<00:11,  1.84it/s]\u001b[A\n",
      " 93%|█████████▎| 283/303 [02:50<00:14,  1.36it/s]\u001b[A\n",
      " 94%|█████████▎| 284/303 [02:51<00:12,  1.53it/s]\u001b[A\n",
      " 94%|█████████▍| 285/303 [02:51<00:10,  1.66it/s]\u001b[A\n",
      " 94%|█████████▍| 286/303 [02:52<00:12,  1.37it/s]\u001b[A\n",
      " 95%|█████████▍| 287/303 [02:53<00:10,  1.54it/s]\u001b[A\n",
      " 95%|█████████▌| 288/303 [02:53<00:09,  1.66it/s]\u001b[A\n",
      " 95%|█████████▌| 289/303 [02:54<00:07,  1.78it/s]\u001b[A\n",
      " 96%|█████████▌| 290/303 [02:54<00:07,  1.81it/s]\u001b[A\n",
      " 96%|█████████▌| 291/303 [02:55<00:06,  1.75it/s]\u001b[A\n",
      " 96%|█████████▋| 292/303 [02:55<00:05,  1.84it/s]\u001b[A\n",
      " 97%|█████████▋| 293/303 [02:56<00:07,  1.42it/s]\u001b[A\n",
      " 97%|█████████▋| 294/303 [02:57<00:05,  1.51it/s]\u001b[A\n",
      " 97%|█████████▋| 295/303 [02:57<00:04,  1.67it/s]\u001b[A\n",
      " 98%|█████████▊| 296/303 [02:58<00:03,  1.91it/s]\u001b[A\n",
      " 98%|█████████▊| 297/303 [02:58<00:02,  2.08it/s]\u001b[A\n",
      " 98%|█████████▊| 298/303 [02:59<00:02,  2.14it/s]\u001b[A\n",
      " 99%|█████████▊| 299/303 [02:59<00:01,  2.08it/s]\u001b[A\n",
      " 99%|█████████▉| 300/303 [03:00<00:01,  1.90it/s]\u001b[A\n",
      " 99%|█████████▉| 301/303 [03:00<00:01,  1.83it/s]\u001b[A\n",
      "100%|█████████▉| 302/303 [03:01<00:00,  1.82it/s]\u001b[A\n",
      "100%|██████████| 303/303 [03:01<00:00,  1.67it/s]\u001b[A\n"
     ]
    }
   ],
   "source": [
    "negrank_deepmatcher,flippedneg_deepmatcher = explainSamples(corrects_deepmatcher,[amazon,google],amzgoogle_deepmatcher\n",
    "                                         ,predict_fn_deepmatcher,0,3)"
   ]
  },
  {
   "cell_type": "code",
   "execution_count": 39,
   "metadata": {
    "ExecuteTime": {
     "end_time": "2020-06-06T09:07:09.246958Z",
     "start_time": "2020-06-06T09:06:47.983470Z"
    }
   },
   "outputs": [
    {
     "name": "stderr",
     "output_type": "stream",
     "text": [
      "\n",
      "  0%|          | 0/183 [00:00<?, ?it/s]\u001b[A\n",
      "  1%|          | 2/183 [00:00<00:10, 16.87it/s]\u001b[A\n",
      "  3%|▎         | 5/183 [00:00<00:09, 18.76it/s]\u001b[A\n",
      "  4%|▍         | 7/183 [00:00<00:25,  6.83it/s]\u001b[A\n",
      "  4%|▍         | 8/183 [00:01<00:35,  4.88it/s]\u001b[A\n",
      "  5%|▍         | 9/183 [00:01<00:42,  4.06it/s]\u001b[A\n",
      "  7%|▋         | 12/183 [00:02<00:37,  4.55it/s]\u001b[A\n",
      "  7%|▋         | 13/183 [00:02<00:46,  3.64it/s]\u001b[A\n",
      "  8%|▊         | 14/183 [00:02<00:39,  4.28it/s]\u001b[A\n",
      "  9%|▉         | 17/183 [00:02<00:32,  5.08it/s]\u001b[A\n",
      " 10%|▉         | 18/183 [00:03<00:33,  4.88it/s]\u001b[A\n",
      " 11%|█         | 20/183 [00:03<00:26,  6.18it/s]\u001b[A\n",
      " 13%|█▎        | 23/183 [00:03<00:20,  7.99it/s]\u001b[A\n",
      " 14%|█▍        | 26/183 [00:03<00:15, 10.03it/s]\u001b[A\n",
      " 15%|█▌        | 28/183 [00:04<00:25,  6.09it/s]\u001b[A\n",
      " 16%|█▋        | 30/183 [00:04<00:32,  4.71it/s]\u001b[A\n",
      " 17%|█▋        | 32/183 [00:04<00:24,  6.06it/s]\u001b[A\n",
      " 19%|█▊        | 34/183 [00:05<00:31,  4.70it/s]\u001b[A\n",
      " 20%|██        | 37/183 [00:05<00:23,  6.18it/s]\u001b[A\n",
      " 21%|██▏       | 39/183 [00:06<00:25,  5.61it/s]\u001b[A\n",
      " 23%|██▎       | 42/183 [00:06<00:24,  5.86it/s]\u001b[A\n",
      " 23%|██▎       | 43/183 [00:07<00:32,  4.33it/s]\u001b[A\n",
      " 24%|██▍       | 44/183 [00:07<00:36,  3.84it/s]\u001b[A\n",
      " 26%|██▌       | 47/183 [00:07<00:27,  4.90it/s]\u001b[A\n",
      " 27%|██▋       | 50/183 [00:07<00:21,  6.27it/s]\u001b[A\n",
      " 28%|██▊       | 52/183 [00:08<00:22,  5.76it/s]\u001b[A\n",
      " 30%|███       | 55/183 [00:08<00:17,  7.49it/s]\u001b[A\n",
      " 31%|███       | 57/183 [00:08<00:20,  6.30it/s]\u001b[A\n",
      " 32%|███▏      | 59/183 [00:08<00:17,  7.21it/s]\u001b[A\n",
      " 33%|███▎      | 61/183 [00:09<00:17,  7.06it/s]\u001b[A\n",
      " 36%|███▌      | 65/183 [00:09<00:13,  8.98it/s]\u001b[A\n",
      " 37%|███▋      | 67/183 [00:09<00:13,  8.45it/s]\u001b[A\n",
      " 38%|███▊      | 69/183 [00:09<00:11, 10.10it/s]\u001b[A\n",
      " 39%|███▉      | 71/183 [00:09<00:09, 11.69it/s]\u001b[A\n",
      " 40%|███▉      | 73/183 [00:09<00:08, 12.39it/s]\u001b[A\n",
      " 41%|████      | 75/183 [00:10<00:10,  9.90it/s]\u001b[A\n",
      " 43%|████▎     | 78/183 [00:10<00:10, 10.17it/s]\u001b[A\n",
      " 44%|████▍     | 81/183 [00:10<00:09, 10.99it/s]\u001b[A\n",
      " 45%|████▌     | 83/183 [00:10<00:08, 11.36it/s]\u001b[A\n",
      " 46%|████▋     | 85/183 [00:11<00:10,  9.38it/s]\u001b[A\n",
      " 48%|████▊     | 88/183 [00:11<00:08, 11.53it/s]\u001b[A\n",
      " 49%|████▉     | 90/183 [00:11<00:07, 13.14it/s]\u001b[A\n",
      " 51%|█████     | 93/183 [00:11<00:05, 15.25it/s]\u001b[A\n",
      " 53%|█████▎    | 97/183 [00:11<00:04, 18.01it/s]\u001b[A\n",
      " 55%|█████▍    | 100/183 [00:11<00:05, 14.99it/s]\u001b[A\n",
      " 56%|█████▌    | 102/183 [00:12<00:05, 15.72it/s]\u001b[A\n",
      " 57%|█████▋    | 104/183 [00:12<00:10,  7.51it/s]\u001b[A\n",
      " 58%|█████▊    | 106/183 [00:12<00:08,  8.68it/s]\u001b[A\n",
      " 59%|█████▉    | 108/183 [00:12<00:07,  9.82it/s]\u001b[A\n",
      " 61%|██████    | 111/183 [00:13<00:06, 11.78it/s]\u001b[A\n",
      " 62%|██████▏   | 114/183 [00:13<00:05, 13.80it/s]\u001b[A\n",
      " 63%|██████▎   | 116/183 [00:13<00:04, 14.71it/s]\u001b[A\n",
      " 64%|██████▍   | 118/183 [00:13<00:04, 14.31it/s]\u001b[A\n",
      " 66%|██████▌   | 121/183 [00:13<00:03, 15.87it/s]\u001b[A\n",
      " 67%|██████▋   | 123/183 [00:13<00:03, 16.08it/s]\u001b[A\n",
      " 68%|██████▊   | 125/183 [00:14<00:08,  6.94it/s]\u001b[A\n",
      " 70%|██████▉   | 128/183 [00:14<00:06,  9.02it/s]\u001b[A\n",
      " 72%|███████▏  | 131/183 [00:14<00:04, 11.36it/s]\u001b[A\n",
      " 73%|███████▎  | 134/183 [00:14<00:03, 13.14it/s]\u001b[A\n",
      " 75%|███████▌  | 138/183 [00:14<00:02, 15.98it/s]\u001b[A\n",
      " 77%|███████▋  | 141/183 [00:15<00:02, 17.18it/s]\u001b[A\n",
      " 79%|███████▊  | 144/183 [00:15<00:02, 18.42it/s]\u001b[A\n",
      " 80%|████████  | 147/183 [00:16<00:05,  6.33it/s]\u001b[A\n",
      " 82%|████████▏ | 150/183 [00:16<00:05,  6.49it/s]\u001b[A\n",
      " 83%|████████▎ | 152/183 [00:17<00:06,  4.66it/s]\u001b[A\n",
      " 85%|████████▍ | 155/183 [00:17<00:04,  5.91it/s]\u001b[A\n",
      " 86%|████████▋ | 158/183 [00:17<00:03,  7.21it/s]\u001b[A\n",
      " 87%|████████▋ | 160/183 [00:18<00:03,  6.05it/s]\u001b[A\n",
      " 89%|████████▊ | 162/183 [00:19<00:04,  4.47it/s]\u001b[A\n",
      " 91%|█████████ | 166/183 [00:19<00:02,  6.01it/s]\u001b[A\n",
      " 92%|█████████▏| 168/183 [00:19<00:02,  6.18it/s]\u001b[A\n",
      " 93%|█████████▎| 171/183 [00:19<00:01,  7.78it/s]\u001b[A\n",
      " 95%|█████████▍| 173/183 [00:20<00:01,  5.43it/s]\u001b[A\n",
      " 97%|█████████▋| 177/183 [00:20<00:00,  7.18it/s]\u001b[A\n",
      " 98%|█████████▊| 179/183 [00:20<00:00,  6.78it/s]\u001b[A\n",
      " 99%|█████████▉| 181/183 [00:20<00:00,  8.29it/s]\u001b[A\n",
      "100%|██████████| 183/183 [00:21<00:00,  8.71it/s]\u001b[A\n"
     ]
    }
   ],
   "source": [
    "posrank_deeper,flippedpos_deeper = explainSamples(corrects_deeper,[amazon,google],amzgoogle_deeper,predict_fn_deeper,1,3)"
   ]
  },
  {
   "cell_type": "code",
   "execution_count": 40,
   "metadata": {
    "ExecuteTime": {
     "end_time": "2020-06-06T09:11:00.235057Z",
     "start_time": "2020-06-06T09:07:56.964373Z"
    }
   },
   "outputs": [
    {
     "name": "stderr",
     "output_type": "stream",
     "text": [
      "\n",
      "  0%|          | 0/303 [00:00<?, ?it/s]\u001b[A\n",
      "  0%|          | 1/303 [00:00<02:36,  1.94it/s]\u001b[A\n",
      "  1%|          | 2/303 [00:01<02:37,  1.91it/s]\u001b[A\n",
      "  1%|          | 3/303 [00:01<02:36,  1.92it/s]\u001b[A\n",
      "  1%|▏         | 4/303 [00:02<02:35,  1.92it/s]\u001b[A\n",
      "  2%|▏         | 5/303 [00:02<02:29,  1.99it/s]\u001b[A\n",
      "  2%|▏         | 6/303 [00:03<02:33,  1.94it/s]\u001b[A\n",
      "  2%|▏         | 7/303 [00:03<02:31,  1.95it/s]\u001b[A\n",
      "  3%|▎         | 8/303 [00:04<02:34,  1.91it/s]\u001b[A\n",
      "  3%|▎         | 9/303 [00:04<02:27,  2.00it/s]\u001b[A\n",
      "  3%|▎         | 10/303 [00:05<02:26,  1.99it/s]\u001b[A\n",
      "  4%|▎         | 11/303 [00:05<02:25,  2.01it/s]\u001b[A\n",
      "  4%|▍         | 12/303 [00:06<03:36,  1.34it/s]\u001b[A\n",
      "  4%|▍         | 13/303 [00:08<04:23,  1.10it/s]\u001b[A\n",
      "  5%|▍         | 14/303 [00:09<05:00,  1.04s/it]\u001b[A\n",
      "  5%|▍         | 15/303 [00:10<05:11,  1.08s/it]\u001b[A\n",
      "  5%|▌         | 16/303 [00:11<05:17,  1.11s/it]\u001b[A\n",
      "  6%|▌         | 17/303 [00:12<04:21,  1.09it/s]\u001b[A\n",
      "  6%|▌         | 18/303 [00:12<03:46,  1.26it/s]\u001b[A\n",
      "  6%|▋         | 19/303 [00:13<03:09,  1.50it/s]\u001b[A\n",
      "  7%|▋         | 20/303 [00:15<05:09,  1.09s/it]\u001b[A\n",
      "  7%|▋         | 21/303 [00:16<05:32,  1.18s/it]\u001b[A\n",
      "  7%|▋         | 22/303 [00:18<05:48,  1.24s/it]\u001b[A\n",
      "  8%|▊         | 23/303 [00:18<05:12,  1.12s/it]\u001b[A\n",
      "  8%|▊         | 24/303 [00:19<04:19,  1.08it/s]\u001b[A\n",
      "  8%|▊         | 25/303 [00:19<03:40,  1.26it/s]\u001b[A\n",
      "  9%|▊         | 26/303 [00:20<03:18,  1.40it/s]\u001b[A\n",
      "  9%|▉         | 27/303 [00:21<03:38,  1.26it/s]\u001b[A\n",
      "  9%|▉         | 28/303 [00:22<04:00,  1.14it/s]\u001b[A\n",
      " 10%|▉         | 29/303 [00:22<03:28,  1.32it/s]\u001b[A\n",
      " 10%|▉         | 30/303 [00:23<03:01,  1.50it/s]\u001b[A\n",
      " 10%|█         | 31/303 [00:24<02:58,  1.53it/s]\u001b[A\n",
      " 11%|█         | 32/303 [00:24<02:49,  1.60it/s]\u001b[A\n",
      " 11%|█         | 33/303 [00:25<02:35,  1.74it/s]\u001b[A\n",
      " 11%|█         | 34/303 [00:25<02:30,  1.78it/s]\u001b[A\n",
      " 12%|█▏        | 35/303 [00:26<02:23,  1.87it/s]\u001b[A\n",
      " 12%|█▏        | 36/303 [00:26<02:23,  1.86it/s]\u001b[A\n",
      " 12%|█▏        | 37/303 [00:27<02:18,  1.93it/s]\u001b[A\n",
      " 13%|█▎        | 38/303 [00:27<02:12,  2.00it/s]\u001b[A\n",
      " 13%|█▎        | 39/303 [00:28<02:12,  2.00it/s]\u001b[A\n",
      " 13%|█▎        | 40/303 [00:28<02:14,  1.95it/s]\u001b[A\n",
      " 14%|█▎        | 41/303 [00:29<02:36,  1.67it/s]\u001b[A\n",
      " 14%|█▍        | 42/303 [00:29<02:25,  1.79it/s]\u001b[A\n",
      " 14%|█▍        | 43/303 [00:30<02:18,  1.87it/s]\u001b[A\n",
      " 15%|█▍        | 44/303 [00:30<02:27,  1.75it/s]\u001b[A\n",
      " 15%|█▍        | 45/303 [00:31<02:14,  1.91it/s]\u001b[A\n",
      " 15%|█▌        | 46/303 [00:31<02:08,  2.00it/s]\u001b[A\n",
      " 16%|█▌        | 47/303 [00:32<02:10,  1.97it/s]\u001b[A\n",
      " 16%|█▌        | 48/303 [00:32<02:09,  1.97it/s]\u001b[A\n",
      " 16%|█▌        | 49/303 [00:33<02:02,  2.07it/s]\u001b[A\n",
      " 17%|█▋        | 50/303 [00:33<01:53,  2.24it/s]\u001b[A\n",
      " 17%|█▋        | 51/303 [00:34<01:53,  2.21it/s]\u001b[A\n",
      " 17%|█▋        | 52/303 [00:34<01:48,  2.32it/s]\u001b[A\n",
      " 17%|█▋        | 53/303 [00:34<01:46,  2.34it/s]\u001b[A\n",
      " 18%|█▊        | 54/303 [00:35<01:43,  2.40it/s]\u001b[A\n",
      " 18%|█▊        | 55/303 [00:35<01:36,  2.56it/s]\u001b[A\n",
      " 18%|█▊        | 56/303 [00:37<03:13,  1.28it/s]\u001b[A\n",
      " 19%|█▉        | 57/303 [00:38<04:17,  1.05s/it]\u001b[A\n",
      " 19%|█▉        | 58/303 [00:39<03:33,  1.15it/s]\u001b[A\n",
      " 19%|█▉        | 59/303 [00:40<03:08,  1.29it/s]\u001b[A\n",
      " 20%|█▉        | 60/303 [00:40<02:49,  1.44it/s]\u001b[A\n",
      " 20%|██        | 61/303 [00:41<02:45,  1.46it/s]\u001b[A\n",
      " 20%|██        | 62/303 [00:41<02:33,  1.57it/s]\u001b[A\n",
      " 21%|██        | 63/303 [00:42<02:25,  1.65it/s]\u001b[A\n",
      " 21%|██        | 64/303 [00:43<03:15,  1.22it/s]\u001b[A\n",
      " 21%|██▏       | 65/303 [00:44<03:23,  1.17it/s]\u001b[A\n",
      " 22%|██▏       | 66/303 [00:45<02:58,  1.32it/s]\u001b[A\n",
      " 22%|██▏       | 67/303 [00:45<02:38,  1.49it/s]\u001b[A\n",
      " 22%|██▏       | 68/303 [00:45<02:25,  1.62it/s]\u001b[A\n",
      " 23%|██▎       | 69/303 [00:46<02:19,  1.68it/s]\u001b[A\n",
      " 23%|██▎       | 70/303 [00:47<02:14,  1.73it/s]\u001b[A\n",
      " 23%|██▎       | 71/303 [00:47<02:13,  1.74it/s]\u001b[A\n",
      " 24%|██▍       | 72/303 [00:48<02:07,  1.81it/s]\u001b[A\n",
      " 24%|██▍       | 73/303 [00:48<02:00,  1.91it/s]\u001b[A\n",
      " 24%|██▍       | 74/303 [00:48<01:51,  2.05it/s]\u001b[A\n",
      " 25%|██▍       | 75/303 [00:49<01:42,  2.24it/s]\u001b[A\n",
      " 25%|██▌       | 76/303 [00:50<02:38,  1.43it/s]\u001b[A\n",
      " 25%|██▌       | 77/303 [00:51<02:20,  1.61it/s]\u001b[A\n",
      " 26%|██▌       | 78/303 [00:51<02:03,  1.83it/s]\u001b[A\n",
      " 26%|██▌       | 79/303 [00:52<02:57,  1.26it/s]\u001b[A\n",
      " 26%|██▋       | 80/303 [00:54<03:38,  1.02it/s]\u001b[A\n",
      " 27%|██▋       | 81/303 [00:55<03:54,  1.06s/it]\u001b[A\n",
      " 27%|██▋       | 82/303 [00:55<03:16,  1.13it/s]\u001b[A\n",
      " 27%|██▋       | 83/303 [00:56<02:51,  1.29it/s]\u001b[A\n",
      " 28%|██▊       | 84/303 [00:57<02:37,  1.39it/s]\u001b[A\n",
      " 28%|██▊       | 85/303 [00:57<02:21,  1.54it/s]\u001b[A\n",
      " 28%|██▊       | 86/303 [00:58<02:11,  1.65it/s]\u001b[A\n",
      " 29%|██▊       | 87/303 [00:58<02:05,  1.72it/s]\u001b[A\n",
      " 29%|██▉       | 88/303 [00:59<01:55,  1.85it/s]\u001b[A\n",
      " 29%|██▉       | 89/303 [00:59<01:45,  2.03it/s]\u001b[A\n",
      " 30%|██▉       | 90/303 [01:00<02:02,  1.73it/s]\u001b[A\n",
      " 30%|███       | 91/303 [01:00<01:53,  1.87it/s]\u001b[A\n",
      " 30%|███       | 92/303 [01:01<01:50,  1.91it/s]\u001b[A\n",
      " 31%|███       | 93/303 [01:01<01:50,  1.90it/s]\u001b[A\n",
      " 31%|███       | 94/303 [01:02<01:43,  2.01it/s]\u001b[A\n",
      " 31%|███▏      | 95/303 [01:02<01:45,  1.98it/s]\u001b[A\n",
      " 32%|███▏      | 96/303 [01:03<01:45,  1.97it/s]\u001b[A\n",
      " 32%|███▏      | 97/303 [01:04<02:09,  1.58it/s]\u001b[A\n",
      " 32%|███▏      | 98/303 [01:04<02:21,  1.44it/s]\u001b[A\n",
      " 33%|███▎      | 99/303 [01:05<02:05,  1.63it/s]\u001b[A\n",
      " 33%|███▎      | 100/303 [01:05<01:53,  1.78it/s]\u001b[A\n",
      " 33%|███▎      | 101/303 [01:06<01:48,  1.85it/s]\u001b[A\n",
      " 34%|███▎      | 102/303 [01:06<01:44,  1.93it/s]\u001b[A\n",
      " 34%|███▍      | 103/303 [01:07<01:35,  2.10it/s]\u001b[A\n",
      " 34%|███▍      | 104/303 [01:07<01:27,  2.29it/s]\u001b[A\n",
      " 35%|███▍      | 105/303 [01:08<01:57,  1.69it/s]\u001b[A\n",
      " 35%|███▍      | 106/303 [01:09<02:13,  1.48it/s]\u001b[A\n",
      " 35%|███▌      | 107/303 [01:09<02:05,  1.56it/s]\u001b[A\n",
      " 36%|███▌      | 108/303 [01:10<02:15,  1.44it/s]\u001b[A\n",
      " 36%|███▌      | 109/303 [01:11<02:01,  1.60it/s]\u001b[A\n",
      " 36%|███▋      | 110/303 [01:11<01:59,  1.62it/s]\u001b[A\n",
      " 37%|███▋      | 111/303 [01:12<01:53,  1.69it/s]\u001b[A\n",
      " 37%|███▋      | 112/303 [01:12<01:48,  1.76it/s]\u001b[A\n",
      " 37%|███▋      | 113/303 [01:13<01:47,  1.77it/s]\u001b[A\n",
      " 38%|███▊      | 114/303 [01:14<02:10,  1.44it/s]\u001b[A\n",
      " 38%|███▊      | 115/303 [01:14<02:03,  1.52it/s]\u001b[A\n",
      " 38%|███▊      | 116/303 [01:15<01:49,  1.70it/s]\u001b[A\n",
      " 39%|███▊      | 117/303 [01:15<01:46,  1.75it/s]\u001b[A\n",
      " 39%|███▉      | 118/303 [01:16<01:38,  1.87it/s]\u001b[A\n",
      " 39%|███▉      | 119/303 [01:16<01:38,  1.88it/s]\u001b[A\n",
      " 40%|███▉      | 120/303 [01:17<01:56,  1.57it/s]\u001b[A\n",
      " 40%|███▉      | 121/303 [01:18<01:45,  1.72it/s]\u001b[A\n",
      " 40%|████      | 122/303 [01:18<01:48,  1.66it/s]\u001b[A\n",
      " 41%|████      | 123/303 [01:19<01:42,  1.75it/s]\u001b[A\n",
      " 41%|████      | 124/303 [01:19<01:37,  1.84it/s]\u001b[A\n",
      " 41%|████▏     | 125/303 [01:20<01:34,  1.88it/s]\u001b[A\n",
      " 42%|████▏     | 126/303 [01:20<01:33,  1.89it/s]\u001b[A\n",
      " 42%|████▏     | 127/303 [01:21<01:35,  1.84it/s]\u001b[A\n",
      " 42%|████▏     | 128/303 [01:21<01:36,  1.82it/s]\u001b[A\n",
      " 43%|████▎     | 129/303 [01:22<01:35,  1.81it/s]\u001b[A\n",
      " 43%|████▎     | 130/303 [01:22<01:29,  1.94it/s]\u001b[A\n",
      " 43%|████▎     | 131/303 [01:23<01:58,  1.45it/s]\u001b[A\n",
      " 44%|████▎     | 132/303 [01:24<01:51,  1.53it/s]\u001b[A\n",
      " 44%|████▍     | 133/303 [01:25<01:43,  1.65it/s]\u001b[A\n",
      " 44%|████▍     | 134/303 [01:25<01:34,  1.79it/s]\u001b[A\n",
      " 45%|████▍     | 135/303 [01:25<01:23,  2.01it/s]\u001b[A\n",
      " 45%|████▍     | 136/303 [01:26<01:17,  2.17it/s]\u001b[A\n",
      " 45%|████▌     | 137/303 [01:26<01:15,  2.19it/s]\u001b[A\n",
      " 46%|████▌     | 138/303 [01:27<01:18,  2.11it/s]\u001b[A\n",
      " 46%|████▌     | 139/303 [01:28<01:40,  1.63it/s]\u001b[A\n",
      " 46%|████▌     | 140/303 [01:28<01:50,  1.47it/s]\u001b[A\n",
      " 47%|████▋     | 141/303 [01:29<01:38,  1.65it/s]\u001b[A\n",
      " 47%|████▋     | 142/303 [01:29<01:35,  1.68it/s]\u001b[A\n",
      " 47%|████▋     | 143/303 [01:30<01:32,  1.73it/s]\u001b[A\n",
      " 48%|████▊     | 144/303 [01:30<01:24,  1.88it/s]\u001b[A\n",
      " 48%|████▊     | 145/303 [01:31<01:25,  1.84it/s]\u001b[A\n",
      " 48%|████▊     | 146/303 [01:32<01:31,  1.71it/s]\u001b[A\n",
      " 49%|████▊     | 147/303 [01:32<01:28,  1.76it/s]\u001b[A\n",
      " 49%|████▉     | 148/303 [01:33<01:26,  1.78it/s]\u001b[A\n",
      " 49%|████▉     | 149/303 [01:33<01:25,  1.81it/s]\u001b[A\n",
      " 50%|████▉     | 150/303 [01:34<01:24,  1.82it/s]\u001b[A\n",
      " 50%|████▉     | 151/303 [01:34<01:17,  1.95it/s]\u001b[A\n",
      " 50%|█████     | 152/303 [01:35<01:19,  1.89it/s]\u001b[A\n",
      " 50%|█████     | 153/303 [01:36<01:37,  1.54it/s]\u001b[A\n",
      " 51%|█████     | 154/303 [01:36<01:32,  1.61it/s]\u001b[A\n",
      " 51%|█████     | 155/303 [01:37<01:22,  1.79it/s]\u001b[A\n",
      " 51%|█████▏    | 156/303 [01:37<01:18,  1.86it/s]\u001b[A\n",
      " 52%|█████▏    | 157/303 [01:38<01:16,  1.90it/s]\u001b[A\n",
      " 52%|█████▏    | 158/303 [01:38<01:13,  1.97it/s]\u001b[A\n",
      " 52%|█████▏    | 159/303 [01:39<01:05,  2.19it/s]\u001b[A\n",
      " 53%|█████▎    | 160/303 [01:39<01:03,  2.27it/s]\u001b[A\n",
      " 53%|█████▎    | 161/303 [01:39<01:04,  2.20it/s]\u001b[A\n",
      " 53%|█████▎    | 162/303 [01:40<01:04,  2.18it/s]\u001b[A\n",
      " 54%|█████▍    | 163/303 [01:40<01:08,  2.04it/s]\u001b[A\n",
      " 54%|█████▍    | 164/303 [01:41<01:09,  2.01it/s]\u001b[A\n",
      " 54%|█████▍    | 165/303 [01:41<01:07,  2.06it/s]\u001b[A\n",
      " 55%|█████▍    | 166/303 [01:42<01:06,  2.05it/s]\u001b[A\n",
      " 55%|█████▌    | 167/303 [01:42<01:03,  2.15it/s]\u001b[A\n",
      " 55%|█████▌    | 168/303 [01:43<00:57,  2.34it/s]\u001b[A\n",
      " 56%|█████▌    | 169/303 [01:43<00:54,  2.44it/s]\u001b[A\n",
      " 56%|█████▌    | 170/303 [01:43<00:57,  2.31it/s]\u001b[A\n",
      " 56%|█████▋    | 171/303 [01:44<00:57,  2.28it/s]\u001b[A\n",
      " 57%|█████▋    | 172/303 [01:44<00:58,  2.23it/s]\u001b[A\n",
      " 57%|█████▋    | 173/303 [01:45<01:02,  2.07it/s]\u001b[A\n",
      " 57%|█████▋    | 174/303 [01:46<01:04,  1.99it/s]\u001b[A\n",
      " 58%|█████▊    | 175/303 [01:46<01:06,  1.94it/s]\u001b[A\n",
      " 58%|█████▊    | 176/303 [01:47<01:03,  2.00it/s]\u001b[A\n",
      " 58%|█████▊    | 177/303 [01:47<01:17,  1.64it/s]\u001b[A\n",
      " 59%|█████▊    | 178/303 [01:48<01:10,  1.77it/s]\u001b[A\n",
      " 59%|█████▉    | 179/303 [01:48<01:11,  1.74it/s]\u001b[A\n",
      " 59%|█████▉    | 180/303 [01:50<01:33,  1.32it/s]\u001b[A\n",
      " 60%|█████▉    | 181/303 [01:50<01:20,  1.51it/s]\u001b[A\n",
      " 60%|██████    | 182/303 [01:51<01:16,  1.58it/s]\u001b[A\n",
      " 60%|██████    | 183/303 [01:51<01:11,  1.69it/s]\u001b[A\n",
      " 61%|██████    | 184/303 [01:52<01:11,  1.66it/s]\u001b[A\n",
      " 61%|██████    | 185/303 [01:52<01:05,  1.80it/s]\u001b[A\n",
      " 61%|██████▏   | 186/303 [01:53<01:08,  1.72it/s]\u001b[A\n",
      " 62%|██████▏   | 187/303 [01:53<01:02,  1.86it/s]\u001b[A\n",
      " 62%|██████▏   | 188/303 [01:54<01:00,  1.89it/s]\u001b[A\n",
      " 62%|██████▏   | 189/303 [01:54<00:59,  1.92it/s]\u001b[A\n",
      " 63%|██████▎   | 190/303 [01:55<00:54,  2.06it/s]\u001b[A\n",
      " 63%|██████▎   | 191/303 [01:55<00:49,  2.24it/s]\u001b[A\n",
      " 63%|██████▎   | 192/303 [01:55<00:48,  2.31it/s]\u001b[A\n",
      " 64%|██████▎   | 193/303 [01:56<00:45,  2.40it/s]\u001b[A\n",
      " 64%|██████▍   | 194/303 [01:56<00:46,  2.34it/s]\u001b[A\n",
      " 64%|██████▍   | 195/303 [01:57<00:46,  2.31it/s]\u001b[A\n",
      " 65%|██████▍   | 196/303 [01:57<00:47,  2.27it/s]\u001b[A\n",
      " 65%|██████▌   | 197/303 [01:58<00:45,  2.33it/s]\u001b[A\n",
      " 65%|██████▌   | 198/303 [01:58<00:44,  2.37it/s]\u001b[A\n",
      " 66%|██████▌   | 199/303 [01:58<00:45,  2.29it/s]\u001b[A\n",
      " 66%|██████▌   | 200/303 [01:59<00:46,  2.21it/s]\u001b[A\n",
      " 66%|██████▋   | 201/303 [01:59<00:43,  2.33it/s]\u001b[A\n",
      " 67%|██████▋   | 202/303 [02:00<00:44,  2.27it/s]\u001b[A\n",
      " 67%|██████▋   | 203/303 [02:00<00:43,  2.29it/s]\u001b[A\n",
      " 67%|██████▋   | 204/303 [02:01<00:41,  2.41it/s]\u001b[A\n",
      " 68%|██████▊   | 205/303 [02:01<00:39,  2.47it/s]\u001b[A\n",
      " 68%|██████▊   | 206/303 [02:01<00:38,  2.55it/s]\u001b[A\n",
      " 68%|██████▊   | 207/303 [02:02<00:37,  2.57it/s]\u001b[A\n",
      " 69%|██████▊   | 208/303 [02:02<00:40,  2.36it/s]\u001b[A\n",
      " 69%|██████▉   | 209/303 [02:03<00:43,  2.14it/s]\u001b[A\n",
      " 69%|██████▉   | 210/303 [02:04<01:13,  1.27it/s]\u001b[A\n",
      " 70%|██████▉   | 211/303 [02:05<01:03,  1.46it/s]\u001b[A\n",
      " 70%|██████▉   | 212/303 [02:05<00:57,  1.58it/s]\u001b[A\n",
      " 70%|███████   | 213/303 [02:06<00:52,  1.73it/s]\u001b[A\n",
      " 71%|███████   | 214/303 [02:06<00:46,  1.91it/s]\u001b[A\n",
      " 71%|███████   | 215/303 [02:07<00:44,  1.98it/s]\u001b[A\n",
      " 71%|███████▏  | 216/303 [02:07<00:43,  1.99it/s]\u001b[A\n",
      " 72%|███████▏  | 217/303 [02:08<00:43,  1.97it/s]\u001b[A\n",
      " 72%|███████▏  | 218/303 [02:08<00:43,  1.93it/s]\u001b[A\n",
      " 72%|███████▏  | 219/303 [02:10<01:09,  1.20it/s]\u001b[A\n",
      " 73%|███████▎  | 220/303 [02:10<01:00,  1.37it/s]\u001b[A\n",
      " 73%|███████▎  | 221/303 [02:11<00:55,  1.47it/s]\u001b[A\n",
      " 73%|███████▎  | 222/303 [02:11<00:52,  1.53it/s]\u001b[A\n",
      " 74%|███████▎  | 223/303 [02:12<00:48,  1.66it/s]\u001b[A\n",
      " 74%|███████▍  | 224/303 [02:12<00:44,  1.78it/s]\u001b[A\n",
      " 74%|███████▍  | 225/303 [02:13<00:39,  1.96it/s]\u001b[A\n",
      " 75%|███████▍  | 226/303 [02:13<00:37,  2.05it/s]\u001b[A\n",
      " 75%|███████▍  | 227/303 [02:14<00:40,  1.87it/s]\u001b[A\n",
      " 75%|███████▌  | 228/303 [02:14<00:39,  1.91it/s]\u001b[A\n",
      " 76%|███████▌  | 229/303 [02:15<00:38,  1.91it/s]\u001b[A\n",
      " 76%|███████▌  | 230/303 [02:15<00:35,  2.03it/s]\u001b[A\n",
      " 76%|███████▌  | 231/303 [02:16<00:36,  1.97it/s]\u001b[A\n",
      " 77%|███████▋  | 232/303 [02:16<00:34,  2.06it/s]\u001b[A\n",
      " 77%|███████▋  | 233/303 [02:17<00:34,  2.03it/s]\u001b[A\n",
      " 77%|███████▋  | 234/303 [02:17<00:32,  2.13it/s]\u001b[A\n",
      " 78%|███████▊  | 235/303 [02:18<00:31,  2.19it/s]\u001b[A\n",
      " 78%|███████▊  | 236/303 [02:18<00:31,  2.14it/s]\u001b[A\n",
      " 78%|███████▊  | 237/303 [02:18<00:28,  2.32it/s]\u001b[A\n",
      " 79%|███████▊  | 238/303 [02:19<00:27,  2.38it/s]\u001b[A\n",
      " 79%|███████▉  | 239/303 [02:19<00:29,  2.19it/s]\u001b[A\n",
      " 79%|███████▉  | 240/303 [02:20<00:34,  1.80it/s]\u001b[A\n",
      " 80%|███████▉  | 241/303 [02:21<00:33,  1.83it/s]\u001b[A\n",
      " 80%|███████▉  | 242/303 [02:22<00:53,  1.14it/s]\u001b[A\n",
      " 80%|████████  | 243/303 [02:24<01:04,  1.08s/it]\u001b[A\n",
      " 81%|████████  | 244/303 [02:24<00:52,  1.13it/s]\u001b[A\n",
      " 81%|████████  | 245/303 [02:25<00:44,  1.29it/s]\u001b[A\n",
      " 81%|████████  | 246/303 [02:25<00:39,  1.43it/s]\u001b[A\n",
      " 82%|████████▏ | 247/303 [02:26<00:36,  1.55it/s]\u001b[A\n",
      " 82%|████████▏ | 248/303 [02:27<00:50,  1.09it/s]\u001b[A\n",
      " 82%|████████▏ | 249/303 [02:29<00:52,  1.02it/s]\u001b[A\n",
      " 83%|████████▎ | 250/303 [02:30<01:07,  1.26s/it]\u001b[A\n",
      " 83%|████████▎ | 251/303 [02:31<00:54,  1.04s/it]\u001b[A\n",
      " 83%|████████▎ | 252/303 [02:31<00:43,  1.16it/s]\u001b[A\n",
      " 83%|████████▎ | 253/303 [02:32<00:38,  1.31it/s]\u001b[A\n",
      " 84%|████████▍ | 254/303 [02:32<00:33,  1.47it/s]\u001b[A\n",
      " 84%|████████▍ | 255/303 [02:33<00:29,  1.62it/s]\u001b[A\n",
      " 84%|████████▍ | 256/303 [02:33<00:27,  1.73it/s]\u001b[A\n",
      " 85%|████████▍ | 257/303 [02:34<00:25,  1.79it/s]\u001b[A\n",
      " 85%|████████▌ | 258/303 [02:34<00:23,  1.92it/s]\u001b[A\n",
      " 85%|████████▌ | 259/303 [02:35<00:23,  1.91it/s]\u001b[A\n",
      " 86%|████████▌ | 260/303 [02:35<00:22,  1.87it/s]\u001b[A\n",
      " 86%|████████▌ | 261/303 [02:36<00:22,  1.90it/s]\u001b[A\n",
      " 86%|████████▋ | 262/303 [02:36<00:21,  1.95it/s]\u001b[A\n",
      " 87%|████████▋ | 263/303 [02:37<00:20,  1.97it/s]\u001b[A\n",
      " 87%|████████▋ | 264/303 [02:37<00:19,  1.95it/s]\u001b[A\n",
      " 87%|████████▋ | 265/303 [02:38<00:19,  1.96it/s]\u001b[A\n",
      " 88%|████████▊ | 266/303 [02:38<00:17,  2.10it/s]\u001b[A\n",
      " 88%|████████▊ | 267/303 [02:39<00:15,  2.30it/s]\u001b[A\n",
      " 88%|████████▊ | 268/303 [02:39<00:14,  2.43it/s]\u001b[A\n",
      " 89%|████████▉ | 269/303 [02:40<00:17,  1.96it/s]\u001b[A\n",
      " 89%|████████▉ | 270/303 [02:40<00:18,  1.79it/s]\u001b[A\n",
      " 89%|████████▉ | 271/303 [02:42<00:26,  1.21it/s]\u001b[A\n",
      " 90%|████████▉ | 272/303 [02:43<00:30,  1.00it/s]\u001b[A\n",
      " 90%|█████████ | 273/303 [02:45<00:31,  1.06s/it]\u001b[A\n",
      " 90%|█████████ | 274/303 [02:45<00:25,  1.15it/s]\u001b[A\n",
      " 91%|█████████ | 275/303 [02:45<00:21,  1.33it/s]\u001b[A\n",
      " 91%|█████████ | 276/303 [02:46<00:21,  1.24it/s]\u001b[A\n",
      " 91%|█████████▏| 277/303 [02:47<00:18,  1.44it/s]\u001b[A\n",
      " 92%|█████████▏| 278/303 [02:47<00:16,  1.51it/s]\u001b[A\n",
      " 92%|█████████▏| 279/303 [02:48<00:15,  1.57it/s]\u001b[A\n",
      " 92%|█████████▏| 280/303 [02:48<00:13,  1.64it/s]\u001b[A\n",
      " 93%|█████████▎| 281/303 [02:49<00:13,  1.67it/s]\u001b[A\n",
      " 93%|█████████▎| 282/303 [02:50<00:11,  1.79it/s]\u001b[A\n",
      " 93%|█████████▎| 283/303 [02:51<00:15,  1.32it/s]\u001b[A\n",
      " 94%|█████████▎| 284/303 [02:51<00:12,  1.50it/s]\u001b[A\n",
      " 94%|█████████▍| 285/303 [02:52<00:10,  1.66it/s]\u001b[A\n",
      " 94%|█████████▍| 286/303 [02:53<00:12,  1.32it/s]\u001b[A\n",
      " 95%|█████████▍| 287/303 [02:53<00:10,  1.48it/s]\u001b[A\n",
      " 95%|█████████▌| 288/303 [02:54<00:09,  1.62it/s]\u001b[A\n",
      " 95%|█████████▌| 289/303 [02:54<00:08,  1.70it/s]\u001b[A\n",
      " 96%|█████████▌| 290/303 [02:55<00:07,  1.75it/s]\u001b[A\n",
      " 96%|█████████▌| 291/303 [02:55<00:07,  1.69it/s]\u001b[A\n",
      " 96%|█████████▋| 292/303 [02:56<00:06,  1.79it/s]\u001b[A\n",
      " 97%|█████████▋| 293/303 [02:57<00:06,  1.45it/s]\u001b[A\n",
      " 97%|█████████▋| 294/303 [02:57<00:05,  1.55it/s]\u001b[A\n",
      " 97%|█████████▋| 295/303 [02:58<00:04,  1.66it/s]\u001b[A\n",
      " 98%|█████████▊| 296/303 [02:58<00:03,  1.79it/s]\u001b[A\n",
      " 98%|█████████▊| 297/303 [02:59<00:03,  1.92it/s]\u001b[A\n",
      " 98%|█████████▊| 298/303 [02:59<00:02,  2.11it/s]\u001b[A\n",
      " 99%|█████████▊| 299/303 [03:00<00:02,  1.98it/s]\u001b[A\n",
      " 99%|█████████▉| 300/303 [03:00<00:01,  1.79it/s]\u001b[A\n",
      " 99%|█████████▉| 301/303 [03:01<00:01,  1.74it/s]\u001b[A\n",
      "100%|█████████▉| 302/303 [03:02<00:00,  1.65it/s]\u001b[A\n",
      "100%|██████████| 303/303 [03:02<00:00,  1.66it/s]\u001b[A\n"
     ]
    }
   ],
   "source": [
    "posrank_deepmatcher,flippedpos_deepmatcher = explainSamples(corrects_deepmatcher,[amazon,google],amzgoogle_deepmatcher,\n",
    "                                         predict_fn_deepmatcher,1,3)"
   ]
  },
  {
   "cell_type": "code",
   "execution_count": 45,
   "metadata": {
    "ExecuteTime": {
     "end_time": "2020-06-06T09:13:13.634392Z",
     "start_time": "2020-06-06T09:13:12.710634Z"
    }
   },
   "outputs": [
    {
     "data": {
      "text/plain": [
       "<matplotlib.axes._subplots.AxesSubplot at 0x7f17fc5d3ca0>"
      ]
     },
     "execution_count": 45,
     "metadata": {},
     "output_type": "execute_result"
    },
    {
     "data": {
      "image/png": "[encoded data removed]",
      "text/plain": [
       "<Figure size 432x288 with 1 Axes>"
      ]
     },
     "metadata": {
      "needs_background": "light"
     },
     "output_type": "display_data"
    }
   ],
   "source": [
    "posrank_deeper[0:12].plot.barh(color='green',grid=True)"
   ]
  },
  {
   "cell_type": "code",
   "execution_count": 44,
   "metadata": {
    "ExecuteTime": {
     "end_time": "2020-06-06T09:13:08.707132Z",
     "start_time": "2020-06-06T09:13:08.438812Z"
    }
   },
   "outputs": [
    {
     "data": {
      "text/plain": [
       "<matplotlib.axes._subplots.AxesSubplot at 0x7f18181a9400>"
      ]
     },
     "execution_count": 44,
     "metadata": {},
     "output_type": "execute_result"
    },
    {
     "data": {
      "image/png": "[encoded data removed]",
      "text/plain": [
       "<Figure size 432x288 with 1 Axes>"
      ]
     },
     "metadata": {
      "needs_background": "light"
     },
     "output_type": "display_data"
    }
   ],
   "source": [
    "posrank_deepmatcher[0:12].plot.barh(color='green',grid=True)"
   ]
  },
  {
   "cell_type": "code",
   "execution_count": 43,
   "metadata": {
    "ExecuteTime": {
     "end_time": "2020-06-06T09:13:04.162362Z",
     "start_time": "2020-06-06T09:13:03.895530Z"
    }
   },
   "outputs": [
    {
     "data": {
      "text/plain": [
       "<matplotlib.axes._subplots.AxesSubplot at 0x7f19d3318250>"
      ]
     },
     "execution_count": 43,
     "metadata": {},
     "output_type": "execute_result"
    },
    {
     "data": {
      "image/png": "[encoded data removed]",
      "text/plain": [
       "<Figure size 432x288 with 1 Axes>"
      ]
     },
     "metadata": {
      "needs_background": "light"
     },
     "output_type": "display_data"
    }
   ],
   "source": [
    "negrank_deeper[0:12].plot.barh(color='red',grid=True)"
   ]
  },
  {
   "cell_type": "code",
   "execution_count": 46,
   "metadata": {
    "ExecuteTime": {
     "end_time": "2020-06-06T09:13:49.441923Z",
     "start_time": "2020-06-06T09:13:49.152134Z"
    }
   },
   "outputs": [
    {
     "data": {
      "text/plain": [
       "<matplotlib.axes._subplots.AxesSubplot at 0x7f19105e7310>"
      ]
     },
     "execution_count": 46,
     "metadata": {},
     "output_type": "execute_result"
    },
    {
     "data": {
      "image/png": "[encoded data removed]",
      "text/plain": [
       "<Figure size 432x288 with 1 Axes>"
      ]
     },
     "metadata": {
      "needs_background": "light"
     },
     "output_type": "display_data"
    }
   ],
   "source": [
    "negrank_deepmatcher[0:12].plot.barh(color='red',grid=True)"
   ]
  },
  {
   "cell_type": "code",
   "execution_count": 47,
   "metadata": {
    "ExecuteTime": {
     "end_time": "2020-06-06T09:14:33.468596Z",
     "start_time": "2020-06-06T09:14:33.231132Z"
    }
   },
   "outputs": [],
   "source": [
    "saveExplanationResult('rankings/','deeper','amazon_google',posrank=posrank_deeper,negrank=negrank_deeper,\n",
    "                     flippedneg=flippedneg_deeper,flippedpos=flippedpos_deeper)"
   ]
  },
  {
   "cell_type": "code",
   "execution_count": 48,
   "metadata": {
    "ExecuteTime": {
     "end_time": "2020-06-06T09:15:04.427107Z",
     "start_time": "2020-06-06T09:15:04.144355Z"
    }
   },
   "outputs": [],
   "source": [
    "saveExplanationResult('rankings/','deepmatcher','amazon_google',posrank_deepmatcher,negrank_deepmatcher,\n",
    "                     flippedpos_deepmatcher,flippedneg_deepmatcher)"
   ]
  },
  {
   "cell_type": "markdown",
   "metadata": {},
   "source": [
    "## DBLP-ACM"
   ]
  },
  {
   "cell_type": "code",
   "execution_count": 49,
   "metadata": {
    "ExecuteTime": {
     "end_time": "2020-06-06T09:15:20.940815Z",
     "start_time": "2020-06-06T09:15:20.848480Z"
    }
   },
   "outputs": [],
   "source": [
    "augmented_test = pd.read_csv('datasets/DBLP-ACM/augmented_test.csv')\n",
    "dblp = pd.read_csv('datasets/DBLP-ACM/DBLP2.csv',dtype=str)\n",
    "acm = pd.read_csv('datasets/DBLP-ACM/ACM.csv',dtype=str)"
   ]
  },
  {
   "cell_type": "code",
   "execution_count": 50,
   "metadata": {
    "ExecuteTime": {
     "end_time": "2020-06-06T09:15:32.660131Z",
     "start_time": "2020-06-06T09:15:32.602966Z"
    }
   },
   "outputs": [],
   "source": [
    "augmented_test['id'] = augmented_test['id'].apply(lambda sampleid:formatId(sampleid))"
   ]
  },
  {
   "cell_type": "code",
   "execution_count": 52,
   "metadata": {
    "ExecuteTime": {
     "end_time": "2020-06-06T09:15:51.792266Z",
     "start_time": "2020-06-06T09:15:49.616207Z"
    }
   },
   "outputs": [],
   "source": [
    "dblpacm_deeper = load_model('models/DeepER_best_model_100_dblp-acm.h5')\n",
    "dblpacm_deepmatcher = dm.MatchingModel(attr_summarizer='rnn')\n",
    "dblpacm_deepmatcher.load_state('models/dblp_acm_rnn.pth')"
   ]
  },
  {
   "cell_type": "code",
   "execution_count": 53,
   "metadata": {
    "ExecuteTime": {
     "end_time": "2020-06-06T09:16:16.212026Z",
     "start_time": "2020-06-06T09:16:14.153872Z"
    }
   },
   "outputs": [],
   "source": [
    "corrects_deeper = getCorrectPredictions(augmented_test,dblpacm_deeper,predict_fn_deeper)"
   ]
  },
  {
   "cell_type": "code",
   "execution_count": 54,
   "metadata": {
    "ExecuteTime": {
     "end_time": "2020-06-06T09:16:37.704104Z",
     "start_time": "2020-06-06T09:16:31.950688Z"
    }
   },
   "outputs": [],
   "source": [
    "corrects_deepmatcher = getCorrectPredictions(augmented_test,dblpacm_deepmatcher,predict_fn_deepmatcher)"
   ]
  },
  {
   "cell_type": "code",
   "execution_count": 59,
   "metadata": {
    "ExecuteTime": {
     "end_time": "2020-06-06T09:18:31.468206Z",
     "start_time": "2020-06-06T09:18:18.480879Z"
    }
   },
   "outputs": [
    {
     "name": "stderr",
     "output_type": "stream",
     "text": [
      "\n",
      "  0%|          | 0/604 [00:00<?, ?it/s]\u001b[A\n",
      "  1%|          | 5/604 [00:00<00:14, 40.93it/s]\u001b[A\n",
      "  2%|▏         | 10/604 [00:00<00:14, 41.78it/s]\u001b[A\n",
      "  2%|▏         | 15/604 [00:00<00:13, 42.79it/s]\u001b[A\n",
      "  3%|▎         | 21/604 [00:00<00:12, 45.06it/s]\u001b[A\n",
      "  4%|▍         | 27/604 [00:00<00:12, 47.25it/s]\u001b[A\n",
      "  5%|▌         | 33/604 [00:00<00:12, 46.67it/s]\u001b[A\n",
      "  6%|▋         | 38/604 [00:00<00:12, 43.91it/s]\u001b[A\n",
      "  7%|▋         | 43/604 [00:00<00:12, 43.60it/s]\u001b[A\n",
      "  8%|▊         | 48/604 [00:01<00:12, 44.39it/s]\u001b[A\n",
      "  9%|▉         | 53/604 [00:01<00:12, 44.29it/s]\u001b[A\n",
      " 10%|▉         | 58/604 [00:01<00:12, 44.14it/s]\u001b[A\n",
      " 10%|█         | 63/604 [00:01<00:12, 44.45it/s]\u001b[A\n",
      " 11%|█▏        | 68/604 [00:01<00:11, 45.54it/s]\u001b[A\n",
      " 12%|█▏        | 73/604 [00:01<00:11, 44.63it/s]\u001b[A\n",
      " 13%|█▎        | 78/604 [00:01<00:11, 45.49it/s]\u001b[A\n",
      " 14%|█▎        | 83/604 [00:01<00:11, 46.50it/s]\u001b[A\n",
      " 15%|█▍        | 89/604 [00:01<00:10, 47.94it/s]\u001b[A\n",
      " 16%|█▌        | 95/604 [00:02<00:10, 48.67it/s]\u001b[A\n",
      " 17%|█▋        | 101/604 [00:02<00:10, 50.07it/s]\u001b[A\n",
      " 18%|█▊        | 107/604 [00:02<00:09, 50.48it/s]\u001b[A\n",
      " 19%|█▊        | 113/604 [00:02<00:09, 49.68it/s]\u001b[A\n",
      " 20%|█▉        | 118/604 [00:02<00:09, 49.54it/s]\u001b[A\n",
      " 21%|██        | 124/604 [00:02<00:09, 49.99it/s]\u001b[A\n",
      " 22%|██▏       | 130/604 [00:02<00:09, 50.57it/s]\u001b[A\n",
      " 23%|██▎       | 136/604 [00:02<00:09, 51.33it/s]\u001b[A\n",
      " 24%|██▎       | 142/604 [00:02<00:08, 51.69it/s]\u001b[A\n",
      " 25%|██▍       | 148/604 [00:03<00:09, 49.75it/s]\u001b[A\n",
      " 25%|██▌       | 154/604 [00:03<00:08, 50.74it/s]\u001b[A\n",
      " 26%|██▋       | 160/604 [00:03<00:08, 51.77it/s]\u001b[A\n",
      " 27%|██▋       | 166/604 [00:03<00:08, 49.52it/s]\u001b[A\n",
      " 28%|██▊       | 171/604 [00:03<00:09, 47.19it/s]\u001b[A\n",
      " 29%|██▉       | 176/604 [00:03<00:09, 47.48it/s]\u001b[A\n",
      " 30%|██▉       | 181/604 [00:03<00:09, 46.01it/s]\u001b[A\n",
      " 31%|███       | 186/604 [00:03<00:09, 46.43it/s]\u001b[A\n",
      " 32%|███▏      | 192/604 [00:04<00:08, 47.70it/s]\u001b[A\n",
      " 33%|███▎      | 198/604 [00:04<00:08, 49.14it/s]\u001b[A\n",
      " 34%|███▍      | 204/604 [00:04<00:07, 50.58it/s]\u001b[A\n",
      " 35%|███▍      | 210/604 [00:04<00:07, 51.55it/s]\u001b[A\n",
      " 36%|███▌      | 216/604 [00:04<00:07, 51.83it/s]\u001b[A\n",
      " 37%|███▋      | 222/604 [00:04<00:07, 52.24it/s]\u001b[A\n",
      " 38%|███▊      | 228/604 [00:04<00:07, 52.82it/s]\u001b[A\n",
      " 39%|███▊      | 234/604 [00:04<00:06, 53.05it/s]\u001b[A\n",
      " 40%|███▉      | 240/604 [00:04<00:07, 50.18it/s]\u001b[A\n",
      " 41%|████      | 246/604 [00:05<00:07, 49.10it/s]\u001b[A\n",
      " 42%|████▏     | 252/604 [00:05<00:07, 50.25it/s]\u001b[A\n",
      " 43%|████▎     | 258/604 [00:05<00:06, 50.97it/s]\u001b[A\n",
      " 44%|████▎     | 264/604 [00:05<00:06, 52.18it/s]\u001b[A\n",
      " 45%|████▍     | 270/604 [00:05<00:06, 52.36it/s]\u001b[A\n",
      " 46%|████▌     | 276/604 [00:05<00:06, 51.89it/s]\u001b[A\n",
      " 47%|████▋     | 282/604 [00:05<00:06, 52.32it/s]\u001b[A\n",
      " 48%|████▊     | 288/604 [00:05<00:06, 52.44it/s]\u001b[A\n",
      " 49%|████▊     | 294/604 [00:05<00:05, 51.74it/s]\u001b[A\n",
      " 50%|████▉     | 300/604 [00:06<00:06, 50.55it/s]\u001b[A\n",
      " 51%|█████     | 306/604 [00:06<00:05, 51.17it/s]\u001b[A\n",
      " 52%|█████▏    | 312/604 [00:06<00:05, 51.23it/s]\u001b[A\n",
      " 53%|█████▎    | 318/604 [00:06<00:05, 52.02it/s]\u001b[A\n",
      " 54%|█████▎    | 324/604 [00:06<00:05, 52.09it/s]\u001b[A\n",
      " 55%|█████▍    | 330/604 [00:06<00:05, 52.52it/s]\u001b[A\n",
      " 56%|█████▌    | 336/604 [00:06<00:05, 52.85it/s]\u001b[A\n",
      " 57%|█████▋    | 342/604 [00:06<00:05, 51.12it/s]\u001b[A\n",
      " 58%|█████▊    | 348/604 [00:07<00:05, 49.01it/s]\u001b[A\n",
      " 58%|█████▊    | 353/604 [00:07<00:05, 48.83it/s]\u001b[A\n",
      " 59%|█████▉    | 358/604 [00:07<00:05, 48.57it/s]\u001b[A\n",
      " 60%|██████    | 364/604 [00:07<00:04, 50.33it/s]\u001b[A\n",
      " 61%|██████▏   | 370/604 [00:07<00:04, 51.75it/s]\u001b[A\n",
      " 62%|██████▏   | 376/604 [00:07<00:04, 51.79it/s]\u001b[A\n",
      " 63%|██████▎   | 382/604 [00:07<00:04, 51.67it/s]\u001b[A\n",
      " 64%|██████▍   | 388/604 [00:07<00:04, 52.32it/s]\u001b[A\n",
      " 65%|██████▌   | 394/604 [00:07<00:04, 48.95it/s]\u001b[A\n",
      " 66%|██████▌   | 399/604 [00:08<00:04, 47.01it/s]\u001b[A\n",
      " 67%|██████▋   | 404/604 [00:08<00:04, 46.36it/s]\u001b[A\n",
      " 68%|██████▊   | 409/604 [00:08<00:04, 46.81it/s]\u001b[A\n",
      " 69%|██████▊   | 414/604 [00:08<00:03, 47.57it/s]\u001b[A\n",
      " 69%|██████▉   | 419/604 [00:08<00:03, 47.67it/s]\u001b[A\n",
      " 70%|███████   | 424/604 [00:08<00:03, 47.41it/s]\u001b[A\n",
      " 71%|███████   | 430/604 [00:08<00:03, 48.31it/s]\u001b[A\n",
      " 72%|███████▏  | 435/604 [00:08<00:03, 48.63it/s]\u001b[A\n",
      " 73%|███████▎  | 440/604 [00:08<00:03, 48.71it/s]\u001b[A\n",
      " 74%|███████▍  | 446/604 [00:09<00:03, 49.63it/s]\u001b[A\n",
      " 75%|███████▍  | 452/604 [00:09<00:02, 51.18it/s]\u001b[A\n",
      " 76%|███████▌  | 458/604 [00:09<00:02, 51.62it/s]\u001b[A\n",
      " 77%|███████▋  | 464/604 [00:09<00:02, 51.15it/s]\u001b[A\n",
      " 78%|███████▊  | 470/604 [00:09<00:02, 49.35it/s]\u001b[A\n",
      " 79%|███████▊  | 475/604 [00:09<00:02, 47.35it/s]\u001b[A\n",
      " 80%|███████▉  | 481/604 [00:09<00:02, 48.92it/s]\u001b[A\n",
      " 80%|████████  | 486/604 [00:09<00:02, 49.07it/s]\u001b[A\n",
      " 81%|████████▏ | 491/604 [00:09<00:02, 48.48it/s]\u001b[A\n",
      " 82%|████████▏ | 497/604 [00:10<00:02, 49.20it/s]\u001b[A\n",
      " 83%|████████▎ | 503/604 [00:10<00:02, 50.34it/s]\u001b[A\n",
      " 84%|████████▍ | 509/604 [00:10<00:01, 51.05it/s]\u001b[A\n",
      " 85%|████████▌ | 515/604 [00:10<00:01, 50.60it/s]\u001b[A\n",
      " 86%|████████▋ | 521/604 [00:10<00:01, 49.59it/s]\u001b[A\n",
      " 87%|████████▋ | 527/604 [00:10<00:01, 49.84it/s]\u001b[A\n",
      " 88%|████████▊ | 533/604 [00:10<00:01, 49.98it/s]\u001b[A\n",
      " 89%|████████▉ | 539/604 [00:10<00:01, 48.28it/s]\u001b[A\n",
      " 90%|█████████ | 544/604 [00:11<00:01, 47.72it/s]\u001b[A\n",
      " 91%|█████████ | 550/604 [00:11<00:01, 49.19it/s]\u001b[A\n",
      " 92%|█████████▏| 556/604 [00:11<00:00, 50.07it/s]\u001b[A\n",
      " 93%|█████████▎| 562/604 [00:11<00:00, 48.24it/s]\u001b[A\n",
      " 94%|█████████▍| 567/604 [00:11<00:00, 41.66it/s]\u001b[A\n",
      " 95%|█████████▍| 572/604 [00:11<00:00, 41.94it/s]\u001b[A\n",
      " 96%|█████████▌| 577/604 [00:11<00:00, 42.77it/s]\u001b[A\n",
      " 96%|█████████▋| 582/604 [00:11<00:00, 41.89it/s]\u001b[A\n",
      " 97%|█████████▋| 587/604 [00:12<00:00, 41.96it/s]\u001b[A\n",
      " 98%|█████████▊| 592/604 [00:12<00:00, 42.78it/s]\u001b[A\n",
      " 99%|█████████▉| 597/604 [00:12<00:00, 43.84it/s]\u001b[A\n",
      "100%|██████████| 604/604 [00:12<00:00, 48.72it/s]\u001b[A\n"
     ]
    }
   ],
   "source": [
    "negrank_deeper,flippedneg_deeper = explainSamples(corrects_deeper,[dblp,acm],dblpacm_deeper,predict_fn_deeper,\n",
    "                                   0,3)"
   ]
  },
  {
   "cell_type": "code",
   "execution_count": 60,
   "metadata": {
    "ExecuteTime": {
     "end_time": "2020-06-06T09:21:06.302071Z",
     "start_time": "2020-06-06T09:18:44.442359Z"
    }
   },
   "outputs": [
    {
     "name": "stderr",
     "output_type": "stream",
     "text": [
      "\n",
      "  0%|          | 0/631 [00:00<?, ?it/s]\u001b[A\n",
      "  0%|          | 1/631 [00:00<03:18,  3.18it/s]\u001b[A\n",
      "  0%|          | 2/631 [00:00<03:13,  3.25it/s]\u001b[A\n",
      "  0%|          | 3/631 [00:00<03:03,  3.42it/s]\u001b[A\n",
      "  1%|          | 4/631 [00:01<02:55,  3.57it/s]\u001b[A\n",
      "  1%|          | 5/631 [00:01<02:43,  3.83it/s]\u001b[A\n",
      "  1%|          | 6/631 [00:01<02:33,  4.06it/s]\u001b[A\n",
      "  1%|          | 7/631 [00:01<02:27,  4.24it/s]\u001b[A\n",
      "  1%|▏         | 8/631 [00:01<02:22,  4.36it/s]\u001b[A\n",
      "  1%|▏         | 9/631 [00:02<02:19,  4.44it/s]\u001b[A\n",
      "  2%|▏         | 10/631 [00:02<02:17,  4.53it/s]\u001b[A\n",
      "  2%|▏         | 11/631 [00:02<02:16,  4.55it/s]\u001b[A\n",
      "  2%|▏         | 12/631 [00:02<02:15,  4.58it/s]\u001b[A\n",
      "  2%|▏         | 13/631 [00:03<02:12,  4.66it/s]\u001b[A\n",
      "  2%|▏         | 14/631 [00:03<02:09,  4.76it/s]\u001b[A\n",
      "  2%|▏         | 15/631 [00:03<02:07,  4.83it/s]\u001b[A\n",
      "  3%|▎         | 16/631 [00:03<02:05,  4.89it/s]\u001b[A\n",
      "  3%|▎         | 17/631 [00:03<02:06,  4.87it/s]\u001b[A\n",
      "  3%|▎         | 18/631 [00:04<02:06,  4.84it/s]\u001b[A\n",
      "  3%|▎         | 19/631 [00:04<02:05,  4.88it/s]\u001b[A\n",
      "  3%|▎         | 20/631 [00:04<02:13,  4.59it/s]\u001b[A\n",
      "  3%|▎         | 21/631 [00:04<02:19,  4.37it/s]\u001b[A\n",
      "  3%|▎         | 22/631 [00:04<02:14,  4.52it/s]\u001b[A\n",
      "  4%|▎         | 23/631 [00:05<02:12,  4.60it/s]\u001b[A\n",
      "  4%|▍         | 24/631 [00:05<02:12,  4.59it/s]\u001b[A\n",
      "  4%|▍         | 25/631 [00:05<02:10,  4.64it/s]\u001b[A\n",
      "  4%|▍         | 26/631 [00:05<02:08,  4.70it/s]\u001b[A\n",
      "  4%|▍         | 27/631 [00:06<02:13,  4.51it/s]\u001b[A\n",
      "  4%|▍         | 28/631 [00:06<02:09,  4.67it/s]\u001b[A\n",
      "  5%|▍         | 29/631 [00:06<02:07,  4.72it/s]\u001b[A\n",
      "  5%|▍         | 30/631 [00:06<02:05,  4.79it/s]\u001b[A\n",
      "  5%|▍         | 31/631 [00:06<02:04,  4.81it/s]\u001b[A\n",
      "  5%|▌         | 32/631 [00:07<02:05,  4.79it/s]\u001b[A\n",
      "  5%|▌         | 33/631 [00:07<02:07,  4.68it/s]\u001b[A\n",
      "  5%|▌         | 34/631 [00:07<02:08,  4.65it/s]\u001b[A\n",
      "  6%|▌         | 35/631 [00:07<02:05,  4.74it/s]\u001b[A\n",
      "  6%|▌         | 36/631 [00:07<02:04,  4.77it/s]\u001b[A\n",
      "  6%|▌         | 37/631 [00:08<02:04,  4.78it/s]\u001b[A\n",
      "  6%|▌         | 38/631 [00:08<02:04,  4.76it/s]\u001b[A\n",
      "  6%|▌         | 39/631 [00:08<02:03,  4.78it/s]\u001b[A\n",
      "  6%|▋         | 40/631 [00:08<02:03,  4.77it/s]\u001b[A\n",
      "  6%|▋         | 41/631 [00:08<02:03,  4.78it/s]\u001b[A\n",
      "  7%|▋         | 42/631 [00:09<02:03,  4.76it/s]\u001b[A\n",
      "  7%|▋         | 43/631 [00:09<02:07,  4.63it/s]\u001b[A\n",
      "  7%|▋         | 44/631 [00:09<02:05,  4.68it/s]\u001b[A\n",
      "  7%|▋         | 45/631 [00:09<02:04,  4.71it/s]\u001b[A\n",
      "  7%|▋         | 46/631 [00:10<02:03,  4.73it/s]\u001b[A\n",
      "  7%|▋         | 47/631 [00:10<02:05,  4.64it/s]\u001b[A\n",
      "  8%|▊         | 48/631 [00:10<02:03,  4.73it/s]\u001b[A\n",
      "  8%|▊         | 49/631 [00:10<02:02,  4.76it/s]\u001b[A\n",
      "  8%|▊         | 50/631 [00:10<02:01,  4.80it/s]\u001b[A\n",
      "  8%|▊         | 51/631 [00:11<01:59,  4.84it/s]\u001b[A\n",
      "  8%|▊         | 52/631 [00:11<01:59,  4.83it/s]\u001b[A\n",
      "  8%|▊         | 53/631 [00:11<02:01,  4.77it/s]\u001b[A\n",
      "  9%|▊         | 54/631 [00:11<01:59,  4.83it/s]\u001b[A\n",
      "  9%|▊         | 55/631 [00:11<02:00,  4.78it/s]\u001b[A\n",
      "  9%|▉         | 56/631 [00:12<02:00,  4.77it/s]\u001b[A\n",
      "  9%|▉         | 57/631 [00:12<02:00,  4.76it/s]\u001b[A\n",
      "  9%|▉         | 58/631 [00:12<02:12,  4.33it/s]\u001b[A\n",
      "  9%|▉         | 59/631 [00:12<02:08,  4.44it/s]\u001b[A\n",
      " 10%|▉         | 60/631 [00:13<02:04,  4.58it/s]\u001b[A\n",
      " 10%|▉         | 61/631 [00:13<02:02,  4.67it/s]\u001b[A\n",
      " 10%|▉         | 62/631 [00:13<02:01,  4.69it/s]\u001b[A\n",
      " 10%|▉         | 63/631 [00:13<01:59,  4.75it/s]\u001b[A\n",
      " 10%|█         | 64/631 [00:13<01:58,  4.78it/s]\u001b[A\n",
      " 10%|█         | 65/631 [00:14<01:58,  4.76it/s]\u001b[A\n",
      " 10%|█         | 66/631 [00:14<02:00,  4.70it/s]\u001b[A\n",
      " 11%|█         | 67/631 [00:14<01:59,  4.72it/s]\u001b[A\n",
      " 11%|█         | 68/631 [00:14<01:59,  4.69it/s]\u001b[A\n",
      " 11%|█         | 69/631 [00:14<01:59,  4.71it/s]\u001b[A\n",
      " 11%|█         | 70/631 [00:15<01:59,  4.70it/s]\u001b[A\n",
      " 11%|█▏        | 71/631 [00:15<01:57,  4.76it/s]\u001b[A\n",
      " 11%|█▏        | 72/631 [00:15<01:55,  4.83it/s]\u001b[A\n",
      " 12%|█▏        | 73/631 [00:15<01:56,  4.78it/s]\u001b[A\n",
      " 12%|█▏        | 74/631 [00:15<01:57,  4.73it/s]\u001b[A\n",
      " 12%|█▏        | 75/631 [00:16<01:57,  4.72it/s]\u001b[A\n",
      " 12%|█▏        | 76/631 [00:16<01:58,  4.68it/s]\u001b[A\n",
      " 12%|█▏        | 77/631 [00:16<02:04,  4.47it/s]\u001b[A\n",
      " 12%|█▏        | 78/631 [00:16<02:07,  4.33it/s]\u001b[A\n",
      " 13%|█▎        | 79/631 [00:17<02:03,  4.46it/s]\u001b[A\n",
      " 13%|█▎        | 80/631 [00:17<02:01,  4.52it/s]\u001b[A\n",
      " 13%|█▎        | 81/631 [00:17<02:01,  4.52it/s]\u001b[A\n",
      " 13%|█▎        | 82/631 [00:17<01:59,  4.58it/s]\u001b[A\n",
      " 13%|█▎        | 83/631 [00:17<01:58,  4.63it/s]\u001b[A\n",
      " 13%|█▎        | 84/631 [00:18<01:58,  4.61it/s]\u001b[A\n",
      " 13%|█▎        | 85/631 [00:18<01:58,  4.61it/s]\u001b[A\n",
      " 14%|█▎        | 86/631 [00:18<01:58,  4.61it/s]\u001b[A\n",
      " 14%|█▍        | 87/631 [00:18<01:57,  4.63it/s]\u001b[A\n",
      " 14%|█▍        | 88/631 [00:19<01:57,  4.62it/s]\u001b[A\n",
      " 14%|█▍        | 89/631 [00:19<01:57,  4.62it/s]\u001b[A\n",
      " 14%|█▍        | 90/631 [00:19<01:58,  4.56it/s]\u001b[A\n",
      " 14%|█▍        | 91/631 [00:19<01:58,  4.57it/s]\u001b[A\n",
      " 15%|█▍        | 92/631 [00:19<01:55,  4.66it/s]\u001b[A\n",
      " 15%|█▍        | 93/631 [00:20<01:56,  4.61it/s]\u001b[A\n",
      " 15%|█▍        | 94/631 [00:20<01:56,  4.61it/s]\u001b[A\n",
      " 15%|█▌        | 95/631 [00:20<01:59,  4.48it/s]\u001b[A\n",
      " 15%|█▌        | 96/631 [00:20<01:56,  4.58it/s]\u001b[A\n",
      " 15%|█▌        | 97/631 [00:20<01:53,  4.72it/s]\u001b[A\n",
      " 16%|█▌        | 98/631 [00:21<01:52,  4.72it/s]\u001b[A\n",
      " 16%|█▌        | 99/631 [00:21<01:55,  4.61it/s]\u001b[A\n",
      " 16%|█▌        | 100/631 [00:21<01:53,  4.66it/s]\u001b[A\n",
      " 16%|█▌        | 101/631 [00:21<01:54,  4.64it/s]\u001b[A\n",
      " 16%|█▌        | 102/631 [00:22<01:53,  4.66it/s]\u001b[A\n",
      " 16%|█▋        | 103/631 [00:22<01:50,  4.76it/s]\u001b[A\n",
      " 16%|█▋        | 104/631 [00:22<01:48,  4.86it/s]\u001b[A\n",
      " 17%|█▋        | 105/631 [00:22<01:46,  4.94it/s]\u001b[A\n",
      " 17%|█▋        | 106/631 [00:22<01:56,  4.51it/s]\u001b[A\n",
      " 17%|█▋        | 107/631 [00:23<01:59,  4.38it/s]\u001b[A\n",
      " 17%|█▋        | 108/631 [00:23<01:57,  4.45it/s]\u001b[A\n",
      " 17%|█▋        | 109/631 [00:23<01:52,  4.64it/s]\u001b[A\n",
      " 17%|█▋        | 110/631 [00:23<01:50,  4.73it/s]\u001b[A\n",
      " 18%|█▊        | 111/631 [00:24<03:29,  2.48it/s]\u001b[A\n",
      " 18%|█▊        | 112/631 [00:24<03:07,  2.77it/s]\u001b[A\n",
      " 18%|█▊        | 113/631 [00:25<02:50,  3.04it/s]\u001b[A\n",
      " 18%|█▊        | 114/631 [00:25<02:31,  3.40it/s]\u001b[A\n",
      " 18%|█▊        | 115/631 [00:25<02:17,  3.75it/s]\u001b[A\n",
      " 18%|█▊        | 116/631 [00:25<02:06,  4.06it/s]\u001b[A\n",
      " 19%|█▊        | 117/631 [00:26<02:05,  4.08it/s]\u001b[A\n",
      " 19%|█▊        | 118/631 [00:26<02:06,  4.06it/s]\u001b[A\n",
      " 19%|█▉        | 119/631 [00:26<01:59,  4.27it/s]\u001b[A\n",
      " 19%|█▉        | 120/631 [00:26<01:53,  4.50it/s]\u001b[A\n",
      " 19%|█▉        | 121/631 [00:26<01:48,  4.68it/s]\u001b[A\n",
      " 19%|█▉        | 122/631 [00:27<01:54,  4.45it/s]\u001b[A\n",
      " 19%|█▉        | 123/631 [00:27<01:51,  4.55it/s]\u001b[A\n",
      " 20%|█▉        | 124/631 [00:27<02:00,  4.19it/s]\u001b[A\n",
      " 20%|█▉        | 125/631 [00:27<02:00,  4.20it/s]\u001b[A\n",
      " 20%|█▉        | 126/631 [00:28<01:58,  4.26it/s]\u001b[A\n",
      " 20%|██        | 127/631 [00:28<01:57,  4.31it/s]\u001b[A\n",
      " 20%|██        | 128/631 [00:28<01:53,  4.45it/s]\u001b[A\n",
      " 20%|██        | 129/631 [00:28<01:48,  4.63it/s]\u001b[A\n",
      " 21%|██        | 130/631 [00:28<01:52,  4.44it/s]\u001b[A\n",
      " 21%|██        | 131/631 [00:29<01:49,  4.55it/s]\u001b[A\n",
      " 21%|██        | 132/631 [00:29<01:47,  4.65it/s]\u001b[A\n",
      " 21%|██        | 133/631 [00:29<01:45,  4.73it/s]\u001b[A\n",
      " 21%|██        | 134/631 [00:29<01:50,  4.48it/s]\u001b[A\n",
      " 21%|██▏       | 135/631 [00:29<01:47,  4.62it/s]\u001b[A\n",
      " 22%|██▏       | 136/631 [00:30<01:45,  4.69it/s]\u001b[A\n",
      " 22%|██▏       | 137/631 [00:30<01:43,  4.77it/s]\u001b[A\n",
      " 22%|██▏       | 138/631 [00:30<01:46,  4.65it/s]\u001b[A\n",
      " 22%|██▏       | 139/631 [00:30<01:43,  4.78it/s]\u001b[A\n",
      " 22%|██▏       | 140/631 [00:31<01:42,  4.80it/s]\u001b[A\n",
      " 22%|██▏       | 141/631 [00:31<01:40,  4.88it/s]\u001b[A\n",
      " 23%|██▎       | 142/631 [00:31<01:38,  4.94it/s]\u001b[A\n",
      " 23%|██▎       | 143/631 [00:31<01:39,  4.91it/s]\u001b[A\n",
      " 23%|██▎       | 144/631 [00:31<01:39,  4.90it/s]\u001b[A\n",
      " 23%|██▎       | 145/631 [00:32<01:37,  4.96it/s]\u001b[A\n",
      " 23%|██▎       | 146/631 [00:32<01:37,  4.96it/s]\u001b[A\n",
      " 23%|██▎       | 147/631 [00:32<01:37,  4.96it/s]\u001b[A\n",
      " 23%|██▎       | 148/631 [00:32<01:37,  4.96it/s]\u001b[A\n",
      " 24%|██▎       | 149/631 [00:32<01:36,  4.99it/s]\u001b[A\n",
      " 24%|██▍       | 150/631 [00:33<01:37,  4.95it/s]\u001b[A\n",
      " 24%|██▍       | 151/631 [00:33<01:41,  4.73it/s]\u001b[A\n",
      " 24%|██▍       | 152/631 [00:33<01:40,  4.74it/s]\u001b[A\n",
      " 24%|██▍       | 153/631 [00:33<01:42,  4.66it/s]\u001b[A\n",
      " 24%|██▍       | 154/631 [00:33<01:43,  4.59it/s]\u001b[A\n",
      " 25%|██▍       | 155/631 [00:34<01:42,  4.66it/s]\u001b[A\n",
      " 25%|██▍       | 156/631 [00:34<01:39,  4.76it/s]\u001b[A\n",
      " 25%|██▍       | 157/631 [00:34<01:37,  4.86it/s]\u001b[A\n",
      " 25%|██▌       | 158/631 [00:34<01:38,  4.81it/s]\u001b[A\n",
      " 25%|██▌       | 159/631 [00:34<01:39,  4.73it/s]\u001b[A\n",
      " 25%|██▌       | 160/631 [00:35<01:38,  4.78it/s]\u001b[A\n",
      " 26%|██▌       | 161/631 [00:35<01:37,  4.81it/s]\u001b[A\n",
      " 26%|██▌       | 162/631 [00:35<01:38,  4.77it/s]\u001b[A\n",
      " 26%|██▌       | 163/631 [00:35<01:37,  4.80it/s]\u001b[A\n",
      " 26%|██▌       | 164/631 [00:35<01:35,  4.87it/s]\u001b[A\n",
      " 26%|██▌       | 165/631 [00:36<01:40,  4.63it/s]\u001b[A\n",
      " 26%|██▋       | 166/631 [00:36<01:41,  4.60it/s]\u001b[A\n",
      " 26%|██▋       | 167/631 [00:36<01:37,  4.74it/s]\u001b[A\n",
      " 27%|██▋       | 168/631 [00:36<01:36,  4.81it/s]\u001b[A\n",
      " 27%|██▋       | 169/631 [00:37<01:39,  4.65it/s]\u001b[A\n",
      " 27%|██▋       | 170/631 [00:37<01:39,  4.62it/s]\u001b[A\n",
      " 27%|██▋       | 171/631 [00:37<01:37,  4.70it/s]\u001b[A\n",
      " 27%|██▋       | 172/631 [00:37<01:35,  4.80it/s]\u001b[A\n",
      " 27%|██▋       | 173/631 [00:37<01:35,  4.78it/s]\u001b[A\n",
      " 28%|██▊       | 174/631 [00:38<01:34,  4.82it/s]\u001b[A\n",
      " 28%|██▊       | 175/631 [00:38<01:35,  4.79it/s]\u001b[A\n",
      " 28%|██▊       | 176/631 [00:38<01:35,  4.78it/s]\u001b[A\n",
      " 28%|██▊       | 177/631 [00:38<01:35,  4.76it/s]\u001b[A\n",
      " 28%|██▊       | 178/631 [00:38<01:33,  4.83it/s]\u001b[A\n",
      " 28%|██▊       | 179/631 [00:39<01:33,  4.83it/s]\u001b[A\n",
      " 29%|██▊       | 180/631 [00:39<01:34,  4.79it/s]\u001b[A\n",
      " 29%|██▊       | 181/631 [00:39<01:33,  4.80it/s]\u001b[A\n",
      " 29%|██▉       | 182/631 [00:39<01:32,  4.87it/s]\u001b[A\n",
      " 29%|██▉       | 183/631 [00:39<01:32,  4.85it/s]\u001b[A\n",
      " 29%|██▉       | 184/631 [00:40<01:30,  4.92it/s]\u001b[A\n",
      " 29%|██▉       | 185/631 [00:40<01:30,  4.91it/s]\u001b[A\n",
      " 29%|██▉       | 186/631 [00:40<01:31,  4.87it/s]\u001b[A\n",
      " 30%|██▉       | 187/631 [00:40<01:31,  4.83it/s]\u001b[A\n",
      " 30%|██▉       | 188/631 [00:41<01:31,  4.84it/s]\u001b[A\n",
      " 30%|██▉       | 189/631 [00:41<01:32,  4.80it/s]\u001b[A\n",
      " 30%|███       | 190/631 [00:41<01:33,  4.72it/s]\u001b[A\n",
      " 30%|███       | 191/631 [00:41<01:31,  4.80it/s]\u001b[A\n",
      " 30%|███       | 192/631 [00:41<01:30,  4.84it/s]\u001b[A\n",
      " 31%|███       | 193/631 [00:42<01:29,  4.90it/s]\u001b[A\n",
      " 31%|███       | 194/631 [00:42<01:29,  4.90it/s]\u001b[A\n",
      " 31%|███       | 195/631 [00:42<01:30,  4.81it/s]\u001b[A\n",
      " 31%|███       | 196/631 [00:42<01:31,  4.76it/s]\u001b[A\n",
      " 31%|███       | 197/631 [00:42<01:30,  4.82it/s]\u001b[A\n",
      " 31%|███▏      | 198/631 [00:43<01:29,  4.81it/s]\u001b[A\n",
      " 32%|███▏      | 199/631 [00:43<01:29,  4.81it/s]\u001b[A\n",
      " 32%|███▏      | 200/631 [00:43<01:27,  4.91it/s]\u001b[A\n",
      " 32%|███▏      | 201/631 [00:43<01:28,  4.85it/s]\u001b[A\n",
      " 32%|███▏      | 202/631 [00:43<01:30,  4.73it/s]\u001b[A\n",
      " 32%|███▏      | 203/631 [00:44<01:29,  4.80it/s]\u001b[A\n",
      " 32%|███▏      | 204/631 [00:44<01:28,  4.84it/s]\u001b[A\n",
      " 32%|███▏      | 205/631 [00:44<01:27,  4.85it/s]\u001b[A\n",
      " 33%|███▎      | 206/631 [00:44<01:26,  4.91it/s]\u001b[A\n",
      " 33%|███▎      | 207/631 [00:44<01:26,  4.91it/s]\u001b[A\n",
      " 33%|███▎      | 208/631 [00:45<01:26,  4.89it/s]\u001b[A\n",
      " 33%|███▎      | 209/631 [00:45<01:24,  4.98it/s]\u001b[A\n",
      " 33%|███▎      | 210/631 [00:45<01:23,  5.05it/s]\u001b[A\n",
      " 33%|███▎      | 211/631 [00:45<01:24,  4.96it/s]\u001b[A\n",
      " 34%|███▎      | 212/631 [00:45<01:25,  4.91it/s]\u001b[A\n",
      " 34%|███▍      | 213/631 [00:46<01:24,  4.93it/s]\u001b[A\n",
      " 34%|███▍      | 214/631 [00:46<01:24,  4.95it/s]\u001b[A\n",
      " 34%|███▍      | 215/631 [00:46<01:29,  4.67it/s]\u001b[A\n",
      " 34%|███▍      | 216/631 [00:46<01:26,  4.78it/s]\u001b[A\n",
      " 34%|███▍      | 217/631 [00:46<01:26,  4.79it/s]\u001b[A\n",
      " 35%|███▍      | 218/631 [00:47<01:25,  4.82it/s]\u001b[A\n",
      " 35%|███▍      | 219/631 [00:47<01:29,  4.63it/s]\u001b[A\n",
      " 35%|███▍      | 220/631 [00:47<01:25,  4.80it/s]\u001b[A\n",
      " 35%|███▌      | 221/631 [00:47<01:26,  4.76it/s]\u001b[A\n",
      " 35%|███▌      | 222/631 [00:48<01:25,  4.78it/s]\u001b[A\n",
      " 35%|███▌      | 223/631 [00:48<01:24,  4.80it/s]\u001b[A\n",
      " 35%|███▌      | 224/631 [00:48<01:22,  4.91it/s]\u001b[A\n",
      " 36%|███▌      | 225/631 [00:48<01:21,  4.96it/s]\u001b[A\n",
      " 36%|███▌      | 226/631 [00:48<01:21,  4.98it/s]\u001b[A\n",
      " 36%|███▌      | 227/631 [00:49<01:27,  4.64it/s]\u001b[A\n",
      " 36%|███▌      | 228/631 [00:49<01:24,  4.76it/s]\u001b[A\n",
      " 36%|███▋      | 229/631 [00:49<01:23,  4.84it/s]\u001b[A\n",
      " 36%|███▋      | 230/631 [00:49<01:21,  4.89it/s]\u001b[A\n",
      " 37%|███▋      | 231/631 [00:49<01:26,  4.61it/s]\u001b[A\n",
      " 37%|███▋      | 232/631 [00:50<01:24,  4.70it/s]\u001b[A\n",
      " 37%|███▋      | 233/631 [00:50<01:24,  4.71it/s]\u001b[A\n",
      " 37%|███▋      | 234/631 [00:50<01:22,  4.81it/s]\u001b[A\n",
      " 37%|███▋      | 235/631 [00:50<01:27,  4.55it/s]\u001b[A\n",
      " 37%|███▋      | 236/631 [00:51<01:25,  4.60it/s]\u001b[A\n",
      " 38%|███▊      | 237/631 [00:51<01:22,  4.79it/s]\u001b[A\n",
      " 38%|███▊      | 238/631 [00:51<01:20,  4.88it/s]\u001b[A\n",
      " 38%|███▊      | 239/631 [00:51<01:24,  4.66it/s]\u001b[A\n",
      " 38%|███▊      | 240/631 [00:51<01:23,  4.69it/s]\u001b[A\n",
      " 38%|███▊      | 241/631 [00:52<01:21,  4.81it/s]\u001b[A\n",
      " 38%|███▊      | 242/631 [00:52<01:18,  4.94it/s]\u001b[A\n",
      " 39%|███▊      | 243/631 [00:52<01:18,  4.95it/s]\u001b[A\n",
      " 39%|███▊      | 244/631 [00:52<01:17,  4.98it/s]\u001b[A\n",
      " 39%|███▉      | 245/631 [00:52<01:17,  4.96it/s]\u001b[A\n",
      " 39%|███▉      | 246/631 [00:53<01:17,  4.97it/s]\u001b[A\n",
      " 39%|███▉      | 247/631 [00:53<01:20,  4.75it/s]\u001b[A\n",
      " 39%|███▉      | 248/631 [00:53<01:19,  4.80it/s]\u001b[A\n",
      " 39%|███▉      | 249/631 [00:53<01:18,  4.84it/s]\u001b[A\n",
      " 40%|███▉      | 250/631 [00:53<01:17,  4.89it/s]\u001b[A\n",
      " 40%|███▉      | 251/631 [00:54<01:17,  4.90it/s]\u001b[A\n",
      " 40%|███▉      | 252/631 [00:54<01:17,  4.90it/s]\u001b[A\n",
      " 40%|████      | 253/631 [00:54<01:16,  4.92it/s]\u001b[A\n",
      " 40%|████      | 254/631 [00:54<01:15,  5.01it/s]\u001b[A\n",
      " 40%|████      | 255/631 [00:54<01:14,  5.07it/s]\u001b[A\n",
      " 41%|████      | 256/631 [00:55<01:14,  5.00it/s]\u001b[A\n",
      " 41%|████      | 257/631 [00:55<01:19,  4.71it/s]\u001b[A\n",
      " 41%|████      | 258/631 [00:55<01:22,  4.50it/s]\u001b[A\n",
      " 41%|████      | 259/631 [00:55<01:20,  4.61it/s]\u001b[A\n",
      " 41%|████      | 260/631 [00:55<01:17,  4.79it/s]\u001b[A\n",
      " 41%|████▏     | 261/631 [00:56<01:15,  4.89it/s]\u001b[A\n",
      " 42%|████▏     | 262/631 [00:56<01:15,  4.92it/s]\u001b[A\n",
      " 42%|████▏     | 263/631 [00:56<01:15,  4.89it/s]\u001b[A\n",
      " 42%|████▏     | 264/631 [00:56<01:15,  4.85it/s]\u001b[A\n",
      " 42%|████▏     | 265/631 [00:56<01:15,  4.86it/s]\u001b[A\n",
      " 42%|████▏     | 266/631 [00:57<01:15,  4.84it/s]\u001b[A\n",
      " 42%|████▏     | 267/631 [00:57<01:14,  4.90it/s]\u001b[A\n",
      " 42%|████▏     | 268/631 [00:57<01:14,  4.84it/s]\u001b[A\n",
      " 43%|████▎     | 269/631 [00:57<01:14,  4.84it/s]\u001b[A\n",
      " 43%|████▎     | 270/631 [00:57<01:14,  4.82it/s]\u001b[A\n",
      " 43%|████▎     | 271/631 [00:58<01:14,  4.81it/s]\u001b[A\n",
      " 43%|████▎     | 272/631 [00:58<01:13,  4.88it/s]\u001b[A\n",
      " 43%|████▎     | 273/631 [00:58<01:12,  4.93it/s]\u001b[A\n",
      " 43%|████▎     | 274/631 [00:58<01:12,  4.95it/s]\u001b[A\n",
      " 44%|████▎     | 275/631 [00:59<01:12,  4.93it/s]\u001b[A\n",
      " 44%|████▎     | 276/631 [00:59<01:10,  5.01it/s]\u001b[A\n",
      " 44%|████▍     | 277/631 [00:59<01:10,  5.04it/s]\u001b[A\n",
      " 44%|████▍     | 278/631 [00:59<01:10,  5.02it/s]\u001b[A\n",
      " 44%|████▍     | 279/631 [00:59<01:10,  4.96it/s]\u001b[A\n",
      " 44%|████▍     | 280/631 [01:00<01:11,  4.90it/s]\u001b[A\n",
      " 45%|████▍     | 281/631 [01:00<01:11,  4.86it/s]\u001b[A\n",
      " 45%|████▍     | 282/631 [01:00<01:10,  4.96it/s]\u001b[A\n",
      " 45%|████▍     | 283/631 [01:00<01:13,  4.71it/s]\u001b[A\n",
      " 45%|████▌     | 284/631 [01:00<01:12,  4.80it/s]\u001b[A\n",
      " 45%|████▌     | 285/631 [01:01<01:11,  4.85it/s]\u001b[A\n",
      " 45%|████▌     | 286/631 [01:01<01:10,  4.89it/s]\u001b[A\n",
      " 45%|████▌     | 287/631 [01:01<01:09,  4.94it/s]\u001b[A\n",
      " 46%|████▌     | 288/631 [01:01<01:09,  4.92it/s]\u001b[A\n",
      " 46%|████▌     | 289/631 [01:01<01:09,  4.93it/s]\u001b[A\n",
      " 46%|████▌     | 290/631 [01:02<01:10,  4.86it/s]\u001b[A\n",
      " 46%|████▌     | 291/631 [01:02<01:12,  4.72it/s]\u001b[A\n",
      " 46%|████▋     | 292/631 [01:02<01:11,  4.73it/s]\u001b[A\n",
      " 46%|████▋     | 293/631 [01:02<01:10,  4.79it/s]\u001b[A\n",
      " 47%|████▋     | 294/631 [01:02<01:09,  4.87it/s]\u001b[A\n",
      " 47%|████▋     | 295/631 [01:03<01:08,  4.94it/s]\u001b[A\n",
      " 47%|████▋     | 296/631 [01:03<01:08,  4.92it/s]\u001b[A\n",
      " 47%|████▋     | 297/631 [01:03<01:08,  4.89it/s]\u001b[A\n",
      " 47%|████▋     | 298/631 [01:03<01:07,  4.94it/s]\u001b[A\n",
      " 47%|████▋     | 299/631 [01:03<01:06,  4.97it/s]\u001b[A\n",
      " 48%|████▊     | 300/631 [01:04<01:07,  4.91it/s]\u001b[A\n",
      " 48%|████▊     | 301/631 [01:04<01:07,  4.87it/s]\u001b[A\n",
      " 48%|████▊     | 302/631 [01:04<01:07,  4.85it/s]\u001b[A\n",
      " 48%|████▊     | 303/631 [01:04<01:06,  4.90it/s]\u001b[A\n",
      " 48%|████▊     | 304/631 [01:04<01:07,  4.87it/s]\u001b[A\n",
      " 48%|████▊     | 305/631 [01:05<01:06,  4.89it/s]\u001b[A\n",
      " 48%|████▊     | 306/631 [01:05<01:06,  4.89it/s]\u001b[A\n",
      " 49%|████▊     | 307/631 [01:05<01:05,  4.93it/s]\u001b[A\n",
      " 49%|████▉     | 308/631 [01:05<01:06,  4.83it/s]\u001b[A\n",
      " 49%|████▉     | 309/631 [01:05<01:07,  4.78it/s]\u001b[A\n"
     ]
    },
    {
     "name": "stderr",
     "output_type": "stream",
     "text": [
      " 49%|████▉     | 310/631 [01:06<01:06,  4.84it/s]\u001b[A\n",
      " 49%|████▉     | 311/631 [01:06<01:05,  4.89it/s]\u001b[A\n",
      " 49%|████▉     | 312/631 [01:06<01:08,  4.69it/s]\u001b[A\n",
      " 50%|████▉     | 313/631 [01:06<01:11,  4.48it/s]\u001b[A\n",
      " 50%|████▉     | 314/631 [01:07<01:11,  4.42it/s]\u001b[A\n",
      " 50%|████▉     | 315/631 [01:07<01:10,  4.49it/s]\u001b[A\n",
      " 50%|█████     | 316/631 [01:07<01:09,  4.56it/s]\u001b[A\n",
      " 50%|█████     | 317/631 [01:07<01:06,  4.71it/s]\u001b[A\n",
      " 50%|█████     | 318/631 [01:07<01:04,  4.84it/s]\u001b[A\n",
      " 51%|█████     | 319/631 [01:08<01:03,  4.92it/s]\u001b[A\n",
      " 51%|█████     | 320/631 [01:08<01:10,  4.40it/s]\u001b[A\n",
      " 51%|█████     | 321/631 [01:08<01:10,  4.42it/s]\u001b[A\n",
      " 51%|█████     | 322/631 [01:08<01:09,  4.46it/s]\u001b[A\n",
      " 51%|█████     | 323/631 [01:09<01:06,  4.61it/s]\u001b[A\n",
      " 51%|█████▏    | 324/631 [01:09<01:05,  4.66it/s]\u001b[A\n",
      " 52%|█████▏    | 325/631 [01:09<01:03,  4.80it/s]\u001b[A\n",
      " 52%|█████▏    | 326/631 [01:09<01:02,  4.87it/s]\u001b[A\n",
      " 52%|█████▏    | 327/631 [01:09<01:01,  4.94it/s]\u001b[A\n",
      " 52%|█████▏    | 328/631 [01:10<01:01,  4.92it/s]\u001b[A\n",
      " 52%|█████▏    | 329/631 [01:10<01:00,  4.96it/s]\u001b[A\n",
      " 52%|█████▏    | 330/631 [01:10<01:00,  4.98it/s]\u001b[A\n",
      " 52%|█████▏    | 331/631 [01:10<01:00,  4.98it/s]\u001b[A\n",
      " 53%|█████▎    | 332/631 [01:10<00:59,  4.99it/s]\u001b[A\n",
      " 53%|█████▎    | 333/631 [01:11<00:59,  5.04it/s]\u001b[A\n",
      " 53%|█████▎    | 334/631 [01:11<01:00,  4.91it/s]\u001b[A\n",
      " 53%|█████▎    | 335/631 [01:11<01:00,  4.90it/s]\u001b[A\n",
      " 53%|█████▎    | 336/631 [01:11<01:00,  4.91it/s]\u001b[A\n",
      " 53%|█████▎    | 337/631 [01:11<01:00,  4.87it/s]\u001b[A\n",
      " 54%|█████▎    | 338/631 [01:12<01:00,  4.84it/s]\u001b[A\n",
      " 54%|█████▎    | 339/631 [01:12<01:00,  4.84it/s]\u001b[A\n",
      " 54%|█████▍    | 340/631 [01:12<00:59,  4.88it/s]\u001b[A\n",
      " 54%|█████▍    | 341/631 [01:12<00:58,  4.96it/s]\u001b[A\n",
      " 54%|█████▍    | 342/631 [01:12<00:58,  4.92it/s]\u001b[A\n",
      " 54%|█████▍    | 343/631 [01:13<00:58,  4.91it/s]\u001b[A\n",
      " 55%|█████▍    | 344/631 [01:13<00:59,  4.85it/s]\u001b[A\n",
      " 55%|█████▍    | 345/631 [01:13<00:58,  4.86it/s]\u001b[A\n",
      " 55%|█████▍    | 346/631 [01:13<01:01,  4.66it/s]\u001b[A\n",
      " 55%|█████▍    | 347/631 [01:13<00:59,  4.74it/s]\u001b[A\n",
      " 55%|█████▌    | 348/631 [01:14<01:00,  4.67it/s]\u001b[A\n",
      " 55%|█████▌    | 349/631 [01:14<00:58,  4.79it/s]\u001b[A\n",
      " 55%|█████▌    | 350/631 [01:14<00:57,  4.90it/s]\u001b[A\n",
      " 56%|█████▌    | 351/631 [01:14<00:56,  4.94it/s]\u001b[A\n",
      " 56%|█████▌    | 352/631 [01:14<01:00,  4.62it/s]\u001b[A\n",
      " 56%|█████▌    | 353/631 [01:15<00:59,  4.70it/s]\u001b[A\n",
      " 56%|█████▌    | 354/631 [01:15<00:58,  4.74it/s]\u001b[A\n",
      " 56%|█████▋    | 355/631 [01:15<00:57,  4.77it/s]\u001b[A\n",
      " 56%|█████▋    | 356/631 [01:15<01:00,  4.58it/s]\u001b[A\n",
      " 57%|█████▋    | 357/631 [01:16<00:59,  4.62it/s]\u001b[A\n",
      " 57%|█████▋    | 358/631 [01:16<00:58,  4.69it/s]\u001b[A\n",
      " 57%|█████▋    | 359/631 [01:16<00:57,  4.71it/s]\u001b[A\n",
      " 57%|█████▋    | 360/631 [01:16<00:57,  4.73it/s]\u001b[A\n",
      " 57%|█████▋    | 361/631 [01:16<00:56,  4.76it/s]\u001b[A\n",
      " 57%|█████▋    | 362/631 [01:17<00:55,  4.85it/s]\u001b[A\n",
      " 58%|█████▊    | 363/631 [01:17<00:55,  4.87it/s]\u001b[A\n",
      " 58%|█████▊    | 364/631 [01:17<00:54,  4.86it/s]\u001b[A\n",
      " 58%|█████▊    | 365/631 [01:17<00:53,  4.93it/s]\u001b[A\n",
      " 58%|█████▊    | 366/631 [01:17<00:52,  5.03it/s]\u001b[A\n",
      " 58%|█████▊    | 367/631 [01:18<00:52,  5.08it/s]\u001b[A\n",
      " 58%|█████▊    | 368/631 [01:18<00:55,  4.73it/s]\u001b[A\n",
      " 58%|█████▊    | 369/631 [01:18<00:55,  4.72it/s]\u001b[A\n",
      " 59%|█████▊    | 370/631 [01:18<00:55,  4.73it/s]\u001b[A\n",
      " 59%|█████▉    | 371/631 [01:18<00:55,  4.72it/s]\u001b[A\n",
      " 59%|█████▉    | 372/631 [01:19<00:57,  4.51it/s]\u001b[A\n",
      " 59%|█████▉    | 373/631 [01:19<00:55,  4.64it/s]\u001b[A\n",
      " 59%|█████▉    | 374/631 [01:19<00:54,  4.70it/s]\u001b[A\n",
      " 59%|█████▉    | 375/631 [01:19<00:53,  4.80it/s]\u001b[A\n",
      " 60%|█████▉    | 376/631 [01:20<00:53,  4.81it/s]\u001b[A\n",
      " 60%|█████▉    | 377/631 [01:20<00:52,  4.84it/s]\u001b[A\n",
      " 60%|█████▉    | 378/631 [01:20<00:51,  4.91it/s]\u001b[A\n",
      " 60%|██████    | 379/631 [01:20<00:50,  5.03it/s]\u001b[A\n",
      " 60%|██████    | 380/631 [01:20<00:50,  5.01it/s]\u001b[A\n",
      " 60%|██████    | 381/631 [01:21<00:50,  4.99it/s]\u001b[A\n",
      " 61%|██████    | 382/631 [01:21<00:49,  4.99it/s]\u001b[A\n",
      " 61%|██████    | 383/631 [01:21<00:49,  5.04it/s]\u001b[A\n",
      " 61%|██████    | 384/631 [01:21<00:53,  4.61it/s]\u001b[A\n",
      " 61%|██████    | 385/631 [01:21<00:52,  4.65it/s]\u001b[A\n",
      " 61%|██████    | 386/631 [01:22<00:52,  4.66it/s]\u001b[A\n",
      " 61%|██████▏   | 387/631 [01:22<00:50,  4.79it/s]\u001b[A\n",
      " 61%|██████▏   | 388/631 [01:22<00:49,  4.88it/s]\u001b[A\n",
      " 62%|██████▏   | 389/631 [01:22<00:49,  4.91it/s]\u001b[A\n",
      " 62%|██████▏   | 390/631 [01:22<00:48,  4.94it/s]\u001b[A\n",
      " 62%|██████▏   | 391/631 [01:23<00:49,  4.86it/s]\u001b[A\n",
      " 62%|██████▏   | 392/631 [01:23<00:49,  4.82it/s]\u001b[A\n",
      " 62%|██████▏   | 393/631 [01:23<00:52,  4.53it/s]\u001b[A\n",
      " 62%|██████▏   | 394/631 [01:23<00:51,  4.61it/s]\u001b[A\n",
      " 63%|██████▎   | 395/631 [01:23<00:50,  4.67it/s]\u001b[A\n",
      " 63%|██████▎   | 396/631 [01:24<00:49,  4.75it/s]\u001b[A\n",
      " 63%|██████▎   | 397/631 [01:24<00:48,  4.78it/s]\u001b[A\n",
      " 63%|██████▎   | 398/631 [01:24<00:47,  4.85it/s]\u001b[A\n",
      " 63%|██████▎   | 399/631 [01:24<00:47,  4.92it/s]\u001b[A\n",
      " 63%|██████▎   | 400/631 [01:24<00:46,  4.95it/s]\u001b[A\n",
      " 64%|██████▎   | 401/631 [01:25<00:47,  4.89it/s]\u001b[A\n",
      " 64%|██████▎   | 402/631 [01:25<00:46,  4.98it/s]\u001b[A\n",
      " 64%|██████▍   | 403/631 [01:25<00:45,  5.04it/s]\u001b[A\n",
      " 64%|██████▍   | 404/631 [01:25<00:45,  5.00it/s]\u001b[A\n",
      " 64%|██████▍   | 405/631 [01:25<00:44,  5.03it/s]\u001b[A\n",
      " 64%|██████▍   | 406/631 [01:26<00:47,  4.73it/s]\u001b[A\n",
      " 65%|██████▍   | 407/631 [01:26<00:47,  4.75it/s]\u001b[A\n",
      " 65%|██████▍   | 408/631 [01:26<00:46,  4.81it/s]\u001b[A\n",
      " 65%|██████▍   | 409/631 [01:26<00:47,  4.70it/s]\u001b[A\n",
      " 65%|██████▍   | 410/631 [01:27<00:47,  4.66it/s]\u001b[A\n",
      " 65%|██████▌   | 411/631 [01:27<00:46,  4.71it/s]\u001b[A\n",
      " 65%|██████▌   | 412/631 [01:27<00:45,  4.80it/s]\u001b[A\n",
      " 65%|██████▌   | 413/631 [01:27<00:52,  4.18it/s]\u001b[A\n",
      " 66%|██████▌   | 414/631 [01:28<00:56,  3.82it/s]\u001b[A\n",
      " 66%|██████▌   | 415/631 [01:28<00:59,  3.60it/s]\u001b[A\n",
      " 66%|██████▌   | 416/631 [01:28<01:01,  3.51it/s]\u001b[A\n",
      " 66%|██████▌   | 417/631 [01:29<01:05,  3.25it/s]\u001b[A\n",
      " 66%|██████▌   | 418/631 [01:29<01:05,  3.25it/s]\u001b[A\n",
      " 66%|██████▋   | 419/631 [01:29<01:05,  3.23it/s]\u001b[A\n",
      " 67%|██████▋   | 420/631 [01:29<01:01,  3.43it/s]\u001b[A\n",
      " 67%|██████▋   | 421/631 [01:30<00:57,  3.67it/s]\u001b[A\n",
      " 67%|██████▋   | 422/631 [01:30<00:53,  3.89it/s]\u001b[A\n",
      " 67%|██████▋   | 423/631 [01:30<00:50,  4.14it/s]\u001b[A\n",
      " 67%|██████▋   | 424/631 [01:30<00:48,  4.28it/s]\u001b[A\n",
      " 67%|██████▋   | 425/631 [01:31<00:46,  4.41it/s]\u001b[A\n",
      " 68%|██████▊   | 426/631 [01:31<00:46,  4.41it/s]\u001b[A\n",
      " 68%|██████▊   | 427/631 [01:31<00:45,  4.50it/s]\u001b[A\n",
      " 68%|██████▊   | 428/631 [01:31<00:44,  4.59it/s]\u001b[A\n",
      " 68%|██████▊   | 429/631 [01:31<00:44,  4.58it/s]\u001b[A\n",
      " 68%|██████▊   | 430/631 [01:32<00:43,  4.58it/s]\u001b[A\n",
      " 68%|██████▊   | 431/631 [01:32<00:43,  4.62it/s]\u001b[A\n",
      " 68%|██████▊   | 432/631 [01:32<00:42,  4.67it/s]\u001b[A\n",
      " 69%|██████▊   | 433/631 [01:32<00:43,  4.58it/s]\u001b[A\n",
      " 69%|██████▉   | 434/631 [01:32<00:43,  4.51it/s]\u001b[A\n",
      " 69%|██████▉   | 435/631 [01:33<00:42,  4.64it/s]\u001b[A\n",
      " 69%|██████▉   | 436/631 [01:33<00:41,  4.72it/s]\u001b[A\n",
      " 69%|██████▉   | 437/631 [01:33<00:41,  4.68it/s]\u001b[A\n",
      " 69%|██████▉   | 438/631 [01:33<00:42,  4.56it/s]\u001b[A\n",
      " 70%|██████▉   | 439/631 [01:34<00:40,  4.70it/s]\u001b[A\n",
      " 70%|██████▉   | 440/631 [01:34<00:40,  4.70it/s]\u001b[A\n",
      " 70%|██████▉   | 441/631 [01:34<00:40,  4.70it/s]\u001b[A\n",
      " 70%|███████   | 442/631 [01:34<00:40,  4.64it/s]\u001b[A\n",
      " 70%|███████   | 443/631 [01:34<00:39,  4.73it/s]\u001b[A\n",
      " 70%|███████   | 444/631 [01:35<00:38,  4.83it/s]\u001b[A\n",
      " 71%|███████   | 445/631 [01:35<00:38,  4.86it/s]\u001b[A\n",
      " 71%|███████   | 446/631 [01:35<00:38,  4.87it/s]\u001b[A\n",
      " 71%|███████   | 447/631 [01:35<00:38,  4.77it/s]\u001b[A\n",
      " 71%|███████   | 448/631 [01:35<00:39,  4.67it/s]\u001b[A\n",
      " 71%|███████   | 449/631 [01:36<00:40,  4.44it/s]\u001b[A\n",
      " 71%|███████▏  | 450/631 [01:36<00:44,  4.11it/s]\u001b[A\n",
      " 71%|███████▏  | 451/631 [01:36<00:43,  4.17it/s]\u001b[A\n",
      " 72%|███████▏  | 452/631 [01:36<00:41,  4.34it/s]\u001b[A\n",
      " 72%|███████▏  | 453/631 [01:37<00:39,  4.51it/s]\u001b[A\n",
      " 72%|███████▏  | 454/631 [01:37<00:41,  4.31it/s]\u001b[A\n",
      " 72%|███████▏  | 455/631 [01:37<00:39,  4.42it/s]\u001b[A\n",
      " 72%|███████▏  | 456/631 [01:37<00:38,  4.56it/s]\u001b[A\n",
      " 72%|███████▏  | 457/631 [01:37<00:37,  4.66it/s]\u001b[A\n",
      " 73%|███████▎  | 458/631 [01:38<00:37,  4.64it/s]\u001b[A\n",
      " 73%|███████▎  | 459/631 [01:38<00:36,  4.74it/s]\u001b[A\n",
      " 73%|███████▎  | 460/631 [01:38<00:35,  4.84it/s]\u001b[A\n",
      " 73%|███████▎  | 461/631 [01:38<00:34,  4.91it/s]\u001b[A\n",
      " 73%|███████▎  | 462/631 [01:39<00:34,  4.86it/s]\u001b[A\n",
      " 73%|███████▎  | 463/631 [01:39<00:34,  4.92it/s]\u001b[A\n",
      " 74%|███████▎  | 464/631 [01:39<00:33,  5.01it/s]\u001b[A\n",
      " 74%|███████▎  | 465/631 [01:39<00:33,  5.01it/s]\u001b[A\n",
      " 74%|███████▍  | 466/631 [01:39<00:32,  5.03it/s]\u001b[A\n",
      " 74%|███████▍  | 467/631 [01:40<00:33,  4.97it/s]\u001b[A\n",
      " 74%|███████▍  | 468/631 [01:40<00:32,  5.03it/s]\u001b[A\n",
      " 74%|███████▍  | 469/631 [01:40<00:32,  5.01it/s]\u001b[A\n",
      " 74%|███████▍  | 470/631 [01:40<00:32,  4.91it/s]\u001b[A\n",
      " 75%|███████▍  | 471/631 [01:40<00:32,  4.88it/s]\u001b[A\n",
      " 75%|███████▍  | 472/631 [01:41<00:32,  4.85it/s]\u001b[A\n",
      " 75%|███████▍  | 473/631 [01:41<00:33,  4.78it/s]\u001b[A\n",
      " 75%|███████▌  | 474/631 [01:41<00:33,  4.75it/s]\u001b[A\n",
      " 75%|███████▌  | 475/631 [01:41<00:33,  4.68it/s]\u001b[A\n",
      " 75%|███████▌  | 476/631 [01:41<00:32,  4.71it/s]\u001b[A\n",
      " 76%|███████▌  | 477/631 [01:42<00:32,  4.75it/s]\u001b[A\n",
      " 76%|███████▌  | 478/631 [01:42<00:33,  4.52it/s]\u001b[A\n",
      " 76%|███████▌  | 479/631 [01:42<00:34,  4.43it/s]\u001b[A\n",
      " 76%|███████▌  | 480/631 [01:42<00:34,  4.42it/s]\u001b[A\n",
      " 76%|███████▌  | 481/631 [01:43<00:33,  4.51it/s]\u001b[A\n",
      " 76%|███████▋  | 482/631 [01:43<00:33,  4.51it/s]\u001b[A\n",
      " 77%|███████▋  | 483/631 [01:43<00:37,  3.90it/s]\u001b[A\n",
      " 77%|███████▋  | 484/631 [01:43<00:35,  4.10it/s]\u001b[A\n",
      " 77%|███████▋  | 485/631 [01:43<00:33,  4.33it/s]\u001b[A\n",
      " 77%|███████▋  | 486/631 [01:44<00:32,  4.51it/s]\u001b[A\n",
      " 77%|███████▋  | 487/631 [01:44<00:31,  4.54it/s]\u001b[A\n",
      " 77%|███████▋  | 488/631 [01:44<00:30,  4.62it/s]\u001b[A\n",
      " 77%|███████▋  | 489/631 [01:44<00:30,  4.66it/s]\u001b[A\n",
      " 78%|███████▊  | 490/631 [01:45<00:30,  4.69it/s]\u001b[A\n",
      " 78%|███████▊  | 491/631 [01:45<00:34,  4.01it/s]\u001b[A\n",
      " 78%|███████▊  | 492/631 [01:45<00:37,  3.67it/s]\u001b[A\n",
      " 78%|███████▊  | 493/631 [01:46<00:39,  3.51it/s]\u001b[A\n",
      " 78%|███████▊  | 494/631 [01:46<00:37,  3.63it/s]\u001b[A\n",
      " 78%|███████▊  | 495/631 [01:46<00:40,  3.38it/s]\u001b[A\n",
      " 79%|███████▊  | 496/631 [01:46<00:40,  3.32it/s]\u001b[A\n",
      " 79%|███████▉  | 497/631 [01:47<00:40,  3.28it/s]\u001b[A\n",
      " 79%|███████▉  | 498/631 [01:47<00:41,  3.24it/s]\u001b[A\n",
      " 79%|███████▉  | 499/631 [01:47<00:43,  3.05it/s]\u001b[A\n",
      " 79%|███████▉  | 500/631 [01:48<00:43,  3.02it/s]\u001b[A\n",
      " 79%|███████▉  | 501/631 [01:48<00:42,  3.06it/s]\u001b[A\n",
      " 80%|███████▉  | 502/631 [01:48<00:42,  3.02it/s]\u001b[A\n",
      " 80%|███████▉  | 503/631 [01:49<00:44,  2.89it/s]\u001b[A\n",
      " 80%|███████▉  | 504/631 [01:49<00:42,  2.95it/s]\u001b[A\n",
      " 80%|████████  | 505/631 [01:49<00:41,  3.03it/s]\u001b[A\n",
      " 80%|████████  | 506/631 [01:50<00:38,  3.26it/s]\u001b[A\n",
      " 80%|████████  | 507/631 [01:50<00:38,  3.23it/s]\u001b[A\n",
      " 81%|████████  | 508/631 [01:50<00:38,  3.20it/s]\u001b[A\n",
      " 81%|████████  | 509/631 [01:51<00:36,  3.38it/s]\u001b[A\n",
      " 81%|████████  | 510/631 [01:51<00:36,  3.32it/s]\u001b[A\n",
      " 81%|████████  | 511/631 [01:51<00:35,  3.41it/s]\u001b[A\n",
      " 81%|████████  | 512/631 [01:51<00:35,  3.38it/s]\u001b[A\n",
      " 81%|████████▏ | 513/631 [01:52<00:36,  3.28it/s]\u001b[A\n",
      " 81%|████████▏ | 514/631 [01:52<00:36,  3.24it/s]\u001b[A\n",
      " 82%|████████▏ | 515/631 [01:52<00:33,  3.45it/s]\u001b[A\n",
      " 82%|████████▏ | 516/631 [01:53<00:34,  3.37it/s]\u001b[A\n",
      " 82%|████████▏ | 517/631 [01:53<00:33,  3.41it/s]\u001b[A\n",
      " 82%|████████▏ | 518/631 [01:53<00:30,  3.69it/s]\u001b[A\n",
      " 82%|████████▏ | 519/631 [01:53<00:28,  3.98it/s]\u001b[A\n",
      " 82%|████████▏ | 520/631 [01:54<00:26,  4.15it/s]\u001b[A\n",
      " 83%|████████▎ | 521/631 [01:54<00:25,  4.39it/s]\u001b[A\n",
      " 83%|████████▎ | 522/631 [01:54<00:23,  4.56it/s]\u001b[A\n",
      " 83%|████████▎ | 523/631 [01:54<00:23,  4.62it/s]\u001b[A\n",
      " 83%|████████▎ | 524/631 [01:54<00:22,  4.73it/s]\u001b[A\n",
      " 83%|████████▎ | 525/631 [01:55<00:26,  4.04it/s]\u001b[A\n",
      " 83%|████████▎ | 526/631 [01:55<00:25,  4.05it/s]\u001b[A\n",
      " 84%|████████▎ | 527/631 [01:55<00:24,  4.26it/s]\u001b[A\n",
      " 84%|████████▎ | 528/631 [01:55<00:23,  4.44it/s]\u001b[A\n",
      " 84%|████████▍ | 529/631 [01:56<00:23,  4.41it/s]\u001b[A\n",
      " 84%|████████▍ | 530/631 [01:56<00:26,  3.86it/s]\u001b[A\n",
      " 84%|████████▍ | 531/631 [01:56<00:24,  4.08it/s]\u001b[A\n",
      " 84%|████████▍ | 532/631 [01:56<00:23,  4.22it/s]\u001b[A\n",
      " 84%|████████▍ | 533/631 [01:57<00:23,  4.24it/s]\u001b[A\n",
      " 85%|████████▍ | 534/631 [01:57<00:22,  4.35it/s]\u001b[A\n",
      " 85%|████████▍ | 535/631 [01:57<00:21,  4.39it/s]\u001b[A\n",
      " 85%|████████▍ | 536/631 [01:57<00:21,  4.42it/s]\u001b[A\n",
      " 85%|████████▌ | 537/631 [01:57<00:20,  4.48it/s]\u001b[A\n",
      " 85%|████████▌ | 538/631 [01:58<00:20,  4.52it/s]\u001b[A\n",
      " 85%|████████▌ | 539/631 [01:58<00:20,  4.47it/s]\u001b[A\n",
      " 86%|████████▌ | 540/631 [01:58<00:20,  4.41it/s]\u001b[A\n",
      " 86%|████████▌ | 541/631 [01:58<00:20,  4.46it/s]\u001b[A\n",
      " 86%|████████▌ | 542/631 [01:59<00:22,  3.92it/s]\u001b[A\n",
      " 86%|████████▌ | 543/631 [01:59<00:24,  3.57it/s]\u001b[A\n",
      " 86%|████████▌ | 544/631 [01:59<00:24,  3.55it/s]\u001b[A\n",
      " 86%|████████▋ | 545/631 [02:00<00:21,  3.92it/s]\u001b[A\n",
      " 87%|████████▋ | 546/631 [02:00<00:23,  3.68it/s]\u001b[A\n",
      " 87%|████████▋ | 547/631 [02:00<00:22,  3.71it/s]\u001b[A\n",
      " 87%|████████▋ | 548/631 [02:00<00:23,  3.46it/s]\u001b[A\n",
      " 87%|████████▋ | 549/631 [02:01<00:21,  3.76it/s]\u001b[A\n",
      " 87%|████████▋ | 550/631 [02:01<00:21,  3.82it/s]\u001b[A\n",
      " 87%|████████▋ | 551/631 [02:01<00:19,  4.07it/s]\u001b[A\n",
      " 87%|████████▋ | 552/631 [02:01<00:19,  3.97it/s]\u001b[A\n",
      " 88%|████████▊ | 553/631 [02:02<00:18,  4.25it/s]\u001b[A\n",
      " 88%|████████▊ | 554/631 [02:02<00:17,  4.43it/s]\u001b[A\n",
      " 88%|████████▊ | 555/631 [02:02<00:16,  4.60it/s]\u001b[A\n",
      " 88%|████████▊ | 556/631 [02:02<00:16,  4.49it/s]\u001b[A\n",
      " 88%|████████▊ | 557/631 [02:02<00:15,  4.64it/s]\u001b[A\n",
      " 88%|████████▊ | 558/631 [02:03<00:16,  4.41it/s]\u001b[A\n",
      " 89%|████████▊ | 559/631 [02:03<00:17,  4.00it/s]\u001b[A\n",
      " 89%|████████▊ | 560/631 [02:03<00:20,  3.46it/s]\u001b[A\n",
      " 89%|████████▉ | 561/631 [02:04<00:20,  3.36it/s]\u001b[A\n",
      " 89%|████████▉ | 562/631 [02:04<00:20,  3.29it/s]\u001b[A\n",
      " 89%|████████▉ | 563/631 [02:04<00:20,  3.27it/s]\u001b[A\n",
      " 89%|████████▉ | 564/631 [02:05<00:20,  3.25it/s]\u001b[A\n",
      " 90%|████████▉ | 565/631 [02:05<00:20,  3.19it/s]\u001b[A\n",
      " 90%|████████▉ | 566/631 [02:05<00:20,  3.17it/s]\u001b[A\n",
      " 90%|████████▉ | 567/631 [02:06<00:20,  3.15it/s]\u001b[A\n",
      " 90%|█████████ | 568/631 [02:06<00:20,  3.13it/s]\u001b[A\n",
      " 90%|█████████ | 569/631 [02:06<00:19,  3.10it/s]\u001b[A\n",
      " 90%|█████████ | 570/631 [02:07<00:19,  3.16it/s]\u001b[A\n",
      " 90%|█████████ | 571/631 [02:07<00:19,  3.14it/s]\u001b[A\n",
      " 91%|█████████ | 572/631 [02:07<00:18,  3.16it/s]\u001b[A\n",
      " 91%|█████████ | 573/631 [02:08<00:19,  3.03it/s]\u001b[A\n",
      " 91%|█████████ | 574/631 [02:08<00:18,  3.05it/s]\u001b[A\n",
      " 91%|█████████ | 575/631 [02:08<00:18,  3.09it/s]\u001b[A\n",
      " 91%|█████████▏| 576/631 [02:08<00:17,  3.10it/s]\u001b[A\n",
      " 91%|█████████▏| 577/631 [02:09<00:17,  3.11it/s]\u001b[A\n",
      " 92%|█████████▏| 578/631 [02:09<00:16,  3.16it/s]\u001b[A\n",
      " 92%|█████████▏| 579/631 [02:09<00:16,  3.16it/s]\u001b[A\n",
      " 92%|█████████▏| 580/631 [02:10<00:16,  3.17it/s]\u001b[A\n",
      " 92%|█████████▏| 581/631 [02:10<00:16,  3.02it/s]\u001b[A\n",
      " 92%|█████████▏| 582/631 [02:10<00:14,  3.30it/s]\u001b[A\n",
      " 92%|█████████▏| 583/631 [02:11<00:13,  3.63it/s]\u001b[A\n",
      " 93%|█████████▎| 584/631 [02:11<00:11,  3.95it/s]\u001b[A\n",
      " 93%|█████████▎| 585/631 [02:11<00:11,  4.10it/s]\u001b[A\n",
      " 93%|█████████▎| 586/631 [02:11<00:11,  3.87it/s]\u001b[A\n",
      " 93%|█████████▎| 587/631 [02:12<00:11,  3.80it/s]\u001b[A\n",
      " 93%|█████████▎| 588/631 [02:12<00:11,  3.74it/s]\u001b[A\n",
      " 93%|█████████▎| 589/631 [02:12<00:10,  4.06it/s]\u001b[A\n",
      " 94%|█████████▎| 590/631 [02:12<00:09,  4.31it/s]\u001b[A\n",
      " 94%|█████████▎| 591/631 [02:12<00:08,  4.52it/s]\u001b[A\n",
      " 94%|█████████▍| 592/631 [02:13<00:08,  4.62it/s]\u001b[A\n",
      " 94%|█████████▍| 593/631 [02:13<00:08,  4.69it/s]\u001b[A\n",
      " 94%|█████████▍| 594/631 [02:13<00:07,  4.65it/s]\u001b[A\n",
      " 94%|█████████▍| 595/631 [02:13<00:07,  4.63it/s]\u001b[A\n",
      " 94%|█████████▍| 596/631 [02:13<00:07,  4.71it/s]\u001b[A\n",
      " 95%|█████████▍| 597/631 [02:14<00:07,  4.63it/s]\u001b[A\n",
      " 95%|█████████▍| 598/631 [02:14<00:07,  4.70it/s]\u001b[A\n",
      " 95%|█████████▍| 599/631 [02:14<00:06,  4.74it/s]\u001b[A\n",
      " 95%|█████████▌| 600/631 [02:14<00:06,  4.79it/s]\u001b[A\n",
      " 95%|█████████▌| 601/631 [02:15<00:06,  4.81it/s]\u001b[A\n",
      " 95%|█████████▌| 602/631 [02:15<00:05,  4.85it/s]\u001b[A\n",
      " 96%|█████████▌| 603/631 [02:15<00:05,  4.84it/s]\u001b[A\n",
      " 96%|█████████▌| 604/631 [02:15<00:05,  4.84it/s]\u001b[A\n",
      " 96%|█████████▌| 605/631 [02:15<00:05,  4.86it/s]\u001b[A\n",
      " 96%|█████████▌| 606/631 [02:16<00:05,  4.87it/s]\u001b[A\n",
      " 96%|█████████▌| 607/631 [02:16<00:04,  4.95it/s]\u001b[A\n",
      " 96%|█████████▋| 608/631 [02:16<00:04,  4.95it/s]\u001b[A\n",
      " 97%|█████████▋| 609/631 [02:16<00:04,  4.92it/s]\u001b[A\n",
      " 97%|█████████▋| 610/631 [02:16<00:04,  4.77it/s]\u001b[A\n",
      " 97%|█████████▋| 611/631 [02:17<00:04,  4.69it/s]\u001b[A\n",
      " 97%|█████████▋| 612/631 [02:17<00:04,  4.74it/s]\u001b[A\n",
      " 97%|█████████▋| 613/631 [02:17<00:03,  4.76it/s]\u001b[A\n",
      " 97%|█████████▋| 614/631 [02:17<00:03,  4.77it/s]\u001b[A\n",
      " 97%|█████████▋| 615/631 [02:17<00:03,  4.74it/s]\u001b[A\n",
      " 98%|█████████▊| 616/631 [02:18<00:03,  4.78it/s]\u001b[A\n",
      " 98%|█████████▊| 617/631 [02:18<00:02,  4.85it/s]\u001b[A\n"
     ]
    },
    {
     "name": "stderr",
     "output_type": "stream",
     "text": [
      " 98%|█████████▊| 618/631 [02:18<00:02,  4.79it/s]\u001b[A\n",
      " 98%|█████████▊| 619/631 [02:18<00:02,  4.88it/s]\u001b[A\n",
      " 98%|█████████▊| 620/631 [02:18<00:02,  4.79it/s]\u001b[A\n",
      " 98%|█████████▊| 621/631 [02:19<00:02,  4.80it/s]\u001b[A\n",
      " 99%|█████████▊| 622/631 [02:19<00:01,  4.80it/s]\u001b[A\n",
      " 99%|█████████▊| 623/631 [02:19<00:01,  4.77it/s]\u001b[A\n",
      " 99%|█████████▉| 624/631 [02:19<00:01,  4.78it/s]\u001b[A\n",
      " 99%|█████████▉| 625/631 [02:19<00:01,  4.90it/s]\u001b[A\n",
      " 99%|█████████▉| 626/631 [02:20<00:01,  4.94it/s]\u001b[A\n",
      " 99%|█████████▉| 627/631 [02:20<00:00,  4.97it/s]\u001b[A\n",
      "100%|█████████▉| 628/631 [02:20<00:00,  4.95it/s]\u001b[A\n",
      "100%|█████████▉| 629/631 [02:20<00:00,  5.01it/s]\u001b[A\n",
      "100%|█████████▉| 630/631 [02:20<00:00,  4.93it/s]\u001b[A\n",
      "100%|██████████| 631/631 [02:21<00:00,  4.47it/s]\u001b[A\n"
     ]
    }
   ],
   "source": [
    "negrank_deepmatcher,flippedneg_deepmatcher = explainSamples(corrects_deepmatcher,[dblp,acm],dblpacm_deepmatcher,predict_fn_deepmatcher,\n",
    "                                        0,3)"
   ]
  },
  {
   "cell_type": "code",
   "execution_count": 61,
   "metadata": {
    "ExecuteTime": {
     "end_time": "2020-06-06T09:21:19.482432Z",
     "start_time": "2020-06-06T09:21:06.305556Z"
    }
   },
   "outputs": [
    {
     "name": "stderr",
     "output_type": "stream",
     "text": [
      "\n",
      "  0%|          | 0/604 [00:00<?, ?it/s]\u001b[A\n",
      "  1%|          | 5/604 [00:00<00:12, 47.54it/s]\u001b[A\n",
      "  2%|▏         | 11/604 [00:00<00:12, 48.03it/s]\u001b[A\n",
      "  3%|▎         | 17/604 [00:00<00:11, 49.30it/s]\u001b[A\n",
      "  4%|▍         | 23/604 [00:00<00:11, 51.15it/s]\u001b[A\n",
      "  5%|▍         | 29/604 [00:00<00:11, 51.53it/s]\u001b[A\n",
      "  6%|▌         | 34/604 [00:00<00:11, 50.61it/s]\u001b[A\n",
      "  6%|▋         | 39/604 [00:00<00:11, 48.27it/s]\u001b[A\n",
      "  7%|▋         | 44/604 [00:00<00:11, 47.14it/s]\u001b[A\n",
      "  8%|▊         | 49/604 [00:01<00:11, 46.91it/s]\u001b[A\n",
      "  9%|▉         | 54/604 [00:01<00:11, 47.45it/s]\u001b[A\n",
      " 10%|▉         | 60/604 [00:01<00:10, 49.61it/s]\u001b[A\n",
      " 11%|█         | 65/604 [00:01<00:10, 49.42it/s]\u001b[A\n",
      " 12%|█▏        | 70/604 [00:01<00:10, 49.53it/s]\u001b[A\n",
      " 12%|█▏        | 75/604 [00:01<00:11, 46.61it/s]\u001b[A\n",
      " 13%|█▎        | 80/604 [00:01<00:11, 46.77it/s]\u001b[A\n",
      " 14%|█▍        | 85/604 [00:01<00:10, 47.51it/s]\u001b[A\n",
      " 15%|█▌        | 91/604 [00:01<00:10, 48.31it/s]\u001b[A\n",
      " 16%|█▌        | 97/604 [00:01<00:10, 47.68it/s]\u001b[A\n",
      " 17%|█▋        | 103/604 [00:02<00:10, 49.33it/s]\u001b[A\n",
      " 18%|█▊        | 108/604 [00:02<00:11, 44.38it/s]\u001b[A\n",
      " 19%|█▊        | 113/604 [00:02<00:11, 44.39it/s]\u001b[A\n",
      " 20%|█▉        | 118/604 [00:02<00:10, 44.34it/s]\u001b[A\n",
      " 20%|██        | 123/604 [00:02<00:11, 43.54it/s]\u001b[A\n",
      " 21%|██        | 128/604 [00:02<00:10, 43.74it/s]\u001b[A\n",
      " 22%|██▏       | 133/604 [00:02<00:10, 43.64it/s]\u001b[A\n",
      " 23%|██▎       | 138/604 [00:02<00:10, 44.20it/s]\u001b[A\n",
      " 24%|██▍       | 144/604 [00:03<00:09, 46.28it/s]\u001b[A\n",
      " 25%|██▍       | 150/604 [00:03<00:09, 47.73it/s]\u001b[A\n",
      " 26%|██▌       | 155/604 [00:03<00:09, 48.38it/s]\u001b[A\n",
      " 27%|██▋       | 161/604 [00:03<00:08, 49.52it/s]\u001b[A\n",
      " 28%|██▊       | 167/604 [00:03<00:08, 50.10it/s]\u001b[A\n",
      " 29%|██▊       | 173/604 [00:03<00:08, 50.20it/s]\u001b[A\n",
      " 30%|██▉       | 179/604 [00:03<00:08, 50.42it/s]\u001b[A\n",
      " 31%|███       | 185/604 [00:03<00:08, 50.78it/s]\u001b[A\n",
      " 32%|███▏      | 191/604 [00:03<00:08, 50.87it/s]\u001b[A\n",
      " 33%|███▎      | 197/604 [00:04<00:07, 51.60it/s]\u001b[A\n",
      " 34%|███▎      | 203/604 [00:04<00:07, 52.14it/s]\u001b[A\n",
      " 35%|███▍      | 209/604 [00:04<00:07, 52.51it/s]\u001b[A\n",
      " 36%|███▌      | 215/604 [00:04<00:07, 52.16it/s]\u001b[A\n",
      " 37%|███▋      | 221/604 [00:04<00:07, 52.13it/s]\u001b[A\n",
      " 38%|███▊      | 227/604 [00:04<00:07, 52.16it/s]\u001b[A\n",
      " 39%|███▊      | 233/604 [00:04<00:06, 53.01it/s]\u001b[A\n",
      " 40%|███▉      | 239/604 [00:04<00:06, 52.37it/s]\u001b[A\n",
      " 41%|████      | 245/604 [00:04<00:06, 52.95it/s]\u001b[A\n",
      " 42%|████▏     | 251/604 [00:05<00:06, 52.93it/s]\u001b[A\n",
      " 43%|████▎     | 257/604 [00:05<00:06, 51.02it/s]\u001b[A\n",
      " 44%|████▎     | 263/604 [00:05<00:06, 51.96it/s]\u001b[A\n",
      " 45%|████▍     | 269/604 [00:05<00:06, 52.64it/s]\u001b[A\n",
      " 46%|████▌     | 275/604 [00:05<00:06, 52.33it/s]\u001b[A\n",
      " 47%|████▋     | 281/604 [00:05<00:06, 52.30it/s]\u001b[A\n",
      " 48%|████▊     | 287/604 [00:05<00:06, 52.71it/s]\u001b[A\n",
      " 49%|████▊     | 293/604 [00:05<00:06, 51.69it/s]\u001b[A\n",
      " 50%|████▉     | 299/604 [00:06<00:06, 49.27it/s]\u001b[A\n",
      " 50%|█████     | 304/604 [00:06<00:06, 47.86it/s]\u001b[A\n",
      " 51%|█████     | 309/604 [00:06<00:06, 47.63it/s]\u001b[A\n",
      " 52%|█████▏    | 315/604 [00:06<00:05, 48.78it/s]\u001b[A\n",
      " 53%|█████▎    | 320/604 [00:06<00:06, 45.04it/s]\u001b[A\n",
      " 54%|█████▍    | 325/604 [00:06<00:07, 39.11it/s]\u001b[A\n",
      " 55%|█████▍    | 330/604 [00:06<00:06, 39.24it/s]\u001b[A\n",
      " 55%|█████▌    | 335/604 [00:06<00:06, 41.04it/s]\u001b[A\n",
      " 56%|█████▋    | 340/604 [00:07<00:06, 42.88it/s]\u001b[A\n",
      " 57%|█████▋    | 345/604 [00:07<00:14, 17.42it/s]\u001b[A\n",
      " 58%|█████▊    | 351/604 [00:07<00:11, 21.78it/s]\u001b[A\n",
      " 59%|█████▉    | 356/604 [00:07<00:09, 25.93it/s]\u001b[A\n",
      " 60%|█████▉    | 361/604 [00:08<00:08, 29.55it/s]\u001b[A\n",
      " 61%|██████    | 366/604 [00:08<00:07, 33.09it/s]\u001b[A\n",
      " 61%|██████▏   | 371/604 [00:08<00:06, 35.98it/s]\u001b[A\n",
      " 62%|██████▏   | 376/604 [00:08<00:05, 39.26it/s]\u001b[A\n",
      " 63%|██████▎   | 381/604 [00:08<00:05, 40.33it/s]\u001b[A\n",
      " 64%|██████▍   | 386/604 [00:08<00:05, 42.45it/s]\u001b[A\n",
      " 65%|██████▍   | 392/604 [00:08<00:04, 45.32it/s]\u001b[A\n",
      " 66%|██████▌   | 397/604 [00:08<00:04, 46.12it/s]\u001b[A\n",
      " 67%|██████▋   | 403/604 [00:08<00:04, 48.48it/s]\u001b[A\n",
      " 68%|██████▊   | 409/604 [00:09<00:03, 49.81it/s]\u001b[A\n",
      " 69%|██████▊   | 415/604 [00:09<00:03, 50.24it/s]\u001b[A\n",
      " 70%|██████▉   | 421/604 [00:09<00:03, 50.67it/s]\u001b[A\n",
      " 71%|███████   | 427/604 [00:09<00:03, 51.22it/s]\u001b[A\n",
      " 72%|███████▏  | 433/604 [00:09<00:03, 50.87it/s]\u001b[A\n",
      " 73%|███████▎  | 439/604 [00:09<00:03, 50.62it/s]\u001b[A\n",
      " 74%|███████▎  | 445/604 [00:09<00:03, 51.50it/s]\u001b[A\n",
      " 75%|███████▍  | 451/604 [00:09<00:02, 52.48it/s]\u001b[A\n",
      " 76%|███████▌  | 457/604 [00:09<00:02, 52.84it/s]\u001b[A\n",
      " 77%|███████▋  | 463/604 [00:10<00:02, 52.82it/s]\u001b[A\n",
      " 78%|███████▊  | 469/604 [00:10<00:02, 52.30it/s]\u001b[A\n",
      " 79%|███████▊  | 475/604 [00:10<00:02, 51.80it/s]\u001b[A\n",
      " 80%|███████▉  | 481/604 [00:10<00:02, 52.25it/s]\u001b[A\n",
      " 81%|████████  | 487/604 [00:10<00:02, 51.79it/s]\u001b[A\n",
      " 82%|████████▏ | 493/604 [00:10<00:02, 51.71it/s]\u001b[A\n",
      " 83%|████████▎ | 499/604 [00:10<00:02, 51.69it/s]\u001b[A\n",
      " 84%|████████▎ | 505/604 [00:10<00:01, 52.50it/s]\u001b[A\n",
      " 85%|████████▍ | 511/604 [00:10<00:01, 52.77it/s]\u001b[A\n",
      " 86%|████████▌ | 517/604 [00:11<00:01, 52.73it/s]\u001b[A\n",
      " 87%|████████▋ | 523/604 [00:11<00:01, 51.53it/s]\u001b[A\n",
      " 88%|████████▊ | 529/604 [00:11<00:01, 51.76it/s]\u001b[A\n",
      " 89%|████████▊ | 535/604 [00:11<00:01, 51.72it/s]\u001b[A\n",
      " 90%|████████▉ | 541/604 [00:11<00:01, 51.80it/s]\u001b[A\n",
      " 91%|█████████ | 547/604 [00:11<00:01, 51.71it/s]\u001b[A\n",
      " 92%|█████████▏| 553/604 [00:11<00:00, 51.70it/s]\u001b[A\n",
      " 93%|█████████▎| 559/604 [00:11<00:00, 52.33it/s]\u001b[A\n",
      " 94%|█████████▎| 565/604 [00:12<00:00, 51.77it/s]\u001b[A\n",
      " 95%|█████████▍| 571/604 [00:12<00:00, 51.97it/s]\u001b[A\n",
      " 96%|█████████▌| 577/604 [00:12<00:00, 52.07it/s]\u001b[A\n",
      " 97%|█████████▋| 583/604 [00:12<00:00, 53.21it/s]\u001b[A\n",
      " 98%|█████████▊| 589/604 [00:12<00:00, 52.62it/s]\u001b[A\n",
      " 99%|█████████▊| 595/604 [00:12<00:00, 52.45it/s]\u001b[A\n",
      "100%|██████████| 604/604 [00:12<00:00, 47.36it/s]\u001b[A\n"
     ]
    }
   ],
   "source": [
    "posrank_deeper,flippedpos_deeper = explainSamples(corrects_deeper,[dblp,acm],dblpacm_deeper,predict_fn_deeper,\n",
    "                                   1,3)"
   ]
  },
  {
   "cell_type": "code",
   "execution_count": 62,
   "metadata": {
    "ExecuteTime": {
     "end_time": "2020-06-06T09:23:55.659880Z",
     "start_time": "2020-06-06T09:21:19.484074Z"
    }
   },
   "outputs": [
    {
     "name": "stderr",
     "output_type": "stream",
     "text": [
      "\n",
      "  0%|          | 0/631 [00:00<?, ?it/s]\u001b[A\n",
      "  0%|          | 1/631 [00:00<02:44,  3.84it/s]\u001b[A\n",
      "  0%|          | 2/631 [00:00<02:34,  4.07it/s]\u001b[A\n",
      "  0%|          | 3/631 [00:00<02:24,  4.33it/s]\u001b[A\n",
      "  1%|          | 4/631 [00:00<02:18,  4.52it/s]\u001b[A\n",
      "  1%|          | 5/631 [00:01<02:14,  4.67it/s]\u001b[A\n",
      "  1%|          | 6/631 [00:01<02:11,  4.76it/s]\u001b[A\n",
      "  1%|          | 7/631 [00:01<02:09,  4.83it/s]\u001b[A\n",
      "  1%|▏         | 8/631 [00:01<02:07,  4.88it/s]\u001b[A\n",
      "  1%|▏         | 9/631 [00:01<02:05,  4.95it/s]\u001b[A\n",
      "  2%|▏         | 10/631 [00:02<02:04,  4.99it/s]\u001b[A\n",
      "  2%|▏         | 11/631 [00:02<02:05,  4.92it/s]\u001b[A\n",
      "  2%|▏         | 12/631 [00:02<02:06,  4.88it/s]\u001b[A\n",
      "  2%|▏         | 13/631 [00:02<02:05,  4.94it/s]\u001b[A\n",
      "  2%|▏         | 14/631 [00:02<02:03,  4.99it/s]\u001b[A\n",
      "  2%|▏         | 15/631 [00:03<02:02,  5.02it/s]\u001b[A\n",
      "  3%|▎         | 16/631 [00:03<02:00,  5.08it/s]\u001b[A\n",
      "  3%|▎         | 17/631 [00:03<01:59,  5.15it/s]\u001b[A\n",
      "  3%|▎         | 18/631 [00:03<01:58,  5.19it/s]\u001b[A\n",
      "  3%|▎         | 19/631 [00:03<01:57,  5.22it/s]\u001b[A\n",
      "  3%|▎         | 20/631 [00:04<01:56,  5.26it/s]\u001b[A\n",
      "  3%|▎         | 21/631 [00:04<01:55,  5.26it/s]\u001b[A\n",
      "  3%|▎         | 22/631 [00:04<01:55,  5.27it/s]\u001b[A\n",
      "  4%|▎         | 23/631 [00:04<02:03,  4.94it/s]\u001b[A\n",
      "  4%|▍         | 24/631 [00:04<02:23,  4.23it/s]\u001b[A\n",
      "  4%|▍         | 25/631 [00:05<02:37,  3.84it/s]\u001b[A\n",
      "  4%|▍         | 26/631 [00:05<02:46,  3.63it/s]\u001b[A\n",
      "  4%|▍         | 27/631 [00:05<03:02,  3.31it/s]\u001b[A\n",
      "  4%|▍         | 28/631 [00:06<03:01,  3.32it/s]\u001b[A\n",
      "  5%|▍         | 29/631 [00:06<03:01,  3.32it/s]\u001b[A\n",
      "  5%|▍         | 30/631 [00:06<03:00,  3.33it/s]\u001b[A\n",
      "  5%|▍         | 31/631 [00:07<03:02,  3.29it/s]\u001b[A\n",
      "  5%|▌         | 32/631 [00:07<03:05,  3.24it/s]\u001b[A\n",
      "  5%|▌         | 33/631 [00:07<03:05,  3.23it/s]\u001b[A\n",
      "  5%|▌         | 34/631 [00:08<03:06,  3.20it/s]\u001b[A\n",
      "  6%|▌         | 35/631 [00:08<03:06,  3.19it/s]\u001b[A\n",
      "  6%|▌         | 36/631 [00:08<03:07,  3.17it/s]\u001b[A\n",
      "  6%|▌         | 37/631 [00:09<03:07,  3.16it/s]\u001b[A\n",
      "  6%|▌         | 38/631 [00:09<03:08,  3.15it/s]\u001b[A\n",
      "  6%|▌         | 39/631 [00:09<03:08,  3.15it/s]\u001b[A\n",
      "  6%|▋         | 40/631 [00:10<03:11,  3.08it/s]\u001b[A\n",
      "  6%|▋         | 41/631 [00:10<03:09,  3.11it/s]\u001b[A\n",
      "  7%|▋         | 42/631 [00:10<03:08,  3.13it/s]\u001b[A\n",
      "  7%|▋         | 43/631 [00:10<03:12,  3.05it/s]\u001b[A\n",
      "  7%|▋         | 44/631 [00:11<03:14,  3.02it/s]\u001b[A\n",
      "  7%|▋         | 45/631 [00:11<03:11,  3.06it/s]\u001b[A\n",
      "  7%|▋         | 46/631 [00:11<03:08,  3.11it/s]\u001b[A\n",
      "  7%|▋         | 47/631 [00:12<03:09,  3.08it/s]\u001b[A\n",
      "  8%|▊         | 48/631 [00:12<03:05,  3.14it/s]\u001b[A\n",
      "  8%|▊         | 49/631 [00:12<03:03,  3.18it/s]\u001b[A\n",
      "  8%|▊         | 50/631 [00:13<03:03,  3.17it/s]\u001b[A\n",
      "  8%|▊         | 51/631 [00:13<03:01,  3.19it/s]\u001b[A\n",
      "  8%|▊         | 52/631 [00:13<03:01,  3.18it/s]\u001b[A\n",
      "  8%|▊         | 53/631 [00:14<03:02,  3.17it/s]\u001b[A\n",
      "  9%|▊         | 54/631 [00:14<03:00,  3.20it/s]\u001b[A\n",
      "  9%|▊         | 55/631 [00:14<03:02,  3.16it/s]\u001b[A\n",
      "  9%|▉         | 56/631 [00:15<03:07,  3.07it/s]\u001b[A\n",
      "  9%|▉         | 57/631 [00:15<03:05,  3.10it/s]\u001b[A\n",
      "  9%|▉         | 58/631 [00:15<03:04,  3.10it/s]\u001b[A\n",
      "  9%|▉         | 59/631 [00:16<03:06,  3.07it/s]\u001b[A\n",
      " 10%|▉         | 60/631 [00:16<03:07,  3.04it/s]\u001b[A\n",
      " 10%|▉         | 61/631 [00:16<03:04,  3.09it/s]\u001b[A\n",
      " 10%|▉         | 62/631 [00:17<03:08,  3.02it/s]\u001b[A\n",
      " 10%|▉         | 63/631 [00:17<03:03,  3.10it/s]\u001b[A\n",
      " 10%|█         | 64/631 [00:17<03:00,  3.15it/s]\u001b[A\n",
      " 10%|█         | 65/631 [00:18<02:57,  3.18it/s]\u001b[A\n",
      " 10%|█         | 66/631 [00:18<02:55,  3.22it/s]\u001b[A\n",
      " 11%|█         | 67/631 [00:18<02:54,  3.23it/s]\u001b[A\n",
      " 11%|█         | 68/631 [00:18<02:56,  3.19it/s]\u001b[A\n",
      " 11%|█         | 69/631 [00:19<02:56,  3.18it/s]\u001b[A\n",
      " 11%|█         | 70/631 [00:19<02:55,  3.19it/s]\u001b[A\n",
      " 11%|█▏        | 71/631 [00:19<02:55,  3.19it/s]\u001b[A\n",
      " 11%|█▏        | 72/631 [00:20<02:54,  3.20it/s]\u001b[A\n",
      " 12%|█▏        | 73/631 [00:20<02:56,  3.16it/s]\u001b[A\n",
      " 12%|█▏        | 74/631 [00:20<02:56,  3.16it/s]\u001b[A\n",
      " 12%|█▏        | 75/631 [00:21<02:58,  3.11it/s]\u001b[A\n",
      " 12%|█▏        | 76/631 [00:21<02:57,  3.13it/s]\u001b[A\n",
      " 12%|█▏        | 77/631 [00:21<03:03,  3.01it/s]\u001b[A\n",
      " 12%|█▏        | 78/631 [00:22<03:06,  2.97it/s]\u001b[A\n",
      " 13%|█▎        | 79/631 [00:22<03:00,  3.06it/s]\u001b[A\n",
      " 13%|█▎        | 80/631 [00:22<03:01,  3.04it/s]\u001b[A\n",
      " 13%|█▎        | 81/631 [00:23<03:01,  3.04it/s]\u001b[A\n",
      " 13%|█▎        | 82/631 [00:23<02:58,  3.07it/s]\u001b[A\n",
      " 13%|█▎        | 83/631 [00:23<02:50,  3.21it/s]\u001b[A\n",
      " 13%|█▎        | 84/631 [00:24<02:44,  3.33it/s]\u001b[A\n",
      " 13%|█▎        | 85/631 [00:24<02:33,  3.56it/s]\u001b[A\n",
      " 14%|█▎        | 86/631 [00:24<02:23,  3.79it/s]\u001b[A\n",
      " 14%|█▍        | 87/631 [00:24<02:16,  3.97it/s]\u001b[A\n",
      " 14%|█▍        | 88/631 [00:24<02:19,  3.90it/s]\u001b[A\n",
      " 14%|█▍        | 89/631 [00:25<02:14,  4.04it/s]\u001b[A\n",
      " 14%|█▍        | 90/631 [00:25<02:09,  4.17it/s]\u001b[A\n",
      " 14%|█▍        | 91/631 [00:25<02:06,  4.28it/s]\u001b[A\n",
      " 15%|█▍        | 92/631 [00:25<02:02,  4.40it/s]\u001b[A\n",
      " 15%|█▍        | 93/631 [00:26<02:02,  4.38it/s]\u001b[A\n",
      " 15%|█▍        | 94/631 [00:26<02:00,  4.44it/s]\u001b[A\n",
      " 15%|█▌        | 95/631 [00:26<01:59,  4.49it/s]\u001b[A\n",
      " 15%|█▌        | 96/631 [00:26<01:59,  4.46it/s]\u001b[A\n",
      " 15%|█▌        | 97/631 [00:26<01:58,  4.52it/s]\u001b[A\n",
      " 16%|█▌        | 98/631 [00:27<01:57,  4.55it/s]\u001b[A\n",
      " 16%|█▌        | 99/631 [00:27<02:01,  4.39it/s]\u001b[A\n",
      " 16%|█▌        | 100/631 [00:27<01:59,  4.44it/s]\u001b[A\n",
      " 16%|█▌        | 101/631 [00:27<02:04,  4.25it/s]\u001b[A\n",
      " 16%|█▌        | 102/631 [00:28<02:01,  4.36it/s]\u001b[A\n",
      " 16%|█▋        | 103/631 [00:28<01:57,  4.48it/s]\u001b[A\n",
      " 16%|█▋        | 104/631 [00:28<01:56,  4.54it/s]\u001b[A\n",
      " 17%|█▋        | 105/631 [00:28<01:54,  4.61it/s]\u001b[A\n",
      " 17%|█▋        | 106/631 [00:28<01:53,  4.64it/s]\u001b[A\n",
      " 17%|█▋        | 107/631 [00:29<01:53,  4.63it/s]\u001b[A\n",
      " 17%|█▋        | 108/631 [00:29<01:53,  4.62it/s]\u001b[A\n",
      " 17%|█▋        | 109/631 [00:29<01:59,  4.35it/s]\u001b[A\n",
      " 17%|█▋        | 110/631 [00:29<01:57,  4.44it/s]\u001b[A\n",
      " 18%|█▊        | 111/631 [00:30<01:58,  4.40it/s]\u001b[A\n",
      " 18%|█▊        | 112/631 [00:30<01:58,  4.39it/s]\u001b[A\n",
      " 18%|█▊        | 113/631 [00:30<01:58,  4.37it/s]\u001b[A\n",
      " 18%|█▊        | 114/631 [00:30<01:57,  4.40it/s]\u001b[A\n",
      " 18%|█▊        | 115/631 [00:31<01:55,  4.46it/s]\u001b[A\n",
      " 18%|█▊        | 116/631 [00:31<01:54,  4.48it/s]\u001b[A\n",
      " 19%|█▊        | 117/631 [00:31<01:52,  4.57it/s]\u001b[A\n",
      " 19%|█▊        | 118/631 [00:31<01:51,  4.61it/s]\u001b[A\n",
      " 19%|█▉        | 119/631 [00:31<01:51,  4.59it/s]\u001b[A\n",
      " 19%|█▉        | 120/631 [00:32<01:50,  4.63it/s]\u001b[A\n",
      " 19%|█▉        | 121/631 [00:32<01:49,  4.66it/s]\u001b[A\n",
      " 19%|█▉        | 122/631 [00:32<01:50,  4.62it/s]\u001b[A\n",
      " 19%|█▉        | 123/631 [00:32<01:50,  4.58it/s]\u001b[A\n",
      " 20%|█▉        | 124/631 [00:32<01:52,  4.50it/s]\u001b[A\n",
      " 20%|█▉        | 125/631 [00:33<01:50,  4.57it/s]\u001b[A\n",
      " 20%|█▉        | 126/631 [00:33<01:49,  4.62it/s]\u001b[A\n",
      " 20%|██        | 127/631 [00:33<01:49,  4.61it/s]\u001b[A\n",
      " 20%|██        | 128/631 [00:33<01:56,  4.31it/s]\u001b[A\n",
      " 20%|██        | 129/631 [00:34<01:54,  4.40it/s]\u001b[A\n",
      " 21%|██        | 130/631 [00:34<01:55,  4.34it/s]\u001b[A\n",
      " 21%|██        | 131/631 [00:34<01:54,  4.38it/s]\u001b[A\n",
      " 21%|██        | 132/631 [00:34<01:51,  4.46it/s]\u001b[A\n",
      " 21%|██        | 133/631 [00:35<01:51,  4.49it/s]\u001b[A\n",
      " 21%|██        | 134/631 [00:35<01:50,  4.48it/s]\u001b[A\n",
      " 21%|██▏       | 135/631 [00:35<01:48,  4.57it/s]\u001b[A\n",
      " 22%|██▏       | 136/631 [00:35<01:49,  4.52it/s]\u001b[A\n",
      " 22%|██▏       | 137/631 [00:35<01:54,  4.31it/s]\u001b[A\n",
      " 22%|██▏       | 138/631 [00:36<01:52,  4.36it/s]\u001b[A\n",
      " 22%|██▏       | 139/631 [00:36<01:49,  4.50it/s]\u001b[A\n",
      " 22%|██▏       | 140/631 [00:36<01:49,  4.49it/s]\u001b[A\n",
      " 22%|██▏       | 141/631 [00:36<01:59,  4.10it/s]\u001b[A\n",
      " 23%|██▎       | 142/631 [00:37<01:55,  4.25it/s]\u001b[A\n",
      " 23%|██▎       | 143/631 [00:37<01:52,  4.34it/s]\u001b[A\n",
      " 23%|██▎       | 144/631 [00:37<01:50,  4.40it/s]\u001b[A\n",
      " 23%|██▎       | 145/631 [00:37<02:02,  3.98it/s]\u001b[A\n",
      " 23%|██▎       | 146/631 [00:38<02:01,  3.99it/s]\u001b[A\n",
      " 23%|██▎       | 147/631 [00:38<02:02,  3.95it/s]\u001b[A\n",
      " 23%|██▎       | 148/631 [00:38<02:01,  3.98it/s]\u001b[A\n",
      " 24%|██▎       | 149/631 [00:38<01:56,  4.15it/s]\u001b[A\n",
      " 24%|██▍       | 150/631 [00:39<01:53,  4.25it/s]\u001b[A\n",
      " 24%|██▍       | 151/631 [00:39<01:55,  4.17it/s]\u001b[A\n",
      " 24%|██▍       | 152/631 [00:39<01:52,  4.26it/s]\u001b[A\n",
      " 24%|██▍       | 153/631 [00:39<01:59,  4.01it/s]\u001b[A\n",
      " 24%|██▍       | 154/631 [00:40<01:58,  4.02it/s]\u001b[A\n",
      " 25%|██▍       | 155/631 [00:40<01:52,  4.24it/s]\u001b[A\n",
      " 25%|██▍       | 156/631 [00:40<01:47,  4.41it/s]\u001b[A\n",
      " 25%|██▍       | 157/631 [00:40<01:56,  4.07it/s]\u001b[A\n",
      " 25%|██▌       | 158/631 [00:40<01:51,  4.25it/s]\u001b[A\n",
      " 25%|██▌       | 159/631 [00:41<01:49,  4.31it/s]\u001b[A\n",
      " 25%|██▌       | 160/631 [00:41<01:46,  4.41it/s]\u001b[A\n",
      " 26%|██▌       | 161/631 [00:41<01:45,  4.44it/s]\u001b[A\n",
      " 26%|██▌       | 162/631 [00:41<01:44,  4.47it/s]\u001b[A\n",
      " 26%|██▌       | 163/631 [00:42<01:42,  4.55it/s]\u001b[A\n",
      " 26%|██▌       | 164/631 [00:42<01:41,  4.62it/s]\u001b[A\n",
      " 26%|██▌       | 165/631 [00:42<01:40,  4.63it/s]\u001b[A\n",
      " 26%|██▋       | 166/631 [00:42<01:39,  4.68it/s]\u001b[A\n",
      " 26%|██▋       | 167/631 [00:42<01:37,  4.75it/s]\u001b[A\n",
      " 27%|██▋       | 168/631 [00:43<01:40,  4.60it/s]\u001b[A\n",
      " 27%|██▋       | 169/631 [00:43<01:40,  4.60it/s]\u001b[A\n",
      " 27%|██▋       | 170/631 [00:43<01:40,  4.58it/s]\u001b[A\n",
      " 27%|██▋       | 171/631 [00:43<01:40,  4.60it/s]\u001b[A\n",
      " 27%|██▋       | 172/631 [00:43<01:39,  4.62it/s]\u001b[A\n",
      " 27%|██▋       | 173/631 [00:44<01:41,  4.52it/s]\u001b[A\n",
      " 28%|██▊       | 174/631 [00:44<01:41,  4.52it/s]\u001b[A\n",
      " 28%|██▊       | 175/631 [00:44<01:41,  4.51it/s]\u001b[A\n",
      " 28%|██▊       | 176/631 [00:44<01:40,  4.51it/s]\u001b[A\n",
      " 28%|██▊       | 177/631 [00:45<01:41,  4.49it/s]\u001b[A\n",
      " 28%|██▊       | 178/631 [00:45<01:42,  4.41it/s]\u001b[A\n",
      " 28%|██▊       | 179/631 [00:45<01:41,  4.47it/s]\u001b[A\n",
      " 29%|██▊       | 180/631 [00:45<01:39,  4.54it/s]\u001b[A\n",
      " 29%|██▊       | 181/631 [00:46<01:46,  4.22it/s]\u001b[A\n",
      " 29%|██▉       | 182/631 [00:46<01:51,  4.01it/s]\u001b[A\n",
      " 29%|██▉       | 183/631 [00:46<01:52,  3.99it/s]\u001b[A\n",
      " 29%|██▉       | 184/631 [00:46<01:44,  4.29it/s]\u001b[A\n",
      " 29%|██▉       | 185/631 [00:46<01:39,  4.48it/s]\u001b[A\n",
      " 29%|██▉       | 186/631 [00:47<01:36,  4.60it/s]\u001b[A\n",
      " 30%|██▉       | 187/631 [00:47<01:34,  4.68it/s]\u001b[A\n",
      " 30%|██▉       | 188/631 [00:47<01:33,  4.76it/s]\u001b[A\n",
      " 30%|██▉       | 189/631 [00:47<01:47,  4.10it/s]\u001b[A\n",
      " 30%|███       | 190/631 [00:48<02:00,  3.66it/s]\u001b[A\n",
      " 30%|███       | 191/631 [00:48<02:04,  3.53it/s]\u001b[A\n",
      " 30%|███       | 192/631 [00:48<02:07,  3.43it/s]\u001b[A\n",
      " 31%|███       | 193/631 [00:49<02:09,  3.38it/s]\u001b[A\n",
      " 31%|███       | 194/631 [00:49<02:07,  3.44it/s]\u001b[A\n",
      " 31%|███       | 195/631 [00:49<01:56,  3.75it/s]\u001b[A\n",
      " 31%|███       | 196/631 [00:49<01:48,  4.01it/s]\u001b[A\n",
      " 31%|███       | 197/631 [00:50<01:46,  4.07it/s]\u001b[A\n",
      " 31%|███▏      | 198/631 [00:50<01:41,  4.28it/s]\u001b[A\n",
      " 32%|███▏      | 199/631 [00:50<01:36,  4.48it/s]\u001b[A\n",
      " 32%|███▏      | 200/631 [00:50<01:31,  4.71it/s]\u001b[A\n",
      " 32%|███▏      | 201/631 [00:50<01:29,  4.82it/s]\u001b[A\n",
      " 32%|███▏      | 202/631 [00:51<01:41,  4.21it/s]\u001b[A\n",
      " 32%|███▏      | 203/631 [00:51<01:51,  3.85it/s]\u001b[A\n",
      " 32%|███▏      | 204/631 [00:51<01:57,  3.63it/s]\u001b[A\n",
      " 32%|███▏      | 205/631 [00:52<02:01,  3.51it/s]\u001b[A\n",
      " 33%|███▎      | 206/631 [00:52<02:04,  3.42it/s]\u001b[A\n",
      " 33%|███▎      | 207/631 [00:52<02:03,  3.45it/s]\u001b[A\n",
      " 33%|███▎      | 208/631 [00:52<01:51,  3.80it/s]\u001b[A\n",
      " 33%|███▎      | 209/631 [00:53<01:41,  4.14it/s]\u001b[A\n",
      " 33%|███▎      | 210/631 [00:53<01:35,  4.40it/s]\u001b[A\n",
      " 33%|███▎      | 211/631 [00:53<01:32,  4.56it/s]\u001b[A\n",
      " 34%|███▎      | 212/631 [00:53<01:45,  3.99it/s]\u001b[A\n",
      " 34%|███▍      | 213/631 [00:54<01:52,  3.70it/s]\u001b[A\n",
      " 34%|███▍      | 214/631 [00:54<01:58,  3.53it/s]\u001b[A\n",
      " 34%|███▍      | 215/631 [00:54<02:02,  3.40it/s]\u001b[A\n",
      " 34%|███▍      | 216/631 [00:55<02:08,  3.24it/s]\u001b[A\n",
      " 34%|███▍      | 217/631 [00:55<01:57,  3.51it/s]\u001b[A\n",
      " 35%|███▍      | 218/631 [00:55<01:59,  3.45it/s]\u001b[A\n",
      " 35%|███▍      | 219/631 [00:55<01:50,  3.74it/s]\u001b[A\n",
      " 35%|███▍      | 220/631 [00:56<01:40,  4.10it/s]\u001b[A\n",
      " 35%|███▌      | 221/631 [00:56<01:46,  3.86it/s]\u001b[A\n",
      " 35%|███▌      | 222/631 [00:56<01:43,  3.96it/s]\u001b[A\n",
      " 35%|███▌      | 223/631 [00:56<01:36,  4.24it/s]\u001b[A\n",
      " 35%|███▌      | 224/631 [00:57<01:38,  4.15it/s]\u001b[A\n",
      " 36%|███▌      | 225/631 [00:57<01:34,  4.28it/s]\u001b[A\n",
      " 36%|███▌      | 226/631 [00:57<01:30,  4.49it/s]\u001b[A\n",
      " 36%|███▌      | 227/631 [00:57<01:36,  4.19it/s]\u001b[A\n",
      " 36%|███▌      | 228/631 [00:57<01:31,  4.43it/s]\u001b[A\n",
      " 36%|███▋      | 229/631 [00:58<01:27,  4.61it/s]\u001b[A\n",
      " 36%|███▋      | 230/631 [00:58<01:25,  4.68it/s]\u001b[A\n",
      " 37%|███▋      | 231/631 [00:58<01:24,  4.74it/s]\u001b[A\n",
      " 37%|███▋      | 232/631 [00:58<01:31,  4.38it/s]\u001b[A\n",
      " 37%|███▋      | 233/631 [00:58<01:27,  4.56it/s]\u001b[A\n",
      " 37%|███▋      | 234/631 [00:59<01:27,  4.53it/s]\u001b[A\n",
      " 37%|███▋      | 235/631 [00:59<01:25,  4.66it/s]\u001b[A\n",
      " 37%|███▋      | 236/631 [00:59<01:22,  4.78it/s]\u001b[A\n",
      " 38%|███▊      | 237/631 [00:59<01:24,  4.65it/s]\u001b[A\n",
      " 38%|███▊      | 238/631 [01:00<01:24,  4.68it/s]\u001b[A\n",
      " 38%|███▊      | 239/631 [01:00<01:23,  4.68it/s]\u001b[A\n",
      " 38%|███▊      | 240/631 [01:00<01:30,  4.32it/s]\u001b[A\n",
      " 38%|███▊      | 241/631 [01:00<01:25,  4.56it/s]\u001b[A\n",
      " 38%|███▊      | 242/631 [01:01<01:35,  4.09it/s]\u001b[A\n",
      " 39%|███▊      | 243/631 [01:01<01:46,  3.64it/s]\u001b[A\n",
      " 39%|███▊      | 244/631 [01:01<01:53,  3.42it/s]\u001b[A\n",
      " 39%|███▉      | 245/631 [01:02<01:58,  3.24it/s]\u001b[A\n",
      " 39%|███▉      | 246/631 [01:02<01:59,  3.21it/s]\u001b[A\n",
      " 39%|███▉      | 247/631 [01:02<01:48,  3.54it/s]\u001b[A\n",
      " 39%|███▉      | 248/631 [01:02<01:38,  3.88it/s]\u001b[A\n",
      " 39%|███▉      | 249/631 [01:02<01:32,  4.13it/s]\u001b[A\n",
      " 40%|███▉      | 250/631 [01:03<01:27,  4.34it/s]\u001b[A\n",
      " 40%|███▉      | 251/631 [01:03<01:32,  4.12it/s]\u001b[A\n",
      " 40%|███▉      | 252/631 [01:03<01:32,  4.08it/s]\u001b[A\n",
      " 40%|████      | 253/631 [01:03<01:31,  4.11it/s]\u001b[A\n",
      " 40%|████      | 254/631 [01:04<01:26,  4.36it/s]\u001b[A\n",
      " 40%|████      | 255/631 [01:04<01:32,  4.06it/s]\u001b[A\n",
      " 41%|████      | 256/631 [01:04<01:30,  4.14it/s]\u001b[A\n",
      " 41%|████      | 257/631 [01:04<01:26,  4.30it/s]\u001b[A\n",
      " 41%|████      | 258/631 [01:05<01:23,  4.48it/s]\u001b[A\n",
      " 41%|████      | 259/631 [01:05<01:30,  4.12it/s]\u001b[A\n",
      " 41%|████      | 260/631 [01:05<01:25,  4.32it/s]\u001b[A\n",
      " 41%|████▏     | 261/631 [01:05<01:28,  4.17it/s]\u001b[A\n",
      " 42%|████▏     | 262/631 [01:06<01:36,  3.82it/s]\u001b[A\n",
      " 42%|████▏     | 263/631 [01:06<01:35,  3.86it/s]\u001b[A\n",
      " 42%|████▏     | 264/631 [01:06<01:29,  4.08it/s]\u001b[A\n",
      " 42%|████▏     | 265/631 [01:06<01:25,  4.28it/s]\u001b[A\n",
      " 42%|████▏     | 266/631 [01:07<01:22,  4.45it/s]\u001b[A\n",
      " 42%|████▏     | 267/631 [01:07<01:22,  4.40it/s]\u001b[A\n",
      " 42%|████▏     | 268/631 [01:07<01:21,  4.48it/s]\u001b[A\n",
      " 43%|████▎     | 269/631 [01:07<01:19,  4.54it/s]\u001b[A\n",
      " 43%|████▎     | 270/631 [01:07<01:18,  4.63it/s]\u001b[A\n",
      " 43%|████▎     | 271/631 [01:08<01:25,  4.21it/s]\u001b[A\n",
      " 43%|████▎     | 272/631 [01:08<01:21,  4.40it/s]\u001b[A\n",
      " 43%|████▎     | 273/631 [01:08<01:18,  4.54it/s]\u001b[A\n",
      " 43%|████▎     | 274/631 [01:08<01:16,  4.64it/s]\u001b[A\n",
      " 44%|████▎     | 275/631 [01:08<01:15,  4.69it/s]\u001b[A\n",
      " 44%|████▎     | 276/631 [01:09<01:14,  4.80it/s]\u001b[A\n",
      " 44%|████▍     | 277/631 [01:09<01:12,  4.90it/s]\u001b[A\n",
      " 44%|████▍     | 278/631 [01:09<01:12,  4.88it/s]\u001b[A\n",
      " 44%|████▍     | 279/631 [01:09<01:11,  4.90it/s]\u001b[A\n",
      " 44%|████▍     | 280/631 [01:10<01:12,  4.86it/s]\u001b[A\n",
      " 45%|████▍     | 281/631 [01:10<01:13,  4.78it/s]\u001b[A\n",
      " 45%|████▍     | 282/631 [01:10<01:12,  4.84it/s]\u001b[A\n",
      " 45%|████▍     | 283/631 [01:10<01:23,  4.17it/s]\u001b[A\n",
      " 45%|████▌     | 284/631 [01:10<01:18,  4.40it/s]\u001b[A\n",
      " 45%|████▌     | 285/631 [01:11<01:15,  4.58it/s]\u001b[A\n",
      " 45%|████▌     | 286/631 [01:11<01:22,  4.16it/s]\u001b[A\n",
      " 45%|████▌     | 287/631 [01:11<01:29,  3.85it/s]\u001b[A\n",
      " 46%|████▌     | 288/631 [01:11<01:25,  4.01it/s]\u001b[A\n",
      " 46%|████▌     | 289/631 [01:12<01:20,  4.22it/s]\u001b[A\n",
      " 46%|████▌     | 290/631 [01:12<01:29,  3.80it/s]\u001b[A\n",
      " 46%|████▌     | 291/631 [01:12<01:36,  3.53it/s]\u001b[A\n",
      " 46%|████▋     | 292/631 [01:13<01:39,  3.39it/s]\u001b[A\n",
      " 46%|████▋     | 293/631 [01:13<01:41,  3.33it/s]\u001b[A\n",
      " 47%|████▋     | 294/631 [01:13<01:42,  3.29it/s]\u001b[A\n",
      " 47%|████▋     | 295/631 [01:14<01:44,  3.22it/s]\u001b[A\n",
      " 47%|████▋     | 296/631 [01:14<01:48,  3.08it/s]\u001b[A\n",
      " 47%|████▋     | 297/631 [01:14<01:36,  3.47it/s]\u001b[A\n",
      " 47%|████▋     | 298/631 [01:14<01:28,  3.76it/s]\u001b[A\n",
      " 47%|████▋     | 299/631 [01:15<01:21,  4.10it/s]\u001b[A\n",
      " 48%|████▊     | 300/631 [01:15<01:24,  3.93it/s]\u001b[A\n",
      " 48%|████▊     | 301/631 [01:15<01:19,  4.13it/s]\u001b[A\n",
      " 48%|████▊     | 302/631 [01:15<01:18,  4.18it/s]\u001b[A\n",
      " 48%|████▊     | 303/631 [01:15<01:14,  4.41it/s]\u001b[A\n",
      " 48%|████▊     | 304/631 [01:16<01:16,  4.30it/s]\u001b[A\n",
      " 48%|████▊     | 305/631 [01:16<01:21,  3.99it/s]\u001b[A\n",
      " 48%|████▊     | 306/631 [01:16<01:19,  4.09it/s]\u001b[A\n",
      " 49%|████▊     | 307/631 [01:16<01:16,  4.26it/s]\u001b[A\n",
      " 49%|████▉     | 308/631 [01:17<01:16,  4.21it/s]\u001b[A\n",
      " 49%|████▉     | 309/631 [01:17<01:21,  3.97it/s]\u001b[A\n"
     ]
    },
    {
     "name": "stderr",
     "output_type": "stream",
     "text": [
      " 49%|████▉     | 310/631 [01:17<01:15,  4.23it/s]\u001b[A\n",
      " 49%|████▉     | 311/631 [01:17<01:11,  4.45it/s]\u001b[A\n",
      " 49%|████▉     | 312/631 [01:18<01:13,  4.34it/s]\u001b[A\n",
      " 50%|████▉     | 313/631 [01:18<01:11,  4.46it/s]\u001b[A\n",
      " 50%|████▉     | 314/631 [01:18<01:09,  4.58it/s]\u001b[A\n",
      " 50%|████▉     | 315/631 [01:18<01:08,  4.61it/s]\u001b[A\n",
      " 50%|█████     | 316/631 [01:18<01:07,  4.68it/s]\u001b[A\n",
      " 50%|█████     | 317/631 [01:19<01:05,  4.81it/s]\u001b[A\n",
      " 50%|█████     | 318/631 [01:19<01:03,  4.90it/s]\u001b[A\n",
      " 51%|█████     | 319/631 [01:19<01:03,  4.93it/s]\u001b[A\n",
      " 51%|█████     | 320/631 [01:19<01:16,  4.06it/s]\u001b[A\n",
      " 51%|█████     | 321/631 [01:20<01:26,  3.60it/s]\u001b[A\n",
      " 51%|█████     | 322/631 [01:20<01:33,  3.29it/s]\u001b[A\n",
      " 51%|█████     | 323/631 [01:20<01:34,  3.26it/s]\u001b[A\n",
      " 51%|█████▏    | 324/631 [01:21<01:34,  3.23it/s]\u001b[A\n",
      " 52%|█████▏    | 325/631 [01:21<01:25,  3.56it/s]\u001b[A\n",
      " 52%|█████▏    | 326/631 [01:21<01:19,  3.84it/s]\u001b[A\n",
      " 52%|█████▏    | 327/631 [01:21<01:13,  4.16it/s]\u001b[A\n",
      " 52%|█████▏    | 328/631 [01:22<01:08,  4.39it/s]\u001b[A\n",
      " 52%|█████▏    | 329/631 [01:22<01:05,  4.58it/s]\u001b[A\n",
      " 52%|█████▏    | 330/631 [01:22<01:03,  4.70it/s]\u001b[A\n",
      " 52%|█████▏    | 331/631 [01:22<01:02,  4.78it/s]\u001b[A\n",
      " 53%|█████▎    | 332/631 [01:22<01:12,  4.10it/s]\u001b[A\n",
      " 53%|█████▎    | 333/631 [01:23<01:09,  4.27it/s]\u001b[A\n",
      " 53%|█████▎    | 334/631 [01:23<01:08,  4.36it/s]\u001b[A\n",
      " 53%|█████▎    | 335/631 [01:23<01:06,  4.45it/s]\u001b[A\n",
      " 53%|█████▎    | 336/631 [01:23<01:13,  4.02it/s]\u001b[A\n",
      " 53%|█████▎    | 337/631 [01:24<01:13,  4.00it/s]\u001b[A\n",
      " 54%|█████▎    | 338/631 [01:24<01:08,  4.25it/s]\u001b[A\n",
      " 54%|█████▎    | 339/631 [01:24<01:05,  4.44it/s]\u001b[A\n",
      " 54%|█████▍    | 340/631 [01:24<01:15,  3.84it/s]\u001b[A\n",
      " 54%|█████▍    | 341/631 [01:25<01:14,  3.88it/s]\u001b[A\n",
      " 54%|█████▍    | 342/631 [01:25<01:16,  3.80it/s]\u001b[A\n",
      " 54%|█████▍    | 343/631 [01:25<01:17,  3.73it/s]\u001b[A\n",
      " 55%|█████▍    | 344/631 [01:26<01:22,  3.46it/s]\u001b[A\n",
      " 55%|█████▍    | 345/631 [01:26<01:15,  3.78it/s]\u001b[A\n",
      " 55%|█████▍    | 346/631 [01:26<01:15,  3.78it/s]\u001b[A\n",
      " 55%|█████▍    | 347/631 [01:26<01:08,  4.13it/s]\u001b[A\n",
      " 55%|█████▌    | 348/631 [01:26<01:04,  4.39it/s]\u001b[A\n",
      " 55%|█████▌    | 349/631 [01:27<01:01,  4.61it/s]\u001b[A\n",
      " 55%|█████▌    | 350/631 [01:27<00:58,  4.77it/s]\u001b[A\n",
      " 56%|█████▌    | 351/631 [01:27<00:57,  4.85it/s]\u001b[A\n",
      " 56%|█████▌    | 352/631 [01:27<00:58,  4.80it/s]\u001b[A\n",
      " 56%|█████▌    | 353/631 [01:27<00:57,  4.81it/s]\u001b[A\n",
      " 56%|█████▌    | 354/631 [01:28<00:57,  4.82it/s]\u001b[A\n",
      " 56%|█████▋    | 355/631 [01:28<00:57,  4.82it/s]\u001b[A\n",
      " 56%|█████▋    | 356/631 [01:28<00:56,  4.86it/s]\u001b[A\n",
      " 57%|█████▋    | 357/631 [01:28<00:55,  4.90it/s]\u001b[A\n",
      " 57%|█████▋    | 358/631 [01:28<00:56,  4.81it/s]\u001b[A\n",
      " 57%|█████▋    | 359/631 [01:29<00:56,  4.83it/s]\u001b[A\n",
      " 57%|█████▋    | 360/631 [01:29<00:55,  4.85it/s]\u001b[A\n",
      " 57%|█████▋    | 361/631 [01:29<00:55,  4.88it/s]\u001b[A\n",
      " 57%|█████▋    | 362/631 [01:29<00:54,  4.92it/s]\u001b[A\n",
      " 58%|█████▊    | 363/631 [01:29<00:54,  4.95it/s]\u001b[A\n",
      " 58%|█████▊    | 364/631 [01:30<00:53,  4.98it/s]\u001b[A\n",
      " 58%|█████▊    | 365/631 [01:30<00:58,  4.53it/s]\u001b[A\n",
      " 58%|█████▊    | 366/631 [01:30<00:55,  4.74it/s]\u001b[A\n",
      " 58%|█████▊    | 367/631 [01:30<00:53,  4.89it/s]\u001b[A\n",
      " 58%|█████▊    | 368/631 [01:31<00:52,  4.96it/s]\u001b[A\n",
      " 58%|█████▊    | 369/631 [01:31<00:53,  4.92it/s]\u001b[A\n",
      " 59%|█████▊    | 370/631 [01:31<00:53,  4.89it/s]\u001b[A\n",
      " 59%|█████▉    | 371/631 [01:31<01:02,  4.19it/s]\u001b[A\n",
      " 59%|█████▉    | 372/631 [01:32<01:04,  4.02it/s]\u001b[A\n",
      " 59%|█████▉    | 373/631 [01:32<01:07,  3.83it/s]\u001b[A\n",
      " 59%|█████▉    | 374/631 [01:32<01:03,  4.07it/s]\u001b[A\n",
      " 59%|█████▉    | 375/631 [01:32<00:59,  4.29it/s]\u001b[A\n",
      " 60%|█████▉    | 376/631 [01:32<00:57,  4.44it/s]\u001b[A\n",
      " 60%|█████▉    | 377/631 [01:33<00:58,  4.33it/s]\u001b[A\n",
      " 60%|█████▉    | 378/631 [01:33<00:56,  4.49it/s]\u001b[A\n",
      " 60%|██████    | 379/631 [01:33<00:53,  4.67it/s]\u001b[A\n",
      " 60%|██████    | 380/631 [01:33<00:53,  4.69it/s]\u001b[A\n",
      " 60%|██████    | 381/631 [01:34<00:52,  4.72it/s]\u001b[A\n",
      " 61%|██████    | 382/631 [01:34<00:55,  4.46it/s]\u001b[A\n",
      " 61%|██████    | 383/631 [01:34<00:53,  4.65it/s]\u001b[A\n",
      " 61%|██████    | 384/631 [01:34<00:52,  4.69it/s]\u001b[A\n",
      " 61%|██████    | 385/631 [01:34<00:53,  4.60it/s]\u001b[A\n",
      " 61%|██████    | 386/631 [01:35<00:52,  4.65it/s]\u001b[A\n",
      " 61%|██████▏   | 387/631 [01:35<00:50,  4.79it/s]\u001b[A\n",
      " 61%|██████▏   | 388/631 [01:35<00:50,  4.82it/s]\u001b[A\n",
      " 62%|██████▏   | 389/631 [01:35<00:55,  4.32it/s]\u001b[A\n",
      " 62%|██████▏   | 390/631 [01:36<00:59,  4.03it/s]\u001b[A\n",
      " 62%|██████▏   | 391/631 [01:36<00:56,  4.24it/s]\u001b[A\n",
      " 62%|██████▏   | 392/631 [01:36<01:03,  3.79it/s]\u001b[A\n",
      " 62%|██████▏   | 393/631 [01:36<01:01,  3.86it/s]\u001b[A\n",
      " 62%|██████▏   | 394/631 [01:37<00:58,  4.03it/s]\u001b[A\n",
      " 63%|██████▎   | 395/631 [01:37<00:55,  4.22it/s]\u001b[A\n",
      " 63%|██████▎   | 396/631 [01:37<00:53,  4.41it/s]\u001b[A\n",
      " 63%|██████▎   | 397/631 [01:37<00:51,  4.55it/s]\u001b[A\n",
      " 63%|██████▎   | 398/631 [01:37<00:52,  4.43it/s]\u001b[A\n",
      " 63%|██████▎   | 399/631 [01:38<00:50,  4.56it/s]\u001b[A\n",
      " 63%|██████▎   | 400/631 [01:38<00:49,  4.68it/s]\u001b[A\n",
      " 64%|██████▎   | 401/631 [01:38<00:56,  4.06it/s]\u001b[A\n",
      " 64%|██████▎   | 402/631 [01:38<00:56,  4.03it/s]\u001b[A\n",
      " 64%|██████▍   | 403/631 [01:39<00:52,  4.31it/s]\u001b[A\n",
      " 64%|██████▍   | 404/631 [01:39<00:50,  4.48it/s]\u001b[A\n",
      " 64%|██████▍   | 405/631 [01:39<00:48,  4.64it/s]\u001b[A\n",
      " 64%|██████▍   | 406/631 [01:39<00:48,  4.64it/s]\u001b[A\n",
      " 65%|██████▍   | 407/631 [01:39<00:48,  4.59it/s]\u001b[A\n",
      " 65%|██████▍   | 408/631 [01:40<00:56,  3.92it/s]\u001b[A\n",
      " 65%|██████▍   | 409/631 [01:40<01:03,  3.52it/s]\u001b[A\n",
      " 65%|██████▍   | 410/631 [01:40<01:01,  3.60it/s]\u001b[A\n",
      " 65%|██████▌   | 411/631 [01:41<00:56,  3.89it/s]\u001b[A\n",
      " 65%|██████▌   | 412/631 [01:41<00:52,  4.17it/s]\u001b[A\n",
      " 65%|██████▌   | 413/631 [01:41<00:50,  4.33it/s]\u001b[A\n",
      " 66%|██████▌   | 414/631 [01:41<00:55,  3.89it/s]\u001b[A\n",
      " 66%|██████▌   | 415/631 [01:42<00:55,  3.89it/s]\u001b[A\n",
      " 66%|██████▌   | 416/631 [01:42<00:51,  4.16it/s]\u001b[A\n",
      " 66%|██████▌   | 417/631 [01:42<00:48,  4.37it/s]\u001b[A\n",
      " 66%|██████▌   | 418/631 [01:42<00:47,  4.50it/s]\u001b[A\n",
      " 66%|██████▋   | 419/631 [01:42<00:45,  4.65it/s]\u001b[A\n",
      " 67%|██████▋   | 420/631 [01:43<00:43,  4.81it/s]\u001b[A\n",
      " 67%|██████▋   | 421/631 [01:43<00:43,  4.88it/s]\u001b[A\n",
      " 67%|██████▋   | 422/631 [01:43<00:43,  4.83it/s]\u001b[A\n",
      " 67%|██████▋   | 423/631 [01:43<00:45,  4.57it/s]\u001b[A\n",
      " 67%|██████▋   | 424/631 [01:43<00:45,  4.58it/s]\u001b[A\n",
      " 67%|██████▋   | 425/631 [01:44<00:43,  4.72it/s]\u001b[A\n",
      " 68%|██████▊   | 426/631 [01:44<00:42,  4.80it/s]\u001b[A\n",
      " 68%|██████▊   | 427/631 [01:44<00:42,  4.81it/s]\u001b[A\n",
      " 68%|██████▊   | 428/631 [01:44<00:41,  4.87it/s]\u001b[A\n",
      " 68%|██████▊   | 429/631 [01:45<00:44,  4.56it/s]\u001b[A\n",
      " 68%|██████▊   | 430/631 [01:45<00:47,  4.24it/s]\u001b[A\n",
      " 68%|██████▊   | 431/631 [01:45<00:48,  4.11it/s]\u001b[A\n",
      " 68%|██████▊   | 432/631 [01:45<00:45,  4.36it/s]\u001b[A\n",
      " 69%|██████▊   | 433/631 [01:45<00:44,  4.47it/s]\u001b[A\n",
      " 69%|██████▉   | 434/631 [01:46<00:43,  4.52it/s]\u001b[A\n",
      " 69%|██████▉   | 435/631 [01:46<00:42,  4.65it/s]\u001b[A\n",
      " 69%|██████▉   | 436/631 [01:46<00:40,  4.77it/s]\u001b[A\n",
      " 69%|██████▉   | 437/631 [01:46<00:40,  4.81it/s]\u001b[A\n",
      " 69%|██████▉   | 438/631 [01:46<00:39,  4.85it/s]\u001b[A\n",
      " 70%|██████▉   | 439/631 [01:47<00:41,  4.61it/s]\u001b[A\n",
      " 70%|██████▉   | 440/631 [01:47<00:40,  4.67it/s]\u001b[A\n",
      " 70%|██████▉   | 441/631 [01:47<00:42,  4.52it/s]\u001b[A\n",
      " 70%|███████   | 442/631 [01:47<00:47,  3.94it/s]\u001b[A\n",
      " 70%|███████   | 443/631 [01:48<00:47,  3.97it/s]\u001b[A\n",
      " 70%|███████   | 444/631 [01:48<00:47,  3.91it/s]\u001b[A\n",
      " 71%|███████   | 445/631 [01:48<00:44,  4.16it/s]\u001b[A\n",
      " 71%|███████   | 446/631 [01:48<00:43,  4.21it/s]\u001b[A\n",
      " 71%|███████   | 447/631 [01:49<00:42,  4.34it/s]\u001b[A\n",
      " 71%|███████   | 448/631 [01:49<00:41,  4.44it/s]\u001b[A\n",
      " 71%|███████   | 449/631 [01:49<00:40,  4.53it/s]\u001b[A\n",
      " 71%|███████▏  | 450/631 [01:49<00:39,  4.63it/s]\u001b[A\n",
      " 71%|███████▏  | 451/631 [01:49<00:38,  4.74it/s]\u001b[A\n",
      " 72%|███████▏  | 452/631 [01:50<00:38,  4.70it/s]\u001b[A\n",
      " 72%|███████▏  | 453/631 [01:50<00:38,  4.59it/s]\u001b[A\n",
      " 72%|███████▏  | 454/631 [01:50<00:38,  4.57it/s]\u001b[A\n",
      " 72%|███████▏  | 455/631 [01:50<00:42,  4.10it/s]\u001b[A\n",
      " 72%|███████▏  | 456/631 [01:51<00:44,  3.97it/s]\u001b[A\n",
      " 72%|███████▏  | 457/631 [01:51<00:41,  4.19it/s]\u001b[A\n",
      " 73%|███████▎  | 458/631 [01:51<00:40,  4.29it/s]\u001b[A\n",
      " 73%|███████▎  | 459/631 [01:51<00:40,  4.26it/s]\u001b[A\n",
      " 73%|███████▎  | 460/631 [01:52<00:38,  4.50it/s]\u001b[A\n",
      " 73%|███████▎  | 461/631 [01:52<00:38,  4.37it/s]\u001b[A\n",
      " 73%|███████▎  | 462/631 [01:52<00:37,  4.54it/s]\u001b[A\n",
      " 73%|███████▎  | 463/631 [01:52<00:37,  4.43it/s]\u001b[A\n",
      " 74%|███████▎  | 464/631 [01:53<00:39,  4.18it/s]\u001b[A\n",
      " 74%|███████▎  | 465/631 [01:53<00:40,  4.07it/s]\u001b[A\n",
      " 74%|███████▍  | 466/631 [01:53<00:39,  4.23it/s]\u001b[A\n",
      " 74%|███████▍  | 467/631 [01:53<00:39,  4.20it/s]\u001b[A\n",
      " 74%|███████▍  | 468/631 [01:53<00:36,  4.44it/s]\u001b[A\n",
      " 74%|███████▍  | 469/631 [01:54<00:35,  4.59it/s]\u001b[A\n",
      " 74%|███████▍  | 470/631 [01:54<00:34,  4.67it/s]\u001b[A\n",
      " 75%|███████▍  | 471/631 [01:54<00:33,  4.72it/s]\u001b[A\n",
      " 75%|███████▍  | 472/631 [01:54<00:33,  4.69it/s]\u001b[A\n",
      " 75%|███████▍  | 473/631 [01:54<00:33,  4.69it/s]\u001b[A\n",
      " 75%|███████▌  | 474/631 [01:55<00:35,  4.39it/s]\u001b[A\n",
      " 75%|███████▌  | 475/631 [01:55<00:40,  3.85it/s]\u001b[A\n",
      " 75%|███████▌  | 476/631 [01:55<00:42,  3.62it/s]\u001b[A\n",
      " 76%|███████▌  | 477/631 [01:56<00:38,  3.99it/s]\u001b[A\n",
      " 76%|███████▌  | 478/631 [01:56<00:35,  4.28it/s]\u001b[A\n",
      " 76%|███████▌  | 479/631 [01:56<00:36,  4.16it/s]\u001b[A\n",
      " 76%|███████▌  | 480/631 [01:56<00:38,  3.97it/s]\u001b[A\n",
      " 76%|███████▌  | 481/631 [01:57<00:37,  3.98it/s]\u001b[A\n",
      " 76%|███████▋  | 482/631 [01:57<00:40,  3.65it/s]\u001b[A\n",
      " 77%|███████▋  | 483/631 [01:57<00:43,  3.37it/s]\u001b[A\n",
      " 77%|███████▋  | 484/631 [01:58<00:44,  3.29it/s]\u001b[A\n",
      " 77%|███████▋  | 485/631 [01:58<00:41,  3.48it/s]\u001b[A\n",
      " 77%|███████▋  | 486/631 [01:58<00:40,  3.58it/s]\u001b[A\n",
      " 77%|███████▋  | 487/631 [01:58<00:38,  3.71it/s]\u001b[A\n",
      " 77%|███████▋  | 488/631 [01:59<00:35,  4.00it/s]\u001b[A\n",
      " 77%|███████▋  | 489/631 [01:59<00:33,  4.20it/s]\u001b[A\n",
      " 78%|███████▊  | 490/631 [01:59<00:32,  4.37it/s]\u001b[A\n",
      " 78%|███████▊  | 491/631 [01:59<00:34,  4.05it/s]\u001b[A\n",
      " 78%|███████▊  | 492/631 [01:59<00:32,  4.25it/s]\u001b[A\n",
      " 78%|███████▊  | 493/631 [02:00<00:31,  4.44it/s]\u001b[A\n",
      " 78%|███████▊  | 494/631 [02:00<00:33,  4.04it/s]\u001b[A\n",
      " 78%|███████▊  | 495/631 [02:00<00:33,  4.06it/s]\u001b[A\n",
      " 79%|███████▊  | 496/631 [02:00<00:33,  4.00it/s]\u001b[A\n",
      " 79%|███████▉  | 497/631 [02:01<00:33,  4.03it/s]\u001b[A\n",
      " 79%|███████▉  | 498/631 [02:01<00:31,  4.26it/s]\u001b[A\n",
      " 79%|███████▉  | 499/631 [02:01<00:29,  4.43it/s]\u001b[A\n",
      " 79%|███████▉  | 500/631 [02:01<00:29,  4.46it/s]\u001b[A\n",
      " 79%|███████▉  | 501/631 [02:02<00:28,  4.62it/s]\u001b[A\n",
      " 80%|███████▉  | 502/631 [02:02<00:27,  4.63it/s]\u001b[A\n",
      " 80%|███████▉  | 503/631 [02:02<00:26,  4.76it/s]\u001b[A\n",
      " 80%|███████▉  | 504/631 [02:02<00:29,  4.33it/s]\u001b[A\n",
      " 80%|████████  | 505/631 [02:02<00:27,  4.53it/s]\u001b[A\n",
      " 80%|████████  | 506/631 [02:03<00:26,  4.67it/s]\u001b[A\n",
      " 80%|████████  | 507/631 [02:03<00:25,  4.77it/s]\u001b[A\n",
      " 81%|████████  | 508/631 [02:03<00:25,  4.80it/s]\u001b[A\n",
      " 81%|████████  | 509/631 [02:03<00:25,  4.85it/s]\u001b[A\n",
      " 81%|████████  | 510/631 [02:03<00:24,  4.90it/s]\u001b[A\n",
      " 81%|████████  | 511/631 [02:04<00:25,  4.79it/s]\u001b[A\n",
      " 81%|████████  | 512/631 [02:04<00:26,  4.44it/s]\u001b[A\n",
      " 81%|████████▏ | 513/631 [02:04<00:29,  4.02it/s]\u001b[A\n",
      " 81%|████████▏ | 514/631 [02:04<00:27,  4.20it/s]\u001b[A\n",
      " 82%|████████▏ | 515/631 [02:05<00:26,  4.42it/s]\u001b[A\n",
      " 82%|████████▏ | 516/631 [02:05<00:26,  4.35it/s]\u001b[A\n",
      " 82%|████████▏ | 517/631 [02:05<00:25,  4.44it/s]\u001b[A\n",
      " 82%|████████▏ | 518/631 [02:05<00:25,  4.44it/s]\u001b[A\n",
      " 82%|████████▏ | 519/631 [02:06<00:28,  3.97it/s]\u001b[A\n",
      " 82%|████████▏ | 520/631 [02:06<00:29,  3.79it/s]\u001b[A\n",
      " 83%|████████▎ | 521/631 [02:06<00:29,  3.77it/s]\u001b[A\n",
      " 83%|████████▎ | 522/631 [02:06<00:26,  4.09it/s]\u001b[A\n",
      " 83%|████████▎ | 523/631 [02:07<00:24,  4.33it/s]\u001b[A\n",
      " 83%|████████▎ | 524/631 [02:07<00:24,  4.34it/s]\u001b[A\n",
      " 83%|████████▎ | 525/631 [02:07<00:23,  4.45it/s]\u001b[A\n",
      " 83%|████████▎ | 526/631 [02:07<00:22,  4.62it/s]\u001b[A\n",
      " 84%|████████▎ | 527/631 [02:07<00:22,  4.67it/s]\u001b[A\n",
      " 84%|████████▎ | 528/631 [02:08<00:24,  4.19it/s]\u001b[A\n",
      " 84%|████████▍ | 529/631 [02:08<00:27,  3.75it/s]\u001b[A\n",
      " 84%|████████▍ | 530/631 [02:08<00:29,  3.46it/s]\u001b[A\n",
      " 84%|████████▍ | 531/631 [02:09<00:28,  3.50it/s]\u001b[A\n",
      " 84%|████████▍ | 532/631 [02:09<00:29,  3.32it/s]\u001b[A\n",
      " 84%|████████▍ | 533/631 [02:09<00:30,  3.18it/s]\u001b[A\n",
      " 85%|████████▍ | 534/631 [02:10<00:32,  3.01it/s]\u001b[A\n",
      " 85%|████████▍ | 535/631 [02:10<00:31,  3.05it/s]\u001b[A\n",
      " 85%|████████▍ | 536/631 [02:10<00:32,  2.95it/s]\u001b[A\n",
      " 85%|████████▌ | 537/631 [02:11<00:31,  3.01it/s]\u001b[A\n",
      " 85%|████████▌ | 538/631 [02:11<00:30,  3.06it/s]\u001b[A\n",
      " 85%|████████▌ | 539/631 [02:11<00:27,  3.39it/s]\u001b[A\n",
      " 86%|████████▌ | 540/631 [02:11<00:25,  3.57it/s]\u001b[A\n",
      " 86%|████████▌ | 541/631 [02:12<00:23,  3.90it/s]\u001b[A\n",
      " 86%|████████▌ | 542/631 [02:12<00:21,  4.15it/s]\u001b[A\n",
      " 86%|████████▌ | 543/631 [02:12<00:19,  4.40it/s]\u001b[A\n",
      " 86%|████████▌ | 544/631 [02:12<00:18,  4.58it/s]\u001b[A\n",
      " 86%|████████▋ | 545/631 [02:12<00:18,  4.72it/s]\u001b[A\n",
      " 87%|████████▋ | 546/631 [02:13<00:19,  4.45it/s]\u001b[A\n",
      " 87%|████████▋ | 547/631 [02:13<00:18,  4.55it/s]\u001b[A\n",
      " 87%|████████▋ | 548/631 [02:13<00:18,  4.52it/s]\u001b[A\n",
      " 87%|████████▋ | 549/631 [02:13<00:18,  4.46it/s]\u001b[A\n",
      " 87%|████████▋ | 550/631 [02:14<00:17,  4.58it/s]\u001b[A\n",
      " 87%|████████▋ | 551/631 [02:14<00:18,  4.42it/s]\u001b[A\n",
      " 87%|████████▋ | 552/631 [02:14<00:19,  3.96it/s]\u001b[A\n",
      " 88%|████████▊ | 553/631 [02:14<00:21,  3.68it/s]\u001b[A\n",
      " 88%|████████▊ | 554/631 [02:15<00:22,  3.48it/s]\u001b[A\n",
      " 88%|████████▊ | 555/631 [02:15<00:22,  3.34it/s]\u001b[A\n",
      " 88%|████████▊ | 556/631 [02:16<00:24,  3.09it/s]\u001b[A\n",
      " 88%|████████▊ | 557/631 [02:16<00:21,  3.38it/s]\u001b[A\n",
      " 88%|████████▊ | 558/631 [02:16<00:20,  3.62it/s]\u001b[A\n",
      " 89%|████████▊ | 559/631 [02:16<00:18,  3.89it/s]\u001b[A\n",
      " 89%|████████▊ | 560/631 [02:16<00:17,  4.12it/s]\u001b[A\n",
      " 89%|████████▉ | 561/631 [02:17<00:16,  4.29it/s]\u001b[A\n",
      " 89%|████████▉ | 562/631 [02:17<00:15,  4.40it/s]\u001b[A\n",
      " 89%|████████▉ | 563/631 [02:17<00:14,  4.58it/s]\u001b[A\n",
      " 89%|████████▉ | 564/631 [02:17<00:14,  4.69it/s]\u001b[A\n",
      " 90%|████████▉ | 565/631 [02:17<00:14,  4.70it/s]\u001b[A\n",
      " 90%|████████▉ | 566/631 [02:18<00:28,  2.29it/s]\u001b[A\n",
      " 90%|████████▉ | 567/631 [02:19<00:23,  2.69it/s]\u001b[A\n",
      " 90%|█████████ | 568/631 [02:19<00:20,  3.11it/s]\u001b[A\n",
      " 90%|█████████ | 569/631 [02:19<00:17,  3.49it/s]\u001b[A\n",
      " 90%|█████████ | 570/631 [02:19<00:15,  3.87it/s]\u001b[A\n",
      " 90%|█████████ | 571/631 [02:19<00:14,  4.12it/s]\u001b[A\n",
      " 91%|█████████ | 572/631 [02:20<00:13,  4.33it/s]\u001b[A\n",
      " 91%|█████████ | 573/631 [02:20<00:12,  4.55it/s]\u001b[A\n",
      " 91%|█████████ | 574/631 [02:20<00:12,  4.65it/s]\u001b[A\n",
      " 91%|█████████ | 575/631 [02:20<00:11,  4.75it/s]\u001b[A\n",
      " 91%|█████████▏| 576/631 [02:20<00:11,  4.82it/s]\u001b[A\n",
      " 91%|█████████▏| 577/631 [02:21<00:11,  4.82it/s]\u001b[A\n",
      " 92%|█████████▏| 578/631 [02:21<00:10,  4.88it/s]\u001b[A\n",
      " 92%|█████████▏| 579/631 [02:21<00:10,  4.86it/s]\u001b[A\n",
      " 92%|█████████▏| 580/631 [02:21<00:10,  4.88it/s]\u001b[A\n",
      " 92%|█████████▏| 581/631 [02:21<00:10,  4.61it/s]\u001b[A\n",
      " 92%|█████████▏| 582/631 [02:22<00:12,  4.04it/s]\u001b[A\n",
      " 92%|█████████▏| 583/631 [02:22<00:12,  3.78it/s]\u001b[A\n",
      " 93%|█████████▎| 584/631 [02:22<00:13,  3.59it/s]\u001b[A\n",
      " 93%|█████████▎| 585/631 [02:23<00:13,  3.39it/s]\u001b[A\n",
      " 93%|█████████▎| 586/631 [02:23<00:13,  3.29it/s]\u001b[A\n",
      " 93%|█████████▎| 587/631 [02:23<00:14,  3.13it/s]\u001b[A\n",
      " 93%|█████████▎| 588/631 [02:24<00:12,  3.38it/s]\u001b[A\n",
      " 93%|█████████▎| 589/631 [02:24<00:11,  3.59it/s]\u001b[A\n",
      " 94%|█████████▎| 590/631 [02:24<00:10,  3.91it/s]\u001b[A\n",
      " 94%|█████████▎| 591/631 [02:24<00:09,  4.24it/s]\u001b[A\n",
      " 94%|█████████▍| 592/631 [02:25<00:08,  4.42it/s]\u001b[A\n",
      " 94%|█████████▍| 593/631 [02:25<00:08,  4.58it/s]\u001b[A\n",
      " 94%|█████████▍| 594/631 [02:25<00:08,  4.61it/s]\u001b[A\n",
      " 94%|█████████▍| 595/631 [02:25<00:07,  4.74it/s]\u001b[A\n",
      " 94%|█████████▍| 596/631 [02:25<00:07,  4.78it/s]\u001b[A\n",
      " 95%|█████████▍| 597/631 [02:26<00:07,  4.58it/s]\u001b[A\n",
      " 95%|█████████▍| 598/631 [02:26<00:06,  4.76it/s]\u001b[A\n",
      " 95%|█████████▍| 599/631 [02:26<00:06,  4.82it/s]\u001b[A\n",
      " 95%|█████████▌| 600/631 [02:26<00:06,  4.90it/s]\u001b[A\n",
      " 95%|█████████▌| 601/631 [02:26<00:06,  4.66it/s]\u001b[A\n",
      " 95%|█████████▌| 602/631 [02:27<00:06,  4.78it/s]\u001b[A\n",
      " 96%|█████████▌| 603/631 [02:27<00:05,  4.89it/s]\u001b[A\n",
      " 96%|█████████▌| 604/631 [02:27<00:05,  4.94it/s]\u001b[A\n",
      " 96%|█████████▌| 605/631 [02:27<00:05,  4.97it/s]\u001b[A\n",
      " 96%|█████████▌| 606/631 [02:27<00:04,  5.05it/s]\u001b[A\n",
      " 96%|█████████▌| 607/631 [02:28<00:04,  5.12it/s]\u001b[A\n",
      " 96%|█████████▋| 608/631 [02:28<00:04,  5.14it/s]\u001b[A\n",
      " 97%|█████████▋| 609/631 [02:28<00:04,  5.04it/s]\u001b[A\n",
      " 97%|█████████▋| 610/631 [02:28<00:05,  4.20it/s]\u001b[A\n",
      " 97%|█████████▋| 611/631 [02:29<00:05,  3.72it/s]\u001b[A\n",
      " 97%|█████████▋| 612/631 [02:29<00:05,  3.50it/s]\u001b[A\n",
      " 97%|█████████▋| 613/631 [02:29<00:05,  3.37it/s]\u001b[A\n",
      " 97%|█████████▋| 614/631 [02:30<00:05,  3.34it/s]\u001b[A\n",
      " 97%|█████████▋| 615/631 [02:30<00:04,  3.28it/s]\u001b[A\n",
      " 98%|█████████▊| 616/631 [02:30<00:04,  3.26it/s]\u001b[A\n",
      " 98%|█████████▊| 617/631 [02:31<00:04,  3.24it/s]\u001b[A\n"
     ]
    },
    {
     "name": "stderr",
     "output_type": "stream",
     "text": [
      " 98%|█████████▊| 618/631 [02:31<00:04,  3.19it/s]\u001b[A\n",
      " 98%|█████████▊| 619/631 [02:31<00:03,  3.22it/s]\u001b[A\n",
      " 98%|█████████▊| 620/631 [02:31<00:03,  3.16it/s]\u001b[A\n",
      " 98%|█████████▊| 621/631 [02:32<00:03,  2.90it/s]\u001b[A\n",
      " 99%|█████████▊| 622/631 [02:32<00:03,  2.96it/s]\u001b[A\n",
      " 99%|█████████▊| 623/631 [02:33<00:02,  3.00it/s]\u001b[A\n",
      " 99%|█████████▉| 624/631 [02:33<00:02,  3.04it/s]\u001b[A\n",
      " 99%|█████████▉| 625/631 [02:33<00:01,  3.03it/s]\u001b[A\n",
      " 99%|█████████▉| 626/631 [02:34<00:01,  3.06it/s]\u001b[A\n",
      " 99%|█████████▉| 627/631 [02:34<00:01,  3.09it/s]\u001b[A\n",
      "100%|█████████▉| 628/631 [02:34<00:00,  3.09it/s]\u001b[A\n",
      "100%|█████████▉| 629/631 [02:34<00:00,  3.10it/s]\u001b[A\n",
      "100%|█████████▉| 630/631 [02:35<00:00,  3.04it/s]\u001b[A\n",
      "100%|██████████| 631/631 [02:35<00:00,  4.05it/s]\u001b[A\n"
     ]
    }
   ],
   "source": [
    "posrank_deepmatcher,flippedpos_deepmatcher = explainSamples(corrects_deepmatcher,[dblp,acm],dblpacm_deepmatcher,predict_fn_deepmatcher,\n",
    "                                        1,3)"
   ]
  },
  {
   "cell_type": "code",
   "execution_count": 64,
   "metadata": {
    "ExecuteTime": {
     "end_time": "2020-06-06T09:24:08.521573Z",
     "start_time": "2020-06-06T09:24:08.257469Z"
    }
   },
   "outputs": [
    {
     "data": {
      "text/plain": [
       "<matplotlib.axes._subplots.AxesSubplot at 0x7f1818357af0>"
      ]
     },
     "execution_count": 64,
     "metadata": {},
     "output_type": "execute_result"
    },
    {
     "data": {
      "image/png": "[encoded data removed]",
      "text/plain": [
       "<Figure size 432x288 with 1 Axes>"
      ]
     },
     "metadata": {
      "needs_background": "light"
     },
     "output_type": "display_data"
    }
   ],
   "source": [
    "posrank_deeper[0:12].plot.barh(color='green',grid=True)"
   ]
  },
  {
   "cell_type": "code",
   "execution_count": 65,
   "metadata": {
    "ExecuteTime": {
     "end_time": "2020-06-06T09:24:10.765461Z",
     "start_time": "2020-06-06T09:24:10.501639Z"
    }
   },
   "outputs": [
    {
     "data": {
      "text/plain": [
       "<matplotlib.axes._subplots.AxesSubplot at 0x7f17d047bd30>"
      ]
     },
     "execution_count": 65,
     "metadata": {},
     "output_type": "execute_result"
    },
    {
     "data": {
      "image/png": "[encoded data removed]",
      "text/plain": [
       "<Figure size 432x288 with 1 Axes>"
      ]
     },
     "metadata": {
      "needs_background": "light"
     },
     "output_type": "display_data"
    }
   ],
   "source": [
    "posrank_deepmatcher[0:12].plot.barh(color='green',grid=True)"
   ]
  },
  {
   "cell_type": "code",
   "execution_count": 63,
   "metadata": {
    "ExecuteTime": {
     "end_time": "2020-06-06T09:24:06.707472Z",
     "start_time": "2020-06-06T09:24:06.421546Z"
    }
   },
   "outputs": [
    {
     "data": {
      "text/plain": [
       "<matplotlib.axes._subplots.AxesSubplot at 0x7f1818397790>"
      ]
     },
     "execution_count": 63,
     "metadata": {},
     "output_type": "execute_result"
    },
    {
     "data": {
      "image/png": "[encoded data removed]",
      "text/plain": [
       "<Figure size 432x288 with 1 Axes>"
      ]
     },
     "metadata": {
      "needs_background": "light"
     },
     "output_type": "display_data"
    }
   ],
   "source": [
    "negrank_deeper[0:12].plot.barh(color='red',grid=True)"
   ]
  },
  {
   "cell_type": "code",
   "execution_count": 66,
   "metadata": {
    "ExecuteTime": {
     "end_time": "2020-06-06T09:24:38.315894Z",
     "start_time": "2020-06-06T09:24:38.022149Z"
    }
   },
   "outputs": [
    {
     "data": {
      "text/plain": [
       "<matplotlib.axes._subplots.AxesSubplot at 0x7f181842bf40>"
      ]
     },
     "execution_count": 66,
     "metadata": {},
     "output_type": "execute_result"
    },
    {
     "data": {
      "image/png": "[encoded data removed]",
      "text/plain": [
       "<Figure size 432x288 with 1 Axes>"
      ]
     },
     "metadata": {
      "needs_background": "light"
     },
     "output_type": "display_data"
    }
   ],
   "source": [
    "negrank_deepmatcher[0:12].plot.barh(color='red',grid=True)"
   ]
  },
  {
   "cell_type": "code",
   "execution_count": 72,
   "metadata": {
    "ExecuteTime": {
     "end_time": "2020-06-06T09:27:27.548647Z",
     "start_time": "2020-06-06T09:27:27.369485Z"
    }
   },
   "outputs": [],
   "source": [
    "saveExplanationResult('rankings/','deeper','dblp_acm',posrank_deeper,negrank_deeper,flippedpos_deeper,\n",
    "                     flippedneg_deeper)"
   ]
  },
  {
   "cell_type": "code",
   "execution_count": 70,
   "metadata": {
    "ExecuteTime": {
     "end_time": "2020-06-06T09:26:52.242021Z",
     "start_time": "2020-06-06T09:26:52.080309Z"
    }
   },
   "outputs": [],
   "source": [
    "saveExplanationResult('rankings/','deepmatcher','dblp_acm',posrank_deepmatcher,negrank_deepmatcher,flippedpos_deepmatcher,\n",
    "                     flippedneg_deepmatcher)"
   ]
  },
  {
   "cell_type": "markdown",
   "metadata": {},
   "source": [
    "## DBLP- Scholar"
   ]
  },
  {
   "cell_type": "code",
   "execution_count": null,
   "metadata": {
    "ExecuteTime": {
     "end_time": "2020-03-30T12:50:21.525815Z",
     "start_time": "2020-03-30T12:50:21.229822Z"
    }
   },
   "outputs": [],
   "source": [
    "augmented_test = pd.read_csv('datasets/DBLP-Scholar/augmented_test.csv')\n",
    "dblp = pd.read_csv('datasets/DBLP-Scholar/DBLP.csv',dtype=str)\n",
    "scholar = pd.read_csv('datasets/DBLP-Scholar/Scholar.csv',dtype=str)"
   ]
  },
  {
   "cell_type": "code",
   "execution_count": null,
   "metadata": {
    "ExecuteTime": {
     "end_time": "2020-03-30T12:50:27.183245Z",
     "start_time": "2020-03-30T12:50:22.114710Z"
    }
   },
   "outputs": [],
   "source": [
    "dblpscholar_deeper = load_model('models/DeepER_best_model_100_DBLP_Scholar.h5')\n",
    "dblpscholar_deepmatcher = dm.MatchingModel(attr_summarizer='rnn')\n",
    "dblpscholar_deepmatcher.load_state('models/dblp_scholar_rnn.pth')"
   ]
  },
  {
   "cell_type": "code",
   "execution_count": null,
   "metadata": {
    "ExecuteTime": {
     "end_time": "2020-03-30T12:51:14.886933Z",
     "start_time": "2020-03-30T12:50:28.014171Z"
    }
   },
   "outputs": [],
   "source": [
    "negrank_deeper,_ = explainSamples(augmented_test,[dblp,scholar],dblpscholar_deeper,predict_fn_deeper,\n",
    "                                   0,1)"
   ]
  },
  {
   "cell_type": "code",
   "execution_count": null,
   "metadata": {
    "ExecuteTime": {
     "end_time": "2020-03-30T12:52:01.239812Z",
     "start_time": "2020-03-30T12:51:14.889441Z"
    }
   },
   "outputs": [],
   "source": [
    "posrank_deeper,_ = explainSamples(augmented_test,[dblp,scholar],dblpscholar_deeper,predict_fn_deeper,\n",
    "                                 1,1)"
   ]
  },
  {
   "cell_type": "code",
   "execution_count": null,
   "metadata": {
    "ExecuteTime": {
     "end_time": "2020-03-30T13:05:10.484367Z",
     "start_time": "2020-03-30T12:52:36.218453Z"
    }
   },
   "outputs": [],
   "source": [
    "negrank_deepmatcher,_ = explainSamples(augmented_test,[dblp,scholar],dblpscholar_deepmatcher,predict_fn_deepmatcher,\n",
    "                                      0,1)"
   ]
  },
  {
   "cell_type": "code",
   "execution_count": null,
   "metadata": {
    "ExecuteTime": {
     "end_time": "2020-03-30T13:17:44.857270Z",
     "start_time": "2020-03-30T13:05:10.486112Z"
    }
   },
   "outputs": [],
   "source": [
    "posrank_deepmatcher,_ = explainSamples(augmented_test,[dblp,scholar],dblpscholar_deepmatcher,predict_fn_deepmatcher,\n",
    "                                      1,1)"
   ]
  },
  {
   "cell_type": "code",
   "execution_count": null,
   "metadata": {
    "ExecuteTime": {
     "end_time": "2020-03-30T13:17:45.416963Z",
     "start_time": "2020-03-30T13:17:44.859437Z"
    }
   },
   "outputs": [],
   "source": [
    "negrank_deeper.plot.bar(color='red',ylim=(0,1))"
   ]
  },
  {
   "cell_type": "code",
   "execution_count": null,
   "metadata": {
    "ExecuteTime": {
     "end_time": "2020-03-30T13:17:45.540839Z",
     "start_time": "2020-03-30T13:17:45.418869Z"
    }
   },
   "outputs": [],
   "source": [
    "negrank_deepmatcher.plot.bar(color='red',ylim=(0,1))"
   ]
  },
  {
   "cell_type": "code",
   "execution_count": null,
   "metadata": {
    "ExecuteTime": {
     "end_time": "2020-03-30T13:17:45.659275Z",
     "start_time": "2020-03-30T13:17:45.542363Z"
    }
   },
   "outputs": [],
   "source": [
    "posrank_deeper.plot.bar(color='green',ylim=(0,1))"
   ]
  },
  {
   "cell_type": "code",
   "execution_count": null,
   "metadata": {
    "ExecuteTime": {
     "end_time": "2020-03-30T13:17:45.776482Z",
     "start_time": "2020-03-30T13:17:45.660763Z"
    }
   },
   "outputs": [],
   "source": [
    "posrank_deepmatcher.plot.bar(color='green',ylim=(0,1))"
   ]
  },
  {
   "cell_type": "code",
   "execution_count": null,
   "metadata": {
    "ExecuteTime": {
     "end_time": "2020-03-30T13:20:26.091011Z",
     "start_time": "2020-03-30T13:20:26.025470Z"
    }
   },
   "outputs": [],
   "source": [
    "posrank_deepmatcher.to_csv('posrank_deepmatcher_dblpacm.csv')\n",
    "posrank_deeper.to_csv('posrank_deeper_dblpacm.csv')\n",
    "negrank_deepmatcher.to_csv('negrank_deepmatcher_dblpacm.csv')\n",
    "negrank_deeper.to_csv('negrank_deeper_dblpacm.csv')"
   ]
  },
  {
   "cell_type": "markdown",
   "metadata": {},
   "source": [
    "## Fodors-Zagats"
   ]
  },
  {
   "cell_type": "code",
   "execution_count": null,
   "metadata": {
    "ExecuteTime": {
     "end_time": "2020-04-05T14:25:45.660709Z",
     "start_time": "2020-04-05T14:25:45.595775Z"
    }
   },
   "outputs": [],
   "source": [
    "augmented_test = pd.read_csv('datasets/fodors_zagats/augmented_test.csv')\n",
    "fodors = pd.read_csv('datasets/fodors_zagats/fodors.csv',dtype=str)\n",
    "zagats = pd.read_csv('datasets/fodors_zagats/zagats.csv',dtype=str)"
   ]
  },
  {
   "cell_type": "code",
   "execution_count": null,
   "metadata": {
    "ExecuteTime": {
     "end_time": "2020-04-05T14:25:53.687949Z",
     "start_time": "2020-04-05T14:25:49.478705Z"
    }
   },
   "outputs": [],
   "source": [
    "##fodors_deeper = load_model('models/DeepER_best_model_100_fodors-zagats.h5')\n",
    "fodors_deepmatcher = dm.MatchingModel(attr_summarizer='rnn')\n",
    "fodors_deepmatcher.load_state('models/fodors_zagats_rnn.pth')"
   ]
  },
  {
   "cell_type": "code",
   "execution_count": null,
   "metadata": {
    "ExecuteTime": {
     "end_time": "2020-03-27T19:02:05.647779Z",
     "start_time": "2020-03-27T19:02:05.441292Z"
    }
   },
   "outputs": [],
   "source": [
    "negrank_deeper,_ = explainSamples(correct_deeper,[fodors,zagats],fodors_deeper,predict_fn_deeper,\n",
    "                                   0,1)"
   ]
  },
  {
   "cell_type": "code",
   "execution_count": null,
   "metadata": {
    "ExecuteTime": {
     "end_time": "2020-04-05T14:26:30.991459Z",
     "start_time": "2020-04-05T14:26:17.398628Z"
    }
   },
   "outputs": [],
   "source": [
    "negrank_deepmatcher,_ = explainSamples(augmented_test,[fodors,zagats],fodors_deepmatcher,predict_fn_deepmatcher,\n",
    "                                        0,1)"
   ]
  },
  {
   "cell_type": "code",
   "execution_count": null,
   "metadata": {
    "ExecuteTime": {
     "end_time": "2020-04-05T14:26:44.998214Z",
     "start_time": "2020-04-05T14:26:44.610250Z"
    }
   },
   "outputs": [],
   "source": [
    "negrank_deepmatcher.plot.barh(color='red')"
   ]
  },
  {
   "cell_type": "code",
   "execution_count": null,
   "metadata": {
    "ExecuteTime": {
     "end_time": "2020-03-27T19:24:51.138410Z",
     "start_time": "2020-03-27T19:24:50.902541Z"
    }
   },
   "outputs": [],
   "source": [
    "ax,negrank = aggregateRankings(negrank_deeper,positive=False,maxLenAttributes=1,lenTriangles=8)"
   ]
  },
  {
   "cell_type": "code",
   "execution_count": null,
   "metadata": {
    "ExecuteTime": {
     "end_time": "2020-04-05T14:27:05.076415Z",
     "start_time": "2020-04-05T14:27:01.096864Z"
    }
   },
   "outputs": [],
   "source": [
    "posrank_deepmatcher,_ = explainSamples(augmented_test,[fodors,zagats],fodors_deepmatcher,predict_fn_deepmatcher,\n",
    "                                        1,1)"
   ]
  },
  {
   "cell_type": "code",
   "execution_count": null,
   "metadata": {
    "ExecuteTime": {
     "end_time": "2020-04-05T14:27:19.660523Z",
     "start_time": "2020-04-05T14:27:19.463006Z"
    }
   },
   "outputs": [],
   "source": [
    "posrank_deepmatcher.plot.barh(color='green')"
   ]
  },
  {
   "cell_type": "code",
   "execution_count": null,
   "metadata": {
    "ExecuteTime": {
     "end_time": "2020-03-27T19:25:50.175642Z",
     "start_time": "2020-03-27T19:25:49.967154Z"
    }
   },
   "outputs": [],
   "source": [
    "posrank_deeper,_,_ = explainSamples(correct_deeper,[fodors,zagats],fodors_deeper,predict_fn_deeper,\n",
    "                                   1,1)"
   ]
  },
  {
   "cell_type": "code",
   "execution_count": null,
   "metadata": {
    "ExecuteTime": {
     "end_time": "2020-03-27T19:26:28.727720Z",
     "start_time": "2020-03-27T19:26:28.480854Z"
    }
   },
   "outputs": [],
   "source": [
    "ax,posrank = aggregateRankings(posrank_deepmatcher,positive=True,maxLenAttributes=1,lenTriangles=50)"
   ]
  },
  {
   "cell_type": "code",
   "execution_count": null,
   "metadata": {
    "ExecuteTime": {
     "end_time": "2020-03-27T19:26:48.132553Z",
     "start_time": "2020-03-27T19:26:48.055985Z"
    }
   },
   "outputs": [],
   "source": [
    "ax,posrank = aggregateRankings(posrank_deeper,positive=True,maxLenAttributes=1,lenTriangles=8)"
   ]
  },
  {
   "cell_type": "markdown",
   "metadata": {},
   "source": [
    "## Itunes-Amazon"
   ]
  },
  {
   "cell_type": "code",
   "execution_count": 73,
   "metadata": {
    "ExecuteTime": {
     "end_time": "2020-06-06T09:27:54.552329Z",
     "start_time": "2020-06-06T09:27:54.494545Z"
    }
   },
   "outputs": [],
   "source": [
    "DATASET_DIR = 'datasets/itunes_amazon/'"
   ]
  },
  {
   "cell_type": "code",
   "execution_count": 74,
   "metadata": {
    "ExecuteTime": {
     "end_time": "2020-06-06T09:27:55.538333Z",
     "start_time": "2020-06-06T09:27:55.126099Z"
    }
   },
   "outputs": [],
   "source": [
    "augmented_test = pd.read_csv(DATASET_DIR+'augmented_test.csv')\n",
    "itunes = pd.read_csv(DATASET_DIR+'itunes.csv',dtype=str)\n",
    "amazon = pd.read_csv(DATASET_DIR+'amazon.csv',dtype=str)"
   ]
  },
  {
   "cell_type": "code",
   "execution_count": 75,
   "metadata": {
    "ExecuteTime": {
     "end_time": "2020-06-06T09:28:17.247616Z",
     "start_time": "2020-06-06T09:28:17.187422Z"
    }
   },
   "outputs": [],
   "source": [
    "augmented_test['id'] = augmented_test['id'].apply(lambda sampleid:formatId(sampleid))"
   ]
  },
  {
   "cell_type": "code",
   "execution_count": 77,
   "metadata": {
    "ExecuteTime": {
     "end_time": "2020-06-06T09:33:10.641638Z",
     "start_time": "2020-06-06T09:33:08.377687Z"
    }
   },
   "outputs": [],
   "source": [
    "itunes_deeper = load_model('models/DeepER_best_model_100_itunes-amazon.h5')\n",
    "itunes_deepmatcher = dm.MatchingModel(attr_summarizer='rnn')\n",
    "itunes_deepmatcher.load_state('models/itunes_amazon_rnn.pth')"
   ]
  },
  {
   "cell_type": "code",
   "execution_count": 78,
   "metadata": {
    "ExecuteTime": {
     "end_time": "2020-06-06T09:33:32.541140Z",
     "start_time": "2020-06-06T09:33:31.839769Z"
    }
   },
   "outputs": [],
   "source": [
    "corrects_deeper = getCorrectPredictions(augmented_test,itunes_deeper,predict_fn_deeper)"
   ]
  },
  {
   "cell_type": "code",
   "execution_count": 79,
   "metadata": {
    "ExecuteTime": {
     "end_time": "2020-06-06T09:33:48.628995Z",
     "start_time": "2020-06-06T09:33:47.508643Z"
    }
   },
   "outputs": [],
   "source": [
    "corrects_deepmatcher = getCorrectPredictions(augmented_test,itunes_deepmatcher,predict_fn_deepmatcher)"
   ]
  },
  {
   "cell_type": "code",
   "execution_count": 80,
   "metadata": {
    "ExecuteTime": {
     "end_time": "2020-06-06T09:34:17.924770Z",
     "start_time": "2020-06-06T09:34:00.733008Z"
    }
   },
   "outputs": [
    {
     "name": "stderr",
     "output_type": "stream",
     "text": [
      "\n",
      "  0%|          | 0/63 [00:00<?, ?it/s]\u001b[A\n",
      "  2%|▏         | 1/63 [00:00<00:17,  3.62it/s]\u001b[A\n",
      "  3%|▎         | 2/63 [00:00<00:16,  3.79it/s]\u001b[A\n",
      "  5%|▍         | 3/63 [00:00<00:16,  3.70it/s]\u001b[A\n",
      "  6%|▋         | 4/63 [00:01<00:25,  2.29it/s]\u001b[A\n",
      "  8%|▊         | 5/63 [00:01<00:22,  2.58it/s]\u001b[A\n",
      " 10%|▉         | 6/63 [00:02<00:20,  2.83it/s]\u001b[A\n",
      " 11%|█         | 7/63 [00:02<00:18,  3.02it/s]\u001b[A\n",
      " 13%|█▎        | 8/63 [00:02<00:17,  3.22it/s]\u001b[A\n",
      " 14%|█▍        | 9/63 [00:02<00:15,  3.39it/s]\u001b[A\n",
      " 16%|█▌        | 10/63 [00:03<00:15,  3.49it/s]\u001b[A\n",
      " 17%|█▋        | 11/63 [00:03<00:14,  3.61it/s]\u001b[A\n",
      " 19%|█▉        | 12/63 [00:03<00:14,  3.57it/s]\u001b[A\n",
      " 21%|██        | 13/63 [00:04<00:14,  3.56it/s]\u001b[A\n",
      " 22%|██▏       | 14/63 [00:04<00:13,  3.52it/s]\u001b[A\n",
      " 24%|██▍       | 15/63 [00:04<00:13,  3.67it/s]\u001b[A\n",
      " 25%|██▌       | 16/63 [00:04<00:12,  3.79it/s]\u001b[A\n",
      " 27%|██▋       | 17/63 [00:05<00:11,  4.03it/s]\u001b[A\n",
      " 29%|██▊       | 18/63 [00:05<00:11,  3.90it/s]\u001b[A\n",
      " 30%|███       | 19/63 [00:05<00:11,  3.77it/s]\u001b[A\n",
      " 32%|███▏      | 20/63 [00:05<00:11,  3.74it/s]\u001b[A\n",
      " 33%|███▎      | 21/63 [00:06<00:11,  3.82it/s]\u001b[A\n",
      " 35%|███▍      | 22/63 [00:06<00:11,  3.70it/s]\u001b[A\n",
      " 37%|███▋      | 23/63 [00:06<00:10,  3.74it/s]\u001b[A\n",
      " 38%|███▊      | 24/63 [00:06<00:10,  3.74it/s]\u001b[A\n",
      " 40%|███▉      | 25/63 [00:07<00:10,  3.74it/s]\u001b[A\n",
      " 41%|████▏     | 26/63 [00:07<00:10,  3.62it/s]\u001b[A\n",
      " 43%|████▎     | 27/63 [00:07<00:09,  3.62it/s]\u001b[A\n",
      " 44%|████▍     | 28/63 [00:08<00:09,  3.57it/s]\u001b[A\n",
      " 46%|████▌     | 29/63 [00:08<00:09,  3.62it/s]\u001b[A\n",
      " 48%|████▊     | 30/63 [00:08<00:08,  3.70it/s]\u001b[A\n",
      " 49%|████▉     | 31/63 [00:08<00:08,  3.86it/s]\u001b[A\n",
      " 51%|█████     | 32/63 [00:09<00:08,  3.79it/s]\u001b[A\n",
      " 52%|█████▏    | 33/63 [00:09<00:07,  3.80it/s]\u001b[A\n",
      " 54%|█████▍    | 34/63 [00:09<00:07,  3.64it/s]\u001b[A\n",
      " 56%|█████▌    | 35/63 [00:09<00:07,  3.57it/s]\u001b[A\n",
      " 57%|█████▋    | 36/63 [00:10<00:07,  3.69it/s]\u001b[A\n",
      " 59%|█████▊    | 37/63 [00:10<00:06,  3.79it/s]\u001b[A\n",
      " 60%|██████    | 38/63 [00:10<00:06,  3.88it/s]\u001b[A\n",
      " 62%|██████▏   | 39/63 [00:10<00:05,  4.04it/s]\u001b[A\n",
      " 63%|██████▎   | 40/63 [00:11<00:05,  4.14it/s]\u001b[A\n",
      " 65%|██████▌   | 41/63 [00:11<00:05,  4.05it/s]\u001b[A\n",
      " 67%|██████▋   | 42/63 [00:11<00:05,  4.02it/s]\u001b[A\n",
      " 68%|██████▊   | 43/63 [00:11<00:04,  4.12it/s]\u001b[A\n",
      " 70%|██████▉   | 44/63 [00:12<00:04,  3.89it/s]\u001b[A\n",
      " 71%|███████▏  | 45/63 [00:12<00:04,  3.82it/s]\u001b[A\n",
      " 73%|███████▎  | 46/63 [00:12<00:04,  3.89it/s]\u001b[A\n",
      " 75%|███████▍  | 47/63 [00:12<00:04,  3.94it/s]\u001b[A\n",
      " 76%|███████▌  | 48/63 [00:13<00:03,  3.80it/s]\u001b[A\n",
      " 78%|███████▊  | 49/63 [00:13<00:03,  3.83it/s]\u001b[A\n",
      " 79%|███████▉  | 50/63 [00:13<00:03,  3.85it/s]\u001b[A\n",
      " 81%|████████  | 51/63 [00:14<00:03,  3.83it/s]\u001b[A\n",
      " 83%|████████▎ | 52/63 [00:14<00:02,  3.96it/s]\u001b[A\n",
      " 84%|████████▍ | 53/63 [00:14<00:02,  3.89it/s]\u001b[A\n",
      " 86%|████████▌ | 54/63 [00:14<00:02,  3.99it/s]\u001b[A\n",
      " 87%|████████▋ | 55/63 [00:15<00:01,  4.04it/s]\u001b[A\n",
      " 89%|████████▉ | 56/63 [00:15<00:01,  3.92it/s]\u001b[A\n",
      " 90%|█████████ | 57/63 [00:15<00:01,  3.86it/s]\u001b[A\n",
      " 92%|█████████▏| 58/63 [00:15<00:01,  3.77it/s]\u001b[A\n",
      " 94%|█████████▎| 59/63 [00:16<00:01,  3.73it/s]\u001b[A\n",
      " 95%|█████████▌| 60/63 [00:16<00:00,  3.87it/s]\u001b[A\n",
      " 97%|█████████▋| 61/63 [00:16<00:00,  3.99it/s]\u001b[A\n",
      " 98%|█████████▊| 62/63 [00:16<00:00,  3.98it/s]\u001b[A\n",
      "100%|██████████| 63/63 [00:17<00:00,  3.69it/s]\u001b[A\n"
     ]
    }
   ],
   "source": [
    "negrank_deeper,flippedneg_deeper = explainSamples(corrects_deeper,[itunes,amazon],itunes_deeper,predict_fn_deeper,\n",
    "                                   0,4)"
   ]
  },
  {
   "cell_type": "code",
   "execution_count": 81,
   "metadata": {
    "ExecuteTime": {
     "end_time": "2020-06-06T09:35:58.032761Z",
     "start_time": "2020-06-06T09:34:41.135077Z"
    }
   },
   "outputs": [
    {
     "name": "stderr",
     "output_type": "stream",
     "text": [
      "\n",
      "  0%|          | 0/75 [00:00<?, ?it/s]\u001b[A\n",
      "  1%|▏         | 1/75 [00:01<01:26,  1.16s/it]\u001b[A\n",
      "  3%|▎         | 2/75 [00:02<01:21,  1.11s/it]\u001b[A\n",
      "  4%|▍         | 3/75 [00:03<01:16,  1.06s/it]\u001b[A\n",
      "  5%|▌         | 4/75 [00:04<01:13,  1.03s/it]\u001b[A\n",
      "  7%|▋         | 5/75 [00:05<01:10,  1.01s/it]\u001b[A\n",
      "  8%|▊         | 6/75 [00:06<01:10,  1.03s/it]\u001b[A\n",
      "  9%|▉         | 7/75 [00:07<01:08,  1.01s/it]\u001b[A\n",
      " 11%|█         | 8/75 [00:08<01:09,  1.03s/it]\u001b[A\n",
      " 12%|█▏        | 9/75 [00:09<01:12,  1.09s/it]\u001b[A\n",
      " 13%|█▎        | 10/75 [00:10<01:10,  1.09s/it]\u001b[A\n",
      " 15%|█▍        | 11/75 [00:11<01:09,  1.08s/it]\u001b[A\n",
      " 16%|█▌        | 12/75 [00:12<01:07,  1.07s/it]\u001b[A\n",
      " 17%|█▋        | 13/75 [00:13<01:05,  1.06s/it]\u001b[A\n",
      " 19%|█▊        | 14/75 [00:14<01:06,  1.09s/it]\u001b[A\n",
      " 20%|██        | 15/75 [00:15<01:03,  1.06s/it]\u001b[A\n",
      " 21%|██▏       | 16/75 [00:16<01:00,  1.03s/it]\u001b[A\n",
      " 23%|██▎       | 17/75 [00:17<00:59,  1.03s/it]\u001b[A\n",
      " 24%|██▍       | 18/75 [00:18<00:58,  1.03s/it]\u001b[A\n",
      " 25%|██▌       | 19/75 [00:19<00:57,  1.03s/it]\u001b[A\n",
      " 27%|██▋       | 20/75 [00:20<00:56,  1.03s/it]\u001b[A\n",
      " 28%|██▊       | 21/75 [00:21<00:57,  1.06s/it]\u001b[A\n",
      " 29%|██▉       | 22/75 [00:22<00:53,  1.02s/it]\u001b[A\n",
      " 31%|███       | 23/75 [00:23<00:50,  1.02it/s]\u001b[A\n",
      " 32%|███▏      | 24/75 [00:24<00:51,  1.01s/it]\u001b[A\n",
      " 33%|███▎      | 25/75 [00:25<00:51,  1.03s/it]\u001b[A\n",
      " 35%|███▍      | 26/75 [00:26<00:50,  1.04s/it]\u001b[A\n",
      " 36%|███▌      | 27/75 [00:27<00:49,  1.03s/it]\u001b[A\n",
      " 37%|███▋      | 28/75 [00:29<00:49,  1.05s/it]\u001b[A\n",
      " 39%|███▊      | 29/75 [00:30<00:47,  1.04s/it]\u001b[A\n",
      " 40%|████      | 30/75 [00:31<00:46,  1.03s/it]\u001b[A\n",
      " 41%|████▏     | 31/75 [00:32<00:45,  1.04s/it]\u001b[A\n",
      " 43%|████▎     | 32/75 [00:33<00:45,  1.06s/it]\u001b[A\n",
      " 44%|████▍     | 33/75 [00:34<00:43,  1.04s/it]\u001b[A\n",
      " 45%|████▌     | 34/75 [00:35<00:42,  1.03s/it]\u001b[A\n",
      " 47%|████▋     | 35/75 [00:36<00:41,  1.03s/it]\u001b[A\n",
      " 48%|████▊     | 36/75 [00:37<00:39,  1.01s/it]\u001b[A\n",
      " 49%|████▉     | 37/75 [00:38<00:37,  1.01it/s]\u001b[A\n",
      " 51%|█████     | 38/75 [00:39<00:36,  1.00it/s]\u001b[A\n",
      " 52%|█████▏    | 39/75 [00:40<00:35,  1.00it/s]\u001b[A\n",
      " 53%|█████▎    | 40/75 [00:41<00:35,  1.03s/it]\u001b[A\n",
      " 55%|█████▍    | 41/75 [00:42<00:35,  1.05s/it]\u001b[A\n",
      " 56%|█████▌    | 42/75 [00:43<00:35,  1.07s/it]\u001b[A\n",
      " 57%|█████▋    | 43/75 [00:44<00:33,  1.04s/it]\u001b[A\n",
      " 59%|█████▊    | 44/75 [00:45<00:31,  1.03s/it]\u001b[A\n",
      " 60%|██████    | 45/75 [00:46<00:30,  1.02s/it]\u001b[A\n",
      " 61%|██████▏   | 46/75 [00:47<00:32,  1.13s/it]\u001b[A\n",
      " 63%|██████▎   | 47/75 [00:49<00:31,  1.12s/it]\u001b[A\n",
      " 64%|██████▍   | 48/75 [00:49<00:28,  1.07s/it]\u001b[A\n",
      " 65%|██████▌   | 49/75 [00:50<00:26,  1.02s/it]\u001b[A\n",
      " 67%|██████▋   | 50/75 [00:51<00:25,  1.01s/it]\u001b[A\n",
      " 68%|██████▊   | 51/75 [00:52<00:23,  1.00it/s]\u001b[A\n",
      " 69%|██████▉   | 52/75 [00:53<00:22,  1.04it/s]\u001b[A\n",
      " 71%|███████   | 53/75 [00:54<00:21,  1.01it/s]\u001b[A\n",
      " 72%|███████▏  | 54/75 [00:55<00:21,  1.02s/it]\u001b[A\n",
      " 73%|███████▎  | 55/75 [00:56<00:20,  1.03s/it]\u001b[A\n",
      " 75%|███████▍  | 56/75 [00:57<00:19,  1.00s/it]\u001b[A\n",
      " 76%|███████▌  | 57/75 [00:58<00:18,  1.01s/it]\u001b[A\n",
      " 77%|███████▋  | 58/75 [00:59<00:16,  1.00it/s]\u001b[A\n",
      " 79%|███████▊  | 59/75 [01:00<00:15,  1.01it/s]\u001b[A\n",
      " 80%|████████  | 60/75 [01:01<00:14,  1.00it/s]\u001b[A\n",
      " 81%|████████▏ | 61/75 [01:02<00:14,  1.03s/it]\u001b[A\n",
      " 83%|████████▎ | 62/75 [01:03<00:13,  1.04s/it]\u001b[A\n",
      " 84%|████████▍ | 63/75 [01:05<00:12,  1.05s/it]\u001b[A\n",
      " 85%|████████▌ | 64/75 [01:06<00:11,  1.07s/it]\u001b[A\n",
      " 87%|████████▋ | 65/75 [01:07<00:10,  1.05s/it]\u001b[A\n",
      " 88%|████████▊ | 66/75 [01:08<00:09,  1.05s/it]\u001b[A\n",
      " 89%|████████▉ | 67/75 [01:09<00:08,  1.02s/it]\u001b[A\n",
      " 91%|█████████ | 68/75 [01:10<00:06,  1.00it/s]\u001b[A\n",
      " 92%|█████████▏| 69/75 [01:11<00:06,  1.02s/it]\u001b[A\n",
      " 93%|█████████▎| 70/75 [01:12<00:05,  1.03s/it]\u001b[A\n",
      " 95%|█████████▍| 71/75 [01:13<00:04,  1.01s/it]\u001b[A\n",
      " 96%|█████████▌| 72/75 [01:14<00:02,  1.03it/s]\u001b[A\n",
      " 97%|█████████▋| 73/75 [01:14<00:01,  1.07it/s]\u001b[A\n",
      " 99%|█████████▊| 74/75 [01:15<00:00,  1.08it/s]\u001b[A\n",
      "100%|██████████| 75/75 [01:16<00:00,  1.02s/it]\u001b[A\n"
     ]
    }
   ],
   "source": [
    "negrank_deepmatcher,flippedneg_deepmatcher = explainSamples(corrects_deepmatcher,[itunes,amazon],itunes_deepmatcher,\n",
    "                                         predict_fn_deepmatcher,0,4)"
   ]
  },
  {
   "cell_type": "code",
   "execution_count": 82,
   "metadata": {
    "ExecuteTime": {
     "end_time": "2020-06-06T09:37:08.760880Z",
     "start_time": "2020-06-06T09:36:52.341742Z"
    }
   },
   "outputs": [
    {
     "name": "stderr",
     "output_type": "stream",
     "text": [
      "\n",
      "  0%|          | 0/63 [00:00<?, ?it/s]\u001b[A\n",
      "  2%|▏         | 1/63 [00:00<00:17,  3.59it/s]\u001b[A\n",
      "  3%|▎         | 2/63 [00:00<00:16,  3.77it/s]\u001b[A\n",
      "  5%|▍         | 3/63 [00:00<00:16,  3.72it/s]\u001b[A\n",
      "  6%|▋         | 4/63 [00:01<00:15,  3.80it/s]\u001b[A\n",
      "  8%|▊         | 5/63 [00:01<00:15,  3.77it/s]\u001b[A\n",
      " 10%|▉         | 6/63 [00:01<00:15,  3.73it/s]\u001b[A\n",
      " 11%|█         | 7/63 [00:01<00:15,  3.70it/s]\u001b[A\n",
      " 13%|█▎        | 8/63 [00:02<00:14,  3.70it/s]\u001b[A\n",
      " 14%|█▍        | 9/63 [00:02<00:13,  3.87it/s]\u001b[A\n",
      " 16%|█▌        | 10/63 [00:02<00:13,  3.88it/s]\u001b[A\n",
      " 17%|█▋        | 11/63 [00:02<00:13,  3.96it/s]\u001b[A\n",
      " 19%|█▉        | 12/63 [00:03<00:12,  4.09it/s]\u001b[A\n",
      " 21%|██        | 13/63 [00:03<00:12,  4.15it/s]\u001b[A\n",
      " 22%|██▏       | 14/63 [00:03<00:12,  3.99it/s]\u001b[A\n",
      " 24%|██▍       | 15/63 [00:03<00:11,  4.08it/s]\u001b[A\n",
      " 25%|██▌       | 16/63 [00:04<00:11,  4.12it/s]\u001b[A\n",
      " 27%|██▋       | 17/63 [00:04<00:11,  4.12it/s]\u001b[A\n",
      " 29%|██▊       | 18/63 [00:04<00:11,  3.93it/s]\u001b[A\n",
      " 30%|███       | 19/63 [00:04<00:11,  3.77it/s]\u001b[A\n",
      " 32%|███▏      | 20/63 [00:05<00:11,  3.62it/s]\u001b[A\n",
      " 33%|███▎      | 21/63 [00:05<00:11,  3.67it/s]\u001b[A\n",
      " 35%|███▍      | 22/63 [00:05<00:11,  3.62it/s]\u001b[A\n",
      " 37%|███▋      | 23/63 [00:05<00:10,  3.68it/s]\u001b[A\n",
      " 38%|███▊      | 24/63 [00:06<00:10,  3.75it/s]\u001b[A\n",
      " 40%|███▉      | 25/63 [00:06<00:10,  3.73it/s]\u001b[A\n",
      " 41%|████▏     | 26/63 [00:06<00:10,  3.68it/s]\u001b[A\n",
      " 43%|████▎     | 27/63 [00:07<00:09,  3.70it/s]\u001b[A\n",
      " 44%|████▍     | 28/63 [00:07<00:09,  3.66it/s]\u001b[A\n",
      " 46%|████▌     | 29/63 [00:07<00:09,  3.70it/s]\u001b[A\n",
      " 48%|████▊     | 30/63 [00:07<00:08,  3.74it/s]\u001b[A\n",
      " 49%|████▉     | 31/63 [00:08<00:08,  3.88it/s]\u001b[A\n",
      " 51%|█████     | 32/63 [00:08<00:08,  3.79it/s]\u001b[A\n",
      " 52%|█████▏    | 33/63 [00:08<00:08,  3.73it/s]\u001b[A\n",
      " 54%|█████▍    | 34/63 [00:08<00:08,  3.62it/s]\u001b[A\n",
      " 56%|█████▌    | 35/63 [00:09<00:08,  3.50it/s]\u001b[A\n",
      " 57%|█████▋    | 36/63 [00:09<00:07,  3.71it/s]\u001b[A\n",
      " 59%|█████▊    | 37/63 [00:09<00:06,  3.76it/s]\u001b[A\n",
      " 60%|██████    | 38/63 [00:09<00:06,  3.91it/s]\u001b[A\n",
      " 62%|██████▏   | 39/63 [00:10<00:06,  3.93it/s]\u001b[A\n",
      " 63%|██████▎   | 40/63 [00:10<00:05,  4.04it/s]\u001b[A\n",
      " 65%|██████▌   | 41/63 [00:10<00:05,  4.00it/s]\u001b[A\n",
      " 67%|██████▋   | 42/63 [00:10<00:05,  3.96it/s]\u001b[A\n",
      " 68%|██████▊   | 43/63 [00:11<00:04,  4.16it/s]\u001b[A\n",
      " 70%|██████▉   | 44/63 [00:11<00:04,  4.00it/s]\u001b[A\n",
      " 71%|███████▏  | 45/63 [00:11<00:04,  3.92it/s]\u001b[A\n",
      " 73%|███████▎  | 46/63 [00:11<00:04,  4.00it/s]\u001b[A\n",
      " 75%|███████▍  | 47/63 [00:12<00:03,  4.03it/s]\u001b[A\n",
      " 76%|███████▌  | 48/63 [00:12<00:03,  3.87it/s]\u001b[A\n",
      " 78%|███████▊  | 49/63 [00:12<00:03,  3.74it/s]\u001b[A\n",
      " 79%|███████▉  | 50/63 [00:13<00:03,  3.66it/s]\u001b[A\n",
      " 81%|████████  | 51/63 [00:13<00:03,  3.58it/s]\u001b[A\n",
      " 83%|████████▎ | 52/63 [00:13<00:03,  3.65it/s]\u001b[A\n",
      " 84%|████████▍ | 53/63 [00:13<00:02,  3.69it/s]\u001b[A\n",
      " 86%|████████▌ | 54/63 [00:14<00:02,  3.88it/s]\u001b[A\n",
      " 87%|████████▋ | 55/63 [00:14<00:01,  4.01it/s]\u001b[A\n",
      " 89%|████████▉ | 56/63 [00:14<00:01,  3.97it/s]\u001b[A\n",
      " 90%|█████████ | 57/63 [00:14<00:01,  3.89it/s]\u001b[A\n",
      " 92%|█████████▏| 58/63 [00:15<00:01,  3.88it/s]\u001b[A\n",
      " 94%|█████████▎| 59/63 [00:15<00:00,  4.01it/s]\u001b[A\n",
      " 95%|█████████▌| 60/63 [00:15<00:00,  4.31it/s]\u001b[A\n",
      " 97%|█████████▋| 61/63 [00:15<00:00,  4.32it/s]\u001b[A\n",
      " 98%|█████████▊| 62/63 [00:16<00:00,  4.22it/s]\u001b[A\n",
      "100%|██████████| 63/63 [00:16<00:00,  3.87it/s]\u001b[A\n"
     ]
    }
   ],
   "source": [
    "posrank_deeper,flippedpos_deeper = explainSamples(corrects_deeper,[itunes,amazon],itunes_deeper,predict_fn_deeper,\n",
    "                                   1,4)"
   ]
  },
  {
   "cell_type": "code",
   "execution_count": 83,
   "metadata": {
    "ExecuteTime": {
     "end_time": "2020-06-06T09:38:45.976292Z",
     "start_time": "2020-06-06T09:37:28.687747Z"
    }
   },
   "outputs": [
    {
     "name": "stderr",
     "output_type": "stream",
     "text": [
      "\n",
      "  0%|          | 0/75 [00:00<?, ?it/s]\u001b[A\n",
      "  1%|▏         | 1/75 [00:01<01:26,  1.17s/it]\u001b[A\n",
      "  3%|▎         | 2/75 [00:02<01:21,  1.12s/it]\u001b[A\n",
      "  4%|▍         | 3/75 [00:03<01:16,  1.06s/it]\u001b[A\n",
      "  5%|▌         | 4/75 [00:04<01:13,  1.04s/it]\u001b[A\n",
      "  7%|▋         | 5/75 [00:05<01:11,  1.02s/it]\u001b[A\n",
      "  8%|▊         | 6/75 [00:06<01:11,  1.03s/it]\u001b[A\n",
      "  9%|▉         | 7/75 [00:07<01:09,  1.02s/it]\u001b[A\n",
      " 11%|█         | 8/75 [00:08<01:09,  1.04s/it]\u001b[A\n",
      " 12%|█▏        | 9/75 [00:09<01:08,  1.04s/it]\u001b[A\n",
      " 13%|█▎        | 10/75 [00:10<01:17,  1.19s/it]\u001b[A\n",
      " 15%|█▍        | 11/75 [00:11<01:13,  1.15s/it]\u001b[A\n",
      " 16%|█▌        | 12/75 [00:12<01:10,  1.12s/it]\u001b[A\n",
      " 17%|█▋        | 13/75 [00:13<01:07,  1.10s/it]\u001b[A\n",
      " 19%|█▊        | 14/75 [00:14<01:04,  1.05s/it]\u001b[A\n",
      " 20%|██        | 15/75 [00:15<01:01,  1.03s/it]\u001b[A\n",
      " 21%|██▏       | 16/75 [00:16<00:59,  1.01s/it]\u001b[A\n",
      " 23%|██▎       | 17/75 [00:17<00:58,  1.01s/it]\u001b[A\n",
      " 24%|██▍       | 18/75 [00:18<00:57,  1.01s/it]\u001b[A\n",
      " 25%|██▌       | 19/75 [00:19<00:56,  1.01s/it]\u001b[A\n",
      " 27%|██▋       | 20/75 [00:20<00:55,  1.02s/it]\u001b[A\n",
      " 28%|██▊       | 21/75 [00:21<00:53,  1.01it/s]\u001b[A\n",
      " 29%|██▉       | 22/75 [00:22<00:51,  1.03it/s]\u001b[A\n",
      " 31%|███       | 23/75 [00:23<00:49,  1.05it/s]\u001b[A\n",
      " 32%|███▏      | 24/75 [00:24<00:50,  1.00it/s]\u001b[A\n",
      " 33%|███▎      | 25/75 [00:25<00:51,  1.02s/it]\u001b[A\n",
      " 35%|███▍      | 26/75 [00:26<00:51,  1.04s/it]\u001b[A\n",
      " 36%|███▌      | 27/75 [00:27<00:50,  1.04s/it]\u001b[A\n",
      " 37%|███▋      | 28/75 [00:29<00:50,  1.07s/it]\u001b[A\n",
      " 39%|███▊      | 29/75 [00:30<00:48,  1.06s/it]\u001b[A\n",
      " 40%|████      | 30/75 [00:31<00:47,  1.05s/it]\u001b[A\n",
      " 41%|████▏     | 31/75 [00:32<00:46,  1.05s/it]\u001b[A\n",
      " 43%|████▎     | 32/75 [00:33<00:45,  1.07s/it]\u001b[A\n",
      " 44%|████▍     | 33/75 [00:34<00:44,  1.05s/it]\u001b[A\n",
      " 45%|████▌     | 34/75 [00:35<00:42,  1.05s/it]\u001b[A\n",
      " 47%|████▋     | 35/75 [00:36<00:41,  1.04s/it]\u001b[A\n",
      " 48%|████▊     | 36/75 [00:37<00:39,  1.02s/it]\u001b[A\n",
      " 49%|████▉     | 37/75 [00:38<00:37,  1.00it/s]\u001b[A\n",
      " 51%|█████     | 38/75 [00:39<00:37,  1.01s/it]\u001b[A\n",
      " 52%|█████▏    | 39/75 [00:40<00:36,  1.02s/it]\u001b[A\n",
      " 53%|█████▎    | 40/75 [00:41<00:36,  1.04s/it]\u001b[A\n",
      " 55%|█████▍    | 41/75 [00:42<00:36,  1.07s/it]\u001b[A\n",
      " 56%|█████▌    | 42/75 [00:43<00:35,  1.09s/it]\u001b[A\n",
      " 57%|█████▋    | 43/75 [00:44<00:33,  1.06s/it]\u001b[A\n",
      " 59%|█████▊    | 44/75 [00:45<00:32,  1.04s/it]\u001b[A\n",
      " 60%|██████    | 45/75 [00:46<00:30,  1.02s/it]\u001b[A\n",
      " 61%|██████▏   | 46/75 [00:47<00:28,  1.01it/s]\u001b[A\n",
      " 63%|██████▎   | 47/75 [00:48<00:27,  1.01it/s]\u001b[A\n",
      " 64%|██████▍   | 48/75 [00:49<00:26,  1.03it/s]\u001b[A\n",
      " 65%|██████▌   | 49/75 [00:50<00:24,  1.05it/s]\u001b[A\n",
      " 67%|██████▋   | 50/75 [00:51<00:24,  1.04it/s]\u001b[A\n",
      " 68%|██████▊   | 51/75 [00:52<00:23,  1.04it/s]\u001b[A\n",
      " 69%|██████▉   | 52/75 [00:53<00:21,  1.06it/s]\u001b[A\n",
      " 71%|███████   | 53/75 [00:54<00:21,  1.01it/s]\u001b[A\n",
      " 72%|███████▏  | 54/75 [00:55<00:21,  1.02s/it]\u001b[A\n",
      " 73%|███████▎  | 55/75 [00:56<00:20,  1.03s/it]\u001b[A\n",
      " 75%|███████▍  | 56/75 [00:57<00:19,  1.01s/it]\u001b[A\n",
      " 76%|███████▌  | 57/75 [00:58<00:18,  1.02s/it]\u001b[A\n",
      " 77%|███████▋  | 58/75 [00:59<00:17,  1.01s/it]\u001b[A\n",
      " 79%|███████▊  | 59/75 [01:00<00:16,  1.00s/it]\u001b[A\n",
      " 80%|████████  | 60/75 [01:01<00:17,  1.14s/it]\u001b[A\n",
      " 81%|████████▏ | 61/75 [01:03<00:15,  1.13s/it]\u001b[A\n",
      " 83%|████████▎ | 62/75 [01:04<00:14,  1.12s/it]\u001b[A\n",
      " 84%|████████▍ | 63/75 [01:05<00:13,  1.11s/it]\u001b[A\n",
      " 85%|████████▌ | 64/75 [01:06<00:12,  1.11s/it]\u001b[A\n",
      " 87%|████████▋ | 65/75 [01:07<00:10,  1.08s/it]\u001b[A\n",
      " 88%|████████▊ | 66/75 [01:08<00:09,  1.08s/it]\u001b[A\n",
      " 89%|████████▉ | 67/75 [01:09<00:08,  1.05s/it]\u001b[A\n",
      " 91%|█████████ | 68/75 [01:10<00:07,  1.02s/it]\u001b[A\n",
      " 92%|█████████▏| 69/75 [01:11<00:06,  1.04s/it]\u001b[A\n",
      " 93%|█████████▎| 70/75 [01:12<00:05,  1.06s/it]\u001b[A\n",
      " 95%|█████████▍| 71/75 [01:13<00:04,  1.03s/it]\u001b[A\n",
      " 96%|█████████▌| 72/75 [01:14<00:02,  1.02it/s]\u001b[A\n",
      " 97%|█████████▋| 73/75 [01:15<00:01,  1.05it/s]\u001b[A\n",
      " 99%|█████████▊| 74/75 [01:16<00:00,  1.06it/s]\u001b[A\n",
      "100%|██████████| 75/75 [01:17<00:00,  1.03s/it]\u001b[A\n"
     ]
    }
   ],
   "source": [
    "posrank_deepmatcher,flippedpos_deepmatcher = explainSamples(corrects_deepmatcher,[itunes,amazon],itunes_deepmatcher,predict_fn_deepmatcher,\n",
    "                                        1,4)"
   ]
  },
  {
   "cell_type": "code",
   "execution_count": 85,
   "metadata": {
    "ExecuteTime": {
     "end_time": "2020-06-06T09:39:21.710629Z",
     "start_time": "2020-06-06T09:39:21.406297Z"
    }
   },
   "outputs": [
    {
     "data": {
      "text/plain": [
       "<matplotlib.axes._subplots.AxesSubplot at 0x7f17503319d0>"
      ]
     },
     "execution_count": 85,
     "metadata": {},
     "output_type": "execute_result"
    },
    {
     "data": {
      "image/png": "[encoded data removed]",
      "text/plain": [
       "<Figure size 432x288 with 1 Axes>"
      ]
     },
     "metadata": {
      "needs_background": "light"
     },
     "output_type": "display_data"
    }
   ],
   "source": [
    "posrank_deeper[0:16].plot.barh(color='green',grid=True)"
   ]
  },
  {
   "cell_type": "code",
   "execution_count": 86,
   "metadata": {
    "ExecuteTime": {
     "end_time": "2020-06-06T09:39:33.670014Z",
     "start_time": "2020-06-06T09:39:33.369595Z"
    }
   },
   "outputs": [
    {
     "data": {
      "text/plain": [
       "<matplotlib.axes._subplots.AxesSubplot at 0x7f17704c6580>"
      ]
     },
     "execution_count": 86,
     "metadata": {},
     "output_type": "execute_result"
    },
    {
     "data": {
      "image/png": "[encoded data removed]",
      "text/plain": [
       "<Figure size 432x288 with 1 Axes>"
      ]
     },
     "metadata": {
      "needs_background": "light"
     },
     "output_type": "display_data"
    }
   ],
   "source": [
    "posrank_deepmatcher[0:16].plot.barh(color='green',grid=True)"
   ]
  },
  {
   "cell_type": "code",
   "execution_count": 87,
   "metadata": {
    "ExecuteTime": {
     "end_time": "2020-06-06T09:39:53.938786Z",
     "start_time": "2020-06-06T09:39:53.639997Z"
    }
   },
   "outputs": [
    {
     "data": {
      "text/plain": [
       "<matplotlib.axes._subplots.AxesSubplot at 0x7f177047cd00>"
      ]
     },
     "execution_count": 87,
     "metadata": {},
     "output_type": "execute_result"
    },
    {
     "data": {
      "image/png": "[encoded data removed]",
      "text/plain": [
       "<Figure size 432x288 with 1 Axes>"
      ]
     },
     "metadata": {
      "needs_background": "light"
     },
     "output_type": "display_data"
    }
   ],
   "source": [
    "negrank_deeper[0:16].plot.barh(color='red',grid=True)"
   ]
  },
  {
   "cell_type": "code",
   "execution_count": 89,
   "metadata": {
    "ExecuteTime": {
     "end_time": "2020-06-06T09:40:33.423327Z",
     "start_time": "2020-06-06T09:40:33.129542Z"
    }
   },
   "outputs": [
    {
     "data": {
      "text/plain": [
       "<matplotlib.axes._subplots.AxesSubplot at 0x7f17d02a44c0>"
      ]
     },
     "execution_count": 89,
     "metadata": {},
     "output_type": "execute_result"
    },
    {
     "data": {
      "image/png": "[encoded data removed]",
      "text/plain": [
       "<Figure size 432x288 with 1 Axes>"
      ]
     },
     "metadata": {
      "needs_background": "light"
     },
     "output_type": "display_data"
    }
   ],
   "source": [
    "negrank_deepmatcher[0:16].plot.barh(color='red',grid=True,xlim=(0,1))"
   ]
  },
  {
   "cell_type": "code",
   "execution_count": 90,
   "metadata": {
    "ExecuteTime": {
     "end_time": "2020-06-06T09:41:20.427490Z",
     "start_time": "2020-06-06T09:41:20.225537Z"
    }
   },
   "outputs": [],
   "source": [
    "saveExplanationResult('rankings/','deeper','itunes_amazon',posrank_deeper,negrank_deeper,flippedpos_deeper,\n",
    "                     flippedneg_deeper)"
   ]
  },
  {
   "cell_type": "code",
   "execution_count": 91,
   "metadata": {
    "ExecuteTime": {
     "end_time": "2020-06-06T09:41:54.983597Z",
     "start_time": "2020-06-06T09:41:54.793565Z"
    }
   },
   "outputs": [],
   "source": [
    "saveExplanationResult('rankings/','deepmatcher','itunes_amazon',posrank_deepmatcher,negrank_deepmatcher,\n",
    "                      flippedpos_deepmatcher,flippedneg_deepmatcher)"
   ]
  },
  {
   "cell_type": "markdown",
   "metadata": {},
   "source": [
    "## Geographical settlements"
   ]
  },
  {
   "cell_type": "code",
   "execution_count": 14,
   "metadata": {
    "ExecuteTime": {
     "end_time": "2020-06-06T12:27:05.855304Z",
     "start_time": "2020-06-06T12:27:05.807975Z"
    }
   },
   "outputs": [],
   "source": [
    "DATASET_DIR = 'datasets/GeographicSettlements/'"
   ]
  },
  {
   "cell_type": "code",
   "execution_count": 16,
   "metadata": {
    "ExecuteTime": {
     "end_time": "2020-06-06T12:27:18.173747Z",
     "start_time": "2020-06-06T12:27:18.091979Z"
    }
   },
   "outputs": [],
   "source": [
    "augmented_test = pd.read_csv(DATASET_DIR+'test.csv')\n",
    "lsource = pd.read_csv(DATASET_DIR+'settlements_reduced.csv',dtype=str)\n",
    "rsource = pd.read_csv(DATASET_DIR+'settlements_reduced.csv',dtype=str)"
   ]
  },
  {
   "cell_type": "code",
   "execution_count": 18,
   "metadata": {
    "ExecuteTime": {
     "end_time": "2020-06-06T12:28:31.041733Z",
     "start_time": "2020-06-06T12:28:26.800527Z"
    }
   },
   "outputs": [],
   "source": [
    "geography_deeper = load_model('models/DeepER_best_model_100_geography.h5')\n",
    "geography_deepmatcher = dm.MatchingModel(attr_summarizer='rnn')\n",
    "geography_deepmatcher.load_state('models/geographic_rnn.pth')"
   ]
  },
  {
   "cell_type": "code",
   "execution_count": 19,
   "metadata": {
    "ExecuteTime": {
     "end_time": "2020-06-06T12:29:12.716048Z",
     "start_time": "2020-06-06T12:29:11.162171Z"
    }
   },
   "outputs": [],
   "source": [
    "corrects_deeper = getCorrectPredictions(augmented_test,geography_deeper,predict_fn_deeper)"
   ]
  },
  {
   "cell_type": "code",
   "execution_count": 21,
   "metadata": {
    "ExecuteTime": {
     "end_time": "2020-06-06T12:30:19.891066Z",
     "start_time": "2020-06-06T12:30:06.338454Z"
    }
   },
   "outputs": [],
   "source": [
    "corrects_deepmatcher = getCorrectPredictions(augmented_test,geography_deepmatcher,predict_fn_deepmatcher)"
   ]
  },
  {
   "cell_type": "code",
   "execution_count": 20,
   "metadata": {
    "ExecuteTime": {
     "end_time": "2020-06-06T12:29:45.325876Z",
     "start_time": "2020-06-06T12:29:29.569953Z"
    }
   },
   "outputs": [
    {
     "name": "stderr",
     "output_type": "stream",
     "text": [
      "100%|██████████| 508/508 [00:14<00:00, 34.23it/s]\n"
     ]
    }
   ],
   "source": [
    "negrank_deeper,flippedneg_deeper = explainSamples(corrects_deeper,[lsource,rsource],geography_deeper,predict_fn_deeper,\n",
    "                                   0,3)"
   ]
  },
  {
   "cell_type": "code",
   "execution_count": 23,
   "metadata": {
    "ExecuteTime": {
     "end_time": "2020-06-06T12:33:13.496033Z",
     "start_time": "2020-06-06T12:30:59.779374Z"
    }
   },
   "outputs": [
    {
     "name": "stderr",
     "output_type": "stream",
     "text": [
      "100%|██████████| 522/522 [02:12<00:00,  3.93it/s]\n"
     ]
    }
   ],
   "source": [
    "negrank_deepmatcher,flippedneg_deepmatcher = explainSamples(corrects_deepmatcher,[lsource,rsource],geography_deepmatcher,\n",
    "                                                            predict_fn_deepmatcher,0,3)"
   ]
  },
  {
   "cell_type": "code",
   "execution_count": 24,
   "metadata": {
    "ExecuteTime": {
     "end_time": "2020-06-06T12:33:53.686983Z",
     "start_time": "2020-06-06T12:33:36.825760Z"
    }
   },
   "outputs": [
    {
     "name": "stderr",
     "output_type": "stream",
     "text": [
      "100%|██████████| 508/508 [00:15<00:00, 32.53it/s]\n"
     ]
    }
   ],
   "source": [
    "posrank_deeper,flippedpos_deeper = explainSamples(corrects_deeper,[lsource,rsource],geography_deeper,predict_fn_deeper,\n",
    "                                   1,3)"
   ]
  },
  {
   "cell_type": "code",
   "execution_count": 25,
   "metadata": {
    "ExecuteTime": {
     "end_time": "2020-06-06T12:36:19.564633Z",
     "start_time": "2020-06-06T12:34:21.345958Z"
    }
   },
   "outputs": [
    {
     "name": "stderr",
     "output_type": "stream",
     "text": [
      "100%|██████████| 522/522 [01:57<00:00,  4.45it/s]\n"
     ]
    }
   ],
   "source": [
    "posrank_deepmatcher,flippedpos_deepmatcher = explainSamples(corrects_deepmatcher,[lsource,rsource],geography_deepmatcher,\n",
    "                                                            predict_fn_deepmatcher,1,3)"
   ]
  },
  {
   "cell_type": "code",
   "execution_count": 26,
   "metadata": {
    "ExecuteTime": {
     "end_time": "2020-06-06T12:37:43.019521Z",
     "start_time": "2020-06-06T12:37:42.560875Z"
    }
   },
   "outputs": [
    {
     "data": {
      "text/plain": [
       "<matplotlib.axes._subplots.AxesSubplot at 0x7f62b4280040>"
      ]
     },
     "execution_count": 26,
     "metadata": {},
     "output_type": "execute_result"
    },
    {
     "data": {
      "image/png": "[encoded data removed]",
      "text/plain": [
       "<Figure size 432x288 with 1 Axes>"
      ]
     },
     "metadata": {
      "needs_background": "light"
     },
     "output_type": "display_data"
    }
   ],
   "source": [
    "negrank_deeper[0:12].plot.barh(color='red',grid=True,xlim=(0,1))"
   ]
  },
  {
   "cell_type": "code",
   "execution_count": 29,
   "metadata": {
    "ExecuteTime": {
     "end_time": "2020-06-06T12:38:41.452115Z",
     "start_time": "2020-06-06T12:38:41.176928Z"
    }
   },
   "outputs": [
    {
     "data": {
      "text/plain": [
       "<matplotlib.axes._subplots.AxesSubplot at 0x7f620c35ad00>"
      ]
     },
     "execution_count": 29,
     "metadata": {},
     "output_type": "execute_result"
    },
    {
     "data": {
      "image/png": "[encoded data removed]",
      "text/plain": [
       "<Figure size 432x288 with 1 Axes>"
      ]
     },
     "metadata": {
      "needs_background": "light"
     },
     "output_type": "display_data"
    }
   ],
   "source": [
    "negrank_deepmatcher[0:12].plot.barh(color='red',grid=True,xlim=(0,1))"
   ]
  },
  {
   "cell_type": "code",
   "execution_count": 28,
   "metadata": {
    "ExecuteTime": {
     "end_time": "2020-06-06T12:38:14.454179Z",
     "start_time": "2020-06-06T12:38:14.192472Z"
    }
   },
   "outputs": [
    {
     "data": {
      "text/plain": [
       "<matplotlib.axes._subplots.AxesSubplot at 0x7f620c3be310>"
      ]
     },
     "execution_count": 28,
     "metadata": {},
     "output_type": "execute_result"
    },
    {
     "data": {
      "image/png": "[encoded data removed]",
      "text/plain": [
       "<Figure size 432x288 with 1 Axes>"
      ]
     },
     "metadata": {
      "needs_background": "light"
     },
     "output_type": "display_data"
    }
   ],
   "source": [
    "posrank_deeper[0:12].plot.barh(color='green',grid=True,xlim=(0,1))"
   ]
  },
  {
   "cell_type": "code",
   "execution_count": 30,
   "metadata": {
    "ExecuteTime": {
     "end_time": "2020-06-06T12:39:00.487398Z",
     "start_time": "2020-06-06T12:39:00.224713Z"
    }
   },
   "outputs": [
    {
     "data": {
      "text/plain": [
       "<matplotlib.axes._subplots.AxesSubplot at 0x7f620c36d790>"
      ]
     },
     "execution_count": 30,
     "metadata": {},
     "output_type": "execute_result"
    },
    {
     "data": {
      "image/png": "[encoded data removed]",
      "text/plain": [
       "<Figure size 432x288 with 1 Axes>"
      ]
     },
     "metadata": {
      "needs_background": "light"
     },
     "output_type": "display_data"
    }
   ],
   "source": [
    "posrank_deepmatcher[0:12].plot.barh(color='green',grid=True,xlim=(0,1))"
   ]
  },
  {
   "cell_type": "code",
   "execution_count": 31,
   "metadata": {
    "ExecuteTime": {
     "end_time": "2020-06-06T12:39:41.632281Z",
     "start_time": "2020-06-06T12:39:41.489466Z"
    }
   },
   "outputs": [],
   "source": [
    "saveExplanationResult('rankings/','deeper','geography',posrank_deeper,negrank_deeper,flippedpos_deeper,\n",
    "                     flippedneg_deeper)"
   ]
  },
  {
   "cell_type": "code",
   "execution_count": 32,
   "metadata": {
    "ExecuteTime": {
     "end_time": "2020-06-06T12:40:18.276409Z",
     "start_time": "2020-06-06T12:40:18.137192Z"
    }
   },
   "outputs": [],
   "source": [
    "saveExplanationResult('rankings/','deepmatcher','geography',posrank_deepmatcher,negrank_deepmatcher,flippedpos_deepmatcher,\n",
    "                     flippedneg_deepmatcher)"
   ]
  },
  {
   "cell_type": "code",
   "execution_count": 34,
   "metadata": {
    "ExecuteTime": {
     "end_time": "2020-06-06T12:40:36.681125Z",
     "start_time": "2020-06-06T12:40:36.644132Z"
    }
   },
   "outputs": [
    {
     "data": {
      "text/plain": [
       "(label, lat, lon)         520\n",
       "(label, lat, ele)         518\n",
       "(label, lat, ontology)    518\n",
       "(label, lon, ontology)    518\n",
       "(label, lat)              518\n",
       "(label, lon, ele)         517\n",
       "(label, lon)              517\n",
       "(label, ontology)         512\n",
       "(label, ontology, ele)    512\n",
       "(label,)                  506\n",
       "(label, ele)              506\n",
       "(lat, lon, ontology)      162\n",
       "(lat, ontology, ele)      157\n",
       "(lat, ontology)           157\n",
       "(lon, ontology, ele)      156\n",
       "(lon, ontology)           156\n",
       "(ontology, ele)           155\n",
       "(ontology,)               155\n",
       "(lat, lon)                  8\n",
       "(lat, lon, ele)             8\n",
       "(lon, ele)                  4\n",
       "(lat,)                      4\n",
       "(lat, ele)                  4\n",
       "(lon,)                      4\n",
       "Name: alteredAttributes, dtype: int64"
      ]
     },
     "execution_count": 34,
     "metadata": {},
     "output_type": "execute_result"
    }
   ],
   "source": [
    "flippedpos_deepmatcher['alteredAttributes'].value_counts()"
   ]
  },
  {
   "cell_type": "code",
   "execution_count": null,
   "metadata": {},
   "outputs": [],
   "source": []
  }
 ],
 "metadata": {
  "kernelspec": {
   "display_name": "Python 3",
   "language": "python",
   "name": "python3"
  },
  "language_info": {
   "codemirror_mode": {
    "name": "ipython",
    "version": 3
   },
   "file_extension": ".py",
   "mimetype": "text/x-python",
   "name": "python",
   "nbconvert_exporter": "python",
   "pygments_lexer": "ipython3",
   "version": "3.8.1"
  },
  "toc": {
   "base_numbering": 1,
   "nav_menu": {},
   "number_sections": true,
   "sideBar": true,
   "skip_h1_title": false,
   "title_cell": "Table of Contents",
   "title_sidebar": "Contents",
   "toc_cell": false,
   "toc_position": {
    "height": "calc(100% - 180px)",
    "left": "10px",
    "top": "150px",
    "width": "349.063px"
   },
   "toc_section_display": true,
   "toc_window_display": true
  }
 },
 "nbformat": 4,
 "nbformat_minor": 4
}
